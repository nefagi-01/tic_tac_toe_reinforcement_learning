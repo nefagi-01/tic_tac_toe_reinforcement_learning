{
 "cells": [
  {
   "cell_type": "code",
   "execution_count": 6,
   "outputs": [
    {
     "name": "stdout",
     "output_type": "stream",
     "text": [
      "The autoreload extension is already loaded. To reload it, use:\n",
      "  %reload_ext autoreload\n"
     ]
    }
   ],
   "source": [
    "%load_ext autoreload\n",
    "%autoreload 2\n",
    "import numpy as np\n",
    "from tic_env import TictactoeEnv, OptimalPlayer\n",
    "from rl_algorithms import QPlayer"
   ],
   "metadata": {
    "collapsed": false,
    "pycharm": {
     "name": "#%%\n"
    }
   }
  },
  {
   "cell_type": "code",
   "execution_count": null,
   "outputs": [
    {
     "name": "stdout",
     "output_type": "stream",
     "text": [
      "Current episode: 0\n",
      "Current episode: 1000\n",
      "Current episode: 2000\n",
      "Current episode: 3000\n",
      "Current episode: 4000\n",
      "Current episode: 5000\n",
      "Current episode: 6000\n",
      "Current episode: 7000\n",
      "Current episode: 8000\n"
     ]
    }
   ],
   "source": [
    "n_episodes = 20000\n",
    "turns = np.array(['X','O'])\n",
    "\n",
    "q_player = QPlayer(0.05, 0.99, 0.2)\n",
    "env = TictactoeEnv()\n",
    "\n",
    "average_reward = 0\n",
    "rewards = []\n",
    "for episode in range(n_episodes):\n",
    "    if episode % 1000 == 0:\n",
    "        print('Current episode: %d' % episode)\n",
    "    env.reset()\n",
    "    grid, _, __ = env.observe()\n",
    "    other_player = OptimalPlayer(epsilon=0.5, player=turns[1])\n",
    "\n",
    "    for j in range(9):\n",
    "        if env.current_player == other_player.player:\n",
    "            move = other_player.act(grid)\n",
    "        else:\n",
    "            move = q_player.act(grid)\n",
    "\n",
    "        grid, end, winner = env.step(move, print_grid=False)\n",
    "        if env.current_player == other_player.player and not end:\n",
    "            q_player.learn(grid, 0, False)\n",
    "\n",
    "        if end:\n",
    "            reward = env.reward(turns[0])\n",
    "            average_reward += reward\n",
    "            q_player.learn(grid, reward, True)\n",
    "\n",
    "            if episode % 50 == 49:\n",
    "                average_reward /= 50\n",
    "                rewards.append(average_reward)\n",
    "                average_reward = 0\n",
    "\n",
    "            turns = turns[::-1]\n",
    "            break"
   ],
   "metadata": {
    "collapsed": false,
    "pycharm": {
     "name": "#%%\n",
     "is_executing": true
    }
   }
  },
  {
   "cell_type": "code",
   "execution_count": null,
   "outputs": [],
   "source": [],
   "metadata": {
    "collapsed": false,
    "pycharm": {
     "name": "#%%\n"
    }
   }
  }
 ],
 "metadata": {
  "kernelspec": {
   "display_name": "Python 3",
   "language": "python",
   "name": "python3"
  },
  "language_info": {
   "codemirror_mode": {
    "name": "ipython",
    "version": 2
   },
   "file_extension": ".py",
   "mimetype": "text/x-python",
   "name": "python",
   "nbconvert_exporter": "python",
   "pygments_lexer": "ipython2",
   "version": "2.7.6"
  }
 },
 "nbformat": 4,
 "nbformat_minor": 0
}