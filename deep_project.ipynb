{
 "cells": [
  {
   "cell_type": "code",
   "execution_count": 1,
   "metadata": {
    "collapsed": true
   },
   "outputs": [],
   "source": [
    "%load_ext autoreload\n",
    "%autoreload 2"
   ]
  },
  {
   "cell_type": "code",
   "execution_count": 2,
   "metadata": {
    "collapsed": false,
    "pycharm": {
     "name": "#%%\n"
    }
   },
   "outputs": [],
   "source": [
    "import numpy as np\n",
    "from tic_env import TictactoeEnv, OptimalPlayer\n",
    "from rl_algorithms import *\n",
    "from plots import *\n",
    "import matplotlib.pyplot as plt\n",
    "import plotly.express as px\n",
    "import plotly.graph_objects as go\n",
    "from tqdm import tqdm\n",
    "import pickle\n",
    "import random"
   ]
  },
  {
   "cell_type": "code",
   "execution_count": 3,
   "outputs": [],
   "source": [
    "# Set random seed\n",
    "torch.manual_seed(0)\n",
    "np.random.seed(0)\n",
    "random.seed(0)"
   ],
   "metadata": {
    "collapsed": false,
    "pycharm": {
     "name": "#%%\n"
    }
   }
  },
  {
   "cell_type": "markdown",
   "metadata": {
    "collapsed": false,
    "pycharm": {
     "name": "#%% md\n"
    }
   },
   "source": [
    "# 3.2 Learning from experts"
   ]
  },
  {
   "cell_type": "markdown",
   "metadata": {
    "collapsed": false,
    "pycharm": {
     "name": "#%% md\n"
    }
   },
   "source": [
    "### Question 11"
   ]
  },
  {
   "cell_type": "code",
   "execution_count": 19,
   "metadata": {
    "collapsed": false,
    "pycharm": {
     "name": "#%%\n"
    }
   },
   "outputs": [
    {
     "name": "stderr",
     "output_type": "stream",
     "text": [
      "100%|██████████| 20000/20000 [03:30<00:00, 94.93it/s] \n"
     ]
    }
   ],
   "source": [
    "n_episodes = 20000\n",
    "averaging_steps = 250\n",
    "update_steps = 500\n",
    "turns = np.array(['X','O'])\n",
    "\n",
    "q_player = DeepQPlayer(0.15)\n",
    "env = TictactoeEnv()\n",
    "\n",
    "rewards = []\n",
    "losses = []\n",
    "average_reward = 0.\n",
    "average_loss = []\n",
    "\n",
    "other_player = OptimalPlayer(epsilon=0.5, player=turns[1])\n",
    "x = []\n",
    "\n",
    "for episode in tqdm(range(n_episodes)):\n",
    "        # Play game\n",
    "        loss, reward = play_deep_game(env, q_player, other_player, turns, testing=False)\n",
    "        average_reward += reward\n",
    "        average_loss.extend(loss)\n",
    "\n",
    "        if episode % (update_steps-1) == 0:\n",
    "            q_player.update_target()\n",
    "\n",
    "        if episode % averaging_steps == averaging_steps - 1:\n",
    "            average_reward /= averaging_steps\n",
    "            rewards.append(average_reward)\n",
    "            losses.append(np.array(average_loss).mean())\n",
    "            average_reward = 0.\n",
    "            average_loss = []\n",
    "            x.append(episode)\n",
    "\n",
    "        # Change first player\n",
    "        turns = turns[::-1]"
   ]
  },
  {
   "cell_type": "code",
   "execution_count": 20,
   "metadata": {
    "collapsed": false,
    "pycharm": {
     "name": "#%%\n"
    }
   },
   "outputs": [
    {
     "data": {
      "application/vnd.plotly.v1+json": {
       "data": [
        {
         "mode": "lines",
         "x": [
          249,
          499,
          749,
          999,
          1249,
          1499,
          1749,
          1999,
          2249,
          2499,
          2749,
          2999,
          3249,
          3499,
          3749,
          3999,
          4249,
          4499,
          4749,
          4999,
          5249,
          5499,
          5749,
          5999,
          6249,
          6499,
          6749,
          6999,
          7249,
          7499,
          7749,
          7999,
          8249,
          8499,
          8749,
          8999,
          9249,
          9499,
          9749,
          9999,
          10249,
          10499,
          10749,
          10999,
          11249,
          11499,
          11749,
          11999,
          12249,
          12499,
          12749,
          12999,
          13249,
          13499,
          13749,
          13999,
          14249,
          14499,
          14749,
          14999,
          15249,
          15499,
          15749,
          15999,
          16249,
          16499,
          16749,
          16999,
          17249,
          17499,
          17749,
          17999,
          18249,
          18499,
          18749,
          18999,
          19249,
          19499,
          19749,
          19999
         ],
         "y": [
          -0.716,
          -0.448,
          -0.248,
          -0.056,
          0.172,
          0.2,
          0.248,
          0.34,
          0.268,
          0.276,
          0.332,
          0.32,
          0.3,
          0.404,
          0.304,
          0.312,
          0.288,
          0.336,
          0.3,
          0.372,
          0.368,
          0.324,
          0.388,
          0.336,
          0.364,
          0.32,
          0.34,
          0.404,
          0.484,
          0.356,
          0.456,
          0.36,
          0.46,
          0.528,
          0.316,
          0.388,
          0.388,
          0.456,
          0.328,
          0.292,
          0.448,
          0.436,
          0.44,
          0.404,
          0.404,
          0.44,
          0.324,
          0.372,
          0.344,
          0.376,
          0.456,
          0.416,
          0.44,
          0.468,
          0.488,
          0.476,
          0.288,
          0.4,
          0.448,
          0.464,
          0.44,
          0.368,
          0.368,
          0.412,
          0.452,
          0.332,
          0.404,
          0.432,
          0.384,
          0.428,
          0.412,
          0.468,
          0.436,
          0.432,
          0.424,
          0.424,
          0.396,
          0.444,
          0.368,
          0.36
         ],
         "type": "scatter"
        }
       ],
       "layout": {
        "template": {
         "data": {
          "histogram2dcontour": [
           {
            "type": "histogram2dcontour",
            "colorbar": {
             "outlinewidth": 0,
             "ticks": ""
            },
            "colorscale": [
             [
              0.0,
              "#0d0887"
             ],
             [
              0.1111111111111111,
              "#46039f"
             ],
             [
              0.2222222222222222,
              "#7201a8"
             ],
             [
              0.3333333333333333,
              "#9c179e"
             ],
             [
              0.4444444444444444,
              "#bd3786"
             ],
             [
              0.5555555555555556,
              "#d8576b"
             ],
             [
              0.6666666666666666,
              "#ed7953"
             ],
             [
              0.7777777777777778,
              "#fb9f3a"
             ],
             [
              0.8888888888888888,
              "#fdca26"
             ],
             [
              1.0,
              "#f0f921"
             ]
            ]
           }
          ],
          "choropleth": [
           {
            "type": "choropleth",
            "colorbar": {
             "outlinewidth": 0,
             "ticks": ""
            }
           }
          ],
          "histogram2d": [
           {
            "type": "histogram2d",
            "colorbar": {
             "outlinewidth": 0,
             "ticks": ""
            },
            "colorscale": [
             [
              0.0,
              "#0d0887"
             ],
             [
              0.1111111111111111,
              "#46039f"
             ],
             [
              0.2222222222222222,
              "#7201a8"
             ],
             [
              0.3333333333333333,
              "#9c179e"
             ],
             [
              0.4444444444444444,
              "#bd3786"
             ],
             [
              0.5555555555555556,
              "#d8576b"
             ],
             [
              0.6666666666666666,
              "#ed7953"
             ],
             [
              0.7777777777777778,
              "#fb9f3a"
             ],
             [
              0.8888888888888888,
              "#fdca26"
             ],
             [
              1.0,
              "#f0f921"
             ]
            ]
           }
          ],
          "heatmap": [
           {
            "type": "heatmap",
            "colorbar": {
             "outlinewidth": 0,
             "ticks": ""
            },
            "colorscale": [
             [
              0.0,
              "#0d0887"
             ],
             [
              0.1111111111111111,
              "#46039f"
             ],
             [
              0.2222222222222222,
              "#7201a8"
             ],
             [
              0.3333333333333333,
              "#9c179e"
             ],
             [
              0.4444444444444444,
              "#bd3786"
             ],
             [
              0.5555555555555556,
              "#d8576b"
             ],
             [
              0.6666666666666666,
              "#ed7953"
             ],
             [
              0.7777777777777778,
              "#fb9f3a"
             ],
             [
              0.8888888888888888,
              "#fdca26"
             ],
             [
              1.0,
              "#f0f921"
             ]
            ]
           }
          ],
          "heatmapgl": [
           {
            "type": "heatmapgl",
            "colorbar": {
             "outlinewidth": 0,
             "ticks": ""
            },
            "colorscale": [
             [
              0.0,
              "#0d0887"
             ],
             [
              0.1111111111111111,
              "#46039f"
             ],
             [
              0.2222222222222222,
              "#7201a8"
             ],
             [
              0.3333333333333333,
              "#9c179e"
             ],
             [
              0.4444444444444444,
              "#bd3786"
             ],
             [
              0.5555555555555556,
              "#d8576b"
             ],
             [
              0.6666666666666666,
              "#ed7953"
             ],
             [
              0.7777777777777778,
              "#fb9f3a"
             ],
             [
              0.8888888888888888,
              "#fdca26"
             ],
             [
              1.0,
              "#f0f921"
             ]
            ]
           }
          ],
          "contourcarpet": [
           {
            "type": "contourcarpet",
            "colorbar": {
             "outlinewidth": 0,
             "ticks": ""
            }
           }
          ],
          "contour": [
           {
            "type": "contour",
            "colorbar": {
             "outlinewidth": 0,
             "ticks": ""
            },
            "colorscale": [
             [
              0.0,
              "#0d0887"
             ],
             [
              0.1111111111111111,
              "#46039f"
             ],
             [
              0.2222222222222222,
              "#7201a8"
             ],
             [
              0.3333333333333333,
              "#9c179e"
             ],
             [
              0.4444444444444444,
              "#bd3786"
             ],
             [
              0.5555555555555556,
              "#d8576b"
             ],
             [
              0.6666666666666666,
              "#ed7953"
             ],
             [
              0.7777777777777778,
              "#fb9f3a"
             ],
             [
              0.8888888888888888,
              "#fdca26"
             ],
             [
              1.0,
              "#f0f921"
             ]
            ]
           }
          ],
          "surface": [
           {
            "type": "surface",
            "colorbar": {
             "outlinewidth": 0,
             "ticks": ""
            },
            "colorscale": [
             [
              0.0,
              "#0d0887"
             ],
             [
              0.1111111111111111,
              "#46039f"
             ],
             [
              0.2222222222222222,
              "#7201a8"
             ],
             [
              0.3333333333333333,
              "#9c179e"
             ],
             [
              0.4444444444444444,
              "#bd3786"
             ],
             [
              0.5555555555555556,
              "#d8576b"
             ],
             [
              0.6666666666666666,
              "#ed7953"
             ],
             [
              0.7777777777777778,
              "#fb9f3a"
             ],
             [
              0.8888888888888888,
              "#fdca26"
             ],
             [
              1.0,
              "#f0f921"
             ]
            ]
           }
          ],
          "mesh3d": [
           {
            "type": "mesh3d",
            "colorbar": {
             "outlinewidth": 0,
             "ticks": ""
            }
           }
          ],
          "scatter": [
           {
            "fillpattern": {
             "fillmode": "overlay",
             "size": 10,
             "solidity": 0.2
            },
            "type": "scatter"
           }
          ],
          "parcoords": [
           {
            "type": "parcoords",
            "line": {
             "colorbar": {
              "outlinewidth": 0,
              "ticks": ""
             }
            }
           }
          ],
          "scatterpolargl": [
           {
            "type": "scatterpolargl",
            "marker": {
             "colorbar": {
              "outlinewidth": 0,
              "ticks": ""
             }
            }
           }
          ],
          "bar": [
           {
            "error_x": {
             "color": "#2a3f5f"
            },
            "error_y": {
             "color": "#2a3f5f"
            },
            "marker": {
             "line": {
              "color": "#E5ECF6",
              "width": 0.5
             },
             "pattern": {
              "fillmode": "overlay",
              "size": 10,
              "solidity": 0.2
             }
            },
            "type": "bar"
           }
          ],
          "scattergeo": [
           {
            "type": "scattergeo",
            "marker": {
             "colorbar": {
              "outlinewidth": 0,
              "ticks": ""
             }
            }
           }
          ],
          "scatterpolar": [
           {
            "type": "scatterpolar",
            "marker": {
             "colorbar": {
              "outlinewidth": 0,
              "ticks": ""
             }
            }
           }
          ],
          "histogram": [
           {
            "marker": {
             "pattern": {
              "fillmode": "overlay",
              "size": 10,
              "solidity": 0.2
             }
            },
            "type": "histogram"
           }
          ],
          "scattergl": [
           {
            "type": "scattergl",
            "marker": {
             "colorbar": {
              "outlinewidth": 0,
              "ticks": ""
             }
            }
           }
          ],
          "scatter3d": [
           {
            "type": "scatter3d",
            "line": {
             "colorbar": {
              "outlinewidth": 0,
              "ticks": ""
             }
            },
            "marker": {
             "colorbar": {
              "outlinewidth": 0,
              "ticks": ""
             }
            }
           }
          ],
          "scattermapbox": [
           {
            "type": "scattermapbox",
            "marker": {
             "colorbar": {
              "outlinewidth": 0,
              "ticks": ""
             }
            }
           }
          ],
          "scatterternary": [
           {
            "type": "scatterternary",
            "marker": {
             "colorbar": {
              "outlinewidth": 0,
              "ticks": ""
             }
            }
           }
          ],
          "scattercarpet": [
           {
            "type": "scattercarpet",
            "marker": {
             "colorbar": {
              "outlinewidth": 0,
              "ticks": ""
             }
            }
           }
          ],
          "carpet": [
           {
            "aaxis": {
             "endlinecolor": "#2a3f5f",
             "gridcolor": "white",
             "linecolor": "white",
             "minorgridcolor": "white",
             "startlinecolor": "#2a3f5f"
            },
            "baxis": {
             "endlinecolor": "#2a3f5f",
             "gridcolor": "white",
             "linecolor": "white",
             "minorgridcolor": "white",
             "startlinecolor": "#2a3f5f"
            },
            "type": "carpet"
           }
          ],
          "table": [
           {
            "cells": {
             "fill": {
              "color": "#EBF0F8"
             },
             "line": {
              "color": "white"
             }
            },
            "header": {
             "fill": {
              "color": "#C8D4E3"
             },
             "line": {
              "color": "white"
             }
            },
            "type": "table"
           }
          ],
          "barpolar": [
           {
            "marker": {
             "line": {
              "color": "#E5ECF6",
              "width": 0.5
             },
             "pattern": {
              "fillmode": "overlay",
              "size": 10,
              "solidity": 0.2
             }
            },
            "type": "barpolar"
           }
          ],
          "pie": [
           {
            "automargin": true,
            "type": "pie"
           }
          ]
         },
         "layout": {
          "autotypenumbers": "strict",
          "colorway": [
           "#636efa",
           "#EF553B",
           "#00cc96",
           "#ab63fa",
           "#FFA15A",
           "#19d3f3",
           "#FF6692",
           "#B6E880",
           "#FF97FF",
           "#FECB52"
          ],
          "font": {
           "color": "#2a3f5f"
          },
          "hovermode": "closest",
          "hoverlabel": {
           "align": "left"
          },
          "paper_bgcolor": "white",
          "plot_bgcolor": "#E5ECF6",
          "polar": {
           "bgcolor": "#E5ECF6",
           "angularaxis": {
            "gridcolor": "white",
            "linecolor": "white",
            "ticks": ""
           },
           "radialaxis": {
            "gridcolor": "white",
            "linecolor": "white",
            "ticks": ""
           }
          },
          "ternary": {
           "bgcolor": "#E5ECF6",
           "aaxis": {
            "gridcolor": "white",
            "linecolor": "white",
            "ticks": ""
           },
           "baxis": {
            "gridcolor": "white",
            "linecolor": "white",
            "ticks": ""
           },
           "caxis": {
            "gridcolor": "white",
            "linecolor": "white",
            "ticks": ""
           }
          },
          "coloraxis": {
           "colorbar": {
            "outlinewidth": 0,
            "ticks": ""
           }
          },
          "colorscale": {
           "sequential": [
            [
             0.0,
             "#0d0887"
            ],
            [
             0.1111111111111111,
             "#46039f"
            ],
            [
             0.2222222222222222,
             "#7201a8"
            ],
            [
             0.3333333333333333,
             "#9c179e"
            ],
            [
             0.4444444444444444,
             "#bd3786"
            ],
            [
             0.5555555555555556,
             "#d8576b"
            ],
            [
             0.6666666666666666,
             "#ed7953"
            ],
            [
             0.7777777777777778,
             "#fb9f3a"
            ],
            [
             0.8888888888888888,
             "#fdca26"
            ],
            [
             1.0,
             "#f0f921"
            ]
           ],
           "sequentialminus": [
            [
             0.0,
             "#0d0887"
            ],
            [
             0.1111111111111111,
             "#46039f"
            ],
            [
             0.2222222222222222,
             "#7201a8"
            ],
            [
             0.3333333333333333,
             "#9c179e"
            ],
            [
             0.4444444444444444,
             "#bd3786"
            ],
            [
             0.5555555555555556,
             "#d8576b"
            ],
            [
             0.6666666666666666,
             "#ed7953"
            ],
            [
             0.7777777777777778,
             "#fb9f3a"
            ],
            [
             0.8888888888888888,
             "#fdca26"
            ],
            [
             1.0,
             "#f0f921"
            ]
           ],
           "diverging": [
            [
             0,
             "#8e0152"
            ],
            [
             0.1,
             "#c51b7d"
            ],
            [
             0.2,
             "#de77ae"
            ],
            [
             0.3,
             "#f1b6da"
            ],
            [
             0.4,
             "#fde0ef"
            ],
            [
             0.5,
             "#f7f7f7"
            ],
            [
             0.6,
             "#e6f5d0"
            ],
            [
             0.7,
             "#b8e186"
            ],
            [
             0.8,
             "#7fbc41"
            ],
            [
             0.9,
             "#4d9221"
            ],
            [
             1,
             "#276419"
            ]
           ]
          },
          "xaxis": {
           "gridcolor": "white",
           "linecolor": "white",
           "ticks": "",
           "title": {
            "standoff": 15
           },
           "zerolinecolor": "white",
           "automargin": true,
           "zerolinewidth": 2
          },
          "yaxis": {
           "gridcolor": "white",
           "linecolor": "white",
           "ticks": "",
           "title": {
            "standoff": 15
           },
           "zerolinecolor": "white",
           "automargin": true,
           "zerolinewidth": 2
          },
          "scene": {
           "xaxis": {
            "backgroundcolor": "#E5ECF6",
            "gridcolor": "white",
            "linecolor": "white",
            "showbackground": true,
            "ticks": "",
            "zerolinecolor": "white",
            "gridwidth": 2
           },
           "yaxis": {
            "backgroundcolor": "#E5ECF6",
            "gridcolor": "white",
            "linecolor": "white",
            "showbackground": true,
            "ticks": "",
            "zerolinecolor": "white",
            "gridwidth": 2
           },
           "zaxis": {
            "backgroundcolor": "#E5ECF6",
            "gridcolor": "white",
            "linecolor": "white",
            "showbackground": true,
            "ticks": "",
            "zerolinecolor": "white",
            "gridwidth": 2
           }
          },
          "shapedefaults": {
           "line": {
            "color": "#2a3f5f"
           }
          },
          "annotationdefaults": {
           "arrowcolor": "#2a3f5f",
           "arrowhead": 0,
           "arrowwidth": 1
          },
          "geo": {
           "bgcolor": "white",
           "landcolor": "#E5ECF6",
           "subunitcolor": "white",
           "showland": true,
           "showlakes": true,
           "lakecolor": "white"
          },
          "title": {
           "x": 0.05
          },
          "mapbox": {
           "style": "light"
          }
         }
        },
        "title": {
         "text": "$\\text{Average reward for every 250 games - }\\epsilon_{opt}=0.5$"
        },
        "xaxis": {
         "title": {
          "text": "$game$"
         }
        },
        "yaxis": {
         "title": {
          "text": "$average(reward)\\text{- 250 games}$"
         }
        }
       },
       "config": {
        "plotlyServerURL": "https://plot.ly"
       }
      },
      "text/html": "<div>                            <div id=\"c489687c-076c-4ab2-bd56-849b5cf86f0f\" class=\"plotly-graph-div\" style=\"height:525px; width:100%;\"></div>            <script type=\"text/javascript\">                require([\"plotly\"], function(Plotly) {                    window.PLOTLYENV=window.PLOTLYENV || {};                                    if (document.getElementById(\"c489687c-076c-4ab2-bd56-849b5cf86f0f\")) {                    Plotly.newPlot(                        \"c489687c-076c-4ab2-bd56-849b5cf86f0f\",                        [{\"mode\":\"lines\",\"x\":[249,499,749,999,1249,1499,1749,1999,2249,2499,2749,2999,3249,3499,3749,3999,4249,4499,4749,4999,5249,5499,5749,5999,6249,6499,6749,6999,7249,7499,7749,7999,8249,8499,8749,8999,9249,9499,9749,9999,10249,10499,10749,10999,11249,11499,11749,11999,12249,12499,12749,12999,13249,13499,13749,13999,14249,14499,14749,14999,15249,15499,15749,15999,16249,16499,16749,16999,17249,17499,17749,17999,18249,18499,18749,18999,19249,19499,19749,19999],\"y\":[-0.716,-0.448,-0.248,-0.056,0.172,0.2,0.248,0.34,0.268,0.276,0.332,0.32,0.3,0.404,0.304,0.312,0.288,0.336,0.3,0.372,0.368,0.324,0.388,0.336,0.364,0.32,0.34,0.404,0.484,0.356,0.456,0.36,0.46,0.528,0.316,0.388,0.388,0.456,0.328,0.292,0.448,0.436,0.44,0.404,0.404,0.44,0.324,0.372,0.344,0.376,0.456,0.416,0.44,0.468,0.488,0.476,0.288,0.4,0.448,0.464,0.44,0.368,0.368,0.412,0.452,0.332,0.404,0.432,0.384,0.428,0.412,0.468,0.436,0.432,0.424,0.424,0.396,0.444,0.368,0.36],\"type\":\"scatter\"}],                        {\"template\":{\"data\":{\"histogram2dcontour\":[{\"type\":\"histogram2dcontour\",\"colorbar\":{\"outlinewidth\":0,\"ticks\":\"\"},\"colorscale\":[[0.0,\"#0d0887\"],[0.1111111111111111,\"#46039f\"],[0.2222222222222222,\"#7201a8\"],[0.3333333333333333,\"#9c179e\"],[0.4444444444444444,\"#bd3786\"],[0.5555555555555556,\"#d8576b\"],[0.6666666666666666,\"#ed7953\"],[0.7777777777777778,\"#fb9f3a\"],[0.8888888888888888,\"#fdca26\"],[1.0,\"#f0f921\"]]}],\"choropleth\":[{\"type\":\"choropleth\",\"colorbar\":{\"outlinewidth\":0,\"ticks\":\"\"}}],\"histogram2d\":[{\"type\":\"histogram2d\",\"colorbar\":{\"outlinewidth\":0,\"ticks\":\"\"},\"colorscale\":[[0.0,\"#0d0887\"],[0.1111111111111111,\"#46039f\"],[0.2222222222222222,\"#7201a8\"],[0.3333333333333333,\"#9c179e\"],[0.4444444444444444,\"#bd3786\"],[0.5555555555555556,\"#d8576b\"],[0.6666666666666666,\"#ed7953\"],[0.7777777777777778,\"#fb9f3a\"],[0.8888888888888888,\"#fdca26\"],[1.0,\"#f0f921\"]]}],\"heatmap\":[{\"type\":\"heatmap\",\"colorbar\":{\"outlinewidth\":0,\"ticks\":\"\"},\"colorscale\":[[0.0,\"#0d0887\"],[0.1111111111111111,\"#46039f\"],[0.2222222222222222,\"#7201a8\"],[0.3333333333333333,\"#9c179e\"],[0.4444444444444444,\"#bd3786\"],[0.5555555555555556,\"#d8576b\"],[0.6666666666666666,\"#ed7953\"],[0.7777777777777778,\"#fb9f3a\"],[0.8888888888888888,\"#fdca26\"],[1.0,\"#f0f921\"]]}],\"heatmapgl\":[{\"type\":\"heatmapgl\",\"colorbar\":{\"outlinewidth\":0,\"ticks\":\"\"},\"colorscale\":[[0.0,\"#0d0887\"],[0.1111111111111111,\"#46039f\"],[0.2222222222222222,\"#7201a8\"],[0.3333333333333333,\"#9c179e\"],[0.4444444444444444,\"#bd3786\"],[0.5555555555555556,\"#d8576b\"],[0.6666666666666666,\"#ed7953\"],[0.7777777777777778,\"#fb9f3a\"],[0.8888888888888888,\"#fdca26\"],[1.0,\"#f0f921\"]]}],\"contourcarpet\":[{\"type\":\"contourcarpet\",\"colorbar\":{\"outlinewidth\":0,\"ticks\":\"\"}}],\"contour\":[{\"type\":\"contour\",\"colorbar\":{\"outlinewidth\":0,\"ticks\":\"\"},\"colorscale\":[[0.0,\"#0d0887\"],[0.1111111111111111,\"#46039f\"],[0.2222222222222222,\"#7201a8\"],[0.3333333333333333,\"#9c179e\"],[0.4444444444444444,\"#bd3786\"],[0.5555555555555556,\"#d8576b\"],[0.6666666666666666,\"#ed7953\"],[0.7777777777777778,\"#fb9f3a\"],[0.8888888888888888,\"#fdca26\"],[1.0,\"#f0f921\"]]}],\"surface\":[{\"type\":\"surface\",\"colorbar\":{\"outlinewidth\":0,\"ticks\":\"\"},\"colorscale\":[[0.0,\"#0d0887\"],[0.1111111111111111,\"#46039f\"],[0.2222222222222222,\"#7201a8\"],[0.3333333333333333,\"#9c179e\"],[0.4444444444444444,\"#bd3786\"],[0.5555555555555556,\"#d8576b\"],[0.6666666666666666,\"#ed7953\"],[0.7777777777777778,\"#fb9f3a\"],[0.8888888888888888,\"#fdca26\"],[1.0,\"#f0f921\"]]}],\"mesh3d\":[{\"type\":\"mesh3d\",\"colorbar\":{\"outlinewidth\":0,\"ticks\":\"\"}}],\"scatter\":[{\"fillpattern\":{\"fillmode\":\"overlay\",\"size\":10,\"solidity\":0.2},\"type\":\"scatter\"}],\"parcoords\":[{\"type\":\"parcoords\",\"line\":{\"colorbar\":{\"outlinewidth\":0,\"ticks\":\"\"}}}],\"scatterpolargl\":[{\"type\":\"scatterpolargl\",\"marker\":{\"colorbar\":{\"outlinewidth\":0,\"ticks\":\"\"}}}],\"bar\":[{\"error_x\":{\"color\":\"#2a3f5f\"},\"error_y\":{\"color\":\"#2a3f5f\"},\"marker\":{\"line\":{\"color\":\"#E5ECF6\",\"width\":0.5},\"pattern\":{\"fillmode\":\"overlay\",\"size\":10,\"solidity\":0.2}},\"type\":\"bar\"}],\"scattergeo\":[{\"type\":\"scattergeo\",\"marker\":{\"colorbar\":{\"outlinewidth\":0,\"ticks\":\"\"}}}],\"scatterpolar\":[{\"type\":\"scatterpolar\",\"marker\":{\"colorbar\":{\"outlinewidth\":0,\"ticks\":\"\"}}}],\"histogram\":[{\"marker\":{\"pattern\":{\"fillmode\":\"overlay\",\"size\":10,\"solidity\":0.2}},\"type\":\"histogram\"}],\"scattergl\":[{\"type\":\"scattergl\",\"marker\":{\"colorbar\":{\"outlinewidth\":0,\"ticks\":\"\"}}}],\"scatter3d\":[{\"type\":\"scatter3d\",\"line\":{\"colorbar\":{\"outlinewidth\":0,\"ticks\":\"\"}},\"marker\":{\"colorbar\":{\"outlinewidth\":0,\"ticks\":\"\"}}}],\"scattermapbox\":[{\"type\":\"scattermapbox\",\"marker\":{\"colorbar\":{\"outlinewidth\":0,\"ticks\":\"\"}}}],\"scatterternary\":[{\"type\":\"scatterternary\",\"marker\":{\"colorbar\":{\"outlinewidth\":0,\"ticks\":\"\"}}}],\"scattercarpet\":[{\"type\":\"scattercarpet\",\"marker\":{\"colorbar\":{\"outlinewidth\":0,\"ticks\":\"\"}}}],\"carpet\":[{\"aaxis\":{\"endlinecolor\":\"#2a3f5f\",\"gridcolor\":\"white\",\"linecolor\":\"white\",\"minorgridcolor\":\"white\",\"startlinecolor\":\"#2a3f5f\"},\"baxis\":{\"endlinecolor\":\"#2a3f5f\",\"gridcolor\":\"white\",\"linecolor\":\"white\",\"minorgridcolor\":\"white\",\"startlinecolor\":\"#2a3f5f\"},\"type\":\"carpet\"}],\"table\":[{\"cells\":{\"fill\":{\"color\":\"#EBF0F8\"},\"line\":{\"color\":\"white\"}},\"header\":{\"fill\":{\"color\":\"#C8D4E3\"},\"line\":{\"color\":\"white\"}},\"type\":\"table\"}],\"barpolar\":[{\"marker\":{\"line\":{\"color\":\"#E5ECF6\",\"width\":0.5},\"pattern\":{\"fillmode\":\"overlay\",\"size\":10,\"solidity\":0.2}},\"type\":\"barpolar\"}],\"pie\":[{\"automargin\":true,\"type\":\"pie\"}]},\"layout\":{\"autotypenumbers\":\"strict\",\"colorway\":[\"#636efa\",\"#EF553B\",\"#00cc96\",\"#ab63fa\",\"#FFA15A\",\"#19d3f3\",\"#FF6692\",\"#B6E880\",\"#FF97FF\",\"#FECB52\"],\"font\":{\"color\":\"#2a3f5f\"},\"hovermode\":\"closest\",\"hoverlabel\":{\"align\":\"left\"},\"paper_bgcolor\":\"white\",\"plot_bgcolor\":\"#E5ECF6\",\"polar\":{\"bgcolor\":\"#E5ECF6\",\"angularaxis\":{\"gridcolor\":\"white\",\"linecolor\":\"white\",\"ticks\":\"\"},\"radialaxis\":{\"gridcolor\":\"white\",\"linecolor\":\"white\",\"ticks\":\"\"}},\"ternary\":{\"bgcolor\":\"#E5ECF6\",\"aaxis\":{\"gridcolor\":\"white\",\"linecolor\":\"white\",\"ticks\":\"\"},\"baxis\":{\"gridcolor\":\"white\",\"linecolor\":\"white\",\"ticks\":\"\"},\"caxis\":{\"gridcolor\":\"white\",\"linecolor\":\"white\",\"ticks\":\"\"}},\"coloraxis\":{\"colorbar\":{\"outlinewidth\":0,\"ticks\":\"\"}},\"colorscale\":{\"sequential\":[[0.0,\"#0d0887\"],[0.1111111111111111,\"#46039f\"],[0.2222222222222222,\"#7201a8\"],[0.3333333333333333,\"#9c179e\"],[0.4444444444444444,\"#bd3786\"],[0.5555555555555556,\"#d8576b\"],[0.6666666666666666,\"#ed7953\"],[0.7777777777777778,\"#fb9f3a\"],[0.8888888888888888,\"#fdca26\"],[1.0,\"#f0f921\"]],\"sequentialminus\":[[0.0,\"#0d0887\"],[0.1111111111111111,\"#46039f\"],[0.2222222222222222,\"#7201a8\"],[0.3333333333333333,\"#9c179e\"],[0.4444444444444444,\"#bd3786\"],[0.5555555555555556,\"#d8576b\"],[0.6666666666666666,\"#ed7953\"],[0.7777777777777778,\"#fb9f3a\"],[0.8888888888888888,\"#fdca26\"],[1.0,\"#f0f921\"]],\"diverging\":[[0,\"#8e0152\"],[0.1,\"#c51b7d\"],[0.2,\"#de77ae\"],[0.3,\"#f1b6da\"],[0.4,\"#fde0ef\"],[0.5,\"#f7f7f7\"],[0.6,\"#e6f5d0\"],[0.7,\"#b8e186\"],[0.8,\"#7fbc41\"],[0.9,\"#4d9221\"],[1,\"#276419\"]]},\"xaxis\":{\"gridcolor\":\"white\",\"linecolor\":\"white\",\"ticks\":\"\",\"title\":{\"standoff\":15},\"zerolinecolor\":\"white\",\"automargin\":true,\"zerolinewidth\":2},\"yaxis\":{\"gridcolor\":\"white\",\"linecolor\":\"white\",\"ticks\":\"\",\"title\":{\"standoff\":15},\"zerolinecolor\":\"white\",\"automargin\":true,\"zerolinewidth\":2},\"scene\":{\"xaxis\":{\"backgroundcolor\":\"#E5ECF6\",\"gridcolor\":\"white\",\"linecolor\":\"white\",\"showbackground\":true,\"ticks\":\"\",\"zerolinecolor\":\"white\",\"gridwidth\":2},\"yaxis\":{\"backgroundcolor\":\"#E5ECF6\",\"gridcolor\":\"white\",\"linecolor\":\"white\",\"showbackground\":true,\"ticks\":\"\",\"zerolinecolor\":\"white\",\"gridwidth\":2},\"zaxis\":{\"backgroundcolor\":\"#E5ECF6\",\"gridcolor\":\"white\",\"linecolor\":\"white\",\"showbackground\":true,\"ticks\":\"\",\"zerolinecolor\":\"white\",\"gridwidth\":2}},\"shapedefaults\":{\"line\":{\"color\":\"#2a3f5f\"}},\"annotationdefaults\":{\"arrowcolor\":\"#2a3f5f\",\"arrowhead\":0,\"arrowwidth\":1},\"geo\":{\"bgcolor\":\"white\",\"landcolor\":\"#E5ECF6\",\"subunitcolor\":\"white\",\"showland\":true,\"showlakes\":true,\"lakecolor\":\"white\"},\"title\":{\"x\":0.05},\"mapbox\":{\"style\":\"light\"}}},\"title\":{\"text\":\"$\\\\text{Average reward for every 250 games - }\\\\epsilon_{opt}=0.5$\"},\"xaxis\":{\"title\":{\"text\":\"$game$\"}},\"yaxis\":{\"title\":{\"text\":\"$average(reward)\\\\text{- 250 games}$\"}}},                        {\"responsive\": true}                    ).then(function(){\n                            \nvar gd = document.getElementById('c489687c-076c-4ab2-bd56-849b5cf86f0f');\nvar x = new MutationObserver(function (mutations, observer) {{\n        var display = window.getComputedStyle(gd).display;\n        if (!display || display === 'none') {{\n            console.log([gd, 'removed!']);\n            Plotly.purge(gd);\n            observer.disconnect();\n        }}\n}});\n\n// Listen for the removal of the full notebook cells\nvar notebookContainer = gd.closest('#notebook-container');\nif (notebookContainer) {{\n    x.observe(notebookContainer, {childList: true});\n}}\n\n// Listen for the clearing of the current output cell\nvar outputEl = gd.closest('.output');\nif (outputEl) {{\n    x.observe(outputEl, {childList: true});\n}}\n\n                        })                };                });            </script>        </div>"
     },
     "metadata": {},
     "output_type": "display_data"
    }
   ],
   "source": [
    "fig = go.Figure()\n",
    "\n",
    "fig.add_trace(go.Scatter(x=x, y=rewards, mode='lines'))\n",
    "\n",
    "fig.update_layout(\n",
    "    title=r'$\\text{Average reward for every %d games - }\\epsilon_{opt}=0.5$' % averaging_steps,\n",
    "    xaxis_title=r'$game$',\n",
    "    yaxis_title=r'$average(reward)\\text{- %d games}$' % (averaging_steps),\n",
    ")\n",
    "\n",
    "fig.show()"
   ]
  },
  {
   "cell_type": "code",
   "execution_count": 21,
   "metadata": {
    "collapsed": false,
    "pycharm": {
     "name": "#%%\n"
    }
   },
   "outputs": [
    {
     "data": {
      "application/vnd.plotly.v1+json": {
       "data": [
        {
         "mode": "lines",
         "x": [
          249,
          499,
          749,
          999,
          1249,
          1499,
          1749,
          1999,
          2249,
          2499,
          2749,
          2999,
          3249,
          3499,
          3749,
          3999,
          4249,
          4499,
          4749,
          4999,
          5249,
          5499,
          5749,
          5999,
          6249,
          6499,
          6749,
          6999,
          7249,
          7499,
          7749,
          7999,
          8249,
          8499,
          8749,
          8999,
          9249,
          9499,
          9749,
          9999,
          10249,
          10499,
          10749,
          10999,
          11249,
          11499,
          11749,
          11999,
          12249,
          12499,
          12749,
          12999,
          13249,
          13499,
          13749,
          13999,
          14249,
          14499,
          14749,
          14999,
          15249,
          15499,
          15749,
          15999,
          16249,
          16499,
          16749,
          16999,
          17249,
          17499,
          17749,
          17999,
          18249,
          18499,
          18749,
          18999,
          19249,
          19499,
          19749,
          19999
         ],
         "y": [
          0.039920539340415624,
          0.031566800170139166,
          0.04630825133088914,
          0.04177342581761906,
          0.05379081842247784,
          0.04965890336305447,
          0.057189880543850435,
          0.054089110205101654,
          0.06159501773742052,
          0.05916306917928567,
          0.05812204164245086,
          0.05557818499379558,
          0.05082679585349269,
          0.048224694648620586,
          0.04570125722028762,
          0.045434573441784296,
          0.05079110291273518,
          0.04934668213875725,
          0.04582070980953877,
          0.04358234397446779,
          0.04539795693121532,
          0.04489473443542162,
          0.042032224561809994,
          0.04086658735322528,
          0.043718718980072124,
          0.044567770162546955,
          0.0467271081959972,
          0.04595079392584789,
          0.044634164629680256,
          0.04448588696507791,
          0.04227578095412267,
          0.04201557020187602,
          0.042235247070645056,
          0.0413117610422667,
          0.040302042580672305,
          0.03901331716459611,
          0.040356225405123757,
          0.04058288228224943,
          0.0396584269117913,
          0.03953776327753893,
          0.04294527919889798,
          0.04093764560918013,
          0.04302689876764062,
          0.041553531015820024,
          0.03841926879002347,
          0.03819515843086107,
          0.04217599410475771,
          0.043315454060606405,
          0.04113066642392407,
          0.04102242947653497,
          0.042544633508832363,
          0.04032030916808407,
          0.04061640762643088,
          0.040492397113483354,
          0.03962690595302313,
          0.03894780152160855,
          0.04079124769796767,
          0.0387288145790983,
          0.03941590549845511,
          0.039542134216867406,
          0.039515085567325574,
          0.03962322696041997,
          0.04128202586737159,
          0.03939376836011048,
          0.03898774479153275,
          0.0377669685963577,
          0.04156847962482004,
          0.04006766075306319,
          0.040545933509210985,
          0.040759724346967466,
          0.0402982179303599,
          0.038614744326494616,
          0.038087586084691843,
          0.03707470587077173,
          0.03728321675195522,
          0.037237538423778166,
          0.03710802647061725,
          0.037362313922395675,
          0.03708001184006217,
          0.037991734251224575
         ],
         "type": "scatter"
        }
       ],
       "layout": {
        "template": {
         "data": {
          "histogram2dcontour": [
           {
            "type": "histogram2dcontour",
            "colorbar": {
             "outlinewidth": 0,
             "ticks": ""
            },
            "colorscale": [
             [
              0.0,
              "#0d0887"
             ],
             [
              0.1111111111111111,
              "#46039f"
             ],
             [
              0.2222222222222222,
              "#7201a8"
             ],
             [
              0.3333333333333333,
              "#9c179e"
             ],
             [
              0.4444444444444444,
              "#bd3786"
             ],
             [
              0.5555555555555556,
              "#d8576b"
             ],
             [
              0.6666666666666666,
              "#ed7953"
             ],
             [
              0.7777777777777778,
              "#fb9f3a"
             ],
             [
              0.8888888888888888,
              "#fdca26"
             ],
             [
              1.0,
              "#f0f921"
             ]
            ]
           }
          ],
          "choropleth": [
           {
            "type": "choropleth",
            "colorbar": {
             "outlinewidth": 0,
             "ticks": ""
            }
           }
          ],
          "histogram2d": [
           {
            "type": "histogram2d",
            "colorbar": {
             "outlinewidth": 0,
             "ticks": ""
            },
            "colorscale": [
             [
              0.0,
              "#0d0887"
             ],
             [
              0.1111111111111111,
              "#46039f"
             ],
             [
              0.2222222222222222,
              "#7201a8"
             ],
             [
              0.3333333333333333,
              "#9c179e"
             ],
             [
              0.4444444444444444,
              "#bd3786"
             ],
             [
              0.5555555555555556,
              "#d8576b"
             ],
             [
              0.6666666666666666,
              "#ed7953"
             ],
             [
              0.7777777777777778,
              "#fb9f3a"
             ],
             [
              0.8888888888888888,
              "#fdca26"
             ],
             [
              1.0,
              "#f0f921"
             ]
            ]
           }
          ],
          "heatmap": [
           {
            "type": "heatmap",
            "colorbar": {
             "outlinewidth": 0,
             "ticks": ""
            },
            "colorscale": [
             [
              0.0,
              "#0d0887"
             ],
             [
              0.1111111111111111,
              "#46039f"
             ],
             [
              0.2222222222222222,
              "#7201a8"
             ],
             [
              0.3333333333333333,
              "#9c179e"
             ],
             [
              0.4444444444444444,
              "#bd3786"
             ],
             [
              0.5555555555555556,
              "#d8576b"
             ],
             [
              0.6666666666666666,
              "#ed7953"
             ],
             [
              0.7777777777777778,
              "#fb9f3a"
             ],
             [
              0.8888888888888888,
              "#fdca26"
             ],
             [
              1.0,
              "#f0f921"
             ]
            ]
           }
          ],
          "heatmapgl": [
           {
            "type": "heatmapgl",
            "colorbar": {
             "outlinewidth": 0,
             "ticks": ""
            },
            "colorscale": [
             [
              0.0,
              "#0d0887"
             ],
             [
              0.1111111111111111,
              "#46039f"
             ],
             [
              0.2222222222222222,
              "#7201a8"
             ],
             [
              0.3333333333333333,
              "#9c179e"
             ],
             [
              0.4444444444444444,
              "#bd3786"
             ],
             [
              0.5555555555555556,
              "#d8576b"
             ],
             [
              0.6666666666666666,
              "#ed7953"
             ],
             [
              0.7777777777777778,
              "#fb9f3a"
             ],
             [
              0.8888888888888888,
              "#fdca26"
             ],
             [
              1.0,
              "#f0f921"
             ]
            ]
           }
          ],
          "contourcarpet": [
           {
            "type": "contourcarpet",
            "colorbar": {
             "outlinewidth": 0,
             "ticks": ""
            }
           }
          ],
          "contour": [
           {
            "type": "contour",
            "colorbar": {
             "outlinewidth": 0,
             "ticks": ""
            },
            "colorscale": [
             [
              0.0,
              "#0d0887"
             ],
             [
              0.1111111111111111,
              "#46039f"
             ],
             [
              0.2222222222222222,
              "#7201a8"
             ],
             [
              0.3333333333333333,
              "#9c179e"
             ],
             [
              0.4444444444444444,
              "#bd3786"
             ],
             [
              0.5555555555555556,
              "#d8576b"
             ],
             [
              0.6666666666666666,
              "#ed7953"
             ],
             [
              0.7777777777777778,
              "#fb9f3a"
             ],
             [
              0.8888888888888888,
              "#fdca26"
             ],
             [
              1.0,
              "#f0f921"
             ]
            ]
           }
          ],
          "surface": [
           {
            "type": "surface",
            "colorbar": {
             "outlinewidth": 0,
             "ticks": ""
            },
            "colorscale": [
             [
              0.0,
              "#0d0887"
             ],
             [
              0.1111111111111111,
              "#46039f"
             ],
             [
              0.2222222222222222,
              "#7201a8"
             ],
             [
              0.3333333333333333,
              "#9c179e"
             ],
             [
              0.4444444444444444,
              "#bd3786"
             ],
             [
              0.5555555555555556,
              "#d8576b"
             ],
             [
              0.6666666666666666,
              "#ed7953"
             ],
             [
              0.7777777777777778,
              "#fb9f3a"
             ],
             [
              0.8888888888888888,
              "#fdca26"
             ],
             [
              1.0,
              "#f0f921"
             ]
            ]
           }
          ],
          "mesh3d": [
           {
            "type": "mesh3d",
            "colorbar": {
             "outlinewidth": 0,
             "ticks": ""
            }
           }
          ],
          "scatter": [
           {
            "fillpattern": {
             "fillmode": "overlay",
             "size": 10,
             "solidity": 0.2
            },
            "type": "scatter"
           }
          ],
          "parcoords": [
           {
            "type": "parcoords",
            "line": {
             "colorbar": {
              "outlinewidth": 0,
              "ticks": ""
             }
            }
           }
          ],
          "scatterpolargl": [
           {
            "type": "scatterpolargl",
            "marker": {
             "colorbar": {
              "outlinewidth": 0,
              "ticks": ""
             }
            }
           }
          ],
          "bar": [
           {
            "error_x": {
             "color": "#2a3f5f"
            },
            "error_y": {
             "color": "#2a3f5f"
            },
            "marker": {
             "line": {
              "color": "#E5ECF6",
              "width": 0.5
             },
             "pattern": {
              "fillmode": "overlay",
              "size": 10,
              "solidity": 0.2
             }
            },
            "type": "bar"
           }
          ],
          "scattergeo": [
           {
            "type": "scattergeo",
            "marker": {
             "colorbar": {
              "outlinewidth": 0,
              "ticks": ""
             }
            }
           }
          ],
          "scatterpolar": [
           {
            "type": "scatterpolar",
            "marker": {
             "colorbar": {
              "outlinewidth": 0,
              "ticks": ""
             }
            }
           }
          ],
          "histogram": [
           {
            "marker": {
             "pattern": {
              "fillmode": "overlay",
              "size": 10,
              "solidity": 0.2
             }
            },
            "type": "histogram"
           }
          ],
          "scattergl": [
           {
            "type": "scattergl",
            "marker": {
             "colorbar": {
              "outlinewidth": 0,
              "ticks": ""
             }
            }
           }
          ],
          "scatter3d": [
           {
            "type": "scatter3d",
            "line": {
             "colorbar": {
              "outlinewidth": 0,
              "ticks": ""
             }
            },
            "marker": {
             "colorbar": {
              "outlinewidth": 0,
              "ticks": ""
             }
            }
           }
          ],
          "scattermapbox": [
           {
            "type": "scattermapbox",
            "marker": {
             "colorbar": {
              "outlinewidth": 0,
              "ticks": ""
             }
            }
           }
          ],
          "scatterternary": [
           {
            "type": "scatterternary",
            "marker": {
             "colorbar": {
              "outlinewidth": 0,
              "ticks": ""
             }
            }
           }
          ],
          "scattercarpet": [
           {
            "type": "scattercarpet",
            "marker": {
             "colorbar": {
              "outlinewidth": 0,
              "ticks": ""
             }
            }
           }
          ],
          "carpet": [
           {
            "aaxis": {
             "endlinecolor": "#2a3f5f",
             "gridcolor": "white",
             "linecolor": "white",
             "minorgridcolor": "white",
             "startlinecolor": "#2a3f5f"
            },
            "baxis": {
             "endlinecolor": "#2a3f5f",
             "gridcolor": "white",
             "linecolor": "white",
             "minorgridcolor": "white",
             "startlinecolor": "#2a3f5f"
            },
            "type": "carpet"
           }
          ],
          "table": [
           {
            "cells": {
             "fill": {
              "color": "#EBF0F8"
             },
             "line": {
              "color": "white"
             }
            },
            "header": {
             "fill": {
              "color": "#C8D4E3"
             },
             "line": {
              "color": "white"
             }
            },
            "type": "table"
           }
          ],
          "barpolar": [
           {
            "marker": {
             "line": {
              "color": "#E5ECF6",
              "width": 0.5
             },
             "pattern": {
              "fillmode": "overlay",
              "size": 10,
              "solidity": 0.2
             }
            },
            "type": "barpolar"
           }
          ],
          "pie": [
           {
            "automargin": true,
            "type": "pie"
           }
          ]
         },
         "layout": {
          "autotypenumbers": "strict",
          "colorway": [
           "#636efa",
           "#EF553B",
           "#00cc96",
           "#ab63fa",
           "#FFA15A",
           "#19d3f3",
           "#FF6692",
           "#B6E880",
           "#FF97FF",
           "#FECB52"
          ],
          "font": {
           "color": "#2a3f5f"
          },
          "hovermode": "closest",
          "hoverlabel": {
           "align": "left"
          },
          "paper_bgcolor": "white",
          "plot_bgcolor": "#E5ECF6",
          "polar": {
           "bgcolor": "#E5ECF6",
           "angularaxis": {
            "gridcolor": "white",
            "linecolor": "white",
            "ticks": ""
           },
           "radialaxis": {
            "gridcolor": "white",
            "linecolor": "white",
            "ticks": ""
           }
          },
          "ternary": {
           "bgcolor": "#E5ECF6",
           "aaxis": {
            "gridcolor": "white",
            "linecolor": "white",
            "ticks": ""
           },
           "baxis": {
            "gridcolor": "white",
            "linecolor": "white",
            "ticks": ""
           },
           "caxis": {
            "gridcolor": "white",
            "linecolor": "white",
            "ticks": ""
           }
          },
          "coloraxis": {
           "colorbar": {
            "outlinewidth": 0,
            "ticks": ""
           }
          },
          "colorscale": {
           "sequential": [
            [
             0.0,
             "#0d0887"
            ],
            [
             0.1111111111111111,
             "#46039f"
            ],
            [
             0.2222222222222222,
             "#7201a8"
            ],
            [
             0.3333333333333333,
             "#9c179e"
            ],
            [
             0.4444444444444444,
             "#bd3786"
            ],
            [
             0.5555555555555556,
             "#d8576b"
            ],
            [
             0.6666666666666666,
             "#ed7953"
            ],
            [
             0.7777777777777778,
             "#fb9f3a"
            ],
            [
             0.8888888888888888,
             "#fdca26"
            ],
            [
             1.0,
             "#f0f921"
            ]
           ],
           "sequentialminus": [
            [
             0.0,
             "#0d0887"
            ],
            [
             0.1111111111111111,
             "#46039f"
            ],
            [
             0.2222222222222222,
             "#7201a8"
            ],
            [
             0.3333333333333333,
             "#9c179e"
            ],
            [
             0.4444444444444444,
             "#bd3786"
            ],
            [
             0.5555555555555556,
             "#d8576b"
            ],
            [
             0.6666666666666666,
             "#ed7953"
            ],
            [
             0.7777777777777778,
             "#fb9f3a"
            ],
            [
             0.8888888888888888,
             "#fdca26"
            ],
            [
             1.0,
             "#f0f921"
            ]
           ],
           "diverging": [
            [
             0,
             "#8e0152"
            ],
            [
             0.1,
             "#c51b7d"
            ],
            [
             0.2,
             "#de77ae"
            ],
            [
             0.3,
             "#f1b6da"
            ],
            [
             0.4,
             "#fde0ef"
            ],
            [
             0.5,
             "#f7f7f7"
            ],
            [
             0.6,
             "#e6f5d0"
            ],
            [
             0.7,
             "#b8e186"
            ],
            [
             0.8,
             "#7fbc41"
            ],
            [
             0.9,
             "#4d9221"
            ],
            [
             1,
             "#276419"
            ]
           ]
          },
          "xaxis": {
           "gridcolor": "white",
           "linecolor": "white",
           "ticks": "",
           "title": {
            "standoff": 15
           },
           "zerolinecolor": "white",
           "automargin": true,
           "zerolinewidth": 2
          },
          "yaxis": {
           "gridcolor": "white",
           "linecolor": "white",
           "ticks": "",
           "title": {
            "standoff": 15
           },
           "zerolinecolor": "white",
           "automargin": true,
           "zerolinewidth": 2
          },
          "scene": {
           "xaxis": {
            "backgroundcolor": "#E5ECF6",
            "gridcolor": "white",
            "linecolor": "white",
            "showbackground": true,
            "ticks": "",
            "zerolinecolor": "white",
            "gridwidth": 2
           },
           "yaxis": {
            "backgroundcolor": "#E5ECF6",
            "gridcolor": "white",
            "linecolor": "white",
            "showbackground": true,
            "ticks": "",
            "zerolinecolor": "white",
            "gridwidth": 2
           },
           "zaxis": {
            "backgroundcolor": "#E5ECF6",
            "gridcolor": "white",
            "linecolor": "white",
            "showbackground": true,
            "ticks": "",
            "zerolinecolor": "white",
            "gridwidth": 2
           }
          },
          "shapedefaults": {
           "line": {
            "color": "#2a3f5f"
           }
          },
          "annotationdefaults": {
           "arrowcolor": "#2a3f5f",
           "arrowhead": 0,
           "arrowwidth": 1
          },
          "geo": {
           "bgcolor": "white",
           "landcolor": "#E5ECF6",
           "subunitcolor": "white",
           "showland": true,
           "showlakes": true,
           "lakecolor": "white"
          },
          "title": {
           "x": 0.05
          },
          "mapbox": {
           "style": "light"
          }
         }
        },
        "title": {
         "text": "$\\text{Average loss for every 250 games - }\\epsilon_{opt}=0.5$"
        },
        "xaxis": {
         "title": {
          "text": "$game$"
         }
        },
        "yaxis": {
         "title": {
          "text": "$average(loss)\\text{- 250 games}$"
         }
        }
       },
       "config": {
        "plotlyServerURL": "https://plot.ly"
       }
      },
      "text/html": "<div>                            <div id=\"478c95b7-e1b5-4d9f-b96b-70f7ec44a9b5\" class=\"plotly-graph-div\" style=\"height:525px; width:100%;\"></div>            <script type=\"text/javascript\">                require([\"plotly\"], function(Plotly) {                    window.PLOTLYENV=window.PLOTLYENV || {};                                    if (document.getElementById(\"478c95b7-e1b5-4d9f-b96b-70f7ec44a9b5\")) {                    Plotly.newPlot(                        \"478c95b7-e1b5-4d9f-b96b-70f7ec44a9b5\",                        [{\"mode\":\"lines\",\"x\":[249,499,749,999,1249,1499,1749,1999,2249,2499,2749,2999,3249,3499,3749,3999,4249,4499,4749,4999,5249,5499,5749,5999,6249,6499,6749,6999,7249,7499,7749,7999,8249,8499,8749,8999,9249,9499,9749,9999,10249,10499,10749,10999,11249,11499,11749,11999,12249,12499,12749,12999,13249,13499,13749,13999,14249,14499,14749,14999,15249,15499,15749,15999,16249,16499,16749,16999,17249,17499,17749,17999,18249,18499,18749,18999,19249,19499,19749,19999],\"y\":[0.039920539340415624,0.031566800170139166,0.04630825133088914,0.04177342581761906,0.05379081842247784,0.04965890336305447,0.057189880543850435,0.054089110205101654,0.06159501773742052,0.05916306917928567,0.05812204164245086,0.05557818499379558,0.05082679585349269,0.048224694648620586,0.04570125722028762,0.045434573441784296,0.05079110291273518,0.04934668213875725,0.04582070980953877,0.04358234397446779,0.04539795693121532,0.04489473443542162,0.042032224561809994,0.04086658735322528,0.043718718980072124,0.044567770162546955,0.0467271081959972,0.04595079392584789,0.044634164629680256,0.04448588696507791,0.04227578095412267,0.04201557020187602,0.042235247070645056,0.0413117610422667,0.040302042580672305,0.03901331716459611,0.040356225405123757,0.04058288228224943,0.0396584269117913,0.03953776327753893,0.04294527919889798,0.04093764560918013,0.04302689876764062,0.041553531015820024,0.03841926879002347,0.03819515843086107,0.04217599410475771,0.043315454060606405,0.04113066642392407,0.04102242947653497,0.042544633508832363,0.04032030916808407,0.04061640762643088,0.040492397113483354,0.03962690595302313,0.03894780152160855,0.04079124769796767,0.0387288145790983,0.03941590549845511,0.039542134216867406,0.039515085567325574,0.03962322696041997,0.04128202586737159,0.03939376836011048,0.03898774479153275,0.0377669685963577,0.04156847962482004,0.04006766075306319,0.040545933509210985,0.040759724346967466,0.0402982179303599,0.038614744326494616,0.038087586084691843,0.03707470587077173,0.03728321675195522,0.037237538423778166,0.03710802647061725,0.037362313922395675,0.03708001184006217,0.037991734251224575],\"type\":\"scatter\"}],                        {\"template\":{\"data\":{\"histogram2dcontour\":[{\"type\":\"histogram2dcontour\",\"colorbar\":{\"outlinewidth\":0,\"ticks\":\"\"},\"colorscale\":[[0.0,\"#0d0887\"],[0.1111111111111111,\"#46039f\"],[0.2222222222222222,\"#7201a8\"],[0.3333333333333333,\"#9c179e\"],[0.4444444444444444,\"#bd3786\"],[0.5555555555555556,\"#d8576b\"],[0.6666666666666666,\"#ed7953\"],[0.7777777777777778,\"#fb9f3a\"],[0.8888888888888888,\"#fdca26\"],[1.0,\"#f0f921\"]]}],\"choropleth\":[{\"type\":\"choropleth\",\"colorbar\":{\"outlinewidth\":0,\"ticks\":\"\"}}],\"histogram2d\":[{\"type\":\"histogram2d\",\"colorbar\":{\"outlinewidth\":0,\"ticks\":\"\"},\"colorscale\":[[0.0,\"#0d0887\"],[0.1111111111111111,\"#46039f\"],[0.2222222222222222,\"#7201a8\"],[0.3333333333333333,\"#9c179e\"],[0.4444444444444444,\"#bd3786\"],[0.5555555555555556,\"#d8576b\"],[0.6666666666666666,\"#ed7953\"],[0.7777777777777778,\"#fb9f3a\"],[0.8888888888888888,\"#fdca26\"],[1.0,\"#f0f921\"]]}],\"heatmap\":[{\"type\":\"heatmap\",\"colorbar\":{\"outlinewidth\":0,\"ticks\":\"\"},\"colorscale\":[[0.0,\"#0d0887\"],[0.1111111111111111,\"#46039f\"],[0.2222222222222222,\"#7201a8\"],[0.3333333333333333,\"#9c179e\"],[0.4444444444444444,\"#bd3786\"],[0.5555555555555556,\"#d8576b\"],[0.6666666666666666,\"#ed7953\"],[0.7777777777777778,\"#fb9f3a\"],[0.8888888888888888,\"#fdca26\"],[1.0,\"#f0f921\"]]}],\"heatmapgl\":[{\"type\":\"heatmapgl\",\"colorbar\":{\"outlinewidth\":0,\"ticks\":\"\"},\"colorscale\":[[0.0,\"#0d0887\"],[0.1111111111111111,\"#46039f\"],[0.2222222222222222,\"#7201a8\"],[0.3333333333333333,\"#9c179e\"],[0.4444444444444444,\"#bd3786\"],[0.5555555555555556,\"#d8576b\"],[0.6666666666666666,\"#ed7953\"],[0.7777777777777778,\"#fb9f3a\"],[0.8888888888888888,\"#fdca26\"],[1.0,\"#f0f921\"]]}],\"contourcarpet\":[{\"type\":\"contourcarpet\",\"colorbar\":{\"outlinewidth\":0,\"ticks\":\"\"}}],\"contour\":[{\"type\":\"contour\",\"colorbar\":{\"outlinewidth\":0,\"ticks\":\"\"},\"colorscale\":[[0.0,\"#0d0887\"],[0.1111111111111111,\"#46039f\"],[0.2222222222222222,\"#7201a8\"],[0.3333333333333333,\"#9c179e\"],[0.4444444444444444,\"#bd3786\"],[0.5555555555555556,\"#d8576b\"],[0.6666666666666666,\"#ed7953\"],[0.7777777777777778,\"#fb9f3a\"],[0.8888888888888888,\"#fdca26\"],[1.0,\"#f0f921\"]]}],\"surface\":[{\"type\":\"surface\",\"colorbar\":{\"outlinewidth\":0,\"ticks\":\"\"},\"colorscale\":[[0.0,\"#0d0887\"],[0.1111111111111111,\"#46039f\"],[0.2222222222222222,\"#7201a8\"],[0.3333333333333333,\"#9c179e\"],[0.4444444444444444,\"#bd3786\"],[0.5555555555555556,\"#d8576b\"],[0.6666666666666666,\"#ed7953\"],[0.7777777777777778,\"#fb9f3a\"],[0.8888888888888888,\"#fdca26\"],[1.0,\"#f0f921\"]]}],\"mesh3d\":[{\"type\":\"mesh3d\",\"colorbar\":{\"outlinewidth\":0,\"ticks\":\"\"}}],\"scatter\":[{\"fillpattern\":{\"fillmode\":\"overlay\",\"size\":10,\"solidity\":0.2},\"type\":\"scatter\"}],\"parcoords\":[{\"type\":\"parcoords\",\"line\":{\"colorbar\":{\"outlinewidth\":0,\"ticks\":\"\"}}}],\"scatterpolargl\":[{\"type\":\"scatterpolargl\",\"marker\":{\"colorbar\":{\"outlinewidth\":0,\"ticks\":\"\"}}}],\"bar\":[{\"error_x\":{\"color\":\"#2a3f5f\"},\"error_y\":{\"color\":\"#2a3f5f\"},\"marker\":{\"line\":{\"color\":\"#E5ECF6\",\"width\":0.5},\"pattern\":{\"fillmode\":\"overlay\",\"size\":10,\"solidity\":0.2}},\"type\":\"bar\"}],\"scattergeo\":[{\"type\":\"scattergeo\",\"marker\":{\"colorbar\":{\"outlinewidth\":0,\"ticks\":\"\"}}}],\"scatterpolar\":[{\"type\":\"scatterpolar\",\"marker\":{\"colorbar\":{\"outlinewidth\":0,\"ticks\":\"\"}}}],\"histogram\":[{\"marker\":{\"pattern\":{\"fillmode\":\"overlay\",\"size\":10,\"solidity\":0.2}},\"type\":\"histogram\"}],\"scattergl\":[{\"type\":\"scattergl\",\"marker\":{\"colorbar\":{\"outlinewidth\":0,\"ticks\":\"\"}}}],\"scatter3d\":[{\"type\":\"scatter3d\",\"line\":{\"colorbar\":{\"outlinewidth\":0,\"ticks\":\"\"}},\"marker\":{\"colorbar\":{\"outlinewidth\":0,\"ticks\":\"\"}}}],\"scattermapbox\":[{\"type\":\"scattermapbox\",\"marker\":{\"colorbar\":{\"outlinewidth\":0,\"ticks\":\"\"}}}],\"scatterternary\":[{\"type\":\"scatterternary\",\"marker\":{\"colorbar\":{\"outlinewidth\":0,\"ticks\":\"\"}}}],\"scattercarpet\":[{\"type\":\"scattercarpet\",\"marker\":{\"colorbar\":{\"outlinewidth\":0,\"ticks\":\"\"}}}],\"carpet\":[{\"aaxis\":{\"endlinecolor\":\"#2a3f5f\",\"gridcolor\":\"white\",\"linecolor\":\"white\",\"minorgridcolor\":\"white\",\"startlinecolor\":\"#2a3f5f\"},\"baxis\":{\"endlinecolor\":\"#2a3f5f\",\"gridcolor\":\"white\",\"linecolor\":\"white\",\"minorgridcolor\":\"white\",\"startlinecolor\":\"#2a3f5f\"},\"type\":\"carpet\"}],\"table\":[{\"cells\":{\"fill\":{\"color\":\"#EBF0F8\"},\"line\":{\"color\":\"white\"}},\"header\":{\"fill\":{\"color\":\"#C8D4E3\"},\"line\":{\"color\":\"white\"}},\"type\":\"table\"}],\"barpolar\":[{\"marker\":{\"line\":{\"color\":\"#E5ECF6\",\"width\":0.5},\"pattern\":{\"fillmode\":\"overlay\",\"size\":10,\"solidity\":0.2}},\"type\":\"barpolar\"}],\"pie\":[{\"automargin\":true,\"type\":\"pie\"}]},\"layout\":{\"autotypenumbers\":\"strict\",\"colorway\":[\"#636efa\",\"#EF553B\",\"#00cc96\",\"#ab63fa\",\"#FFA15A\",\"#19d3f3\",\"#FF6692\",\"#B6E880\",\"#FF97FF\",\"#FECB52\"],\"font\":{\"color\":\"#2a3f5f\"},\"hovermode\":\"closest\",\"hoverlabel\":{\"align\":\"left\"},\"paper_bgcolor\":\"white\",\"plot_bgcolor\":\"#E5ECF6\",\"polar\":{\"bgcolor\":\"#E5ECF6\",\"angularaxis\":{\"gridcolor\":\"white\",\"linecolor\":\"white\",\"ticks\":\"\"},\"radialaxis\":{\"gridcolor\":\"white\",\"linecolor\":\"white\",\"ticks\":\"\"}},\"ternary\":{\"bgcolor\":\"#E5ECF6\",\"aaxis\":{\"gridcolor\":\"white\",\"linecolor\":\"white\",\"ticks\":\"\"},\"baxis\":{\"gridcolor\":\"white\",\"linecolor\":\"white\",\"ticks\":\"\"},\"caxis\":{\"gridcolor\":\"white\",\"linecolor\":\"white\",\"ticks\":\"\"}},\"coloraxis\":{\"colorbar\":{\"outlinewidth\":0,\"ticks\":\"\"}},\"colorscale\":{\"sequential\":[[0.0,\"#0d0887\"],[0.1111111111111111,\"#46039f\"],[0.2222222222222222,\"#7201a8\"],[0.3333333333333333,\"#9c179e\"],[0.4444444444444444,\"#bd3786\"],[0.5555555555555556,\"#d8576b\"],[0.6666666666666666,\"#ed7953\"],[0.7777777777777778,\"#fb9f3a\"],[0.8888888888888888,\"#fdca26\"],[1.0,\"#f0f921\"]],\"sequentialminus\":[[0.0,\"#0d0887\"],[0.1111111111111111,\"#46039f\"],[0.2222222222222222,\"#7201a8\"],[0.3333333333333333,\"#9c179e\"],[0.4444444444444444,\"#bd3786\"],[0.5555555555555556,\"#d8576b\"],[0.6666666666666666,\"#ed7953\"],[0.7777777777777778,\"#fb9f3a\"],[0.8888888888888888,\"#fdca26\"],[1.0,\"#f0f921\"]],\"diverging\":[[0,\"#8e0152\"],[0.1,\"#c51b7d\"],[0.2,\"#de77ae\"],[0.3,\"#f1b6da\"],[0.4,\"#fde0ef\"],[0.5,\"#f7f7f7\"],[0.6,\"#e6f5d0\"],[0.7,\"#b8e186\"],[0.8,\"#7fbc41\"],[0.9,\"#4d9221\"],[1,\"#276419\"]]},\"xaxis\":{\"gridcolor\":\"white\",\"linecolor\":\"white\",\"ticks\":\"\",\"title\":{\"standoff\":15},\"zerolinecolor\":\"white\",\"automargin\":true,\"zerolinewidth\":2},\"yaxis\":{\"gridcolor\":\"white\",\"linecolor\":\"white\",\"ticks\":\"\",\"title\":{\"standoff\":15},\"zerolinecolor\":\"white\",\"automargin\":true,\"zerolinewidth\":2},\"scene\":{\"xaxis\":{\"backgroundcolor\":\"#E5ECF6\",\"gridcolor\":\"white\",\"linecolor\":\"white\",\"showbackground\":true,\"ticks\":\"\",\"zerolinecolor\":\"white\",\"gridwidth\":2},\"yaxis\":{\"backgroundcolor\":\"#E5ECF6\",\"gridcolor\":\"white\",\"linecolor\":\"white\",\"showbackground\":true,\"ticks\":\"\",\"zerolinecolor\":\"white\",\"gridwidth\":2},\"zaxis\":{\"backgroundcolor\":\"#E5ECF6\",\"gridcolor\":\"white\",\"linecolor\":\"white\",\"showbackground\":true,\"ticks\":\"\",\"zerolinecolor\":\"white\",\"gridwidth\":2}},\"shapedefaults\":{\"line\":{\"color\":\"#2a3f5f\"}},\"annotationdefaults\":{\"arrowcolor\":\"#2a3f5f\",\"arrowhead\":0,\"arrowwidth\":1},\"geo\":{\"bgcolor\":\"white\",\"landcolor\":\"#E5ECF6\",\"subunitcolor\":\"white\",\"showland\":true,\"showlakes\":true,\"lakecolor\":\"white\"},\"title\":{\"x\":0.05},\"mapbox\":{\"style\":\"light\"}}},\"title\":{\"text\":\"$\\\\text{Average loss for every 250 games - }\\\\epsilon_{opt}=0.5$\"},\"xaxis\":{\"title\":{\"text\":\"$game$\"}},\"yaxis\":{\"title\":{\"text\":\"$average(loss)\\\\text{- 250 games}$\"}}},                        {\"responsive\": true}                    ).then(function(){\n                            \nvar gd = document.getElementById('478c95b7-e1b5-4d9f-b96b-70f7ec44a9b5');\nvar x = new MutationObserver(function (mutations, observer) {{\n        var display = window.getComputedStyle(gd).display;\n        if (!display || display === 'none') {{\n            console.log([gd, 'removed!']);\n            Plotly.purge(gd);\n            observer.disconnect();\n        }}\n}});\n\n// Listen for the removal of the full notebook cells\nvar notebookContainer = gd.closest('#notebook-container');\nif (notebookContainer) {{\n    x.observe(notebookContainer, {childList: true});\n}}\n\n// Listen for the clearing of the current output cell\nvar outputEl = gd.closest('.output');\nif (outputEl) {{\n    x.observe(outputEl, {childList: true});\n}}\n\n                        })                };                });            </script>        </div>"
     },
     "metadata": {},
     "output_type": "display_data"
    }
   ],
   "source": [
    "fig = go.Figure()\n",
    "\n",
    "fig.add_trace(go.Scatter(x=x, y=losses, mode='lines'))\n",
    "\n",
    "fig.update_layout(\n",
    "    title=r'$\\text{Average loss for every %d games - }\\epsilon_{opt}=0.5$' % averaging_steps,\n",
    "    xaxis_title=r'$game$',\n",
    "    yaxis_title=r'$average(loss)\\text{- %d games}$' % (averaging_steps),\n",
    ")\n",
    "\n",
    "fig.show()"
   ]
  },
  {
   "cell_type": "markdown",
   "metadata": {
    "collapsed": false,
    "pycharm": {
     "name": "#%% md\n"
    }
   },
   "source": [
    "From the two plots, we can see that the Q-player learns how to play tic tac toe: the average rewards reaches a plateau around 0.2. The training loss has, of course, an opposite trend: as the average rewards get higher, the loss gets lower, as the network is learning. Finally, the final plateau is an indication that the network learned how to play the game. Our choice of $\\epsilon$ depends on the fact that we want to explore new states and, at the same time, play reasonably well."
   ]
  },
  {
   "cell_type": "markdown",
   "metadata": {
    "collapsed": false,
    "pycharm": {
     "name": "#%% md\n"
    }
   },
   "source": [
    "### Question 12"
   ]
  },
  {
   "cell_type": "code",
   "execution_count": 22,
   "metadata": {
    "collapsed": false,
    "pycharm": {
     "name": "#%%\n"
    }
   },
   "outputs": [
    {
     "name": "stderr",
     "output_type": "stream",
     "text": [
      "100%|██████████| 20000/20000 [02:48<00:00, 118.54it/s]\n"
     ]
    }
   ],
   "source": [
    "n_episodes = 20000\n",
    "averaging_steps = 250\n",
    "update_steps = 500\n",
    "turns = np.array(['X','O'])\n",
    "\n",
    "q_player = DeepQPlayer(0.2, capacity=1, batch_size=1) # Capacity = 1 and batch size = 1 => no memory, use only last action\n",
    "env = TictactoeEnv()\n",
    "\n",
    "rewards = []\n",
    "losses = []\n",
    "average_reward = 0.\n",
    "average_loss = []\n",
    "\n",
    "other_player = OptimalPlayer(epsilon=0.5, player=turns[1])\n",
    "x = []\n",
    "\n",
    "for episode in tqdm(range(n_episodes)):\n",
    "        # Play game\n",
    "        loss, reward = play_deep_game(env, q_player, other_player, turns, testing=False)\n",
    "        average_reward += reward\n",
    "        average_loss.extend(loss)\n",
    "\n",
    "        if episode % (update_steps-1) == 0:\n",
    "            q_player.update_target()\n",
    "\n",
    "        if episode % averaging_steps == averaging_steps - 1:\n",
    "            average_reward /= averaging_steps\n",
    "            rewards.append(average_reward)\n",
    "            losses.append(np.array(average_loss).mean())\n",
    "            average_reward = 0.\n",
    "            average_loss = []\n",
    "            x.append(episode)\n",
    "\n",
    "        # Change first player\n",
    "        turns = turns[::-1]"
   ]
  },
  {
   "cell_type": "code",
   "execution_count": 23,
   "metadata": {
    "collapsed": false,
    "pycharm": {
     "name": "#%%\n"
    }
   },
   "outputs": [
    {
     "data": {
      "application/vnd.plotly.v1+json": {
       "data": [
        {
         "mode": "lines",
         "x": [
          249,
          499,
          749,
          999,
          1249,
          1499,
          1749,
          1999,
          2249,
          2499,
          2749,
          2999,
          3249,
          3499,
          3749,
          3999,
          4249,
          4499,
          4749,
          4999,
          5249,
          5499,
          5749,
          5999,
          6249,
          6499,
          6749,
          6999,
          7249,
          7499,
          7749,
          7999,
          8249,
          8499,
          8749,
          8999,
          9249,
          9499,
          9749,
          9999,
          10249,
          10499,
          10749,
          10999,
          11249,
          11499,
          11749,
          11999,
          12249,
          12499,
          12749,
          12999,
          13249,
          13499,
          13749,
          13999,
          14249,
          14499,
          14749,
          14999,
          15249,
          15499,
          15749,
          15999,
          16249,
          16499,
          16749,
          16999,
          17249,
          17499,
          17749,
          17999,
          18249,
          18499,
          18749,
          18999,
          19249,
          19499,
          19749,
          19999
         ],
         "y": [
          -0.92,
          -0.884,
          -0.808,
          -0.788,
          -0.928,
          -0.764,
          -0.628,
          -0.8,
          -0.784,
          -0.604,
          -0.5,
          -0.628,
          -0.584,
          -0.5,
          -0.608,
          -0.588,
          -0.424,
          -0.456,
          -0.552,
          -0.504,
          -0.436,
          -0.372,
          -0.54,
          -0.396,
          -0.44,
          -0.436,
          -0.416,
          -0.352,
          -0.444,
          -0.404,
          -0.44,
          -0.344,
          -0.372,
          -0.272,
          -0.316,
          -0.352,
          -0.304,
          -0.396,
          -0.332,
          -0.348,
          -0.288,
          -0.296,
          -0.296,
          -0.316,
          -0.428,
          -0.404,
          -0.26,
          -0.356,
          -0.384,
          -0.32,
          -0.268,
          -0.28,
          -0.296,
          -0.192,
          -0.428,
          -0.296,
          -0.276,
          -0.256,
          -0.404,
          -0.408,
          -0.352,
          -0.272,
          -0.22,
          -0.208,
          -0.22,
          -0.164,
          -0.164,
          -0.284,
          -0.176,
          -0.288,
          -0.248,
          -0.208,
          -0.132,
          -0.152,
          -0.196,
          -0.272,
          -0.14,
          -0.212,
          -0.232,
          -0.164
         ],
         "type": "scatter"
        }
       ],
       "layout": {
        "template": {
         "data": {
          "histogram2dcontour": [
           {
            "type": "histogram2dcontour",
            "colorbar": {
             "outlinewidth": 0,
             "ticks": ""
            },
            "colorscale": [
             [
              0.0,
              "#0d0887"
             ],
             [
              0.1111111111111111,
              "#46039f"
             ],
             [
              0.2222222222222222,
              "#7201a8"
             ],
             [
              0.3333333333333333,
              "#9c179e"
             ],
             [
              0.4444444444444444,
              "#bd3786"
             ],
             [
              0.5555555555555556,
              "#d8576b"
             ],
             [
              0.6666666666666666,
              "#ed7953"
             ],
             [
              0.7777777777777778,
              "#fb9f3a"
             ],
             [
              0.8888888888888888,
              "#fdca26"
             ],
             [
              1.0,
              "#f0f921"
             ]
            ]
           }
          ],
          "choropleth": [
           {
            "type": "choropleth",
            "colorbar": {
             "outlinewidth": 0,
             "ticks": ""
            }
           }
          ],
          "histogram2d": [
           {
            "type": "histogram2d",
            "colorbar": {
             "outlinewidth": 0,
             "ticks": ""
            },
            "colorscale": [
             [
              0.0,
              "#0d0887"
             ],
             [
              0.1111111111111111,
              "#46039f"
             ],
             [
              0.2222222222222222,
              "#7201a8"
             ],
             [
              0.3333333333333333,
              "#9c179e"
             ],
             [
              0.4444444444444444,
              "#bd3786"
             ],
             [
              0.5555555555555556,
              "#d8576b"
             ],
             [
              0.6666666666666666,
              "#ed7953"
             ],
             [
              0.7777777777777778,
              "#fb9f3a"
             ],
             [
              0.8888888888888888,
              "#fdca26"
             ],
             [
              1.0,
              "#f0f921"
             ]
            ]
           }
          ],
          "heatmap": [
           {
            "type": "heatmap",
            "colorbar": {
             "outlinewidth": 0,
             "ticks": ""
            },
            "colorscale": [
             [
              0.0,
              "#0d0887"
             ],
             [
              0.1111111111111111,
              "#46039f"
             ],
             [
              0.2222222222222222,
              "#7201a8"
             ],
             [
              0.3333333333333333,
              "#9c179e"
             ],
             [
              0.4444444444444444,
              "#bd3786"
             ],
             [
              0.5555555555555556,
              "#d8576b"
             ],
             [
              0.6666666666666666,
              "#ed7953"
             ],
             [
              0.7777777777777778,
              "#fb9f3a"
             ],
             [
              0.8888888888888888,
              "#fdca26"
             ],
             [
              1.0,
              "#f0f921"
             ]
            ]
           }
          ],
          "heatmapgl": [
           {
            "type": "heatmapgl",
            "colorbar": {
             "outlinewidth": 0,
             "ticks": ""
            },
            "colorscale": [
             [
              0.0,
              "#0d0887"
             ],
             [
              0.1111111111111111,
              "#46039f"
             ],
             [
              0.2222222222222222,
              "#7201a8"
             ],
             [
              0.3333333333333333,
              "#9c179e"
             ],
             [
              0.4444444444444444,
              "#bd3786"
             ],
             [
              0.5555555555555556,
              "#d8576b"
             ],
             [
              0.6666666666666666,
              "#ed7953"
             ],
             [
              0.7777777777777778,
              "#fb9f3a"
             ],
             [
              0.8888888888888888,
              "#fdca26"
             ],
             [
              1.0,
              "#f0f921"
             ]
            ]
           }
          ],
          "contourcarpet": [
           {
            "type": "contourcarpet",
            "colorbar": {
             "outlinewidth": 0,
             "ticks": ""
            }
           }
          ],
          "contour": [
           {
            "type": "contour",
            "colorbar": {
             "outlinewidth": 0,
             "ticks": ""
            },
            "colorscale": [
             [
              0.0,
              "#0d0887"
             ],
             [
              0.1111111111111111,
              "#46039f"
             ],
             [
              0.2222222222222222,
              "#7201a8"
             ],
             [
              0.3333333333333333,
              "#9c179e"
             ],
             [
              0.4444444444444444,
              "#bd3786"
             ],
             [
              0.5555555555555556,
              "#d8576b"
             ],
             [
              0.6666666666666666,
              "#ed7953"
             ],
             [
              0.7777777777777778,
              "#fb9f3a"
             ],
             [
              0.8888888888888888,
              "#fdca26"
             ],
             [
              1.0,
              "#f0f921"
             ]
            ]
           }
          ],
          "surface": [
           {
            "type": "surface",
            "colorbar": {
             "outlinewidth": 0,
             "ticks": ""
            },
            "colorscale": [
             [
              0.0,
              "#0d0887"
             ],
             [
              0.1111111111111111,
              "#46039f"
             ],
             [
              0.2222222222222222,
              "#7201a8"
             ],
             [
              0.3333333333333333,
              "#9c179e"
             ],
             [
              0.4444444444444444,
              "#bd3786"
             ],
             [
              0.5555555555555556,
              "#d8576b"
             ],
             [
              0.6666666666666666,
              "#ed7953"
             ],
             [
              0.7777777777777778,
              "#fb9f3a"
             ],
             [
              0.8888888888888888,
              "#fdca26"
             ],
             [
              1.0,
              "#f0f921"
             ]
            ]
           }
          ],
          "mesh3d": [
           {
            "type": "mesh3d",
            "colorbar": {
             "outlinewidth": 0,
             "ticks": ""
            }
           }
          ],
          "scatter": [
           {
            "fillpattern": {
             "fillmode": "overlay",
             "size": 10,
             "solidity": 0.2
            },
            "type": "scatter"
           }
          ],
          "parcoords": [
           {
            "type": "parcoords",
            "line": {
             "colorbar": {
              "outlinewidth": 0,
              "ticks": ""
             }
            }
           }
          ],
          "scatterpolargl": [
           {
            "type": "scatterpolargl",
            "marker": {
             "colorbar": {
              "outlinewidth": 0,
              "ticks": ""
             }
            }
           }
          ],
          "bar": [
           {
            "error_x": {
             "color": "#2a3f5f"
            },
            "error_y": {
             "color": "#2a3f5f"
            },
            "marker": {
             "line": {
              "color": "#E5ECF6",
              "width": 0.5
             },
             "pattern": {
              "fillmode": "overlay",
              "size": 10,
              "solidity": 0.2
             }
            },
            "type": "bar"
           }
          ],
          "scattergeo": [
           {
            "type": "scattergeo",
            "marker": {
             "colorbar": {
              "outlinewidth": 0,
              "ticks": ""
             }
            }
           }
          ],
          "scatterpolar": [
           {
            "type": "scatterpolar",
            "marker": {
             "colorbar": {
              "outlinewidth": 0,
              "ticks": ""
             }
            }
           }
          ],
          "histogram": [
           {
            "marker": {
             "pattern": {
              "fillmode": "overlay",
              "size": 10,
              "solidity": 0.2
             }
            },
            "type": "histogram"
           }
          ],
          "scattergl": [
           {
            "type": "scattergl",
            "marker": {
             "colorbar": {
              "outlinewidth": 0,
              "ticks": ""
             }
            }
           }
          ],
          "scatter3d": [
           {
            "type": "scatter3d",
            "line": {
             "colorbar": {
              "outlinewidth": 0,
              "ticks": ""
             }
            },
            "marker": {
             "colorbar": {
              "outlinewidth": 0,
              "ticks": ""
             }
            }
           }
          ],
          "scattermapbox": [
           {
            "type": "scattermapbox",
            "marker": {
             "colorbar": {
              "outlinewidth": 0,
              "ticks": ""
             }
            }
           }
          ],
          "scatterternary": [
           {
            "type": "scatterternary",
            "marker": {
             "colorbar": {
              "outlinewidth": 0,
              "ticks": ""
             }
            }
           }
          ],
          "scattercarpet": [
           {
            "type": "scattercarpet",
            "marker": {
             "colorbar": {
              "outlinewidth": 0,
              "ticks": ""
             }
            }
           }
          ],
          "carpet": [
           {
            "aaxis": {
             "endlinecolor": "#2a3f5f",
             "gridcolor": "white",
             "linecolor": "white",
             "minorgridcolor": "white",
             "startlinecolor": "#2a3f5f"
            },
            "baxis": {
             "endlinecolor": "#2a3f5f",
             "gridcolor": "white",
             "linecolor": "white",
             "minorgridcolor": "white",
             "startlinecolor": "#2a3f5f"
            },
            "type": "carpet"
           }
          ],
          "table": [
           {
            "cells": {
             "fill": {
              "color": "#EBF0F8"
             },
             "line": {
              "color": "white"
             }
            },
            "header": {
             "fill": {
              "color": "#C8D4E3"
             },
             "line": {
              "color": "white"
             }
            },
            "type": "table"
           }
          ],
          "barpolar": [
           {
            "marker": {
             "line": {
              "color": "#E5ECF6",
              "width": 0.5
             },
             "pattern": {
              "fillmode": "overlay",
              "size": 10,
              "solidity": 0.2
             }
            },
            "type": "barpolar"
           }
          ],
          "pie": [
           {
            "automargin": true,
            "type": "pie"
           }
          ]
         },
         "layout": {
          "autotypenumbers": "strict",
          "colorway": [
           "#636efa",
           "#EF553B",
           "#00cc96",
           "#ab63fa",
           "#FFA15A",
           "#19d3f3",
           "#FF6692",
           "#B6E880",
           "#FF97FF",
           "#FECB52"
          ],
          "font": {
           "color": "#2a3f5f"
          },
          "hovermode": "closest",
          "hoverlabel": {
           "align": "left"
          },
          "paper_bgcolor": "white",
          "plot_bgcolor": "#E5ECF6",
          "polar": {
           "bgcolor": "#E5ECF6",
           "angularaxis": {
            "gridcolor": "white",
            "linecolor": "white",
            "ticks": ""
           },
           "radialaxis": {
            "gridcolor": "white",
            "linecolor": "white",
            "ticks": ""
           }
          },
          "ternary": {
           "bgcolor": "#E5ECF6",
           "aaxis": {
            "gridcolor": "white",
            "linecolor": "white",
            "ticks": ""
           },
           "baxis": {
            "gridcolor": "white",
            "linecolor": "white",
            "ticks": ""
           },
           "caxis": {
            "gridcolor": "white",
            "linecolor": "white",
            "ticks": ""
           }
          },
          "coloraxis": {
           "colorbar": {
            "outlinewidth": 0,
            "ticks": ""
           }
          },
          "colorscale": {
           "sequential": [
            [
             0.0,
             "#0d0887"
            ],
            [
             0.1111111111111111,
             "#46039f"
            ],
            [
             0.2222222222222222,
             "#7201a8"
            ],
            [
             0.3333333333333333,
             "#9c179e"
            ],
            [
             0.4444444444444444,
             "#bd3786"
            ],
            [
             0.5555555555555556,
             "#d8576b"
            ],
            [
             0.6666666666666666,
             "#ed7953"
            ],
            [
             0.7777777777777778,
             "#fb9f3a"
            ],
            [
             0.8888888888888888,
             "#fdca26"
            ],
            [
             1.0,
             "#f0f921"
            ]
           ],
           "sequentialminus": [
            [
             0.0,
             "#0d0887"
            ],
            [
             0.1111111111111111,
             "#46039f"
            ],
            [
             0.2222222222222222,
             "#7201a8"
            ],
            [
             0.3333333333333333,
             "#9c179e"
            ],
            [
             0.4444444444444444,
             "#bd3786"
            ],
            [
             0.5555555555555556,
             "#d8576b"
            ],
            [
             0.6666666666666666,
             "#ed7953"
            ],
            [
             0.7777777777777778,
             "#fb9f3a"
            ],
            [
             0.8888888888888888,
             "#fdca26"
            ],
            [
             1.0,
             "#f0f921"
            ]
           ],
           "diverging": [
            [
             0,
             "#8e0152"
            ],
            [
             0.1,
             "#c51b7d"
            ],
            [
             0.2,
             "#de77ae"
            ],
            [
             0.3,
             "#f1b6da"
            ],
            [
             0.4,
             "#fde0ef"
            ],
            [
             0.5,
             "#f7f7f7"
            ],
            [
             0.6,
             "#e6f5d0"
            ],
            [
             0.7,
             "#b8e186"
            ],
            [
             0.8,
             "#7fbc41"
            ],
            [
             0.9,
             "#4d9221"
            ],
            [
             1,
             "#276419"
            ]
           ]
          },
          "xaxis": {
           "gridcolor": "white",
           "linecolor": "white",
           "ticks": "",
           "title": {
            "standoff": 15
           },
           "zerolinecolor": "white",
           "automargin": true,
           "zerolinewidth": 2
          },
          "yaxis": {
           "gridcolor": "white",
           "linecolor": "white",
           "ticks": "",
           "title": {
            "standoff": 15
           },
           "zerolinecolor": "white",
           "automargin": true,
           "zerolinewidth": 2
          },
          "scene": {
           "xaxis": {
            "backgroundcolor": "#E5ECF6",
            "gridcolor": "white",
            "linecolor": "white",
            "showbackground": true,
            "ticks": "",
            "zerolinecolor": "white",
            "gridwidth": 2
           },
           "yaxis": {
            "backgroundcolor": "#E5ECF6",
            "gridcolor": "white",
            "linecolor": "white",
            "showbackground": true,
            "ticks": "",
            "zerolinecolor": "white",
            "gridwidth": 2
           },
           "zaxis": {
            "backgroundcolor": "#E5ECF6",
            "gridcolor": "white",
            "linecolor": "white",
            "showbackground": true,
            "ticks": "",
            "zerolinecolor": "white",
            "gridwidth": 2
           }
          },
          "shapedefaults": {
           "line": {
            "color": "#2a3f5f"
           }
          },
          "annotationdefaults": {
           "arrowcolor": "#2a3f5f",
           "arrowhead": 0,
           "arrowwidth": 1
          },
          "geo": {
           "bgcolor": "white",
           "landcolor": "#E5ECF6",
           "subunitcolor": "white",
           "showland": true,
           "showlakes": true,
           "lakecolor": "white"
          },
          "title": {
           "x": 0.05
          },
          "mapbox": {
           "style": "light"
          }
         }
        },
        "title": {
         "text": "$\\text{Average reward without replay buffer for every 250 games - }\\epsilon_{opt}=0.5$"
        },
        "xaxis": {
         "title": {
          "text": "$game$"
         }
        },
        "yaxis": {
         "title": {
          "text": "$average(reward)\\text{- 250 games}$"
         }
        }
       },
       "config": {
        "plotlyServerURL": "https://plot.ly"
       }
      },
      "text/html": "<div>                            <div id=\"40e720ef-58bd-4b49-ad5a-bf12a5c41b38\" class=\"plotly-graph-div\" style=\"height:525px; width:100%;\"></div>            <script type=\"text/javascript\">                require([\"plotly\"], function(Plotly) {                    window.PLOTLYENV=window.PLOTLYENV || {};                                    if (document.getElementById(\"40e720ef-58bd-4b49-ad5a-bf12a5c41b38\")) {                    Plotly.newPlot(                        \"40e720ef-58bd-4b49-ad5a-bf12a5c41b38\",                        [{\"mode\":\"lines\",\"x\":[249,499,749,999,1249,1499,1749,1999,2249,2499,2749,2999,3249,3499,3749,3999,4249,4499,4749,4999,5249,5499,5749,5999,6249,6499,6749,6999,7249,7499,7749,7999,8249,8499,8749,8999,9249,9499,9749,9999,10249,10499,10749,10999,11249,11499,11749,11999,12249,12499,12749,12999,13249,13499,13749,13999,14249,14499,14749,14999,15249,15499,15749,15999,16249,16499,16749,16999,17249,17499,17749,17999,18249,18499,18749,18999,19249,19499,19749,19999],\"y\":[-0.92,-0.884,-0.808,-0.788,-0.928,-0.764,-0.628,-0.8,-0.784,-0.604,-0.5,-0.628,-0.584,-0.5,-0.608,-0.588,-0.424,-0.456,-0.552,-0.504,-0.436,-0.372,-0.54,-0.396,-0.44,-0.436,-0.416,-0.352,-0.444,-0.404,-0.44,-0.344,-0.372,-0.272,-0.316,-0.352,-0.304,-0.396,-0.332,-0.348,-0.288,-0.296,-0.296,-0.316,-0.428,-0.404,-0.26,-0.356,-0.384,-0.32,-0.268,-0.28,-0.296,-0.192,-0.428,-0.296,-0.276,-0.256,-0.404,-0.408,-0.352,-0.272,-0.22,-0.208,-0.22,-0.164,-0.164,-0.284,-0.176,-0.288,-0.248,-0.208,-0.132,-0.152,-0.196,-0.272,-0.14,-0.212,-0.232,-0.164],\"type\":\"scatter\"}],                        {\"template\":{\"data\":{\"histogram2dcontour\":[{\"type\":\"histogram2dcontour\",\"colorbar\":{\"outlinewidth\":0,\"ticks\":\"\"},\"colorscale\":[[0.0,\"#0d0887\"],[0.1111111111111111,\"#46039f\"],[0.2222222222222222,\"#7201a8\"],[0.3333333333333333,\"#9c179e\"],[0.4444444444444444,\"#bd3786\"],[0.5555555555555556,\"#d8576b\"],[0.6666666666666666,\"#ed7953\"],[0.7777777777777778,\"#fb9f3a\"],[0.8888888888888888,\"#fdca26\"],[1.0,\"#f0f921\"]]}],\"choropleth\":[{\"type\":\"choropleth\",\"colorbar\":{\"outlinewidth\":0,\"ticks\":\"\"}}],\"histogram2d\":[{\"type\":\"histogram2d\",\"colorbar\":{\"outlinewidth\":0,\"ticks\":\"\"},\"colorscale\":[[0.0,\"#0d0887\"],[0.1111111111111111,\"#46039f\"],[0.2222222222222222,\"#7201a8\"],[0.3333333333333333,\"#9c179e\"],[0.4444444444444444,\"#bd3786\"],[0.5555555555555556,\"#d8576b\"],[0.6666666666666666,\"#ed7953\"],[0.7777777777777778,\"#fb9f3a\"],[0.8888888888888888,\"#fdca26\"],[1.0,\"#f0f921\"]]}],\"heatmap\":[{\"type\":\"heatmap\",\"colorbar\":{\"outlinewidth\":0,\"ticks\":\"\"},\"colorscale\":[[0.0,\"#0d0887\"],[0.1111111111111111,\"#46039f\"],[0.2222222222222222,\"#7201a8\"],[0.3333333333333333,\"#9c179e\"],[0.4444444444444444,\"#bd3786\"],[0.5555555555555556,\"#d8576b\"],[0.6666666666666666,\"#ed7953\"],[0.7777777777777778,\"#fb9f3a\"],[0.8888888888888888,\"#fdca26\"],[1.0,\"#f0f921\"]]}],\"heatmapgl\":[{\"type\":\"heatmapgl\",\"colorbar\":{\"outlinewidth\":0,\"ticks\":\"\"},\"colorscale\":[[0.0,\"#0d0887\"],[0.1111111111111111,\"#46039f\"],[0.2222222222222222,\"#7201a8\"],[0.3333333333333333,\"#9c179e\"],[0.4444444444444444,\"#bd3786\"],[0.5555555555555556,\"#d8576b\"],[0.6666666666666666,\"#ed7953\"],[0.7777777777777778,\"#fb9f3a\"],[0.8888888888888888,\"#fdca26\"],[1.0,\"#f0f921\"]]}],\"contourcarpet\":[{\"type\":\"contourcarpet\",\"colorbar\":{\"outlinewidth\":0,\"ticks\":\"\"}}],\"contour\":[{\"type\":\"contour\",\"colorbar\":{\"outlinewidth\":0,\"ticks\":\"\"},\"colorscale\":[[0.0,\"#0d0887\"],[0.1111111111111111,\"#46039f\"],[0.2222222222222222,\"#7201a8\"],[0.3333333333333333,\"#9c179e\"],[0.4444444444444444,\"#bd3786\"],[0.5555555555555556,\"#d8576b\"],[0.6666666666666666,\"#ed7953\"],[0.7777777777777778,\"#fb9f3a\"],[0.8888888888888888,\"#fdca26\"],[1.0,\"#f0f921\"]]}],\"surface\":[{\"type\":\"surface\",\"colorbar\":{\"outlinewidth\":0,\"ticks\":\"\"},\"colorscale\":[[0.0,\"#0d0887\"],[0.1111111111111111,\"#46039f\"],[0.2222222222222222,\"#7201a8\"],[0.3333333333333333,\"#9c179e\"],[0.4444444444444444,\"#bd3786\"],[0.5555555555555556,\"#d8576b\"],[0.6666666666666666,\"#ed7953\"],[0.7777777777777778,\"#fb9f3a\"],[0.8888888888888888,\"#fdca26\"],[1.0,\"#f0f921\"]]}],\"mesh3d\":[{\"type\":\"mesh3d\",\"colorbar\":{\"outlinewidth\":0,\"ticks\":\"\"}}],\"scatter\":[{\"fillpattern\":{\"fillmode\":\"overlay\",\"size\":10,\"solidity\":0.2},\"type\":\"scatter\"}],\"parcoords\":[{\"type\":\"parcoords\",\"line\":{\"colorbar\":{\"outlinewidth\":0,\"ticks\":\"\"}}}],\"scatterpolargl\":[{\"type\":\"scatterpolargl\",\"marker\":{\"colorbar\":{\"outlinewidth\":0,\"ticks\":\"\"}}}],\"bar\":[{\"error_x\":{\"color\":\"#2a3f5f\"},\"error_y\":{\"color\":\"#2a3f5f\"},\"marker\":{\"line\":{\"color\":\"#E5ECF6\",\"width\":0.5},\"pattern\":{\"fillmode\":\"overlay\",\"size\":10,\"solidity\":0.2}},\"type\":\"bar\"}],\"scattergeo\":[{\"type\":\"scattergeo\",\"marker\":{\"colorbar\":{\"outlinewidth\":0,\"ticks\":\"\"}}}],\"scatterpolar\":[{\"type\":\"scatterpolar\",\"marker\":{\"colorbar\":{\"outlinewidth\":0,\"ticks\":\"\"}}}],\"histogram\":[{\"marker\":{\"pattern\":{\"fillmode\":\"overlay\",\"size\":10,\"solidity\":0.2}},\"type\":\"histogram\"}],\"scattergl\":[{\"type\":\"scattergl\",\"marker\":{\"colorbar\":{\"outlinewidth\":0,\"ticks\":\"\"}}}],\"scatter3d\":[{\"type\":\"scatter3d\",\"line\":{\"colorbar\":{\"outlinewidth\":0,\"ticks\":\"\"}},\"marker\":{\"colorbar\":{\"outlinewidth\":0,\"ticks\":\"\"}}}],\"scattermapbox\":[{\"type\":\"scattermapbox\",\"marker\":{\"colorbar\":{\"outlinewidth\":0,\"ticks\":\"\"}}}],\"scatterternary\":[{\"type\":\"scatterternary\",\"marker\":{\"colorbar\":{\"outlinewidth\":0,\"ticks\":\"\"}}}],\"scattercarpet\":[{\"type\":\"scattercarpet\",\"marker\":{\"colorbar\":{\"outlinewidth\":0,\"ticks\":\"\"}}}],\"carpet\":[{\"aaxis\":{\"endlinecolor\":\"#2a3f5f\",\"gridcolor\":\"white\",\"linecolor\":\"white\",\"minorgridcolor\":\"white\",\"startlinecolor\":\"#2a3f5f\"},\"baxis\":{\"endlinecolor\":\"#2a3f5f\",\"gridcolor\":\"white\",\"linecolor\":\"white\",\"minorgridcolor\":\"white\",\"startlinecolor\":\"#2a3f5f\"},\"type\":\"carpet\"}],\"table\":[{\"cells\":{\"fill\":{\"color\":\"#EBF0F8\"},\"line\":{\"color\":\"white\"}},\"header\":{\"fill\":{\"color\":\"#C8D4E3\"},\"line\":{\"color\":\"white\"}},\"type\":\"table\"}],\"barpolar\":[{\"marker\":{\"line\":{\"color\":\"#E5ECF6\",\"width\":0.5},\"pattern\":{\"fillmode\":\"overlay\",\"size\":10,\"solidity\":0.2}},\"type\":\"barpolar\"}],\"pie\":[{\"automargin\":true,\"type\":\"pie\"}]},\"layout\":{\"autotypenumbers\":\"strict\",\"colorway\":[\"#636efa\",\"#EF553B\",\"#00cc96\",\"#ab63fa\",\"#FFA15A\",\"#19d3f3\",\"#FF6692\",\"#B6E880\",\"#FF97FF\",\"#FECB52\"],\"font\":{\"color\":\"#2a3f5f\"},\"hovermode\":\"closest\",\"hoverlabel\":{\"align\":\"left\"},\"paper_bgcolor\":\"white\",\"plot_bgcolor\":\"#E5ECF6\",\"polar\":{\"bgcolor\":\"#E5ECF6\",\"angularaxis\":{\"gridcolor\":\"white\",\"linecolor\":\"white\",\"ticks\":\"\"},\"radialaxis\":{\"gridcolor\":\"white\",\"linecolor\":\"white\",\"ticks\":\"\"}},\"ternary\":{\"bgcolor\":\"#E5ECF6\",\"aaxis\":{\"gridcolor\":\"white\",\"linecolor\":\"white\",\"ticks\":\"\"},\"baxis\":{\"gridcolor\":\"white\",\"linecolor\":\"white\",\"ticks\":\"\"},\"caxis\":{\"gridcolor\":\"white\",\"linecolor\":\"white\",\"ticks\":\"\"}},\"coloraxis\":{\"colorbar\":{\"outlinewidth\":0,\"ticks\":\"\"}},\"colorscale\":{\"sequential\":[[0.0,\"#0d0887\"],[0.1111111111111111,\"#46039f\"],[0.2222222222222222,\"#7201a8\"],[0.3333333333333333,\"#9c179e\"],[0.4444444444444444,\"#bd3786\"],[0.5555555555555556,\"#d8576b\"],[0.6666666666666666,\"#ed7953\"],[0.7777777777777778,\"#fb9f3a\"],[0.8888888888888888,\"#fdca26\"],[1.0,\"#f0f921\"]],\"sequentialminus\":[[0.0,\"#0d0887\"],[0.1111111111111111,\"#46039f\"],[0.2222222222222222,\"#7201a8\"],[0.3333333333333333,\"#9c179e\"],[0.4444444444444444,\"#bd3786\"],[0.5555555555555556,\"#d8576b\"],[0.6666666666666666,\"#ed7953\"],[0.7777777777777778,\"#fb9f3a\"],[0.8888888888888888,\"#fdca26\"],[1.0,\"#f0f921\"]],\"diverging\":[[0,\"#8e0152\"],[0.1,\"#c51b7d\"],[0.2,\"#de77ae\"],[0.3,\"#f1b6da\"],[0.4,\"#fde0ef\"],[0.5,\"#f7f7f7\"],[0.6,\"#e6f5d0\"],[0.7,\"#b8e186\"],[0.8,\"#7fbc41\"],[0.9,\"#4d9221\"],[1,\"#276419\"]]},\"xaxis\":{\"gridcolor\":\"white\",\"linecolor\":\"white\",\"ticks\":\"\",\"title\":{\"standoff\":15},\"zerolinecolor\":\"white\",\"automargin\":true,\"zerolinewidth\":2},\"yaxis\":{\"gridcolor\":\"white\",\"linecolor\":\"white\",\"ticks\":\"\",\"title\":{\"standoff\":15},\"zerolinecolor\":\"white\",\"automargin\":true,\"zerolinewidth\":2},\"scene\":{\"xaxis\":{\"backgroundcolor\":\"#E5ECF6\",\"gridcolor\":\"white\",\"linecolor\":\"white\",\"showbackground\":true,\"ticks\":\"\",\"zerolinecolor\":\"white\",\"gridwidth\":2},\"yaxis\":{\"backgroundcolor\":\"#E5ECF6\",\"gridcolor\":\"white\",\"linecolor\":\"white\",\"showbackground\":true,\"ticks\":\"\",\"zerolinecolor\":\"white\",\"gridwidth\":2},\"zaxis\":{\"backgroundcolor\":\"#E5ECF6\",\"gridcolor\":\"white\",\"linecolor\":\"white\",\"showbackground\":true,\"ticks\":\"\",\"zerolinecolor\":\"white\",\"gridwidth\":2}},\"shapedefaults\":{\"line\":{\"color\":\"#2a3f5f\"}},\"annotationdefaults\":{\"arrowcolor\":\"#2a3f5f\",\"arrowhead\":0,\"arrowwidth\":1},\"geo\":{\"bgcolor\":\"white\",\"landcolor\":\"#E5ECF6\",\"subunitcolor\":\"white\",\"showland\":true,\"showlakes\":true,\"lakecolor\":\"white\"},\"title\":{\"x\":0.05},\"mapbox\":{\"style\":\"light\"}}},\"title\":{\"text\":\"$\\\\text{Average reward without replay buffer for every 250 games - }\\\\epsilon_{opt}=0.5$\"},\"xaxis\":{\"title\":{\"text\":\"$game$\"}},\"yaxis\":{\"title\":{\"text\":\"$average(reward)\\\\text{- 250 games}$\"}}},                        {\"responsive\": true}                    ).then(function(){\n                            \nvar gd = document.getElementById('40e720ef-58bd-4b49-ad5a-bf12a5c41b38');\nvar x = new MutationObserver(function (mutations, observer) {{\n        var display = window.getComputedStyle(gd).display;\n        if (!display || display === 'none') {{\n            console.log([gd, 'removed!']);\n            Plotly.purge(gd);\n            observer.disconnect();\n        }}\n}});\n\n// Listen for the removal of the full notebook cells\nvar notebookContainer = gd.closest('#notebook-container');\nif (notebookContainer) {{\n    x.observe(notebookContainer, {childList: true});\n}}\n\n// Listen for the clearing of the current output cell\nvar outputEl = gd.closest('.output');\nif (outputEl) {{\n    x.observe(outputEl, {childList: true});\n}}\n\n                        })                };                });            </script>        </div>"
     },
     "metadata": {},
     "output_type": "display_data"
    }
   ],
   "source": [
    "fig = go.Figure()\n",
    "\n",
    "fig.add_trace(go.Scatter(x=x, y=rewards, mode='lines'))\n",
    "\n",
    "fig.update_layout(\n",
    "    title=r'$\\text{Average reward without replay buffer for every %d games - }\\epsilon_{opt}=0.5$' % averaging_steps,\n",
    "    xaxis_title=r'$game$',\n",
    "    yaxis_title=r'$average(reward)\\text{- %d games}$' % (averaging_steps),\n",
    ")\n",
    "\n",
    "fig.show()"
   ]
  },
  {
   "cell_type": "code",
   "execution_count": 24,
   "metadata": {
    "collapsed": false,
    "pycharm": {
     "name": "#%%\n"
    }
   },
   "outputs": [
    {
     "data": {
      "application/vnd.plotly.v1+json": {
       "data": [
        {
         "mode": "lines",
         "x": [
          249,
          499,
          749,
          999,
          1249,
          1499,
          1749,
          1999,
          2249,
          2499,
          2749,
          2999,
          3249,
          3499,
          3749,
          3999,
          4249,
          4499,
          4749,
          4999,
          5249,
          5499,
          5749,
          5999,
          6249,
          6499,
          6749,
          6999,
          7249,
          7499,
          7749,
          7999,
          8249,
          8499,
          8749,
          8999,
          9249,
          9499,
          9749,
          9999,
          10249,
          10499,
          10749,
          10999,
          11249,
          11499,
          11749,
          11999,
          12249,
          12499,
          12749,
          12999,
          13249,
          13499,
          13749,
          13999,
          14249,
          14499,
          14749,
          14999,
          15249,
          15499,
          15749,
          15999,
          16249,
          16499,
          16749,
          16999,
          17249,
          17499,
          17749,
          17999,
          18249,
          18499,
          18749,
          18999,
          19249,
          19499,
          19749,
          19999
         ],
         "y": [
          2.2121872188349854,
          1.3819892522466546,
          1.6891578932628843,
          1.5265690202560822,
          1.914965112862705,
          1.6034061912855102,
          1.628941851490362,
          1.9208833422829723,
          1.4907595789263381,
          1.3969997613835674,
          1.8250943940202817,
          1.8515138202640744,
          1.4305869559449762,
          1.607865717880958,
          1.510620015018699,
          1.53683236358185,
          1.4822061430792266,
          1.3504146758127293,
          1.6876403258353843,
          1.583057702781394,
          1.3291339841512944,
          1.329567923173787,
          1.9181082470166304,
          1.5288795067376648,
          1.4889319823422438,
          1.34934495594051,
          1.662734440938197,
          1.552987690096842,
          1.3378326645917205,
          1.2051582944183175,
          1.6098895573693213,
          1.4952131489976224,
          1.1612582269280671,
          1.0961199873863532,
          1.2270845562276131,
          1.3218821963074363,
          1.2023431636292683,
          1.1389411980506223,
          1.3366370361694746,
          1.2409919368454834,
          1.3751464486683709,
          1.2300890249799723,
          1.3164221317813645,
          1.0848408809860124,
          1.285868039356135,
          1.391768320367708,
          1.4203416999173117,
          1.424317736285879,
          1.1912998744576275,
          1.2471793066358232,
          1.3879644111729046,
          1.5076311228422412,
          1.3894737959561407,
          1.2805542992964656,
          1.459399368297974,
          1.2899842843325395,
          1.3144998339952785,
          1.2867283794903492,
          1.2429690670312588,
          1.3558641603919073,
          1.2539565165112543,
          1.1664047445781158,
          1.1771390342659205,
          1.1775540870710246,
          1.1774801010425249,
          1.1013362619626839,
          1.2652386083812333,
          1.1868312472914386,
          1.1081771855856055,
          1.1482230845600312,
          1.1492321855234267,
          1.1472736540321662,
          1.1782914790054009,
          1.1875394103647534,
          1.2458159959261377,
          1.3571410486889781,
          1.192295525743839,
          1.2081827898065887,
          1.0148433520338451,
          0.9196983008587317
         ],
         "type": "scatter"
        }
       ],
       "layout": {
        "template": {
         "data": {
          "histogram2dcontour": [
           {
            "type": "histogram2dcontour",
            "colorbar": {
             "outlinewidth": 0,
             "ticks": ""
            },
            "colorscale": [
             [
              0.0,
              "#0d0887"
             ],
             [
              0.1111111111111111,
              "#46039f"
             ],
             [
              0.2222222222222222,
              "#7201a8"
             ],
             [
              0.3333333333333333,
              "#9c179e"
             ],
             [
              0.4444444444444444,
              "#bd3786"
             ],
             [
              0.5555555555555556,
              "#d8576b"
             ],
             [
              0.6666666666666666,
              "#ed7953"
             ],
             [
              0.7777777777777778,
              "#fb9f3a"
             ],
             [
              0.8888888888888888,
              "#fdca26"
             ],
             [
              1.0,
              "#f0f921"
             ]
            ]
           }
          ],
          "choropleth": [
           {
            "type": "choropleth",
            "colorbar": {
             "outlinewidth": 0,
             "ticks": ""
            }
           }
          ],
          "histogram2d": [
           {
            "type": "histogram2d",
            "colorbar": {
             "outlinewidth": 0,
             "ticks": ""
            },
            "colorscale": [
             [
              0.0,
              "#0d0887"
             ],
             [
              0.1111111111111111,
              "#46039f"
             ],
             [
              0.2222222222222222,
              "#7201a8"
             ],
             [
              0.3333333333333333,
              "#9c179e"
             ],
             [
              0.4444444444444444,
              "#bd3786"
             ],
             [
              0.5555555555555556,
              "#d8576b"
             ],
             [
              0.6666666666666666,
              "#ed7953"
             ],
             [
              0.7777777777777778,
              "#fb9f3a"
             ],
             [
              0.8888888888888888,
              "#fdca26"
             ],
             [
              1.0,
              "#f0f921"
             ]
            ]
           }
          ],
          "heatmap": [
           {
            "type": "heatmap",
            "colorbar": {
             "outlinewidth": 0,
             "ticks": ""
            },
            "colorscale": [
             [
              0.0,
              "#0d0887"
             ],
             [
              0.1111111111111111,
              "#46039f"
             ],
             [
              0.2222222222222222,
              "#7201a8"
             ],
             [
              0.3333333333333333,
              "#9c179e"
             ],
             [
              0.4444444444444444,
              "#bd3786"
             ],
             [
              0.5555555555555556,
              "#d8576b"
             ],
             [
              0.6666666666666666,
              "#ed7953"
             ],
             [
              0.7777777777777778,
              "#fb9f3a"
             ],
             [
              0.8888888888888888,
              "#fdca26"
             ],
             [
              1.0,
              "#f0f921"
             ]
            ]
           }
          ],
          "heatmapgl": [
           {
            "type": "heatmapgl",
            "colorbar": {
             "outlinewidth": 0,
             "ticks": ""
            },
            "colorscale": [
             [
              0.0,
              "#0d0887"
             ],
             [
              0.1111111111111111,
              "#46039f"
             ],
             [
              0.2222222222222222,
              "#7201a8"
             ],
             [
              0.3333333333333333,
              "#9c179e"
             ],
             [
              0.4444444444444444,
              "#bd3786"
             ],
             [
              0.5555555555555556,
              "#d8576b"
             ],
             [
              0.6666666666666666,
              "#ed7953"
             ],
             [
              0.7777777777777778,
              "#fb9f3a"
             ],
             [
              0.8888888888888888,
              "#fdca26"
             ],
             [
              1.0,
              "#f0f921"
             ]
            ]
           }
          ],
          "contourcarpet": [
           {
            "type": "contourcarpet",
            "colorbar": {
             "outlinewidth": 0,
             "ticks": ""
            }
           }
          ],
          "contour": [
           {
            "type": "contour",
            "colorbar": {
             "outlinewidth": 0,
             "ticks": ""
            },
            "colorscale": [
             [
              0.0,
              "#0d0887"
             ],
             [
              0.1111111111111111,
              "#46039f"
             ],
             [
              0.2222222222222222,
              "#7201a8"
             ],
             [
              0.3333333333333333,
              "#9c179e"
             ],
             [
              0.4444444444444444,
              "#bd3786"
             ],
             [
              0.5555555555555556,
              "#d8576b"
             ],
             [
              0.6666666666666666,
              "#ed7953"
             ],
             [
              0.7777777777777778,
              "#fb9f3a"
             ],
             [
              0.8888888888888888,
              "#fdca26"
             ],
             [
              1.0,
              "#f0f921"
             ]
            ]
           }
          ],
          "surface": [
           {
            "type": "surface",
            "colorbar": {
             "outlinewidth": 0,
             "ticks": ""
            },
            "colorscale": [
             [
              0.0,
              "#0d0887"
             ],
             [
              0.1111111111111111,
              "#46039f"
             ],
             [
              0.2222222222222222,
              "#7201a8"
             ],
             [
              0.3333333333333333,
              "#9c179e"
             ],
             [
              0.4444444444444444,
              "#bd3786"
             ],
             [
              0.5555555555555556,
              "#d8576b"
             ],
             [
              0.6666666666666666,
              "#ed7953"
             ],
             [
              0.7777777777777778,
              "#fb9f3a"
             ],
             [
              0.8888888888888888,
              "#fdca26"
             ],
             [
              1.0,
              "#f0f921"
             ]
            ]
           }
          ],
          "mesh3d": [
           {
            "type": "mesh3d",
            "colorbar": {
             "outlinewidth": 0,
             "ticks": ""
            }
           }
          ],
          "scatter": [
           {
            "fillpattern": {
             "fillmode": "overlay",
             "size": 10,
             "solidity": 0.2
            },
            "type": "scatter"
           }
          ],
          "parcoords": [
           {
            "type": "parcoords",
            "line": {
             "colorbar": {
              "outlinewidth": 0,
              "ticks": ""
             }
            }
           }
          ],
          "scatterpolargl": [
           {
            "type": "scatterpolargl",
            "marker": {
             "colorbar": {
              "outlinewidth": 0,
              "ticks": ""
             }
            }
           }
          ],
          "bar": [
           {
            "error_x": {
             "color": "#2a3f5f"
            },
            "error_y": {
             "color": "#2a3f5f"
            },
            "marker": {
             "line": {
              "color": "#E5ECF6",
              "width": 0.5
             },
             "pattern": {
              "fillmode": "overlay",
              "size": 10,
              "solidity": 0.2
             }
            },
            "type": "bar"
           }
          ],
          "scattergeo": [
           {
            "type": "scattergeo",
            "marker": {
             "colorbar": {
              "outlinewidth": 0,
              "ticks": ""
             }
            }
           }
          ],
          "scatterpolar": [
           {
            "type": "scatterpolar",
            "marker": {
             "colorbar": {
              "outlinewidth": 0,
              "ticks": ""
             }
            }
           }
          ],
          "histogram": [
           {
            "marker": {
             "pattern": {
              "fillmode": "overlay",
              "size": 10,
              "solidity": 0.2
             }
            },
            "type": "histogram"
           }
          ],
          "scattergl": [
           {
            "type": "scattergl",
            "marker": {
             "colorbar": {
              "outlinewidth": 0,
              "ticks": ""
             }
            }
           }
          ],
          "scatter3d": [
           {
            "type": "scatter3d",
            "line": {
             "colorbar": {
              "outlinewidth": 0,
              "ticks": ""
             }
            },
            "marker": {
             "colorbar": {
              "outlinewidth": 0,
              "ticks": ""
             }
            }
           }
          ],
          "scattermapbox": [
           {
            "type": "scattermapbox",
            "marker": {
             "colorbar": {
              "outlinewidth": 0,
              "ticks": ""
             }
            }
           }
          ],
          "scatterternary": [
           {
            "type": "scatterternary",
            "marker": {
             "colorbar": {
              "outlinewidth": 0,
              "ticks": ""
             }
            }
           }
          ],
          "scattercarpet": [
           {
            "type": "scattercarpet",
            "marker": {
             "colorbar": {
              "outlinewidth": 0,
              "ticks": ""
             }
            }
           }
          ],
          "carpet": [
           {
            "aaxis": {
             "endlinecolor": "#2a3f5f",
             "gridcolor": "white",
             "linecolor": "white",
             "minorgridcolor": "white",
             "startlinecolor": "#2a3f5f"
            },
            "baxis": {
             "endlinecolor": "#2a3f5f",
             "gridcolor": "white",
             "linecolor": "white",
             "minorgridcolor": "white",
             "startlinecolor": "#2a3f5f"
            },
            "type": "carpet"
           }
          ],
          "table": [
           {
            "cells": {
             "fill": {
              "color": "#EBF0F8"
             },
             "line": {
              "color": "white"
             }
            },
            "header": {
             "fill": {
              "color": "#C8D4E3"
             },
             "line": {
              "color": "white"
             }
            },
            "type": "table"
           }
          ],
          "barpolar": [
           {
            "marker": {
             "line": {
              "color": "#E5ECF6",
              "width": 0.5
             },
             "pattern": {
              "fillmode": "overlay",
              "size": 10,
              "solidity": 0.2
             }
            },
            "type": "barpolar"
           }
          ],
          "pie": [
           {
            "automargin": true,
            "type": "pie"
           }
          ]
         },
         "layout": {
          "autotypenumbers": "strict",
          "colorway": [
           "#636efa",
           "#EF553B",
           "#00cc96",
           "#ab63fa",
           "#FFA15A",
           "#19d3f3",
           "#FF6692",
           "#B6E880",
           "#FF97FF",
           "#FECB52"
          ],
          "font": {
           "color": "#2a3f5f"
          },
          "hovermode": "closest",
          "hoverlabel": {
           "align": "left"
          },
          "paper_bgcolor": "white",
          "plot_bgcolor": "#E5ECF6",
          "polar": {
           "bgcolor": "#E5ECF6",
           "angularaxis": {
            "gridcolor": "white",
            "linecolor": "white",
            "ticks": ""
           },
           "radialaxis": {
            "gridcolor": "white",
            "linecolor": "white",
            "ticks": ""
           }
          },
          "ternary": {
           "bgcolor": "#E5ECF6",
           "aaxis": {
            "gridcolor": "white",
            "linecolor": "white",
            "ticks": ""
           },
           "baxis": {
            "gridcolor": "white",
            "linecolor": "white",
            "ticks": ""
           },
           "caxis": {
            "gridcolor": "white",
            "linecolor": "white",
            "ticks": ""
           }
          },
          "coloraxis": {
           "colorbar": {
            "outlinewidth": 0,
            "ticks": ""
           }
          },
          "colorscale": {
           "sequential": [
            [
             0.0,
             "#0d0887"
            ],
            [
             0.1111111111111111,
             "#46039f"
            ],
            [
             0.2222222222222222,
             "#7201a8"
            ],
            [
             0.3333333333333333,
             "#9c179e"
            ],
            [
             0.4444444444444444,
             "#bd3786"
            ],
            [
             0.5555555555555556,
             "#d8576b"
            ],
            [
             0.6666666666666666,
             "#ed7953"
            ],
            [
             0.7777777777777778,
             "#fb9f3a"
            ],
            [
             0.8888888888888888,
             "#fdca26"
            ],
            [
             1.0,
             "#f0f921"
            ]
           ],
           "sequentialminus": [
            [
             0.0,
             "#0d0887"
            ],
            [
             0.1111111111111111,
             "#46039f"
            ],
            [
             0.2222222222222222,
             "#7201a8"
            ],
            [
             0.3333333333333333,
             "#9c179e"
            ],
            [
             0.4444444444444444,
             "#bd3786"
            ],
            [
             0.5555555555555556,
             "#d8576b"
            ],
            [
             0.6666666666666666,
             "#ed7953"
            ],
            [
             0.7777777777777778,
             "#fb9f3a"
            ],
            [
             0.8888888888888888,
             "#fdca26"
            ],
            [
             1.0,
             "#f0f921"
            ]
           ],
           "diverging": [
            [
             0,
             "#8e0152"
            ],
            [
             0.1,
             "#c51b7d"
            ],
            [
             0.2,
             "#de77ae"
            ],
            [
             0.3,
             "#f1b6da"
            ],
            [
             0.4,
             "#fde0ef"
            ],
            [
             0.5,
             "#f7f7f7"
            ],
            [
             0.6,
             "#e6f5d0"
            ],
            [
             0.7,
             "#b8e186"
            ],
            [
             0.8,
             "#7fbc41"
            ],
            [
             0.9,
             "#4d9221"
            ],
            [
             1,
             "#276419"
            ]
           ]
          },
          "xaxis": {
           "gridcolor": "white",
           "linecolor": "white",
           "ticks": "",
           "title": {
            "standoff": 15
           },
           "zerolinecolor": "white",
           "automargin": true,
           "zerolinewidth": 2
          },
          "yaxis": {
           "gridcolor": "white",
           "linecolor": "white",
           "ticks": "",
           "title": {
            "standoff": 15
           },
           "zerolinecolor": "white",
           "automargin": true,
           "zerolinewidth": 2
          },
          "scene": {
           "xaxis": {
            "backgroundcolor": "#E5ECF6",
            "gridcolor": "white",
            "linecolor": "white",
            "showbackground": true,
            "ticks": "",
            "zerolinecolor": "white",
            "gridwidth": 2
           },
           "yaxis": {
            "backgroundcolor": "#E5ECF6",
            "gridcolor": "white",
            "linecolor": "white",
            "showbackground": true,
            "ticks": "",
            "zerolinecolor": "white",
            "gridwidth": 2
           },
           "zaxis": {
            "backgroundcolor": "#E5ECF6",
            "gridcolor": "white",
            "linecolor": "white",
            "showbackground": true,
            "ticks": "",
            "zerolinecolor": "white",
            "gridwidth": 2
           }
          },
          "shapedefaults": {
           "line": {
            "color": "#2a3f5f"
           }
          },
          "annotationdefaults": {
           "arrowcolor": "#2a3f5f",
           "arrowhead": 0,
           "arrowwidth": 1
          },
          "geo": {
           "bgcolor": "white",
           "landcolor": "#E5ECF6",
           "subunitcolor": "white",
           "showland": true,
           "showlakes": true,
           "lakecolor": "white"
          },
          "title": {
           "x": 0.05
          },
          "mapbox": {
           "style": "light"
          }
         }
        },
        "title": {
         "text": "$\\text{Average loss for every 250 games - }\\epsilon_{opt}=0.5$, without replay buffer"
        },
        "xaxis": {
         "title": {
          "text": "$game$"
         }
        },
        "yaxis": {
         "title": {
          "text": "$average(loss)\\text{- 250 games}$"
         }
        }
       },
       "config": {
        "plotlyServerURL": "https://plot.ly"
       }
      },
      "text/html": "<div>                            <div id=\"ee694c77-cda0-4ebd-81cc-90aeb31da58c\" class=\"plotly-graph-div\" style=\"height:525px; width:100%;\"></div>            <script type=\"text/javascript\">                require([\"plotly\"], function(Plotly) {                    window.PLOTLYENV=window.PLOTLYENV || {};                                    if (document.getElementById(\"ee694c77-cda0-4ebd-81cc-90aeb31da58c\")) {                    Plotly.newPlot(                        \"ee694c77-cda0-4ebd-81cc-90aeb31da58c\",                        [{\"mode\":\"lines\",\"x\":[249,499,749,999,1249,1499,1749,1999,2249,2499,2749,2999,3249,3499,3749,3999,4249,4499,4749,4999,5249,5499,5749,5999,6249,6499,6749,6999,7249,7499,7749,7999,8249,8499,8749,8999,9249,9499,9749,9999,10249,10499,10749,10999,11249,11499,11749,11999,12249,12499,12749,12999,13249,13499,13749,13999,14249,14499,14749,14999,15249,15499,15749,15999,16249,16499,16749,16999,17249,17499,17749,17999,18249,18499,18749,18999,19249,19499,19749,19999],\"y\":[2.2121872188349854,1.3819892522466546,1.6891578932628843,1.5265690202560822,1.914965112862705,1.6034061912855102,1.628941851490362,1.9208833422829723,1.4907595789263381,1.3969997613835674,1.8250943940202817,1.8515138202640744,1.4305869559449762,1.607865717880958,1.510620015018699,1.53683236358185,1.4822061430792266,1.3504146758127293,1.6876403258353843,1.583057702781394,1.3291339841512944,1.329567923173787,1.9181082470166304,1.5288795067376648,1.4889319823422438,1.34934495594051,1.662734440938197,1.552987690096842,1.3378326645917205,1.2051582944183175,1.6098895573693213,1.4952131489976224,1.1612582269280671,1.0961199873863532,1.2270845562276131,1.3218821963074363,1.2023431636292683,1.1389411980506223,1.3366370361694746,1.2409919368454834,1.3751464486683709,1.2300890249799723,1.3164221317813645,1.0848408809860124,1.285868039356135,1.391768320367708,1.4203416999173117,1.424317736285879,1.1912998744576275,1.2471793066358232,1.3879644111729046,1.5076311228422412,1.3894737959561407,1.2805542992964656,1.459399368297974,1.2899842843325395,1.3144998339952785,1.2867283794903492,1.2429690670312588,1.3558641603919073,1.2539565165112543,1.1664047445781158,1.1771390342659205,1.1775540870710246,1.1774801010425249,1.1013362619626839,1.2652386083812333,1.1868312472914386,1.1081771855856055,1.1482230845600312,1.1492321855234267,1.1472736540321662,1.1782914790054009,1.1875394103647534,1.2458159959261377,1.3571410486889781,1.192295525743839,1.2081827898065887,1.0148433520338451,0.9196983008587317],\"type\":\"scatter\"}],                        {\"template\":{\"data\":{\"histogram2dcontour\":[{\"type\":\"histogram2dcontour\",\"colorbar\":{\"outlinewidth\":0,\"ticks\":\"\"},\"colorscale\":[[0.0,\"#0d0887\"],[0.1111111111111111,\"#46039f\"],[0.2222222222222222,\"#7201a8\"],[0.3333333333333333,\"#9c179e\"],[0.4444444444444444,\"#bd3786\"],[0.5555555555555556,\"#d8576b\"],[0.6666666666666666,\"#ed7953\"],[0.7777777777777778,\"#fb9f3a\"],[0.8888888888888888,\"#fdca26\"],[1.0,\"#f0f921\"]]}],\"choropleth\":[{\"type\":\"choropleth\",\"colorbar\":{\"outlinewidth\":0,\"ticks\":\"\"}}],\"histogram2d\":[{\"type\":\"histogram2d\",\"colorbar\":{\"outlinewidth\":0,\"ticks\":\"\"},\"colorscale\":[[0.0,\"#0d0887\"],[0.1111111111111111,\"#46039f\"],[0.2222222222222222,\"#7201a8\"],[0.3333333333333333,\"#9c179e\"],[0.4444444444444444,\"#bd3786\"],[0.5555555555555556,\"#d8576b\"],[0.6666666666666666,\"#ed7953\"],[0.7777777777777778,\"#fb9f3a\"],[0.8888888888888888,\"#fdca26\"],[1.0,\"#f0f921\"]]}],\"heatmap\":[{\"type\":\"heatmap\",\"colorbar\":{\"outlinewidth\":0,\"ticks\":\"\"},\"colorscale\":[[0.0,\"#0d0887\"],[0.1111111111111111,\"#46039f\"],[0.2222222222222222,\"#7201a8\"],[0.3333333333333333,\"#9c179e\"],[0.4444444444444444,\"#bd3786\"],[0.5555555555555556,\"#d8576b\"],[0.6666666666666666,\"#ed7953\"],[0.7777777777777778,\"#fb9f3a\"],[0.8888888888888888,\"#fdca26\"],[1.0,\"#f0f921\"]]}],\"heatmapgl\":[{\"type\":\"heatmapgl\",\"colorbar\":{\"outlinewidth\":0,\"ticks\":\"\"},\"colorscale\":[[0.0,\"#0d0887\"],[0.1111111111111111,\"#46039f\"],[0.2222222222222222,\"#7201a8\"],[0.3333333333333333,\"#9c179e\"],[0.4444444444444444,\"#bd3786\"],[0.5555555555555556,\"#d8576b\"],[0.6666666666666666,\"#ed7953\"],[0.7777777777777778,\"#fb9f3a\"],[0.8888888888888888,\"#fdca26\"],[1.0,\"#f0f921\"]]}],\"contourcarpet\":[{\"type\":\"contourcarpet\",\"colorbar\":{\"outlinewidth\":0,\"ticks\":\"\"}}],\"contour\":[{\"type\":\"contour\",\"colorbar\":{\"outlinewidth\":0,\"ticks\":\"\"},\"colorscale\":[[0.0,\"#0d0887\"],[0.1111111111111111,\"#46039f\"],[0.2222222222222222,\"#7201a8\"],[0.3333333333333333,\"#9c179e\"],[0.4444444444444444,\"#bd3786\"],[0.5555555555555556,\"#d8576b\"],[0.6666666666666666,\"#ed7953\"],[0.7777777777777778,\"#fb9f3a\"],[0.8888888888888888,\"#fdca26\"],[1.0,\"#f0f921\"]]}],\"surface\":[{\"type\":\"surface\",\"colorbar\":{\"outlinewidth\":0,\"ticks\":\"\"},\"colorscale\":[[0.0,\"#0d0887\"],[0.1111111111111111,\"#46039f\"],[0.2222222222222222,\"#7201a8\"],[0.3333333333333333,\"#9c179e\"],[0.4444444444444444,\"#bd3786\"],[0.5555555555555556,\"#d8576b\"],[0.6666666666666666,\"#ed7953\"],[0.7777777777777778,\"#fb9f3a\"],[0.8888888888888888,\"#fdca26\"],[1.0,\"#f0f921\"]]}],\"mesh3d\":[{\"type\":\"mesh3d\",\"colorbar\":{\"outlinewidth\":0,\"ticks\":\"\"}}],\"scatter\":[{\"fillpattern\":{\"fillmode\":\"overlay\",\"size\":10,\"solidity\":0.2},\"type\":\"scatter\"}],\"parcoords\":[{\"type\":\"parcoords\",\"line\":{\"colorbar\":{\"outlinewidth\":0,\"ticks\":\"\"}}}],\"scatterpolargl\":[{\"type\":\"scatterpolargl\",\"marker\":{\"colorbar\":{\"outlinewidth\":0,\"ticks\":\"\"}}}],\"bar\":[{\"error_x\":{\"color\":\"#2a3f5f\"},\"error_y\":{\"color\":\"#2a3f5f\"},\"marker\":{\"line\":{\"color\":\"#E5ECF6\",\"width\":0.5},\"pattern\":{\"fillmode\":\"overlay\",\"size\":10,\"solidity\":0.2}},\"type\":\"bar\"}],\"scattergeo\":[{\"type\":\"scattergeo\",\"marker\":{\"colorbar\":{\"outlinewidth\":0,\"ticks\":\"\"}}}],\"scatterpolar\":[{\"type\":\"scatterpolar\",\"marker\":{\"colorbar\":{\"outlinewidth\":0,\"ticks\":\"\"}}}],\"histogram\":[{\"marker\":{\"pattern\":{\"fillmode\":\"overlay\",\"size\":10,\"solidity\":0.2}},\"type\":\"histogram\"}],\"scattergl\":[{\"type\":\"scattergl\",\"marker\":{\"colorbar\":{\"outlinewidth\":0,\"ticks\":\"\"}}}],\"scatter3d\":[{\"type\":\"scatter3d\",\"line\":{\"colorbar\":{\"outlinewidth\":0,\"ticks\":\"\"}},\"marker\":{\"colorbar\":{\"outlinewidth\":0,\"ticks\":\"\"}}}],\"scattermapbox\":[{\"type\":\"scattermapbox\",\"marker\":{\"colorbar\":{\"outlinewidth\":0,\"ticks\":\"\"}}}],\"scatterternary\":[{\"type\":\"scatterternary\",\"marker\":{\"colorbar\":{\"outlinewidth\":0,\"ticks\":\"\"}}}],\"scattercarpet\":[{\"type\":\"scattercarpet\",\"marker\":{\"colorbar\":{\"outlinewidth\":0,\"ticks\":\"\"}}}],\"carpet\":[{\"aaxis\":{\"endlinecolor\":\"#2a3f5f\",\"gridcolor\":\"white\",\"linecolor\":\"white\",\"minorgridcolor\":\"white\",\"startlinecolor\":\"#2a3f5f\"},\"baxis\":{\"endlinecolor\":\"#2a3f5f\",\"gridcolor\":\"white\",\"linecolor\":\"white\",\"minorgridcolor\":\"white\",\"startlinecolor\":\"#2a3f5f\"},\"type\":\"carpet\"}],\"table\":[{\"cells\":{\"fill\":{\"color\":\"#EBF0F8\"},\"line\":{\"color\":\"white\"}},\"header\":{\"fill\":{\"color\":\"#C8D4E3\"},\"line\":{\"color\":\"white\"}},\"type\":\"table\"}],\"barpolar\":[{\"marker\":{\"line\":{\"color\":\"#E5ECF6\",\"width\":0.5},\"pattern\":{\"fillmode\":\"overlay\",\"size\":10,\"solidity\":0.2}},\"type\":\"barpolar\"}],\"pie\":[{\"automargin\":true,\"type\":\"pie\"}]},\"layout\":{\"autotypenumbers\":\"strict\",\"colorway\":[\"#636efa\",\"#EF553B\",\"#00cc96\",\"#ab63fa\",\"#FFA15A\",\"#19d3f3\",\"#FF6692\",\"#B6E880\",\"#FF97FF\",\"#FECB52\"],\"font\":{\"color\":\"#2a3f5f\"},\"hovermode\":\"closest\",\"hoverlabel\":{\"align\":\"left\"},\"paper_bgcolor\":\"white\",\"plot_bgcolor\":\"#E5ECF6\",\"polar\":{\"bgcolor\":\"#E5ECF6\",\"angularaxis\":{\"gridcolor\":\"white\",\"linecolor\":\"white\",\"ticks\":\"\"},\"radialaxis\":{\"gridcolor\":\"white\",\"linecolor\":\"white\",\"ticks\":\"\"}},\"ternary\":{\"bgcolor\":\"#E5ECF6\",\"aaxis\":{\"gridcolor\":\"white\",\"linecolor\":\"white\",\"ticks\":\"\"},\"baxis\":{\"gridcolor\":\"white\",\"linecolor\":\"white\",\"ticks\":\"\"},\"caxis\":{\"gridcolor\":\"white\",\"linecolor\":\"white\",\"ticks\":\"\"}},\"coloraxis\":{\"colorbar\":{\"outlinewidth\":0,\"ticks\":\"\"}},\"colorscale\":{\"sequential\":[[0.0,\"#0d0887\"],[0.1111111111111111,\"#46039f\"],[0.2222222222222222,\"#7201a8\"],[0.3333333333333333,\"#9c179e\"],[0.4444444444444444,\"#bd3786\"],[0.5555555555555556,\"#d8576b\"],[0.6666666666666666,\"#ed7953\"],[0.7777777777777778,\"#fb9f3a\"],[0.8888888888888888,\"#fdca26\"],[1.0,\"#f0f921\"]],\"sequentialminus\":[[0.0,\"#0d0887\"],[0.1111111111111111,\"#46039f\"],[0.2222222222222222,\"#7201a8\"],[0.3333333333333333,\"#9c179e\"],[0.4444444444444444,\"#bd3786\"],[0.5555555555555556,\"#d8576b\"],[0.6666666666666666,\"#ed7953\"],[0.7777777777777778,\"#fb9f3a\"],[0.8888888888888888,\"#fdca26\"],[1.0,\"#f0f921\"]],\"diverging\":[[0,\"#8e0152\"],[0.1,\"#c51b7d\"],[0.2,\"#de77ae\"],[0.3,\"#f1b6da\"],[0.4,\"#fde0ef\"],[0.5,\"#f7f7f7\"],[0.6,\"#e6f5d0\"],[0.7,\"#b8e186\"],[0.8,\"#7fbc41\"],[0.9,\"#4d9221\"],[1,\"#276419\"]]},\"xaxis\":{\"gridcolor\":\"white\",\"linecolor\":\"white\",\"ticks\":\"\",\"title\":{\"standoff\":15},\"zerolinecolor\":\"white\",\"automargin\":true,\"zerolinewidth\":2},\"yaxis\":{\"gridcolor\":\"white\",\"linecolor\":\"white\",\"ticks\":\"\",\"title\":{\"standoff\":15},\"zerolinecolor\":\"white\",\"automargin\":true,\"zerolinewidth\":2},\"scene\":{\"xaxis\":{\"backgroundcolor\":\"#E5ECF6\",\"gridcolor\":\"white\",\"linecolor\":\"white\",\"showbackground\":true,\"ticks\":\"\",\"zerolinecolor\":\"white\",\"gridwidth\":2},\"yaxis\":{\"backgroundcolor\":\"#E5ECF6\",\"gridcolor\":\"white\",\"linecolor\":\"white\",\"showbackground\":true,\"ticks\":\"\",\"zerolinecolor\":\"white\",\"gridwidth\":2},\"zaxis\":{\"backgroundcolor\":\"#E5ECF6\",\"gridcolor\":\"white\",\"linecolor\":\"white\",\"showbackground\":true,\"ticks\":\"\",\"zerolinecolor\":\"white\",\"gridwidth\":2}},\"shapedefaults\":{\"line\":{\"color\":\"#2a3f5f\"}},\"annotationdefaults\":{\"arrowcolor\":\"#2a3f5f\",\"arrowhead\":0,\"arrowwidth\":1},\"geo\":{\"bgcolor\":\"white\",\"landcolor\":\"#E5ECF6\",\"subunitcolor\":\"white\",\"showland\":true,\"showlakes\":true,\"lakecolor\":\"white\"},\"title\":{\"x\":0.05},\"mapbox\":{\"style\":\"light\"}}},\"title\":{\"text\":\"$\\\\text{Average loss for every 250 games - }\\\\epsilon_{opt}=0.5$, without replay buffer\"},\"xaxis\":{\"title\":{\"text\":\"$game$\"}},\"yaxis\":{\"title\":{\"text\":\"$average(loss)\\\\text{- 250 games}$\"}}},                        {\"responsive\": true}                    ).then(function(){\n                            \nvar gd = document.getElementById('ee694c77-cda0-4ebd-81cc-90aeb31da58c');\nvar x = new MutationObserver(function (mutations, observer) {{\n        var display = window.getComputedStyle(gd).display;\n        if (!display || display === 'none') {{\n            console.log([gd, 'removed!']);\n            Plotly.purge(gd);\n            observer.disconnect();\n        }}\n}});\n\n// Listen for the removal of the full notebook cells\nvar notebookContainer = gd.closest('#notebook-container');\nif (notebookContainer) {{\n    x.observe(notebookContainer, {childList: true});\n}}\n\n// Listen for the clearing of the current output cell\nvar outputEl = gd.closest('.output');\nif (outputEl) {{\n    x.observe(outputEl, {childList: true});\n}}\n\n                        })                };                });            </script>        </div>"
     },
     "metadata": {},
     "output_type": "display_data"
    }
   ],
   "source": [
    "fig = go.Figure()\n",
    "\n",
    "fig.add_trace(go.Scatter(x=x, y=losses, mode='lines'))\n",
    "\n",
    "fig.update_layout(\n",
    "    title=r'$\\text{Average loss for every %d games - }\\epsilon_{opt}=0.5$, without replay buffer' % averaging_steps,\n",
    "    xaxis_title=r'$game$',\n",
    "    yaxis_title=r'$average(loss)\\text{- %d games}$' % (averaging_steps),\n",
    ")\n",
    "\n",
    "fig.show()"
   ]
  },
  {
   "cell_type": "markdown",
   "metadata": {
    "collapsed": false,
    "pycharm": {
     "name": "#%% md\n"
    }
   },
   "source": [
    "In this case, the average reward is almost always close to the minimum: the networks loses all the time. In addition, after an initial"
   ]
  },
  {
   "cell_type": "markdown",
   "metadata": {
    "collapsed": false,
    "pycharm": {
     "name": "#%% md\n"
    }
   },
   "source": [
    "### Question 13"
   ]
  },
  {
   "cell_type": "code",
   "execution_count": 29,
   "metadata": {
    "collapsed": false,
    "pycharm": {
     "name": "#%%\n"
    }
   },
   "outputs": [],
   "source": [
    "def deep_run_episodes(n_episodes, q_player, other_player, update_epsilon=False, other_learning=False):\n",
    "    M_opts = []\n",
    "    M_rands = []\n",
    "    x = []\n",
    "    turns = ['X','O']\n",
    "\n",
    "    rewards = []\n",
    "    losses = []\n",
    "    average_reward = 0.\n",
    "    average_loss = []\n",
    "    update_steps = 500\n",
    "    averaging_steps = 250\n",
    "\n",
    "    for episode in tqdm(range(n_episodes)):\n",
    "        if update_epsilon:\n",
    "            q_player.update_epsilon(episode)\n",
    "        if update_epsilon and other_learning:\n",
    "            other_player.update_epsilon(episode)\n",
    "\n",
    "\n",
    "        # Play game\n",
    "        loss, reward = play_deep_game(env, q_player, other_player, turns, testing=False, other_learning=other_learning)\n",
    "        average_reward += reward\n",
    "        average_loss.extend(loss)\n",
    "\n",
    "        if episode % update_steps == update_steps - 1:\n",
    "            q_player.update_target()\n",
    "\n",
    "        if episode % averaging_steps == averaging_steps - 1:\n",
    "            average_reward /= averaging_steps\n",
    "            rewards.append(average_reward)\n",
    "            losses.append(np.array(average_loss).mean())\n",
    "            average_reward = 0.\n",
    "            average_loss = []\n",
    "\n",
    "            # Compute M_opt and M_rand\n",
    "            M_opt, M_rand = compute_measures(env, q_player, deep=True)\n",
    "            M_opts.append(M_opt)\n",
    "            M_rands.append(M_rand)\n",
    "            x.append(episode)\n",
    "\n",
    "        # Change first player\n",
    "        turns = turns[::-1]\n",
    "\n",
    "    return rewards, M_opts, M_rands, x, losses"
   ]
  },
  {
   "cell_type": "code",
   "execution_count": 30,
   "metadata": {
    "collapsed": false,
    "pycharm": {
     "name": "#%%\n"
    }
   },
   "outputs": [
    {
     "name": "stdout",
     "output_type": "stream",
     "text": [
      "[1, 4000, 8000, 12000, 16000, 20000, 24000, 28000, 32000, 36000, 40000]\n",
      "Current n_star: 1\n"
     ]
    },
    {
     "name": "stderr",
     "output_type": "stream",
     "text": [
      "100%|██████████| 20000/20000 [08:05<00:00, 41.17it/s] \n"
     ]
    },
    {
     "name": "stdout",
     "output_type": "stream",
     "text": [
      "Current n_star: 4000\n"
     ]
    },
    {
     "name": "stderr",
     "output_type": "stream",
     "text": [
      "100%|██████████| 20000/20000 [07:53<00:00, 42.22it/s] \n"
     ]
    },
    {
     "name": "stdout",
     "output_type": "stream",
     "text": [
      "Current n_star: 8000\n"
     ]
    },
    {
     "name": "stderr",
     "output_type": "stream",
     "text": [
      "100%|██████████| 20000/20000 [07:48<00:00, 42.69it/s] \n"
     ]
    },
    {
     "name": "stdout",
     "output_type": "stream",
     "text": [
      "Current n_star: 12000\n"
     ]
    },
    {
     "name": "stderr",
     "output_type": "stream",
     "text": [
      "100%|██████████| 20000/20000 [07:50<00:00, 42.53it/s] \n"
     ]
    },
    {
     "name": "stdout",
     "output_type": "stream",
     "text": [
      "Current n_star: 16000\n"
     ]
    },
    {
     "name": "stderr",
     "output_type": "stream",
     "text": [
      "100%|██████████| 20000/20000 [07:46<00:00, 42.92it/s] \n"
     ]
    },
    {
     "name": "stdout",
     "output_type": "stream",
     "text": [
      "Current n_star: 20000\n"
     ]
    },
    {
     "name": "stderr",
     "output_type": "stream",
     "text": [
      "100%|██████████| 20000/20000 [07:45<00:00, 43.00it/s] \n"
     ]
    },
    {
     "name": "stdout",
     "output_type": "stream",
     "text": [
      "Current n_star: 24000\n"
     ]
    },
    {
     "name": "stderr",
     "output_type": "stream",
     "text": [
      "100%|██████████| 20000/20000 [07:45<00:00, 42.96it/s] \n"
     ]
    },
    {
     "name": "stdout",
     "output_type": "stream",
     "text": [
      "Current n_star: 28000\n"
     ]
    },
    {
     "name": "stderr",
     "output_type": "stream",
     "text": [
      "100%|██████████| 20000/20000 [07:52<00:00, 42.34it/s] \n"
     ]
    },
    {
     "name": "stdout",
     "output_type": "stream",
     "text": [
      "Current n_star: 32000\n"
     ]
    },
    {
     "name": "stderr",
     "output_type": "stream",
     "text": [
      "100%|██████████| 20000/20000 [07:49<00:00, 42.59it/s] \n"
     ]
    },
    {
     "name": "stdout",
     "output_type": "stream",
     "text": [
      "Current n_star: 36000\n"
     ]
    },
    {
     "name": "stderr",
     "output_type": "stream",
     "text": [
      "100%|██████████| 20000/20000 [07:50<00:00, 42.52it/s] \n"
     ]
    },
    {
     "name": "stdout",
     "output_type": "stream",
     "text": [
      "Current n_star: 40000\n"
     ]
    },
    {
     "name": "stderr",
     "output_type": "stream",
     "text": [
      "100%|██████████| 20000/20000 [07:41<00:00, 43.36it/s] \n"
     ]
    }
   ],
   "source": [
    "n_episodes = 20000\n",
    "averaging_steps = 250\n",
    "\n",
    "turns = np.array(['X','O'])\n",
    "\n",
    "\n",
    "env = TictactoeEnv()\n",
    "\n",
    "n_star_rewards = []\n",
    "n_star_list = [int(x) for x in np.linspace(1, 40000, 11)]\n",
    "print(n_star_list)\n",
    "n_star_M_opts = []\n",
    "n_star_M_rands = []\n",
    "n_star_losses = []\n",
    "other_player = OptimalPlayer(epsilon=0.5, player=turns[1])\n",
    "\n",
    "for n_star in n_star_list:\n",
    "    print('Current n_star: %d' % n_star)\n",
    "    q_player = DeepVariableEpsilonQPlayer(0.8, 0.1, n_star, None, capacity=10000, batch_size=64, lr=5e-5)\n",
    "\n",
    "    rewards, M_opts, M_rands, x, losses = deep_run_episodes(n_episodes, q_player, other_player, update_epsilon=True)\n",
    "\n",
    "    n_star_rewards.append(rewards)\n",
    "    n_star_M_opts.append(M_opts)\n",
    "    n_star_M_rands.append(M_rands)\n",
    "    n_star_losses.append(losses)\n",
    "\n",
    "\n",
    "# Save data\n",
    "with open('question_13.pickle', 'wb') as f:\n",
    "    pickle.dump((n_star_list, n_star_rewards, n_star_M_opts, n_star_M_rands, n_star_losses), f)"
   ]
  },
  {
   "cell_type": "code",
   "execution_count": 31,
   "metadata": {
    "collapsed": false,
    "pycharm": {
     "name": "#%%\n"
    }
   },
   "outputs": [],
   "source": [
    "# Load data\n",
    "\n",
    "with open('question_13.pickle', 'rb') as f:\n",
    "    n_star_list, n_star_rewards, n_star_M_opts, n_star_M_rands, losses =  pickle.load(f)"
   ]
  },
  {
   "cell_type": "code",
   "execution_count": 32,
   "metadata": {
    "collapsed": false,
    "pycharm": {
     "name": "#%%\n"
    }
   },
   "outputs": [
    {
     "data": {
      "application/vnd.plotly.v1+json": {
       "data": [
        {
         "mode": "lines",
         "name": "$n^* = 1$",
         "x": [
          249,
          499,
          749,
          999,
          1249,
          1499,
          1749,
          1999,
          2249,
          2499,
          2749,
          2999,
          3249,
          3499,
          3749,
          3999,
          4249,
          4499,
          4749,
          4999,
          5249,
          5499,
          5749,
          5999,
          6249,
          6499,
          6749,
          6999,
          7249,
          7499,
          7749,
          7999,
          8249,
          8499,
          8749,
          8999,
          9249,
          9499,
          9749,
          9999,
          10249,
          10499,
          10749,
          10999,
          11249,
          11499,
          11749,
          11999,
          12249,
          12499,
          12749,
          12999,
          13249,
          13499,
          13749,
          13999,
          14249,
          14499,
          14749,
          14999,
          15249,
          15499,
          15749,
          15999,
          16249,
          16499,
          16749,
          16999,
          17249,
          17499,
          17749,
          17999,
          18249,
          18499,
          18749,
          18999,
          19249,
          19499,
          19749,
          19999
         ],
         "y": [
          -1.0,
          -0.876,
          -0.764,
          -0.544,
          -0.436,
          -0.498,
          -0.414,
          -0.498,
          -0.896,
          -0.202,
          -0.202,
          -0.2,
          -0.196,
          -0.184,
          -0.17,
          -0.204,
          -0.122,
          -0.094,
          -0.1,
          -0.094,
          -0.092,
          -0.08,
          -0.09,
          -0.096,
          -0.096,
          -0.104,
          -0.096,
          -0.096,
          -0.096,
          -0.108,
          -0.086,
          -0.104,
          -0.092,
          -0.086,
          -0.09,
          -0.312,
          -0.104,
          -0.294,
          -0.312,
          -0.118,
          -0.104,
          -0.114,
          -0.106,
          -0.11,
          -0.098,
          -0.096,
          -0.106,
          -0.12,
          -0.122,
          -0.106,
          -0.102,
          -0.116,
          -0.104,
          -0.09,
          -0.106,
          -0.108,
          -0.108,
          -0.09,
          -0.09,
          -0.104,
          -0.084,
          -0.096,
          -0.112,
          -0.102,
          -0.102,
          -0.098,
          -0.116,
          -0.092,
          -0.096,
          -0.092,
          -0.106,
          -0.098,
          -0.098,
          -0.11,
          -0.106,
          -0.082,
          -0.1,
          -0.094,
          -0.088,
          -0.09
         ],
         "type": "scatter"
        },
        {
         "mode": "lines",
         "name": "$n^* = 4000$",
         "x": [
          249,
          499,
          749,
          999,
          1249,
          1499,
          1749,
          1999,
          2249,
          2499,
          2749,
          2999,
          3249,
          3499,
          3749,
          3999,
          4249,
          4499,
          4749,
          4999,
          5249,
          5499,
          5749,
          5999,
          6249,
          6499,
          6749,
          6999,
          7249,
          7499,
          7749,
          7999,
          8249,
          8499,
          8749,
          8999,
          9249,
          9499,
          9749,
          9999,
          10249,
          10499,
          10749,
          10999,
          11249,
          11499,
          11749,
          11999,
          12249,
          12499,
          12749,
          12999,
          13249,
          13499,
          13749,
          13999,
          14249,
          14499,
          14749,
          14999,
          15249,
          15499,
          15749,
          15999,
          16249,
          16499,
          16749,
          16999,
          17249,
          17499,
          17749,
          17999,
          18249,
          18499,
          18749,
          18999,
          19249,
          19499,
          19749,
          19999
         ],
         "y": [
          -1.0,
          -1.0,
          -1.0,
          -1.0,
          -0.794,
          -0.622,
          -0.712,
          -1.0,
          -0.646,
          -0.598,
          -0.65,
          -0.446,
          -0.41,
          -0.298,
          -0.372,
          -0.104,
          -0.084,
          -0.102,
          -0.114,
          -0.074,
          -0.106,
          -0.092,
          -0.124,
          -0.104,
          -0.084,
          -0.104,
          0.0,
          -0.092,
          0.0,
          0.0,
          0.0,
          0.0,
          0.0,
          0.0,
          -0.2,
          -0.182,
          0.0,
          0.0,
          0.0,
          0.0,
          0.0,
          0.0,
          0.0,
          -0.208,
          0.0,
          0.0,
          0.0,
          0.0,
          0.0,
          0.0,
          0.0,
          0.0,
          0.0,
          0.0,
          0.0,
          0.0,
          0.0,
          0.0,
          0.0,
          0.0,
          0.0,
          0.0,
          0.0,
          0.0,
          0.0,
          0.0,
          0.0,
          0.0,
          0.0,
          0.0,
          0.0,
          0.0,
          0.0,
          0.0,
          0.0,
          0.0,
          0.0,
          0.0,
          0.0,
          0.0
         ],
         "type": "scatter"
        },
        {
         "mode": "lines",
         "name": "$n^* = 8000$",
         "x": [
          249,
          499,
          749,
          999,
          1249,
          1499,
          1749,
          1999,
          2249,
          2499,
          2749,
          2999,
          3249,
          3499,
          3749,
          3999,
          4249,
          4499,
          4749,
          4999,
          5249,
          5499,
          5749,
          5999,
          6249,
          6499,
          6749,
          6999,
          7249,
          7499,
          7749,
          7999,
          8249,
          8499,
          8749,
          8999,
          9249,
          9499,
          9749,
          9999,
          10249,
          10499,
          10749,
          10999,
          11249,
          11499,
          11749,
          11999,
          12249,
          12499,
          12749,
          12999,
          13249,
          13499,
          13749,
          13999,
          14249,
          14499,
          14749,
          14999,
          15249,
          15499,
          15749,
          15999,
          16249,
          16499,
          16749,
          16999,
          17249,
          17499,
          17749,
          17999,
          18249,
          18499,
          18749,
          18999,
          19249,
          19499,
          19749,
          19999
         ],
         "y": [
          -1.0,
          -1.0,
          -0.572,
          -0.908,
          -0.886,
          -0.896,
          -1.0,
          -1.0,
          -1.0,
          -1.0,
          -1.0,
          -1.0,
          -1.0,
          -0.498,
          -0.498,
          -0.498,
          -0.498,
          -0.498,
          -0.498,
          -0.498,
          -0.498,
          -0.498,
          -0.498,
          -0.498,
          -0.498,
          -0.498,
          -0.498,
          -0.498,
          -0.432,
          -0.498,
          -0.39,
          -0.396,
          -0.536,
          -0.398,
          -0.378,
          -0.302,
          -0.196,
          -0.31,
          -0.366,
          -0.206,
          -0.194,
          -0.096,
          -0.212,
          -0.102,
          0.0,
          0.0,
          0.0,
          0.0,
          0.0,
          0.0,
          -0.104,
          0.0,
          0.0,
          0.0,
          0.0,
          0.0,
          0.0,
          0.0,
          0.0,
          0.0,
          0.0,
          0.0,
          0.0,
          0.0,
          0.0,
          0.0,
          0.0,
          0.0,
          0.0,
          0.0,
          0.0,
          0.0,
          0.0,
          0.0,
          0.0,
          0.0,
          0.0,
          0.0,
          0.0,
          -0.052
         ],
         "type": "scatter"
        },
        {
         "mode": "lines",
         "name": "$n^* = 12000$",
         "x": [
          249,
          499,
          749,
          999,
          1249,
          1499,
          1749,
          1999,
          2249,
          2499,
          2749,
          2999,
          3249,
          3499,
          3749,
          3999,
          4249,
          4499,
          4749,
          4999,
          5249,
          5499,
          5749,
          5999,
          6249,
          6499,
          6749,
          6999,
          7249,
          7499,
          7749,
          7999,
          8249,
          8499,
          8749,
          8999,
          9249,
          9499,
          9749,
          9999,
          10249,
          10499,
          10749,
          10999,
          11249,
          11499,
          11749,
          11999,
          12249,
          12499,
          12749,
          12999,
          13249,
          13499,
          13749,
          13999,
          14249,
          14499,
          14749,
          14999,
          15249,
          15499,
          15749,
          15999,
          16249,
          16499,
          16749,
          16999,
          17249,
          17499,
          17749,
          17999,
          18249,
          18499,
          18749,
          18999,
          19249,
          19499,
          19749,
          19999
         ],
         "y": [
          -1.0,
          -1.0,
          -1.0,
          -0.622,
          -1.0,
          -1.0,
          -0.878,
          -0.872,
          -0.682,
          -0.542,
          -0.594,
          -0.726,
          -1.0,
          -1.0,
          -0.826,
          -0.792,
          -0.666,
          -0.712,
          -0.496,
          -0.38,
          -0.362,
          -0.4,
          -0.236,
          -0.18,
          0.0,
          0.0,
          -0.106,
          0.0,
          -0.088,
          -0.102,
          -0.282,
          -0.09,
          0.0,
          -0.09,
          0.0,
          0.0,
          0.0,
          0.0,
          0.0,
          0.0,
          0.0,
          0.0,
          0.0,
          0.0,
          0.0,
          0.0,
          0.0,
          0.0,
          0.0,
          0.0,
          0.0,
          0.0,
          0.0,
          0.0,
          0.0,
          0.0,
          0.0,
          0.0,
          0.0,
          -0.056,
          0.0,
          0.0,
          0.0,
          0.0,
          0.0,
          0.0,
          -0.196,
          0.0,
          0.0,
          0.0,
          0.0,
          0.0,
          0.0,
          0.0,
          0.0,
          0.0,
          0.0,
          0.0,
          0.0,
          0.0
         ],
         "type": "scatter"
        },
        {
         "mode": "lines",
         "name": "$n^* = 16000$",
         "x": [
          249,
          499,
          749,
          999,
          1249,
          1499,
          1749,
          1999,
          2249,
          2499,
          2749,
          2999,
          3249,
          3499,
          3749,
          3999,
          4249,
          4499,
          4749,
          4999,
          5249,
          5499,
          5749,
          5999,
          6249,
          6499,
          6749,
          6999,
          7249,
          7499,
          7749,
          7999,
          8249,
          8499,
          8749,
          8999,
          9249,
          9499,
          9749,
          9999,
          10249,
          10499,
          10749,
          10999,
          11249,
          11499,
          11749,
          11999,
          12249,
          12499,
          12749,
          12999,
          13249,
          13499,
          13749,
          13999,
          14249,
          14499,
          14749,
          14999,
          15249,
          15499,
          15749,
          15999,
          16249,
          16499,
          16749,
          16999,
          17249,
          17499,
          17749,
          17999,
          18249,
          18499,
          18749,
          18999,
          19249,
          19499,
          19749,
          19999
         ],
         "y": [
          -1.0,
          -1.0,
          -1.0,
          -0.902,
          -1.0,
          -1.0,
          -1.0,
          -1.0,
          -1.0,
          -0.792,
          -0.702,
          -1.0,
          -0.792,
          -0.334,
          -1.0,
          -0.724,
          -0.752,
          -0.826,
          -1.0,
          -0.938,
          -0.808,
          -0.89,
          -0.666,
          -0.618,
          -0.56,
          -0.172,
          -0.298,
          -0.406,
          -0.246,
          -0.222,
          -0.222,
          -0.136,
          0.0,
          -0.1,
          0.0,
          0.0,
          0.0,
          -0.1,
          0.0,
          0.0,
          0.0,
          0.0,
          -0.206,
          0.0,
          0.0,
          -0.162,
          0.0,
          0.0,
          0.0,
          0.0,
          0.0,
          0.0,
          0.0,
          0.0,
          0.0,
          0.0,
          0.0,
          0.0,
          -0.268,
          -0.264,
          0.0,
          0.0,
          0.0,
          0.0,
          0.0,
          0.0,
          0.0,
          0.0,
          0.0,
          0.0,
          0.0,
          -0.094,
          0.0,
          0.0,
          -0.082,
          0.0,
          0.0,
          0.0,
          0.0,
          0.0
         ],
         "type": "scatter"
        },
        {
         "mode": "lines",
         "name": "$n^* = 20000$",
         "x": [
          249,
          499,
          749,
          999,
          1249,
          1499,
          1749,
          1999,
          2249,
          2499,
          2749,
          2999,
          3249,
          3499,
          3749,
          3999,
          4249,
          4499,
          4749,
          4999,
          5249,
          5499,
          5749,
          5999,
          6249,
          6499,
          6749,
          6999,
          7249,
          7499,
          7749,
          7999,
          8249,
          8499,
          8749,
          8999,
          9249,
          9499,
          9749,
          9999,
          10249,
          10499,
          10749,
          10999,
          11249,
          11499,
          11749,
          11999,
          12249,
          12499,
          12749,
          12999,
          13249,
          13499,
          13749,
          13999,
          14249,
          14499,
          14749,
          14999,
          15249,
          15499,
          15749,
          15999,
          16249,
          16499,
          16749,
          16999,
          17249,
          17499,
          17749,
          17999,
          18249,
          18499,
          18749,
          18999,
          19249,
          19499,
          19749,
          19999
         ],
         "y": [
          -1.0,
          -1.0,
          -1.0,
          -0.956,
          -0.88,
          -1.0,
          -0.892,
          -1.0,
          -1.0,
          -0.906,
          -1.0,
          -1.0,
          -1.0,
          -1.0,
          -0.826,
          -0.688,
          -1.0,
          -0.398,
          -0.766,
          -0.188,
          -0.406,
          -0.666,
          -0.478,
          -0.334,
          -0.256,
          -0.518,
          -0.22,
          -0.232,
          -0.346,
          -0.404,
          -0.334,
          -0.222,
          -0.332,
          -0.212,
          -0.456,
          -0.18,
          -0.102,
          -0.232,
          -0.1,
          -0.104,
          -0.1,
          -0.144,
          -0.07,
          0.0,
          0.0,
          -0.128,
          0.0,
          0.0,
          0.0,
          0.0,
          0.0,
          0.0,
          0.0,
          0.0,
          0.0,
          -0.116,
          -0.108,
          0.0,
          -0.106,
          -0.082,
          -0.126,
          -0.088,
          0.0,
          0.0,
          0.0,
          0.0,
          0.0,
          0.0,
          0.0,
          0.0,
          -0.066,
          0.0,
          -0.156,
          -0.08,
          -0.074,
          -0.054,
          0.0,
          0.0,
          0.0,
          0.0
         ],
         "type": "scatter"
        },
        {
         "mode": "lines",
         "name": "$n^* = 24000$",
         "x": [
          249,
          499,
          749,
          999,
          1249,
          1499,
          1749,
          1999,
          2249,
          2499,
          2749,
          2999,
          3249,
          3499,
          3749,
          3999,
          4249,
          4499,
          4749,
          4999,
          5249,
          5499,
          5749,
          5999,
          6249,
          6499,
          6749,
          6999,
          7249,
          7499,
          7749,
          7999,
          8249,
          8499,
          8749,
          8999,
          9249,
          9499,
          9749,
          9999,
          10249,
          10499,
          10749,
          10999,
          11249,
          11499,
          11749,
          11999,
          12249,
          12499,
          12749,
          12999,
          13249,
          13499,
          13749,
          13999,
          14249,
          14499,
          14749,
          14999,
          15249,
          15499,
          15749,
          15999,
          16249,
          16499,
          16749,
          16999,
          17249,
          17499,
          17749,
          17999,
          18249,
          18499,
          18749,
          18999,
          19249,
          19499,
          19749,
          19999
         ],
         "y": [
          -1.0,
          -1.0,
          -1.0,
          -0.954,
          -0.816,
          -0.808,
          -1.0,
          -1.0,
          -0.774,
          -0.732,
          -0.892,
          -0.868,
          -0.74,
          -0.652,
          -0.638,
          -0.618,
          -0.794,
          -0.628,
          -0.57,
          -0.458,
          -0.7,
          -0.884,
          -0.892,
          -0.65,
          -0.898,
          -0.904,
          -0.672,
          -0.726,
          -0.502,
          -0.708,
          -0.602,
          -0.532,
          -0.472,
          -0.356,
          -0.456,
          -0.47,
          -0.55,
          -0.302,
          -0.498,
          -0.186,
          -0.206,
          -0.102,
          0.0,
          0.0,
          0.0,
          -0.098,
          -0.354,
          -0.08,
          -0.366,
          -0.194,
          -0.182,
          -0.196,
          0.0,
          0.0,
          0.0,
          -0.082,
          0.0,
          0.0,
          -0.192,
          0.0,
          0.0,
          -0.054,
          0.0,
          0.0,
          -0.226,
          -0.168,
          0.0,
          0.0,
          0.0,
          0.0,
          0.0,
          0.0,
          0.0,
          0.0,
          0.0,
          0.0,
          0.0,
          0.0,
          0.0,
          0.0
         ],
         "type": "scatter"
        },
        {
         "mode": "lines",
         "name": "$n^* = 28000$",
         "x": [
          249,
          499,
          749,
          999,
          1249,
          1499,
          1749,
          1999,
          2249,
          2499,
          2749,
          2999,
          3249,
          3499,
          3749,
          3999,
          4249,
          4499,
          4749,
          4999,
          5249,
          5499,
          5749,
          5999,
          6249,
          6499,
          6749,
          6999,
          7249,
          7499,
          7749,
          7999,
          8249,
          8499,
          8749,
          8999,
          9249,
          9499,
          9749,
          9999,
          10249,
          10499,
          10749,
          10999,
          11249,
          11499,
          11749,
          11999,
          12249,
          12499,
          12749,
          12999,
          13249,
          13499,
          13749,
          13999,
          14249,
          14499,
          14749,
          14999,
          15249,
          15499,
          15749,
          15999,
          16249,
          16499,
          16749,
          16999,
          17249,
          17499,
          17749,
          17999,
          18249,
          18499,
          18749,
          18999,
          19249,
          19499,
          19749,
          19999
         ],
         "y": [
          -1.0,
          -1.0,
          -1.0,
          -1.0,
          -1.0,
          -1.0,
          -1.0,
          -0.57,
          -1.0,
          -0.818,
          -0.532,
          -0.452,
          -0.304,
          -0.252,
          -0.25,
          -0.246,
          -0.502,
          -0.4,
          0.0,
          0.0,
          -0.252,
          -0.502,
          -0.24,
          -0.252,
          -0.194,
          -0.648,
          -0.65,
          -0.19,
          -0.228,
          -0.456,
          -0.212,
          -0.1,
          -0.078,
          0.0,
          -0.122,
          -0.226,
          -0.23,
          0.0,
          -0.14,
          -0.106,
          -0.172,
          0.0,
          0.0,
          0.0,
          0.0,
          -0.112,
          -0.188,
          -0.548,
          -0.586,
          -0.22,
          -0.12,
          0.0,
          -0.088,
          -0.172,
          -0.172,
          -0.104,
          0.0,
          0.0,
          0.0,
          0.0,
          0.0,
          -0.2,
          0.0,
          0.0,
          0.0,
          0.0,
          0.0,
          0.0,
          0.0,
          0.0,
          0.0,
          0.0,
          0.0,
          0.0,
          0.0,
          0.0,
          0.0,
          0.0,
          0.0,
          0.0
         ],
         "type": "scatter"
        },
        {
         "mode": "lines",
         "name": "$n^* = 32000$",
         "x": [
          249,
          499,
          749,
          999,
          1249,
          1499,
          1749,
          1999,
          2249,
          2499,
          2749,
          2999,
          3249,
          3499,
          3749,
          3999,
          4249,
          4499,
          4749,
          4999,
          5249,
          5499,
          5749,
          5999,
          6249,
          6499,
          6749,
          6999,
          7249,
          7499,
          7749,
          7999,
          8249,
          8499,
          8749,
          8999,
          9249,
          9499,
          9749,
          9999,
          10249,
          10499,
          10749,
          10999,
          11249,
          11499,
          11749,
          11999,
          12249,
          12499,
          12749,
          12999,
          13249,
          13499,
          13749,
          13999,
          14249,
          14499,
          14749,
          14999,
          15249,
          15499,
          15749,
          15999,
          16249,
          16499,
          16749,
          16999,
          17249,
          17499,
          17749,
          17999,
          18249,
          18499,
          18749,
          18999,
          19249,
          19499,
          19749,
          19999
         ],
         "y": [
          -1.0,
          -1.0,
          -1.0,
          -1.0,
          -1.0,
          -1.0,
          -0.728,
          -1.0,
          -1.0,
          -0.498,
          -0.408,
          -0.104,
          -0.106,
          -0.208,
          -0.36,
          -0.332,
          -0.388,
          -0.582,
          -0.592,
          -0.62,
          -0.366,
          -0.334,
          -0.334,
          -0.362,
          -0.092,
          0.0,
          0.0,
          -0.086,
          -0.186,
          -0.084,
          0.0,
          -0.09,
          -0.2,
          -0.1,
          -0.186,
          -0.258,
          0.0,
          0.0,
          0.0,
          -0.118,
          -0.358,
          -0.254,
          0.0,
          0.0,
          0.0,
          -0.25,
          -0.258,
          -0.242,
          0.0,
          -0.218,
          0.0,
          -0.2,
          -0.384,
          -0.37,
          -0.384,
          -0.112,
          -0.11,
          -0.214,
          -0.13,
          -0.19,
          -0.124,
          0.0,
          -0.124,
          0.0,
          0.0,
          0.0,
          -0.192,
          0.0,
          0.0,
          0.0,
          -0.094,
          0.0,
          0.0,
          0.0,
          0.0,
          0.0,
          0.0,
          0.0,
          0.0,
          0.0
         ],
         "type": "scatter"
        },
        {
         "mode": "lines",
         "name": "$n^* = 36000$",
         "x": [
          249,
          499,
          749,
          999,
          1249,
          1499,
          1749,
          1999,
          2249,
          2499,
          2749,
          2999,
          3249,
          3499,
          3749,
          3999,
          4249,
          4499,
          4749,
          4999,
          5249,
          5499,
          5749,
          5999,
          6249,
          6499,
          6749,
          6999,
          7249,
          7499,
          7749,
          7999,
          8249,
          8499,
          8749,
          8999,
          9249,
          9499,
          9749,
          9999,
          10249,
          10499,
          10749,
          10999,
          11249,
          11499,
          11749,
          11999,
          12249,
          12499,
          12749,
          12999,
          13249,
          13499,
          13749,
          13999,
          14249,
          14499,
          14749,
          14999,
          15249,
          15499,
          15749,
          15999,
          16249,
          16499,
          16749,
          16999,
          17249,
          17499,
          17749,
          17999,
          18249,
          18499,
          18749,
          18999,
          19249,
          19499,
          19749,
          19999
         ],
         "y": [
          -1.0,
          -1.0,
          -1.0,
          -0.93,
          -1.0,
          -1.0,
          -1.0,
          -1.0,
          -1.0,
          -1.0,
          -1.0,
          -1.0,
          -0.902,
          -0.902,
          -0.69,
          -0.794,
          -0.502,
          -0.502,
          -0.574,
          -0.704,
          -0.802,
          -0.778,
          -0.816,
          -0.56,
          -0.322,
          -0.102,
          -0.608,
          0.0,
          0.0,
          -0.102,
          -0.112,
          -0.096,
          -0.106,
          -0.184,
          0.0,
          0.0,
          -0.2,
          -0.092,
          -0.082,
          -0.106,
          -0.188,
          -0.21,
          0.0,
          0.0,
          0.0,
          0.0,
          0.0,
          0.0,
          0.0,
          0.0,
          0.0,
          0.0,
          0.0,
          0.0,
          0.0,
          -0.09,
          -0.1,
          0.0,
          0.0,
          0.0,
          0.0,
          0.0,
          0.0,
          0.0,
          0.0,
          0.0,
          0.0,
          0.0,
          -0.102,
          -0.106,
          0.0,
          0.0,
          0.0,
          0.0,
          0.0,
          0.0,
          0.0,
          0.0,
          0.0,
          0.0
         ],
         "type": "scatter"
        },
        {
         "mode": "lines",
         "name": "$n^* = 40000$",
         "x": [
          249,
          499,
          749,
          999,
          1249,
          1499,
          1749,
          1999,
          2249,
          2499,
          2749,
          2999,
          3249,
          3499,
          3749,
          3999,
          4249,
          4499,
          4749,
          4999,
          5249,
          5499,
          5749,
          5999,
          6249,
          6499,
          6749,
          6999,
          7249,
          7499,
          7749,
          7999,
          8249,
          8499,
          8749,
          8999,
          9249,
          9499,
          9749,
          9999,
          10249,
          10499,
          10749,
          10999,
          11249,
          11499,
          11749,
          11999,
          12249,
          12499,
          12749,
          12999,
          13249,
          13499,
          13749,
          13999,
          14249,
          14499,
          14749,
          14999,
          15249,
          15499,
          15749,
          15999,
          16249,
          16499,
          16749,
          16999,
          17249,
          17499,
          17749,
          17999,
          18249,
          18499,
          18749,
          18999,
          19249,
          19499,
          19749,
          19999
         ],
         "y": [
          -1.0,
          -1.0,
          -1.0,
          -1.0,
          -1.0,
          -1.0,
          -1.0,
          -0.938,
          -0.866,
          -0.888,
          -0.88,
          -1.0,
          -1.0,
          -0.878,
          -1.0,
          -0.692,
          -0.644,
          -0.518,
          -0.602,
          -0.414,
          -0.464,
          -0.336,
          -0.232,
          -0.362,
          -0.158,
          -0.132,
          -0.232,
          -0.128,
          -0.084,
          -0.058,
          -0.19,
          0.0,
          -0.056,
          0.0,
          0.0,
          -0.208,
          -0.228,
          -0.212,
          -0.122,
          0.0,
          -0.2,
          0.0,
          0.0,
          0.0,
          0.0,
          0.0,
          0.0,
          0.0,
          0.0,
          0.0,
          0.0,
          0.0,
          -0.098,
          0.0,
          0.0,
          0.0,
          0.0,
          0.0,
          0.0,
          0.0,
          0.0,
          0.0,
          0.0,
          0.0,
          0.0,
          0.0,
          0.0,
          -0.196,
          0.0,
          0.0,
          -0.212,
          0.0,
          -0.182,
          0.0,
          0.0,
          0.0,
          0.0,
          0.0,
          0.0,
          0.0
         ],
         "type": "scatter"
        }
       ],
       "layout": {
        "template": {
         "data": {
          "histogram2dcontour": [
           {
            "type": "histogram2dcontour",
            "colorbar": {
             "outlinewidth": 0,
             "ticks": ""
            },
            "colorscale": [
             [
              0.0,
              "#0d0887"
             ],
             [
              0.1111111111111111,
              "#46039f"
             ],
             [
              0.2222222222222222,
              "#7201a8"
             ],
             [
              0.3333333333333333,
              "#9c179e"
             ],
             [
              0.4444444444444444,
              "#bd3786"
             ],
             [
              0.5555555555555556,
              "#d8576b"
             ],
             [
              0.6666666666666666,
              "#ed7953"
             ],
             [
              0.7777777777777778,
              "#fb9f3a"
             ],
             [
              0.8888888888888888,
              "#fdca26"
             ],
             [
              1.0,
              "#f0f921"
             ]
            ]
           }
          ],
          "choropleth": [
           {
            "type": "choropleth",
            "colorbar": {
             "outlinewidth": 0,
             "ticks": ""
            }
           }
          ],
          "histogram2d": [
           {
            "type": "histogram2d",
            "colorbar": {
             "outlinewidth": 0,
             "ticks": ""
            },
            "colorscale": [
             [
              0.0,
              "#0d0887"
             ],
             [
              0.1111111111111111,
              "#46039f"
             ],
             [
              0.2222222222222222,
              "#7201a8"
             ],
             [
              0.3333333333333333,
              "#9c179e"
             ],
             [
              0.4444444444444444,
              "#bd3786"
             ],
             [
              0.5555555555555556,
              "#d8576b"
             ],
             [
              0.6666666666666666,
              "#ed7953"
             ],
             [
              0.7777777777777778,
              "#fb9f3a"
             ],
             [
              0.8888888888888888,
              "#fdca26"
             ],
             [
              1.0,
              "#f0f921"
             ]
            ]
           }
          ],
          "heatmap": [
           {
            "type": "heatmap",
            "colorbar": {
             "outlinewidth": 0,
             "ticks": ""
            },
            "colorscale": [
             [
              0.0,
              "#0d0887"
             ],
             [
              0.1111111111111111,
              "#46039f"
             ],
             [
              0.2222222222222222,
              "#7201a8"
             ],
             [
              0.3333333333333333,
              "#9c179e"
             ],
             [
              0.4444444444444444,
              "#bd3786"
             ],
             [
              0.5555555555555556,
              "#d8576b"
             ],
             [
              0.6666666666666666,
              "#ed7953"
             ],
             [
              0.7777777777777778,
              "#fb9f3a"
             ],
             [
              0.8888888888888888,
              "#fdca26"
             ],
             [
              1.0,
              "#f0f921"
             ]
            ]
           }
          ],
          "heatmapgl": [
           {
            "type": "heatmapgl",
            "colorbar": {
             "outlinewidth": 0,
             "ticks": ""
            },
            "colorscale": [
             [
              0.0,
              "#0d0887"
             ],
             [
              0.1111111111111111,
              "#46039f"
             ],
             [
              0.2222222222222222,
              "#7201a8"
             ],
             [
              0.3333333333333333,
              "#9c179e"
             ],
             [
              0.4444444444444444,
              "#bd3786"
             ],
             [
              0.5555555555555556,
              "#d8576b"
             ],
             [
              0.6666666666666666,
              "#ed7953"
             ],
             [
              0.7777777777777778,
              "#fb9f3a"
             ],
             [
              0.8888888888888888,
              "#fdca26"
             ],
             [
              1.0,
              "#f0f921"
             ]
            ]
           }
          ],
          "contourcarpet": [
           {
            "type": "contourcarpet",
            "colorbar": {
             "outlinewidth": 0,
             "ticks": ""
            }
           }
          ],
          "contour": [
           {
            "type": "contour",
            "colorbar": {
             "outlinewidth": 0,
             "ticks": ""
            },
            "colorscale": [
             [
              0.0,
              "#0d0887"
             ],
             [
              0.1111111111111111,
              "#46039f"
             ],
             [
              0.2222222222222222,
              "#7201a8"
             ],
             [
              0.3333333333333333,
              "#9c179e"
             ],
             [
              0.4444444444444444,
              "#bd3786"
             ],
             [
              0.5555555555555556,
              "#d8576b"
             ],
             [
              0.6666666666666666,
              "#ed7953"
             ],
             [
              0.7777777777777778,
              "#fb9f3a"
             ],
             [
              0.8888888888888888,
              "#fdca26"
             ],
             [
              1.0,
              "#f0f921"
             ]
            ]
           }
          ],
          "surface": [
           {
            "type": "surface",
            "colorbar": {
             "outlinewidth": 0,
             "ticks": ""
            },
            "colorscale": [
             [
              0.0,
              "#0d0887"
             ],
             [
              0.1111111111111111,
              "#46039f"
             ],
             [
              0.2222222222222222,
              "#7201a8"
             ],
             [
              0.3333333333333333,
              "#9c179e"
             ],
             [
              0.4444444444444444,
              "#bd3786"
             ],
             [
              0.5555555555555556,
              "#d8576b"
             ],
             [
              0.6666666666666666,
              "#ed7953"
             ],
             [
              0.7777777777777778,
              "#fb9f3a"
             ],
             [
              0.8888888888888888,
              "#fdca26"
             ],
             [
              1.0,
              "#f0f921"
             ]
            ]
           }
          ],
          "mesh3d": [
           {
            "type": "mesh3d",
            "colorbar": {
             "outlinewidth": 0,
             "ticks": ""
            }
           }
          ],
          "scatter": [
           {
            "fillpattern": {
             "fillmode": "overlay",
             "size": 10,
             "solidity": 0.2
            },
            "type": "scatter"
           }
          ],
          "parcoords": [
           {
            "type": "parcoords",
            "line": {
             "colorbar": {
              "outlinewidth": 0,
              "ticks": ""
             }
            }
           }
          ],
          "scatterpolargl": [
           {
            "type": "scatterpolargl",
            "marker": {
             "colorbar": {
              "outlinewidth": 0,
              "ticks": ""
             }
            }
           }
          ],
          "bar": [
           {
            "error_x": {
             "color": "#2a3f5f"
            },
            "error_y": {
             "color": "#2a3f5f"
            },
            "marker": {
             "line": {
              "color": "#E5ECF6",
              "width": 0.5
             },
             "pattern": {
              "fillmode": "overlay",
              "size": 10,
              "solidity": 0.2
             }
            },
            "type": "bar"
           }
          ],
          "scattergeo": [
           {
            "type": "scattergeo",
            "marker": {
             "colorbar": {
              "outlinewidth": 0,
              "ticks": ""
             }
            }
           }
          ],
          "scatterpolar": [
           {
            "type": "scatterpolar",
            "marker": {
             "colorbar": {
              "outlinewidth": 0,
              "ticks": ""
             }
            }
           }
          ],
          "histogram": [
           {
            "marker": {
             "pattern": {
              "fillmode": "overlay",
              "size": 10,
              "solidity": 0.2
             }
            },
            "type": "histogram"
           }
          ],
          "scattergl": [
           {
            "type": "scattergl",
            "marker": {
             "colorbar": {
              "outlinewidth": 0,
              "ticks": ""
             }
            }
           }
          ],
          "scatter3d": [
           {
            "type": "scatter3d",
            "line": {
             "colorbar": {
              "outlinewidth": 0,
              "ticks": ""
             }
            },
            "marker": {
             "colorbar": {
              "outlinewidth": 0,
              "ticks": ""
             }
            }
           }
          ],
          "scattermapbox": [
           {
            "type": "scattermapbox",
            "marker": {
             "colorbar": {
              "outlinewidth": 0,
              "ticks": ""
             }
            }
           }
          ],
          "scatterternary": [
           {
            "type": "scatterternary",
            "marker": {
             "colorbar": {
              "outlinewidth": 0,
              "ticks": ""
             }
            }
           }
          ],
          "scattercarpet": [
           {
            "type": "scattercarpet",
            "marker": {
             "colorbar": {
              "outlinewidth": 0,
              "ticks": ""
             }
            }
           }
          ],
          "carpet": [
           {
            "aaxis": {
             "endlinecolor": "#2a3f5f",
             "gridcolor": "white",
             "linecolor": "white",
             "minorgridcolor": "white",
             "startlinecolor": "#2a3f5f"
            },
            "baxis": {
             "endlinecolor": "#2a3f5f",
             "gridcolor": "white",
             "linecolor": "white",
             "minorgridcolor": "white",
             "startlinecolor": "#2a3f5f"
            },
            "type": "carpet"
           }
          ],
          "table": [
           {
            "cells": {
             "fill": {
              "color": "#EBF0F8"
             },
             "line": {
              "color": "white"
             }
            },
            "header": {
             "fill": {
              "color": "#C8D4E3"
             },
             "line": {
              "color": "white"
             }
            },
            "type": "table"
           }
          ],
          "barpolar": [
           {
            "marker": {
             "line": {
              "color": "#E5ECF6",
              "width": 0.5
             },
             "pattern": {
              "fillmode": "overlay",
              "size": 10,
              "solidity": 0.2
             }
            },
            "type": "barpolar"
           }
          ],
          "pie": [
           {
            "automargin": true,
            "type": "pie"
           }
          ]
         },
         "layout": {
          "autotypenumbers": "strict",
          "colorway": [
           "#636efa",
           "#EF553B",
           "#00cc96",
           "#ab63fa",
           "#FFA15A",
           "#19d3f3",
           "#FF6692",
           "#B6E880",
           "#FF97FF",
           "#FECB52"
          ],
          "font": {
           "color": "#2a3f5f"
          },
          "hovermode": "closest",
          "hoverlabel": {
           "align": "left"
          },
          "paper_bgcolor": "white",
          "plot_bgcolor": "#E5ECF6",
          "polar": {
           "bgcolor": "#E5ECF6",
           "angularaxis": {
            "gridcolor": "white",
            "linecolor": "white",
            "ticks": ""
           },
           "radialaxis": {
            "gridcolor": "white",
            "linecolor": "white",
            "ticks": ""
           }
          },
          "ternary": {
           "bgcolor": "#E5ECF6",
           "aaxis": {
            "gridcolor": "white",
            "linecolor": "white",
            "ticks": ""
           },
           "baxis": {
            "gridcolor": "white",
            "linecolor": "white",
            "ticks": ""
           },
           "caxis": {
            "gridcolor": "white",
            "linecolor": "white",
            "ticks": ""
           }
          },
          "coloraxis": {
           "colorbar": {
            "outlinewidth": 0,
            "ticks": ""
           }
          },
          "colorscale": {
           "sequential": [
            [
             0.0,
             "#0d0887"
            ],
            [
             0.1111111111111111,
             "#46039f"
            ],
            [
             0.2222222222222222,
             "#7201a8"
            ],
            [
             0.3333333333333333,
             "#9c179e"
            ],
            [
             0.4444444444444444,
             "#bd3786"
            ],
            [
             0.5555555555555556,
             "#d8576b"
            ],
            [
             0.6666666666666666,
             "#ed7953"
            ],
            [
             0.7777777777777778,
             "#fb9f3a"
            ],
            [
             0.8888888888888888,
             "#fdca26"
            ],
            [
             1.0,
             "#f0f921"
            ]
           ],
           "sequentialminus": [
            [
             0.0,
             "#0d0887"
            ],
            [
             0.1111111111111111,
             "#46039f"
            ],
            [
             0.2222222222222222,
             "#7201a8"
            ],
            [
             0.3333333333333333,
             "#9c179e"
            ],
            [
             0.4444444444444444,
             "#bd3786"
            ],
            [
             0.5555555555555556,
             "#d8576b"
            ],
            [
             0.6666666666666666,
             "#ed7953"
            ],
            [
             0.7777777777777778,
             "#fb9f3a"
            ],
            [
             0.8888888888888888,
             "#fdca26"
            ],
            [
             1.0,
             "#f0f921"
            ]
           ],
           "diverging": [
            [
             0,
             "#8e0152"
            ],
            [
             0.1,
             "#c51b7d"
            ],
            [
             0.2,
             "#de77ae"
            ],
            [
             0.3,
             "#f1b6da"
            ],
            [
             0.4,
             "#fde0ef"
            ],
            [
             0.5,
             "#f7f7f7"
            ],
            [
             0.6,
             "#e6f5d0"
            ],
            [
             0.7,
             "#b8e186"
            ],
            [
             0.8,
             "#7fbc41"
            ],
            [
             0.9,
             "#4d9221"
            ],
            [
             1,
             "#276419"
            ]
           ]
          },
          "xaxis": {
           "gridcolor": "white",
           "linecolor": "white",
           "ticks": "",
           "title": {
            "standoff": 15
           },
           "zerolinecolor": "white",
           "automargin": true,
           "zerolinewidth": 2
          },
          "yaxis": {
           "gridcolor": "white",
           "linecolor": "white",
           "ticks": "",
           "title": {
            "standoff": 15
           },
           "zerolinecolor": "white",
           "automargin": true,
           "zerolinewidth": 2
          },
          "scene": {
           "xaxis": {
            "backgroundcolor": "#E5ECF6",
            "gridcolor": "white",
            "linecolor": "white",
            "showbackground": true,
            "ticks": "",
            "zerolinecolor": "white",
            "gridwidth": 2
           },
           "yaxis": {
            "backgroundcolor": "#E5ECF6",
            "gridcolor": "white",
            "linecolor": "white",
            "showbackground": true,
            "ticks": "",
            "zerolinecolor": "white",
            "gridwidth": 2
           },
           "zaxis": {
            "backgroundcolor": "#E5ECF6",
            "gridcolor": "white",
            "linecolor": "white",
            "showbackground": true,
            "ticks": "",
            "zerolinecolor": "white",
            "gridwidth": 2
           }
          },
          "shapedefaults": {
           "line": {
            "color": "#2a3f5f"
           }
          },
          "annotationdefaults": {
           "arrowcolor": "#2a3f5f",
           "arrowhead": 0,
           "arrowwidth": 1
          },
          "geo": {
           "bgcolor": "white",
           "landcolor": "#E5ECF6",
           "subunitcolor": "white",
           "showland": true,
           "showlakes": true,
           "lakecolor": "white"
          },
          "title": {
           "x": 0.05
          },
          "mapbox": {
           "style": "light"
          }
         }
        },
        "title": {
         "text": "$M_{opt}\\text{ for every 250 games for different values of }n^{∗}$"
        },
        "xaxis": {
         "title": {
          "text": "$game$"
         }
        },
        "yaxis": {
         "title": {
          "text": "$M_{opt}$"
         }
        },
        "width": 1200,
        "height": 400
       },
       "config": {
        "plotlyServerURL": "https://plot.ly"
       }
      },
      "text/html": "<div>                            <div id=\"3a9c2f09-b72c-4716-8317-dc410ddd4044\" class=\"plotly-graph-div\" style=\"height:400px; width:1200px;\"></div>            <script type=\"text/javascript\">                require([\"plotly\"], function(Plotly) {                    window.PLOTLYENV=window.PLOTLYENV || {};                                    if (document.getElementById(\"3a9c2f09-b72c-4716-8317-dc410ddd4044\")) {                    Plotly.newPlot(                        \"3a9c2f09-b72c-4716-8317-dc410ddd4044\",                        [{\"mode\":\"lines\",\"name\":\"$n^* = 1$\",\"x\":[249,499,749,999,1249,1499,1749,1999,2249,2499,2749,2999,3249,3499,3749,3999,4249,4499,4749,4999,5249,5499,5749,5999,6249,6499,6749,6999,7249,7499,7749,7999,8249,8499,8749,8999,9249,9499,9749,9999,10249,10499,10749,10999,11249,11499,11749,11999,12249,12499,12749,12999,13249,13499,13749,13999,14249,14499,14749,14999,15249,15499,15749,15999,16249,16499,16749,16999,17249,17499,17749,17999,18249,18499,18749,18999,19249,19499,19749,19999],\"y\":[-1.0,-0.876,-0.764,-0.544,-0.436,-0.498,-0.414,-0.498,-0.896,-0.202,-0.202,-0.2,-0.196,-0.184,-0.17,-0.204,-0.122,-0.094,-0.1,-0.094,-0.092,-0.08,-0.09,-0.096,-0.096,-0.104,-0.096,-0.096,-0.096,-0.108,-0.086,-0.104,-0.092,-0.086,-0.09,-0.312,-0.104,-0.294,-0.312,-0.118,-0.104,-0.114,-0.106,-0.11,-0.098,-0.096,-0.106,-0.12,-0.122,-0.106,-0.102,-0.116,-0.104,-0.09,-0.106,-0.108,-0.108,-0.09,-0.09,-0.104,-0.084,-0.096,-0.112,-0.102,-0.102,-0.098,-0.116,-0.092,-0.096,-0.092,-0.106,-0.098,-0.098,-0.11,-0.106,-0.082,-0.1,-0.094,-0.088,-0.09],\"type\":\"scatter\"},{\"mode\":\"lines\",\"name\":\"$n^* = 4000$\",\"x\":[249,499,749,999,1249,1499,1749,1999,2249,2499,2749,2999,3249,3499,3749,3999,4249,4499,4749,4999,5249,5499,5749,5999,6249,6499,6749,6999,7249,7499,7749,7999,8249,8499,8749,8999,9249,9499,9749,9999,10249,10499,10749,10999,11249,11499,11749,11999,12249,12499,12749,12999,13249,13499,13749,13999,14249,14499,14749,14999,15249,15499,15749,15999,16249,16499,16749,16999,17249,17499,17749,17999,18249,18499,18749,18999,19249,19499,19749,19999],\"y\":[-1.0,-1.0,-1.0,-1.0,-0.794,-0.622,-0.712,-1.0,-0.646,-0.598,-0.65,-0.446,-0.41,-0.298,-0.372,-0.104,-0.084,-0.102,-0.114,-0.074,-0.106,-0.092,-0.124,-0.104,-0.084,-0.104,0.0,-0.092,0.0,0.0,0.0,0.0,0.0,0.0,-0.2,-0.182,0.0,0.0,0.0,0.0,0.0,0.0,0.0,-0.208,0.0,0.0,0.0,0.0,0.0,0.0,0.0,0.0,0.0,0.0,0.0,0.0,0.0,0.0,0.0,0.0,0.0,0.0,0.0,0.0,0.0,0.0,0.0,0.0,0.0,0.0,0.0,0.0,0.0,0.0,0.0,0.0,0.0,0.0,0.0,0.0],\"type\":\"scatter\"},{\"mode\":\"lines\",\"name\":\"$n^* = 8000$\",\"x\":[249,499,749,999,1249,1499,1749,1999,2249,2499,2749,2999,3249,3499,3749,3999,4249,4499,4749,4999,5249,5499,5749,5999,6249,6499,6749,6999,7249,7499,7749,7999,8249,8499,8749,8999,9249,9499,9749,9999,10249,10499,10749,10999,11249,11499,11749,11999,12249,12499,12749,12999,13249,13499,13749,13999,14249,14499,14749,14999,15249,15499,15749,15999,16249,16499,16749,16999,17249,17499,17749,17999,18249,18499,18749,18999,19249,19499,19749,19999],\"y\":[-1.0,-1.0,-0.572,-0.908,-0.886,-0.896,-1.0,-1.0,-1.0,-1.0,-1.0,-1.0,-1.0,-0.498,-0.498,-0.498,-0.498,-0.498,-0.498,-0.498,-0.498,-0.498,-0.498,-0.498,-0.498,-0.498,-0.498,-0.498,-0.432,-0.498,-0.39,-0.396,-0.536,-0.398,-0.378,-0.302,-0.196,-0.31,-0.366,-0.206,-0.194,-0.096,-0.212,-0.102,0.0,0.0,0.0,0.0,0.0,0.0,-0.104,0.0,0.0,0.0,0.0,0.0,0.0,0.0,0.0,0.0,0.0,0.0,0.0,0.0,0.0,0.0,0.0,0.0,0.0,0.0,0.0,0.0,0.0,0.0,0.0,0.0,0.0,0.0,0.0,-0.052],\"type\":\"scatter\"},{\"mode\":\"lines\",\"name\":\"$n^* = 12000$\",\"x\":[249,499,749,999,1249,1499,1749,1999,2249,2499,2749,2999,3249,3499,3749,3999,4249,4499,4749,4999,5249,5499,5749,5999,6249,6499,6749,6999,7249,7499,7749,7999,8249,8499,8749,8999,9249,9499,9749,9999,10249,10499,10749,10999,11249,11499,11749,11999,12249,12499,12749,12999,13249,13499,13749,13999,14249,14499,14749,14999,15249,15499,15749,15999,16249,16499,16749,16999,17249,17499,17749,17999,18249,18499,18749,18999,19249,19499,19749,19999],\"y\":[-1.0,-1.0,-1.0,-0.622,-1.0,-1.0,-0.878,-0.872,-0.682,-0.542,-0.594,-0.726,-1.0,-1.0,-0.826,-0.792,-0.666,-0.712,-0.496,-0.38,-0.362,-0.4,-0.236,-0.18,0.0,0.0,-0.106,0.0,-0.088,-0.102,-0.282,-0.09,0.0,-0.09,0.0,0.0,0.0,0.0,0.0,0.0,0.0,0.0,0.0,0.0,0.0,0.0,0.0,0.0,0.0,0.0,0.0,0.0,0.0,0.0,0.0,0.0,0.0,0.0,0.0,-0.056,0.0,0.0,0.0,0.0,0.0,0.0,-0.196,0.0,0.0,0.0,0.0,0.0,0.0,0.0,0.0,0.0,0.0,0.0,0.0,0.0],\"type\":\"scatter\"},{\"mode\":\"lines\",\"name\":\"$n^* = 16000$\",\"x\":[249,499,749,999,1249,1499,1749,1999,2249,2499,2749,2999,3249,3499,3749,3999,4249,4499,4749,4999,5249,5499,5749,5999,6249,6499,6749,6999,7249,7499,7749,7999,8249,8499,8749,8999,9249,9499,9749,9999,10249,10499,10749,10999,11249,11499,11749,11999,12249,12499,12749,12999,13249,13499,13749,13999,14249,14499,14749,14999,15249,15499,15749,15999,16249,16499,16749,16999,17249,17499,17749,17999,18249,18499,18749,18999,19249,19499,19749,19999],\"y\":[-1.0,-1.0,-1.0,-0.902,-1.0,-1.0,-1.0,-1.0,-1.0,-0.792,-0.702,-1.0,-0.792,-0.334,-1.0,-0.724,-0.752,-0.826,-1.0,-0.938,-0.808,-0.89,-0.666,-0.618,-0.56,-0.172,-0.298,-0.406,-0.246,-0.222,-0.222,-0.136,0.0,-0.1,0.0,0.0,0.0,-0.1,0.0,0.0,0.0,0.0,-0.206,0.0,0.0,-0.162,0.0,0.0,0.0,0.0,0.0,0.0,0.0,0.0,0.0,0.0,0.0,0.0,-0.268,-0.264,0.0,0.0,0.0,0.0,0.0,0.0,0.0,0.0,0.0,0.0,0.0,-0.094,0.0,0.0,-0.082,0.0,0.0,0.0,0.0,0.0],\"type\":\"scatter\"},{\"mode\":\"lines\",\"name\":\"$n^* = 20000$\",\"x\":[249,499,749,999,1249,1499,1749,1999,2249,2499,2749,2999,3249,3499,3749,3999,4249,4499,4749,4999,5249,5499,5749,5999,6249,6499,6749,6999,7249,7499,7749,7999,8249,8499,8749,8999,9249,9499,9749,9999,10249,10499,10749,10999,11249,11499,11749,11999,12249,12499,12749,12999,13249,13499,13749,13999,14249,14499,14749,14999,15249,15499,15749,15999,16249,16499,16749,16999,17249,17499,17749,17999,18249,18499,18749,18999,19249,19499,19749,19999],\"y\":[-1.0,-1.0,-1.0,-0.956,-0.88,-1.0,-0.892,-1.0,-1.0,-0.906,-1.0,-1.0,-1.0,-1.0,-0.826,-0.688,-1.0,-0.398,-0.766,-0.188,-0.406,-0.666,-0.478,-0.334,-0.256,-0.518,-0.22,-0.232,-0.346,-0.404,-0.334,-0.222,-0.332,-0.212,-0.456,-0.18,-0.102,-0.232,-0.1,-0.104,-0.1,-0.144,-0.07,0.0,0.0,-0.128,0.0,0.0,0.0,0.0,0.0,0.0,0.0,0.0,0.0,-0.116,-0.108,0.0,-0.106,-0.082,-0.126,-0.088,0.0,0.0,0.0,0.0,0.0,0.0,0.0,0.0,-0.066,0.0,-0.156,-0.08,-0.074,-0.054,0.0,0.0,0.0,0.0],\"type\":\"scatter\"},{\"mode\":\"lines\",\"name\":\"$n^* = 24000$\",\"x\":[249,499,749,999,1249,1499,1749,1999,2249,2499,2749,2999,3249,3499,3749,3999,4249,4499,4749,4999,5249,5499,5749,5999,6249,6499,6749,6999,7249,7499,7749,7999,8249,8499,8749,8999,9249,9499,9749,9999,10249,10499,10749,10999,11249,11499,11749,11999,12249,12499,12749,12999,13249,13499,13749,13999,14249,14499,14749,14999,15249,15499,15749,15999,16249,16499,16749,16999,17249,17499,17749,17999,18249,18499,18749,18999,19249,19499,19749,19999],\"y\":[-1.0,-1.0,-1.0,-0.954,-0.816,-0.808,-1.0,-1.0,-0.774,-0.732,-0.892,-0.868,-0.74,-0.652,-0.638,-0.618,-0.794,-0.628,-0.57,-0.458,-0.7,-0.884,-0.892,-0.65,-0.898,-0.904,-0.672,-0.726,-0.502,-0.708,-0.602,-0.532,-0.472,-0.356,-0.456,-0.47,-0.55,-0.302,-0.498,-0.186,-0.206,-0.102,0.0,0.0,0.0,-0.098,-0.354,-0.08,-0.366,-0.194,-0.182,-0.196,0.0,0.0,0.0,-0.082,0.0,0.0,-0.192,0.0,0.0,-0.054,0.0,0.0,-0.226,-0.168,0.0,0.0,0.0,0.0,0.0,0.0,0.0,0.0,0.0,0.0,0.0,0.0,0.0,0.0],\"type\":\"scatter\"},{\"mode\":\"lines\",\"name\":\"$n^* = 28000$\",\"x\":[249,499,749,999,1249,1499,1749,1999,2249,2499,2749,2999,3249,3499,3749,3999,4249,4499,4749,4999,5249,5499,5749,5999,6249,6499,6749,6999,7249,7499,7749,7999,8249,8499,8749,8999,9249,9499,9749,9999,10249,10499,10749,10999,11249,11499,11749,11999,12249,12499,12749,12999,13249,13499,13749,13999,14249,14499,14749,14999,15249,15499,15749,15999,16249,16499,16749,16999,17249,17499,17749,17999,18249,18499,18749,18999,19249,19499,19749,19999],\"y\":[-1.0,-1.0,-1.0,-1.0,-1.0,-1.0,-1.0,-0.57,-1.0,-0.818,-0.532,-0.452,-0.304,-0.252,-0.25,-0.246,-0.502,-0.4,0.0,0.0,-0.252,-0.502,-0.24,-0.252,-0.194,-0.648,-0.65,-0.19,-0.228,-0.456,-0.212,-0.1,-0.078,0.0,-0.122,-0.226,-0.23,0.0,-0.14,-0.106,-0.172,0.0,0.0,0.0,0.0,-0.112,-0.188,-0.548,-0.586,-0.22,-0.12,0.0,-0.088,-0.172,-0.172,-0.104,0.0,0.0,0.0,0.0,0.0,-0.2,0.0,0.0,0.0,0.0,0.0,0.0,0.0,0.0,0.0,0.0,0.0,0.0,0.0,0.0,0.0,0.0,0.0,0.0],\"type\":\"scatter\"},{\"mode\":\"lines\",\"name\":\"$n^* = 32000$\",\"x\":[249,499,749,999,1249,1499,1749,1999,2249,2499,2749,2999,3249,3499,3749,3999,4249,4499,4749,4999,5249,5499,5749,5999,6249,6499,6749,6999,7249,7499,7749,7999,8249,8499,8749,8999,9249,9499,9749,9999,10249,10499,10749,10999,11249,11499,11749,11999,12249,12499,12749,12999,13249,13499,13749,13999,14249,14499,14749,14999,15249,15499,15749,15999,16249,16499,16749,16999,17249,17499,17749,17999,18249,18499,18749,18999,19249,19499,19749,19999],\"y\":[-1.0,-1.0,-1.0,-1.0,-1.0,-1.0,-0.728,-1.0,-1.0,-0.498,-0.408,-0.104,-0.106,-0.208,-0.36,-0.332,-0.388,-0.582,-0.592,-0.62,-0.366,-0.334,-0.334,-0.362,-0.092,0.0,0.0,-0.086,-0.186,-0.084,0.0,-0.09,-0.2,-0.1,-0.186,-0.258,0.0,0.0,0.0,-0.118,-0.358,-0.254,0.0,0.0,0.0,-0.25,-0.258,-0.242,0.0,-0.218,0.0,-0.2,-0.384,-0.37,-0.384,-0.112,-0.11,-0.214,-0.13,-0.19,-0.124,0.0,-0.124,0.0,0.0,0.0,-0.192,0.0,0.0,0.0,-0.094,0.0,0.0,0.0,0.0,0.0,0.0,0.0,0.0,0.0],\"type\":\"scatter\"},{\"mode\":\"lines\",\"name\":\"$n^* = 36000$\",\"x\":[249,499,749,999,1249,1499,1749,1999,2249,2499,2749,2999,3249,3499,3749,3999,4249,4499,4749,4999,5249,5499,5749,5999,6249,6499,6749,6999,7249,7499,7749,7999,8249,8499,8749,8999,9249,9499,9749,9999,10249,10499,10749,10999,11249,11499,11749,11999,12249,12499,12749,12999,13249,13499,13749,13999,14249,14499,14749,14999,15249,15499,15749,15999,16249,16499,16749,16999,17249,17499,17749,17999,18249,18499,18749,18999,19249,19499,19749,19999],\"y\":[-1.0,-1.0,-1.0,-0.93,-1.0,-1.0,-1.0,-1.0,-1.0,-1.0,-1.0,-1.0,-0.902,-0.902,-0.69,-0.794,-0.502,-0.502,-0.574,-0.704,-0.802,-0.778,-0.816,-0.56,-0.322,-0.102,-0.608,0.0,0.0,-0.102,-0.112,-0.096,-0.106,-0.184,0.0,0.0,-0.2,-0.092,-0.082,-0.106,-0.188,-0.21,0.0,0.0,0.0,0.0,0.0,0.0,0.0,0.0,0.0,0.0,0.0,0.0,0.0,-0.09,-0.1,0.0,0.0,0.0,0.0,0.0,0.0,0.0,0.0,0.0,0.0,0.0,-0.102,-0.106,0.0,0.0,0.0,0.0,0.0,0.0,0.0,0.0,0.0,0.0],\"type\":\"scatter\"},{\"mode\":\"lines\",\"name\":\"$n^* = 40000$\",\"x\":[249,499,749,999,1249,1499,1749,1999,2249,2499,2749,2999,3249,3499,3749,3999,4249,4499,4749,4999,5249,5499,5749,5999,6249,6499,6749,6999,7249,7499,7749,7999,8249,8499,8749,8999,9249,9499,9749,9999,10249,10499,10749,10999,11249,11499,11749,11999,12249,12499,12749,12999,13249,13499,13749,13999,14249,14499,14749,14999,15249,15499,15749,15999,16249,16499,16749,16999,17249,17499,17749,17999,18249,18499,18749,18999,19249,19499,19749,19999],\"y\":[-1.0,-1.0,-1.0,-1.0,-1.0,-1.0,-1.0,-0.938,-0.866,-0.888,-0.88,-1.0,-1.0,-0.878,-1.0,-0.692,-0.644,-0.518,-0.602,-0.414,-0.464,-0.336,-0.232,-0.362,-0.158,-0.132,-0.232,-0.128,-0.084,-0.058,-0.19,0.0,-0.056,0.0,0.0,-0.208,-0.228,-0.212,-0.122,0.0,-0.2,0.0,0.0,0.0,0.0,0.0,0.0,0.0,0.0,0.0,0.0,0.0,-0.098,0.0,0.0,0.0,0.0,0.0,0.0,0.0,0.0,0.0,0.0,0.0,0.0,0.0,0.0,-0.196,0.0,0.0,-0.212,0.0,-0.182,0.0,0.0,0.0,0.0,0.0,0.0,0.0],\"type\":\"scatter\"}],                        {\"template\":{\"data\":{\"histogram2dcontour\":[{\"type\":\"histogram2dcontour\",\"colorbar\":{\"outlinewidth\":0,\"ticks\":\"\"},\"colorscale\":[[0.0,\"#0d0887\"],[0.1111111111111111,\"#46039f\"],[0.2222222222222222,\"#7201a8\"],[0.3333333333333333,\"#9c179e\"],[0.4444444444444444,\"#bd3786\"],[0.5555555555555556,\"#d8576b\"],[0.6666666666666666,\"#ed7953\"],[0.7777777777777778,\"#fb9f3a\"],[0.8888888888888888,\"#fdca26\"],[1.0,\"#f0f921\"]]}],\"choropleth\":[{\"type\":\"choropleth\",\"colorbar\":{\"outlinewidth\":0,\"ticks\":\"\"}}],\"histogram2d\":[{\"type\":\"histogram2d\",\"colorbar\":{\"outlinewidth\":0,\"ticks\":\"\"},\"colorscale\":[[0.0,\"#0d0887\"],[0.1111111111111111,\"#46039f\"],[0.2222222222222222,\"#7201a8\"],[0.3333333333333333,\"#9c179e\"],[0.4444444444444444,\"#bd3786\"],[0.5555555555555556,\"#d8576b\"],[0.6666666666666666,\"#ed7953\"],[0.7777777777777778,\"#fb9f3a\"],[0.8888888888888888,\"#fdca26\"],[1.0,\"#f0f921\"]]}],\"heatmap\":[{\"type\":\"heatmap\",\"colorbar\":{\"outlinewidth\":0,\"ticks\":\"\"},\"colorscale\":[[0.0,\"#0d0887\"],[0.1111111111111111,\"#46039f\"],[0.2222222222222222,\"#7201a8\"],[0.3333333333333333,\"#9c179e\"],[0.4444444444444444,\"#bd3786\"],[0.5555555555555556,\"#d8576b\"],[0.6666666666666666,\"#ed7953\"],[0.7777777777777778,\"#fb9f3a\"],[0.8888888888888888,\"#fdca26\"],[1.0,\"#f0f921\"]]}],\"heatmapgl\":[{\"type\":\"heatmapgl\",\"colorbar\":{\"outlinewidth\":0,\"ticks\":\"\"},\"colorscale\":[[0.0,\"#0d0887\"],[0.1111111111111111,\"#46039f\"],[0.2222222222222222,\"#7201a8\"],[0.3333333333333333,\"#9c179e\"],[0.4444444444444444,\"#bd3786\"],[0.5555555555555556,\"#d8576b\"],[0.6666666666666666,\"#ed7953\"],[0.7777777777777778,\"#fb9f3a\"],[0.8888888888888888,\"#fdca26\"],[1.0,\"#f0f921\"]]}],\"contourcarpet\":[{\"type\":\"contourcarpet\",\"colorbar\":{\"outlinewidth\":0,\"ticks\":\"\"}}],\"contour\":[{\"type\":\"contour\",\"colorbar\":{\"outlinewidth\":0,\"ticks\":\"\"},\"colorscale\":[[0.0,\"#0d0887\"],[0.1111111111111111,\"#46039f\"],[0.2222222222222222,\"#7201a8\"],[0.3333333333333333,\"#9c179e\"],[0.4444444444444444,\"#bd3786\"],[0.5555555555555556,\"#d8576b\"],[0.6666666666666666,\"#ed7953\"],[0.7777777777777778,\"#fb9f3a\"],[0.8888888888888888,\"#fdca26\"],[1.0,\"#f0f921\"]]}],\"surface\":[{\"type\":\"surface\",\"colorbar\":{\"outlinewidth\":0,\"ticks\":\"\"},\"colorscale\":[[0.0,\"#0d0887\"],[0.1111111111111111,\"#46039f\"],[0.2222222222222222,\"#7201a8\"],[0.3333333333333333,\"#9c179e\"],[0.4444444444444444,\"#bd3786\"],[0.5555555555555556,\"#d8576b\"],[0.6666666666666666,\"#ed7953\"],[0.7777777777777778,\"#fb9f3a\"],[0.8888888888888888,\"#fdca26\"],[1.0,\"#f0f921\"]]}],\"mesh3d\":[{\"type\":\"mesh3d\",\"colorbar\":{\"outlinewidth\":0,\"ticks\":\"\"}}],\"scatter\":[{\"fillpattern\":{\"fillmode\":\"overlay\",\"size\":10,\"solidity\":0.2},\"type\":\"scatter\"}],\"parcoords\":[{\"type\":\"parcoords\",\"line\":{\"colorbar\":{\"outlinewidth\":0,\"ticks\":\"\"}}}],\"scatterpolargl\":[{\"type\":\"scatterpolargl\",\"marker\":{\"colorbar\":{\"outlinewidth\":0,\"ticks\":\"\"}}}],\"bar\":[{\"error_x\":{\"color\":\"#2a3f5f\"},\"error_y\":{\"color\":\"#2a3f5f\"},\"marker\":{\"line\":{\"color\":\"#E5ECF6\",\"width\":0.5},\"pattern\":{\"fillmode\":\"overlay\",\"size\":10,\"solidity\":0.2}},\"type\":\"bar\"}],\"scattergeo\":[{\"type\":\"scattergeo\",\"marker\":{\"colorbar\":{\"outlinewidth\":0,\"ticks\":\"\"}}}],\"scatterpolar\":[{\"type\":\"scatterpolar\",\"marker\":{\"colorbar\":{\"outlinewidth\":0,\"ticks\":\"\"}}}],\"histogram\":[{\"marker\":{\"pattern\":{\"fillmode\":\"overlay\",\"size\":10,\"solidity\":0.2}},\"type\":\"histogram\"}],\"scattergl\":[{\"type\":\"scattergl\",\"marker\":{\"colorbar\":{\"outlinewidth\":0,\"ticks\":\"\"}}}],\"scatter3d\":[{\"type\":\"scatter3d\",\"line\":{\"colorbar\":{\"outlinewidth\":0,\"ticks\":\"\"}},\"marker\":{\"colorbar\":{\"outlinewidth\":0,\"ticks\":\"\"}}}],\"scattermapbox\":[{\"type\":\"scattermapbox\",\"marker\":{\"colorbar\":{\"outlinewidth\":0,\"ticks\":\"\"}}}],\"scatterternary\":[{\"type\":\"scatterternary\",\"marker\":{\"colorbar\":{\"outlinewidth\":0,\"ticks\":\"\"}}}],\"scattercarpet\":[{\"type\":\"scattercarpet\",\"marker\":{\"colorbar\":{\"outlinewidth\":0,\"ticks\":\"\"}}}],\"carpet\":[{\"aaxis\":{\"endlinecolor\":\"#2a3f5f\",\"gridcolor\":\"white\",\"linecolor\":\"white\",\"minorgridcolor\":\"white\",\"startlinecolor\":\"#2a3f5f\"},\"baxis\":{\"endlinecolor\":\"#2a3f5f\",\"gridcolor\":\"white\",\"linecolor\":\"white\",\"minorgridcolor\":\"white\",\"startlinecolor\":\"#2a3f5f\"},\"type\":\"carpet\"}],\"table\":[{\"cells\":{\"fill\":{\"color\":\"#EBF0F8\"},\"line\":{\"color\":\"white\"}},\"header\":{\"fill\":{\"color\":\"#C8D4E3\"},\"line\":{\"color\":\"white\"}},\"type\":\"table\"}],\"barpolar\":[{\"marker\":{\"line\":{\"color\":\"#E5ECF6\",\"width\":0.5},\"pattern\":{\"fillmode\":\"overlay\",\"size\":10,\"solidity\":0.2}},\"type\":\"barpolar\"}],\"pie\":[{\"automargin\":true,\"type\":\"pie\"}]},\"layout\":{\"autotypenumbers\":\"strict\",\"colorway\":[\"#636efa\",\"#EF553B\",\"#00cc96\",\"#ab63fa\",\"#FFA15A\",\"#19d3f3\",\"#FF6692\",\"#B6E880\",\"#FF97FF\",\"#FECB52\"],\"font\":{\"color\":\"#2a3f5f\"},\"hovermode\":\"closest\",\"hoverlabel\":{\"align\":\"left\"},\"paper_bgcolor\":\"white\",\"plot_bgcolor\":\"#E5ECF6\",\"polar\":{\"bgcolor\":\"#E5ECF6\",\"angularaxis\":{\"gridcolor\":\"white\",\"linecolor\":\"white\",\"ticks\":\"\"},\"radialaxis\":{\"gridcolor\":\"white\",\"linecolor\":\"white\",\"ticks\":\"\"}},\"ternary\":{\"bgcolor\":\"#E5ECF6\",\"aaxis\":{\"gridcolor\":\"white\",\"linecolor\":\"white\",\"ticks\":\"\"},\"baxis\":{\"gridcolor\":\"white\",\"linecolor\":\"white\",\"ticks\":\"\"},\"caxis\":{\"gridcolor\":\"white\",\"linecolor\":\"white\",\"ticks\":\"\"}},\"coloraxis\":{\"colorbar\":{\"outlinewidth\":0,\"ticks\":\"\"}},\"colorscale\":{\"sequential\":[[0.0,\"#0d0887\"],[0.1111111111111111,\"#46039f\"],[0.2222222222222222,\"#7201a8\"],[0.3333333333333333,\"#9c179e\"],[0.4444444444444444,\"#bd3786\"],[0.5555555555555556,\"#d8576b\"],[0.6666666666666666,\"#ed7953\"],[0.7777777777777778,\"#fb9f3a\"],[0.8888888888888888,\"#fdca26\"],[1.0,\"#f0f921\"]],\"sequentialminus\":[[0.0,\"#0d0887\"],[0.1111111111111111,\"#46039f\"],[0.2222222222222222,\"#7201a8\"],[0.3333333333333333,\"#9c179e\"],[0.4444444444444444,\"#bd3786\"],[0.5555555555555556,\"#d8576b\"],[0.6666666666666666,\"#ed7953\"],[0.7777777777777778,\"#fb9f3a\"],[0.8888888888888888,\"#fdca26\"],[1.0,\"#f0f921\"]],\"diverging\":[[0,\"#8e0152\"],[0.1,\"#c51b7d\"],[0.2,\"#de77ae\"],[0.3,\"#f1b6da\"],[0.4,\"#fde0ef\"],[0.5,\"#f7f7f7\"],[0.6,\"#e6f5d0\"],[0.7,\"#b8e186\"],[0.8,\"#7fbc41\"],[0.9,\"#4d9221\"],[1,\"#276419\"]]},\"xaxis\":{\"gridcolor\":\"white\",\"linecolor\":\"white\",\"ticks\":\"\",\"title\":{\"standoff\":15},\"zerolinecolor\":\"white\",\"automargin\":true,\"zerolinewidth\":2},\"yaxis\":{\"gridcolor\":\"white\",\"linecolor\":\"white\",\"ticks\":\"\",\"title\":{\"standoff\":15},\"zerolinecolor\":\"white\",\"automargin\":true,\"zerolinewidth\":2},\"scene\":{\"xaxis\":{\"backgroundcolor\":\"#E5ECF6\",\"gridcolor\":\"white\",\"linecolor\":\"white\",\"showbackground\":true,\"ticks\":\"\",\"zerolinecolor\":\"white\",\"gridwidth\":2},\"yaxis\":{\"backgroundcolor\":\"#E5ECF6\",\"gridcolor\":\"white\",\"linecolor\":\"white\",\"showbackground\":true,\"ticks\":\"\",\"zerolinecolor\":\"white\",\"gridwidth\":2},\"zaxis\":{\"backgroundcolor\":\"#E5ECF6\",\"gridcolor\":\"white\",\"linecolor\":\"white\",\"showbackground\":true,\"ticks\":\"\",\"zerolinecolor\":\"white\",\"gridwidth\":2}},\"shapedefaults\":{\"line\":{\"color\":\"#2a3f5f\"}},\"annotationdefaults\":{\"arrowcolor\":\"#2a3f5f\",\"arrowhead\":0,\"arrowwidth\":1},\"geo\":{\"bgcolor\":\"white\",\"landcolor\":\"#E5ECF6\",\"subunitcolor\":\"white\",\"showland\":true,\"showlakes\":true,\"lakecolor\":\"white\"},\"title\":{\"x\":0.05},\"mapbox\":{\"style\":\"light\"}}},\"title\":{\"text\":\"$M_{opt}\\\\text{ for every 250 games for different values of }n^{\\u2217}$\"},\"xaxis\":{\"title\":{\"text\":\"$game$\"}},\"yaxis\":{\"title\":{\"text\":\"$M_{opt}$\"}},\"width\":1200,\"height\":400},                        {\"responsive\": true}                    ).then(function(){\n                            \nvar gd = document.getElementById('3a9c2f09-b72c-4716-8317-dc410ddd4044');\nvar x = new MutationObserver(function (mutations, observer) {{\n        var display = window.getComputedStyle(gd).display;\n        if (!display || display === 'none') {{\n            console.log([gd, 'removed!']);\n            Plotly.purge(gd);\n            observer.disconnect();\n        }}\n}});\n\n// Listen for the removal of the full notebook cells\nvar notebookContainer = gd.closest('#notebook-container');\nif (notebookContainer) {{\n    x.observe(notebookContainer, {childList: true});\n}}\n\n// Listen for the clearing of the current output cell\nvar outputEl = gd.closest('.output');\nif (outputEl) {{\n    x.observe(outputEl, {childList: true});\n}}\n\n                        })                };                });            </script>        </div>"
     },
     "metadata": {},
     "output_type": "display_data"
    }
   ],
   "source": [
    "fig = go.Figure()\n",
    "\n",
    "for i, y_i in enumerate(n_star_M_opts):\n",
    "    fig.add_trace(go.Scatter(x=x, y=y_i, mode='lines',name=r'$n^* = %d$' % n_star_list[i]))\n",
    "\n",
    "fig.update_layout(\n",
    "    title=r'$M_{opt}\\text{ for every %d games for different values of }n^{∗}$' % averaging_steps,\n",
    "    xaxis_title=r'$game$',\n",
    "    yaxis_title=r'$M_{opt}$',\n",
    "    width=1200, height=400\n",
    ")\n",
    "\n",
    "fig.show()"
   ]
  },
  {
   "cell_type": "code",
   "execution_count": 33,
   "metadata": {
    "collapsed": false,
    "pycharm": {
     "name": "#%%\n"
    }
   },
   "outputs": [
    {
     "data": {
      "application/vnd.plotly.v1+json": {
       "data": [
        {
         "mode": "lines",
         "name": "$n^* = 1$",
         "x": [
          249,
          499,
          749,
          999,
          1249,
          1499,
          1749,
          1999,
          2249,
          2499,
          2749,
          2999,
          3249,
          3499,
          3749,
          3999,
          4249,
          4499,
          4749,
          4999,
          5249,
          5499,
          5749,
          5999,
          6249,
          6499,
          6749,
          6999,
          7249,
          7499,
          7749,
          7999,
          8249,
          8499,
          8749,
          8999,
          9249,
          9499,
          9749,
          9999,
          10249,
          10499,
          10749,
          10999,
          11249,
          11499,
          11749,
          11999,
          12249,
          12499,
          12749,
          12999,
          13249,
          13499,
          13749,
          13999,
          14249,
          14499,
          14749,
          14999,
          15249,
          15499,
          15749,
          15999,
          16249,
          16499,
          16749,
          16999,
          17249,
          17499,
          17749,
          17999,
          18249,
          18499,
          18749,
          18999,
          19249,
          19499,
          19749,
          19999
         ],
         "y": [
          0.1351475776870272,
          0.0847889156041745,
          0.04877059092239253,
          0.03921889297198504,
          0.060428773113246265,
          0.061456234722814564,
          0.08049738599277295,
          0.07900643863317283,
          0.08143493391416477,
          0.08344279039853712,
          0.07963141172486185,
          0.07806546368092471,
          0.07548557951564103,
          0.07368902632090221,
          0.07436971543155924,
          0.07133575558720884,
          0.06987096707566548,
          0.06748652199420753,
          0.07135775802994729,
          0.06998934924976664,
          0.06869256042050698,
          0.06528679806644207,
          0.06295806023408018,
          0.06158642460718057,
          0.06502696119455828,
          0.06376344033573143,
          0.061857706903287304,
          0.06124604170410966,
          0.06037200766850613,
          0.05842087797073073,
          0.061427759788569514,
          0.059805505346069786,
          0.0596187926521702,
          0.05833471273415291,
          0.058759806818276084,
          0.057885380814647884,
          0.05882751338297382,
          0.05664748811411642,
          0.05904545222498206,
          0.05835976056553222,
          0.057902172097544134,
          0.058170626631148595,
          0.05711161437155638,
          0.058817225167112505,
          0.06053343401028869,
          0.06028391697314555,
          0.059094051369471066,
          0.05798717439883834,
          0.05827564539795596,
          0.058004471171178566,
          0.059198790336033806,
          0.058950156898575676,
          0.05956138422642473,
          0.05741020223387845,
          0.05678422606123855,
          0.05395821293456371,
          0.05370405449893305,
          0.053537741884871606,
          0.05379051804666032,
          0.053122582687240724,
          0.051872450270371885,
          0.0513648840943168,
          0.051461289981136416,
          0.05246254262574074,
          0.0525986706598064,
          0.054176634057853085,
          0.052961506393274974,
          0.05145625286691245,
          0.050832525428456427,
          0.052252645204585474,
          0.05078297616612422,
          0.050212556112296226,
          0.049845721477273376,
          0.049194453994970064,
          0.048502144020622966,
          0.04810886856180643,
          0.04923044047569416,
          0.04829268060908046,
          0.04895292414390475,
          0.04872528634414144
         ],
         "type": "scatter"
        },
        {
         "mode": "lines",
         "name": "$n^* = 4000$",
         "x": [
          249,
          499,
          749,
          999,
          1249,
          1499,
          1749,
          1999,
          2249,
          2499,
          2749,
          2999,
          3249,
          3499,
          3749,
          3999,
          4249,
          4499,
          4749,
          4999,
          5249,
          5499,
          5749,
          5999,
          6249,
          6499,
          6749,
          6999,
          7249,
          7499,
          7749,
          7999,
          8249,
          8499,
          8749,
          8999,
          9249,
          9499,
          9749,
          9999,
          10249,
          10499,
          10749,
          10999,
          11249,
          11499,
          11749,
          11999,
          12249,
          12499,
          12749,
          12999,
          13249,
          13499,
          13749,
          13999,
          14249,
          14499,
          14749,
          14999,
          15249,
          15499,
          15749,
          15999,
          16249,
          16499,
          16749,
          16999,
          17249,
          17499,
          17749,
          17999,
          18249,
          18499,
          18749,
          18999,
          19249,
          19499,
          19749,
          19999
         ],
         "y": [
          0.12046102433383059,
          0.1047550548860817,
          0.08051096779799091,
          0.0771416801536242,
          0.07397624488176655,
          0.06986246013702078,
          0.07164405039908373,
          0.06899941448514621,
          0.07759812912046571,
          0.07565550983377865,
          0.08133781359504723,
          0.07877034214812689,
          0.08383609539927118,
          0.08183032772881077,
          0.08518287221428648,
          0.08051819065438572,
          0.0803207024973071,
          0.07707753109071135,
          0.07511764263483889,
          0.07061632749628582,
          0.07105648764189329,
          0.06712567531488267,
          0.06559491705751315,
          0.062325998425272915,
          0.061609191470271114,
          0.06010920047058028,
          0.05754196510292638,
          0.05671486718266018,
          0.05569669339599322,
          0.054066278572882646,
          0.05214766727082199,
          0.05169671421051668,
          0.05061648208546182,
          0.0488548003610733,
          0.04960052047895761,
          0.048017786384669976,
          0.048454651265783945,
          0.04797967211414056,
          0.04751036986668016,
          0.04668584937155568,
          0.04627286124105115,
          0.0469615568270393,
          0.04668442722130263,
          0.04694604616434801,
          0.048173622504975686,
          0.048936987954113144,
          0.04792361813864321,
          0.04692592975471664,
          0.045769578387078486,
          0.04537540418220395,
          0.044783713603779446,
          0.04420992003700796,
          0.04454976075602443,
          0.04448559148212708,
          0.04324070923233279,
          0.04287856007930233,
          0.043149553751926126,
          0.04375643852158803,
          0.04276580334840537,
          0.04286258555868275,
          0.044120865053991244,
          0.04364351536956345,
          0.04356052634393882,
          0.0428113848776158,
          0.04150600888762281,
          0.04168575991433664,
          0.042587135204458317,
          0.043014865266001324,
          0.042083183411440184,
          0.04231046410336555,
          0.041276812357122626,
          0.040721981148448744,
          0.04119919309446706,
          0.04154912915631204,
          0.041061916089040466,
          0.041757258703000844,
          0.04158681817352772,
          0.04117931771375563,
          0.039908561348834984,
          0.03983491704442558
         ],
         "type": "scatter"
        },
        {
         "mode": "lines",
         "name": "$n^* = 8000$",
         "x": [
          249,
          499,
          749,
          999,
          1249,
          1499,
          1749,
          1999,
          2249,
          2499,
          2749,
          2999,
          3249,
          3499,
          3749,
          3999,
          4249,
          4499,
          4749,
          4999,
          5249,
          5499,
          5749,
          5999,
          6249,
          6499,
          6749,
          6999,
          7249,
          7499,
          7749,
          7999,
          8249,
          8499,
          8749,
          8999,
          9249,
          9499,
          9749,
          9999,
          10249,
          10499,
          10749,
          10999,
          11249,
          11499,
          11749,
          11999,
          12249,
          12499,
          12749,
          12999,
          13249,
          13499,
          13749,
          13999,
          14249,
          14499,
          14749,
          14999,
          15249,
          15499,
          15749,
          15999,
          16249,
          16499,
          16749,
          16999,
          17249,
          17499,
          17749,
          17999,
          18249,
          18499,
          18749,
          18999,
          19249,
          19499,
          19749,
          19999
         ],
         "y": [
          0.12784538905783352,
          0.10678352472667922,
          0.08265822497252064,
          0.078604181674987,
          0.07081195132865581,
          0.06776211643697838,
          0.06963952757835945,
          0.06716476116968682,
          0.06960120619814321,
          0.06727260233631267,
          0.0741039918359637,
          0.0733420631638674,
          0.08061880753289356,
          0.0787508212029934,
          0.08572277999551144,
          0.08330781123712054,
          0.08861065267501335,
          0.08816643489750627,
          0.08958864479579709,
          0.08626014970052823,
          0.08972485137010121,
          0.08555892738888318,
          0.08995123467541467,
          0.08682811851131506,
          0.08502422955987805,
          0.08207799675138065,
          0.08303490037077599,
          0.07870664900950292,
          0.07825402137936477,
          0.07403191948462352,
          0.07604871722523301,
          0.07207072860818373,
          0.07015617340887144,
          0.06859996542334557,
          0.06858358773323454,
          0.06725663697632316,
          0.06523810624437673,
          0.06590157127718423,
          0.06534105878149765,
          0.06439097340556277,
          0.0653226153049248,
          0.06331670037974453,
          0.06090742513143977,
          0.059668728803166524,
          0.059416748894755865,
          0.056748566800548184,
          0.05522831081173596,
          0.05415092974282327,
          0.05218506873999768,
          0.05156993566642162,
          0.05002778834125526,
          0.05077280526359876,
          0.0511525114772029,
          0.05025134080502525,
          0.0491696710170524,
          0.0492554655510026,
          0.04821808162758003,
          0.04799712206786569,
          0.04793722522291508,
          0.04765471181686672,
          0.047015943072943225,
          0.0466446353271522,
          0.04575336758719116,
          0.04583642668619349,
          0.04515411120976465,
          0.04470203106123183,
          0.045107860152531785,
          0.045115113637376664,
          0.04542046904123278,
          0.04612835583280054,
          0.04572830701959223,
          0.044658085441851354,
          0.04565630795709395,
          0.04608901771665602,
          0.044698026287471104,
          0.044194056369487755,
          0.044201301598471396,
          0.04499003009695388,
          0.04461947528777178,
          0.044603729412267056
         ],
         "type": "scatter"
        },
        {
         "mode": "lines",
         "name": "$n^* = 12000$",
         "x": [
          249,
          499,
          749,
          999,
          1249,
          1499,
          1749,
          1999,
          2249,
          2499,
          2749,
          2999,
          3249,
          3499,
          3749,
          3999,
          4249,
          4499,
          4749,
          4999,
          5249,
          5499,
          5749,
          5999,
          6249,
          6499,
          6749,
          6999,
          7249,
          7499,
          7749,
          7999,
          8249,
          8499,
          8749,
          8999,
          9249,
          9499,
          9749,
          9999,
          10249,
          10499,
          10749,
          10999,
          11249,
          11499,
          11749,
          11999,
          12249,
          12499,
          12749,
          12999,
          13249,
          13499,
          13749,
          13999,
          14249,
          14499,
          14749,
          14999,
          15249,
          15499,
          15749,
          15999,
          16249,
          16499,
          16749,
          16999,
          17249,
          17499,
          17749,
          17999,
          18249,
          18499,
          18749,
          18999,
          19249,
          19499,
          19749,
          19999
         ],
         "y": [
          0.10900228601465767,
          0.10099697969585228,
          0.07762157503590252,
          0.07576285071078852,
          0.07110571626219012,
          0.07096894080209178,
          0.07180524494049513,
          0.06947120291118533,
          0.07313741233519146,
          0.07055105318527327,
          0.07734313289892437,
          0.07459192655111493,
          0.08179586996035329,
          0.07956735304149941,
          0.08591580962936993,
          0.08244747504965745,
          0.08609091792138177,
          0.08238788473354725,
          0.0842152370902516,
          0.08146231652336731,
          0.08371808102132859,
          0.07910181004266208,
          0.08011224740641777,
          0.0772245225084698,
          0.07952450458524805,
          0.07660515876079248,
          0.07668155631779329,
          0.07382444545227947,
          0.07597188173592222,
          0.07325434215326126,
          0.07226959724668496,
          0.07137273028409959,
          0.07090850850254034,
          0.06931876048545375,
          0.06857115351559669,
          0.06624376359238945,
          0.06407849597312062,
          0.06250132833931434,
          0.06119277894003923,
          0.058237198560567534,
          0.05746034829312223,
          0.054991817851362985,
          0.0526241771218704,
          0.05005277907108202,
          0.04803548768783609,
          0.04571981434945911,
          0.046183458011339364,
          0.04480009929124099,
          0.044684140527416594,
          0.04404448081676762,
          0.04314292019791301,
          0.04280756375778942,
          0.042263727671196384,
          0.042558906581795335,
          0.04253965577771587,
          0.04236370811062167,
          0.04251004108472874,
          0.04094523767114429,
          0.04105196877576178,
          0.04027558220640449,
          0.03996131745512534,
          0.040761134759180064,
          0.04047835629405018,
          0.040959618115823423,
          0.04063395828925033,
          0.039998058245690374,
          0.039939414499475176,
          0.03899698173326831,
          0.03952316035470251,
          0.03892249354215632,
          0.03872030112010711,
          0.038509746967874306,
          0.03942300417130032,
          0.03979981084985118,
          0.040359266186979686,
          0.040131117364345964,
          0.04037167995898838,
          0.04035495364510898,
          0.04031744730633658,
          0.04049700683122653
         ],
         "type": "scatter"
        },
        {
         "mode": "lines",
         "name": "$n^* = 16000$",
         "x": [
          249,
          499,
          749,
          999,
          1249,
          1499,
          1749,
          1999,
          2249,
          2499,
          2749,
          2999,
          3249,
          3499,
          3749,
          3999,
          4249,
          4499,
          4749,
          4999,
          5249,
          5499,
          5749,
          5999,
          6249,
          6499,
          6749,
          6999,
          7249,
          7499,
          7749,
          7999,
          8249,
          8499,
          8749,
          8999,
          9249,
          9499,
          9749,
          9999,
          10249,
          10499,
          10749,
          10999,
          11249,
          11499,
          11749,
          11999,
          12249,
          12499,
          12749,
          12999,
          13249,
          13499,
          13749,
          13999,
          14249,
          14499,
          14749,
          14999,
          15249,
          15499,
          15749,
          15999,
          16249,
          16499,
          16749,
          16999,
          17249,
          17499,
          17749,
          17999,
          18249,
          18499,
          18749,
          18999,
          19249,
          19499,
          19749,
          19999
         ],
         "y": [
          0.12675438950268123,
          0.1059544028527359,
          0.07788133401744762,
          0.07704661940092677,
          0.07196459592757713,
          0.06974735131087643,
          0.07161219268437084,
          0.06901402922999327,
          0.07112027712651259,
          0.06953089267032644,
          0.07410610411620085,
          0.07171751331803752,
          0.07985635663187782,
          0.07770248891049346,
          0.08531820980945505,
          0.08141024162928175,
          0.08570296348383029,
          0.08185297525709584,
          0.08589011137157876,
          0.08170894400737053,
          0.0854042142637911,
          0.08103133079647604,
          0.08577173351984303,
          0.08371400833129883,
          0.08537468014078008,
          0.0840011413669639,
          0.08369861372127702,
          0.08404060121148926,
          0.0842087510374935,
          0.08176966687197695,
          0.08260224989017113,
          0.08131506455945654,
          0.07999250677494472,
          0.0771792673543599,
          0.07740569167873694,
          0.07553979863919187,
          0.07505425951454077,
          0.07234806325491314,
          0.06988700405904448,
          0.0682383886949029,
          0.06852304165370533,
          0.06575373620937375,
          0.06454418119938654,
          0.06328593697500685,
          0.06165941536981461,
          0.06106313398297139,
          0.06129245719828744,
          0.05886834124103189,
          0.05813462763196892,
          0.0569036223879185,
          0.05534799690099358,
          0.05445561973868881,
          0.05148603562042685,
          0.050226502465134,
          0.049112554872907076,
          0.046661398914731665,
          0.04563325034737911,
          0.04470342945868289,
          0.043493939435173726,
          0.044266798825043696,
          0.04394471787640618,
          0.043344327672879636,
          0.04316607801298387,
          0.04427708624257841,
          0.04330093603891967,
          0.0431588310892093,
          0.042334303522165294,
          0.04289353000663364,
          0.043001501268069994,
          0.04253292176771917,
          0.04149042694117451,
          0.040198970811528886,
          0.039869701631399114,
          0.038611720728684906,
          0.04013342539309173,
          0.04045168411092866,
          0.040249277953989804,
          0.04105152221697785,
          0.04098833970926903,
          0.04113722896392651
         ],
         "type": "scatter"
        },
        {
         "mode": "lines",
         "name": "$n^* = 20000$",
         "x": [
          249,
          499,
          749,
          999,
          1249,
          1499,
          1749,
          1999,
          2249,
          2499,
          2749,
          2999,
          3249,
          3499,
          3749,
          3999,
          4249,
          4499,
          4749,
          4999,
          5249,
          5499,
          5749,
          5999,
          6249,
          6499,
          6749,
          6999,
          7249,
          7499,
          7749,
          7999,
          8249,
          8499,
          8749,
          8999,
          9249,
          9499,
          9749,
          9999,
          10249,
          10499,
          10749,
          10999,
          11249,
          11499,
          11749,
          11999,
          12249,
          12499,
          12749,
          12999,
          13249,
          13499,
          13749,
          13999,
          14249,
          14499,
          14749,
          14999,
          15249,
          15499,
          15749,
          15999,
          16249,
          16499,
          16749,
          16999,
          17249,
          17499,
          17749,
          17999,
          18249,
          18499,
          18749,
          18999,
          19249,
          19499,
          19749,
          19999
         ],
         "y": [
          0.12968138851689776,
          0.11312270014305524,
          0.09149889154671624,
          0.08846960658339668,
          0.07888022580344096,
          0.07411987669092704,
          0.07394754436776735,
          0.07125409292837714,
          0.07473953351141646,
          0.07178288287503755,
          0.07566680186758462,
          0.0739694647447961,
          0.07961956188508443,
          0.0785513449005757,
          0.08442226312198173,
          0.0817782490537147,
          0.08558996581805373,
          0.08387645969844677,
          0.08716536506716036,
          0.08353337451548619,
          0.08938898691399531,
          0.08542050016658932,
          0.08807640988064726,
          0.08773537623764431,
          0.08784058368168898,
          0.08517498558253356,
          0.08557115543191716,
          0.08440218124526283,
          0.08388047303011585,
          0.08329392071599633,
          0.0823195380052914,
          0.08054219136466514,
          0.08025771616111425,
          0.07779037183087863,
          0.07872478950719368,
          0.07663535871373939,
          0.07611646911139647,
          0.07438801007642262,
          0.0755135935924209,
          0.07347839277746027,
          0.0726652826818594,
          0.07017744462286411,
          0.07059359662776492,
          0.06953112661480643,
          0.06900018849663744,
          0.06819823581770242,
          0.06793001168878735,
          0.06785286620343473,
          0.0678332728337929,
          0.06614638658398567,
          0.06555817689907868,
          0.06592173658659835,
          0.06512890837904883,
          0.06535519764127948,
          0.06548711761160005,
          0.06330387928898226,
          0.06345434977484295,
          0.06209813197118205,
          0.060191909625138366,
          0.05928190982831536,
          0.05814721836107989,
          0.057461353553111084,
          0.05604934011041467,
          0.05463850980958465,
          0.05239214395630386,
          0.05155960902224037,
          0.050958731801593604,
          0.05034966056527042,
          0.04952193065556298,
          0.0483355092840693,
          0.04738803222522092,
          0.045430592354985325,
          0.045811199464801854,
          0.045337954114695066,
          0.04415221359641826,
          0.04339230284501946,
          0.04290382930306892,
          0.0430209435494726,
          0.04262666869908571,
          0.04063392687408674
         ],
         "type": "scatter"
        },
        {
         "mode": "lines",
         "name": "$n^* = 24000$",
         "x": [
          249,
          499,
          749,
          999,
          1249,
          1499,
          1749,
          1999,
          2249,
          2499,
          2749,
          2999,
          3249,
          3499,
          3749,
          3999,
          4249,
          4499,
          4749,
          4999,
          5249,
          5499,
          5749,
          5999,
          6249,
          6499,
          6749,
          6999,
          7249,
          7499,
          7749,
          7999,
          8249,
          8499,
          8749,
          8999,
          9249,
          9499,
          9749,
          9999,
          10249,
          10499,
          10749,
          10999,
          11249,
          11499,
          11749,
          11999,
          12249,
          12499,
          12749,
          12999,
          13249,
          13499,
          13749,
          13999,
          14249,
          14499,
          14749,
          14999,
          15249,
          15499,
          15749,
          15999,
          16249,
          16499,
          16749,
          16999,
          17249,
          17499,
          17749,
          17999,
          18249,
          18499,
          18749,
          18999,
          19249,
          19499,
          19749,
          19999
         ],
         "y": [
          0.12157219659391676,
          0.10285817368212574,
          0.07777354862916169,
          0.07589871635785583,
          0.0722419606021571,
          0.06947399304412744,
          0.07094068862845558,
          0.06812952268977189,
          0.07354864876850528,
          0.06957731087776747,
          0.07632466000520867,
          0.07447164611408327,
          0.08055102453061026,
          0.07779187086092328,
          0.08573615450299671,
          0.08346699244968923,
          0.08650337331339546,
          0.08458428334338325,
          0.08779621590141012,
          0.08535062010201176,
          0.08918558113981744,
          0.08705821736981083,
          0.088970833540719,
          0.08713601089529735,
          0.08974145238905429,
          0.08787876588311341,
          0.0883260799297196,
          0.08862462031888106,
          0.08911113697602892,
          0.08744257487052558,
          0.0837060457779526,
          0.08287423497156199,
          0.08298443249594153,
          0.08050061008238871,
          0.08049270369297078,
          0.07928937624350767,
          0.08014339532382225,
          0.07750565749249096,
          0.07826733880158927,
          0.0771075952756736,
          0.07613932188311812,
          0.07681194604093196,
          0.07762311223724082,
          0.07663977504174356,
          0.07515645298223435,
          0.0749667624293345,
          0.07593902206098711,
          0.07667209593771433,
          0.07720389639964872,
          0.07636826896900516,
          0.07656525387825452,
          0.07556156725094125,
          0.07534290388550448,
          0.0752521380107103,
          0.07652925236805065,
          0.0754533301906747,
          0.07323910532431109,
          0.07213364445644167,
          0.0730555735131213,
          0.07150156524535772,
          0.06935790049923436,
          0.06754948261083775,
          0.06525498782984838,
          0.06408094200371656,
          0.06378958841773454,
          0.06255252899188135,
          0.06189526751645575,
          0.061966773516846596,
          0.06093140279528665,
          0.05971084320530524,
          0.05775360962554943,
          0.055602308783647664,
          0.053937701962072836,
          0.05397471367363252,
          0.0534257671634302,
          0.052248374333830325,
          0.04967850951764446,
          0.047931597398306686,
          0.047073446055290895,
          0.045797775539218405
         ],
         "type": "scatter"
        },
        {
         "mode": "lines",
         "name": "$n^* = 28000$",
         "x": [
          249,
          499,
          749,
          999,
          1249,
          1499,
          1749,
          1999,
          2249,
          2499,
          2749,
          2999,
          3249,
          3499,
          3749,
          3999,
          4249,
          4499,
          4749,
          4999,
          5249,
          5499,
          5749,
          5999,
          6249,
          6499,
          6749,
          6999,
          7249,
          7499,
          7749,
          7999,
          8249,
          8499,
          8749,
          8999,
          9249,
          9499,
          9749,
          9999,
          10249,
          10499,
          10749,
          10999,
          11249,
          11499,
          11749,
          11999,
          12249,
          12499,
          12749,
          12999,
          13249,
          13499,
          13749,
          13999,
          14249,
          14499,
          14749,
          14999,
          15249,
          15499,
          15749,
          15999,
          16249,
          16499,
          16749,
          16999,
          17249,
          17499,
          17749,
          17999,
          18249,
          18499,
          18749,
          18999,
          19249,
          19499,
          19749,
          19999
         ],
         "y": [
          0.1214109988449371,
          0.10287998064433505,
          0.07738504460802624,
          0.07625499386232712,
          0.07303015894420375,
          0.07061362604928266,
          0.07241429800542841,
          0.07165757695059005,
          0.07576514609814936,
          0.07352497057427627,
          0.07794009539593796,
          0.07451396110021916,
          0.0806640499868678,
          0.08069912751521502,
          0.08433604638070562,
          0.08194528726972468,
          0.08647468195434797,
          0.08236374625714,
          0.08559015320380346,
          0.08355723466545954,
          0.08621957698194994,
          0.08400319992382636,
          0.084337398493652,
          0.0836062231410091,
          0.08396099522979551,
          0.08315959600323067,
          0.08500557376231466,
          0.08314911731131817,
          0.08577129595889868,
          0.08446818826923354,
          0.08538674889078918,
          0.08380042212752958,
          0.08613345108027523,
          0.08581423610195128,
          0.08399154230106924,
          0.08337069102583478,
          0.0838432964125667,
          0.08347104075085267,
          0.08269471252497,
          0.0809753512769541,
          0.08181440745829605,
          0.0796710912729474,
          0.0796584124941661,
          0.07884705818799162,
          0.07709182176853147,
          0.07574402101412332,
          0.07389570553144947,
          0.0741077648684102,
          0.07526371314186225,
          0.07495217309072695,
          0.07520198676195976,
          0.0735536675097534,
          0.07423358760150518,
          0.0733890475434485,
          0.07313791968955513,
          0.07293488265656672,
          0.07272889151287355,
          0.07313376793251765,
          0.07171623161405391,
          0.06931915193195835,
          0.06773336633112623,
          0.06810152191300313,
          0.06780218286591129,
          0.06734499607222925,
          0.06722199156123933,
          0.06569553351435581,
          0.06765895123699271,
          0.0674359539270769,
          0.06593081131868206,
          0.06492898417146582,
          0.06392362779887342,
          0.06362053606225627,
          0.06279278770921616,
          0.06151133525508063,
          0.0633035384808277,
          0.0609333180615248,
          0.06037087844204491,
          0.05958596954387131,
          0.05820722353664484,
          0.058377943684252934
         ],
         "type": "scatter"
        },
        {
         "mode": "lines",
         "name": "$n^* = 32000$",
         "x": [
          249,
          499,
          749,
          999,
          1249,
          1499,
          1749,
          1999,
          2249,
          2499,
          2749,
          2999,
          3249,
          3499,
          3749,
          3999,
          4249,
          4499,
          4749,
          4999,
          5249,
          5499,
          5749,
          5999,
          6249,
          6499,
          6749,
          6999,
          7249,
          7499,
          7749,
          7999,
          8249,
          8499,
          8749,
          8999,
          9249,
          9499,
          9749,
          9999,
          10249,
          10499,
          10749,
          10999,
          11249,
          11499,
          11749,
          11999,
          12249,
          12499,
          12749,
          12999,
          13249,
          13499,
          13749,
          13999,
          14249,
          14499,
          14749,
          14999,
          15249,
          15499,
          15749,
          15999,
          16249,
          16499,
          16749,
          16999,
          17249,
          17499,
          17749,
          17999,
          18249,
          18499,
          18749,
          18999,
          19249,
          19499,
          19749,
          19999
         ],
         "y": [
          0.12805830847651245,
          0.11322662664944488,
          0.08641584680060257,
          0.08441295584476176,
          0.07689738890785776,
          0.07457422415586135,
          0.07523121605735532,
          0.07165023194809803,
          0.0729162974121699,
          0.07028769728945884,
          0.07254497086922485,
          0.07130803579425478,
          0.07625355357826452,
          0.07505407946411533,
          0.07998623351515655,
          0.0780219314566436,
          0.08345058088902789,
          0.08236415943019264,
          0.08687170799695476,
          0.08395825854265916,
          0.08878127366887124,
          0.08553676912296779,
          0.08460598062604256,
          0.08337518988403282,
          0.08450655467396659,
          0.08322568089621407,
          0.08558606213134574,
          0.08372882106721881,
          0.08408348626009363,
          0.082692773087875,
          0.08151843988324807,
          0.08166154647810506,
          0.08236286387031048,
          0.08051988321726453,
          0.08251844898177772,
          0.08126556488885182,
          0.08135368656242054,
          0.08001957478753607,
          0.08040966552713613,
          0.07975105128543718,
          0.07826408172049747,
          0.07651271884346247,
          0.07786404050551773,
          0.07654771792336869,
          0.07759479618498258,
          0.07739752734672617,
          0.07709263472946921,
          0.07731125057256866,
          0.07756666233142218,
          0.07711559771061209,
          0.0768016944682106,
          0.07598221124657384,
          0.07755245246092039,
          0.0756526169884536,
          0.07664765697382883,
          0.07638189523593594,
          0.07697483455762268,
          0.07682885541606345,
          0.07554792185934882,
          0.07460220930616324,
          0.07416633355835106,
          0.07378816939972985,
          0.07415245920174876,
          0.07354265261104284,
          0.0711246399968066,
          0.07008826789216958,
          0.0703542333810143,
          0.06909268996967745,
          0.06878692443881716,
          0.0680502022079106,
          0.06709590209679799,
          0.06691311547741013,
          0.06570625286691516,
          0.0666073823278399,
          0.0660140404917449,
          0.06624704487216862,
          0.06636491247580069,
          0.06508768895245984,
          0.06392775370032079,
          0.06326905817905713
         ],
         "type": "scatter"
        },
        {
         "mode": "lines",
         "name": "$n^* = 36000$",
         "x": [
          249,
          499,
          749,
          999,
          1249,
          1499,
          1749,
          1999,
          2249,
          2499,
          2749,
          2999,
          3249,
          3499,
          3749,
          3999,
          4249,
          4499,
          4749,
          4999,
          5249,
          5499,
          5749,
          5999,
          6249,
          6499,
          6749,
          6999,
          7249,
          7499,
          7749,
          7999,
          8249,
          8499,
          8749,
          8999,
          9249,
          9499,
          9749,
          9999,
          10249,
          10499,
          10749,
          10999,
          11249,
          11499,
          11749,
          11999,
          12249,
          12499,
          12749,
          12999,
          13249,
          13499,
          13749,
          13999,
          14249,
          14499,
          14749,
          14999,
          15249,
          15499,
          15749,
          15999,
          16249,
          16499,
          16749,
          16999,
          17249,
          17499,
          17749,
          17999,
          18249,
          18499,
          18749,
          18999,
          19249,
          19499,
          19749,
          19999
         ],
         "y": [
          0.12685121557270862,
          0.10698134343708354,
          0.08361493982591003,
          0.07993152787900167,
          0.07465478095058609,
          0.07429630730219125,
          0.069618203144271,
          0.06746767770300194,
          0.0687084639786616,
          0.06581280150783146,
          0.07153060905800539,
          0.06890457709228372,
          0.07735917053924829,
          0.0751675960205035,
          0.08276032430132454,
          0.07981997519919065,
          0.08318423607730338,
          0.0818087189137867,
          0.0833528420584641,
          0.08269537287099021,
          0.08583186789247695,
          0.08389970004592315,
          0.08472201474346092,
          0.08390750729996535,
          0.08512238945520882,
          0.08141118840679593,
          0.08088260911312689,
          0.07929051103624138,
          0.07975015910674951,
          0.07873780082497332,
          0.081798295684251,
          0.08019931621412238,
          0.0818177604599216,
          0.08109234699892308,
          0.07972826749714333,
          0.0788813793597122,
          0.0788960270132328,
          0.07834758143976783,
          0.07791258644202304,
          0.07742685340592707,
          0.07624406438902818,
          0.07664094494454306,
          0.07750277869024519,
          0.07832099340772361,
          0.07764578062663044,
          0.07555035930918634,
          0.07591711794731369,
          0.0761192270957898,
          0.07733888434416278,
          0.0764478613722459,
          0.07588029183150329,
          0.0753225786152041,
          0.0753273974337122,
          0.07402327389342654,
          0.07448748637391714,
          0.07346997496845958,
          0.0741593745994594,
          0.0755122071527928,
          0.07388539709241551,
          0.07360498109630928,
          0.0734751460439,
          0.07325001683778173,
          0.07438642600969728,
          0.0737294978215972,
          0.073474104550168,
          0.07440873925642469,
          0.07322205509166274,
          0.07187959087380753,
          0.07037913001691684,
          0.07057345908620002,
          0.06962274793498259,
          0.0692260617022702,
          0.06890754719270008,
          0.06645507553553814,
          0.06691947762776446,
          0.06591863809889535,
          0.06555628891300709,
          0.06473752828405711,
          0.06483741210458058,
          0.06527904446782737
         ],
         "type": "scatter"
        },
        {
         "mode": "lines",
         "name": "$n^* = 40000$",
         "x": [
          249,
          499,
          749,
          999,
          1249,
          1499,
          1749,
          1999,
          2249,
          2499,
          2749,
          2999,
          3249,
          3499,
          3749,
          3999,
          4249,
          4499,
          4749,
          4999,
          5249,
          5499,
          5749,
          5999,
          6249,
          6499,
          6749,
          6999,
          7249,
          7499,
          7749,
          7999,
          8249,
          8499,
          8749,
          8999,
          9249,
          9499,
          9749,
          9999,
          10249,
          10499,
          10749,
          10999,
          11249,
          11499,
          11749,
          11999,
          12249,
          12499,
          12749,
          12999,
          13249,
          13499,
          13749,
          13999,
          14249,
          14499,
          14749,
          14999,
          15249,
          15499,
          15749,
          15999,
          16249,
          16499,
          16749,
          16999,
          17249,
          17499,
          17749,
          17999,
          18249,
          18499,
          18749,
          18999,
          19249,
          19499,
          19749,
          19999
         ],
         "y": [
          0.12359756217914795,
          0.10910742579645928,
          0.08673358920507097,
          0.0826124405634969,
          0.07933796013516563,
          0.07617409003883216,
          0.07625992400713641,
          0.07373300655556551,
          0.07571508965803835,
          0.07384994565046321,
          0.07929135263738682,
          0.07708935792066364,
          0.08201671610911225,
          0.07963939912185902,
          0.08483044540688724,
          0.0819357395232693,
          0.08570339543377462,
          0.08438016651165667,
          0.08449018012067938,
          0.08305825630155352,
          0.08737819713009713,
          0.08421624877266377,
          0.08415630819939529,
          0.08133634365456445,
          0.08354333554312399,
          0.0819673962967042,
          0.0813857817378007,
          0.07864686907377354,
          0.0807510201547299,
          0.08016028710914636,
          0.08251000349064191,
          0.07864159714409759,
          0.08137303941438628,
          0.08048520284891128,
          0.08177014416195748,
          0.07986512299165113,
          0.08098040960947762,
          0.07941560365175933,
          0.08376851981974524,
          0.08277415223166246,
          0.08173483146383988,
          0.08146775913524391,
          0.08133251577615738,
          0.08093473842818401,
          0.08193253948380955,
          0.079390416583006,
          0.08034222236550564,
          0.08033998833112294,
          0.07877974685626145,
          0.07901583395281628,
          0.07959248391942605,
          0.0774633989221651,
          0.07855113839025551,
          0.07732224831072328,
          0.0789489467868979,
          0.07932083166222202,
          0.07722116253794507,
          0.07693756674364965,
          0.07515658215944017,
          0.075001072043872,
          0.07332758331967595,
          0.07152618112098613,
          0.07001910062933435,
          0.06885966674604081,
          0.0682605489518473,
          0.06830492823257563,
          0.06729179442992046,
          0.06819885580772005,
          0.06730369242529075,
          0.06692788884423236,
          0.06724599612578427,
          0.06685530880441046,
          0.07009246953515896,
          0.06870728570738159,
          0.06750321696003939,
          0.06786307971523112,
          0.07001538421714742,
          0.06988284617100746,
          0.06756336202605966,
          0.06739684037036366
         ],
         "type": "scatter"
        }
       ],
       "layout": {
        "template": {
         "data": {
          "histogram2dcontour": [
           {
            "type": "histogram2dcontour",
            "colorbar": {
             "outlinewidth": 0,
             "ticks": ""
            },
            "colorscale": [
             [
              0.0,
              "#0d0887"
             ],
             [
              0.1111111111111111,
              "#46039f"
             ],
             [
              0.2222222222222222,
              "#7201a8"
             ],
             [
              0.3333333333333333,
              "#9c179e"
             ],
             [
              0.4444444444444444,
              "#bd3786"
             ],
             [
              0.5555555555555556,
              "#d8576b"
             ],
             [
              0.6666666666666666,
              "#ed7953"
             ],
             [
              0.7777777777777778,
              "#fb9f3a"
             ],
             [
              0.8888888888888888,
              "#fdca26"
             ],
             [
              1.0,
              "#f0f921"
             ]
            ]
           }
          ],
          "choropleth": [
           {
            "type": "choropleth",
            "colorbar": {
             "outlinewidth": 0,
             "ticks": ""
            }
           }
          ],
          "histogram2d": [
           {
            "type": "histogram2d",
            "colorbar": {
             "outlinewidth": 0,
             "ticks": ""
            },
            "colorscale": [
             [
              0.0,
              "#0d0887"
             ],
             [
              0.1111111111111111,
              "#46039f"
             ],
             [
              0.2222222222222222,
              "#7201a8"
             ],
             [
              0.3333333333333333,
              "#9c179e"
             ],
             [
              0.4444444444444444,
              "#bd3786"
             ],
             [
              0.5555555555555556,
              "#d8576b"
             ],
             [
              0.6666666666666666,
              "#ed7953"
             ],
             [
              0.7777777777777778,
              "#fb9f3a"
             ],
             [
              0.8888888888888888,
              "#fdca26"
             ],
             [
              1.0,
              "#f0f921"
             ]
            ]
           }
          ],
          "heatmap": [
           {
            "type": "heatmap",
            "colorbar": {
             "outlinewidth": 0,
             "ticks": ""
            },
            "colorscale": [
             [
              0.0,
              "#0d0887"
             ],
             [
              0.1111111111111111,
              "#46039f"
             ],
             [
              0.2222222222222222,
              "#7201a8"
             ],
             [
              0.3333333333333333,
              "#9c179e"
             ],
             [
              0.4444444444444444,
              "#bd3786"
             ],
             [
              0.5555555555555556,
              "#d8576b"
             ],
             [
              0.6666666666666666,
              "#ed7953"
             ],
             [
              0.7777777777777778,
              "#fb9f3a"
             ],
             [
              0.8888888888888888,
              "#fdca26"
             ],
             [
              1.0,
              "#f0f921"
             ]
            ]
           }
          ],
          "heatmapgl": [
           {
            "type": "heatmapgl",
            "colorbar": {
             "outlinewidth": 0,
             "ticks": ""
            },
            "colorscale": [
             [
              0.0,
              "#0d0887"
             ],
             [
              0.1111111111111111,
              "#46039f"
             ],
             [
              0.2222222222222222,
              "#7201a8"
             ],
             [
              0.3333333333333333,
              "#9c179e"
             ],
             [
              0.4444444444444444,
              "#bd3786"
             ],
             [
              0.5555555555555556,
              "#d8576b"
             ],
             [
              0.6666666666666666,
              "#ed7953"
             ],
             [
              0.7777777777777778,
              "#fb9f3a"
             ],
             [
              0.8888888888888888,
              "#fdca26"
             ],
             [
              1.0,
              "#f0f921"
             ]
            ]
           }
          ],
          "contourcarpet": [
           {
            "type": "contourcarpet",
            "colorbar": {
             "outlinewidth": 0,
             "ticks": ""
            }
           }
          ],
          "contour": [
           {
            "type": "contour",
            "colorbar": {
             "outlinewidth": 0,
             "ticks": ""
            },
            "colorscale": [
             [
              0.0,
              "#0d0887"
             ],
             [
              0.1111111111111111,
              "#46039f"
             ],
             [
              0.2222222222222222,
              "#7201a8"
             ],
             [
              0.3333333333333333,
              "#9c179e"
             ],
             [
              0.4444444444444444,
              "#bd3786"
             ],
             [
              0.5555555555555556,
              "#d8576b"
             ],
             [
              0.6666666666666666,
              "#ed7953"
             ],
             [
              0.7777777777777778,
              "#fb9f3a"
             ],
             [
              0.8888888888888888,
              "#fdca26"
             ],
             [
              1.0,
              "#f0f921"
             ]
            ]
           }
          ],
          "surface": [
           {
            "type": "surface",
            "colorbar": {
             "outlinewidth": 0,
             "ticks": ""
            },
            "colorscale": [
             [
              0.0,
              "#0d0887"
             ],
             [
              0.1111111111111111,
              "#46039f"
             ],
             [
              0.2222222222222222,
              "#7201a8"
             ],
             [
              0.3333333333333333,
              "#9c179e"
             ],
             [
              0.4444444444444444,
              "#bd3786"
             ],
             [
              0.5555555555555556,
              "#d8576b"
             ],
             [
              0.6666666666666666,
              "#ed7953"
             ],
             [
              0.7777777777777778,
              "#fb9f3a"
             ],
             [
              0.8888888888888888,
              "#fdca26"
             ],
             [
              1.0,
              "#f0f921"
             ]
            ]
           }
          ],
          "mesh3d": [
           {
            "type": "mesh3d",
            "colorbar": {
             "outlinewidth": 0,
             "ticks": ""
            }
           }
          ],
          "scatter": [
           {
            "fillpattern": {
             "fillmode": "overlay",
             "size": 10,
             "solidity": 0.2
            },
            "type": "scatter"
           }
          ],
          "parcoords": [
           {
            "type": "parcoords",
            "line": {
             "colorbar": {
              "outlinewidth": 0,
              "ticks": ""
             }
            }
           }
          ],
          "scatterpolargl": [
           {
            "type": "scatterpolargl",
            "marker": {
             "colorbar": {
              "outlinewidth": 0,
              "ticks": ""
             }
            }
           }
          ],
          "bar": [
           {
            "error_x": {
             "color": "#2a3f5f"
            },
            "error_y": {
             "color": "#2a3f5f"
            },
            "marker": {
             "line": {
              "color": "#E5ECF6",
              "width": 0.5
             },
             "pattern": {
              "fillmode": "overlay",
              "size": 10,
              "solidity": 0.2
             }
            },
            "type": "bar"
           }
          ],
          "scattergeo": [
           {
            "type": "scattergeo",
            "marker": {
             "colorbar": {
              "outlinewidth": 0,
              "ticks": ""
             }
            }
           }
          ],
          "scatterpolar": [
           {
            "type": "scatterpolar",
            "marker": {
             "colorbar": {
              "outlinewidth": 0,
              "ticks": ""
             }
            }
           }
          ],
          "histogram": [
           {
            "marker": {
             "pattern": {
              "fillmode": "overlay",
              "size": 10,
              "solidity": 0.2
             }
            },
            "type": "histogram"
           }
          ],
          "scattergl": [
           {
            "type": "scattergl",
            "marker": {
             "colorbar": {
              "outlinewidth": 0,
              "ticks": ""
             }
            }
           }
          ],
          "scatter3d": [
           {
            "type": "scatter3d",
            "line": {
             "colorbar": {
              "outlinewidth": 0,
              "ticks": ""
             }
            },
            "marker": {
             "colorbar": {
              "outlinewidth": 0,
              "ticks": ""
             }
            }
           }
          ],
          "scattermapbox": [
           {
            "type": "scattermapbox",
            "marker": {
             "colorbar": {
              "outlinewidth": 0,
              "ticks": ""
             }
            }
           }
          ],
          "scatterternary": [
           {
            "type": "scatterternary",
            "marker": {
             "colorbar": {
              "outlinewidth": 0,
              "ticks": ""
             }
            }
           }
          ],
          "scattercarpet": [
           {
            "type": "scattercarpet",
            "marker": {
             "colorbar": {
              "outlinewidth": 0,
              "ticks": ""
             }
            }
           }
          ],
          "carpet": [
           {
            "aaxis": {
             "endlinecolor": "#2a3f5f",
             "gridcolor": "white",
             "linecolor": "white",
             "minorgridcolor": "white",
             "startlinecolor": "#2a3f5f"
            },
            "baxis": {
             "endlinecolor": "#2a3f5f",
             "gridcolor": "white",
             "linecolor": "white",
             "minorgridcolor": "white",
             "startlinecolor": "#2a3f5f"
            },
            "type": "carpet"
           }
          ],
          "table": [
           {
            "cells": {
             "fill": {
              "color": "#EBF0F8"
             },
             "line": {
              "color": "white"
             }
            },
            "header": {
             "fill": {
              "color": "#C8D4E3"
             },
             "line": {
              "color": "white"
             }
            },
            "type": "table"
           }
          ],
          "barpolar": [
           {
            "marker": {
             "line": {
              "color": "#E5ECF6",
              "width": 0.5
             },
             "pattern": {
              "fillmode": "overlay",
              "size": 10,
              "solidity": 0.2
             }
            },
            "type": "barpolar"
           }
          ],
          "pie": [
           {
            "automargin": true,
            "type": "pie"
           }
          ]
         },
         "layout": {
          "autotypenumbers": "strict",
          "colorway": [
           "#636efa",
           "#EF553B",
           "#00cc96",
           "#ab63fa",
           "#FFA15A",
           "#19d3f3",
           "#FF6692",
           "#B6E880",
           "#FF97FF",
           "#FECB52"
          ],
          "font": {
           "color": "#2a3f5f"
          },
          "hovermode": "closest",
          "hoverlabel": {
           "align": "left"
          },
          "paper_bgcolor": "white",
          "plot_bgcolor": "#E5ECF6",
          "polar": {
           "bgcolor": "#E5ECF6",
           "angularaxis": {
            "gridcolor": "white",
            "linecolor": "white",
            "ticks": ""
           },
           "radialaxis": {
            "gridcolor": "white",
            "linecolor": "white",
            "ticks": ""
           }
          },
          "ternary": {
           "bgcolor": "#E5ECF6",
           "aaxis": {
            "gridcolor": "white",
            "linecolor": "white",
            "ticks": ""
           },
           "baxis": {
            "gridcolor": "white",
            "linecolor": "white",
            "ticks": ""
           },
           "caxis": {
            "gridcolor": "white",
            "linecolor": "white",
            "ticks": ""
           }
          },
          "coloraxis": {
           "colorbar": {
            "outlinewidth": 0,
            "ticks": ""
           }
          },
          "colorscale": {
           "sequential": [
            [
             0.0,
             "#0d0887"
            ],
            [
             0.1111111111111111,
             "#46039f"
            ],
            [
             0.2222222222222222,
             "#7201a8"
            ],
            [
             0.3333333333333333,
             "#9c179e"
            ],
            [
             0.4444444444444444,
             "#bd3786"
            ],
            [
             0.5555555555555556,
             "#d8576b"
            ],
            [
             0.6666666666666666,
             "#ed7953"
            ],
            [
             0.7777777777777778,
             "#fb9f3a"
            ],
            [
             0.8888888888888888,
             "#fdca26"
            ],
            [
             1.0,
             "#f0f921"
            ]
           ],
           "sequentialminus": [
            [
             0.0,
             "#0d0887"
            ],
            [
             0.1111111111111111,
             "#46039f"
            ],
            [
             0.2222222222222222,
             "#7201a8"
            ],
            [
             0.3333333333333333,
             "#9c179e"
            ],
            [
             0.4444444444444444,
             "#bd3786"
            ],
            [
             0.5555555555555556,
             "#d8576b"
            ],
            [
             0.6666666666666666,
             "#ed7953"
            ],
            [
             0.7777777777777778,
             "#fb9f3a"
            ],
            [
             0.8888888888888888,
             "#fdca26"
            ],
            [
             1.0,
             "#f0f921"
            ]
           ],
           "diverging": [
            [
             0,
             "#8e0152"
            ],
            [
             0.1,
             "#c51b7d"
            ],
            [
             0.2,
             "#de77ae"
            ],
            [
             0.3,
             "#f1b6da"
            ],
            [
             0.4,
             "#fde0ef"
            ],
            [
             0.5,
             "#f7f7f7"
            ],
            [
             0.6,
             "#e6f5d0"
            ],
            [
             0.7,
             "#b8e186"
            ],
            [
             0.8,
             "#7fbc41"
            ],
            [
             0.9,
             "#4d9221"
            ],
            [
             1,
             "#276419"
            ]
           ]
          },
          "xaxis": {
           "gridcolor": "white",
           "linecolor": "white",
           "ticks": "",
           "title": {
            "standoff": 15
           },
           "zerolinecolor": "white",
           "automargin": true,
           "zerolinewidth": 2
          },
          "yaxis": {
           "gridcolor": "white",
           "linecolor": "white",
           "ticks": "",
           "title": {
            "standoff": 15
           },
           "zerolinecolor": "white",
           "automargin": true,
           "zerolinewidth": 2
          },
          "scene": {
           "xaxis": {
            "backgroundcolor": "#E5ECF6",
            "gridcolor": "white",
            "linecolor": "white",
            "showbackground": true,
            "ticks": "",
            "zerolinecolor": "white",
            "gridwidth": 2
           },
           "yaxis": {
            "backgroundcolor": "#E5ECF6",
            "gridcolor": "white",
            "linecolor": "white",
            "showbackground": true,
            "ticks": "",
            "zerolinecolor": "white",
            "gridwidth": 2
           },
           "zaxis": {
            "backgroundcolor": "#E5ECF6",
            "gridcolor": "white",
            "linecolor": "white",
            "showbackground": true,
            "ticks": "",
            "zerolinecolor": "white",
            "gridwidth": 2
           }
          },
          "shapedefaults": {
           "line": {
            "color": "#2a3f5f"
           }
          },
          "annotationdefaults": {
           "arrowcolor": "#2a3f5f",
           "arrowhead": 0,
           "arrowwidth": 1
          },
          "geo": {
           "bgcolor": "white",
           "landcolor": "#E5ECF6",
           "subunitcolor": "white",
           "showland": true,
           "showlakes": true,
           "lakecolor": "white"
          },
          "title": {
           "x": 0.05
          },
          "mapbox": {
           "style": "light"
          }
         }
        },
        "title": {
         "text": "$\\text{Average loss for every 250 games - }\\epsilon_{opt}=0.5$"
        },
        "xaxis": {
         "title": {
          "text": "$game$"
         }
        },
        "yaxis": {
         "title": {
          "text": "$average(loss)\\text{- 250 games}$"
         }
        },
        "width": 1200,
        "height": 400
       },
       "config": {
        "plotlyServerURL": "https://plot.ly"
       }
      },
      "text/html": "<div>                            <div id=\"cd292622-4111-46dd-8b60-9a5366e498ce\" class=\"plotly-graph-div\" style=\"height:400px; width:1200px;\"></div>            <script type=\"text/javascript\">                require([\"plotly\"], function(Plotly) {                    window.PLOTLYENV=window.PLOTLYENV || {};                                    if (document.getElementById(\"cd292622-4111-46dd-8b60-9a5366e498ce\")) {                    Plotly.newPlot(                        \"cd292622-4111-46dd-8b60-9a5366e498ce\",                        [{\"mode\":\"lines\",\"name\":\"$n^* = 1$\",\"x\":[249,499,749,999,1249,1499,1749,1999,2249,2499,2749,2999,3249,3499,3749,3999,4249,4499,4749,4999,5249,5499,5749,5999,6249,6499,6749,6999,7249,7499,7749,7999,8249,8499,8749,8999,9249,9499,9749,9999,10249,10499,10749,10999,11249,11499,11749,11999,12249,12499,12749,12999,13249,13499,13749,13999,14249,14499,14749,14999,15249,15499,15749,15999,16249,16499,16749,16999,17249,17499,17749,17999,18249,18499,18749,18999,19249,19499,19749,19999],\"y\":[0.1351475776870272,0.0847889156041745,0.04877059092239253,0.03921889297198504,0.060428773113246265,0.061456234722814564,0.08049738599277295,0.07900643863317283,0.08143493391416477,0.08344279039853712,0.07963141172486185,0.07806546368092471,0.07548557951564103,0.07368902632090221,0.07436971543155924,0.07133575558720884,0.06987096707566548,0.06748652199420753,0.07135775802994729,0.06998934924976664,0.06869256042050698,0.06528679806644207,0.06295806023408018,0.06158642460718057,0.06502696119455828,0.06376344033573143,0.061857706903287304,0.06124604170410966,0.06037200766850613,0.05842087797073073,0.061427759788569514,0.059805505346069786,0.0596187926521702,0.05833471273415291,0.058759806818276084,0.057885380814647884,0.05882751338297382,0.05664748811411642,0.05904545222498206,0.05835976056553222,0.057902172097544134,0.058170626631148595,0.05711161437155638,0.058817225167112505,0.06053343401028869,0.06028391697314555,0.059094051369471066,0.05798717439883834,0.05827564539795596,0.058004471171178566,0.059198790336033806,0.058950156898575676,0.05956138422642473,0.05741020223387845,0.05678422606123855,0.05395821293456371,0.05370405449893305,0.053537741884871606,0.05379051804666032,0.053122582687240724,0.051872450270371885,0.0513648840943168,0.051461289981136416,0.05246254262574074,0.0525986706598064,0.054176634057853085,0.052961506393274974,0.05145625286691245,0.050832525428456427,0.052252645204585474,0.05078297616612422,0.050212556112296226,0.049845721477273376,0.049194453994970064,0.048502144020622966,0.04810886856180643,0.04923044047569416,0.04829268060908046,0.04895292414390475,0.04872528634414144],\"type\":\"scatter\"},{\"mode\":\"lines\",\"name\":\"$n^* = 4000$\",\"x\":[249,499,749,999,1249,1499,1749,1999,2249,2499,2749,2999,3249,3499,3749,3999,4249,4499,4749,4999,5249,5499,5749,5999,6249,6499,6749,6999,7249,7499,7749,7999,8249,8499,8749,8999,9249,9499,9749,9999,10249,10499,10749,10999,11249,11499,11749,11999,12249,12499,12749,12999,13249,13499,13749,13999,14249,14499,14749,14999,15249,15499,15749,15999,16249,16499,16749,16999,17249,17499,17749,17999,18249,18499,18749,18999,19249,19499,19749,19999],\"y\":[0.12046102433383059,0.1047550548860817,0.08051096779799091,0.0771416801536242,0.07397624488176655,0.06986246013702078,0.07164405039908373,0.06899941448514621,0.07759812912046571,0.07565550983377865,0.08133781359504723,0.07877034214812689,0.08383609539927118,0.08183032772881077,0.08518287221428648,0.08051819065438572,0.0803207024973071,0.07707753109071135,0.07511764263483889,0.07061632749628582,0.07105648764189329,0.06712567531488267,0.06559491705751315,0.062325998425272915,0.061609191470271114,0.06010920047058028,0.05754196510292638,0.05671486718266018,0.05569669339599322,0.054066278572882646,0.05214766727082199,0.05169671421051668,0.05061648208546182,0.0488548003610733,0.04960052047895761,0.048017786384669976,0.048454651265783945,0.04797967211414056,0.04751036986668016,0.04668584937155568,0.04627286124105115,0.0469615568270393,0.04668442722130263,0.04694604616434801,0.048173622504975686,0.048936987954113144,0.04792361813864321,0.04692592975471664,0.045769578387078486,0.04537540418220395,0.044783713603779446,0.04420992003700796,0.04454976075602443,0.04448559148212708,0.04324070923233279,0.04287856007930233,0.043149553751926126,0.04375643852158803,0.04276580334840537,0.04286258555868275,0.044120865053991244,0.04364351536956345,0.04356052634393882,0.0428113848776158,0.04150600888762281,0.04168575991433664,0.042587135204458317,0.043014865266001324,0.042083183411440184,0.04231046410336555,0.041276812357122626,0.040721981148448744,0.04119919309446706,0.04154912915631204,0.041061916089040466,0.041757258703000844,0.04158681817352772,0.04117931771375563,0.039908561348834984,0.03983491704442558],\"type\":\"scatter\"},{\"mode\":\"lines\",\"name\":\"$n^* = 8000$\",\"x\":[249,499,749,999,1249,1499,1749,1999,2249,2499,2749,2999,3249,3499,3749,3999,4249,4499,4749,4999,5249,5499,5749,5999,6249,6499,6749,6999,7249,7499,7749,7999,8249,8499,8749,8999,9249,9499,9749,9999,10249,10499,10749,10999,11249,11499,11749,11999,12249,12499,12749,12999,13249,13499,13749,13999,14249,14499,14749,14999,15249,15499,15749,15999,16249,16499,16749,16999,17249,17499,17749,17999,18249,18499,18749,18999,19249,19499,19749,19999],\"y\":[0.12784538905783352,0.10678352472667922,0.08265822497252064,0.078604181674987,0.07081195132865581,0.06776211643697838,0.06963952757835945,0.06716476116968682,0.06960120619814321,0.06727260233631267,0.0741039918359637,0.0733420631638674,0.08061880753289356,0.0787508212029934,0.08572277999551144,0.08330781123712054,0.08861065267501335,0.08816643489750627,0.08958864479579709,0.08626014970052823,0.08972485137010121,0.08555892738888318,0.08995123467541467,0.08682811851131506,0.08502422955987805,0.08207799675138065,0.08303490037077599,0.07870664900950292,0.07825402137936477,0.07403191948462352,0.07604871722523301,0.07207072860818373,0.07015617340887144,0.06859996542334557,0.06858358773323454,0.06725663697632316,0.06523810624437673,0.06590157127718423,0.06534105878149765,0.06439097340556277,0.0653226153049248,0.06331670037974453,0.06090742513143977,0.059668728803166524,0.059416748894755865,0.056748566800548184,0.05522831081173596,0.05415092974282327,0.05218506873999768,0.05156993566642162,0.05002778834125526,0.05077280526359876,0.0511525114772029,0.05025134080502525,0.0491696710170524,0.0492554655510026,0.04821808162758003,0.04799712206786569,0.04793722522291508,0.04765471181686672,0.047015943072943225,0.0466446353271522,0.04575336758719116,0.04583642668619349,0.04515411120976465,0.04470203106123183,0.045107860152531785,0.045115113637376664,0.04542046904123278,0.04612835583280054,0.04572830701959223,0.044658085441851354,0.04565630795709395,0.04608901771665602,0.044698026287471104,0.044194056369487755,0.044201301598471396,0.04499003009695388,0.04461947528777178,0.044603729412267056],\"type\":\"scatter\"},{\"mode\":\"lines\",\"name\":\"$n^* = 12000$\",\"x\":[249,499,749,999,1249,1499,1749,1999,2249,2499,2749,2999,3249,3499,3749,3999,4249,4499,4749,4999,5249,5499,5749,5999,6249,6499,6749,6999,7249,7499,7749,7999,8249,8499,8749,8999,9249,9499,9749,9999,10249,10499,10749,10999,11249,11499,11749,11999,12249,12499,12749,12999,13249,13499,13749,13999,14249,14499,14749,14999,15249,15499,15749,15999,16249,16499,16749,16999,17249,17499,17749,17999,18249,18499,18749,18999,19249,19499,19749,19999],\"y\":[0.10900228601465767,0.10099697969585228,0.07762157503590252,0.07576285071078852,0.07110571626219012,0.07096894080209178,0.07180524494049513,0.06947120291118533,0.07313741233519146,0.07055105318527327,0.07734313289892437,0.07459192655111493,0.08179586996035329,0.07956735304149941,0.08591580962936993,0.08244747504965745,0.08609091792138177,0.08238788473354725,0.0842152370902516,0.08146231652336731,0.08371808102132859,0.07910181004266208,0.08011224740641777,0.0772245225084698,0.07952450458524805,0.07660515876079248,0.07668155631779329,0.07382444545227947,0.07597188173592222,0.07325434215326126,0.07226959724668496,0.07137273028409959,0.07090850850254034,0.06931876048545375,0.06857115351559669,0.06624376359238945,0.06407849597312062,0.06250132833931434,0.06119277894003923,0.058237198560567534,0.05746034829312223,0.054991817851362985,0.0526241771218704,0.05005277907108202,0.04803548768783609,0.04571981434945911,0.046183458011339364,0.04480009929124099,0.044684140527416594,0.04404448081676762,0.04314292019791301,0.04280756375778942,0.042263727671196384,0.042558906581795335,0.04253965577771587,0.04236370811062167,0.04251004108472874,0.04094523767114429,0.04105196877576178,0.04027558220640449,0.03996131745512534,0.040761134759180064,0.04047835629405018,0.040959618115823423,0.04063395828925033,0.039998058245690374,0.039939414499475176,0.03899698173326831,0.03952316035470251,0.03892249354215632,0.03872030112010711,0.038509746967874306,0.03942300417130032,0.03979981084985118,0.040359266186979686,0.040131117364345964,0.04037167995898838,0.04035495364510898,0.04031744730633658,0.04049700683122653],\"type\":\"scatter\"},{\"mode\":\"lines\",\"name\":\"$n^* = 16000$\",\"x\":[249,499,749,999,1249,1499,1749,1999,2249,2499,2749,2999,3249,3499,3749,3999,4249,4499,4749,4999,5249,5499,5749,5999,6249,6499,6749,6999,7249,7499,7749,7999,8249,8499,8749,8999,9249,9499,9749,9999,10249,10499,10749,10999,11249,11499,11749,11999,12249,12499,12749,12999,13249,13499,13749,13999,14249,14499,14749,14999,15249,15499,15749,15999,16249,16499,16749,16999,17249,17499,17749,17999,18249,18499,18749,18999,19249,19499,19749,19999],\"y\":[0.12675438950268123,0.1059544028527359,0.07788133401744762,0.07704661940092677,0.07196459592757713,0.06974735131087643,0.07161219268437084,0.06901402922999327,0.07112027712651259,0.06953089267032644,0.07410610411620085,0.07171751331803752,0.07985635663187782,0.07770248891049346,0.08531820980945505,0.08141024162928175,0.08570296348383029,0.08185297525709584,0.08589011137157876,0.08170894400737053,0.0854042142637911,0.08103133079647604,0.08577173351984303,0.08371400833129883,0.08537468014078008,0.0840011413669639,0.08369861372127702,0.08404060121148926,0.0842087510374935,0.08176966687197695,0.08260224989017113,0.08131506455945654,0.07999250677494472,0.0771792673543599,0.07740569167873694,0.07553979863919187,0.07505425951454077,0.07234806325491314,0.06988700405904448,0.0682383886949029,0.06852304165370533,0.06575373620937375,0.06454418119938654,0.06328593697500685,0.06165941536981461,0.06106313398297139,0.06129245719828744,0.05886834124103189,0.05813462763196892,0.0569036223879185,0.05534799690099358,0.05445561973868881,0.05148603562042685,0.050226502465134,0.049112554872907076,0.046661398914731665,0.04563325034737911,0.04470342945868289,0.043493939435173726,0.044266798825043696,0.04394471787640618,0.043344327672879636,0.04316607801298387,0.04427708624257841,0.04330093603891967,0.0431588310892093,0.042334303522165294,0.04289353000663364,0.043001501268069994,0.04253292176771917,0.04149042694117451,0.040198970811528886,0.039869701631399114,0.038611720728684906,0.04013342539309173,0.04045168411092866,0.040249277953989804,0.04105152221697785,0.04098833970926903,0.04113722896392651],\"type\":\"scatter\"},{\"mode\":\"lines\",\"name\":\"$n^* = 20000$\",\"x\":[249,499,749,999,1249,1499,1749,1999,2249,2499,2749,2999,3249,3499,3749,3999,4249,4499,4749,4999,5249,5499,5749,5999,6249,6499,6749,6999,7249,7499,7749,7999,8249,8499,8749,8999,9249,9499,9749,9999,10249,10499,10749,10999,11249,11499,11749,11999,12249,12499,12749,12999,13249,13499,13749,13999,14249,14499,14749,14999,15249,15499,15749,15999,16249,16499,16749,16999,17249,17499,17749,17999,18249,18499,18749,18999,19249,19499,19749,19999],\"y\":[0.12968138851689776,0.11312270014305524,0.09149889154671624,0.08846960658339668,0.07888022580344096,0.07411987669092704,0.07394754436776735,0.07125409292837714,0.07473953351141646,0.07178288287503755,0.07566680186758462,0.0739694647447961,0.07961956188508443,0.0785513449005757,0.08442226312198173,0.0817782490537147,0.08558996581805373,0.08387645969844677,0.08716536506716036,0.08353337451548619,0.08938898691399531,0.08542050016658932,0.08807640988064726,0.08773537623764431,0.08784058368168898,0.08517498558253356,0.08557115543191716,0.08440218124526283,0.08388047303011585,0.08329392071599633,0.0823195380052914,0.08054219136466514,0.08025771616111425,0.07779037183087863,0.07872478950719368,0.07663535871373939,0.07611646911139647,0.07438801007642262,0.0755135935924209,0.07347839277746027,0.0726652826818594,0.07017744462286411,0.07059359662776492,0.06953112661480643,0.06900018849663744,0.06819823581770242,0.06793001168878735,0.06785286620343473,0.0678332728337929,0.06614638658398567,0.06555817689907868,0.06592173658659835,0.06512890837904883,0.06535519764127948,0.06548711761160005,0.06330387928898226,0.06345434977484295,0.06209813197118205,0.060191909625138366,0.05928190982831536,0.05814721836107989,0.057461353553111084,0.05604934011041467,0.05463850980958465,0.05239214395630386,0.05155960902224037,0.050958731801593604,0.05034966056527042,0.04952193065556298,0.0483355092840693,0.04738803222522092,0.045430592354985325,0.045811199464801854,0.045337954114695066,0.04415221359641826,0.04339230284501946,0.04290382930306892,0.0430209435494726,0.04262666869908571,0.04063392687408674],\"type\":\"scatter\"},{\"mode\":\"lines\",\"name\":\"$n^* = 24000$\",\"x\":[249,499,749,999,1249,1499,1749,1999,2249,2499,2749,2999,3249,3499,3749,3999,4249,4499,4749,4999,5249,5499,5749,5999,6249,6499,6749,6999,7249,7499,7749,7999,8249,8499,8749,8999,9249,9499,9749,9999,10249,10499,10749,10999,11249,11499,11749,11999,12249,12499,12749,12999,13249,13499,13749,13999,14249,14499,14749,14999,15249,15499,15749,15999,16249,16499,16749,16999,17249,17499,17749,17999,18249,18499,18749,18999,19249,19499,19749,19999],\"y\":[0.12157219659391676,0.10285817368212574,0.07777354862916169,0.07589871635785583,0.0722419606021571,0.06947399304412744,0.07094068862845558,0.06812952268977189,0.07354864876850528,0.06957731087776747,0.07632466000520867,0.07447164611408327,0.08055102453061026,0.07779187086092328,0.08573615450299671,0.08346699244968923,0.08650337331339546,0.08458428334338325,0.08779621590141012,0.08535062010201176,0.08918558113981744,0.08705821736981083,0.088970833540719,0.08713601089529735,0.08974145238905429,0.08787876588311341,0.0883260799297196,0.08862462031888106,0.08911113697602892,0.08744257487052558,0.0837060457779526,0.08287423497156199,0.08298443249594153,0.08050061008238871,0.08049270369297078,0.07928937624350767,0.08014339532382225,0.07750565749249096,0.07826733880158927,0.0771075952756736,0.07613932188311812,0.07681194604093196,0.07762311223724082,0.07663977504174356,0.07515645298223435,0.0749667624293345,0.07593902206098711,0.07667209593771433,0.07720389639964872,0.07636826896900516,0.07656525387825452,0.07556156725094125,0.07534290388550448,0.0752521380107103,0.07652925236805065,0.0754533301906747,0.07323910532431109,0.07213364445644167,0.0730555735131213,0.07150156524535772,0.06935790049923436,0.06754948261083775,0.06525498782984838,0.06408094200371656,0.06378958841773454,0.06255252899188135,0.06189526751645575,0.061966773516846596,0.06093140279528665,0.05971084320530524,0.05775360962554943,0.055602308783647664,0.053937701962072836,0.05397471367363252,0.0534257671634302,0.052248374333830325,0.04967850951764446,0.047931597398306686,0.047073446055290895,0.045797775539218405],\"type\":\"scatter\"},{\"mode\":\"lines\",\"name\":\"$n^* = 28000$\",\"x\":[249,499,749,999,1249,1499,1749,1999,2249,2499,2749,2999,3249,3499,3749,3999,4249,4499,4749,4999,5249,5499,5749,5999,6249,6499,6749,6999,7249,7499,7749,7999,8249,8499,8749,8999,9249,9499,9749,9999,10249,10499,10749,10999,11249,11499,11749,11999,12249,12499,12749,12999,13249,13499,13749,13999,14249,14499,14749,14999,15249,15499,15749,15999,16249,16499,16749,16999,17249,17499,17749,17999,18249,18499,18749,18999,19249,19499,19749,19999],\"y\":[0.1214109988449371,0.10287998064433505,0.07738504460802624,0.07625499386232712,0.07303015894420375,0.07061362604928266,0.07241429800542841,0.07165757695059005,0.07576514609814936,0.07352497057427627,0.07794009539593796,0.07451396110021916,0.0806640499868678,0.08069912751521502,0.08433604638070562,0.08194528726972468,0.08647468195434797,0.08236374625714,0.08559015320380346,0.08355723466545954,0.08621957698194994,0.08400319992382636,0.084337398493652,0.0836062231410091,0.08396099522979551,0.08315959600323067,0.08500557376231466,0.08314911731131817,0.08577129595889868,0.08446818826923354,0.08538674889078918,0.08380042212752958,0.08613345108027523,0.08581423610195128,0.08399154230106924,0.08337069102583478,0.0838432964125667,0.08347104075085267,0.08269471252497,0.0809753512769541,0.08181440745829605,0.0796710912729474,0.0796584124941661,0.07884705818799162,0.07709182176853147,0.07574402101412332,0.07389570553144947,0.0741077648684102,0.07526371314186225,0.07495217309072695,0.07520198676195976,0.0735536675097534,0.07423358760150518,0.0733890475434485,0.07313791968955513,0.07293488265656672,0.07272889151287355,0.07313376793251765,0.07171623161405391,0.06931915193195835,0.06773336633112623,0.06810152191300313,0.06780218286591129,0.06734499607222925,0.06722199156123933,0.06569553351435581,0.06765895123699271,0.0674359539270769,0.06593081131868206,0.06492898417146582,0.06392362779887342,0.06362053606225627,0.06279278770921616,0.06151133525508063,0.0633035384808277,0.0609333180615248,0.06037087844204491,0.05958596954387131,0.05820722353664484,0.058377943684252934],\"type\":\"scatter\"},{\"mode\":\"lines\",\"name\":\"$n^* = 32000$\",\"x\":[249,499,749,999,1249,1499,1749,1999,2249,2499,2749,2999,3249,3499,3749,3999,4249,4499,4749,4999,5249,5499,5749,5999,6249,6499,6749,6999,7249,7499,7749,7999,8249,8499,8749,8999,9249,9499,9749,9999,10249,10499,10749,10999,11249,11499,11749,11999,12249,12499,12749,12999,13249,13499,13749,13999,14249,14499,14749,14999,15249,15499,15749,15999,16249,16499,16749,16999,17249,17499,17749,17999,18249,18499,18749,18999,19249,19499,19749,19999],\"y\":[0.12805830847651245,0.11322662664944488,0.08641584680060257,0.08441295584476176,0.07689738890785776,0.07457422415586135,0.07523121605735532,0.07165023194809803,0.0729162974121699,0.07028769728945884,0.07254497086922485,0.07130803579425478,0.07625355357826452,0.07505407946411533,0.07998623351515655,0.0780219314566436,0.08345058088902789,0.08236415943019264,0.08687170799695476,0.08395825854265916,0.08878127366887124,0.08553676912296779,0.08460598062604256,0.08337518988403282,0.08450655467396659,0.08322568089621407,0.08558606213134574,0.08372882106721881,0.08408348626009363,0.082692773087875,0.08151843988324807,0.08166154647810506,0.08236286387031048,0.08051988321726453,0.08251844898177772,0.08126556488885182,0.08135368656242054,0.08001957478753607,0.08040966552713613,0.07975105128543718,0.07826408172049747,0.07651271884346247,0.07786404050551773,0.07654771792336869,0.07759479618498258,0.07739752734672617,0.07709263472946921,0.07731125057256866,0.07756666233142218,0.07711559771061209,0.0768016944682106,0.07598221124657384,0.07755245246092039,0.0756526169884536,0.07664765697382883,0.07638189523593594,0.07697483455762268,0.07682885541606345,0.07554792185934882,0.07460220930616324,0.07416633355835106,0.07378816939972985,0.07415245920174876,0.07354265261104284,0.0711246399968066,0.07008826789216958,0.0703542333810143,0.06909268996967745,0.06878692443881716,0.0680502022079106,0.06709590209679799,0.06691311547741013,0.06570625286691516,0.0666073823278399,0.0660140404917449,0.06624704487216862,0.06636491247580069,0.06508768895245984,0.06392775370032079,0.06326905817905713],\"type\":\"scatter\"},{\"mode\":\"lines\",\"name\":\"$n^* = 36000$\",\"x\":[249,499,749,999,1249,1499,1749,1999,2249,2499,2749,2999,3249,3499,3749,3999,4249,4499,4749,4999,5249,5499,5749,5999,6249,6499,6749,6999,7249,7499,7749,7999,8249,8499,8749,8999,9249,9499,9749,9999,10249,10499,10749,10999,11249,11499,11749,11999,12249,12499,12749,12999,13249,13499,13749,13999,14249,14499,14749,14999,15249,15499,15749,15999,16249,16499,16749,16999,17249,17499,17749,17999,18249,18499,18749,18999,19249,19499,19749,19999],\"y\":[0.12685121557270862,0.10698134343708354,0.08361493982591003,0.07993152787900167,0.07465478095058609,0.07429630730219125,0.069618203144271,0.06746767770300194,0.0687084639786616,0.06581280150783146,0.07153060905800539,0.06890457709228372,0.07735917053924829,0.0751675960205035,0.08276032430132454,0.07981997519919065,0.08318423607730338,0.0818087189137867,0.0833528420584641,0.08269537287099021,0.08583186789247695,0.08389970004592315,0.08472201474346092,0.08390750729996535,0.08512238945520882,0.08141118840679593,0.08088260911312689,0.07929051103624138,0.07975015910674951,0.07873780082497332,0.081798295684251,0.08019931621412238,0.0818177604599216,0.08109234699892308,0.07972826749714333,0.0788813793597122,0.0788960270132328,0.07834758143976783,0.07791258644202304,0.07742685340592707,0.07624406438902818,0.07664094494454306,0.07750277869024519,0.07832099340772361,0.07764578062663044,0.07555035930918634,0.07591711794731369,0.0761192270957898,0.07733888434416278,0.0764478613722459,0.07588029183150329,0.0753225786152041,0.0753273974337122,0.07402327389342654,0.07448748637391714,0.07346997496845958,0.0741593745994594,0.0755122071527928,0.07388539709241551,0.07360498109630928,0.0734751460439,0.07325001683778173,0.07438642600969728,0.0737294978215972,0.073474104550168,0.07440873925642469,0.07322205509166274,0.07187959087380753,0.07037913001691684,0.07057345908620002,0.06962274793498259,0.0692260617022702,0.06890754719270008,0.06645507553553814,0.06691947762776446,0.06591863809889535,0.06555628891300709,0.06473752828405711,0.06483741210458058,0.06527904446782737],\"type\":\"scatter\"},{\"mode\":\"lines\",\"name\":\"$n^* = 40000$\",\"x\":[249,499,749,999,1249,1499,1749,1999,2249,2499,2749,2999,3249,3499,3749,3999,4249,4499,4749,4999,5249,5499,5749,5999,6249,6499,6749,6999,7249,7499,7749,7999,8249,8499,8749,8999,9249,9499,9749,9999,10249,10499,10749,10999,11249,11499,11749,11999,12249,12499,12749,12999,13249,13499,13749,13999,14249,14499,14749,14999,15249,15499,15749,15999,16249,16499,16749,16999,17249,17499,17749,17999,18249,18499,18749,18999,19249,19499,19749,19999],\"y\":[0.12359756217914795,0.10910742579645928,0.08673358920507097,0.0826124405634969,0.07933796013516563,0.07617409003883216,0.07625992400713641,0.07373300655556551,0.07571508965803835,0.07384994565046321,0.07929135263738682,0.07708935792066364,0.08201671610911225,0.07963939912185902,0.08483044540688724,0.0819357395232693,0.08570339543377462,0.08438016651165667,0.08449018012067938,0.08305825630155352,0.08737819713009713,0.08421624877266377,0.08415630819939529,0.08133634365456445,0.08354333554312399,0.0819673962967042,0.0813857817378007,0.07864686907377354,0.0807510201547299,0.08016028710914636,0.08251000349064191,0.07864159714409759,0.08137303941438628,0.08048520284891128,0.08177014416195748,0.07986512299165113,0.08098040960947762,0.07941560365175933,0.08376851981974524,0.08277415223166246,0.08173483146383988,0.08146775913524391,0.08133251577615738,0.08093473842818401,0.08193253948380955,0.079390416583006,0.08034222236550564,0.08033998833112294,0.07877974685626145,0.07901583395281628,0.07959248391942605,0.0774633989221651,0.07855113839025551,0.07732224831072328,0.0789489467868979,0.07932083166222202,0.07722116253794507,0.07693756674364965,0.07515658215944017,0.075001072043872,0.07332758331967595,0.07152618112098613,0.07001910062933435,0.06885966674604081,0.0682605489518473,0.06830492823257563,0.06729179442992046,0.06819885580772005,0.06730369242529075,0.06692788884423236,0.06724599612578427,0.06685530880441046,0.07009246953515896,0.06870728570738159,0.06750321696003939,0.06786307971523112,0.07001538421714742,0.06988284617100746,0.06756336202605966,0.06739684037036366],\"type\":\"scatter\"}],                        {\"template\":{\"data\":{\"histogram2dcontour\":[{\"type\":\"histogram2dcontour\",\"colorbar\":{\"outlinewidth\":0,\"ticks\":\"\"},\"colorscale\":[[0.0,\"#0d0887\"],[0.1111111111111111,\"#46039f\"],[0.2222222222222222,\"#7201a8\"],[0.3333333333333333,\"#9c179e\"],[0.4444444444444444,\"#bd3786\"],[0.5555555555555556,\"#d8576b\"],[0.6666666666666666,\"#ed7953\"],[0.7777777777777778,\"#fb9f3a\"],[0.8888888888888888,\"#fdca26\"],[1.0,\"#f0f921\"]]}],\"choropleth\":[{\"type\":\"choropleth\",\"colorbar\":{\"outlinewidth\":0,\"ticks\":\"\"}}],\"histogram2d\":[{\"type\":\"histogram2d\",\"colorbar\":{\"outlinewidth\":0,\"ticks\":\"\"},\"colorscale\":[[0.0,\"#0d0887\"],[0.1111111111111111,\"#46039f\"],[0.2222222222222222,\"#7201a8\"],[0.3333333333333333,\"#9c179e\"],[0.4444444444444444,\"#bd3786\"],[0.5555555555555556,\"#d8576b\"],[0.6666666666666666,\"#ed7953\"],[0.7777777777777778,\"#fb9f3a\"],[0.8888888888888888,\"#fdca26\"],[1.0,\"#f0f921\"]]}],\"heatmap\":[{\"type\":\"heatmap\",\"colorbar\":{\"outlinewidth\":0,\"ticks\":\"\"},\"colorscale\":[[0.0,\"#0d0887\"],[0.1111111111111111,\"#46039f\"],[0.2222222222222222,\"#7201a8\"],[0.3333333333333333,\"#9c179e\"],[0.4444444444444444,\"#bd3786\"],[0.5555555555555556,\"#d8576b\"],[0.6666666666666666,\"#ed7953\"],[0.7777777777777778,\"#fb9f3a\"],[0.8888888888888888,\"#fdca26\"],[1.0,\"#f0f921\"]]}],\"heatmapgl\":[{\"type\":\"heatmapgl\",\"colorbar\":{\"outlinewidth\":0,\"ticks\":\"\"},\"colorscale\":[[0.0,\"#0d0887\"],[0.1111111111111111,\"#46039f\"],[0.2222222222222222,\"#7201a8\"],[0.3333333333333333,\"#9c179e\"],[0.4444444444444444,\"#bd3786\"],[0.5555555555555556,\"#d8576b\"],[0.6666666666666666,\"#ed7953\"],[0.7777777777777778,\"#fb9f3a\"],[0.8888888888888888,\"#fdca26\"],[1.0,\"#f0f921\"]]}],\"contourcarpet\":[{\"type\":\"contourcarpet\",\"colorbar\":{\"outlinewidth\":0,\"ticks\":\"\"}}],\"contour\":[{\"type\":\"contour\",\"colorbar\":{\"outlinewidth\":0,\"ticks\":\"\"},\"colorscale\":[[0.0,\"#0d0887\"],[0.1111111111111111,\"#46039f\"],[0.2222222222222222,\"#7201a8\"],[0.3333333333333333,\"#9c179e\"],[0.4444444444444444,\"#bd3786\"],[0.5555555555555556,\"#d8576b\"],[0.6666666666666666,\"#ed7953\"],[0.7777777777777778,\"#fb9f3a\"],[0.8888888888888888,\"#fdca26\"],[1.0,\"#f0f921\"]]}],\"surface\":[{\"type\":\"surface\",\"colorbar\":{\"outlinewidth\":0,\"ticks\":\"\"},\"colorscale\":[[0.0,\"#0d0887\"],[0.1111111111111111,\"#46039f\"],[0.2222222222222222,\"#7201a8\"],[0.3333333333333333,\"#9c179e\"],[0.4444444444444444,\"#bd3786\"],[0.5555555555555556,\"#d8576b\"],[0.6666666666666666,\"#ed7953\"],[0.7777777777777778,\"#fb9f3a\"],[0.8888888888888888,\"#fdca26\"],[1.0,\"#f0f921\"]]}],\"mesh3d\":[{\"type\":\"mesh3d\",\"colorbar\":{\"outlinewidth\":0,\"ticks\":\"\"}}],\"scatter\":[{\"fillpattern\":{\"fillmode\":\"overlay\",\"size\":10,\"solidity\":0.2},\"type\":\"scatter\"}],\"parcoords\":[{\"type\":\"parcoords\",\"line\":{\"colorbar\":{\"outlinewidth\":0,\"ticks\":\"\"}}}],\"scatterpolargl\":[{\"type\":\"scatterpolargl\",\"marker\":{\"colorbar\":{\"outlinewidth\":0,\"ticks\":\"\"}}}],\"bar\":[{\"error_x\":{\"color\":\"#2a3f5f\"},\"error_y\":{\"color\":\"#2a3f5f\"},\"marker\":{\"line\":{\"color\":\"#E5ECF6\",\"width\":0.5},\"pattern\":{\"fillmode\":\"overlay\",\"size\":10,\"solidity\":0.2}},\"type\":\"bar\"}],\"scattergeo\":[{\"type\":\"scattergeo\",\"marker\":{\"colorbar\":{\"outlinewidth\":0,\"ticks\":\"\"}}}],\"scatterpolar\":[{\"type\":\"scatterpolar\",\"marker\":{\"colorbar\":{\"outlinewidth\":0,\"ticks\":\"\"}}}],\"histogram\":[{\"marker\":{\"pattern\":{\"fillmode\":\"overlay\",\"size\":10,\"solidity\":0.2}},\"type\":\"histogram\"}],\"scattergl\":[{\"type\":\"scattergl\",\"marker\":{\"colorbar\":{\"outlinewidth\":0,\"ticks\":\"\"}}}],\"scatter3d\":[{\"type\":\"scatter3d\",\"line\":{\"colorbar\":{\"outlinewidth\":0,\"ticks\":\"\"}},\"marker\":{\"colorbar\":{\"outlinewidth\":0,\"ticks\":\"\"}}}],\"scattermapbox\":[{\"type\":\"scattermapbox\",\"marker\":{\"colorbar\":{\"outlinewidth\":0,\"ticks\":\"\"}}}],\"scatterternary\":[{\"type\":\"scatterternary\",\"marker\":{\"colorbar\":{\"outlinewidth\":0,\"ticks\":\"\"}}}],\"scattercarpet\":[{\"type\":\"scattercarpet\",\"marker\":{\"colorbar\":{\"outlinewidth\":0,\"ticks\":\"\"}}}],\"carpet\":[{\"aaxis\":{\"endlinecolor\":\"#2a3f5f\",\"gridcolor\":\"white\",\"linecolor\":\"white\",\"minorgridcolor\":\"white\",\"startlinecolor\":\"#2a3f5f\"},\"baxis\":{\"endlinecolor\":\"#2a3f5f\",\"gridcolor\":\"white\",\"linecolor\":\"white\",\"minorgridcolor\":\"white\",\"startlinecolor\":\"#2a3f5f\"},\"type\":\"carpet\"}],\"table\":[{\"cells\":{\"fill\":{\"color\":\"#EBF0F8\"},\"line\":{\"color\":\"white\"}},\"header\":{\"fill\":{\"color\":\"#C8D4E3\"},\"line\":{\"color\":\"white\"}},\"type\":\"table\"}],\"barpolar\":[{\"marker\":{\"line\":{\"color\":\"#E5ECF6\",\"width\":0.5},\"pattern\":{\"fillmode\":\"overlay\",\"size\":10,\"solidity\":0.2}},\"type\":\"barpolar\"}],\"pie\":[{\"automargin\":true,\"type\":\"pie\"}]},\"layout\":{\"autotypenumbers\":\"strict\",\"colorway\":[\"#636efa\",\"#EF553B\",\"#00cc96\",\"#ab63fa\",\"#FFA15A\",\"#19d3f3\",\"#FF6692\",\"#B6E880\",\"#FF97FF\",\"#FECB52\"],\"font\":{\"color\":\"#2a3f5f\"},\"hovermode\":\"closest\",\"hoverlabel\":{\"align\":\"left\"},\"paper_bgcolor\":\"white\",\"plot_bgcolor\":\"#E5ECF6\",\"polar\":{\"bgcolor\":\"#E5ECF6\",\"angularaxis\":{\"gridcolor\":\"white\",\"linecolor\":\"white\",\"ticks\":\"\"},\"radialaxis\":{\"gridcolor\":\"white\",\"linecolor\":\"white\",\"ticks\":\"\"}},\"ternary\":{\"bgcolor\":\"#E5ECF6\",\"aaxis\":{\"gridcolor\":\"white\",\"linecolor\":\"white\",\"ticks\":\"\"},\"baxis\":{\"gridcolor\":\"white\",\"linecolor\":\"white\",\"ticks\":\"\"},\"caxis\":{\"gridcolor\":\"white\",\"linecolor\":\"white\",\"ticks\":\"\"}},\"coloraxis\":{\"colorbar\":{\"outlinewidth\":0,\"ticks\":\"\"}},\"colorscale\":{\"sequential\":[[0.0,\"#0d0887\"],[0.1111111111111111,\"#46039f\"],[0.2222222222222222,\"#7201a8\"],[0.3333333333333333,\"#9c179e\"],[0.4444444444444444,\"#bd3786\"],[0.5555555555555556,\"#d8576b\"],[0.6666666666666666,\"#ed7953\"],[0.7777777777777778,\"#fb9f3a\"],[0.8888888888888888,\"#fdca26\"],[1.0,\"#f0f921\"]],\"sequentialminus\":[[0.0,\"#0d0887\"],[0.1111111111111111,\"#46039f\"],[0.2222222222222222,\"#7201a8\"],[0.3333333333333333,\"#9c179e\"],[0.4444444444444444,\"#bd3786\"],[0.5555555555555556,\"#d8576b\"],[0.6666666666666666,\"#ed7953\"],[0.7777777777777778,\"#fb9f3a\"],[0.8888888888888888,\"#fdca26\"],[1.0,\"#f0f921\"]],\"diverging\":[[0,\"#8e0152\"],[0.1,\"#c51b7d\"],[0.2,\"#de77ae\"],[0.3,\"#f1b6da\"],[0.4,\"#fde0ef\"],[0.5,\"#f7f7f7\"],[0.6,\"#e6f5d0\"],[0.7,\"#b8e186\"],[0.8,\"#7fbc41\"],[0.9,\"#4d9221\"],[1,\"#276419\"]]},\"xaxis\":{\"gridcolor\":\"white\",\"linecolor\":\"white\",\"ticks\":\"\",\"title\":{\"standoff\":15},\"zerolinecolor\":\"white\",\"automargin\":true,\"zerolinewidth\":2},\"yaxis\":{\"gridcolor\":\"white\",\"linecolor\":\"white\",\"ticks\":\"\",\"title\":{\"standoff\":15},\"zerolinecolor\":\"white\",\"automargin\":true,\"zerolinewidth\":2},\"scene\":{\"xaxis\":{\"backgroundcolor\":\"#E5ECF6\",\"gridcolor\":\"white\",\"linecolor\":\"white\",\"showbackground\":true,\"ticks\":\"\",\"zerolinecolor\":\"white\",\"gridwidth\":2},\"yaxis\":{\"backgroundcolor\":\"#E5ECF6\",\"gridcolor\":\"white\",\"linecolor\":\"white\",\"showbackground\":true,\"ticks\":\"\",\"zerolinecolor\":\"white\",\"gridwidth\":2},\"zaxis\":{\"backgroundcolor\":\"#E5ECF6\",\"gridcolor\":\"white\",\"linecolor\":\"white\",\"showbackground\":true,\"ticks\":\"\",\"zerolinecolor\":\"white\",\"gridwidth\":2}},\"shapedefaults\":{\"line\":{\"color\":\"#2a3f5f\"}},\"annotationdefaults\":{\"arrowcolor\":\"#2a3f5f\",\"arrowhead\":0,\"arrowwidth\":1},\"geo\":{\"bgcolor\":\"white\",\"landcolor\":\"#E5ECF6\",\"subunitcolor\":\"white\",\"showland\":true,\"showlakes\":true,\"lakecolor\":\"white\"},\"title\":{\"x\":0.05},\"mapbox\":{\"style\":\"light\"}}},\"title\":{\"text\":\"$\\\\text{Average loss for every 250 games - }\\\\epsilon_{opt}=0.5$\"},\"xaxis\":{\"title\":{\"text\":\"$game$\"}},\"yaxis\":{\"title\":{\"text\":\"$average(loss)\\\\text{- 250 games}$\"}},\"width\":1200,\"height\":400},                        {\"responsive\": true}                    ).then(function(){\n                            \nvar gd = document.getElementById('cd292622-4111-46dd-8b60-9a5366e498ce');\nvar x = new MutationObserver(function (mutations, observer) {{\n        var display = window.getComputedStyle(gd).display;\n        if (!display || display === 'none') {{\n            console.log([gd, 'removed!']);\n            Plotly.purge(gd);\n            observer.disconnect();\n        }}\n}});\n\n// Listen for the removal of the full notebook cells\nvar notebookContainer = gd.closest('#notebook-container');\nif (notebookContainer) {{\n    x.observe(notebookContainer, {childList: true});\n}}\n\n// Listen for the clearing of the current output cell\nvar outputEl = gd.closest('.output');\nif (outputEl) {{\n    x.observe(outputEl, {childList: true});\n}}\n\n                        })                };                });            </script>        </div>"
     },
     "metadata": {},
     "output_type": "display_data"
    }
   ],
   "source": [
    "fig = go.Figure()\n",
    "\n",
    "for i, y_i in enumerate(n_star_losses):\n",
    "    fig.add_trace(go.Scatter(x=x, y=y_i, mode='lines',name=r'$n^* = %d$' % n_star_list[i]))\n",
    "\n",
    "fig.update_layout(\n",
    "    title=r'$\\text{Average loss for every %d games - }\\epsilon_{opt}=0.5$' % averaging_steps,\n",
    "    xaxis_title=r'$game$',\n",
    "    yaxis_title=r'$average(loss)\\text{- %d games}$' % (averaging_steps),\n",
    "    width=1200, height=400\n",
    ")\n",
    "\n",
    "fig.show()"
   ]
  },
  {
   "cell_type": "code",
   "execution_count": 34,
   "metadata": {
    "collapsed": false,
    "pycharm": {
     "name": "#%%\n"
    }
   },
   "outputs": [
    {
     "data": {
      "application/vnd.plotly.v1+json": {
       "data": [
        {
         "mode": "lines",
         "name": "$n^* = 1$",
         "x": [
          249,
          499,
          749,
          999,
          1249,
          1499,
          1749,
          1999,
          2249,
          2499,
          2749,
          2999,
          3249,
          3499,
          3749,
          3999,
          4249,
          4499,
          4749,
          4999,
          5249,
          5499,
          5749,
          5999,
          6249,
          6499,
          6749,
          6999,
          7249,
          7499,
          7749,
          7999,
          8249,
          8499,
          8749,
          8999,
          9249,
          9499,
          9749,
          9999,
          10249,
          10499,
          10749,
          10999,
          11249,
          11499,
          11749,
          11999,
          12249,
          12499,
          12749,
          12999,
          13249,
          13499,
          13749,
          13999,
          14249,
          14499,
          14749,
          14999,
          15249,
          15499,
          15749,
          15999,
          16249,
          16499,
          16749,
          16999,
          17249,
          17499,
          17749,
          17999,
          18249,
          18499,
          18749,
          18999,
          19249,
          19499,
          19749,
          19999
         ],
         "y": [
          -0.064,
          0.012,
          0.012,
          0.17,
          0.308,
          0.496,
          0.486,
          0.616,
          0.526,
          0.652,
          0.712,
          0.724,
          0.812,
          0.798,
          0.798,
          0.776,
          0.778,
          0.774,
          0.822,
          0.83,
          0.796,
          0.844,
          0.828,
          0.866,
          0.844,
          0.826,
          0.854,
          0.866,
          0.866,
          0.822,
          0.864,
          0.856,
          0.866,
          0.88,
          0.874,
          0.888,
          0.896,
          0.896,
          0.866,
          0.832,
          0.886,
          0.908,
          0.892,
          0.878,
          0.9,
          0.862,
          0.87,
          0.882,
          0.888,
          0.9,
          0.902,
          0.876,
          0.904,
          0.882,
          0.89,
          0.886,
          0.908,
          0.928,
          0.856,
          0.91,
          0.908,
          0.906,
          0.904,
          0.938,
          0.884,
          0.9,
          0.908,
          0.89,
          0.898,
          0.904,
          0.898,
          0.904,
          0.918,
          0.9,
          0.894,
          0.926,
          0.902,
          0.89,
          0.88,
          0.884
         ],
         "type": "scatter"
        },
        {
         "mode": "lines",
         "name": "$n^* = 4000$",
         "x": [
          249,
          499,
          749,
          999,
          1249,
          1499,
          1749,
          1999,
          2249,
          2499,
          2749,
          2999,
          3249,
          3499,
          3749,
          3999,
          4249,
          4499,
          4749,
          4999,
          5249,
          5499,
          5749,
          5999,
          6249,
          6499,
          6749,
          6999,
          7249,
          7499,
          7749,
          7999,
          8249,
          8499,
          8749,
          8999,
          9249,
          9499,
          9749,
          9999,
          10249,
          10499,
          10749,
          10999,
          11249,
          11499,
          11749,
          11999,
          12249,
          12499,
          12749,
          12999,
          13249,
          13499,
          13749,
          13999,
          14249,
          14499,
          14749,
          14999,
          15249,
          15499,
          15749,
          15999,
          16249,
          16499,
          16749,
          16999,
          17249,
          17499,
          17749,
          17999,
          18249,
          18499,
          18749,
          18999,
          19249,
          19499,
          19749,
          19999
         ],
         "y": [
          -0.86,
          -0.774,
          0.222,
          0.304,
          0.574,
          0.728,
          0.732,
          0.796,
          0.8,
          0.796,
          0.808,
          0.854,
          0.818,
          0.854,
          0.896,
          0.874,
          0.9,
          0.884,
          0.878,
          0.914,
          0.89,
          0.916,
          0.912,
          0.916,
          0.922,
          0.926,
          0.942,
          0.934,
          0.93,
          0.918,
          0.938,
          0.912,
          0.912,
          0.944,
          0.948,
          0.928,
          0.914,
          0.948,
          0.924,
          0.908,
          0.942,
          0.938,
          0.92,
          0.94,
          0.942,
          0.95,
          0.93,
          0.946,
          0.952,
          0.938,
          0.936,
          0.944,
          0.922,
          0.958,
          0.954,
          0.94,
          0.942,
          0.954,
          0.95,
          0.95,
          0.924,
          0.95,
          0.958,
          0.938,
          0.934,
          0.928,
          0.944,
          0.958,
          0.942,
          0.948,
          0.95,
          0.958,
          0.962,
          0.94,
          0.952,
          0.934,
          0.944,
          0.952,
          0.942,
          0.896
         ],
         "type": "scatter"
        },
        {
         "mode": "lines",
         "name": "$n^* = 8000$",
         "x": [
          249,
          499,
          749,
          999,
          1249,
          1499,
          1749,
          1999,
          2249,
          2499,
          2749,
          2999,
          3249,
          3499,
          3749,
          3999,
          4249,
          4499,
          4749,
          4999,
          5249,
          5499,
          5749,
          5999,
          6249,
          6499,
          6749,
          6999,
          7249,
          7499,
          7749,
          7999,
          8249,
          8499,
          8749,
          8999,
          9249,
          9499,
          9749,
          9999,
          10249,
          10499,
          10749,
          10999,
          11249,
          11499,
          11749,
          11999,
          12249,
          12499,
          12749,
          12999,
          13249,
          13499,
          13749,
          13999,
          14249,
          14499,
          14749,
          14999,
          15249,
          15499,
          15749,
          15999,
          16249,
          16499,
          16749,
          16999,
          17249,
          17499,
          17749,
          17999,
          18249,
          18499,
          18749,
          18999,
          19249,
          19499,
          19749,
          19999
         ],
         "y": [
          -1.0,
          -0.622,
          -0.71,
          -0.13,
          0.068,
          0.21,
          0.322,
          0.376,
          0.4,
          0.482,
          0.498,
          0.572,
          0.56,
          0.616,
          0.698,
          0.686,
          0.758,
          0.73,
          0.786,
          0.79,
          0.82,
          0.762,
          0.826,
          0.802,
          0.856,
          0.866,
          0.89,
          0.884,
          0.838,
          0.862,
          0.88,
          0.87,
          0.89,
          0.826,
          0.846,
          0.864,
          0.828,
          0.884,
          0.904,
          0.882,
          0.878,
          0.894,
          0.866,
          0.89,
          0.912,
          0.886,
          0.876,
          0.876,
          0.914,
          0.9,
          0.916,
          0.918,
          0.902,
          0.92,
          0.914,
          0.906,
          0.914,
          0.916,
          0.936,
          0.914,
          0.948,
          0.94,
          0.94,
          0.944,
          0.942,
          0.95,
          0.928,
          0.922,
          0.952,
          0.91,
          0.936,
          0.934,
          0.912,
          0.932,
          0.934,
          0.94,
          0.934,
          0.962,
          0.958,
          0.958
         ],
         "type": "scatter"
        },
        {
         "mode": "lines",
         "name": "$n^* = 12000$",
         "x": [
          249,
          499,
          749,
          999,
          1249,
          1499,
          1749,
          1999,
          2249,
          2499,
          2749,
          2999,
          3249,
          3499,
          3749,
          3999,
          4249,
          4499,
          4749,
          4999,
          5249,
          5499,
          5749,
          5999,
          6249,
          6499,
          6749,
          6999,
          7249,
          7499,
          7749,
          7999,
          8249,
          8499,
          8749,
          8999,
          9249,
          9499,
          9749,
          9999,
          10249,
          10499,
          10749,
          10999,
          11249,
          11499,
          11749,
          11999,
          12249,
          12499,
          12749,
          12999,
          13249,
          13499,
          13749,
          13999,
          14249,
          14499,
          14749,
          14999,
          15249,
          15499,
          15749,
          15999,
          16249,
          16499,
          16749,
          16999,
          17249,
          17499,
          17749,
          17999,
          18249,
          18499,
          18749,
          18999,
          19249,
          19499,
          19749,
          19999
         ],
         "y": [
          -0.962,
          -0.708,
          -0.468,
          -0.104,
          0.26,
          0.544,
          0.618,
          0.638,
          0.782,
          0.754,
          0.836,
          0.836,
          0.822,
          0.866,
          0.85,
          0.86,
          0.902,
          0.898,
          0.916,
          0.898,
          0.938,
          0.926,
          0.93,
          0.918,
          0.892,
          0.932,
          0.924,
          0.898,
          0.928,
          0.922,
          0.958,
          0.944,
          0.924,
          0.934,
          0.914,
          0.9,
          0.902,
          0.934,
          0.94,
          0.948,
          0.904,
          0.92,
          0.938,
          0.938,
          0.948,
          0.924,
          0.926,
          0.928,
          0.916,
          0.946,
          0.952,
          0.924,
          0.924,
          0.936,
          0.932,
          0.926,
          0.914,
          0.95,
          0.926,
          0.934,
          0.946,
          0.932,
          0.924,
          0.938,
          0.958,
          0.956,
          0.95,
          0.944,
          0.94,
          0.932,
          0.926,
          0.944,
          0.946,
          0.938,
          0.93,
          0.93,
          0.936,
          0.968,
          0.938,
          0.946
         ],
         "type": "scatter"
        },
        {
         "mode": "lines",
         "name": "$n^* = 16000$",
         "x": [
          249,
          499,
          749,
          999,
          1249,
          1499,
          1749,
          1999,
          2249,
          2499,
          2749,
          2999,
          3249,
          3499,
          3749,
          3999,
          4249,
          4499,
          4749,
          4999,
          5249,
          5499,
          5749,
          5999,
          6249,
          6499,
          6749,
          6999,
          7249,
          7499,
          7749,
          7999,
          8249,
          8499,
          8749,
          8999,
          9249,
          9499,
          9749,
          9999,
          10249,
          10499,
          10749,
          10999,
          11249,
          11499,
          11749,
          11999,
          12249,
          12499,
          12749,
          12999,
          13249,
          13499,
          13749,
          13999,
          14249,
          14499,
          14749,
          14999,
          15249,
          15499,
          15749,
          15999,
          16249,
          16499,
          16749,
          16999,
          17249,
          17499,
          17749,
          17999,
          18249,
          18499,
          18749,
          18999,
          19249,
          19499,
          19749,
          19999
         ],
         "y": [
          -0.992,
          -0.82,
          -0.482,
          -0.354,
          0.088,
          0.332,
          0.454,
          0.638,
          0.754,
          0.788,
          0.792,
          0.846,
          0.848,
          0.912,
          0.858,
          0.89,
          0.87,
          0.882,
          0.86,
          0.874,
          0.88,
          0.878,
          0.91,
          0.926,
          0.898,
          0.934,
          0.904,
          0.888,
          0.958,
          0.93,
          0.93,
          0.9,
          0.928,
          0.936,
          0.936,
          0.946,
          0.926,
          0.958,
          0.926,
          0.964,
          0.946,
          0.934,
          0.946,
          0.948,
          0.944,
          0.93,
          0.944,
          0.928,
          0.932,
          0.948,
          0.942,
          0.93,
          0.944,
          0.934,
          0.938,
          0.942,
          0.932,
          0.948,
          0.944,
          0.92,
          0.96,
          0.924,
          0.926,
          0.94,
          0.964,
          0.922,
          0.93,
          0.95,
          0.96,
          0.936,
          0.928,
          0.962,
          0.962,
          0.936,
          0.946,
          0.952,
          0.958,
          0.964,
          0.958,
          0.962
         ],
         "type": "scatter"
        },
        {
         "mode": "lines",
         "name": "$n^* = 20000$",
         "x": [
          249,
          499,
          749,
          999,
          1249,
          1499,
          1749,
          1999,
          2249,
          2499,
          2749,
          2999,
          3249,
          3499,
          3749,
          3999,
          4249,
          4499,
          4749,
          4999,
          5249,
          5499,
          5749,
          5999,
          6249,
          6499,
          6749,
          6999,
          7249,
          7499,
          7749,
          7999,
          8249,
          8499,
          8749,
          8999,
          9249,
          9499,
          9749,
          9999,
          10249,
          10499,
          10749,
          10999,
          11249,
          11499,
          11749,
          11999,
          12249,
          12499,
          12749,
          12999,
          13249,
          13499,
          13749,
          13999,
          14249,
          14499,
          14749,
          14999,
          15249,
          15499,
          15749,
          15999,
          16249,
          16499,
          16749,
          16999,
          17249,
          17499,
          17749,
          17999,
          18249,
          18499,
          18749,
          18999,
          19249,
          19499,
          19749,
          19999
         ],
         "y": [
          -0.96,
          -0.776,
          -0.608,
          -0.354,
          0.448,
          0.552,
          0.598,
          0.736,
          0.752,
          0.786,
          0.81,
          0.782,
          0.824,
          0.826,
          0.8,
          0.808,
          0.856,
          0.86,
          0.858,
          0.868,
          0.832,
          0.838,
          0.862,
          0.85,
          0.92,
          0.87,
          0.908,
          0.916,
          0.928,
          0.922,
          0.916,
          0.914,
          0.904,
          0.94,
          0.916,
          0.922,
          0.898,
          0.896,
          0.926,
          0.956,
          0.92,
          0.916,
          0.906,
          0.918,
          0.9,
          0.934,
          0.924,
          0.928,
          0.92,
          0.946,
          0.912,
          0.92,
          0.924,
          0.938,
          0.93,
          0.928,
          0.954,
          0.938,
          0.938,
          0.948,
          0.928,
          0.954,
          0.92,
          0.922,
          0.956,
          0.952,
          0.94,
          0.928,
          0.924,
          0.936,
          0.93,
          0.942,
          0.958,
          0.954,
          0.92,
          0.928,
          0.95,
          0.934,
          0.956,
          0.94
         ],
         "type": "scatter"
        },
        {
         "mode": "lines",
         "name": "$n^* = 24000$",
         "x": [
          249,
          499,
          749,
          999,
          1249,
          1499,
          1749,
          1999,
          2249,
          2499,
          2749,
          2999,
          3249,
          3499,
          3749,
          3999,
          4249,
          4499,
          4749,
          4999,
          5249,
          5499,
          5749,
          5999,
          6249,
          6499,
          6749,
          6999,
          7249,
          7499,
          7749,
          7999,
          8249,
          8499,
          8749,
          8999,
          9249,
          9499,
          9749,
          9999,
          10249,
          10499,
          10749,
          10999,
          11249,
          11499,
          11749,
          11999,
          12249,
          12499,
          12749,
          12999,
          13249,
          13499,
          13749,
          13999,
          14249,
          14499,
          14749,
          14999,
          15249,
          15499,
          15749,
          15999,
          16249,
          16499,
          16749,
          16999,
          17249,
          17499,
          17749,
          17999,
          18249,
          18499,
          18749,
          18999,
          19249,
          19499,
          19749,
          19999
         ],
         "y": [
          -0.964,
          -0.366,
          -0.316,
          -0.54,
          0.056,
          0.266,
          0.526,
          0.672,
          0.794,
          0.706,
          0.694,
          0.738,
          0.794,
          0.864,
          0.786,
          0.824,
          0.868,
          0.818,
          0.822,
          0.876,
          0.892,
          0.894,
          0.928,
          0.898,
          0.88,
          0.916,
          0.902,
          0.914,
          0.906,
          0.944,
          0.872,
          0.924,
          0.924,
          0.918,
          0.904,
          0.9,
          0.916,
          0.898,
          0.91,
          0.894,
          0.924,
          0.928,
          0.922,
          0.894,
          0.926,
          0.952,
          0.906,
          0.928,
          0.902,
          0.922,
          0.93,
          0.936,
          0.962,
          0.938,
          0.942,
          0.93,
          0.95,
          0.942,
          0.938,
          0.936,
          0.944,
          0.916,
          0.956,
          0.942,
          0.922,
          0.952,
          0.936,
          0.926,
          0.944,
          0.944,
          0.924,
          0.954,
          0.954,
          0.942,
          0.934,
          0.922,
          0.94,
          0.946,
          0.954,
          0.95
         ],
         "type": "scatter"
        },
        {
         "mode": "lines",
         "name": "$n^* = 28000$",
         "x": [
          249,
          499,
          749,
          999,
          1249,
          1499,
          1749,
          1999,
          2249,
          2499,
          2749,
          2999,
          3249,
          3499,
          3749,
          3999,
          4249,
          4499,
          4749,
          4999,
          5249,
          5499,
          5749,
          5999,
          6249,
          6499,
          6749,
          6999,
          7249,
          7499,
          7749,
          7999,
          8249,
          8499,
          8749,
          8999,
          9249,
          9499,
          9749,
          9999,
          10249,
          10499,
          10749,
          10999,
          11249,
          11499,
          11749,
          11999,
          12249,
          12499,
          12749,
          12999,
          13249,
          13499,
          13749,
          13999,
          14249,
          14499,
          14749,
          14999,
          15249,
          15499,
          15749,
          15999,
          16249,
          16499,
          16749,
          16999,
          17249,
          17499,
          17749,
          17999,
          18249,
          18499,
          18749,
          18999,
          19249,
          19499,
          19749,
          19999
         ],
         "y": [
          -0.796,
          -0.5,
          -0.584,
          -0.616,
          -0.048,
          0.138,
          0.466,
          0.518,
          0.62,
          0.576,
          0.684,
          0.702,
          0.744,
          0.778,
          0.81,
          0.812,
          0.798,
          0.832,
          0.834,
          0.832,
          0.82,
          0.846,
          0.802,
          0.86,
          0.884,
          0.858,
          0.896,
          0.864,
          0.848,
          0.872,
          0.858,
          0.858,
          0.846,
          0.88,
          0.864,
          0.868,
          0.896,
          0.86,
          0.888,
          0.858,
          0.912,
          0.886,
          0.864,
          0.862,
          0.908,
          0.896,
          0.876,
          0.886,
          0.896,
          0.918,
          0.92,
          0.926,
          0.932,
          0.902,
          0.924,
          0.914,
          0.906,
          0.904,
          0.93,
          0.924,
          0.922,
          0.922,
          0.92,
          0.9,
          0.924,
          0.9,
          0.918,
          0.894,
          0.924,
          0.936,
          0.908,
          0.928,
          0.91,
          0.9,
          0.928,
          0.934,
          0.944,
          0.918,
          0.894,
          0.922
         ],
         "type": "scatter"
        },
        {
         "mode": "lines",
         "name": "$n^* = 32000$",
         "x": [
          249,
          499,
          749,
          999,
          1249,
          1499,
          1749,
          1999,
          2249,
          2499,
          2749,
          2999,
          3249,
          3499,
          3749,
          3999,
          4249,
          4499,
          4749,
          4999,
          5249,
          5499,
          5749,
          5999,
          6249,
          6499,
          6749,
          6999,
          7249,
          7499,
          7749,
          7999,
          8249,
          8499,
          8749,
          8999,
          9249,
          9499,
          9749,
          9999,
          10249,
          10499,
          10749,
          10999,
          11249,
          11499,
          11749,
          11999,
          12249,
          12499,
          12749,
          12999,
          13249,
          13499,
          13749,
          13999,
          14249,
          14499,
          14749,
          14999,
          15249,
          15499,
          15749,
          15999,
          16249,
          16499,
          16749,
          16999,
          17249,
          17499,
          17749,
          17999,
          18249,
          18499,
          18749,
          18999,
          19249,
          19499,
          19749,
          19999
         ],
         "y": [
          -0.656,
          -0.586,
          -0.504,
          -0.302,
          0.104,
          0.312,
          0.422,
          0.536,
          0.652,
          0.652,
          0.792,
          0.69,
          0.758,
          0.784,
          0.77,
          0.832,
          0.778,
          0.8,
          0.828,
          0.828,
          0.874,
          0.862,
          0.894,
          0.86,
          0.834,
          0.888,
          0.864,
          0.89,
          0.9,
          0.9,
          0.86,
          0.896,
          0.862,
          0.916,
          0.89,
          0.872,
          0.924,
          0.906,
          0.886,
          0.89,
          0.906,
          0.926,
          0.908,
          0.894,
          0.914,
          0.926,
          0.92,
          0.92,
          0.91,
          0.958,
          0.926,
          0.922,
          0.906,
          0.872,
          0.91,
          0.928,
          0.936,
          0.92,
          0.94,
          0.93,
          0.914,
          0.926,
          0.914,
          0.934,
          0.948,
          0.962,
          0.922,
          0.91,
          0.924,
          0.918,
          0.914,
          0.936,
          0.932,
          0.918,
          0.92,
          0.92,
          0.934,
          0.91,
          0.928,
          0.92
         ],
         "type": "scatter"
        },
        {
         "mode": "lines",
         "name": "$n^* = 36000$",
         "x": [
          249,
          499,
          749,
          999,
          1249,
          1499,
          1749,
          1999,
          2249,
          2499,
          2749,
          2999,
          3249,
          3499,
          3749,
          3999,
          4249,
          4499,
          4749,
          4999,
          5249,
          5499,
          5749,
          5999,
          6249,
          6499,
          6749,
          6999,
          7249,
          7499,
          7749,
          7999,
          8249,
          8499,
          8749,
          8999,
          9249,
          9499,
          9749,
          9999,
          10249,
          10499,
          10749,
          10999,
          11249,
          11499,
          11749,
          11999,
          12249,
          12499,
          12749,
          12999,
          13249,
          13499,
          13749,
          13999,
          14249,
          14499,
          14749,
          14999,
          15249,
          15499,
          15749,
          15999,
          16249,
          16499,
          16749,
          16999,
          17249,
          17499,
          17749,
          17999,
          18249,
          18499,
          18749,
          18999,
          19249,
          19499,
          19749,
          19999
         ],
         "y": [
          -0.852,
          -0.854,
          -0.49,
          -0.38,
          0.102,
          0.52,
          0.586,
          0.676,
          0.638,
          0.638,
          0.66,
          0.662,
          0.716,
          0.71,
          0.724,
          0.776,
          0.79,
          0.842,
          0.83,
          0.808,
          0.83,
          0.866,
          0.786,
          0.878,
          0.884,
          0.874,
          0.894,
          0.888,
          0.93,
          0.878,
          0.9,
          0.862,
          0.898,
          0.924,
          0.902,
          0.93,
          0.934,
          0.924,
          0.916,
          0.916,
          0.904,
          0.888,
          0.938,
          0.92,
          0.914,
          0.926,
          0.922,
          0.928,
          0.936,
          0.95,
          0.936,
          0.926,
          0.936,
          0.95,
          0.912,
          0.914,
          0.954,
          0.934,
          0.924,
          0.952,
          0.964,
          0.946,
          0.922,
          0.948,
          0.94,
          0.946,
          0.948,
          0.95,
          0.946,
          0.93,
          0.946,
          0.94,
          0.95,
          0.956,
          0.938,
          0.946,
          0.946,
          0.942,
          0.924,
          0.926
         ],
         "type": "scatter"
        },
        {
         "mode": "lines",
         "name": "$n^* = 40000$",
         "x": [
          249,
          499,
          749,
          999,
          1249,
          1499,
          1749,
          1999,
          2249,
          2499,
          2749,
          2999,
          3249,
          3499,
          3749,
          3999,
          4249,
          4499,
          4749,
          4999,
          5249,
          5499,
          5749,
          5999,
          6249,
          6499,
          6749,
          6999,
          7249,
          7499,
          7749,
          7999,
          8249,
          8499,
          8749,
          8999,
          9249,
          9499,
          9749,
          9999,
          10249,
          10499,
          10749,
          10999,
          11249,
          11499,
          11749,
          11999,
          12249,
          12499,
          12749,
          12999,
          13249,
          13499,
          13749,
          13999,
          14249,
          14499,
          14749,
          14999,
          15249,
          15499,
          15749,
          15999,
          16249,
          16499,
          16749,
          16999,
          17249,
          17499,
          17749,
          17999,
          18249,
          18499,
          18749,
          18999,
          19249,
          19499,
          19749,
          19999
         ],
         "y": [
          -0.412,
          -0.694,
          -0.534,
          0.13,
          0.296,
          0.476,
          0.686,
          0.688,
          0.782,
          0.768,
          0.762,
          0.812,
          0.824,
          0.862,
          0.828,
          0.862,
          0.886,
          0.918,
          0.886,
          0.898,
          0.926,
          0.928,
          0.904,
          0.914,
          0.916,
          0.924,
          0.94,
          0.94,
          0.946,
          0.912,
          0.92,
          0.92,
          0.924,
          0.934,
          0.942,
          0.924,
          0.94,
          0.936,
          0.926,
          0.894,
          0.922,
          0.906,
          0.948,
          0.93,
          0.924,
          0.934,
          0.914,
          0.93,
          0.914,
          0.958,
          0.942,
          0.936,
          0.938,
          0.936,
          0.944,
          0.93,
          0.938,
          0.934,
          0.946,
          0.934,
          0.936,
          0.94,
          0.946,
          0.944,
          0.95,
          0.936,
          0.952,
          0.93,
          0.944,
          0.912,
          0.912,
          0.932,
          0.924,
          0.944,
          0.948,
          0.942,
          0.91,
          0.964,
          0.95,
          0.9
         ],
         "type": "scatter"
        }
       ],
       "layout": {
        "template": {
         "data": {
          "histogram2dcontour": [
           {
            "type": "histogram2dcontour",
            "colorbar": {
             "outlinewidth": 0,
             "ticks": ""
            },
            "colorscale": [
             [
              0.0,
              "#0d0887"
             ],
             [
              0.1111111111111111,
              "#46039f"
             ],
             [
              0.2222222222222222,
              "#7201a8"
             ],
             [
              0.3333333333333333,
              "#9c179e"
             ],
             [
              0.4444444444444444,
              "#bd3786"
             ],
             [
              0.5555555555555556,
              "#d8576b"
             ],
             [
              0.6666666666666666,
              "#ed7953"
             ],
             [
              0.7777777777777778,
              "#fb9f3a"
             ],
             [
              0.8888888888888888,
              "#fdca26"
             ],
             [
              1.0,
              "#f0f921"
             ]
            ]
           }
          ],
          "choropleth": [
           {
            "type": "choropleth",
            "colorbar": {
             "outlinewidth": 0,
             "ticks": ""
            }
           }
          ],
          "histogram2d": [
           {
            "type": "histogram2d",
            "colorbar": {
             "outlinewidth": 0,
             "ticks": ""
            },
            "colorscale": [
             [
              0.0,
              "#0d0887"
             ],
             [
              0.1111111111111111,
              "#46039f"
             ],
             [
              0.2222222222222222,
              "#7201a8"
             ],
             [
              0.3333333333333333,
              "#9c179e"
             ],
             [
              0.4444444444444444,
              "#bd3786"
             ],
             [
              0.5555555555555556,
              "#d8576b"
             ],
             [
              0.6666666666666666,
              "#ed7953"
             ],
             [
              0.7777777777777778,
              "#fb9f3a"
             ],
             [
              0.8888888888888888,
              "#fdca26"
             ],
             [
              1.0,
              "#f0f921"
             ]
            ]
           }
          ],
          "heatmap": [
           {
            "type": "heatmap",
            "colorbar": {
             "outlinewidth": 0,
             "ticks": ""
            },
            "colorscale": [
             [
              0.0,
              "#0d0887"
             ],
             [
              0.1111111111111111,
              "#46039f"
             ],
             [
              0.2222222222222222,
              "#7201a8"
             ],
             [
              0.3333333333333333,
              "#9c179e"
             ],
             [
              0.4444444444444444,
              "#bd3786"
             ],
             [
              0.5555555555555556,
              "#d8576b"
             ],
             [
              0.6666666666666666,
              "#ed7953"
             ],
             [
              0.7777777777777778,
              "#fb9f3a"
             ],
             [
              0.8888888888888888,
              "#fdca26"
             ],
             [
              1.0,
              "#f0f921"
             ]
            ]
           }
          ],
          "heatmapgl": [
           {
            "type": "heatmapgl",
            "colorbar": {
             "outlinewidth": 0,
             "ticks": ""
            },
            "colorscale": [
             [
              0.0,
              "#0d0887"
             ],
             [
              0.1111111111111111,
              "#46039f"
             ],
             [
              0.2222222222222222,
              "#7201a8"
             ],
             [
              0.3333333333333333,
              "#9c179e"
             ],
             [
              0.4444444444444444,
              "#bd3786"
             ],
             [
              0.5555555555555556,
              "#d8576b"
             ],
             [
              0.6666666666666666,
              "#ed7953"
             ],
             [
              0.7777777777777778,
              "#fb9f3a"
             ],
             [
              0.8888888888888888,
              "#fdca26"
             ],
             [
              1.0,
              "#f0f921"
             ]
            ]
           }
          ],
          "contourcarpet": [
           {
            "type": "contourcarpet",
            "colorbar": {
             "outlinewidth": 0,
             "ticks": ""
            }
           }
          ],
          "contour": [
           {
            "type": "contour",
            "colorbar": {
             "outlinewidth": 0,
             "ticks": ""
            },
            "colorscale": [
             [
              0.0,
              "#0d0887"
             ],
             [
              0.1111111111111111,
              "#46039f"
             ],
             [
              0.2222222222222222,
              "#7201a8"
             ],
             [
              0.3333333333333333,
              "#9c179e"
             ],
             [
              0.4444444444444444,
              "#bd3786"
             ],
             [
              0.5555555555555556,
              "#d8576b"
             ],
             [
              0.6666666666666666,
              "#ed7953"
             ],
             [
              0.7777777777777778,
              "#fb9f3a"
             ],
             [
              0.8888888888888888,
              "#fdca26"
             ],
             [
              1.0,
              "#f0f921"
             ]
            ]
           }
          ],
          "surface": [
           {
            "type": "surface",
            "colorbar": {
             "outlinewidth": 0,
             "ticks": ""
            },
            "colorscale": [
             [
              0.0,
              "#0d0887"
             ],
             [
              0.1111111111111111,
              "#46039f"
             ],
             [
              0.2222222222222222,
              "#7201a8"
             ],
             [
              0.3333333333333333,
              "#9c179e"
             ],
             [
              0.4444444444444444,
              "#bd3786"
             ],
             [
              0.5555555555555556,
              "#d8576b"
             ],
             [
              0.6666666666666666,
              "#ed7953"
             ],
             [
              0.7777777777777778,
              "#fb9f3a"
             ],
             [
              0.8888888888888888,
              "#fdca26"
             ],
             [
              1.0,
              "#f0f921"
             ]
            ]
           }
          ],
          "mesh3d": [
           {
            "type": "mesh3d",
            "colorbar": {
             "outlinewidth": 0,
             "ticks": ""
            }
           }
          ],
          "scatter": [
           {
            "fillpattern": {
             "fillmode": "overlay",
             "size": 10,
             "solidity": 0.2
            },
            "type": "scatter"
           }
          ],
          "parcoords": [
           {
            "type": "parcoords",
            "line": {
             "colorbar": {
              "outlinewidth": 0,
              "ticks": ""
             }
            }
           }
          ],
          "scatterpolargl": [
           {
            "type": "scatterpolargl",
            "marker": {
             "colorbar": {
              "outlinewidth": 0,
              "ticks": ""
             }
            }
           }
          ],
          "bar": [
           {
            "error_x": {
             "color": "#2a3f5f"
            },
            "error_y": {
             "color": "#2a3f5f"
            },
            "marker": {
             "line": {
              "color": "#E5ECF6",
              "width": 0.5
             },
             "pattern": {
              "fillmode": "overlay",
              "size": 10,
              "solidity": 0.2
             }
            },
            "type": "bar"
           }
          ],
          "scattergeo": [
           {
            "type": "scattergeo",
            "marker": {
             "colorbar": {
              "outlinewidth": 0,
              "ticks": ""
             }
            }
           }
          ],
          "scatterpolar": [
           {
            "type": "scatterpolar",
            "marker": {
             "colorbar": {
              "outlinewidth": 0,
              "ticks": ""
             }
            }
           }
          ],
          "histogram": [
           {
            "marker": {
             "pattern": {
              "fillmode": "overlay",
              "size": 10,
              "solidity": 0.2
             }
            },
            "type": "histogram"
           }
          ],
          "scattergl": [
           {
            "type": "scattergl",
            "marker": {
             "colorbar": {
              "outlinewidth": 0,
              "ticks": ""
             }
            }
           }
          ],
          "scatter3d": [
           {
            "type": "scatter3d",
            "line": {
             "colorbar": {
              "outlinewidth": 0,
              "ticks": ""
             }
            },
            "marker": {
             "colorbar": {
              "outlinewidth": 0,
              "ticks": ""
             }
            }
           }
          ],
          "scattermapbox": [
           {
            "type": "scattermapbox",
            "marker": {
             "colorbar": {
              "outlinewidth": 0,
              "ticks": ""
             }
            }
           }
          ],
          "scatterternary": [
           {
            "type": "scatterternary",
            "marker": {
             "colorbar": {
              "outlinewidth": 0,
              "ticks": ""
             }
            }
           }
          ],
          "scattercarpet": [
           {
            "type": "scattercarpet",
            "marker": {
             "colorbar": {
              "outlinewidth": 0,
              "ticks": ""
             }
            }
           }
          ],
          "carpet": [
           {
            "aaxis": {
             "endlinecolor": "#2a3f5f",
             "gridcolor": "white",
             "linecolor": "white",
             "minorgridcolor": "white",
             "startlinecolor": "#2a3f5f"
            },
            "baxis": {
             "endlinecolor": "#2a3f5f",
             "gridcolor": "white",
             "linecolor": "white",
             "minorgridcolor": "white",
             "startlinecolor": "#2a3f5f"
            },
            "type": "carpet"
           }
          ],
          "table": [
           {
            "cells": {
             "fill": {
              "color": "#EBF0F8"
             },
             "line": {
              "color": "white"
             }
            },
            "header": {
             "fill": {
              "color": "#C8D4E3"
             },
             "line": {
              "color": "white"
             }
            },
            "type": "table"
           }
          ],
          "barpolar": [
           {
            "marker": {
             "line": {
              "color": "#E5ECF6",
              "width": 0.5
             },
             "pattern": {
              "fillmode": "overlay",
              "size": 10,
              "solidity": 0.2
             }
            },
            "type": "barpolar"
           }
          ],
          "pie": [
           {
            "automargin": true,
            "type": "pie"
           }
          ]
         },
         "layout": {
          "autotypenumbers": "strict",
          "colorway": [
           "#636efa",
           "#EF553B",
           "#00cc96",
           "#ab63fa",
           "#FFA15A",
           "#19d3f3",
           "#FF6692",
           "#B6E880",
           "#FF97FF",
           "#FECB52"
          ],
          "font": {
           "color": "#2a3f5f"
          },
          "hovermode": "closest",
          "hoverlabel": {
           "align": "left"
          },
          "paper_bgcolor": "white",
          "plot_bgcolor": "#E5ECF6",
          "polar": {
           "bgcolor": "#E5ECF6",
           "angularaxis": {
            "gridcolor": "white",
            "linecolor": "white",
            "ticks": ""
           },
           "radialaxis": {
            "gridcolor": "white",
            "linecolor": "white",
            "ticks": ""
           }
          },
          "ternary": {
           "bgcolor": "#E5ECF6",
           "aaxis": {
            "gridcolor": "white",
            "linecolor": "white",
            "ticks": ""
           },
           "baxis": {
            "gridcolor": "white",
            "linecolor": "white",
            "ticks": ""
           },
           "caxis": {
            "gridcolor": "white",
            "linecolor": "white",
            "ticks": ""
           }
          },
          "coloraxis": {
           "colorbar": {
            "outlinewidth": 0,
            "ticks": ""
           }
          },
          "colorscale": {
           "sequential": [
            [
             0.0,
             "#0d0887"
            ],
            [
             0.1111111111111111,
             "#46039f"
            ],
            [
             0.2222222222222222,
             "#7201a8"
            ],
            [
             0.3333333333333333,
             "#9c179e"
            ],
            [
             0.4444444444444444,
             "#bd3786"
            ],
            [
             0.5555555555555556,
             "#d8576b"
            ],
            [
             0.6666666666666666,
             "#ed7953"
            ],
            [
             0.7777777777777778,
             "#fb9f3a"
            ],
            [
             0.8888888888888888,
             "#fdca26"
            ],
            [
             1.0,
             "#f0f921"
            ]
           ],
           "sequentialminus": [
            [
             0.0,
             "#0d0887"
            ],
            [
             0.1111111111111111,
             "#46039f"
            ],
            [
             0.2222222222222222,
             "#7201a8"
            ],
            [
             0.3333333333333333,
             "#9c179e"
            ],
            [
             0.4444444444444444,
             "#bd3786"
            ],
            [
             0.5555555555555556,
             "#d8576b"
            ],
            [
             0.6666666666666666,
             "#ed7953"
            ],
            [
             0.7777777777777778,
             "#fb9f3a"
            ],
            [
             0.8888888888888888,
             "#fdca26"
            ],
            [
             1.0,
             "#f0f921"
            ]
           ],
           "diverging": [
            [
             0,
             "#8e0152"
            ],
            [
             0.1,
             "#c51b7d"
            ],
            [
             0.2,
             "#de77ae"
            ],
            [
             0.3,
             "#f1b6da"
            ],
            [
             0.4,
             "#fde0ef"
            ],
            [
             0.5,
             "#f7f7f7"
            ],
            [
             0.6,
             "#e6f5d0"
            ],
            [
             0.7,
             "#b8e186"
            ],
            [
             0.8,
             "#7fbc41"
            ],
            [
             0.9,
             "#4d9221"
            ],
            [
             1,
             "#276419"
            ]
           ]
          },
          "xaxis": {
           "gridcolor": "white",
           "linecolor": "white",
           "ticks": "",
           "title": {
            "standoff": 15
           },
           "zerolinecolor": "white",
           "automargin": true,
           "zerolinewidth": 2
          },
          "yaxis": {
           "gridcolor": "white",
           "linecolor": "white",
           "ticks": "",
           "title": {
            "standoff": 15
           },
           "zerolinecolor": "white",
           "automargin": true,
           "zerolinewidth": 2
          },
          "scene": {
           "xaxis": {
            "backgroundcolor": "#E5ECF6",
            "gridcolor": "white",
            "linecolor": "white",
            "showbackground": true,
            "ticks": "",
            "zerolinecolor": "white",
            "gridwidth": 2
           },
           "yaxis": {
            "backgroundcolor": "#E5ECF6",
            "gridcolor": "white",
            "linecolor": "white",
            "showbackground": true,
            "ticks": "",
            "zerolinecolor": "white",
            "gridwidth": 2
           },
           "zaxis": {
            "backgroundcolor": "#E5ECF6",
            "gridcolor": "white",
            "linecolor": "white",
            "showbackground": true,
            "ticks": "",
            "zerolinecolor": "white",
            "gridwidth": 2
           }
          },
          "shapedefaults": {
           "line": {
            "color": "#2a3f5f"
           }
          },
          "annotationdefaults": {
           "arrowcolor": "#2a3f5f",
           "arrowhead": 0,
           "arrowwidth": 1
          },
          "geo": {
           "bgcolor": "white",
           "landcolor": "#E5ECF6",
           "subunitcolor": "white",
           "showland": true,
           "showlakes": true,
           "lakecolor": "white"
          },
          "title": {
           "x": 0.05
          },
          "mapbox": {
           "style": "light"
          }
         }
        },
        "title": {
         "text": "$M_{rand}\\text{ for every 250 games for different values of }n^{∗}$"
        },
        "xaxis": {
         "title": {
          "text": "$game$"
         }
        },
        "yaxis": {
         "title": {
          "text": "$M_{rand}$"
         }
        },
        "width": 1200,
        "height": 400
       },
       "config": {
        "plotlyServerURL": "https://plot.ly"
       }
      },
      "text/html": "<div>                            <div id=\"21018f39-2c72-482b-a288-020b25579fb2\" class=\"plotly-graph-div\" style=\"height:400px; width:1200px;\"></div>            <script type=\"text/javascript\">                require([\"plotly\"], function(Plotly) {                    window.PLOTLYENV=window.PLOTLYENV || {};                                    if (document.getElementById(\"21018f39-2c72-482b-a288-020b25579fb2\")) {                    Plotly.newPlot(                        \"21018f39-2c72-482b-a288-020b25579fb2\",                        [{\"mode\":\"lines\",\"name\":\"$n^* = 1$\",\"x\":[249,499,749,999,1249,1499,1749,1999,2249,2499,2749,2999,3249,3499,3749,3999,4249,4499,4749,4999,5249,5499,5749,5999,6249,6499,6749,6999,7249,7499,7749,7999,8249,8499,8749,8999,9249,9499,9749,9999,10249,10499,10749,10999,11249,11499,11749,11999,12249,12499,12749,12999,13249,13499,13749,13999,14249,14499,14749,14999,15249,15499,15749,15999,16249,16499,16749,16999,17249,17499,17749,17999,18249,18499,18749,18999,19249,19499,19749,19999],\"y\":[-0.064,0.012,0.012,0.17,0.308,0.496,0.486,0.616,0.526,0.652,0.712,0.724,0.812,0.798,0.798,0.776,0.778,0.774,0.822,0.83,0.796,0.844,0.828,0.866,0.844,0.826,0.854,0.866,0.866,0.822,0.864,0.856,0.866,0.88,0.874,0.888,0.896,0.896,0.866,0.832,0.886,0.908,0.892,0.878,0.9,0.862,0.87,0.882,0.888,0.9,0.902,0.876,0.904,0.882,0.89,0.886,0.908,0.928,0.856,0.91,0.908,0.906,0.904,0.938,0.884,0.9,0.908,0.89,0.898,0.904,0.898,0.904,0.918,0.9,0.894,0.926,0.902,0.89,0.88,0.884],\"type\":\"scatter\"},{\"mode\":\"lines\",\"name\":\"$n^* = 4000$\",\"x\":[249,499,749,999,1249,1499,1749,1999,2249,2499,2749,2999,3249,3499,3749,3999,4249,4499,4749,4999,5249,5499,5749,5999,6249,6499,6749,6999,7249,7499,7749,7999,8249,8499,8749,8999,9249,9499,9749,9999,10249,10499,10749,10999,11249,11499,11749,11999,12249,12499,12749,12999,13249,13499,13749,13999,14249,14499,14749,14999,15249,15499,15749,15999,16249,16499,16749,16999,17249,17499,17749,17999,18249,18499,18749,18999,19249,19499,19749,19999],\"y\":[-0.86,-0.774,0.222,0.304,0.574,0.728,0.732,0.796,0.8,0.796,0.808,0.854,0.818,0.854,0.896,0.874,0.9,0.884,0.878,0.914,0.89,0.916,0.912,0.916,0.922,0.926,0.942,0.934,0.93,0.918,0.938,0.912,0.912,0.944,0.948,0.928,0.914,0.948,0.924,0.908,0.942,0.938,0.92,0.94,0.942,0.95,0.93,0.946,0.952,0.938,0.936,0.944,0.922,0.958,0.954,0.94,0.942,0.954,0.95,0.95,0.924,0.95,0.958,0.938,0.934,0.928,0.944,0.958,0.942,0.948,0.95,0.958,0.962,0.94,0.952,0.934,0.944,0.952,0.942,0.896],\"type\":\"scatter\"},{\"mode\":\"lines\",\"name\":\"$n^* = 8000$\",\"x\":[249,499,749,999,1249,1499,1749,1999,2249,2499,2749,2999,3249,3499,3749,3999,4249,4499,4749,4999,5249,5499,5749,5999,6249,6499,6749,6999,7249,7499,7749,7999,8249,8499,8749,8999,9249,9499,9749,9999,10249,10499,10749,10999,11249,11499,11749,11999,12249,12499,12749,12999,13249,13499,13749,13999,14249,14499,14749,14999,15249,15499,15749,15999,16249,16499,16749,16999,17249,17499,17749,17999,18249,18499,18749,18999,19249,19499,19749,19999],\"y\":[-1.0,-0.622,-0.71,-0.13,0.068,0.21,0.322,0.376,0.4,0.482,0.498,0.572,0.56,0.616,0.698,0.686,0.758,0.73,0.786,0.79,0.82,0.762,0.826,0.802,0.856,0.866,0.89,0.884,0.838,0.862,0.88,0.87,0.89,0.826,0.846,0.864,0.828,0.884,0.904,0.882,0.878,0.894,0.866,0.89,0.912,0.886,0.876,0.876,0.914,0.9,0.916,0.918,0.902,0.92,0.914,0.906,0.914,0.916,0.936,0.914,0.948,0.94,0.94,0.944,0.942,0.95,0.928,0.922,0.952,0.91,0.936,0.934,0.912,0.932,0.934,0.94,0.934,0.962,0.958,0.958],\"type\":\"scatter\"},{\"mode\":\"lines\",\"name\":\"$n^* = 12000$\",\"x\":[249,499,749,999,1249,1499,1749,1999,2249,2499,2749,2999,3249,3499,3749,3999,4249,4499,4749,4999,5249,5499,5749,5999,6249,6499,6749,6999,7249,7499,7749,7999,8249,8499,8749,8999,9249,9499,9749,9999,10249,10499,10749,10999,11249,11499,11749,11999,12249,12499,12749,12999,13249,13499,13749,13999,14249,14499,14749,14999,15249,15499,15749,15999,16249,16499,16749,16999,17249,17499,17749,17999,18249,18499,18749,18999,19249,19499,19749,19999],\"y\":[-0.962,-0.708,-0.468,-0.104,0.26,0.544,0.618,0.638,0.782,0.754,0.836,0.836,0.822,0.866,0.85,0.86,0.902,0.898,0.916,0.898,0.938,0.926,0.93,0.918,0.892,0.932,0.924,0.898,0.928,0.922,0.958,0.944,0.924,0.934,0.914,0.9,0.902,0.934,0.94,0.948,0.904,0.92,0.938,0.938,0.948,0.924,0.926,0.928,0.916,0.946,0.952,0.924,0.924,0.936,0.932,0.926,0.914,0.95,0.926,0.934,0.946,0.932,0.924,0.938,0.958,0.956,0.95,0.944,0.94,0.932,0.926,0.944,0.946,0.938,0.93,0.93,0.936,0.968,0.938,0.946],\"type\":\"scatter\"},{\"mode\":\"lines\",\"name\":\"$n^* = 16000$\",\"x\":[249,499,749,999,1249,1499,1749,1999,2249,2499,2749,2999,3249,3499,3749,3999,4249,4499,4749,4999,5249,5499,5749,5999,6249,6499,6749,6999,7249,7499,7749,7999,8249,8499,8749,8999,9249,9499,9749,9999,10249,10499,10749,10999,11249,11499,11749,11999,12249,12499,12749,12999,13249,13499,13749,13999,14249,14499,14749,14999,15249,15499,15749,15999,16249,16499,16749,16999,17249,17499,17749,17999,18249,18499,18749,18999,19249,19499,19749,19999],\"y\":[-0.992,-0.82,-0.482,-0.354,0.088,0.332,0.454,0.638,0.754,0.788,0.792,0.846,0.848,0.912,0.858,0.89,0.87,0.882,0.86,0.874,0.88,0.878,0.91,0.926,0.898,0.934,0.904,0.888,0.958,0.93,0.93,0.9,0.928,0.936,0.936,0.946,0.926,0.958,0.926,0.964,0.946,0.934,0.946,0.948,0.944,0.93,0.944,0.928,0.932,0.948,0.942,0.93,0.944,0.934,0.938,0.942,0.932,0.948,0.944,0.92,0.96,0.924,0.926,0.94,0.964,0.922,0.93,0.95,0.96,0.936,0.928,0.962,0.962,0.936,0.946,0.952,0.958,0.964,0.958,0.962],\"type\":\"scatter\"},{\"mode\":\"lines\",\"name\":\"$n^* = 20000$\",\"x\":[249,499,749,999,1249,1499,1749,1999,2249,2499,2749,2999,3249,3499,3749,3999,4249,4499,4749,4999,5249,5499,5749,5999,6249,6499,6749,6999,7249,7499,7749,7999,8249,8499,8749,8999,9249,9499,9749,9999,10249,10499,10749,10999,11249,11499,11749,11999,12249,12499,12749,12999,13249,13499,13749,13999,14249,14499,14749,14999,15249,15499,15749,15999,16249,16499,16749,16999,17249,17499,17749,17999,18249,18499,18749,18999,19249,19499,19749,19999],\"y\":[-0.96,-0.776,-0.608,-0.354,0.448,0.552,0.598,0.736,0.752,0.786,0.81,0.782,0.824,0.826,0.8,0.808,0.856,0.86,0.858,0.868,0.832,0.838,0.862,0.85,0.92,0.87,0.908,0.916,0.928,0.922,0.916,0.914,0.904,0.94,0.916,0.922,0.898,0.896,0.926,0.956,0.92,0.916,0.906,0.918,0.9,0.934,0.924,0.928,0.92,0.946,0.912,0.92,0.924,0.938,0.93,0.928,0.954,0.938,0.938,0.948,0.928,0.954,0.92,0.922,0.956,0.952,0.94,0.928,0.924,0.936,0.93,0.942,0.958,0.954,0.92,0.928,0.95,0.934,0.956,0.94],\"type\":\"scatter\"},{\"mode\":\"lines\",\"name\":\"$n^* = 24000$\",\"x\":[249,499,749,999,1249,1499,1749,1999,2249,2499,2749,2999,3249,3499,3749,3999,4249,4499,4749,4999,5249,5499,5749,5999,6249,6499,6749,6999,7249,7499,7749,7999,8249,8499,8749,8999,9249,9499,9749,9999,10249,10499,10749,10999,11249,11499,11749,11999,12249,12499,12749,12999,13249,13499,13749,13999,14249,14499,14749,14999,15249,15499,15749,15999,16249,16499,16749,16999,17249,17499,17749,17999,18249,18499,18749,18999,19249,19499,19749,19999],\"y\":[-0.964,-0.366,-0.316,-0.54,0.056,0.266,0.526,0.672,0.794,0.706,0.694,0.738,0.794,0.864,0.786,0.824,0.868,0.818,0.822,0.876,0.892,0.894,0.928,0.898,0.88,0.916,0.902,0.914,0.906,0.944,0.872,0.924,0.924,0.918,0.904,0.9,0.916,0.898,0.91,0.894,0.924,0.928,0.922,0.894,0.926,0.952,0.906,0.928,0.902,0.922,0.93,0.936,0.962,0.938,0.942,0.93,0.95,0.942,0.938,0.936,0.944,0.916,0.956,0.942,0.922,0.952,0.936,0.926,0.944,0.944,0.924,0.954,0.954,0.942,0.934,0.922,0.94,0.946,0.954,0.95],\"type\":\"scatter\"},{\"mode\":\"lines\",\"name\":\"$n^* = 28000$\",\"x\":[249,499,749,999,1249,1499,1749,1999,2249,2499,2749,2999,3249,3499,3749,3999,4249,4499,4749,4999,5249,5499,5749,5999,6249,6499,6749,6999,7249,7499,7749,7999,8249,8499,8749,8999,9249,9499,9749,9999,10249,10499,10749,10999,11249,11499,11749,11999,12249,12499,12749,12999,13249,13499,13749,13999,14249,14499,14749,14999,15249,15499,15749,15999,16249,16499,16749,16999,17249,17499,17749,17999,18249,18499,18749,18999,19249,19499,19749,19999],\"y\":[-0.796,-0.5,-0.584,-0.616,-0.048,0.138,0.466,0.518,0.62,0.576,0.684,0.702,0.744,0.778,0.81,0.812,0.798,0.832,0.834,0.832,0.82,0.846,0.802,0.86,0.884,0.858,0.896,0.864,0.848,0.872,0.858,0.858,0.846,0.88,0.864,0.868,0.896,0.86,0.888,0.858,0.912,0.886,0.864,0.862,0.908,0.896,0.876,0.886,0.896,0.918,0.92,0.926,0.932,0.902,0.924,0.914,0.906,0.904,0.93,0.924,0.922,0.922,0.92,0.9,0.924,0.9,0.918,0.894,0.924,0.936,0.908,0.928,0.91,0.9,0.928,0.934,0.944,0.918,0.894,0.922],\"type\":\"scatter\"},{\"mode\":\"lines\",\"name\":\"$n^* = 32000$\",\"x\":[249,499,749,999,1249,1499,1749,1999,2249,2499,2749,2999,3249,3499,3749,3999,4249,4499,4749,4999,5249,5499,5749,5999,6249,6499,6749,6999,7249,7499,7749,7999,8249,8499,8749,8999,9249,9499,9749,9999,10249,10499,10749,10999,11249,11499,11749,11999,12249,12499,12749,12999,13249,13499,13749,13999,14249,14499,14749,14999,15249,15499,15749,15999,16249,16499,16749,16999,17249,17499,17749,17999,18249,18499,18749,18999,19249,19499,19749,19999],\"y\":[-0.656,-0.586,-0.504,-0.302,0.104,0.312,0.422,0.536,0.652,0.652,0.792,0.69,0.758,0.784,0.77,0.832,0.778,0.8,0.828,0.828,0.874,0.862,0.894,0.86,0.834,0.888,0.864,0.89,0.9,0.9,0.86,0.896,0.862,0.916,0.89,0.872,0.924,0.906,0.886,0.89,0.906,0.926,0.908,0.894,0.914,0.926,0.92,0.92,0.91,0.958,0.926,0.922,0.906,0.872,0.91,0.928,0.936,0.92,0.94,0.93,0.914,0.926,0.914,0.934,0.948,0.962,0.922,0.91,0.924,0.918,0.914,0.936,0.932,0.918,0.92,0.92,0.934,0.91,0.928,0.92],\"type\":\"scatter\"},{\"mode\":\"lines\",\"name\":\"$n^* = 36000$\",\"x\":[249,499,749,999,1249,1499,1749,1999,2249,2499,2749,2999,3249,3499,3749,3999,4249,4499,4749,4999,5249,5499,5749,5999,6249,6499,6749,6999,7249,7499,7749,7999,8249,8499,8749,8999,9249,9499,9749,9999,10249,10499,10749,10999,11249,11499,11749,11999,12249,12499,12749,12999,13249,13499,13749,13999,14249,14499,14749,14999,15249,15499,15749,15999,16249,16499,16749,16999,17249,17499,17749,17999,18249,18499,18749,18999,19249,19499,19749,19999],\"y\":[-0.852,-0.854,-0.49,-0.38,0.102,0.52,0.586,0.676,0.638,0.638,0.66,0.662,0.716,0.71,0.724,0.776,0.79,0.842,0.83,0.808,0.83,0.866,0.786,0.878,0.884,0.874,0.894,0.888,0.93,0.878,0.9,0.862,0.898,0.924,0.902,0.93,0.934,0.924,0.916,0.916,0.904,0.888,0.938,0.92,0.914,0.926,0.922,0.928,0.936,0.95,0.936,0.926,0.936,0.95,0.912,0.914,0.954,0.934,0.924,0.952,0.964,0.946,0.922,0.948,0.94,0.946,0.948,0.95,0.946,0.93,0.946,0.94,0.95,0.956,0.938,0.946,0.946,0.942,0.924,0.926],\"type\":\"scatter\"},{\"mode\":\"lines\",\"name\":\"$n^* = 40000$\",\"x\":[249,499,749,999,1249,1499,1749,1999,2249,2499,2749,2999,3249,3499,3749,3999,4249,4499,4749,4999,5249,5499,5749,5999,6249,6499,6749,6999,7249,7499,7749,7999,8249,8499,8749,8999,9249,9499,9749,9999,10249,10499,10749,10999,11249,11499,11749,11999,12249,12499,12749,12999,13249,13499,13749,13999,14249,14499,14749,14999,15249,15499,15749,15999,16249,16499,16749,16999,17249,17499,17749,17999,18249,18499,18749,18999,19249,19499,19749,19999],\"y\":[-0.412,-0.694,-0.534,0.13,0.296,0.476,0.686,0.688,0.782,0.768,0.762,0.812,0.824,0.862,0.828,0.862,0.886,0.918,0.886,0.898,0.926,0.928,0.904,0.914,0.916,0.924,0.94,0.94,0.946,0.912,0.92,0.92,0.924,0.934,0.942,0.924,0.94,0.936,0.926,0.894,0.922,0.906,0.948,0.93,0.924,0.934,0.914,0.93,0.914,0.958,0.942,0.936,0.938,0.936,0.944,0.93,0.938,0.934,0.946,0.934,0.936,0.94,0.946,0.944,0.95,0.936,0.952,0.93,0.944,0.912,0.912,0.932,0.924,0.944,0.948,0.942,0.91,0.964,0.95,0.9],\"type\":\"scatter\"}],                        {\"template\":{\"data\":{\"histogram2dcontour\":[{\"type\":\"histogram2dcontour\",\"colorbar\":{\"outlinewidth\":0,\"ticks\":\"\"},\"colorscale\":[[0.0,\"#0d0887\"],[0.1111111111111111,\"#46039f\"],[0.2222222222222222,\"#7201a8\"],[0.3333333333333333,\"#9c179e\"],[0.4444444444444444,\"#bd3786\"],[0.5555555555555556,\"#d8576b\"],[0.6666666666666666,\"#ed7953\"],[0.7777777777777778,\"#fb9f3a\"],[0.8888888888888888,\"#fdca26\"],[1.0,\"#f0f921\"]]}],\"choropleth\":[{\"type\":\"choropleth\",\"colorbar\":{\"outlinewidth\":0,\"ticks\":\"\"}}],\"histogram2d\":[{\"type\":\"histogram2d\",\"colorbar\":{\"outlinewidth\":0,\"ticks\":\"\"},\"colorscale\":[[0.0,\"#0d0887\"],[0.1111111111111111,\"#46039f\"],[0.2222222222222222,\"#7201a8\"],[0.3333333333333333,\"#9c179e\"],[0.4444444444444444,\"#bd3786\"],[0.5555555555555556,\"#d8576b\"],[0.6666666666666666,\"#ed7953\"],[0.7777777777777778,\"#fb9f3a\"],[0.8888888888888888,\"#fdca26\"],[1.0,\"#f0f921\"]]}],\"heatmap\":[{\"type\":\"heatmap\",\"colorbar\":{\"outlinewidth\":0,\"ticks\":\"\"},\"colorscale\":[[0.0,\"#0d0887\"],[0.1111111111111111,\"#46039f\"],[0.2222222222222222,\"#7201a8\"],[0.3333333333333333,\"#9c179e\"],[0.4444444444444444,\"#bd3786\"],[0.5555555555555556,\"#d8576b\"],[0.6666666666666666,\"#ed7953\"],[0.7777777777777778,\"#fb9f3a\"],[0.8888888888888888,\"#fdca26\"],[1.0,\"#f0f921\"]]}],\"heatmapgl\":[{\"type\":\"heatmapgl\",\"colorbar\":{\"outlinewidth\":0,\"ticks\":\"\"},\"colorscale\":[[0.0,\"#0d0887\"],[0.1111111111111111,\"#46039f\"],[0.2222222222222222,\"#7201a8\"],[0.3333333333333333,\"#9c179e\"],[0.4444444444444444,\"#bd3786\"],[0.5555555555555556,\"#d8576b\"],[0.6666666666666666,\"#ed7953\"],[0.7777777777777778,\"#fb9f3a\"],[0.8888888888888888,\"#fdca26\"],[1.0,\"#f0f921\"]]}],\"contourcarpet\":[{\"type\":\"contourcarpet\",\"colorbar\":{\"outlinewidth\":0,\"ticks\":\"\"}}],\"contour\":[{\"type\":\"contour\",\"colorbar\":{\"outlinewidth\":0,\"ticks\":\"\"},\"colorscale\":[[0.0,\"#0d0887\"],[0.1111111111111111,\"#46039f\"],[0.2222222222222222,\"#7201a8\"],[0.3333333333333333,\"#9c179e\"],[0.4444444444444444,\"#bd3786\"],[0.5555555555555556,\"#d8576b\"],[0.6666666666666666,\"#ed7953\"],[0.7777777777777778,\"#fb9f3a\"],[0.8888888888888888,\"#fdca26\"],[1.0,\"#f0f921\"]]}],\"surface\":[{\"type\":\"surface\",\"colorbar\":{\"outlinewidth\":0,\"ticks\":\"\"},\"colorscale\":[[0.0,\"#0d0887\"],[0.1111111111111111,\"#46039f\"],[0.2222222222222222,\"#7201a8\"],[0.3333333333333333,\"#9c179e\"],[0.4444444444444444,\"#bd3786\"],[0.5555555555555556,\"#d8576b\"],[0.6666666666666666,\"#ed7953\"],[0.7777777777777778,\"#fb9f3a\"],[0.8888888888888888,\"#fdca26\"],[1.0,\"#f0f921\"]]}],\"mesh3d\":[{\"type\":\"mesh3d\",\"colorbar\":{\"outlinewidth\":0,\"ticks\":\"\"}}],\"scatter\":[{\"fillpattern\":{\"fillmode\":\"overlay\",\"size\":10,\"solidity\":0.2},\"type\":\"scatter\"}],\"parcoords\":[{\"type\":\"parcoords\",\"line\":{\"colorbar\":{\"outlinewidth\":0,\"ticks\":\"\"}}}],\"scatterpolargl\":[{\"type\":\"scatterpolargl\",\"marker\":{\"colorbar\":{\"outlinewidth\":0,\"ticks\":\"\"}}}],\"bar\":[{\"error_x\":{\"color\":\"#2a3f5f\"},\"error_y\":{\"color\":\"#2a3f5f\"},\"marker\":{\"line\":{\"color\":\"#E5ECF6\",\"width\":0.5},\"pattern\":{\"fillmode\":\"overlay\",\"size\":10,\"solidity\":0.2}},\"type\":\"bar\"}],\"scattergeo\":[{\"type\":\"scattergeo\",\"marker\":{\"colorbar\":{\"outlinewidth\":0,\"ticks\":\"\"}}}],\"scatterpolar\":[{\"type\":\"scatterpolar\",\"marker\":{\"colorbar\":{\"outlinewidth\":0,\"ticks\":\"\"}}}],\"histogram\":[{\"marker\":{\"pattern\":{\"fillmode\":\"overlay\",\"size\":10,\"solidity\":0.2}},\"type\":\"histogram\"}],\"scattergl\":[{\"type\":\"scattergl\",\"marker\":{\"colorbar\":{\"outlinewidth\":0,\"ticks\":\"\"}}}],\"scatter3d\":[{\"type\":\"scatter3d\",\"line\":{\"colorbar\":{\"outlinewidth\":0,\"ticks\":\"\"}},\"marker\":{\"colorbar\":{\"outlinewidth\":0,\"ticks\":\"\"}}}],\"scattermapbox\":[{\"type\":\"scattermapbox\",\"marker\":{\"colorbar\":{\"outlinewidth\":0,\"ticks\":\"\"}}}],\"scatterternary\":[{\"type\":\"scatterternary\",\"marker\":{\"colorbar\":{\"outlinewidth\":0,\"ticks\":\"\"}}}],\"scattercarpet\":[{\"type\":\"scattercarpet\",\"marker\":{\"colorbar\":{\"outlinewidth\":0,\"ticks\":\"\"}}}],\"carpet\":[{\"aaxis\":{\"endlinecolor\":\"#2a3f5f\",\"gridcolor\":\"white\",\"linecolor\":\"white\",\"minorgridcolor\":\"white\",\"startlinecolor\":\"#2a3f5f\"},\"baxis\":{\"endlinecolor\":\"#2a3f5f\",\"gridcolor\":\"white\",\"linecolor\":\"white\",\"minorgridcolor\":\"white\",\"startlinecolor\":\"#2a3f5f\"},\"type\":\"carpet\"}],\"table\":[{\"cells\":{\"fill\":{\"color\":\"#EBF0F8\"},\"line\":{\"color\":\"white\"}},\"header\":{\"fill\":{\"color\":\"#C8D4E3\"},\"line\":{\"color\":\"white\"}},\"type\":\"table\"}],\"barpolar\":[{\"marker\":{\"line\":{\"color\":\"#E5ECF6\",\"width\":0.5},\"pattern\":{\"fillmode\":\"overlay\",\"size\":10,\"solidity\":0.2}},\"type\":\"barpolar\"}],\"pie\":[{\"automargin\":true,\"type\":\"pie\"}]},\"layout\":{\"autotypenumbers\":\"strict\",\"colorway\":[\"#636efa\",\"#EF553B\",\"#00cc96\",\"#ab63fa\",\"#FFA15A\",\"#19d3f3\",\"#FF6692\",\"#B6E880\",\"#FF97FF\",\"#FECB52\"],\"font\":{\"color\":\"#2a3f5f\"},\"hovermode\":\"closest\",\"hoverlabel\":{\"align\":\"left\"},\"paper_bgcolor\":\"white\",\"plot_bgcolor\":\"#E5ECF6\",\"polar\":{\"bgcolor\":\"#E5ECF6\",\"angularaxis\":{\"gridcolor\":\"white\",\"linecolor\":\"white\",\"ticks\":\"\"},\"radialaxis\":{\"gridcolor\":\"white\",\"linecolor\":\"white\",\"ticks\":\"\"}},\"ternary\":{\"bgcolor\":\"#E5ECF6\",\"aaxis\":{\"gridcolor\":\"white\",\"linecolor\":\"white\",\"ticks\":\"\"},\"baxis\":{\"gridcolor\":\"white\",\"linecolor\":\"white\",\"ticks\":\"\"},\"caxis\":{\"gridcolor\":\"white\",\"linecolor\":\"white\",\"ticks\":\"\"}},\"coloraxis\":{\"colorbar\":{\"outlinewidth\":0,\"ticks\":\"\"}},\"colorscale\":{\"sequential\":[[0.0,\"#0d0887\"],[0.1111111111111111,\"#46039f\"],[0.2222222222222222,\"#7201a8\"],[0.3333333333333333,\"#9c179e\"],[0.4444444444444444,\"#bd3786\"],[0.5555555555555556,\"#d8576b\"],[0.6666666666666666,\"#ed7953\"],[0.7777777777777778,\"#fb9f3a\"],[0.8888888888888888,\"#fdca26\"],[1.0,\"#f0f921\"]],\"sequentialminus\":[[0.0,\"#0d0887\"],[0.1111111111111111,\"#46039f\"],[0.2222222222222222,\"#7201a8\"],[0.3333333333333333,\"#9c179e\"],[0.4444444444444444,\"#bd3786\"],[0.5555555555555556,\"#d8576b\"],[0.6666666666666666,\"#ed7953\"],[0.7777777777777778,\"#fb9f3a\"],[0.8888888888888888,\"#fdca26\"],[1.0,\"#f0f921\"]],\"diverging\":[[0,\"#8e0152\"],[0.1,\"#c51b7d\"],[0.2,\"#de77ae\"],[0.3,\"#f1b6da\"],[0.4,\"#fde0ef\"],[0.5,\"#f7f7f7\"],[0.6,\"#e6f5d0\"],[0.7,\"#b8e186\"],[0.8,\"#7fbc41\"],[0.9,\"#4d9221\"],[1,\"#276419\"]]},\"xaxis\":{\"gridcolor\":\"white\",\"linecolor\":\"white\",\"ticks\":\"\",\"title\":{\"standoff\":15},\"zerolinecolor\":\"white\",\"automargin\":true,\"zerolinewidth\":2},\"yaxis\":{\"gridcolor\":\"white\",\"linecolor\":\"white\",\"ticks\":\"\",\"title\":{\"standoff\":15},\"zerolinecolor\":\"white\",\"automargin\":true,\"zerolinewidth\":2},\"scene\":{\"xaxis\":{\"backgroundcolor\":\"#E5ECF6\",\"gridcolor\":\"white\",\"linecolor\":\"white\",\"showbackground\":true,\"ticks\":\"\",\"zerolinecolor\":\"white\",\"gridwidth\":2},\"yaxis\":{\"backgroundcolor\":\"#E5ECF6\",\"gridcolor\":\"white\",\"linecolor\":\"white\",\"showbackground\":true,\"ticks\":\"\",\"zerolinecolor\":\"white\",\"gridwidth\":2},\"zaxis\":{\"backgroundcolor\":\"#E5ECF6\",\"gridcolor\":\"white\",\"linecolor\":\"white\",\"showbackground\":true,\"ticks\":\"\",\"zerolinecolor\":\"white\",\"gridwidth\":2}},\"shapedefaults\":{\"line\":{\"color\":\"#2a3f5f\"}},\"annotationdefaults\":{\"arrowcolor\":\"#2a3f5f\",\"arrowhead\":0,\"arrowwidth\":1},\"geo\":{\"bgcolor\":\"white\",\"landcolor\":\"#E5ECF6\",\"subunitcolor\":\"white\",\"showland\":true,\"showlakes\":true,\"lakecolor\":\"white\"},\"title\":{\"x\":0.05},\"mapbox\":{\"style\":\"light\"}}},\"title\":{\"text\":\"$M_{rand}\\\\text{ for every 250 games for different values of }n^{\\u2217}$\"},\"xaxis\":{\"title\":{\"text\":\"$game$\"}},\"yaxis\":{\"title\":{\"text\":\"$M_{rand}$\"}},\"width\":1200,\"height\":400},                        {\"responsive\": true}                    ).then(function(){\n                            \nvar gd = document.getElementById('21018f39-2c72-482b-a288-020b25579fb2');\nvar x = new MutationObserver(function (mutations, observer) {{\n        var display = window.getComputedStyle(gd).display;\n        if (!display || display === 'none') {{\n            console.log([gd, 'removed!']);\n            Plotly.purge(gd);\n            observer.disconnect();\n        }}\n}});\n\n// Listen for the removal of the full notebook cells\nvar notebookContainer = gd.closest('#notebook-container');\nif (notebookContainer) {{\n    x.observe(notebookContainer, {childList: true});\n}}\n\n// Listen for the clearing of the current output cell\nvar outputEl = gd.closest('.output');\nif (outputEl) {{\n    x.observe(outputEl, {childList: true});\n}}\n\n                        })                };                });            </script>        </div>"
     },
     "metadata": {},
     "output_type": "display_data"
    }
   ],
   "source": [
    "fig = go.Figure()\n",
    "\n",
    "for i, y_i in enumerate(n_star_M_rands):\n",
    "    fig.add_trace(go.Scatter(x=x, y=y_i, mode='lines',name=r'$n^* = %d$' % n_star_list[i]))\n",
    "\n",
    "fig.update_layout(\n",
    "    title=r'$M_{rand}\\text{ for every %d games for different values of }n^{∗}$' % averaging_steps,\n",
    "    xaxis_title=r'$game$',\n",
    "    yaxis_title=r'$M_{rand}$',\n",
    "    width=1200, height=400\n",
    ")\n",
    "\n",
    "fig.show()"
   ]
  },
  {
   "cell_type": "markdown",
   "metadata": {
    "collapsed": false,
    "pycharm": {
     "name": "#%% md\n"
    }
   },
   "source": [
    "### Question 14"
   ]
  },
  {
   "cell_type": "code",
   "execution_count": 35,
   "metadata": {
    "collapsed": false,
    "pycharm": {
     "name": "#%%\n"
    }
   },
   "outputs": [
    {
     "name": "stdout",
     "output_type": "stream",
     "text": [
      "[0.0, 0.1, 0.2, 0.3, 0.4, 0.5, 0.6, 0.7, 0.8, 0.9, 1.0]\n",
      "Current eps: 0.00\n"
     ]
    },
    {
     "name": "stderr",
     "output_type": "stream",
     "text": [
      "100%|██████████| 20000/20000 [09:35<00:00, 34.75it/s]\n"
     ]
    },
    {
     "name": "stdout",
     "output_type": "stream",
     "text": [
      "Current eps: 0.10\n"
     ]
    },
    {
     "name": "stderr",
     "output_type": "stream",
     "text": [
      "100%|██████████| 20000/20000 [08:57<00:00, 37.21it/s]\n"
     ]
    },
    {
     "name": "stdout",
     "output_type": "stream",
     "text": [
      "Current eps: 0.20\n"
     ]
    },
    {
     "name": "stderr",
     "output_type": "stream",
     "text": [
      "100%|██████████| 20000/20000 [08:34<00:00, 38.84it/s]\n"
     ]
    },
    {
     "name": "stdout",
     "output_type": "stream",
     "text": [
      "Current eps: 0.30\n"
     ]
    },
    {
     "name": "stderr",
     "output_type": "stream",
     "text": [
      "100%|██████████| 20000/20000 [08:34<00:00, 38.87it/s]\n"
     ]
    },
    {
     "name": "stdout",
     "output_type": "stream",
     "text": [
      "Current eps: 0.40\n"
     ]
    },
    {
     "name": "stderr",
     "output_type": "stream",
     "text": [
      "100%|██████████| 20000/20000 [08:01<00:00, 41.54it/s]\n"
     ]
    },
    {
     "name": "stdout",
     "output_type": "stream",
     "text": [
      "Current eps: 0.50\n"
     ]
    },
    {
     "name": "stderr",
     "output_type": "stream",
     "text": [
      "100%|██████████| 20000/20000 [07:48<00:00, 42.70it/s] \n"
     ]
    },
    {
     "name": "stdout",
     "output_type": "stream",
     "text": [
      "Current eps: 0.60\n"
     ]
    },
    {
     "name": "stderr",
     "output_type": "stream",
     "text": [
      "100%|██████████| 20000/20000 [07:51<00:00, 42.42it/s] \n"
     ]
    },
    {
     "name": "stdout",
     "output_type": "stream",
     "text": [
      "Current eps: 0.70\n"
     ]
    },
    {
     "name": "stderr",
     "output_type": "stream",
     "text": [
      "100%|██████████| 20000/20000 [07:28<00:00, 44.55it/s] \n"
     ]
    },
    {
     "name": "stdout",
     "output_type": "stream",
     "text": [
      "Current eps: 0.80\n"
     ]
    },
    {
     "name": "stderr",
     "output_type": "stream",
     "text": [
      "100%|██████████| 20000/20000 [07:05<00:00, 46.99it/s] \n"
     ]
    },
    {
     "name": "stdout",
     "output_type": "stream",
     "text": [
      "Current eps: 0.90\n"
     ]
    },
    {
     "name": "stderr",
     "output_type": "stream",
     "text": [
      "100%|██████████| 20000/20000 [06:52<00:00, 48.43it/s] \n"
     ]
    },
    {
     "name": "stdout",
     "output_type": "stream",
     "text": [
      "Current eps: 1.00\n"
     ]
    },
    {
     "name": "stderr",
     "output_type": "stream",
     "text": [
      "100%|██████████| 20000/20000 [06:43<00:00, 49.60it/s] \n"
     ]
    }
   ],
   "source": [
    "n_star = 4000\n",
    "n_episodes = 20000\n",
    "averaging_steps = 250\n",
    "\n",
    "env = TictactoeEnv()\n",
    "\n",
    "\n",
    "eps_list = [x for x in np.linspace(0, 1, 11)]\n",
    "print([round(ep,2) for ep in eps_list])\n",
    "eps_rewards = []\n",
    "eps_M_opts = []\n",
    "eps_M_rands = []\n",
    "eps_losses = []\n",
    "\n",
    "for eps in eps_list:\n",
    "    print('Current eps: %.2f' % eps)\n",
    "    q_player = DeepVariableEpsilonQPlayer(0.8, 0.1, n_star, None, capacity=10000, batch_size=64, lr=5e-5)\n",
    "    other_player = OptimalPlayer(epsilon=eps)\n",
    "\n",
    "    rewards, M_opts, M_rands, x, losses = deep_run_episodes(n_episodes, q_player, other_player, update_epsilon=True)\n",
    "\n",
    "    eps_rewards.append(rewards)\n",
    "    eps_M_opts.append(M_opts)\n",
    "    eps_M_rands.append(M_rands)\n",
    "    eps_losses.append(losses)\n",
    "\n",
    "# Save data\n",
    "with open('question_14.pickle', 'wb') as f:\n",
    "    pickle.dump((eps_list, eps_rewards, eps_M_opts, eps_M_rands, eps_losses), f)"
   ]
  },
  {
   "cell_type": "code",
   "execution_count": 36,
   "metadata": {
    "collapsed": false,
    "pycharm": {
     "name": "#%%\n"
    }
   },
   "outputs": [],
   "source": [
    "# Load data\n",
    "\n",
    "with open('question_14.pickle', 'rb') as f:\n",
    "    eps_list, eps_rewards, eps_M_opts, eps_M_rands, eps_losses =  pickle.load(f)"
   ]
  },
  {
   "cell_type": "code",
   "execution_count": 37,
   "metadata": {
    "collapsed": false,
    "pycharm": {
     "name": "#%%\n"
    }
   },
   "outputs": [
    {
     "data": {
      "application/vnd.plotly.v1+json": {
       "data": [
        {
         "mode": "lines",
         "name": "$\\epsilon_{opt} = 0.00$",
         "x": [
          249,
          499,
          749,
          999,
          1249,
          1499,
          1749,
          1999,
          2249,
          2499,
          2749,
          2999,
          3249,
          3499,
          3749,
          3999,
          4249,
          4499,
          4749,
          4999,
          5249,
          5499,
          5749,
          5999,
          6249,
          6499,
          6749,
          6999,
          7249,
          7499,
          7749,
          7999,
          8249,
          8499,
          8749,
          8999,
          9249,
          9499,
          9749,
          9999,
          10249,
          10499,
          10749,
          10999,
          11249,
          11499,
          11749,
          11999,
          12249,
          12499,
          12749,
          12999,
          13249,
          13499,
          13749,
          13999,
          14249,
          14499,
          14749,
          14999,
          15249,
          15499,
          15749,
          15999,
          16249,
          16499,
          16749,
          16999,
          17249,
          17499,
          17749,
          17999,
          18249,
          18499,
          18749,
          18999,
          19249,
          19499,
          19749,
          19999
         ],
         "y": [
          -1.0,
          -1.0,
          -0.914,
          -0.884,
          -0.616,
          -0.688,
          -0.24,
          0.0,
          -0.502,
          0.0,
          0.0,
          0.0,
          0.0,
          0.0,
          0.0,
          0.0,
          0.0,
          0.0,
          0.0,
          0.0,
          0.0,
          0.0,
          0.0,
          0.0,
          0.0,
          0.0,
          0.0,
          0.0,
          0.0,
          0.0,
          0.0,
          0.0,
          0.0,
          0.0,
          0.0,
          0.0,
          0.0,
          0.0,
          0.0,
          0.0,
          0.0,
          0.0,
          0.0,
          0.0,
          0.0,
          0.0,
          0.0,
          0.0,
          0.0,
          0.0,
          0.0,
          0.0,
          0.0,
          0.0,
          0.0,
          0.0,
          0.0,
          0.0,
          0.0,
          0.0,
          0.0,
          0.0,
          0.0,
          0.0,
          0.0,
          0.0,
          0.0,
          0.0,
          0.0,
          0.0,
          0.0,
          0.0,
          0.0,
          0.0,
          0.0,
          0.0,
          0.0,
          0.0,
          0.0,
          0.0
         ],
         "type": "scatter"
        },
        {
         "mode": "lines",
         "name": "$\\epsilon_{opt} = 0.10$",
         "x": [
          249,
          499,
          749,
          999,
          1249,
          1499,
          1749,
          1999,
          2249,
          2499,
          2749,
          2999,
          3249,
          3499,
          3749,
          3999,
          4249,
          4499,
          4749,
          4999,
          5249,
          5499,
          5749,
          5999,
          6249,
          6499,
          6749,
          6999,
          7249,
          7499,
          7749,
          7999,
          8249,
          8499,
          8749,
          8999,
          9249,
          9499,
          9749,
          9999,
          10249,
          10499,
          10749,
          10999,
          11249,
          11499,
          11749,
          11999,
          12249,
          12499,
          12749,
          12999,
          13249,
          13499,
          13749,
          13999,
          14249,
          14499,
          14749,
          14999,
          15249,
          15499,
          15749,
          15999,
          16249,
          16499,
          16749,
          16999,
          17249,
          17499,
          17749,
          17999,
          18249,
          18499,
          18749,
          18999,
          19249,
          19499,
          19749,
          19999
         ],
         "y": [
          -1.0,
          -1.0,
          -0.924,
          -0.948,
          -0.542,
          -1.0,
          -0.458,
          -0.198,
          0.0,
          -0.104,
          0.0,
          0.0,
          0.0,
          -0.226,
          0.0,
          -0.258,
          -0.236,
          0.0,
          0.0,
          -0.12,
          0.0,
          0.0,
          0.0,
          0.0,
          -0.14,
          -0.05,
          0.0,
          0.0,
          0.0,
          0.0,
          0.0,
          0.0,
          0.0,
          0.0,
          0.0,
          0.0,
          0.0,
          0.0,
          0.0,
          0.0,
          0.0,
          0.0,
          0.0,
          -0.066,
          0.0,
          -0.106,
          0.0,
          -0.112,
          0.0,
          0.0,
          0.0,
          0.0,
          0.0,
          0.0,
          0.0,
          0.0,
          0.0,
          0.0,
          0.0,
          0.0,
          0.0,
          0.0,
          0.0,
          0.0,
          0.0,
          0.0,
          0.0,
          0.0,
          0.0,
          0.0,
          0.0,
          0.0,
          0.0,
          0.0,
          0.0,
          0.0,
          0.0,
          0.0,
          0.0,
          0.0
         ],
         "type": "scatter"
        },
        {
         "mode": "lines",
         "name": "$\\epsilon_{opt} = 0.20$",
         "x": [
          249,
          499,
          749,
          999,
          1249,
          1499,
          1749,
          1999,
          2249,
          2499,
          2749,
          2999,
          3249,
          3499,
          3749,
          3999,
          4249,
          4499,
          4749,
          4999,
          5249,
          5499,
          5749,
          5999,
          6249,
          6499,
          6749,
          6999,
          7249,
          7499,
          7749,
          7999,
          8249,
          8499,
          8749,
          8999,
          9249,
          9499,
          9749,
          9999,
          10249,
          10499,
          10749,
          10999,
          11249,
          11499,
          11749,
          11999,
          12249,
          12499,
          12749,
          12999,
          13249,
          13499,
          13749,
          13999,
          14249,
          14499,
          14749,
          14999,
          15249,
          15499,
          15749,
          15999,
          16249,
          16499,
          16749,
          16999,
          17249,
          17499,
          17749,
          17999,
          18249,
          18499,
          18749,
          18999,
          19249,
          19499,
          19749,
          19999
         ],
         "y": [
          -1.0,
          -1.0,
          -0.91,
          -0.8,
          -0.7,
          -0.642,
          -0.654,
          -0.222,
          -0.194,
          -0.204,
          -0.228,
          0.0,
          0.0,
          -0.202,
          -0.116,
          0.0,
          0.0,
          -0.05,
          0.0,
          0.0,
          -0.122,
          0.0,
          0.0,
          0.0,
          0.0,
          0.0,
          0.0,
          0.0,
          0.0,
          -0.096,
          -0.164,
          0.0,
          0.0,
          0.0,
          0.0,
          0.0,
          0.0,
          0.0,
          0.0,
          -0.176,
          -0.19,
          0.0,
          0.0,
          0.0,
          0.0,
          0.0,
          0.0,
          0.0,
          0.0,
          0.0,
          0.0,
          0.0,
          0.0,
          0.0,
          0.0,
          0.0,
          0.0,
          0.0,
          0.0,
          0.0,
          0.0,
          0.0,
          0.0,
          0.0,
          0.0,
          0.0,
          0.0,
          0.0,
          0.0,
          0.0,
          0.0,
          0.0,
          0.0,
          0.0,
          0.0,
          0.0,
          0.0,
          0.0,
          0.0,
          0.0
         ],
         "type": "scatter"
        },
        {
         "mode": "lines",
         "name": "$\\epsilon_{opt} = 0.30$",
         "x": [
          249,
          499,
          749,
          999,
          1249,
          1499,
          1749,
          1999,
          2249,
          2499,
          2749,
          2999,
          3249,
          3499,
          3749,
          3999,
          4249,
          4499,
          4749,
          4999,
          5249,
          5499,
          5749,
          5999,
          6249,
          6499,
          6749,
          6999,
          7249,
          7499,
          7749,
          7999,
          8249,
          8499,
          8749,
          8999,
          9249,
          9499,
          9749,
          9999,
          10249,
          10499,
          10749,
          10999,
          11249,
          11499,
          11749,
          11999,
          12249,
          12499,
          12749,
          12999,
          13249,
          13499,
          13749,
          13999,
          14249,
          14499,
          14749,
          14999,
          15249,
          15499,
          15749,
          15999,
          16249,
          16499,
          16749,
          16999,
          17249,
          17499,
          17749,
          17999,
          18249,
          18499,
          18749,
          18999,
          19249,
          19499,
          19749,
          19999
         ],
         "y": [
          -1.0,
          -1.0,
          -1.0,
          -1.0,
          -0.766,
          -0.756,
          -0.536,
          -0.642,
          -0.098,
          0.0,
          -0.238,
          -0.502,
          -0.09,
          -0.082,
          0.0,
          0.0,
          0.0,
          0.0,
          0.0,
          0.0,
          0.0,
          0.0,
          0.0,
          0.0,
          0.0,
          0.0,
          0.0,
          0.0,
          0.0,
          0.0,
          0.0,
          0.0,
          0.0,
          0.0,
          0.0,
          0.0,
          0.0,
          0.0,
          0.0,
          0.0,
          0.0,
          0.0,
          0.0,
          0.0,
          -0.102,
          0.0,
          0.0,
          0.0,
          0.0,
          0.0,
          0.0,
          0.0,
          0.0,
          0.0,
          0.0,
          0.0,
          0.0,
          0.0,
          0.0,
          -0.262,
          0.0,
          0.0,
          0.0,
          0.0,
          0.0,
          0.0,
          0.0,
          0.0,
          0.0,
          0.0,
          0.0,
          0.0,
          0.0,
          0.0,
          0.0,
          0.0,
          0.0,
          0.0,
          0.0,
          0.0
         ],
         "type": "scatter"
        },
        {
         "mode": "lines",
         "name": "$\\epsilon_{opt} = 0.40$",
         "x": [
          249,
          499,
          749,
          999,
          1249,
          1499,
          1749,
          1999,
          2249,
          2499,
          2749,
          2999,
          3249,
          3499,
          3749,
          3999,
          4249,
          4499,
          4749,
          4999,
          5249,
          5499,
          5749,
          5999,
          6249,
          6499,
          6749,
          6999,
          7249,
          7499,
          7749,
          7999,
          8249,
          8499,
          8749,
          8999,
          9249,
          9499,
          9749,
          9999,
          10249,
          10499,
          10749,
          10999,
          11249,
          11499,
          11749,
          11999,
          12249,
          12499,
          12749,
          12999,
          13249,
          13499,
          13749,
          13999,
          14249,
          14499,
          14749,
          14999,
          15249,
          15499,
          15749,
          15999,
          16249,
          16499,
          16749,
          16999,
          17249,
          17499,
          17749,
          17999,
          18249,
          18499,
          18749,
          18999,
          19249,
          19499,
          19749,
          19999
         ],
         "y": [
          -1.0,
          -1.0,
          -1.0,
          -1.0,
          -0.732,
          -0.478,
          -0.878,
          -0.528,
          -0.676,
          -0.876,
          -0.734,
          -0.766,
          -0.29,
          -0.56,
          -0.372,
          -0.412,
          -0.316,
          -0.282,
          -0.328,
          0.0,
          0.0,
          -0.184,
          0.0,
          0.0,
          0.0,
          -0.186,
          -0.194,
          -0.202,
          0.0,
          0.0,
          0.0,
          0.0,
          0.0,
          0.0,
          0.0,
          0.0,
          0.0,
          0.0,
          0.0,
          0.0,
          -0.19,
          0.0,
          0.0,
          0.0,
          0.0,
          0.0,
          0.0,
          0.0,
          0.0,
          0.0,
          0.0,
          0.0,
          -0.204,
          -0.204,
          0.0,
          -0.2,
          0.0,
          0.0,
          0.0,
          0.0,
          0.0,
          -0.16,
          -0.126,
          0.0,
          0.0,
          0.0,
          0.0,
          0.0,
          0.0,
          0.0,
          0.0,
          0.0,
          0.0,
          0.0,
          0.0,
          0.0,
          0.0,
          0.0,
          0.0,
          0.0
         ],
         "type": "scatter"
        },
        {
         "mode": "lines",
         "name": "$\\epsilon_{opt} = 0.50$",
         "x": [
          249,
          499,
          749,
          999,
          1249,
          1499,
          1749,
          1999,
          2249,
          2499,
          2749,
          2999,
          3249,
          3499,
          3749,
          3999,
          4249,
          4499,
          4749,
          4999,
          5249,
          5499,
          5749,
          5999,
          6249,
          6499,
          6749,
          6999,
          7249,
          7499,
          7749,
          7999,
          8249,
          8499,
          8749,
          8999,
          9249,
          9499,
          9749,
          9999,
          10249,
          10499,
          10749,
          10999,
          11249,
          11499,
          11749,
          11999,
          12249,
          12499,
          12749,
          12999,
          13249,
          13499,
          13749,
          13999,
          14249,
          14499,
          14749,
          14999,
          15249,
          15499,
          15749,
          15999,
          16249,
          16499,
          16749,
          16999,
          17249,
          17499,
          17749,
          17999,
          18249,
          18499,
          18749,
          18999,
          19249,
          19499,
          19749,
          19999
         ],
         "y": [
          -1.0,
          -1.0,
          -1.0,
          -0.828,
          -0.58,
          -0.688,
          -1.0,
          -0.418,
          -0.546,
          -0.88,
          -0.704,
          -0.818,
          -0.926,
          -0.69,
          -0.764,
          -0.518,
          -0.774,
          -0.352,
          -0.274,
          -0.292,
          -0.418,
          -0.586,
          -0.224,
          -0.258,
          -0.376,
          -0.336,
          -0.088,
          -0.102,
          -0.098,
          -0.096,
          -0.13,
          -0.104,
          -0.092,
          -0.112,
          -0.094,
          -0.102,
          -0.118,
          -0.114,
          -0.124,
          -0.092,
          -0.104,
          -0.086,
          -0.1,
          -0.104,
          -0.092,
          -0.088,
          -0.092,
          -0.09,
          -0.068,
          -0.102,
          -0.094,
          -0.102,
          -0.096,
          -0.078,
          -0.088,
          -0.1,
          -0.114,
          -0.098,
          -0.098,
          -0.096,
          -0.098,
          -0.096,
          -0.11,
          -0.12,
          -0.106,
          -0.086,
          -0.08,
          -0.106,
          -0.132,
          -0.102,
          -0.098,
          -0.108,
          -0.106,
          -0.1,
          -0.1,
          -0.096,
          0.0,
          0.0,
          0.0,
          0.0
         ],
         "type": "scatter"
        },
        {
         "mode": "lines",
         "name": "$\\epsilon_{opt} = 0.60$",
         "x": [
          249,
          499,
          749,
          999,
          1249,
          1499,
          1749,
          1999,
          2249,
          2499,
          2749,
          2999,
          3249,
          3499,
          3749,
          3999,
          4249,
          4499,
          4749,
          4999,
          5249,
          5499,
          5749,
          5999,
          6249,
          6499,
          6749,
          6999,
          7249,
          7499,
          7749,
          7999,
          8249,
          8499,
          8749,
          8999,
          9249,
          9499,
          9749,
          9999,
          10249,
          10499,
          10749,
          10999,
          11249,
          11499,
          11749,
          11999,
          12249,
          12499,
          12749,
          12999,
          13249,
          13499,
          13749,
          13999,
          14249,
          14499,
          14749,
          14999,
          15249,
          15499,
          15749,
          15999,
          16249,
          16499,
          16749,
          16999,
          17249,
          17499,
          17749,
          17999,
          18249,
          18499,
          18749,
          18999,
          19249,
          19499,
          19749,
          19999
         ],
         "y": [
          -1.0,
          -1.0,
          -1.0,
          -0.866,
          -1.0,
          -1.0,
          -0.914,
          -0.888,
          -0.646,
          -0.436,
          -0.468,
          -0.202,
          -0.196,
          -0.408,
          -0.114,
          -0.108,
          -0.204,
          -0.082,
          -0.086,
          0.0,
          0.0,
          -0.502,
          0.0,
          0.0,
          0.0,
          0.0,
          -0.092,
          -0.098,
          -0.102,
          -0.334,
          -0.114,
          -0.108,
          0.0,
          0.0,
          -0.102,
          0.0,
          0.0,
          -0.088,
          0.0,
          0.0,
          -0.106,
          -0.086,
          0.0,
          0.0,
          0.0,
          0.0,
          0.0,
          0.0,
          0.0,
          0.0,
          0.0,
          0.0,
          0.0,
          0.0,
          0.0,
          0.0,
          0.0,
          0.0,
          0.0,
          0.0,
          0.0,
          0.0,
          0.0,
          0.0,
          0.0,
          0.0,
          0.0,
          0.0,
          -0.098,
          0.0,
          0.0,
          0.0,
          0.0,
          0.0,
          0.0,
          0.0,
          0.0,
          0.0,
          0.0,
          0.0
         ],
         "type": "scatter"
        },
        {
         "mode": "lines",
         "name": "$\\epsilon_{opt} = 0.70$",
         "x": [
          249,
          499,
          749,
          999,
          1249,
          1499,
          1749,
          1999,
          2249,
          2499,
          2749,
          2999,
          3249,
          3499,
          3749,
          3999,
          4249,
          4499,
          4749,
          4999,
          5249,
          5499,
          5749,
          5999,
          6249,
          6499,
          6749,
          6999,
          7249,
          7499,
          7749,
          7999,
          8249,
          8499,
          8749,
          8999,
          9249,
          9499,
          9749,
          9999,
          10249,
          10499,
          10749,
          10999,
          11249,
          11499,
          11749,
          11999,
          12249,
          12499,
          12749,
          12999,
          13249,
          13499,
          13749,
          13999,
          14249,
          14499,
          14749,
          14999,
          15249,
          15499,
          15749,
          15999,
          16249,
          16499,
          16749,
          16999,
          17249,
          17499,
          17749,
          17999,
          18249,
          18499,
          18749,
          18999,
          19249,
          19499,
          19749,
          19999
         ],
         "y": [
          -1.0,
          -1.0,
          -1.0,
          -1.0,
          -0.908,
          -0.898,
          -1.0,
          -1.0,
          -0.912,
          -1.0,
          -1.0,
          -0.928,
          -0.772,
          -0.676,
          -0.426,
          -0.298,
          -0.292,
          -0.304,
          -0.152,
          -0.402,
          -0.314,
          -0.498,
          -0.306,
          -0.3,
          -0.204,
          -0.174,
          -0.204,
          -0.19,
          -0.202,
          -0.192,
          -0.39,
          -0.384,
          -0.388,
          -0.182,
          -0.46,
          -0.894,
          -0.214,
          -0.092,
          -0.068,
          -0.208,
          -0.096,
          -0.344,
          -0.21,
          -0.31,
          -0.412,
          -0.322,
          -0.116,
          -0.31,
          -0.32,
          -0.292,
          -0.116,
          -0.104,
          -0.322,
          -0.094,
          -0.094,
          -0.11,
          -0.114,
          -0.092,
          0.0,
          -0.092,
          -0.112,
          -0.116,
          0.0,
          0.0,
          -0.102,
          0.0,
          0.0,
          0.0,
          0.0,
          0.0,
          0.0,
          -0.074,
          -0.104,
          -0.084,
          -0.122,
          -0.094,
          -0.188,
          -0.218,
          -0.204,
          -0.164
         ],
         "type": "scatter"
        },
        {
         "mode": "lines",
         "name": "$\\epsilon_{opt} = 0.80$",
         "x": [
          249,
          499,
          749,
          999,
          1249,
          1499,
          1749,
          1999,
          2249,
          2499,
          2749,
          2999,
          3249,
          3499,
          3749,
          3999,
          4249,
          4499,
          4749,
          4999,
          5249,
          5499,
          5749,
          5999,
          6249,
          6499,
          6749,
          6999,
          7249,
          7499,
          7749,
          7999,
          8249,
          8499,
          8749,
          8999,
          9249,
          9499,
          9749,
          9999,
          10249,
          10499,
          10749,
          10999,
          11249,
          11499,
          11749,
          11999,
          12249,
          12499,
          12749,
          12999,
          13249,
          13499,
          13749,
          13999,
          14249,
          14499,
          14749,
          14999,
          15249,
          15499,
          15749,
          15999,
          16249,
          16499,
          16749,
          16999,
          17249,
          17499,
          17749,
          17999,
          18249,
          18499,
          18749,
          18999,
          19249,
          19499,
          19749,
          19999
         ],
         "y": [
          -1.0,
          -1.0,
          -1.0,
          -1.0,
          -1.0,
          -1.0,
          -1.0,
          -1.0,
          -1.0,
          -0.498,
          -1.0,
          -1.0,
          -1.0,
          -1.0,
          -0.902,
          -0.498,
          -0.498,
          -0.498,
          -0.498,
          -1.0,
          -0.498,
          -0.498,
          -0.498,
          -0.498,
          -0.404,
          -0.388,
          -0.39,
          -0.498,
          -0.4,
          -0.498,
          -0.304,
          -0.392,
          -0.39,
          -0.404,
          -0.894,
          -0.912,
          -0.38,
          -0.396,
          -0.394,
          -0.388,
          -0.4,
          -0.394,
          -0.396,
          -0.918,
          -0.91,
          -0.4,
          -0.294,
          -0.332,
          -0.306,
          -0.208,
          -0.188,
          -0.5,
          -0.292,
          -0.32,
          -0.306,
          -0.59,
          -0.32,
          -0.496,
          -0.54,
          -0.47,
          -0.402,
          -0.464,
          -0.57,
          -0.428,
          -0.452,
          -0.396,
          -0.302,
          -0.316,
          -0.284,
          -0.266,
          -0.296,
          -0.448,
          -0.272,
          -0.288,
          -0.404,
          -0.212,
          -0.098,
          -0.116,
          -0.106,
          -0.09
         ],
         "type": "scatter"
        },
        {
         "mode": "lines",
         "name": "$\\epsilon_{opt} = 0.90$",
         "x": [
          249,
          499,
          749,
          999,
          1249,
          1499,
          1749,
          1999,
          2249,
          2499,
          2749,
          2999,
          3249,
          3499,
          3749,
          3999,
          4249,
          4499,
          4749,
          4999,
          5249,
          5499,
          5749,
          5999,
          6249,
          6499,
          6749,
          6999,
          7249,
          7499,
          7749,
          7999,
          8249,
          8499,
          8749,
          8999,
          9249,
          9499,
          9749,
          9999,
          10249,
          10499,
          10749,
          10999,
          11249,
          11499,
          11749,
          11999,
          12249,
          12499,
          12749,
          12999,
          13249,
          13499,
          13749,
          13999,
          14249,
          14499,
          14749,
          14999,
          15249,
          15499,
          15749,
          15999,
          16249,
          16499,
          16749,
          16999,
          17249,
          17499,
          17749,
          17999,
          18249,
          18499,
          18749,
          18999,
          19249,
          19499,
          19749,
          19999
         ],
         "y": [
          -1.0,
          -1.0,
          -1.0,
          -1.0,
          -1.0,
          -1.0,
          -1.0,
          -1.0,
          -1.0,
          -1.0,
          -0.89,
          -0.89,
          -0.714,
          -0.76,
          -0.89,
          -0.88,
          -0.94,
          -0.742,
          -0.802,
          -0.928,
          -0.668,
          -0.622,
          -0.754,
          -0.618,
          -0.636,
          -0.606,
          -0.784,
          -0.624,
          -0.498,
          -0.498,
          -0.498,
          -0.498,
          -0.498,
          -0.498,
          -0.498,
          -0.498,
          -0.498,
          -0.498,
          -0.412,
          -0.66,
          -0.622,
          -0.612,
          -0.41,
          -0.206,
          -0.222,
          -0.136,
          -0.108,
          -0.124,
          -0.108,
          -0.132,
          -0.128,
          -0.286,
          -0.128,
          -0.242,
          -0.448,
          -0.368,
          -0.244,
          -0.428,
          -0.392,
          0.0,
          -0.11,
          -0.318,
          -0.358,
          -0.218,
          -0.342,
          -0.338,
          -0.198,
          -0.67,
          -0.36,
          -0.43,
          -0.434,
          -0.296,
          -0.31,
          -0.79,
          -0.288,
          -0.318,
          -0.098,
          -0.282,
          -0.4,
          -0.2
         ],
         "type": "scatter"
        },
        {
         "mode": "lines",
         "name": "$\\epsilon_{opt} = 1.00$",
         "x": [
          249,
          499,
          749,
          999,
          1249,
          1499,
          1749,
          1999,
          2249,
          2499,
          2749,
          2999,
          3249,
          3499,
          3749,
          3999,
          4249,
          4499,
          4749,
          4999,
          5249,
          5499,
          5749,
          5999,
          6249,
          6499,
          6749,
          6999,
          7249,
          7499,
          7749,
          7999,
          8249,
          8499,
          8749,
          8999,
          9249,
          9499,
          9749,
          9999,
          10249,
          10499,
          10749,
          10999,
          11249,
          11499,
          11749,
          11999,
          12249,
          12499,
          12749,
          12999,
          13249,
          13499,
          13749,
          13999,
          14249,
          14499,
          14749,
          14999,
          15249,
          15499,
          15749,
          15999,
          16249,
          16499,
          16749,
          16999,
          17249,
          17499,
          17749,
          17999,
          18249,
          18499,
          18749,
          18999,
          19249,
          19499,
          19749,
          19999
         ],
         "y": [
          -1.0,
          -1.0,
          -1.0,
          -1.0,
          -1.0,
          -1.0,
          -0.94,
          -0.92,
          -0.94,
          -0.942,
          -0.938,
          -0.778,
          -0.65,
          -0.684,
          -1.0,
          -0.754,
          -0.77,
          -0.87,
          -0.73,
          -0.876,
          -0.742,
          -0.644,
          -0.468,
          -0.868,
          -0.494,
          -0.758,
          -0.51,
          -0.65,
          -0.858,
          -0.758,
          -0.536,
          -0.776,
          -0.774,
          -0.44,
          -0.73,
          -0.526,
          -0.536,
          -0.574,
          -0.518,
          -0.618,
          -0.62,
          -0.524,
          -0.668,
          -0.532,
          -0.73,
          -0.87,
          -0.622,
          -0.634,
          -0.57,
          -0.414,
          -0.42,
          -0.404,
          -0.458,
          -0.236,
          -0.42,
          -0.55,
          -0.096,
          -0.112,
          -0.54,
          -0.79,
          -0.816,
          -0.776,
          -0.438,
          -0.42,
          -0.336,
          -0.318,
          -0.404,
          -0.316,
          -0.188,
          -0.36,
          -0.362,
          -0.338,
          -0.09,
          -0.236,
          -0.624,
          -0.294,
          -0.194,
          -0.708,
          -0.352,
          -0.494
         ],
         "type": "scatter"
        }
       ],
       "layout": {
        "template": {
         "data": {
          "histogram2dcontour": [
           {
            "type": "histogram2dcontour",
            "colorbar": {
             "outlinewidth": 0,
             "ticks": ""
            },
            "colorscale": [
             [
              0.0,
              "#0d0887"
             ],
             [
              0.1111111111111111,
              "#46039f"
             ],
             [
              0.2222222222222222,
              "#7201a8"
             ],
             [
              0.3333333333333333,
              "#9c179e"
             ],
             [
              0.4444444444444444,
              "#bd3786"
             ],
             [
              0.5555555555555556,
              "#d8576b"
             ],
             [
              0.6666666666666666,
              "#ed7953"
             ],
             [
              0.7777777777777778,
              "#fb9f3a"
             ],
             [
              0.8888888888888888,
              "#fdca26"
             ],
             [
              1.0,
              "#f0f921"
             ]
            ]
           }
          ],
          "choropleth": [
           {
            "type": "choropleth",
            "colorbar": {
             "outlinewidth": 0,
             "ticks": ""
            }
           }
          ],
          "histogram2d": [
           {
            "type": "histogram2d",
            "colorbar": {
             "outlinewidth": 0,
             "ticks": ""
            },
            "colorscale": [
             [
              0.0,
              "#0d0887"
             ],
             [
              0.1111111111111111,
              "#46039f"
             ],
             [
              0.2222222222222222,
              "#7201a8"
             ],
             [
              0.3333333333333333,
              "#9c179e"
             ],
             [
              0.4444444444444444,
              "#bd3786"
             ],
             [
              0.5555555555555556,
              "#d8576b"
             ],
             [
              0.6666666666666666,
              "#ed7953"
             ],
             [
              0.7777777777777778,
              "#fb9f3a"
             ],
             [
              0.8888888888888888,
              "#fdca26"
             ],
             [
              1.0,
              "#f0f921"
             ]
            ]
           }
          ],
          "heatmap": [
           {
            "type": "heatmap",
            "colorbar": {
             "outlinewidth": 0,
             "ticks": ""
            },
            "colorscale": [
             [
              0.0,
              "#0d0887"
             ],
             [
              0.1111111111111111,
              "#46039f"
             ],
             [
              0.2222222222222222,
              "#7201a8"
             ],
             [
              0.3333333333333333,
              "#9c179e"
             ],
             [
              0.4444444444444444,
              "#bd3786"
             ],
             [
              0.5555555555555556,
              "#d8576b"
             ],
             [
              0.6666666666666666,
              "#ed7953"
             ],
             [
              0.7777777777777778,
              "#fb9f3a"
             ],
             [
              0.8888888888888888,
              "#fdca26"
             ],
             [
              1.0,
              "#f0f921"
             ]
            ]
           }
          ],
          "heatmapgl": [
           {
            "type": "heatmapgl",
            "colorbar": {
             "outlinewidth": 0,
             "ticks": ""
            },
            "colorscale": [
             [
              0.0,
              "#0d0887"
             ],
             [
              0.1111111111111111,
              "#46039f"
             ],
             [
              0.2222222222222222,
              "#7201a8"
             ],
             [
              0.3333333333333333,
              "#9c179e"
             ],
             [
              0.4444444444444444,
              "#bd3786"
             ],
             [
              0.5555555555555556,
              "#d8576b"
             ],
             [
              0.6666666666666666,
              "#ed7953"
             ],
             [
              0.7777777777777778,
              "#fb9f3a"
             ],
             [
              0.8888888888888888,
              "#fdca26"
             ],
             [
              1.0,
              "#f0f921"
             ]
            ]
           }
          ],
          "contourcarpet": [
           {
            "type": "contourcarpet",
            "colorbar": {
             "outlinewidth": 0,
             "ticks": ""
            }
           }
          ],
          "contour": [
           {
            "type": "contour",
            "colorbar": {
             "outlinewidth": 0,
             "ticks": ""
            },
            "colorscale": [
             [
              0.0,
              "#0d0887"
             ],
             [
              0.1111111111111111,
              "#46039f"
             ],
             [
              0.2222222222222222,
              "#7201a8"
             ],
             [
              0.3333333333333333,
              "#9c179e"
             ],
             [
              0.4444444444444444,
              "#bd3786"
             ],
             [
              0.5555555555555556,
              "#d8576b"
             ],
             [
              0.6666666666666666,
              "#ed7953"
             ],
             [
              0.7777777777777778,
              "#fb9f3a"
             ],
             [
              0.8888888888888888,
              "#fdca26"
             ],
             [
              1.0,
              "#f0f921"
             ]
            ]
           }
          ],
          "surface": [
           {
            "type": "surface",
            "colorbar": {
             "outlinewidth": 0,
             "ticks": ""
            },
            "colorscale": [
             [
              0.0,
              "#0d0887"
             ],
             [
              0.1111111111111111,
              "#46039f"
             ],
             [
              0.2222222222222222,
              "#7201a8"
             ],
             [
              0.3333333333333333,
              "#9c179e"
             ],
             [
              0.4444444444444444,
              "#bd3786"
             ],
             [
              0.5555555555555556,
              "#d8576b"
             ],
             [
              0.6666666666666666,
              "#ed7953"
             ],
             [
              0.7777777777777778,
              "#fb9f3a"
             ],
             [
              0.8888888888888888,
              "#fdca26"
             ],
             [
              1.0,
              "#f0f921"
             ]
            ]
           }
          ],
          "mesh3d": [
           {
            "type": "mesh3d",
            "colorbar": {
             "outlinewidth": 0,
             "ticks": ""
            }
           }
          ],
          "scatter": [
           {
            "fillpattern": {
             "fillmode": "overlay",
             "size": 10,
             "solidity": 0.2
            },
            "type": "scatter"
           }
          ],
          "parcoords": [
           {
            "type": "parcoords",
            "line": {
             "colorbar": {
              "outlinewidth": 0,
              "ticks": ""
             }
            }
           }
          ],
          "scatterpolargl": [
           {
            "type": "scatterpolargl",
            "marker": {
             "colorbar": {
              "outlinewidth": 0,
              "ticks": ""
             }
            }
           }
          ],
          "bar": [
           {
            "error_x": {
             "color": "#2a3f5f"
            },
            "error_y": {
             "color": "#2a3f5f"
            },
            "marker": {
             "line": {
              "color": "#E5ECF6",
              "width": 0.5
             },
             "pattern": {
              "fillmode": "overlay",
              "size": 10,
              "solidity": 0.2
             }
            },
            "type": "bar"
           }
          ],
          "scattergeo": [
           {
            "type": "scattergeo",
            "marker": {
             "colorbar": {
              "outlinewidth": 0,
              "ticks": ""
             }
            }
           }
          ],
          "scatterpolar": [
           {
            "type": "scatterpolar",
            "marker": {
             "colorbar": {
              "outlinewidth": 0,
              "ticks": ""
             }
            }
           }
          ],
          "histogram": [
           {
            "marker": {
             "pattern": {
              "fillmode": "overlay",
              "size": 10,
              "solidity": 0.2
             }
            },
            "type": "histogram"
           }
          ],
          "scattergl": [
           {
            "type": "scattergl",
            "marker": {
             "colorbar": {
              "outlinewidth": 0,
              "ticks": ""
             }
            }
           }
          ],
          "scatter3d": [
           {
            "type": "scatter3d",
            "line": {
             "colorbar": {
              "outlinewidth": 0,
              "ticks": ""
             }
            },
            "marker": {
             "colorbar": {
              "outlinewidth": 0,
              "ticks": ""
             }
            }
           }
          ],
          "scattermapbox": [
           {
            "type": "scattermapbox",
            "marker": {
             "colorbar": {
              "outlinewidth": 0,
              "ticks": ""
             }
            }
           }
          ],
          "scatterternary": [
           {
            "type": "scatterternary",
            "marker": {
             "colorbar": {
              "outlinewidth": 0,
              "ticks": ""
             }
            }
           }
          ],
          "scattercarpet": [
           {
            "type": "scattercarpet",
            "marker": {
             "colorbar": {
              "outlinewidth": 0,
              "ticks": ""
             }
            }
           }
          ],
          "carpet": [
           {
            "aaxis": {
             "endlinecolor": "#2a3f5f",
             "gridcolor": "white",
             "linecolor": "white",
             "minorgridcolor": "white",
             "startlinecolor": "#2a3f5f"
            },
            "baxis": {
             "endlinecolor": "#2a3f5f",
             "gridcolor": "white",
             "linecolor": "white",
             "minorgridcolor": "white",
             "startlinecolor": "#2a3f5f"
            },
            "type": "carpet"
           }
          ],
          "table": [
           {
            "cells": {
             "fill": {
              "color": "#EBF0F8"
             },
             "line": {
              "color": "white"
             }
            },
            "header": {
             "fill": {
              "color": "#C8D4E3"
             },
             "line": {
              "color": "white"
             }
            },
            "type": "table"
           }
          ],
          "barpolar": [
           {
            "marker": {
             "line": {
              "color": "#E5ECF6",
              "width": 0.5
             },
             "pattern": {
              "fillmode": "overlay",
              "size": 10,
              "solidity": 0.2
             }
            },
            "type": "barpolar"
           }
          ],
          "pie": [
           {
            "automargin": true,
            "type": "pie"
           }
          ]
         },
         "layout": {
          "autotypenumbers": "strict",
          "colorway": [
           "#636efa",
           "#EF553B",
           "#00cc96",
           "#ab63fa",
           "#FFA15A",
           "#19d3f3",
           "#FF6692",
           "#B6E880",
           "#FF97FF",
           "#FECB52"
          ],
          "font": {
           "color": "#2a3f5f"
          },
          "hovermode": "closest",
          "hoverlabel": {
           "align": "left"
          },
          "paper_bgcolor": "white",
          "plot_bgcolor": "#E5ECF6",
          "polar": {
           "bgcolor": "#E5ECF6",
           "angularaxis": {
            "gridcolor": "white",
            "linecolor": "white",
            "ticks": ""
           },
           "radialaxis": {
            "gridcolor": "white",
            "linecolor": "white",
            "ticks": ""
           }
          },
          "ternary": {
           "bgcolor": "#E5ECF6",
           "aaxis": {
            "gridcolor": "white",
            "linecolor": "white",
            "ticks": ""
           },
           "baxis": {
            "gridcolor": "white",
            "linecolor": "white",
            "ticks": ""
           },
           "caxis": {
            "gridcolor": "white",
            "linecolor": "white",
            "ticks": ""
           }
          },
          "coloraxis": {
           "colorbar": {
            "outlinewidth": 0,
            "ticks": ""
           }
          },
          "colorscale": {
           "sequential": [
            [
             0.0,
             "#0d0887"
            ],
            [
             0.1111111111111111,
             "#46039f"
            ],
            [
             0.2222222222222222,
             "#7201a8"
            ],
            [
             0.3333333333333333,
             "#9c179e"
            ],
            [
             0.4444444444444444,
             "#bd3786"
            ],
            [
             0.5555555555555556,
             "#d8576b"
            ],
            [
             0.6666666666666666,
             "#ed7953"
            ],
            [
             0.7777777777777778,
             "#fb9f3a"
            ],
            [
             0.8888888888888888,
             "#fdca26"
            ],
            [
             1.0,
             "#f0f921"
            ]
           ],
           "sequentialminus": [
            [
             0.0,
             "#0d0887"
            ],
            [
             0.1111111111111111,
             "#46039f"
            ],
            [
             0.2222222222222222,
             "#7201a8"
            ],
            [
             0.3333333333333333,
             "#9c179e"
            ],
            [
             0.4444444444444444,
             "#bd3786"
            ],
            [
             0.5555555555555556,
             "#d8576b"
            ],
            [
             0.6666666666666666,
             "#ed7953"
            ],
            [
             0.7777777777777778,
             "#fb9f3a"
            ],
            [
             0.8888888888888888,
             "#fdca26"
            ],
            [
             1.0,
             "#f0f921"
            ]
           ],
           "diverging": [
            [
             0,
             "#8e0152"
            ],
            [
             0.1,
             "#c51b7d"
            ],
            [
             0.2,
             "#de77ae"
            ],
            [
             0.3,
             "#f1b6da"
            ],
            [
             0.4,
             "#fde0ef"
            ],
            [
             0.5,
             "#f7f7f7"
            ],
            [
             0.6,
             "#e6f5d0"
            ],
            [
             0.7,
             "#b8e186"
            ],
            [
             0.8,
             "#7fbc41"
            ],
            [
             0.9,
             "#4d9221"
            ],
            [
             1,
             "#276419"
            ]
           ]
          },
          "xaxis": {
           "gridcolor": "white",
           "linecolor": "white",
           "ticks": "",
           "title": {
            "standoff": 15
           },
           "zerolinecolor": "white",
           "automargin": true,
           "zerolinewidth": 2
          },
          "yaxis": {
           "gridcolor": "white",
           "linecolor": "white",
           "ticks": "",
           "title": {
            "standoff": 15
           },
           "zerolinecolor": "white",
           "automargin": true,
           "zerolinewidth": 2
          },
          "scene": {
           "xaxis": {
            "backgroundcolor": "#E5ECF6",
            "gridcolor": "white",
            "linecolor": "white",
            "showbackground": true,
            "ticks": "",
            "zerolinecolor": "white",
            "gridwidth": 2
           },
           "yaxis": {
            "backgroundcolor": "#E5ECF6",
            "gridcolor": "white",
            "linecolor": "white",
            "showbackground": true,
            "ticks": "",
            "zerolinecolor": "white",
            "gridwidth": 2
           },
           "zaxis": {
            "backgroundcolor": "#E5ECF6",
            "gridcolor": "white",
            "linecolor": "white",
            "showbackground": true,
            "ticks": "",
            "zerolinecolor": "white",
            "gridwidth": 2
           }
          },
          "shapedefaults": {
           "line": {
            "color": "#2a3f5f"
           }
          },
          "annotationdefaults": {
           "arrowcolor": "#2a3f5f",
           "arrowhead": 0,
           "arrowwidth": 1
          },
          "geo": {
           "bgcolor": "white",
           "landcolor": "#E5ECF6",
           "subunitcolor": "white",
           "showland": true,
           "showlakes": true,
           "lakecolor": "white"
          },
          "title": {
           "x": 0.05
          },
          "mapbox": {
           "style": "light"
          }
         }
        },
        "title": {
         "text": "$M_{opt}\\text{ for every 250 games for different values of }\\epsilon_{opt}$"
        },
        "xaxis": {
         "title": {
          "text": "$game$"
         }
        },
        "yaxis": {
         "title": {
          "text": "$M_{opt}$"
         }
        },
        "width": 1200,
        "height": 400
       },
       "config": {
        "plotlyServerURL": "https://plot.ly"
       }
      },
      "text/html": "<div>                            <div id=\"96cb9325-602c-4d51-bae3-3cb0df589e4b\" class=\"plotly-graph-div\" style=\"height:400px; width:1200px;\"></div>            <script type=\"text/javascript\">                require([\"plotly\"], function(Plotly) {                    window.PLOTLYENV=window.PLOTLYENV || {};                                    if (document.getElementById(\"96cb9325-602c-4d51-bae3-3cb0df589e4b\")) {                    Plotly.newPlot(                        \"96cb9325-602c-4d51-bae3-3cb0df589e4b\",                        [{\"mode\":\"lines\",\"name\":\"$\\\\epsilon_{opt} = 0.00$\",\"x\":[249,499,749,999,1249,1499,1749,1999,2249,2499,2749,2999,3249,3499,3749,3999,4249,4499,4749,4999,5249,5499,5749,5999,6249,6499,6749,6999,7249,7499,7749,7999,8249,8499,8749,8999,9249,9499,9749,9999,10249,10499,10749,10999,11249,11499,11749,11999,12249,12499,12749,12999,13249,13499,13749,13999,14249,14499,14749,14999,15249,15499,15749,15999,16249,16499,16749,16999,17249,17499,17749,17999,18249,18499,18749,18999,19249,19499,19749,19999],\"y\":[-1.0,-1.0,-0.914,-0.884,-0.616,-0.688,-0.24,0.0,-0.502,0.0,0.0,0.0,0.0,0.0,0.0,0.0,0.0,0.0,0.0,0.0,0.0,0.0,0.0,0.0,0.0,0.0,0.0,0.0,0.0,0.0,0.0,0.0,0.0,0.0,0.0,0.0,0.0,0.0,0.0,0.0,0.0,0.0,0.0,0.0,0.0,0.0,0.0,0.0,0.0,0.0,0.0,0.0,0.0,0.0,0.0,0.0,0.0,0.0,0.0,0.0,0.0,0.0,0.0,0.0,0.0,0.0,0.0,0.0,0.0,0.0,0.0,0.0,0.0,0.0,0.0,0.0,0.0,0.0,0.0,0.0],\"type\":\"scatter\"},{\"mode\":\"lines\",\"name\":\"$\\\\epsilon_{opt} = 0.10$\",\"x\":[249,499,749,999,1249,1499,1749,1999,2249,2499,2749,2999,3249,3499,3749,3999,4249,4499,4749,4999,5249,5499,5749,5999,6249,6499,6749,6999,7249,7499,7749,7999,8249,8499,8749,8999,9249,9499,9749,9999,10249,10499,10749,10999,11249,11499,11749,11999,12249,12499,12749,12999,13249,13499,13749,13999,14249,14499,14749,14999,15249,15499,15749,15999,16249,16499,16749,16999,17249,17499,17749,17999,18249,18499,18749,18999,19249,19499,19749,19999],\"y\":[-1.0,-1.0,-0.924,-0.948,-0.542,-1.0,-0.458,-0.198,0.0,-0.104,0.0,0.0,0.0,-0.226,0.0,-0.258,-0.236,0.0,0.0,-0.12,0.0,0.0,0.0,0.0,-0.14,-0.05,0.0,0.0,0.0,0.0,0.0,0.0,0.0,0.0,0.0,0.0,0.0,0.0,0.0,0.0,0.0,0.0,0.0,-0.066,0.0,-0.106,0.0,-0.112,0.0,0.0,0.0,0.0,0.0,0.0,0.0,0.0,0.0,0.0,0.0,0.0,0.0,0.0,0.0,0.0,0.0,0.0,0.0,0.0,0.0,0.0,0.0,0.0,0.0,0.0,0.0,0.0,0.0,0.0,0.0,0.0],\"type\":\"scatter\"},{\"mode\":\"lines\",\"name\":\"$\\\\epsilon_{opt} = 0.20$\",\"x\":[249,499,749,999,1249,1499,1749,1999,2249,2499,2749,2999,3249,3499,3749,3999,4249,4499,4749,4999,5249,5499,5749,5999,6249,6499,6749,6999,7249,7499,7749,7999,8249,8499,8749,8999,9249,9499,9749,9999,10249,10499,10749,10999,11249,11499,11749,11999,12249,12499,12749,12999,13249,13499,13749,13999,14249,14499,14749,14999,15249,15499,15749,15999,16249,16499,16749,16999,17249,17499,17749,17999,18249,18499,18749,18999,19249,19499,19749,19999],\"y\":[-1.0,-1.0,-0.91,-0.8,-0.7,-0.642,-0.654,-0.222,-0.194,-0.204,-0.228,0.0,0.0,-0.202,-0.116,0.0,0.0,-0.05,0.0,0.0,-0.122,0.0,0.0,0.0,0.0,0.0,0.0,0.0,0.0,-0.096,-0.164,0.0,0.0,0.0,0.0,0.0,0.0,0.0,0.0,-0.176,-0.19,0.0,0.0,0.0,0.0,0.0,0.0,0.0,0.0,0.0,0.0,0.0,0.0,0.0,0.0,0.0,0.0,0.0,0.0,0.0,0.0,0.0,0.0,0.0,0.0,0.0,0.0,0.0,0.0,0.0,0.0,0.0,0.0,0.0,0.0,0.0,0.0,0.0,0.0,0.0],\"type\":\"scatter\"},{\"mode\":\"lines\",\"name\":\"$\\\\epsilon_{opt} = 0.30$\",\"x\":[249,499,749,999,1249,1499,1749,1999,2249,2499,2749,2999,3249,3499,3749,3999,4249,4499,4749,4999,5249,5499,5749,5999,6249,6499,6749,6999,7249,7499,7749,7999,8249,8499,8749,8999,9249,9499,9749,9999,10249,10499,10749,10999,11249,11499,11749,11999,12249,12499,12749,12999,13249,13499,13749,13999,14249,14499,14749,14999,15249,15499,15749,15999,16249,16499,16749,16999,17249,17499,17749,17999,18249,18499,18749,18999,19249,19499,19749,19999],\"y\":[-1.0,-1.0,-1.0,-1.0,-0.766,-0.756,-0.536,-0.642,-0.098,0.0,-0.238,-0.502,-0.09,-0.082,0.0,0.0,0.0,0.0,0.0,0.0,0.0,0.0,0.0,0.0,0.0,0.0,0.0,0.0,0.0,0.0,0.0,0.0,0.0,0.0,0.0,0.0,0.0,0.0,0.0,0.0,0.0,0.0,0.0,0.0,-0.102,0.0,0.0,0.0,0.0,0.0,0.0,0.0,0.0,0.0,0.0,0.0,0.0,0.0,0.0,-0.262,0.0,0.0,0.0,0.0,0.0,0.0,0.0,0.0,0.0,0.0,0.0,0.0,0.0,0.0,0.0,0.0,0.0,0.0,0.0,0.0],\"type\":\"scatter\"},{\"mode\":\"lines\",\"name\":\"$\\\\epsilon_{opt} = 0.40$\",\"x\":[249,499,749,999,1249,1499,1749,1999,2249,2499,2749,2999,3249,3499,3749,3999,4249,4499,4749,4999,5249,5499,5749,5999,6249,6499,6749,6999,7249,7499,7749,7999,8249,8499,8749,8999,9249,9499,9749,9999,10249,10499,10749,10999,11249,11499,11749,11999,12249,12499,12749,12999,13249,13499,13749,13999,14249,14499,14749,14999,15249,15499,15749,15999,16249,16499,16749,16999,17249,17499,17749,17999,18249,18499,18749,18999,19249,19499,19749,19999],\"y\":[-1.0,-1.0,-1.0,-1.0,-0.732,-0.478,-0.878,-0.528,-0.676,-0.876,-0.734,-0.766,-0.29,-0.56,-0.372,-0.412,-0.316,-0.282,-0.328,0.0,0.0,-0.184,0.0,0.0,0.0,-0.186,-0.194,-0.202,0.0,0.0,0.0,0.0,0.0,0.0,0.0,0.0,0.0,0.0,0.0,0.0,-0.19,0.0,0.0,0.0,0.0,0.0,0.0,0.0,0.0,0.0,0.0,0.0,-0.204,-0.204,0.0,-0.2,0.0,0.0,0.0,0.0,0.0,-0.16,-0.126,0.0,0.0,0.0,0.0,0.0,0.0,0.0,0.0,0.0,0.0,0.0,0.0,0.0,0.0,0.0,0.0,0.0],\"type\":\"scatter\"},{\"mode\":\"lines\",\"name\":\"$\\\\epsilon_{opt} = 0.50$\",\"x\":[249,499,749,999,1249,1499,1749,1999,2249,2499,2749,2999,3249,3499,3749,3999,4249,4499,4749,4999,5249,5499,5749,5999,6249,6499,6749,6999,7249,7499,7749,7999,8249,8499,8749,8999,9249,9499,9749,9999,10249,10499,10749,10999,11249,11499,11749,11999,12249,12499,12749,12999,13249,13499,13749,13999,14249,14499,14749,14999,15249,15499,15749,15999,16249,16499,16749,16999,17249,17499,17749,17999,18249,18499,18749,18999,19249,19499,19749,19999],\"y\":[-1.0,-1.0,-1.0,-0.828,-0.58,-0.688,-1.0,-0.418,-0.546,-0.88,-0.704,-0.818,-0.926,-0.69,-0.764,-0.518,-0.774,-0.352,-0.274,-0.292,-0.418,-0.586,-0.224,-0.258,-0.376,-0.336,-0.088,-0.102,-0.098,-0.096,-0.13,-0.104,-0.092,-0.112,-0.094,-0.102,-0.118,-0.114,-0.124,-0.092,-0.104,-0.086,-0.1,-0.104,-0.092,-0.088,-0.092,-0.09,-0.068,-0.102,-0.094,-0.102,-0.096,-0.078,-0.088,-0.1,-0.114,-0.098,-0.098,-0.096,-0.098,-0.096,-0.11,-0.12,-0.106,-0.086,-0.08,-0.106,-0.132,-0.102,-0.098,-0.108,-0.106,-0.1,-0.1,-0.096,0.0,0.0,0.0,0.0],\"type\":\"scatter\"},{\"mode\":\"lines\",\"name\":\"$\\\\epsilon_{opt} = 0.60$\",\"x\":[249,499,749,999,1249,1499,1749,1999,2249,2499,2749,2999,3249,3499,3749,3999,4249,4499,4749,4999,5249,5499,5749,5999,6249,6499,6749,6999,7249,7499,7749,7999,8249,8499,8749,8999,9249,9499,9749,9999,10249,10499,10749,10999,11249,11499,11749,11999,12249,12499,12749,12999,13249,13499,13749,13999,14249,14499,14749,14999,15249,15499,15749,15999,16249,16499,16749,16999,17249,17499,17749,17999,18249,18499,18749,18999,19249,19499,19749,19999],\"y\":[-1.0,-1.0,-1.0,-0.866,-1.0,-1.0,-0.914,-0.888,-0.646,-0.436,-0.468,-0.202,-0.196,-0.408,-0.114,-0.108,-0.204,-0.082,-0.086,0.0,0.0,-0.502,0.0,0.0,0.0,0.0,-0.092,-0.098,-0.102,-0.334,-0.114,-0.108,0.0,0.0,-0.102,0.0,0.0,-0.088,0.0,0.0,-0.106,-0.086,0.0,0.0,0.0,0.0,0.0,0.0,0.0,0.0,0.0,0.0,0.0,0.0,0.0,0.0,0.0,0.0,0.0,0.0,0.0,0.0,0.0,0.0,0.0,0.0,0.0,0.0,-0.098,0.0,0.0,0.0,0.0,0.0,0.0,0.0,0.0,0.0,0.0,0.0],\"type\":\"scatter\"},{\"mode\":\"lines\",\"name\":\"$\\\\epsilon_{opt} = 0.70$\",\"x\":[249,499,749,999,1249,1499,1749,1999,2249,2499,2749,2999,3249,3499,3749,3999,4249,4499,4749,4999,5249,5499,5749,5999,6249,6499,6749,6999,7249,7499,7749,7999,8249,8499,8749,8999,9249,9499,9749,9999,10249,10499,10749,10999,11249,11499,11749,11999,12249,12499,12749,12999,13249,13499,13749,13999,14249,14499,14749,14999,15249,15499,15749,15999,16249,16499,16749,16999,17249,17499,17749,17999,18249,18499,18749,18999,19249,19499,19749,19999],\"y\":[-1.0,-1.0,-1.0,-1.0,-0.908,-0.898,-1.0,-1.0,-0.912,-1.0,-1.0,-0.928,-0.772,-0.676,-0.426,-0.298,-0.292,-0.304,-0.152,-0.402,-0.314,-0.498,-0.306,-0.3,-0.204,-0.174,-0.204,-0.19,-0.202,-0.192,-0.39,-0.384,-0.388,-0.182,-0.46,-0.894,-0.214,-0.092,-0.068,-0.208,-0.096,-0.344,-0.21,-0.31,-0.412,-0.322,-0.116,-0.31,-0.32,-0.292,-0.116,-0.104,-0.322,-0.094,-0.094,-0.11,-0.114,-0.092,0.0,-0.092,-0.112,-0.116,0.0,0.0,-0.102,0.0,0.0,0.0,0.0,0.0,0.0,-0.074,-0.104,-0.084,-0.122,-0.094,-0.188,-0.218,-0.204,-0.164],\"type\":\"scatter\"},{\"mode\":\"lines\",\"name\":\"$\\\\epsilon_{opt} = 0.80$\",\"x\":[249,499,749,999,1249,1499,1749,1999,2249,2499,2749,2999,3249,3499,3749,3999,4249,4499,4749,4999,5249,5499,5749,5999,6249,6499,6749,6999,7249,7499,7749,7999,8249,8499,8749,8999,9249,9499,9749,9999,10249,10499,10749,10999,11249,11499,11749,11999,12249,12499,12749,12999,13249,13499,13749,13999,14249,14499,14749,14999,15249,15499,15749,15999,16249,16499,16749,16999,17249,17499,17749,17999,18249,18499,18749,18999,19249,19499,19749,19999],\"y\":[-1.0,-1.0,-1.0,-1.0,-1.0,-1.0,-1.0,-1.0,-1.0,-0.498,-1.0,-1.0,-1.0,-1.0,-0.902,-0.498,-0.498,-0.498,-0.498,-1.0,-0.498,-0.498,-0.498,-0.498,-0.404,-0.388,-0.39,-0.498,-0.4,-0.498,-0.304,-0.392,-0.39,-0.404,-0.894,-0.912,-0.38,-0.396,-0.394,-0.388,-0.4,-0.394,-0.396,-0.918,-0.91,-0.4,-0.294,-0.332,-0.306,-0.208,-0.188,-0.5,-0.292,-0.32,-0.306,-0.59,-0.32,-0.496,-0.54,-0.47,-0.402,-0.464,-0.57,-0.428,-0.452,-0.396,-0.302,-0.316,-0.284,-0.266,-0.296,-0.448,-0.272,-0.288,-0.404,-0.212,-0.098,-0.116,-0.106,-0.09],\"type\":\"scatter\"},{\"mode\":\"lines\",\"name\":\"$\\\\epsilon_{opt} = 0.90$\",\"x\":[249,499,749,999,1249,1499,1749,1999,2249,2499,2749,2999,3249,3499,3749,3999,4249,4499,4749,4999,5249,5499,5749,5999,6249,6499,6749,6999,7249,7499,7749,7999,8249,8499,8749,8999,9249,9499,9749,9999,10249,10499,10749,10999,11249,11499,11749,11999,12249,12499,12749,12999,13249,13499,13749,13999,14249,14499,14749,14999,15249,15499,15749,15999,16249,16499,16749,16999,17249,17499,17749,17999,18249,18499,18749,18999,19249,19499,19749,19999],\"y\":[-1.0,-1.0,-1.0,-1.0,-1.0,-1.0,-1.0,-1.0,-1.0,-1.0,-0.89,-0.89,-0.714,-0.76,-0.89,-0.88,-0.94,-0.742,-0.802,-0.928,-0.668,-0.622,-0.754,-0.618,-0.636,-0.606,-0.784,-0.624,-0.498,-0.498,-0.498,-0.498,-0.498,-0.498,-0.498,-0.498,-0.498,-0.498,-0.412,-0.66,-0.622,-0.612,-0.41,-0.206,-0.222,-0.136,-0.108,-0.124,-0.108,-0.132,-0.128,-0.286,-0.128,-0.242,-0.448,-0.368,-0.244,-0.428,-0.392,0.0,-0.11,-0.318,-0.358,-0.218,-0.342,-0.338,-0.198,-0.67,-0.36,-0.43,-0.434,-0.296,-0.31,-0.79,-0.288,-0.318,-0.098,-0.282,-0.4,-0.2],\"type\":\"scatter\"},{\"mode\":\"lines\",\"name\":\"$\\\\epsilon_{opt} = 1.00$\",\"x\":[249,499,749,999,1249,1499,1749,1999,2249,2499,2749,2999,3249,3499,3749,3999,4249,4499,4749,4999,5249,5499,5749,5999,6249,6499,6749,6999,7249,7499,7749,7999,8249,8499,8749,8999,9249,9499,9749,9999,10249,10499,10749,10999,11249,11499,11749,11999,12249,12499,12749,12999,13249,13499,13749,13999,14249,14499,14749,14999,15249,15499,15749,15999,16249,16499,16749,16999,17249,17499,17749,17999,18249,18499,18749,18999,19249,19499,19749,19999],\"y\":[-1.0,-1.0,-1.0,-1.0,-1.0,-1.0,-0.94,-0.92,-0.94,-0.942,-0.938,-0.778,-0.65,-0.684,-1.0,-0.754,-0.77,-0.87,-0.73,-0.876,-0.742,-0.644,-0.468,-0.868,-0.494,-0.758,-0.51,-0.65,-0.858,-0.758,-0.536,-0.776,-0.774,-0.44,-0.73,-0.526,-0.536,-0.574,-0.518,-0.618,-0.62,-0.524,-0.668,-0.532,-0.73,-0.87,-0.622,-0.634,-0.57,-0.414,-0.42,-0.404,-0.458,-0.236,-0.42,-0.55,-0.096,-0.112,-0.54,-0.79,-0.816,-0.776,-0.438,-0.42,-0.336,-0.318,-0.404,-0.316,-0.188,-0.36,-0.362,-0.338,-0.09,-0.236,-0.624,-0.294,-0.194,-0.708,-0.352,-0.494],\"type\":\"scatter\"}],                        {\"template\":{\"data\":{\"histogram2dcontour\":[{\"type\":\"histogram2dcontour\",\"colorbar\":{\"outlinewidth\":0,\"ticks\":\"\"},\"colorscale\":[[0.0,\"#0d0887\"],[0.1111111111111111,\"#46039f\"],[0.2222222222222222,\"#7201a8\"],[0.3333333333333333,\"#9c179e\"],[0.4444444444444444,\"#bd3786\"],[0.5555555555555556,\"#d8576b\"],[0.6666666666666666,\"#ed7953\"],[0.7777777777777778,\"#fb9f3a\"],[0.8888888888888888,\"#fdca26\"],[1.0,\"#f0f921\"]]}],\"choropleth\":[{\"type\":\"choropleth\",\"colorbar\":{\"outlinewidth\":0,\"ticks\":\"\"}}],\"histogram2d\":[{\"type\":\"histogram2d\",\"colorbar\":{\"outlinewidth\":0,\"ticks\":\"\"},\"colorscale\":[[0.0,\"#0d0887\"],[0.1111111111111111,\"#46039f\"],[0.2222222222222222,\"#7201a8\"],[0.3333333333333333,\"#9c179e\"],[0.4444444444444444,\"#bd3786\"],[0.5555555555555556,\"#d8576b\"],[0.6666666666666666,\"#ed7953\"],[0.7777777777777778,\"#fb9f3a\"],[0.8888888888888888,\"#fdca26\"],[1.0,\"#f0f921\"]]}],\"heatmap\":[{\"type\":\"heatmap\",\"colorbar\":{\"outlinewidth\":0,\"ticks\":\"\"},\"colorscale\":[[0.0,\"#0d0887\"],[0.1111111111111111,\"#46039f\"],[0.2222222222222222,\"#7201a8\"],[0.3333333333333333,\"#9c179e\"],[0.4444444444444444,\"#bd3786\"],[0.5555555555555556,\"#d8576b\"],[0.6666666666666666,\"#ed7953\"],[0.7777777777777778,\"#fb9f3a\"],[0.8888888888888888,\"#fdca26\"],[1.0,\"#f0f921\"]]}],\"heatmapgl\":[{\"type\":\"heatmapgl\",\"colorbar\":{\"outlinewidth\":0,\"ticks\":\"\"},\"colorscale\":[[0.0,\"#0d0887\"],[0.1111111111111111,\"#46039f\"],[0.2222222222222222,\"#7201a8\"],[0.3333333333333333,\"#9c179e\"],[0.4444444444444444,\"#bd3786\"],[0.5555555555555556,\"#d8576b\"],[0.6666666666666666,\"#ed7953\"],[0.7777777777777778,\"#fb9f3a\"],[0.8888888888888888,\"#fdca26\"],[1.0,\"#f0f921\"]]}],\"contourcarpet\":[{\"type\":\"contourcarpet\",\"colorbar\":{\"outlinewidth\":0,\"ticks\":\"\"}}],\"contour\":[{\"type\":\"contour\",\"colorbar\":{\"outlinewidth\":0,\"ticks\":\"\"},\"colorscale\":[[0.0,\"#0d0887\"],[0.1111111111111111,\"#46039f\"],[0.2222222222222222,\"#7201a8\"],[0.3333333333333333,\"#9c179e\"],[0.4444444444444444,\"#bd3786\"],[0.5555555555555556,\"#d8576b\"],[0.6666666666666666,\"#ed7953\"],[0.7777777777777778,\"#fb9f3a\"],[0.8888888888888888,\"#fdca26\"],[1.0,\"#f0f921\"]]}],\"surface\":[{\"type\":\"surface\",\"colorbar\":{\"outlinewidth\":0,\"ticks\":\"\"},\"colorscale\":[[0.0,\"#0d0887\"],[0.1111111111111111,\"#46039f\"],[0.2222222222222222,\"#7201a8\"],[0.3333333333333333,\"#9c179e\"],[0.4444444444444444,\"#bd3786\"],[0.5555555555555556,\"#d8576b\"],[0.6666666666666666,\"#ed7953\"],[0.7777777777777778,\"#fb9f3a\"],[0.8888888888888888,\"#fdca26\"],[1.0,\"#f0f921\"]]}],\"mesh3d\":[{\"type\":\"mesh3d\",\"colorbar\":{\"outlinewidth\":0,\"ticks\":\"\"}}],\"scatter\":[{\"fillpattern\":{\"fillmode\":\"overlay\",\"size\":10,\"solidity\":0.2},\"type\":\"scatter\"}],\"parcoords\":[{\"type\":\"parcoords\",\"line\":{\"colorbar\":{\"outlinewidth\":0,\"ticks\":\"\"}}}],\"scatterpolargl\":[{\"type\":\"scatterpolargl\",\"marker\":{\"colorbar\":{\"outlinewidth\":0,\"ticks\":\"\"}}}],\"bar\":[{\"error_x\":{\"color\":\"#2a3f5f\"},\"error_y\":{\"color\":\"#2a3f5f\"},\"marker\":{\"line\":{\"color\":\"#E5ECF6\",\"width\":0.5},\"pattern\":{\"fillmode\":\"overlay\",\"size\":10,\"solidity\":0.2}},\"type\":\"bar\"}],\"scattergeo\":[{\"type\":\"scattergeo\",\"marker\":{\"colorbar\":{\"outlinewidth\":0,\"ticks\":\"\"}}}],\"scatterpolar\":[{\"type\":\"scatterpolar\",\"marker\":{\"colorbar\":{\"outlinewidth\":0,\"ticks\":\"\"}}}],\"histogram\":[{\"marker\":{\"pattern\":{\"fillmode\":\"overlay\",\"size\":10,\"solidity\":0.2}},\"type\":\"histogram\"}],\"scattergl\":[{\"type\":\"scattergl\",\"marker\":{\"colorbar\":{\"outlinewidth\":0,\"ticks\":\"\"}}}],\"scatter3d\":[{\"type\":\"scatter3d\",\"line\":{\"colorbar\":{\"outlinewidth\":0,\"ticks\":\"\"}},\"marker\":{\"colorbar\":{\"outlinewidth\":0,\"ticks\":\"\"}}}],\"scattermapbox\":[{\"type\":\"scattermapbox\",\"marker\":{\"colorbar\":{\"outlinewidth\":0,\"ticks\":\"\"}}}],\"scatterternary\":[{\"type\":\"scatterternary\",\"marker\":{\"colorbar\":{\"outlinewidth\":0,\"ticks\":\"\"}}}],\"scattercarpet\":[{\"type\":\"scattercarpet\",\"marker\":{\"colorbar\":{\"outlinewidth\":0,\"ticks\":\"\"}}}],\"carpet\":[{\"aaxis\":{\"endlinecolor\":\"#2a3f5f\",\"gridcolor\":\"white\",\"linecolor\":\"white\",\"minorgridcolor\":\"white\",\"startlinecolor\":\"#2a3f5f\"},\"baxis\":{\"endlinecolor\":\"#2a3f5f\",\"gridcolor\":\"white\",\"linecolor\":\"white\",\"minorgridcolor\":\"white\",\"startlinecolor\":\"#2a3f5f\"},\"type\":\"carpet\"}],\"table\":[{\"cells\":{\"fill\":{\"color\":\"#EBF0F8\"},\"line\":{\"color\":\"white\"}},\"header\":{\"fill\":{\"color\":\"#C8D4E3\"},\"line\":{\"color\":\"white\"}},\"type\":\"table\"}],\"barpolar\":[{\"marker\":{\"line\":{\"color\":\"#E5ECF6\",\"width\":0.5},\"pattern\":{\"fillmode\":\"overlay\",\"size\":10,\"solidity\":0.2}},\"type\":\"barpolar\"}],\"pie\":[{\"automargin\":true,\"type\":\"pie\"}]},\"layout\":{\"autotypenumbers\":\"strict\",\"colorway\":[\"#636efa\",\"#EF553B\",\"#00cc96\",\"#ab63fa\",\"#FFA15A\",\"#19d3f3\",\"#FF6692\",\"#B6E880\",\"#FF97FF\",\"#FECB52\"],\"font\":{\"color\":\"#2a3f5f\"},\"hovermode\":\"closest\",\"hoverlabel\":{\"align\":\"left\"},\"paper_bgcolor\":\"white\",\"plot_bgcolor\":\"#E5ECF6\",\"polar\":{\"bgcolor\":\"#E5ECF6\",\"angularaxis\":{\"gridcolor\":\"white\",\"linecolor\":\"white\",\"ticks\":\"\"},\"radialaxis\":{\"gridcolor\":\"white\",\"linecolor\":\"white\",\"ticks\":\"\"}},\"ternary\":{\"bgcolor\":\"#E5ECF6\",\"aaxis\":{\"gridcolor\":\"white\",\"linecolor\":\"white\",\"ticks\":\"\"},\"baxis\":{\"gridcolor\":\"white\",\"linecolor\":\"white\",\"ticks\":\"\"},\"caxis\":{\"gridcolor\":\"white\",\"linecolor\":\"white\",\"ticks\":\"\"}},\"coloraxis\":{\"colorbar\":{\"outlinewidth\":0,\"ticks\":\"\"}},\"colorscale\":{\"sequential\":[[0.0,\"#0d0887\"],[0.1111111111111111,\"#46039f\"],[0.2222222222222222,\"#7201a8\"],[0.3333333333333333,\"#9c179e\"],[0.4444444444444444,\"#bd3786\"],[0.5555555555555556,\"#d8576b\"],[0.6666666666666666,\"#ed7953\"],[0.7777777777777778,\"#fb9f3a\"],[0.8888888888888888,\"#fdca26\"],[1.0,\"#f0f921\"]],\"sequentialminus\":[[0.0,\"#0d0887\"],[0.1111111111111111,\"#46039f\"],[0.2222222222222222,\"#7201a8\"],[0.3333333333333333,\"#9c179e\"],[0.4444444444444444,\"#bd3786\"],[0.5555555555555556,\"#d8576b\"],[0.6666666666666666,\"#ed7953\"],[0.7777777777777778,\"#fb9f3a\"],[0.8888888888888888,\"#fdca26\"],[1.0,\"#f0f921\"]],\"diverging\":[[0,\"#8e0152\"],[0.1,\"#c51b7d\"],[0.2,\"#de77ae\"],[0.3,\"#f1b6da\"],[0.4,\"#fde0ef\"],[0.5,\"#f7f7f7\"],[0.6,\"#e6f5d0\"],[0.7,\"#b8e186\"],[0.8,\"#7fbc41\"],[0.9,\"#4d9221\"],[1,\"#276419\"]]},\"xaxis\":{\"gridcolor\":\"white\",\"linecolor\":\"white\",\"ticks\":\"\",\"title\":{\"standoff\":15},\"zerolinecolor\":\"white\",\"automargin\":true,\"zerolinewidth\":2},\"yaxis\":{\"gridcolor\":\"white\",\"linecolor\":\"white\",\"ticks\":\"\",\"title\":{\"standoff\":15},\"zerolinecolor\":\"white\",\"automargin\":true,\"zerolinewidth\":2},\"scene\":{\"xaxis\":{\"backgroundcolor\":\"#E5ECF6\",\"gridcolor\":\"white\",\"linecolor\":\"white\",\"showbackground\":true,\"ticks\":\"\",\"zerolinecolor\":\"white\",\"gridwidth\":2},\"yaxis\":{\"backgroundcolor\":\"#E5ECF6\",\"gridcolor\":\"white\",\"linecolor\":\"white\",\"showbackground\":true,\"ticks\":\"\",\"zerolinecolor\":\"white\",\"gridwidth\":2},\"zaxis\":{\"backgroundcolor\":\"#E5ECF6\",\"gridcolor\":\"white\",\"linecolor\":\"white\",\"showbackground\":true,\"ticks\":\"\",\"zerolinecolor\":\"white\",\"gridwidth\":2}},\"shapedefaults\":{\"line\":{\"color\":\"#2a3f5f\"}},\"annotationdefaults\":{\"arrowcolor\":\"#2a3f5f\",\"arrowhead\":0,\"arrowwidth\":1},\"geo\":{\"bgcolor\":\"white\",\"landcolor\":\"#E5ECF6\",\"subunitcolor\":\"white\",\"showland\":true,\"showlakes\":true,\"lakecolor\":\"white\"},\"title\":{\"x\":0.05},\"mapbox\":{\"style\":\"light\"}}},\"title\":{\"text\":\"$M_{opt}\\\\text{ for every 250 games for different values of }\\\\epsilon_{opt}$\"},\"xaxis\":{\"title\":{\"text\":\"$game$\"}},\"yaxis\":{\"title\":{\"text\":\"$M_{opt}$\"}},\"width\":1200,\"height\":400},                        {\"responsive\": true}                    ).then(function(){\n                            \nvar gd = document.getElementById('96cb9325-602c-4d51-bae3-3cb0df589e4b');\nvar x = new MutationObserver(function (mutations, observer) {{\n        var display = window.getComputedStyle(gd).display;\n        if (!display || display === 'none') {{\n            console.log([gd, 'removed!']);\n            Plotly.purge(gd);\n            observer.disconnect();\n        }}\n}});\n\n// Listen for the removal of the full notebook cells\nvar notebookContainer = gd.closest('#notebook-container');\nif (notebookContainer) {{\n    x.observe(notebookContainer, {childList: true});\n}}\n\n// Listen for the clearing of the current output cell\nvar outputEl = gd.closest('.output');\nif (outputEl) {{\n    x.observe(outputEl, {childList: true});\n}}\n\n                        })                };                });            </script>        </div>"
     },
     "metadata": {},
     "output_type": "display_data"
    }
   ],
   "source": [
    "fig = go.Figure()\n",
    "\n",
    "for i, y_i in enumerate(eps_M_opts):\n",
    "    fig.add_trace(go.Scatter(x=x, y=y_i, mode='lines',name=r'$\\epsilon_{opt} = %.2f$' % eps_list[i]))\n",
    "\n",
    "fig.update_layout(\n",
    "    title=r'$M_{opt}\\text{ for every %d games for different values of }\\epsilon_{opt}$' % averaging_steps,\n",
    "    xaxis_title=r'$game$',\n",
    "    yaxis_title=r'$M_{opt}$',\n",
    "    width=1200, height=400\n",
    ")\n",
    "\n",
    "fig.show()"
   ]
  },
  {
   "cell_type": "code",
   "execution_count": 38,
   "metadata": {
    "collapsed": false,
    "pycharm": {
     "name": "#%%\n"
    }
   },
   "outputs": [
    {
     "data": {
      "application/vnd.plotly.v1+json": {
       "data": [
        {
         "mode": "lines",
         "name": "$\\epsilon_{opt} = 0.00$",
         "x": [
          249,
          499,
          749,
          999,
          1249,
          1499,
          1749,
          1999,
          2249,
          2499,
          2749,
          2999,
          3249,
          3499,
          3749,
          3999,
          4249,
          4499,
          4749,
          4999,
          5249,
          5499,
          5749,
          5999,
          6249,
          6499,
          6749,
          6999,
          7249,
          7499,
          7749,
          7999,
          8249,
          8499,
          8749,
          8999,
          9249,
          9499,
          9749,
          9999,
          10249,
          10499,
          10749,
          10999,
          11249,
          11499,
          11749,
          11999,
          12249,
          12499,
          12749,
          12999,
          13249,
          13499,
          13749,
          13999,
          14249,
          14499,
          14749,
          14999,
          15249,
          15499,
          15749,
          15999,
          16249,
          16499,
          16749,
          16999,
          17249,
          17499,
          17749,
          17999,
          18249,
          18499,
          18749,
          18999,
          19249,
          19499,
          19749,
          19999
         ],
         "y": [
          -0.91,
          -0.966,
          -0.916,
          -0.906,
          -0.862,
          -0.854,
          -0.77,
          -0.69,
          -0.656,
          -0.512,
          -0.584,
          -0.496,
          -0.41,
          -0.362,
          -0.496,
          -0.492,
          -0.472,
          -0.45,
          -0.326,
          -0.32,
          -0.396,
          -0.368,
          -0.364,
          -0.428,
          -0.254,
          -0.32,
          -0.294,
          -0.234,
          -0.32,
          -0.296,
          -0.346,
          -0.268,
          -0.262,
          -0.268,
          -0.46,
          -0.424,
          -0.322,
          -0.362,
          -0.318,
          -0.35,
          -0.306,
          -0.222,
          -0.32,
          -0.25,
          -0.178,
          -0.228,
          -0.22,
          -0.502,
          -0.204,
          -0.164,
          -0.258,
          -0.252,
          -0.338,
          -0.406,
          -0.446,
          -0.372,
          -0.256,
          -0.274,
          -0.23,
          -0.196,
          -0.244,
          -0.264,
          -0.308,
          -0.304,
          -0.232,
          -0.236,
          -0.256,
          -0.308,
          -0.282,
          -0.236,
          -0.442,
          -0.378,
          -0.23,
          -0.264,
          -0.6,
          -0.568,
          -0.144,
          -0.124,
          -0.382,
          -0.342
         ],
         "type": "scatter"
        },
        {
         "mode": "lines",
         "name": "$\\epsilon_{opt} = 0.10$",
         "x": [
          249,
          499,
          749,
          999,
          1249,
          1499,
          1749,
          1999,
          2249,
          2499,
          2749,
          2999,
          3249,
          3499,
          3749,
          3999,
          4249,
          4499,
          4749,
          4999,
          5249,
          5499,
          5749,
          5999,
          6249,
          6499,
          6749,
          6999,
          7249,
          7499,
          7749,
          7999,
          8249,
          8499,
          8749,
          8999,
          9249,
          9499,
          9749,
          9999,
          10249,
          10499,
          10749,
          10999,
          11249,
          11499,
          11749,
          11999,
          12249,
          12499,
          12749,
          12999,
          13249,
          13499,
          13749,
          13999,
          14249,
          14499,
          14749,
          14999,
          15249,
          15499,
          15749,
          15999,
          16249,
          16499,
          16749,
          16999,
          17249,
          17499,
          17749,
          17999,
          18249,
          18499,
          18749,
          18999,
          19249,
          19499,
          19749,
          19999
         ],
         "y": [
          -0.988,
          -0.91,
          -0.892,
          -0.652,
          -0.546,
          -0.572,
          -0.364,
          -0.276,
          -0.284,
          -0.122,
          -0.186,
          0.034,
          -0.066,
          -0.102,
          0.07,
          0.162,
          0.506,
          0.508,
          0.532,
          0.552,
          0.494,
          0.618,
          0.582,
          0.696,
          0.706,
          0.728,
          0.724,
          0.718,
          0.71,
          0.538,
          0.494,
          0.496,
          0.716,
          0.752,
          0.758,
          0.748,
          0.774,
          0.814,
          0.764,
          0.806,
          0.806,
          0.812,
          0.798,
          0.804,
          0.82,
          0.796,
          0.808,
          0.82,
          0.794,
          0.822,
          0.81,
          0.814,
          0.848,
          0.832,
          0.706,
          0.79,
          0.862,
          0.828,
          0.82,
          0.89,
          0.876,
          0.882,
          0.856,
          0.848,
          0.858,
          0.782,
          0.856,
          0.864,
          0.806,
          0.87,
          0.884,
          0.884,
          0.878,
          0.894,
          0.904,
          0.864,
          0.922,
          0.906,
          0.926,
          0.938
         ],
         "type": "scatter"
        },
        {
         "mode": "lines",
         "name": "$\\epsilon_{opt} = 0.20$",
         "x": [
          249,
          499,
          749,
          999,
          1249,
          1499,
          1749,
          1999,
          2249,
          2499,
          2749,
          2999,
          3249,
          3499,
          3749,
          3999,
          4249,
          4499,
          4749,
          4999,
          5249,
          5499,
          5749,
          5999,
          6249,
          6499,
          6749,
          6999,
          7249,
          7499,
          7749,
          7999,
          8249,
          8499,
          8749,
          8999,
          9249,
          9499,
          9749,
          9999,
          10249,
          10499,
          10749,
          10999,
          11249,
          11499,
          11749,
          11999,
          12249,
          12499,
          12749,
          12999,
          13249,
          13499,
          13749,
          13999,
          14249,
          14499,
          14749,
          14999,
          15249,
          15499,
          15749,
          15999,
          16249,
          16499,
          16749,
          16999,
          17249,
          17499,
          17749,
          17999,
          18249,
          18499,
          18749,
          18999,
          19249,
          19499,
          19749,
          19999
         ],
         "y": [
          -0.976,
          -0.926,
          -0.814,
          -0.662,
          -0.41,
          -0.136,
          0.102,
          0.188,
          0.272,
          0.296,
          0.446,
          0.506,
          0.636,
          0.696,
          0.82,
          0.84,
          0.866,
          0.862,
          0.888,
          0.876,
          0.848,
          0.878,
          0.92,
          0.894,
          0.876,
          0.888,
          0.906,
          0.924,
          0.896,
          0.878,
          0.892,
          0.898,
          0.932,
          0.916,
          0.932,
          0.938,
          0.954,
          0.93,
          0.918,
          0.902,
          0.902,
          0.91,
          0.932,
          0.946,
          0.914,
          0.934,
          0.938,
          0.92,
          0.934,
          0.934,
          0.932,
          0.914,
          0.928,
          0.932,
          0.922,
          0.912,
          0.942,
          0.946,
          0.938,
          0.938,
          0.926,
          0.922,
          0.936,
          0.938,
          0.934,
          0.932,
          0.944,
          0.91,
          0.934,
          0.934,
          0.922,
          0.924,
          0.92,
          0.93,
          0.926,
          0.926,
          0.924,
          0.936,
          0.94,
          0.938
         ],
         "type": "scatter"
        },
        {
         "mode": "lines",
         "name": "$\\epsilon_{opt} = 0.30$",
         "x": [
          249,
          499,
          749,
          999,
          1249,
          1499,
          1749,
          1999,
          2249,
          2499,
          2749,
          2999,
          3249,
          3499,
          3749,
          3999,
          4249,
          4499,
          4749,
          4999,
          5249,
          5499,
          5749,
          5999,
          6249,
          6499,
          6749,
          6999,
          7249,
          7499,
          7749,
          7999,
          8249,
          8499,
          8749,
          8999,
          9249,
          9499,
          9749,
          9999,
          10249,
          10499,
          10749,
          10999,
          11249,
          11499,
          11749,
          11999,
          12249,
          12499,
          12749,
          12999,
          13249,
          13499,
          13749,
          13999,
          14249,
          14499,
          14749,
          14999,
          15249,
          15499,
          15749,
          15999,
          16249,
          16499,
          16749,
          16999,
          17249,
          17499,
          17749,
          17999,
          18249,
          18499,
          18749,
          18999,
          19249,
          19499,
          19749,
          19999
         ],
         "y": [
          -0.994,
          -0.876,
          -0.726,
          -0.486,
          -0.452,
          -0.212,
          -0.234,
          0.116,
          0.174,
          0.208,
          0.404,
          0.512,
          0.49,
          0.42,
          0.556,
          0.576,
          0.666,
          0.644,
          0.626,
          0.62,
          0.662,
          0.618,
          0.738,
          0.732,
          0.694,
          0.754,
          0.772,
          0.814,
          0.786,
          0.774,
          0.822,
          0.786,
          0.844,
          0.828,
          0.81,
          0.858,
          0.844,
          0.872,
          0.818,
          0.826,
          0.844,
          0.868,
          0.866,
          0.892,
          0.864,
          0.882,
          0.898,
          0.896,
          0.838,
          0.846,
          0.9,
          0.892,
          0.874,
          0.85,
          0.844,
          0.91,
          0.92,
          0.876,
          0.87,
          0.902,
          0.894,
          0.9,
          0.878,
          0.902,
          0.892,
          0.932,
          0.888,
          0.902,
          0.876,
          0.866,
          0.886,
          0.932,
          0.91,
          0.896,
          0.888,
          0.838,
          0.846,
          0.91,
          0.874,
          0.882
         ],
         "type": "scatter"
        },
        {
         "mode": "lines",
         "name": "$\\epsilon_{opt} = 0.40$",
         "x": [
          249,
          499,
          749,
          999,
          1249,
          1499,
          1749,
          1999,
          2249,
          2499,
          2749,
          2999,
          3249,
          3499,
          3749,
          3999,
          4249,
          4499,
          4749,
          4999,
          5249,
          5499,
          5749,
          5999,
          6249,
          6499,
          6749,
          6999,
          7249,
          7499,
          7749,
          7999,
          8249,
          8499,
          8749,
          8999,
          9249,
          9499,
          9749,
          9999,
          10249,
          10499,
          10749,
          10999,
          11249,
          11499,
          11749,
          11999,
          12249,
          12499,
          12749,
          12999,
          13249,
          13499,
          13749,
          13999,
          14249,
          14499,
          14749,
          14999,
          15249,
          15499,
          15749,
          15999,
          16249,
          16499,
          16749,
          16999,
          17249,
          17499,
          17749,
          17999,
          18249,
          18499,
          18749,
          18999,
          19249,
          19499,
          19749,
          19999
         ],
         "y": [
          -0.968,
          -0.88,
          -0.61,
          -0.09,
          0.124,
          0.474,
          0.672,
          0.68,
          0.694,
          0.658,
          0.77,
          0.846,
          0.868,
          0.85,
          0.856,
          0.862,
          0.878,
          0.9,
          0.896,
          0.908,
          0.926,
          0.9,
          0.886,
          0.922,
          0.928,
          0.912,
          0.948,
          0.91,
          0.926,
          0.936,
          0.946,
          0.94,
          0.932,
          0.916,
          0.912,
          0.894,
          0.938,
          0.922,
          0.954,
          0.93,
          0.916,
          0.934,
          0.944,
          0.934,
          0.936,
          0.93,
          0.946,
          0.938,
          0.938,
          0.92,
          0.952,
          0.922,
          0.928,
          0.934,
          0.926,
          0.942,
          0.956,
          0.952,
          0.952,
          0.942,
          0.966,
          0.934,
          0.936,
          0.95,
          0.924,
          0.932,
          0.936,
          0.95,
          0.92,
          0.946,
          0.94,
          0.952,
          0.952,
          0.936,
          0.956,
          0.934,
          0.944,
          0.952,
          0.934,
          0.952
         ],
         "type": "scatter"
        },
        {
         "mode": "lines",
         "name": "$\\epsilon_{opt} = 0.50$",
         "x": [
          249,
          499,
          749,
          999,
          1249,
          1499,
          1749,
          1999,
          2249,
          2499,
          2749,
          2999,
          3249,
          3499,
          3749,
          3999,
          4249,
          4499,
          4749,
          4999,
          5249,
          5499,
          5749,
          5999,
          6249,
          6499,
          6749,
          6999,
          7249,
          7499,
          7749,
          7999,
          8249,
          8499,
          8749,
          8999,
          9249,
          9499,
          9749,
          9999,
          10249,
          10499,
          10749,
          10999,
          11249,
          11499,
          11749,
          11999,
          12249,
          12499,
          12749,
          12999,
          13249,
          13499,
          13749,
          13999,
          14249,
          14499,
          14749,
          14999,
          15249,
          15499,
          15749,
          15999,
          16249,
          16499,
          16749,
          16999,
          17249,
          17499,
          17749,
          17999,
          18249,
          18499,
          18749,
          18999,
          19249,
          19499,
          19749,
          19999
         ],
         "y": [
          -0.84,
          -0.742,
          -0.752,
          0.044,
          0.194,
          0.512,
          0.712,
          0.81,
          0.836,
          0.834,
          0.838,
          0.82,
          0.834,
          0.844,
          0.86,
          0.874,
          0.902,
          0.932,
          0.93,
          0.86,
          0.91,
          0.904,
          0.89,
          0.91,
          0.878,
          0.948,
          0.922,
          0.934,
          0.924,
          0.936,
          0.93,
          0.93,
          0.956,
          0.946,
          0.918,
          0.93,
          0.926,
          0.91,
          0.94,
          0.93,
          0.936,
          0.938,
          0.93,
          0.95,
          0.932,
          0.934,
          0.918,
          0.934,
          0.922,
          0.928,
          0.958,
          0.956,
          0.934,
          0.932,
          0.94,
          0.95,
          0.936,
          0.956,
          0.922,
          0.922,
          0.95,
          0.95,
          0.926,
          0.948,
          0.908,
          0.94,
          0.922,
          0.938,
          0.918,
          0.96,
          0.938,
          0.966,
          0.946,
          0.934,
          0.938,
          0.934,
          0.934,
          0.96,
          0.952,
          0.942
         ],
         "type": "scatter"
        },
        {
         "mode": "lines",
         "name": "$\\epsilon_{opt} = 0.60$",
         "x": [
          249,
          499,
          749,
          999,
          1249,
          1499,
          1749,
          1999,
          2249,
          2499,
          2749,
          2999,
          3249,
          3499,
          3749,
          3999,
          4249,
          4499,
          4749,
          4999,
          5249,
          5499,
          5749,
          5999,
          6249,
          6499,
          6749,
          6999,
          7249,
          7499,
          7749,
          7999,
          8249,
          8499,
          8749,
          8999,
          9249,
          9499,
          9749,
          9999,
          10249,
          10499,
          10749,
          10999,
          11249,
          11499,
          11749,
          11999,
          12249,
          12499,
          12749,
          12999,
          13249,
          13499,
          13749,
          13999,
          14249,
          14499,
          14749,
          14999,
          15249,
          15499,
          15749,
          15999,
          16249,
          16499,
          16749,
          16999,
          17249,
          17499,
          17749,
          17999,
          18249,
          18499,
          18749,
          18999,
          19249,
          19499,
          19749,
          19999
         ],
         "y": [
          -0.888,
          -0.506,
          0.012,
          0.316,
          0.53,
          0.546,
          0.63,
          0.708,
          0.768,
          0.718,
          0.784,
          0.774,
          0.788,
          0.842,
          0.852,
          0.864,
          0.862,
          0.908,
          0.868,
          0.858,
          0.85,
          0.904,
          0.888,
          0.924,
          0.89,
          0.922,
          0.868,
          0.898,
          0.866,
          0.886,
          0.898,
          0.878,
          0.926,
          0.894,
          0.892,
          0.92,
          0.876,
          0.844,
          0.906,
          0.946,
          0.938,
          0.892,
          0.868,
          0.936,
          0.888,
          0.908,
          0.908,
          0.892,
          0.898,
          0.898,
          0.932,
          0.886,
          0.858,
          0.894,
          0.894,
          0.902,
          0.904,
          0.892,
          0.898,
          0.926,
          0.886,
          0.928,
          0.904,
          0.926,
          0.892,
          0.902,
          0.91,
          0.916,
          0.918,
          0.928,
          0.918,
          0.884,
          0.928,
          0.92,
          0.9,
          0.928,
          0.922,
          0.888,
          0.92,
          0.924
         ],
         "type": "scatter"
        },
        {
         "mode": "lines",
         "name": "$\\epsilon_{opt} = 0.70$",
         "x": [
          249,
          499,
          749,
          999,
          1249,
          1499,
          1749,
          1999,
          2249,
          2499,
          2749,
          2999,
          3249,
          3499,
          3749,
          3999,
          4249,
          4499,
          4749,
          4999,
          5249,
          5499,
          5749,
          5999,
          6249,
          6499,
          6749,
          6999,
          7249,
          7499,
          7749,
          7999,
          8249,
          8499,
          8749,
          8999,
          9249,
          9499,
          9749,
          9999,
          10249,
          10499,
          10749,
          10999,
          11249,
          11499,
          11749,
          11999,
          12249,
          12499,
          12749,
          12999,
          13249,
          13499,
          13749,
          13999,
          14249,
          14499,
          14749,
          14999,
          15249,
          15499,
          15749,
          15999,
          16249,
          16499,
          16749,
          16999,
          17249,
          17499,
          17749,
          17999,
          18249,
          18499,
          18749,
          18999,
          19249,
          19499,
          19749,
          19999
         ],
         "y": [
          -0.87,
          -0.688,
          -0.234,
          0.238,
          0.426,
          0.56,
          0.616,
          0.67,
          0.658,
          0.808,
          0.764,
          0.746,
          0.814,
          0.844,
          0.854,
          0.858,
          0.884,
          0.928,
          0.866,
          0.888,
          0.826,
          0.834,
          0.898,
          0.862,
          0.886,
          0.872,
          0.914,
          0.884,
          0.906,
          0.888,
          0.914,
          0.912,
          0.906,
          0.882,
          0.91,
          0.876,
          0.888,
          0.894,
          0.91,
          0.88,
          0.908,
          0.902,
          0.864,
          0.914,
          0.896,
          0.926,
          0.918,
          0.902,
          0.894,
          0.91,
          0.882,
          0.898,
          0.912,
          0.876,
          0.93,
          0.894,
          0.91,
          0.912,
          0.906,
          0.922,
          0.932,
          0.898,
          0.904,
          0.902,
          0.886,
          0.92,
          0.892,
          0.912,
          0.94,
          0.9,
          0.884,
          0.918,
          0.916,
          0.89,
          0.916,
          0.888,
          0.92,
          0.932,
          0.92,
          0.952
         ],
         "type": "scatter"
        },
        {
         "mode": "lines",
         "name": "$\\epsilon_{opt} = 0.80$",
         "x": [
          249,
          499,
          749,
          999,
          1249,
          1499,
          1749,
          1999,
          2249,
          2499,
          2749,
          2999,
          3249,
          3499,
          3749,
          3999,
          4249,
          4499,
          4749,
          4999,
          5249,
          5499,
          5749,
          5999,
          6249,
          6499,
          6749,
          6999,
          7249,
          7499,
          7749,
          7999,
          8249,
          8499,
          8749,
          8999,
          9249,
          9499,
          9749,
          9999,
          10249,
          10499,
          10749,
          10999,
          11249,
          11499,
          11749,
          11999,
          12249,
          12499,
          12749,
          12999,
          13249,
          13499,
          13749,
          13999,
          14249,
          14499,
          14749,
          14999,
          15249,
          15499,
          15749,
          15999,
          16249,
          16499,
          16749,
          16999,
          17249,
          17499,
          17749,
          17999,
          18249,
          18499,
          18749,
          18999,
          19249,
          19499,
          19749,
          19999
         ],
         "y": [
          -0.356,
          0.106,
          0.334,
          0.486,
          0.578,
          0.67,
          0.678,
          0.676,
          0.704,
          0.7,
          0.794,
          0.78,
          0.808,
          0.852,
          0.882,
          0.848,
          0.848,
          0.82,
          0.852,
          0.862,
          0.84,
          0.894,
          0.854,
          0.882,
          0.826,
          0.872,
          0.836,
          0.886,
          0.854,
          0.908,
          0.894,
          0.894,
          0.892,
          0.914,
          0.878,
          0.898,
          0.894,
          0.87,
          0.886,
          0.896,
          0.898,
          0.912,
          0.904,
          0.912,
          0.91,
          0.854,
          0.934,
          0.902,
          0.904,
          0.928,
          0.914,
          0.924,
          0.898,
          0.904,
          0.924,
          0.906,
          0.932,
          0.892,
          0.878,
          0.888,
          0.926,
          0.924,
          0.888,
          0.932,
          0.906,
          0.918,
          0.902,
          0.916,
          0.912,
          0.93,
          0.938,
          0.926,
          0.956,
          0.908,
          0.938,
          0.946,
          0.942,
          0.954,
          0.94,
          0.954
         ],
         "type": "scatter"
        },
        {
         "mode": "lines",
         "name": "$\\epsilon_{opt} = 0.90$",
         "x": [
          249,
          499,
          749,
          999,
          1249,
          1499,
          1749,
          1999,
          2249,
          2499,
          2749,
          2999,
          3249,
          3499,
          3749,
          3999,
          4249,
          4499,
          4749,
          4999,
          5249,
          5499,
          5749,
          5999,
          6249,
          6499,
          6749,
          6999,
          7249,
          7499,
          7749,
          7999,
          8249,
          8499,
          8749,
          8999,
          9249,
          9499,
          9749,
          9999,
          10249,
          10499,
          10749,
          10999,
          11249,
          11499,
          11749,
          11999,
          12249,
          12499,
          12749,
          12999,
          13249,
          13499,
          13749,
          13999,
          14249,
          14499,
          14749,
          14999,
          15249,
          15499,
          15749,
          15999,
          16249,
          16499,
          16749,
          16999,
          17249,
          17499,
          17749,
          17999,
          18249,
          18499,
          18749,
          18999,
          19249,
          19499,
          19749,
          19999
         ],
         "y": [
          -0.556,
          -0.352,
          0.224,
          0.548,
          0.516,
          0.684,
          0.78,
          0.756,
          0.842,
          0.808,
          0.862,
          0.844,
          0.866,
          0.85,
          0.898,
          0.828,
          0.85,
          0.82,
          0.886,
          0.868,
          0.864,
          0.83,
          0.882,
          0.888,
          0.896,
          0.91,
          0.902,
          0.9,
          0.88,
          0.876,
          0.898,
          0.902,
          0.91,
          0.886,
          0.894,
          0.898,
          0.91,
          0.902,
          0.908,
          0.886,
          0.882,
          0.872,
          0.92,
          0.932,
          0.912,
          0.916,
          0.906,
          0.938,
          0.918,
          0.93,
          0.892,
          0.92,
          0.936,
          0.934,
          0.926,
          0.944,
          0.92,
          0.932,
          0.876,
          0.936,
          0.928,
          0.936,
          0.93,
          0.91,
          0.914,
          0.934,
          0.902,
          0.924,
          0.938,
          0.926,
          0.942,
          0.928,
          0.934,
          0.946,
          0.942,
          0.932,
          0.932,
          0.934,
          0.94,
          0.93
         ],
         "type": "scatter"
        },
        {
         "mode": "lines",
         "name": "$\\epsilon_{opt} = 1.00$",
         "x": [
          249,
          499,
          749,
          999,
          1249,
          1499,
          1749,
          1999,
          2249,
          2499,
          2749,
          2999,
          3249,
          3499,
          3749,
          3999,
          4249,
          4499,
          4749,
          4999,
          5249,
          5499,
          5749,
          5999,
          6249,
          6499,
          6749,
          6999,
          7249,
          7499,
          7749,
          7999,
          8249,
          8499,
          8749,
          8999,
          9249,
          9499,
          9749,
          9999,
          10249,
          10499,
          10749,
          10999,
          11249,
          11499,
          11749,
          11999,
          12249,
          12499,
          12749,
          12999,
          13249,
          13499,
          13749,
          13999,
          14249,
          14499,
          14749,
          14999,
          15249,
          15499,
          15749,
          15999,
          16249,
          16499,
          16749,
          16999,
          17249,
          17499,
          17749,
          17999,
          18249,
          18499,
          18749,
          18999,
          19249,
          19499,
          19749,
          19999
         ],
         "y": [
          -0.72,
          -0.248,
          0.304,
          0.436,
          0.68,
          0.712,
          0.712,
          0.834,
          0.792,
          0.832,
          0.806,
          0.824,
          0.842,
          0.82,
          0.842,
          0.854,
          0.88,
          0.872,
          0.856,
          0.852,
          0.878,
          0.888,
          0.872,
          0.842,
          0.852,
          0.88,
          0.856,
          0.91,
          0.862,
          0.86,
          0.888,
          0.86,
          0.878,
          0.904,
          0.864,
          0.876,
          0.862,
          0.864,
          0.882,
          0.872,
          0.868,
          0.9,
          0.89,
          0.912,
          0.874,
          0.902,
          0.9,
          0.874,
          0.882,
          0.868,
          0.868,
          0.924,
          0.922,
          0.914,
          0.9,
          0.91,
          0.898,
          0.892,
          0.892,
          0.884,
          0.886,
          0.866,
          0.898,
          0.914,
          0.894,
          0.908,
          0.912,
          0.936,
          0.92,
          0.876,
          0.888,
          0.902,
          0.926,
          0.934,
          0.918,
          0.912,
          0.92,
          0.894,
          0.918,
          0.894
         ],
         "type": "scatter"
        }
       ],
       "layout": {
        "template": {
         "data": {
          "histogram2dcontour": [
           {
            "type": "histogram2dcontour",
            "colorbar": {
             "outlinewidth": 0,
             "ticks": ""
            },
            "colorscale": [
             [
              0.0,
              "#0d0887"
             ],
             [
              0.1111111111111111,
              "#46039f"
             ],
             [
              0.2222222222222222,
              "#7201a8"
             ],
             [
              0.3333333333333333,
              "#9c179e"
             ],
             [
              0.4444444444444444,
              "#bd3786"
             ],
             [
              0.5555555555555556,
              "#d8576b"
             ],
             [
              0.6666666666666666,
              "#ed7953"
             ],
             [
              0.7777777777777778,
              "#fb9f3a"
             ],
             [
              0.8888888888888888,
              "#fdca26"
             ],
             [
              1.0,
              "#f0f921"
             ]
            ]
           }
          ],
          "choropleth": [
           {
            "type": "choropleth",
            "colorbar": {
             "outlinewidth": 0,
             "ticks": ""
            }
           }
          ],
          "histogram2d": [
           {
            "type": "histogram2d",
            "colorbar": {
             "outlinewidth": 0,
             "ticks": ""
            },
            "colorscale": [
             [
              0.0,
              "#0d0887"
             ],
             [
              0.1111111111111111,
              "#46039f"
             ],
             [
              0.2222222222222222,
              "#7201a8"
             ],
             [
              0.3333333333333333,
              "#9c179e"
             ],
             [
              0.4444444444444444,
              "#bd3786"
             ],
             [
              0.5555555555555556,
              "#d8576b"
             ],
             [
              0.6666666666666666,
              "#ed7953"
             ],
             [
              0.7777777777777778,
              "#fb9f3a"
             ],
             [
              0.8888888888888888,
              "#fdca26"
             ],
             [
              1.0,
              "#f0f921"
             ]
            ]
           }
          ],
          "heatmap": [
           {
            "type": "heatmap",
            "colorbar": {
             "outlinewidth": 0,
             "ticks": ""
            },
            "colorscale": [
             [
              0.0,
              "#0d0887"
             ],
             [
              0.1111111111111111,
              "#46039f"
             ],
             [
              0.2222222222222222,
              "#7201a8"
             ],
             [
              0.3333333333333333,
              "#9c179e"
             ],
             [
              0.4444444444444444,
              "#bd3786"
             ],
             [
              0.5555555555555556,
              "#d8576b"
             ],
             [
              0.6666666666666666,
              "#ed7953"
             ],
             [
              0.7777777777777778,
              "#fb9f3a"
             ],
             [
              0.8888888888888888,
              "#fdca26"
             ],
             [
              1.0,
              "#f0f921"
             ]
            ]
           }
          ],
          "heatmapgl": [
           {
            "type": "heatmapgl",
            "colorbar": {
             "outlinewidth": 0,
             "ticks": ""
            },
            "colorscale": [
             [
              0.0,
              "#0d0887"
             ],
             [
              0.1111111111111111,
              "#46039f"
             ],
             [
              0.2222222222222222,
              "#7201a8"
             ],
             [
              0.3333333333333333,
              "#9c179e"
             ],
             [
              0.4444444444444444,
              "#bd3786"
             ],
             [
              0.5555555555555556,
              "#d8576b"
             ],
             [
              0.6666666666666666,
              "#ed7953"
             ],
             [
              0.7777777777777778,
              "#fb9f3a"
             ],
             [
              0.8888888888888888,
              "#fdca26"
             ],
             [
              1.0,
              "#f0f921"
             ]
            ]
           }
          ],
          "contourcarpet": [
           {
            "type": "contourcarpet",
            "colorbar": {
             "outlinewidth": 0,
             "ticks": ""
            }
           }
          ],
          "contour": [
           {
            "type": "contour",
            "colorbar": {
             "outlinewidth": 0,
             "ticks": ""
            },
            "colorscale": [
             [
              0.0,
              "#0d0887"
             ],
             [
              0.1111111111111111,
              "#46039f"
             ],
             [
              0.2222222222222222,
              "#7201a8"
             ],
             [
              0.3333333333333333,
              "#9c179e"
             ],
             [
              0.4444444444444444,
              "#bd3786"
             ],
             [
              0.5555555555555556,
              "#d8576b"
             ],
             [
              0.6666666666666666,
              "#ed7953"
             ],
             [
              0.7777777777777778,
              "#fb9f3a"
             ],
             [
              0.8888888888888888,
              "#fdca26"
             ],
             [
              1.0,
              "#f0f921"
             ]
            ]
           }
          ],
          "surface": [
           {
            "type": "surface",
            "colorbar": {
             "outlinewidth": 0,
             "ticks": ""
            },
            "colorscale": [
             [
              0.0,
              "#0d0887"
             ],
             [
              0.1111111111111111,
              "#46039f"
             ],
             [
              0.2222222222222222,
              "#7201a8"
             ],
             [
              0.3333333333333333,
              "#9c179e"
             ],
             [
              0.4444444444444444,
              "#bd3786"
             ],
             [
              0.5555555555555556,
              "#d8576b"
             ],
             [
              0.6666666666666666,
              "#ed7953"
             ],
             [
              0.7777777777777778,
              "#fb9f3a"
             ],
             [
              0.8888888888888888,
              "#fdca26"
             ],
             [
              1.0,
              "#f0f921"
             ]
            ]
           }
          ],
          "mesh3d": [
           {
            "type": "mesh3d",
            "colorbar": {
             "outlinewidth": 0,
             "ticks": ""
            }
           }
          ],
          "scatter": [
           {
            "fillpattern": {
             "fillmode": "overlay",
             "size": 10,
             "solidity": 0.2
            },
            "type": "scatter"
           }
          ],
          "parcoords": [
           {
            "type": "parcoords",
            "line": {
             "colorbar": {
              "outlinewidth": 0,
              "ticks": ""
             }
            }
           }
          ],
          "scatterpolargl": [
           {
            "type": "scatterpolargl",
            "marker": {
             "colorbar": {
              "outlinewidth": 0,
              "ticks": ""
             }
            }
           }
          ],
          "bar": [
           {
            "error_x": {
             "color": "#2a3f5f"
            },
            "error_y": {
             "color": "#2a3f5f"
            },
            "marker": {
             "line": {
              "color": "#E5ECF6",
              "width": 0.5
             },
             "pattern": {
              "fillmode": "overlay",
              "size": 10,
              "solidity": 0.2
             }
            },
            "type": "bar"
           }
          ],
          "scattergeo": [
           {
            "type": "scattergeo",
            "marker": {
             "colorbar": {
              "outlinewidth": 0,
              "ticks": ""
             }
            }
           }
          ],
          "scatterpolar": [
           {
            "type": "scatterpolar",
            "marker": {
             "colorbar": {
              "outlinewidth": 0,
              "ticks": ""
             }
            }
           }
          ],
          "histogram": [
           {
            "marker": {
             "pattern": {
              "fillmode": "overlay",
              "size": 10,
              "solidity": 0.2
             }
            },
            "type": "histogram"
           }
          ],
          "scattergl": [
           {
            "type": "scattergl",
            "marker": {
             "colorbar": {
              "outlinewidth": 0,
              "ticks": ""
             }
            }
           }
          ],
          "scatter3d": [
           {
            "type": "scatter3d",
            "line": {
             "colorbar": {
              "outlinewidth": 0,
              "ticks": ""
             }
            },
            "marker": {
             "colorbar": {
              "outlinewidth": 0,
              "ticks": ""
             }
            }
           }
          ],
          "scattermapbox": [
           {
            "type": "scattermapbox",
            "marker": {
             "colorbar": {
              "outlinewidth": 0,
              "ticks": ""
             }
            }
           }
          ],
          "scatterternary": [
           {
            "type": "scatterternary",
            "marker": {
             "colorbar": {
              "outlinewidth": 0,
              "ticks": ""
             }
            }
           }
          ],
          "scattercarpet": [
           {
            "type": "scattercarpet",
            "marker": {
             "colorbar": {
              "outlinewidth": 0,
              "ticks": ""
             }
            }
           }
          ],
          "carpet": [
           {
            "aaxis": {
             "endlinecolor": "#2a3f5f",
             "gridcolor": "white",
             "linecolor": "white",
             "minorgridcolor": "white",
             "startlinecolor": "#2a3f5f"
            },
            "baxis": {
             "endlinecolor": "#2a3f5f",
             "gridcolor": "white",
             "linecolor": "white",
             "minorgridcolor": "white",
             "startlinecolor": "#2a3f5f"
            },
            "type": "carpet"
           }
          ],
          "table": [
           {
            "cells": {
             "fill": {
              "color": "#EBF0F8"
             },
             "line": {
              "color": "white"
             }
            },
            "header": {
             "fill": {
              "color": "#C8D4E3"
             },
             "line": {
              "color": "white"
             }
            },
            "type": "table"
           }
          ],
          "barpolar": [
           {
            "marker": {
             "line": {
              "color": "#E5ECF6",
              "width": 0.5
             },
             "pattern": {
              "fillmode": "overlay",
              "size": 10,
              "solidity": 0.2
             }
            },
            "type": "barpolar"
           }
          ],
          "pie": [
           {
            "automargin": true,
            "type": "pie"
           }
          ]
         },
         "layout": {
          "autotypenumbers": "strict",
          "colorway": [
           "#636efa",
           "#EF553B",
           "#00cc96",
           "#ab63fa",
           "#FFA15A",
           "#19d3f3",
           "#FF6692",
           "#B6E880",
           "#FF97FF",
           "#FECB52"
          ],
          "font": {
           "color": "#2a3f5f"
          },
          "hovermode": "closest",
          "hoverlabel": {
           "align": "left"
          },
          "paper_bgcolor": "white",
          "plot_bgcolor": "#E5ECF6",
          "polar": {
           "bgcolor": "#E5ECF6",
           "angularaxis": {
            "gridcolor": "white",
            "linecolor": "white",
            "ticks": ""
           },
           "radialaxis": {
            "gridcolor": "white",
            "linecolor": "white",
            "ticks": ""
           }
          },
          "ternary": {
           "bgcolor": "#E5ECF6",
           "aaxis": {
            "gridcolor": "white",
            "linecolor": "white",
            "ticks": ""
           },
           "baxis": {
            "gridcolor": "white",
            "linecolor": "white",
            "ticks": ""
           },
           "caxis": {
            "gridcolor": "white",
            "linecolor": "white",
            "ticks": ""
           }
          },
          "coloraxis": {
           "colorbar": {
            "outlinewidth": 0,
            "ticks": ""
           }
          },
          "colorscale": {
           "sequential": [
            [
             0.0,
             "#0d0887"
            ],
            [
             0.1111111111111111,
             "#46039f"
            ],
            [
             0.2222222222222222,
             "#7201a8"
            ],
            [
             0.3333333333333333,
             "#9c179e"
            ],
            [
             0.4444444444444444,
             "#bd3786"
            ],
            [
             0.5555555555555556,
             "#d8576b"
            ],
            [
             0.6666666666666666,
             "#ed7953"
            ],
            [
             0.7777777777777778,
             "#fb9f3a"
            ],
            [
             0.8888888888888888,
             "#fdca26"
            ],
            [
             1.0,
             "#f0f921"
            ]
           ],
           "sequentialminus": [
            [
             0.0,
             "#0d0887"
            ],
            [
             0.1111111111111111,
             "#46039f"
            ],
            [
             0.2222222222222222,
             "#7201a8"
            ],
            [
             0.3333333333333333,
             "#9c179e"
            ],
            [
             0.4444444444444444,
             "#bd3786"
            ],
            [
             0.5555555555555556,
             "#d8576b"
            ],
            [
             0.6666666666666666,
             "#ed7953"
            ],
            [
             0.7777777777777778,
             "#fb9f3a"
            ],
            [
             0.8888888888888888,
             "#fdca26"
            ],
            [
             1.0,
             "#f0f921"
            ]
           ],
           "diverging": [
            [
             0,
             "#8e0152"
            ],
            [
             0.1,
             "#c51b7d"
            ],
            [
             0.2,
             "#de77ae"
            ],
            [
             0.3,
             "#f1b6da"
            ],
            [
             0.4,
             "#fde0ef"
            ],
            [
             0.5,
             "#f7f7f7"
            ],
            [
             0.6,
             "#e6f5d0"
            ],
            [
             0.7,
             "#b8e186"
            ],
            [
             0.8,
             "#7fbc41"
            ],
            [
             0.9,
             "#4d9221"
            ],
            [
             1,
             "#276419"
            ]
           ]
          },
          "xaxis": {
           "gridcolor": "white",
           "linecolor": "white",
           "ticks": "",
           "title": {
            "standoff": 15
           },
           "zerolinecolor": "white",
           "automargin": true,
           "zerolinewidth": 2
          },
          "yaxis": {
           "gridcolor": "white",
           "linecolor": "white",
           "ticks": "",
           "title": {
            "standoff": 15
           },
           "zerolinecolor": "white",
           "automargin": true,
           "zerolinewidth": 2
          },
          "scene": {
           "xaxis": {
            "backgroundcolor": "#E5ECF6",
            "gridcolor": "white",
            "linecolor": "white",
            "showbackground": true,
            "ticks": "",
            "zerolinecolor": "white",
            "gridwidth": 2
           },
           "yaxis": {
            "backgroundcolor": "#E5ECF6",
            "gridcolor": "white",
            "linecolor": "white",
            "showbackground": true,
            "ticks": "",
            "zerolinecolor": "white",
            "gridwidth": 2
           },
           "zaxis": {
            "backgroundcolor": "#E5ECF6",
            "gridcolor": "white",
            "linecolor": "white",
            "showbackground": true,
            "ticks": "",
            "zerolinecolor": "white",
            "gridwidth": 2
           }
          },
          "shapedefaults": {
           "line": {
            "color": "#2a3f5f"
           }
          },
          "annotationdefaults": {
           "arrowcolor": "#2a3f5f",
           "arrowhead": 0,
           "arrowwidth": 1
          },
          "geo": {
           "bgcolor": "white",
           "landcolor": "#E5ECF6",
           "subunitcolor": "white",
           "showland": true,
           "showlakes": true,
           "lakecolor": "white"
          },
          "title": {
           "x": 0.05
          },
          "mapbox": {
           "style": "light"
          }
         }
        },
        "title": {
         "text": "$M_{rand}\\text{ for every 250 games for different values of }\\epsilon_{opt}$"
        },
        "xaxis": {
         "title": {
          "text": "$game$"
         }
        },
        "yaxis": {
         "title": {
          "text": "$M_{rand}$"
         }
        },
        "width": 1200,
        "height": 400
       },
       "config": {
        "plotlyServerURL": "https://plot.ly"
       }
      },
      "text/html": "<div>                            <div id=\"fc4ff07b-3119-4150-9647-c3de4fd0de7b\" class=\"plotly-graph-div\" style=\"height:400px; width:1200px;\"></div>            <script type=\"text/javascript\">                require([\"plotly\"], function(Plotly) {                    window.PLOTLYENV=window.PLOTLYENV || {};                                    if (document.getElementById(\"fc4ff07b-3119-4150-9647-c3de4fd0de7b\")) {                    Plotly.newPlot(                        \"fc4ff07b-3119-4150-9647-c3de4fd0de7b\",                        [{\"mode\":\"lines\",\"name\":\"$\\\\epsilon_{opt} = 0.00$\",\"x\":[249,499,749,999,1249,1499,1749,1999,2249,2499,2749,2999,3249,3499,3749,3999,4249,4499,4749,4999,5249,5499,5749,5999,6249,6499,6749,6999,7249,7499,7749,7999,8249,8499,8749,8999,9249,9499,9749,9999,10249,10499,10749,10999,11249,11499,11749,11999,12249,12499,12749,12999,13249,13499,13749,13999,14249,14499,14749,14999,15249,15499,15749,15999,16249,16499,16749,16999,17249,17499,17749,17999,18249,18499,18749,18999,19249,19499,19749,19999],\"y\":[-0.91,-0.966,-0.916,-0.906,-0.862,-0.854,-0.77,-0.69,-0.656,-0.512,-0.584,-0.496,-0.41,-0.362,-0.496,-0.492,-0.472,-0.45,-0.326,-0.32,-0.396,-0.368,-0.364,-0.428,-0.254,-0.32,-0.294,-0.234,-0.32,-0.296,-0.346,-0.268,-0.262,-0.268,-0.46,-0.424,-0.322,-0.362,-0.318,-0.35,-0.306,-0.222,-0.32,-0.25,-0.178,-0.228,-0.22,-0.502,-0.204,-0.164,-0.258,-0.252,-0.338,-0.406,-0.446,-0.372,-0.256,-0.274,-0.23,-0.196,-0.244,-0.264,-0.308,-0.304,-0.232,-0.236,-0.256,-0.308,-0.282,-0.236,-0.442,-0.378,-0.23,-0.264,-0.6,-0.568,-0.144,-0.124,-0.382,-0.342],\"type\":\"scatter\"},{\"mode\":\"lines\",\"name\":\"$\\\\epsilon_{opt} = 0.10$\",\"x\":[249,499,749,999,1249,1499,1749,1999,2249,2499,2749,2999,3249,3499,3749,3999,4249,4499,4749,4999,5249,5499,5749,5999,6249,6499,6749,6999,7249,7499,7749,7999,8249,8499,8749,8999,9249,9499,9749,9999,10249,10499,10749,10999,11249,11499,11749,11999,12249,12499,12749,12999,13249,13499,13749,13999,14249,14499,14749,14999,15249,15499,15749,15999,16249,16499,16749,16999,17249,17499,17749,17999,18249,18499,18749,18999,19249,19499,19749,19999],\"y\":[-0.988,-0.91,-0.892,-0.652,-0.546,-0.572,-0.364,-0.276,-0.284,-0.122,-0.186,0.034,-0.066,-0.102,0.07,0.162,0.506,0.508,0.532,0.552,0.494,0.618,0.582,0.696,0.706,0.728,0.724,0.718,0.71,0.538,0.494,0.496,0.716,0.752,0.758,0.748,0.774,0.814,0.764,0.806,0.806,0.812,0.798,0.804,0.82,0.796,0.808,0.82,0.794,0.822,0.81,0.814,0.848,0.832,0.706,0.79,0.862,0.828,0.82,0.89,0.876,0.882,0.856,0.848,0.858,0.782,0.856,0.864,0.806,0.87,0.884,0.884,0.878,0.894,0.904,0.864,0.922,0.906,0.926,0.938],\"type\":\"scatter\"},{\"mode\":\"lines\",\"name\":\"$\\\\epsilon_{opt} = 0.20$\",\"x\":[249,499,749,999,1249,1499,1749,1999,2249,2499,2749,2999,3249,3499,3749,3999,4249,4499,4749,4999,5249,5499,5749,5999,6249,6499,6749,6999,7249,7499,7749,7999,8249,8499,8749,8999,9249,9499,9749,9999,10249,10499,10749,10999,11249,11499,11749,11999,12249,12499,12749,12999,13249,13499,13749,13999,14249,14499,14749,14999,15249,15499,15749,15999,16249,16499,16749,16999,17249,17499,17749,17999,18249,18499,18749,18999,19249,19499,19749,19999],\"y\":[-0.976,-0.926,-0.814,-0.662,-0.41,-0.136,0.102,0.188,0.272,0.296,0.446,0.506,0.636,0.696,0.82,0.84,0.866,0.862,0.888,0.876,0.848,0.878,0.92,0.894,0.876,0.888,0.906,0.924,0.896,0.878,0.892,0.898,0.932,0.916,0.932,0.938,0.954,0.93,0.918,0.902,0.902,0.91,0.932,0.946,0.914,0.934,0.938,0.92,0.934,0.934,0.932,0.914,0.928,0.932,0.922,0.912,0.942,0.946,0.938,0.938,0.926,0.922,0.936,0.938,0.934,0.932,0.944,0.91,0.934,0.934,0.922,0.924,0.92,0.93,0.926,0.926,0.924,0.936,0.94,0.938],\"type\":\"scatter\"},{\"mode\":\"lines\",\"name\":\"$\\\\epsilon_{opt} = 0.30$\",\"x\":[249,499,749,999,1249,1499,1749,1999,2249,2499,2749,2999,3249,3499,3749,3999,4249,4499,4749,4999,5249,5499,5749,5999,6249,6499,6749,6999,7249,7499,7749,7999,8249,8499,8749,8999,9249,9499,9749,9999,10249,10499,10749,10999,11249,11499,11749,11999,12249,12499,12749,12999,13249,13499,13749,13999,14249,14499,14749,14999,15249,15499,15749,15999,16249,16499,16749,16999,17249,17499,17749,17999,18249,18499,18749,18999,19249,19499,19749,19999],\"y\":[-0.994,-0.876,-0.726,-0.486,-0.452,-0.212,-0.234,0.116,0.174,0.208,0.404,0.512,0.49,0.42,0.556,0.576,0.666,0.644,0.626,0.62,0.662,0.618,0.738,0.732,0.694,0.754,0.772,0.814,0.786,0.774,0.822,0.786,0.844,0.828,0.81,0.858,0.844,0.872,0.818,0.826,0.844,0.868,0.866,0.892,0.864,0.882,0.898,0.896,0.838,0.846,0.9,0.892,0.874,0.85,0.844,0.91,0.92,0.876,0.87,0.902,0.894,0.9,0.878,0.902,0.892,0.932,0.888,0.902,0.876,0.866,0.886,0.932,0.91,0.896,0.888,0.838,0.846,0.91,0.874,0.882],\"type\":\"scatter\"},{\"mode\":\"lines\",\"name\":\"$\\\\epsilon_{opt} = 0.40$\",\"x\":[249,499,749,999,1249,1499,1749,1999,2249,2499,2749,2999,3249,3499,3749,3999,4249,4499,4749,4999,5249,5499,5749,5999,6249,6499,6749,6999,7249,7499,7749,7999,8249,8499,8749,8999,9249,9499,9749,9999,10249,10499,10749,10999,11249,11499,11749,11999,12249,12499,12749,12999,13249,13499,13749,13999,14249,14499,14749,14999,15249,15499,15749,15999,16249,16499,16749,16999,17249,17499,17749,17999,18249,18499,18749,18999,19249,19499,19749,19999],\"y\":[-0.968,-0.88,-0.61,-0.09,0.124,0.474,0.672,0.68,0.694,0.658,0.77,0.846,0.868,0.85,0.856,0.862,0.878,0.9,0.896,0.908,0.926,0.9,0.886,0.922,0.928,0.912,0.948,0.91,0.926,0.936,0.946,0.94,0.932,0.916,0.912,0.894,0.938,0.922,0.954,0.93,0.916,0.934,0.944,0.934,0.936,0.93,0.946,0.938,0.938,0.92,0.952,0.922,0.928,0.934,0.926,0.942,0.956,0.952,0.952,0.942,0.966,0.934,0.936,0.95,0.924,0.932,0.936,0.95,0.92,0.946,0.94,0.952,0.952,0.936,0.956,0.934,0.944,0.952,0.934,0.952],\"type\":\"scatter\"},{\"mode\":\"lines\",\"name\":\"$\\\\epsilon_{opt} = 0.50$\",\"x\":[249,499,749,999,1249,1499,1749,1999,2249,2499,2749,2999,3249,3499,3749,3999,4249,4499,4749,4999,5249,5499,5749,5999,6249,6499,6749,6999,7249,7499,7749,7999,8249,8499,8749,8999,9249,9499,9749,9999,10249,10499,10749,10999,11249,11499,11749,11999,12249,12499,12749,12999,13249,13499,13749,13999,14249,14499,14749,14999,15249,15499,15749,15999,16249,16499,16749,16999,17249,17499,17749,17999,18249,18499,18749,18999,19249,19499,19749,19999],\"y\":[-0.84,-0.742,-0.752,0.044,0.194,0.512,0.712,0.81,0.836,0.834,0.838,0.82,0.834,0.844,0.86,0.874,0.902,0.932,0.93,0.86,0.91,0.904,0.89,0.91,0.878,0.948,0.922,0.934,0.924,0.936,0.93,0.93,0.956,0.946,0.918,0.93,0.926,0.91,0.94,0.93,0.936,0.938,0.93,0.95,0.932,0.934,0.918,0.934,0.922,0.928,0.958,0.956,0.934,0.932,0.94,0.95,0.936,0.956,0.922,0.922,0.95,0.95,0.926,0.948,0.908,0.94,0.922,0.938,0.918,0.96,0.938,0.966,0.946,0.934,0.938,0.934,0.934,0.96,0.952,0.942],\"type\":\"scatter\"},{\"mode\":\"lines\",\"name\":\"$\\\\epsilon_{opt} = 0.60$\",\"x\":[249,499,749,999,1249,1499,1749,1999,2249,2499,2749,2999,3249,3499,3749,3999,4249,4499,4749,4999,5249,5499,5749,5999,6249,6499,6749,6999,7249,7499,7749,7999,8249,8499,8749,8999,9249,9499,9749,9999,10249,10499,10749,10999,11249,11499,11749,11999,12249,12499,12749,12999,13249,13499,13749,13999,14249,14499,14749,14999,15249,15499,15749,15999,16249,16499,16749,16999,17249,17499,17749,17999,18249,18499,18749,18999,19249,19499,19749,19999],\"y\":[-0.888,-0.506,0.012,0.316,0.53,0.546,0.63,0.708,0.768,0.718,0.784,0.774,0.788,0.842,0.852,0.864,0.862,0.908,0.868,0.858,0.85,0.904,0.888,0.924,0.89,0.922,0.868,0.898,0.866,0.886,0.898,0.878,0.926,0.894,0.892,0.92,0.876,0.844,0.906,0.946,0.938,0.892,0.868,0.936,0.888,0.908,0.908,0.892,0.898,0.898,0.932,0.886,0.858,0.894,0.894,0.902,0.904,0.892,0.898,0.926,0.886,0.928,0.904,0.926,0.892,0.902,0.91,0.916,0.918,0.928,0.918,0.884,0.928,0.92,0.9,0.928,0.922,0.888,0.92,0.924],\"type\":\"scatter\"},{\"mode\":\"lines\",\"name\":\"$\\\\epsilon_{opt} = 0.70$\",\"x\":[249,499,749,999,1249,1499,1749,1999,2249,2499,2749,2999,3249,3499,3749,3999,4249,4499,4749,4999,5249,5499,5749,5999,6249,6499,6749,6999,7249,7499,7749,7999,8249,8499,8749,8999,9249,9499,9749,9999,10249,10499,10749,10999,11249,11499,11749,11999,12249,12499,12749,12999,13249,13499,13749,13999,14249,14499,14749,14999,15249,15499,15749,15999,16249,16499,16749,16999,17249,17499,17749,17999,18249,18499,18749,18999,19249,19499,19749,19999],\"y\":[-0.87,-0.688,-0.234,0.238,0.426,0.56,0.616,0.67,0.658,0.808,0.764,0.746,0.814,0.844,0.854,0.858,0.884,0.928,0.866,0.888,0.826,0.834,0.898,0.862,0.886,0.872,0.914,0.884,0.906,0.888,0.914,0.912,0.906,0.882,0.91,0.876,0.888,0.894,0.91,0.88,0.908,0.902,0.864,0.914,0.896,0.926,0.918,0.902,0.894,0.91,0.882,0.898,0.912,0.876,0.93,0.894,0.91,0.912,0.906,0.922,0.932,0.898,0.904,0.902,0.886,0.92,0.892,0.912,0.94,0.9,0.884,0.918,0.916,0.89,0.916,0.888,0.92,0.932,0.92,0.952],\"type\":\"scatter\"},{\"mode\":\"lines\",\"name\":\"$\\\\epsilon_{opt} = 0.80$\",\"x\":[249,499,749,999,1249,1499,1749,1999,2249,2499,2749,2999,3249,3499,3749,3999,4249,4499,4749,4999,5249,5499,5749,5999,6249,6499,6749,6999,7249,7499,7749,7999,8249,8499,8749,8999,9249,9499,9749,9999,10249,10499,10749,10999,11249,11499,11749,11999,12249,12499,12749,12999,13249,13499,13749,13999,14249,14499,14749,14999,15249,15499,15749,15999,16249,16499,16749,16999,17249,17499,17749,17999,18249,18499,18749,18999,19249,19499,19749,19999],\"y\":[-0.356,0.106,0.334,0.486,0.578,0.67,0.678,0.676,0.704,0.7,0.794,0.78,0.808,0.852,0.882,0.848,0.848,0.82,0.852,0.862,0.84,0.894,0.854,0.882,0.826,0.872,0.836,0.886,0.854,0.908,0.894,0.894,0.892,0.914,0.878,0.898,0.894,0.87,0.886,0.896,0.898,0.912,0.904,0.912,0.91,0.854,0.934,0.902,0.904,0.928,0.914,0.924,0.898,0.904,0.924,0.906,0.932,0.892,0.878,0.888,0.926,0.924,0.888,0.932,0.906,0.918,0.902,0.916,0.912,0.93,0.938,0.926,0.956,0.908,0.938,0.946,0.942,0.954,0.94,0.954],\"type\":\"scatter\"},{\"mode\":\"lines\",\"name\":\"$\\\\epsilon_{opt} = 0.90$\",\"x\":[249,499,749,999,1249,1499,1749,1999,2249,2499,2749,2999,3249,3499,3749,3999,4249,4499,4749,4999,5249,5499,5749,5999,6249,6499,6749,6999,7249,7499,7749,7999,8249,8499,8749,8999,9249,9499,9749,9999,10249,10499,10749,10999,11249,11499,11749,11999,12249,12499,12749,12999,13249,13499,13749,13999,14249,14499,14749,14999,15249,15499,15749,15999,16249,16499,16749,16999,17249,17499,17749,17999,18249,18499,18749,18999,19249,19499,19749,19999],\"y\":[-0.556,-0.352,0.224,0.548,0.516,0.684,0.78,0.756,0.842,0.808,0.862,0.844,0.866,0.85,0.898,0.828,0.85,0.82,0.886,0.868,0.864,0.83,0.882,0.888,0.896,0.91,0.902,0.9,0.88,0.876,0.898,0.902,0.91,0.886,0.894,0.898,0.91,0.902,0.908,0.886,0.882,0.872,0.92,0.932,0.912,0.916,0.906,0.938,0.918,0.93,0.892,0.92,0.936,0.934,0.926,0.944,0.92,0.932,0.876,0.936,0.928,0.936,0.93,0.91,0.914,0.934,0.902,0.924,0.938,0.926,0.942,0.928,0.934,0.946,0.942,0.932,0.932,0.934,0.94,0.93],\"type\":\"scatter\"},{\"mode\":\"lines\",\"name\":\"$\\\\epsilon_{opt} = 1.00$\",\"x\":[249,499,749,999,1249,1499,1749,1999,2249,2499,2749,2999,3249,3499,3749,3999,4249,4499,4749,4999,5249,5499,5749,5999,6249,6499,6749,6999,7249,7499,7749,7999,8249,8499,8749,8999,9249,9499,9749,9999,10249,10499,10749,10999,11249,11499,11749,11999,12249,12499,12749,12999,13249,13499,13749,13999,14249,14499,14749,14999,15249,15499,15749,15999,16249,16499,16749,16999,17249,17499,17749,17999,18249,18499,18749,18999,19249,19499,19749,19999],\"y\":[-0.72,-0.248,0.304,0.436,0.68,0.712,0.712,0.834,0.792,0.832,0.806,0.824,0.842,0.82,0.842,0.854,0.88,0.872,0.856,0.852,0.878,0.888,0.872,0.842,0.852,0.88,0.856,0.91,0.862,0.86,0.888,0.86,0.878,0.904,0.864,0.876,0.862,0.864,0.882,0.872,0.868,0.9,0.89,0.912,0.874,0.902,0.9,0.874,0.882,0.868,0.868,0.924,0.922,0.914,0.9,0.91,0.898,0.892,0.892,0.884,0.886,0.866,0.898,0.914,0.894,0.908,0.912,0.936,0.92,0.876,0.888,0.902,0.926,0.934,0.918,0.912,0.92,0.894,0.918,0.894],\"type\":\"scatter\"}],                        {\"template\":{\"data\":{\"histogram2dcontour\":[{\"type\":\"histogram2dcontour\",\"colorbar\":{\"outlinewidth\":0,\"ticks\":\"\"},\"colorscale\":[[0.0,\"#0d0887\"],[0.1111111111111111,\"#46039f\"],[0.2222222222222222,\"#7201a8\"],[0.3333333333333333,\"#9c179e\"],[0.4444444444444444,\"#bd3786\"],[0.5555555555555556,\"#d8576b\"],[0.6666666666666666,\"#ed7953\"],[0.7777777777777778,\"#fb9f3a\"],[0.8888888888888888,\"#fdca26\"],[1.0,\"#f0f921\"]]}],\"choropleth\":[{\"type\":\"choropleth\",\"colorbar\":{\"outlinewidth\":0,\"ticks\":\"\"}}],\"histogram2d\":[{\"type\":\"histogram2d\",\"colorbar\":{\"outlinewidth\":0,\"ticks\":\"\"},\"colorscale\":[[0.0,\"#0d0887\"],[0.1111111111111111,\"#46039f\"],[0.2222222222222222,\"#7201a8\"],[0.3333333333333333,\"#9c179e\"],[0.4444444444444444,\"#bd3786\"],[0.5555555555555556,\"#d8576b\"],[0.6666666666666666,\"#ed7953\"],[0.7777777777777778,\"#fb9f3a\"],[0.8888888888888888,\"#fdca26\"],[1.0,\"#f0f921\"]]}],\"heatmap\":[{\"type\":\"heatmap\",\"colorbar\":{\"outlinewidth\":0,\"ticks\":\"\"},\"colorscale\":[[0.0,\"#0d0887\"],[0.1111111111111111,\"#46039f\"],[0.2222222222222222,\"#7201a8\"],[0.3333333333333333,\"#9c179e\"],[0.4444444444444444,\"#bd3786\"],[0.5555555555555556,\"#d8576b\"],[0.6666666666666666,\"#ed7953\"],[0.7777777777777778,\"#fb9f3a\"],[0.8888888888888888,\"#fdca26\"],[1.0,\"#f0f921\"]]}],\"heatmapgl\":[{\"type\":\"heatmapgl\",\"colorbar\":{\"outlinewidth\":0,\"ticks\":\"\"},\"colorscale\":[[0.0,\"#0d0887\"],[0.1111111111111111,\"#46039f\"],[0.2222222222222222,\"#7201a8\"],[0.3333333333333333,\"#9c179e\"],[0.4444444444444444,\"#bd3786\"],[0.5555555555555556,\"#d8576b\"],[0.6666666666666666,\"#ed7953\"],[0.7777777777777778,\"#fb9f3a\"],[0.8888888888888888,\"#fdca26\"],[1.0,\"#f0f921\"]]}],\"contourcarpet\":[{\"type\":\"contourcarpet\",\"colorbar\":{\"outlinewidth\":0,\"ticks\":\"\"}}],\"contour\":[{\"type\":\"contour\",\"colorbar\":{\"outlinewidth\":0,\"ticks\":\"\"},\"colorscale\":[[0.0,\"#0d0887\"],[0.1111111111111111,\"#46039f\"],[0.2222222222222222,\"#7201a8\"],[0.3333333333333333,\"#9c179e\"],[0.4444444444444444,\"#bd3786\"],[0.5555555555555556,\"#d8576b\"],[0.6666666666666666,\"#ed7953\"],[0.7777777777777778,\"#fb9f3a\"],[0.8888888888888888,\"#fdca26\"],[1.0,\"#f0f921\"]]}],\"surface\":[{\"type\":\"surface\",\"colorbar\":{\"outlinewidth\":0,\"ticks\":\"\"},\"colorscale\":[[0.0,\"#0d0887\"],[0.1111111111111111,\"#46039f\"],[0.2222222222222222,\"#7201a8\"],[0.3333333333333333,\"#9c179e\"],[0.4444444444444444,\"#bd3786\"],[0.5555555555555556,\"#d8576b\"],[0.6666666666666666,\"#ed7953\"],[0.7777777777777778,\"#fb9f3a\"],[0.8888888888888888,\"#fdca26\"],[1.0,\"#f0f921\"]]}],\"mesh3d\":[{\"type\":\"mesh3d\",\"colorbar\":{\"outlinewidth\":0,\"ticks\":\"\"}}],\"scatter\":[{\"fillpattern\":{\"fillmode\":\"overlay\",\"size\":10,\"solidity\":0.2},\"type\":\"scatter\"}],\"parcoords\":[{\"type\":\"parcoords\",\"line\":{\"colorbar\":{\"outlinewidth\":0,\"ticks\":\"\"}}}],\"scatterpolargl\":[{\"type\":\"scatterpolargl\",\"marker\":{\"colorbar\":{\"outlinewidth\":0,\"ticks\":\"\"}}}],\"bar\":[{\"error_x\":{\"color\":\"#2a3f5f\"},\"error_y\":{\"color\":\"#2a3f5f\"},\"marker\":{\"line\":{\"color\":\"#E5ECF6\",\"width\":0.5},\"pattern\":{\"fillmode\":\"overlay\",\"size\":10,\"solidity\":0.2}},\"type\":\"bar\"}],\"scattergeo\":[{\"type\":\"scattergeo\",\"marker\":{\"colorbar\":{\"outlinewidth\":0,\"ticks\":\"\"}}}],\"scatterpolar\":[{\"type\":\"scatterpolar\",\"marker\":{\"colorbar\":{\"outlinewidth\":0,\"ticks\":\"\"}}}],\"histogram\":[{\"marker\":{\"pattern\":{\"fillmode\":\"overlay\",\"size\":10,\"solidity\":0.2}},\"type\":\"histogram\"}],\"scattergl\":[{\"type\":\"scattergl\",\"marker\":{\"colorbar\":{\"outlinewidth\":0,\"ticks\":\"\"}}}],\"scatter3d\":[{\"type\":\"scatter3d\",\"line\":{\"colorbar\":{\"outlinewidth\":0,\"ticks\":\"\"}},\"marker\":{\"colorbar\":{\"outlinewidth\":0,\"ticks\":\"\"}}}],\"scattermapbox\":[{\"type\":\"scattermapbox\",\"marker\":{\"colorbar\":{\"outlinewidth\":0,\"ticks\":\"\"}}}],\"scatterternary\":[{\"type\":\"scatterternary\",\"marker\":{\"colorbar\":{\"outlinewidth\":0,\"ticks\":\"\"}}}],\"scattercarpet\":[{\"type\":\"scattercarpet\",\"marker\":{\"colorbar\":{\"outlinewidth\":0,\"ticks\":\"\"}}}],\"carpet\":[{\"aaxis\":{\"endlinecolor\":\"#2a3f5f\",\"gridcolor\":\"white\",\"linecolor\":\"white\",\"minorgridcolor\":\"white\",\"startlinecolor\":\"#2a3f5f\"},\"baxis\":{\"endlinecolor\":\"#2a3f5f\",\"gridcolor\":\"white\",\"linecolor\":\"white\",\"minorgridcolor\":\"white\",\"startlinecolor\":\"#2a3f5f\"},\"type\":\"carpet\"}],\"table\":[{\"cells\":{\"fill\":{\"color\":\"#EBF0F8\"},\"line\":{\"color\":\"white\"}},\"header\":{\"fill\":{\"color\":\"#C8D4E3\"},\"line\":{\"color\":\"white\"}},\"type\":\"table\"}],\"barpolar\":[{\"marker\":{\"line\":{\"color\":\"#E5ECF6\",\"width\":0.5},\"pattern\":{\"fillmode\":\"overlay\",\"size\":10,\"solidity\":0.2}},\"type\":\"barpolar\"}],\"pie\":[{\"automargin\":true,\"type\":\"pie\"}]},\"layout\":{\"autotypenumbers\":\"strict\",\"colorway\":[\"#636efa\",\"#EF553B\",\"#00cc96\",\"#ab63fa\",\"#FFA15A\",\"#19d3f3\",\"#FF6692\",\"#B6E880\",\"#FF97FF\",\"#FECB52\"],\"font\":{\"color\":\"#2a3f5f\"},\"hovermode\":\"closest\",\"hoverlabel\":{\"align\":\"left\"},\"paper_bgcolor\":\"white\",\"plot_bgcolor\":\"#E5ECF6\",\"polar\":{\"bgcolor\":\"#E5ECF6\",\"angularaxis\":{\"gridcolor\":\"white\",\"linecolor\":\"white\",\"ticks\":\"\"},\"radialaxis\":{\"gridcolor\":\"white\",\"linecolor\":\"white\",\"ticks\":\"\"}},\"ternary\":{\"bgcolor\":\"#E5ECF6\",\"aaxis\":{\"gridcolor\":\"white\",\"linecolor\":\"white\",\"ticks\":\"\"},\"baxis\":{\"gridcolor\":\"white\",\"linecolor\":\"white\",\"ticks\":\"\"},\"caxis\":{\"gridcolor\":\"white\",\"linecolor\":\"white\",\"ticks\":\"\"}},\"coloraxis\":{\"colorbar\":{\"outlinewidth\":0,\"ticks\":\"\"}},\"colorscale\":{\"sequential\":[[0.0,\"#0d0887\"],[0.1111111111111111,\"#46039f\"],[0.2222222222222222,\"#7201a8\"],[0.3333333333333333,\"#9c179e\"],[0.4444444444444444,\"#bd3786\"],[0.5555555555555556,\"#d8576b\"],[0.6666666666666666,\"#ed7953\"],[0.7777777777777778,\"#fb9f3a\"],[0.8888888888888888,\"#fdca26\"],[1.0,\"#f0f921\"]],\"sequentialminus\":[[0.0,\"#0d0887\"],[0.1111111111111111,\"#46039f\"],[0.2222222222222222,\"#7201a8\"],[0.3333333333333333,\"#9c179e\"],[0.4444444444444444,\"#bd3786\"],[0.5555555555555556,\"#d8576b\"],[0.6666666666666666,\"#ed7953\"],[0.7777777777777778,\"#fb9f3a\"],[0.8888888888888888,\"#fdca26\"],[1.0,\"#f0f921\"]],\"diverging\":[[0,\"#8e0152\"],[0.1,\"#c51b7d\"],[0.2,\"#de77ae\"],[0.3,\"#f1b6da\"],[0.4,\"#fde0ef\"],[0.5,\"#f7f7f7\"],[0.6,\"#e6f5d0\"],[0.7,\"#b8e186\"],[0.8,\"#7fbc41\"],[0.9,\"#4d9221\"],[1,\"#276419\"]]},\"xaxis\":{\"gridcolor\":\"white\",\"linecolor\":\"white\",\"ticks\":\"\",\"title\":{\"standoff\":15},\"zerolinecolor\":\"white\",\"automargin\":true,\"zerolinewidth\":2},\"yaxis\":{\"gridcolor\":\"white\",\"linecolor\":\"white\",\"ticks\":\"\",\"title\":{\"standoff\":15},\"zerolinecolor\":\"white\",\"automargin\":true,\"zerolinewidth\":2},\"scene\":{\"xaxis\":{\"backgroundcolor\":\"#E5ECF6\",\"gridcolor\":\"white\",\"linecolor\":\"white\",\"showbackground\":true,\"ticks\":\"\",\"zerolinecolor\":\"white\",\"gridwidth\":2},\"yaxis\":{\"backgroundcolor\":\"#E5ECF6\",\"gridcolor\":\"white\",\"linecolor\":\"white\",\"showbackground\":true,\"ticks\":\"\",\"zerolinecolor\":\"white\",\"gridwidth\":2},\"zaxis\":{\"backgroundcolor\":\"#E5ECF6\",\"gridcolor\":\"white\",\"linecolor\":\"white\",\"showbackground\":true,\"ticks\":\"\",\"zerolinecolor\":\"white\",\"gridwidth\":2}},\"shapedefaults\":{\"line\":{\"color\":\"#2a3f5f\"}},\"annotationdefaults\":{\"arrowcolor\":\"#2a3f5f\",\"arrowhead\":0,\"arrowwidth\":1},\"geo\":{\"bgcolor\":\"white\",\"landcolor\":\"#E5ECF6\",\"subunitcolor\":\"white\",\"showland\":true,\"showlakes\":true,\"lakecolor\":\"white\"},\"title\":{\"x\":0.05},\"mapbox\":{\"style\":\"light\"}}},\"title\":{\"text\":\"$M_{rand}\\\\text{ for every 250 games for different values of }\\\\epsilon_{opt}$\"},\"xaxis\":{\"title\":{\"text\":\"$game$\"}},\"yaxis\":{\"title\":{\"text\":\"$M_{rand}$\"}},\"width\":1200,\"height\":400},                        {\"responsive\": true}                    ).then(function(){\n                            \nvar gd = document.getElementById('fc4ff07b-3119-4150-9647-c3de4fd0de7b');\nvar x = new MutationObserver(function (mutations, observer) {{\n        var display = window.getComputedStyle(gd).display;\n        if (!display || display === 'none') {{\n            console.log([gd, 'removed!']);\n            Plotly.purge(gd);\n            observer.disconnect();\n        }}\n}});\n\n// Listen for the removal of the full notebook cells\nvar notebookContainer = gd.closest('#notebook-container');\nif (notebookContainer) {{\n    x.observe(notebookContainer, {childList: true});\n}}\n\n// Listen for the clearing of the current output cell\nvar outputEl = gd.closest('.output');\nif (outputEl) {{\n    x.observe(outputEl, {childList: true});\n}}\n\n                        })                };                });            </script>        </div>"
     },
     "metadata": {},
     "output_type": "display_data"
    }
   ],
   "source": [
    "fig = go.Figure()\n",
    "\n",
    "for i, y_i in enumerate(eps_M_rands):\n",
    "    fig.add_trace(go.Scatter(x=x, y=y_i, mode='lines',name=r'$\\epsilon_{opt} = %.2f$' % eps_list[i]))\n",
    "\n",
    "fig.update_layout(\n",
    "    title=r'$M_{rand}\\text{ for every %d games for different values of }\\epsilon_{opt}$' % averaging_steps,\n",
    "    xaxis_title=r'$game$',\n",
    "    yaxis_title=r'$M_{rand}$',\n",
    "    width=1200, height=400\n",
    ")\n",
    "\n",
    "fig.show()"
   ]
  },
  {
   "cell_type": "markdown",
   "metadata": {
    "collapsed": false,
    "pycharm": {
     "name": "#%% md\n"
    }
   },
   "source": [
    "# 3.3 Learning by self-practice"
   ]
  },
  {
   "cell_type": "markdown",
   "metadata": {
    "collapsed": false
   },
   "source": [
    "### Question 16"
   ]
  },
  {
   "cell_type": "code",
   "execution_count": 61,
   "metadata": {
    "collapsed": false,
    "pycharm": {
     "name": "#%%\n"
    }
   },
   "outputs": [
    {
     "name": "stdout",
     "output_type": "stream",
     "text": [
      "[0.0, 0.1, 0.2, 0.3, 0.4, 0.5, 0.6, 0.7, 0.8, 0.9, 1.0]\n",
      "Current eps: 0.00\n"
     ]
    },
    {
     "name": "stderr",
     "output_type": "stream",
     "text": [
      "100%|██████████| 20000/20000 [07:36<00:00, 43.79it/s] \n"
     ]
    },
    {
     "name": "stdout",
     "output_type": "stream",
     "text": [
      "Current eps: 0.10\n"
     ]
    },
    {
     "name": "stderr",
     "output_type": "stream",
     "text": [
      "100%|██████████| 20000/20000 [10:17<00:00, 32.39it/s]\n"
     ]
    },
    {
     "name": "stdout",
     "output_type": "stream",
     "text": [
      "Current eps: 0.20\n"
     ]
    },
    {
     "name": "stderr",
     "output_type": "stream",
     "text": [
      "100%|██████████| 20000/20000 [10:10<00:00, 32.79it/s]\n"
     ]
    },
    {
     "name": "stdout",
     "output_type": "stream",
     "text": [
      "Current eps: 0.30\n"
     ]
    },
    {
     "name": "stderr",
     "output_type": "stream",
     "text": [
      "100%|██████████| 20000/20000 [09:51<00:00, 33.82it/s]\n"
     ]
    },
    {
     "name": "stdout",
     "output_type": "stream",
     "text": [
      "Current eps: 0.40\n"
     ]
    },
    {
     "name": "stderr",
     "output_type": "stream",
     "text": [
      "100%|██████████| 20000/20000 [09:48<00:00, 33.97it/s]\n"
     ]
    },
    {
     "name": "stdout",
     "output_type": "stream",
     "text": [
      "Current eps: 0.50\n"
     ]
    },
    {
     "name": "stderr",
     "output_type": "stream",
     "text": [
      "100%|██████████| 20000/20000 [10:31<00:00, 31.67it/s]\n"
     ]
    },
    {
     "name": "stdout",
     "output_type": "stream",
     "text": [
      "Current eps: 0.60\n"
     ]
    },
    {
     "name": "stderr",
     "output_type": "stream",
     "text": [
      "100%|██████████| 20000/20000 [10:22<00:00, 32.12it/s]\n"
     ]
    },
    {
     "name": "stdout",
     "output_type": "stream",
     "text": [
      "Current eps: 0.70\n"
     ]
    },
    {
     "name": "stderr",
     "output_type": "stream",
     "text": [
      "100%|██████████| 20000/20000 [10:08<00:00, 32.87it/s]\n"
     ]
    },
    {
     "name": "stdout",
     "output_type": "stream",
     "text": [
      "Current eps: 0.80\n"
     ]
    },
    {
     "name": "stderr",
     "output_type": "stream",
     "text": [
      "100%|██████████| 20000/20000 [09:50<00:00, 33.85it/s]\n"
     ]
    },
    {
     "name": "stdout",
     "output_type": "stream",
     "text": [
      "Current eps: 0.90\n"
     ]
    },
    {
     "name": "stderr",
     "output_type": "stream",
     "text": [
      "100%|██████████| 20000/20000 [09:39<00:00, 34.49it/s]\n"
     ]
    },
    {
     "name": "stdout",
     "output_type": "stream",
     "text": [
      "Current eps: 1.00\n"
     ]
    },
    {
     "name": "stderr",
     "output_type": "stream",
     "text": [
      "100%|██████████| 20000/20000 [07:54<00:00, 42.15it/s]\n"
     ]
    }
   ],
   "source": [
    "n_episodes = 20000\n",
    "averaging_steps = 250\n",
    "\n",
    "env = TictactoeEnv()\n",
    "\n",
    "\n",
    "eps_list = [x for x in np.linspace(0, 1, 11)]\n",
    "print([round(ep,2) for ep in eps_list])\n",
    "eps_rewards = []\n",
    "eps_M_opts = []\n",
    "eps_M_rands = []\n",
    "eps_losses = []\n",
    "q_players = []\n",
    "\n",
    "for eps in eps_list:\n",
    "    print('Current eps: %.2f' % eps)\n",
    "    q_player = DeepQPlayer(epsilon=eps, lr=5e-5)\n",
    "    other_player = DeepQPlayer(epsilon=eps, shared_networks=q_player.get_networks(), lr=5e-5)\n",
    "\n",
    "    rewards, M_opts, M_rands, x, losses = deep_run_episodes(n_episodes, q_player, other_player, other_learning=True)\n",
    "\n",
    "    eps_rewards.append(rewards)\n",
    "    eps_M_opts.append(M_opts)\n",
    "    eps_M_rands.append(M_rands)\n",
    "    eps_losses.append(losses)\n",
    "    q_players.append(q_player.get_networks())\n",
    "\n",
    "# Save data\n",
    "with open('question_16.pickle', 'wb') as f:\n",
    "    pickle.dump((eps_list, eps_rewards, eps_M_opts, eps_M_rands, eps_losses, q_players), f)"
   ]
  },
  {
   "cell_type": "code",
   "execution_count": 62,
   "metadata": {
    "collapsed": false,
    "pycharm": {
     "name": "#%%\n"
    }
   },
   "outputs": [],
   "source": [
    "# Load data\n",
    "\n",
    "with open('question_16.pickle', 'rb') as f:\n",
    "    eps_list, eps_rewards, eps_M_opts, eps_M_rands, eps_losses, q_players =  pickle.load(f)"
   ]
  },
  {
   "cell_type": "code",
   "execution_count": 63,
   "metadata": {
    "collapsed": false,
    "pycharm": {
     "name": "#%%\n"
    }
   },
   "outputs": [
    {
     "data": {
      "application/vnd.plotly.v1+json": {
       "data": [
        {
         "mode": "lines",
         "name": "$\\epsilon_{opt} = 0.00$",
         "x": [
          249,
          499,
          749,
          999,
          1249,
          1499,
          1749,
          1999,
          2249,
          2499,
          2749,
          2999,
          3249,
          3499,
          3749,
          3999,
          4249,
          4499,
          4749,
          4999,
          5249,
          5499,
          5749,
          5999,
          6249,
          6499,
          6749,
          6999,
          7249,
          7499,
          7749,
          7999,
          8249,
          8499,
          8749,
          8999,
          9249,
          9499,
          9749,
          9999,
          10249,
          10499,
          10749,
          10999,
          11249,
          11499,
          11749,
          11999,
          12249,
          12499,
          12749,
          12999,
          13249,
          13499,
          13749,
          13999,
          14249,
          14499,
          14749,
          14999,
          15249,
          15499,
          15749,
          15999,
          16249,
          16499,
          16749,
          16999,
          17249,
          17499,
          17749,
          17999,
          18249,
          18499,
          18749,
          18999,
          19249,
          19499,
          19749,
          19999
         ],
         "y": [
          -1.0,
          -1.0,
          -1.0,
          -1.0,
          -1.0,
          -1.0,
          -1.0,
          -1.0,
          -1.0,
          -1.0,
          -1.0,
          -1.0,
          -1.0,
          -1.0,
          -1.0,
          -1.0,
          -1.0,
          -1.0,
          -1.0,
          -1.0,
          -1.0,
          -1.0,
          -1.0,
          -1.0,
          -1.0,
          -1.0,
          -1.0,
          -1.0,
          -1.0,
          -1.0,
          -1.0,
          -1.0,
          -1.0,
          -1.0,
          -1.0,
          -1.0,
          -1.0,
          -1.0,
          -1.0,
          -1.0,
          -1.0,
          -1.0,
          -1.0,
          -1.0,
          -1.0,
          -1.0,
          -1.0,
          -1.0,
          -1.0,
          -1.0,
          -1.0,
          -1.0,
          -1.0,
          -1.0,
          -1.0,
          -1.0,
          -1.0,
          -1.0,
          -1.0,
          -1.0,
          -1.0,
          -1.0,
          -1.0,
          -1.0,
          -1.0,
          -1.0,
          -1.0,
          -1.0,
          -1.0,
          -1.0,
          -1.0,
          -1.0,
          -1.0,
          -1.0,
          -1.0,
          -1.0,
          -1.0,
          -1.0,
          -1.0,
          -1.0
         ],
         "type": "scatter"
        },
        {
         "mode": "lines",
         "name": "$\\epsilon_{opt} = 0.10$",
         "x": [
          249,
          499,
          749,
          999,
          1249,
          1499,
          1749,
          1999,
          2249,
          2499,
          2749,
          2999,
          3249,
          3499,
          3749,
          3999,
          4249,
          4499,
          4749,
          4999,
          5249,
          5499,
          5749,
          5999,
          6249,
          6499,
          6749,
          6999,
          7249,
          7499,
          7749,
          7999,
          8249,
          8499,
          8749,
          8999,
          9249,
          9499,
          9749,
          9999,
          10249,
          10499,
          10749,
          10999,
          11249,
          11499,
          11749,
          11999,
          12249,
          12499,
          12749,
          12999,
          13249,
          13499,
          13749,
          13999,
          14249,
          14499,
          14749,
          14999,
          15249,
          15499,
          15749,
          15999,
          16249,
          16499,
          16749,
          16999,
          17249,
          17499,
          17749,
          17999,
          18249,
          18499,
          18749,
          18999,
          19249,
          19499,
          19749,
          19999
         ],
         "y": [
          -1.0,
          -1.0,
          -0.394,
          -1.0,
          -1.0,
          -0.778,
          -1.0,
          -1.0,
          -1.0,
          -1.0,
          -1.0,
          -1.0,
          -1.0,
          -1.0,
          -0.81,
          -0.704,
          -0.454,
          -0.218,
          -0.386,
          -0.418,
          -0.886,
          -0.606,
          0.0,
          -0.356,
          -0.612,
          -0.118,
          -0.536,
          -0.586,
          -0.084,
          -0.172,
          -0.384,
          -0.498,
          -0.498,
          -0.498,
          -0.498,
          -0.498,
          -0.614,
          -0.418,
          -0.628,
          -0.272,
          -0.422,
          -0.414,
          -0.226,
          -0.308,
          -0.094,
          -0.112,
          -0.498,
          -0.498,
          -0.3,
          -0.568,
          -0.18,
          -0.226,
          -0.092,
          -0.192,
          -0.406,
          -0.498,
          -0.286,
          -0.116,
          -0.094,
          -0.308,
          -0.09,
          -0.28,
          -0.394,
          -0.38,
          -0.42,
          -0.19,
          0.0,
          0.0,
          0.0,
          0.0,
          -0.128,
          0.0,
          -0.208,
          0.0,
          0.0,
          0.0,
          0.0,
          0.0,
          0.0,
          0.0
         ],
         "type": "scatter"
        },
        {
         "mode": "lines",
         "name": "$\\epsilon_{opt} = 0.20$",
         "x": [
          249,
          499,
          749,
          999,
          1249,
          1499,
          1749,
          1999,
          2249,
          2499,
          2749,
          2999,
          3249,
          3499,
          3749,
          3999,
          4249,
          4499,
          4749,
          4999,
          5249,
          5499,
          5749,
          5999,
          6249,
          6499,
          6749,
          6999,
          7249,
          7499,
          7749,
          7999,
          8249,
          8499,
          8749,
          8999,
          9249,
          9499,
          9749,
          9999,
          10249,
          10499,
          10749,
          10999,
          11249,
          11499,
          11749,
          11999,
          12249,
          12499,
          12749,
          12999,
          13249,
          13499,
          13749,
          13999,
          14249,
          14499,
          14749,
          14999,
          15249,
          15499,
          15749,
          15999,
          16249,
          16499,
          16749,
          16999,
          17249,
          17499,
          17749,
          17999,
          18249,
          18499,
          18749,
          18999,
          19249,
          19499,
          19749,
          19999
         ],
         "y": [
          -1.0,
          -1.0,
          -0.788,
          -1.0,
          -1.0,
          -0.796,
          -0.872,
          -0.882,
          -0.87,
          -0.882,
          -0.682,
          -0.568,
          -0.284,
          -0.812,
          -0.774,
          -0.604,
          -0.748,
          -0.556,
          -0.534,
          -0.412,
          -0.224,
          -0.63,
          -0.408,
          -0.384,
          -0.308,
          -0.194,
          -0.498,
          -0.498,
          -0.4,
          -0.498,
          -0.416,
          -0.394,
          -0.894,
          -0.89,
          -0.11,
          -0.324,
          -0.192,
          -0.2,
          -0.588,
          -0.592,
          -0.516,
          -0.552,
          -0.374,
          0.0,
          -0.29,
          -0.08,
          -0.092,
          -0.106,
          -0.102,
          -0.2,
          -0.206,
          -0.39,
          -0.292,
          -0.274,
          -0.394,
          -0.204,
          -0.22,
          -0.418,
          -0.2,
          -0.206,
          -0.388,
          0.0,
          0.0,
          0.0,
          -0.208,
          -0.19,
          -0.222,
          -0.188,
          -0.174,
          -0.192,
          -0.228,
          0.0,
          0.0,
          -0.188,
          -0.194,
          -0.194,
          -0.318,
          -0.182,
          0.0,
          0.0
         ],
         "type": "scatter"
        },
        {
         "mode": "lines",
         "name": "$\\epsilon_{opt} = 0.30$",
         "x": [
          249,
          499,
          749,
          999,
          1249,
          1499,
          1749,
          1999,
          2249,
          2499,
          2749,
          2999,
          3249,
          3499,
          3749,
          3999,
          4249,
          4499,
          4749,
          4999,
          5249,
          5499,
          5749,
          5999,
          6249,
          6499,
          6749,
          6999,
          7249,
          7499,
          7749,
          7999,
          8249,
          8499,
          8749,
          8999,
          9249,
          9499,
          9749,
          9999,
          10249,
          10499,
          10749,
          10999,
          11249,
          11499,
          11749,
          11999,
          12249,
          12499,
          12749,
          12999,
          13249,
          13499,
          13749,
          13999,
          14249,
          14499,
          14749,
          14999,
          15249,
          15499,
          15749,
          15999,
          16249,
          16499,
          16749,
          16999,
          17249,
          17499,
          17749,
          17999,
          18249,
          18499,
          18749,
          18999,
          19249,
          19499,
          19749,
          19999
         ],
         "y": [
          -1.0,
          -1.0,
          -1.0,
          -1.0,
          -1.0,
          -0.81,
          -0.784,
          -0.258,
          -0.498,
          -1.0,
          -1.0,
          -1.0,
          -0.898,
          -0.402,
          -0.854,
          -0.876,
          -0.588,
          -0.756,
          -0.534,
          -0.622,
          -0.61,
          -0.498,
          -0.498,
          -0.554,
          -0.244,
          -0.274,
          -0.192,
          -0.214,
          -0.232,
          -0.4,
          -0.49,
          -0.264,
          -0.176,
          -0.168,
          -0.224,
          -0.214,
          -0.166,
          -0.198,
          -0.196,
          -0.286,
          -0.302,
          -0.174,
          -0.2,
          -0.204,
          -0.186,
          -0.19,
          -0.314,
          -0.114,
          0.0,
          -0.194,
          -0.378,
          -0.412,
          -0.214,
          -0.192,
          -0.188,
          -0.232,
          0.0,
          0.0,
          0.0,
          0.0,
          0.0,
          0.0,
          0.0,
          0.0,
          0.0,
          -0.226,
          0.0,
          -0.182,
          -0.184,
          -0.224,
          -0.096,
          -0.096,
          0.0,
          -0.186,
          0.0,
          0.0,
          0.0,
          0.0,
          -0.196,
          -0.188
         ],
         "type": "scatter"
        },
        {
         "mode": "lines",
         "name": "$\\epsilon_{opt} = 0.40$",
         "x": [
          249,
          499,
          749,
          999,
          1249,
          1499,
          1749,
          1999,
          2249,
          2499,
          2749,
          2999,
          3249,
          3499,
          3749,
          3999,
          4249,
          4499,
          4749,
          4999,
          5249,
          5499,
          5749,
          5999,
          6249,
          6499,
          6749,
          6999,
          7249,
          7499,
          7749,
          7999,
          8249,
          8499,
          8749,
          8999,
          9249,
          9499,
          9749,
          9999,
          10249,
          10499,
          10749,
          10999,
          11249,
          11499,
          11749,
          11999,
          12249,
          12499,
          12749,
          12999,
          13249,
          13499,
          13749,
          13999,
          14249,
          14499,
          14749,
          14999,
          15249,
          15499,
          15749,
          15999,
          16249,
          16499,
          16749,
          16999,
          17249,
          17499,
          17749,
          17999,
          18249,
          18499,
          18749,
          18999,
          19249,
          19499,
          19749,
          19999
         ],
         "y": [
          -1.0,
          -1.0,
          -1.0,
          -1.0,
          -1.0,
          -0.776,
          -1.0,
          -1.0,
          -0.698,
          -0.616,
          -0.684,
          -0.304,
          -0.28,
          -0.384,
          -0.32,
          -0.404,
          -0.656,
          -0.416,
          -0.294,
          -0.306,
          -0.632,
          -0.458,
          -0.268,
          -0.202,
          -0.294,
          -0.19,
          -0.18,
          -0.194,
          -0.4,
          -0.212,
          -0.31,
          -0.404,
          -0.386,
          -0.19,
          0.0,
          0.0,
          0.0,
          0.0,
          0.0,
          0.0,
          0.0,
          0.0,
          0.0,
          -0.214,
          -0.204,
          -0.194,
          -0.31,
          -0.31,
          0.0,
          -0.188,
          0.0,
          0.0,
          0.0,
          0.0,
          0.0,
          0.0,
          0.0,
          0.0,
          0.0,
          0.0,
          0.0,
          -0.188,
          0.0,
          0.0,
          0.0,
          0.0,
          0.0,
          0.0,
          0.0,
          0.0,
          0.0,
          0.0,
          0.0,
          0.0,
          -0.224,
          -0.194,
          -0.192,
          -0.162,
          -0.19,
          -0.196
         ],
         "type": "scatter"
        },
        {
         "mode": "lines",
         "name": "$\\epsilon_{opt} = 0.50$",
         "x": [
          249,
          499,
          749,
          999,
          1249,
          1499,
          1749,
          1999,
          2249,
          2499,
          2749,
          2999,
          3249,
          3499,
          3749,
          3999,
          4249,
          4499,
          4749,
          4999,
          5249,
          5499,
          5749,
          5999,
          6249,
          6499,
          6749,
          6999,
          7249,
          7499,
          7749,
          7999,
          8249,
          8499,
          8749,
          8999,
          9249,
          9499,
          9749,
          9999,
          10249,
          10499,
          10749,
          10999,
          11249,
          11499,
          11749,
          11999,
          12249,
          12499,
          12749,
          12999,
          13249,
          13499,
          13749,
          13999,
          14249,
          14499,
          14749,
          14999,
          15249,
          15499,
          15749,
          15999,
          16249,
          16499,
          16749,
          16999,
          17249,
          17499,
          17749,
          17999,
          18249,
          18499,
          18749,
          18999,
          19249,
          19499,
          19749,
          19999
         ],
         "y": [
          -1.0,
          -1.0,
          -1.0,
          -1.0,
          -0.6,
          -0.59,
          -0.588,
          -0.652,
          -0.706,
          -0.564,
          -0.538,
          -0.62,
          -0.524,
          -0.662,
          -0.55,
          -0.242,
          -0.542,
          -0.498,
          -0.1,
          -0.248,
          -0.326,
          -0.122,
          -0.104,
          -0.08,
          -0.118,
          -0.308,
          -0.106,
          -0.086,
          -0.216,
          -0.104,
          -0.212,
          -0.114,
          -0.312,
          -0.296,
          -0.096,
          0.0,
          -0.198,
          0.0,
          -0.216,
          -0.196,
          -0.186,
          -0.102,
          0.0,
          -0.206,
          0.0,
          0.0,
          0.0,
          0.0,
          0.0,
          0.0,
          -0.114,
          -0.088,
          0.0,
          0.0,
          0.0,
          0.0,
          0.0,
          0.0,
          0.0,
          0.0,
          0.0,
          0.0,
          0.0,
          0.0,
          0.0,
          0.0,
          -0.094,
          0.0,
          0.0,
          0.0,
          -0.204,
          -0.21,
          0.0,
          0.0,
          0.0,
          0.0,
          0.0,
          0.0,
          0.0,
          0.0
         ],
         "type": "scatter"
        },
        {
         "mode": "lines",
         "name": "$\\epsilon_{opt} = 0.60$",
         "x": [
          249,
          499,
          749,
          999,
          1249,
          1499,
          1749,
          1999,
          2249,
          2499,
          2749,
          2999,
          3249,
          3499,
          3749,
          3999,
          4249,
          4499,
          4749,
          4999,
          5249,
          5499,
          5749,
          5999,
          6249,
          6499,
          6749,
          6999,
          7249,
          7499,
          7749,
          7999,
          8249,
          8499,
          8749,
          8999,
          9249,
          9499,
          9749,
          9999,
          10249,
          10499,
          10749,
          10999,
          11249,
          11499,
          11749,
          11999,
          12249,
          12499,
          12749,
          12999,
          13249,
          13499,
          13749,
          13999,
          14249,
          14499,
          14749,
          14999,
          15249,
          15499,
          15749,
          15999,
          16249,
          16499,
          16749,
          16999,
          17249,
          17499,
          17749,
          17999,
          18249,
          18499,
          18749,
          18999,
          19249,
          19499,
          19749,
          19999
         ],
         "y": [
          -1.0,
          -1.0,
          -1.0,
          -1.0,
          -1.0,
          -1.0,
          -1.0,
          -0.892,
          -0.916,
          -1.0,
          -1.0,
          -1.0,
          -0.738,
          -0.68,
          -0.746,
          -0.638,
          -0.556,
          -0.296,
          -0.442,
          -0.208,
          -0.304,
          -0.128,
          -0.392,
          -0.222,
          -0.21,
          -0.204,
          -0.21,
          -0.12,
          -0.1,
          -0.266,
          -0.246,
          -0.53,
          -0.12,
          0.0,
          -0.298,
          -0.098,
          0.0,
          -0.108,
          0.0,
          0.0,
          0.0,
          0.0,
          -0.106,
          -0.088,
          -0.094,
          0.0,
          0.0,
          0.0,
          0.0,
          0.0,
          0.0,
          0.0,
          0.0,
          0.0,
          0.0,
          -0.092,
          -0.108,
          0.0,
          -0.118,
          0.0,
          0.0,
          0.0,
          0.0,
          0.0,
          0.0,
          0.0,
          0.0,
          0.0,
          -0.094,
          -0.118,
          0.0,
          0.0,
          0.0,
          0.0,
          0.0,
          0.0,
          0.0,
          0.0,
          0.0,
          0.0
         ],
         "type": "scatter"
        },
        {
         "mode": "lines",
         "name": "$\\epsilon_{opt} = 0.70$",
         "x": [
          249,
          499,
          749,
          999,
          1249,
          1499,
          1749,
          1999,
          2249,
          2499,
          2749,
          2999,
          3249,
          3499,
          3749,
          3999,
          4249,
          4499,
          4749,
          4999,
          5249,
          5499,
          5749,
          5999,
          6249,
          6499,
          6749,
          6999,
          7249,
          7499,
          7749,
          7999,
          8249,
          8499,
          8749,
          8999,
          9249,
          9499,
          9749,
          9999,
          10249,
          10499,
          10749,
          10999,
          11249,
          11499,
          11749,
          11999,
          12249,
          12499,
          12749,
          12999,
          13249,
          13499,
          13749,
          13999,
          14249,
          14499,
          14749,
          14999,
          15249,
          15499,
          15749,
          15999,
          16249,
          16499,
          16749,
          16999,
          17249,
          17499,
          17749,
          17999,
          18249,
          18499,
          18749,
          18999,
          19249,
          19499,
          19749,
          19999
         ],
         "y": [
          -1.0,
          -1.0,
          -1.0,
          -1.0,
          -1.0,
          -1.0,
          -1.0,
          -1.0,
          -1.0,
          -1.0,
          -0.864,
          -0.732,
          -0.688,
          -0.668,
          -0.312,
          -0.432,
          -0.406,
          -0.552,
          -0.246,
          -0.296,
          -0.222,
          -0.16,
          -0.396,
          -0.296,
          -0.218,
          -0.286,
          -0.598,
          -0.326,
          -0.348,
          -0.422,
          -0.416,
          -0.218,
          -0.428,
          -0.214,
          -0.2,
          -0.498,
          -0.388,
          -0.498,
          -0.498,
          -0.498,
          -0.614,
          -0.55,
          -0.42,
          -0.16,
          -0.286,
          -0.302,
          -0.208,
          -0.428,
          -0.34,
          -0.216,
          -0.258,
          -0.21,
          -0.326,
          -0.216,
          -0.302,
          -0.296,
          -0.192,
          0.0,
          -0.194,
          -0.194,
          -0.084,
          -0.084,
          -0.1,
          -0.128,
          -0.112,
          -0.094,
          -0.108,
          -0.29,
          -0.284,
          -0.174,
          -0.31,
          -0.306,
          -0.262,
          0.0,
          0.0,
          0.0,
          -0.088,
          -0.094,
          -0.082,
          -0.086
         ],
         "type": "scatter"
        },
        {
         "mode": "lines",
         "name": "$\\epsilon_{opt} = 0.80$",
         "x": [
          249,
          499,
          749,
          999,
          1249,
          1499,
          1749,
          1999,
          2249,
          2499,
          2749,
          2999,
          3249,
          3499,
          3749,
          3999,
          4249,
          4499,
          4749,
          4999,
          5249,
          5499,
          5749,
          5999,
          6249,
          6499,
          6749,
          6999,
          7249,
          7499,
          7749,
          7999,
          8249,
          8499,
          8749,
          8999,
          9249,
          9499,
          9749,
          9999,
          10249,
          10499,
          10749,
          10999,
          11249,
          11499,
          11749,
          11999,
          12249,
          12499,
          12749,
          12999,
          13249,
          13499,
          13749,
          13999,
          14249,
          14499,
          14749,
          14999,
          15249,
          15499,
          15749,
          15999,
          16249,
          16499,
          16749,
          16999,
          17249,
          17499,
          17749,
          17999,
          18249,
          18499,
          18749,
          18999,
          19249,
          19499,
          19749,
          19999
         ],
         "y": [
          -1.0,
          -1.0,
          -1.0,
          -1.0,
          -0.88,
          -0.656,
          -0.726,
          -0.698,
          -0.79,
          -0.802,
          -0.804,
          -0.816,
          -0.77,
          -0.688,
          -0.678,
          -0.534,
          -0.7,
          -0.566,
          -0.594,
          -0.678,
          -0.814,
          -0.912,
          -0.582,
          -0.31,
          -0.358,
          -0.194,
          -0.258,
          -0.224,
          -0.242,
          -0.238,
          -0.258,
          -0.31,
          -0.104,
          -0.206,
          -0.09,
          -0.1,
          -0.088,
          0.0,
          -0.094,
          -0.18,
          -0.196,
          -0.194,
          -0.094,
          -0.07,
          -0.092,
          -0.196,
          -0.21,
          -0.094,
          -0.094,
          -0.192,
          -0.092,
          -0.096,
          -0.29,
          -0.418,
          -0.334,
          -0.098,
          0.0,
          0.0,
          -0.066,
          -0.502,
          -0.21,
          -0.286,
          -0.57,
          -0.436,
          -0.112,
          -0.096,
          0.0,
          -0.206,
          -0.232,
          -0.206,
          -0.09,
          -0.704,
          -0.092,
          0.0,
          -0.09,
          -0.098,
          -0.09,
          -0.098,
          -0.108,
          -0.248
         ],
         "type": "scatter"
        },
        {
         "mode": "lines",
         "name": "$\\epsilon_{opt} = 0.90$",
         "x": [
          249,
          499,
          749,
          999,
          1249,
          1499,
          1749,
          1999,
          2249,
          2499,
          2749,
          2999,
          3249,
          3499,
          3749,
          3999,
          4249,
          4499,
          4749,
          4999,
          5249,
          5499,
          5749,
          5999,
          6249,
          6499,
          6749,
          6999,
          7249,
          7499,
          7749,
          7999,
          8249,
          8499,
          8749,
          8999,
          9249,
          9499,
          9749,
          9999,
          10249,
          10499,
          10749,
          10999,
          11249,
          11499,
          11749,
          11999,
          12249,
          12499,
          12749,
          12999,
          13249,
          13499,
          13749,
          13999,
          14249,
          14499,
          14749,
          14999,
          15249,
          15499,
          15749,
          15999,
          16249,
          16499,
          16749,
          16999,
          17249,
          17499,
          17749,
          17999,
          18249,
          18499,
          18749,
          18999,
          19249,
          19499,
          19749,
          19999
         ],
         "y": [
          -1.0,
          -1.0,
          -1.0,
          -1.0,
          -1.0,
          -1.0,
          -1.0,
          -1.0,
          -1.0,
          -1.0,
          -1.0,
          -1.0,
          -1.0,
          -1.0,
          -1.0,
          -0.83,
          -1.0,
          -0.92,
          -0.894,
          -0.792,
          -0.904,
          -0.886,
          -0.91,
          -0.912,
          -0.884,
          -0.778,
          -0.89,
          -0.762,
          -0.882,
          -0.884,
          -0.9,
          -0.908,
          -0.82,
          -0.696,
          -0.796,
          -0.792,
          -0.754,
          -0.868,
          -0.904,
          -0.708,
          -0.726,
          -0.812,
          -0.802,
          -0.708,
          -0.692,
          -0.712,
          -0.422,
          -0.552,
          -0.576,
          -0.58,
          -0.588,
          -0.716,
          -0.636,
          -0.288,
          -0.312,
          -0.302,
          -0.6,
          -0.64,
          -0.556,
          -0.794,
          -0.778,
          -0.78,
          -0.664,
          -0.644,
          -0.638,
          -0.196,
          -0.464,
          -0.234,
          -0.568,
          -0.47,
          -0.314,
          -0.46,
          -0.474,
          -0.372,
          -0.336,
          -0.226,
          -0.592,
          -0.618,
          -0.59,
          -0.602
         ],
         "type": "scatter"
        },
        {
         "mode": "lines",
         "name": "$\\epsilon_{opt} = 1.00$",
         "x": [
          249,
          499,
          749,
          999,
          1249,
          1499,
          1749,
          1999,
          2249,
          2499,
          2749,
          2999,
          3249,
          3499,
          3749,
          3999,
          4249,
          4499,
          4749,
          4999,
          5249,
          5499,
          5749,
          5999,
          6249,
          6499,
          6749,
          6999,
          7249,
          7499,
          7749,
          7999,
          8249,
          8499,
          8749,
          8999,
          9249,
          9499,
          9749,
          9999,
          10249,
          10499,
          10749,
          10999,
          11249,
          11499,
          11749,
          11999,
          12249,
          12499,
          12749,
          12999,
          13249,
          13499,
          13749,
          13999,
          14249,
          14499,
          14749,
          14999,
          15249,
          15499,
          15749,
          15999,
          16249,
          16499,
          16749,
          16999,
          17249,
          17499,
          17749,
          17999,
          18249,
          18499,
          18749,
          18999,
          19249,
          19499,
          19749,
          19999
         ],
         "y": [
          -1.0,
          -1.0,
          -1.0,
          -1.0,
          -1.0,
          -1.0,
          -1.0,
          -1.0,
          -1.0,
          -1.0,
          -1.0,
          -1.0,
          -1.0,
          -1.0,
          -1.0,
          -1.0,
          -1.0,
          -1.0,
          -1.0,
          -1.0,
          -1.0,
          -1.0,
          -1.0,
          -1.0,
          -1.0,
          -1.0,
          -1.0,
          -1.0,
          -1.0,
          -1.0,
          -1.0,
          -1.0,
          -1.0,
          -1.0,
          -1.0,
          -1.0,
          -1.0,
          -1.0,
          -1.0,
          -1.0,
          -1.0,
          -1.0,
          -1.0,
          -1.0,
          -1.0,
          -1.0,
          -1.0,
          -1.0,
          -1.0,
          -1.0,
          -1.0,
          -1.0,
          -1.0,
          -1.0,
          -1.0,
          -1.0,
          -1.0,
          -1.0,
          -1.0,
          -1.0,
          -1.0,
          -1.0,
          -1.0,
          -1.0,
          -1.0,
          -1.0,
          -1.0,
          -1.0,
          -1.0,
          -1.0,
          -1.0,
          -1.0,
          -1.0,
          -1.0,
          -1.0,
          -1.0,
          -1.0,
          -1.0,
          -1.0,
          -1.0
         ],
         "type": "scatter"
        }
       ],
       "layout": {
        "template": {
         "data": {
          "histogram2dcontour": [
           {
            "type": "histogram2dcontour",
            "colorbar": {
             "outlinewidth": 0,
             "ticks": ""
            },
            "colorscale": [
             [
              0.0,
              "#0d0887"
             ],
             [
              0.1111111111111111,
              "#46039f"
             ],
             [
              0.2222222222222222,
              "#7201a8"
             ],
             [
              0.3333333333333333,
              "#9c179e"
             ],
             [
              0.4444444444444444,
              "#bd3786"
             ],
             [
              0.5555555555555556,
              "#d8576b"
             ],
             [
              0.6666666666666666,
              "#ed7953"
             ],
             [
              0.7777777777777778,
              "#fb9f3a"
             ],
             [
              0.8888888888888888,
              "#fdca26"
             ],
             [
              1.0,
              "#f0f921"
             ]
            ]
           }
          ],
          "choropleth": [
           {
            "type": "choropleth",
            "colorbar": {
             "outlinewidth": 0,
             "ticks": ""
            }
           }
          ],
          "histogram2d": [
           {
            "type": "histogram2d",
            "colorbar": {
             "outlinewidth": 0,
             "ticks": ""
            },
            "colorscale": [
             [
              0.0,
              "#0d0887"
             ],
             [
              0.1111111111111111,
              "#46039f"
             ],
             [
              0.2222222222222222,
              "#7201a8"
             ],
             [
              0.3333333333333333,
              "#9c179e"
             ],
             [
              0.4444444444444444,
              "#bd3786"
             ],
             [
              0.5555555555555556,
              "#d8576b"
             ],
             [
              0.6666666666666666,
              "#ed7953"
             ],
             [
              0.7777777777777778,
              "#fb9f3a"
             ],
             [
              0.8888888888888888,
              "#fdca26"
             ],
             [
              1.0,
              "#f0f921"
             ]
            ]
           }
          ],
          "heatmap": [
           {
            "type": "heatmap",
            "colorbar": {
             "outlinewidth": 0,
             "ticks": ""
            },
            "colorscale": [
             [
              0.0,
              "#0d0887"
             ],
             [
              0.1111111111111111,
              "#46039f"
             ],
             [
              0.2222222222222222,
              "#7201a8"
             ],
             [
              0.3333333333333333,
              "#9c179e"
             ],
             [
              0.4444444444444444,
              "#bd3786"
             ],
             [
              0.5555555555555556,
              "#d8576b"
             ],
             [
              0.6666666666666666,
              "#ed7953"
             ],
             [
              0.7777777777777778,
              "#fb9f3a"
             ],
             [
              0.8888888888888888,
              "#fdca26"
             ],
             [
              1.0,
              "#f0f921"
             ]
            ]
           }
          ],
          "heatmapgl": [
           {
            "type": "heatmapgl",
            "colorbar": {
             "outlinewidth": 0,
             "ticks": ""
            },
            "colorscale": [
             [
              0.0,
              "#0d0887"
             ],
             [
              0.1111111111111111,
              "#46039f"
             ],
             [
              0.2222222222222222,
              "#7201a8"
             ],
             [
              0.3333333333333333,
              "#9c179e"
             ],
             [
              0.4444444444444444,
              "#bd3786"
             ],
             [
              0.5555555555555556,
              "#d8576b"
             ],
             [
              0.6666666666666666,
              "#ed7953"
             ],
             [
              0.7777777777777778,
              "#fb9f3a"
             ],
             [
              0.8888888888888888,
              "#fdca26"
             ],
             [
              1.0,
              "#f0f921"
             ]
            ]
           }
          ],
          "contourcarpet": [
           {
            "type": "contourcarpet",
            "colorbar": {
             "outlinewidth": 0,
             "ticks": ""
            }
           }
          ],
          "contour": [
           {
            "type": "contour",
            "colorbar": {
             "outlinewidth": 0,
             "ticks": ""
            },
            "colorscale": [
             [
              0.0,
              "#0d0887"
             ],
             [
              0.1111111111111111,
              "#46039f"
             ],
             [
              0.2222222222222222,
              "#7201a8"
             ],
             [
              0.3333333333333333,
              "#9c179e"
             ],
             [
              0.4444444444444444,
              "#bd3786"
             ],
             [
              0.5555555555555556,
              "#d8576b"
             ],
             [
              0.6666666666666666,
              "#ed7953"
             ],
             [
              0.7777777777777778,
              "#fb9f3a"
             ],
             [
              0.8888888888888888,
              "#fdca26"
             ],
             [
              1.0,
              "#f0f921"
             ]
            ]
           }
          ],
          "surface": [
           {
            "type": "surface",
            "colorbar": {
             "outlinewidth": 0,
             "ticks": ""
            },
            "colorscale": [
             [
              0.0,
              "#0d0887"
             ],
             [
              0.1111111111111111,
              "#46039f"
             ],
             [
              0.2222222222222222,
              "#7201a8"
             ],
             [
              0.3333333333333333,
              "#9c179e"
             ],
             [
              0.4444444444444444,
              "#bd3786"
             ],
             [
              0.5555555555555556,
              "#d8576b"
             ],
             [
              0.6666666666666666,
              "#ed7953"
             ],
             [
              0.7777777777777778,
              "#fb9f3a"
             ],
             [
              0.8888888888888888,
              "#fdca26"
             ],
             [
              1.0,
              "#f0f921"
             ]
            ]
           }
          ],
          "mesh3d": [
           {
            "type": "mesh3d",
            "colorbar": {
             "outlinewidth": 0,
             "ticks": ""
            }
           }
          ],
          "scatter": [
           {
            "fillpattern": {
             "fillmode": "overlay",
             "size": 10,
             "solidity": 0.2
            },
            "type": "scatter"
           }
          ],
          "parcoords": [
           {
            "type": "parcoords",
            "line": {
             "colorbar": {
              "outlinewidth": 0,
              "ticks": ""
             }
            }
           }
          ],
          "scatterpolargl": [
           {
            "type": "scatterpolargl",
            "marker": {
             "colorbar": {
              "outlinewidth": 0,
              "ticks": ""
             }
            }
           }
          ],
          "bar": [
           {
            "error_x": {
             "color": "#2a3f5f"
            },
            "error_y": {
             "color": "#2a3f5f"
            },
            "marker": {
             "line": {
              "color": "#E5ECF6",
              "width": 0.5
             },
             "pattern": {
              "fillmode": "overlay",
              "size": 10,
              "solidity": 0.2
             }
            },
            "type": "bar"
           }
          ],
          "scattergeo": [
           {
            "type": "scattergeo",
            "marker": {
             "colorbar": {
              "outlinewidth": 0,
              "ticks": ""
             }
            }
           }
          ],
          "scatterpolar": [
           {
            "type": "scatterpolar",
            "marker": {
             "colorbar": {
              "outlinewidth": 0,
              "ticks": ""
             }
            }
           }
          ],
          "histogram": [
           {
            "marker": {
             "pattern": {
              "fillmode": "overlay",
              "size": 10,
              "solidity": 0.2
             }
            },
            "type": "histogram"
           }
          ],
          "scattergl": [
           {
            "type": "scattergl",
            "marker": {
             "colorbar": {
              "outlinewidth": 0,
              "ticks": ""
             }
            }
           }
          ],
          "scatter3d": [
           {
            "type": "scatter3d",
            "line": {
             "colorbar": {
              "outlinewidth": 0,
              "ticks": ""
             }
            },
            "marker": {
             "colorbar": {
              "outlinewidth": 0,
              "ticks": ""
             }
            }
           }
          ],
          "scattermapbox": [
           {
            "type": "scattermapbox",
            "marker": {
             "colorbar": {
              "outlinewidth": 0,
              "ticks": ""
             }
            }
           }
          ],
          "scatterternary": [
           {
            "type": "scatterternary",
            "marker": {
             "colorbar": {
              "outlinewidth": 0,
              "ticks": ""
             }
            }
           }
          ],
          "scattercarpet": [
           {
            "type": "scattercarpet",
            "marker": {
             "colorbar": {
              "outlinewidth": 0,
              "ticks": ""
             }
            }
           }
          ],
          "carpet": [
           {
            "aaxis": {
             "endlinecolor": "#2a3f5f",
             "gridcolor": "white",
             "linecolor": "white",
             "minorgridcolor": "white",
             "startlinecolor": "#2a3f5f"
            },
            "baxis": {
             "endlinecolor": "#2a3f5f",
             "gridcolor": "white",
             "linecolor": "white",
             "minorgridcolor": "white",
             "startlinecolor": "#2a3f5f"
            },
            "type": "carpet"
           }
          ],
          "table": [
           {
            "cells": {
             "fill": {
              "color": "#EBF0F8"
             },
             "line": {
              "color": "white"
             }
            },
            "header": {
             "fill": {
              "color": "#C8D4E3"
             },
             "line": {
              "color": "white"
             }
            },
            "type": "table"
           }
          ],
          "barpolar": [
           {
            "marker": {
             "line": {
              "color": "#E5ECF6",
              "width": 0.5
             },
             "pattern": {
              "fillmode": "overlay",
              "size": 10,
              "solidity": 0.2
             }
            },
            "type": "barpolar"
           }
          ],
          "pie": [
           {
            "automargin": true,
            "type": "pie"
           }
          ]
         },
         "layout": {
          "autotypenumbers": "strict",
          "colorway": [
           "#636efa",
           "#EF553B",
           "#00cc96",
           "#ab63fa",
           "#FFA15A",
           "#19d3f3",
           "#FF6692",
           "#B6E880",
           "#FF97FF",
           "#FECB52"
          ],
          "font": {
           "color": "#2a3f5f"
          },
          "hovermode": "closest",
          "hoverlabel": {
           "align": "left"
          },
          "paper_bgcolor": "white",
          "plot_bgcolor": "#E5ECF6",
          "polar": {
           "bgcolor": "#E5ECF6",
           "angularaxis": {
            "gridcolor": "white",
            "linecolor": "white",
            "ticks": ""
           },
           "radialaxis": {
            "gridcolor": "white",
            "linecolor": "white",
            "ticks": ""
           }
          },
          "ternary": {
           "bgcolor": "#E5ECF6",
           "aaxis": {
            "gridcolor": "white",
            "linecolor": "white",
            "ticks": ""
           },
           "baxis": {
            "gridcolor": "white",
            "linecolor": "white",
            "ticks": ""
           },
           "caxis": {
            "gridcolor": "white",
            "linecolor": "white",
            "ticks": ""
           }
          },
          "coloraxis": {
           "colorbar": {
            "outlinewidth": 0,
            "ticks": ""
           }
          },
          "colorscale": {
           "sequential": [
            [
             0.0,
             "#0d0887"
            ],
            [
             0.1111111111111111,
             "#46039f"
            ],
            [
             0.2222222222222222,
             "#7201a8"
            ],
            [
             0.3333333333333333,
             "#9c179e"
            ],
            [
             0.4444444444444444,
             "#bd3786"
            ],
            [
             0.5555555555555556,
             "#d8576b"
            ],
            [
             0.6666666666666666,
             "#ed7953"
            ],
            [
             0.7777777777777778,
             "#fb9f3a"
            ],
            [
             0.8888888888888888,
             "#fdca26"
            ],
            [
             1.0,
             "#f0f921"
            ]
           ],
           "sequentialminus": [
            [
             0.0,
             "#0d0887"
            ],
            [
             0.1111111111111111,
             "#46039f"
            ],
            [
             0.2222222222222222,
             "#7201a8"
            ],
            [
             0.3333333333333333,
             "#9c179e"
            ],
            [
             0.4444444444444444,
             "#bd3786"
            ],
            [
             0.5555555555555556,
             "#d8576b"
            ],
            [
             0.6666666666666666,
             "#ed7953"
            ],
            [
             0.7777777777777778,
             "#fb9f3a"
            ],
            [
             0.8888888888888888,
             "#fdca26"
            ],
            [
             1.0,
             "#f0f921"
            ]
           ],
           "diverging": [
            [
             0,
             "#8e0152"
            ],
            [
             0.1,
             "#c51b7d"
            ],
            [
             0.2,
             "#de77ae"
            ],
            [
             0.3,
             "#f1b6da"
            ],
            [
             0.4,
             "#fde0ef"
            ],
            [
             0.5,
             "#f7f7f7"
            ],
            [
             0.6,
             "#e6f5d0"
            ],
            [
             0.7,
             "#b8e186"
            ],
            [
             0.8,
             "#7fbc41"
            ],
            [
             0.9,
             "#4d9221"
            ],
            [
             1,
             "#276419"
            ]
           ]
          },
          "xaxis": {
           "gridcolor": "white",
           "linecolor": "white",
           "ticks": "",
           "title": {
            "standoff": 15
           },
           "zerolinecolor": "white",
           "automargin": true,
           "zerolinewidth": 2
          },
          "yaxis": {
           "gridcolor": "white",
           "linecolor": "white",
           "ticks": "",
           "title": {
            "standoff": 15
           },
           "zerolinecolor": "white",
           "automargin": true,
           "zerolinewidth": 2
          },
          "scene": {
           "xaxis": {
            "backgroundcolor": "#E5ECF6",
            "gridcolor": "white",
            "linecolor": "white",
            "showbackground": true,
            "ticks": "",
            "zerolinecolor": "white",
            "gridwidth": 2
           },
           "yaxis": {
            "backgroundcolor": "#E5ECF6",
            "gridcolor": "white",
            "linecolor": "white",
            "showbackground": true,
            "ticks": "",
            "zerolinecolor": "white",
            "gridwidth": 2
           },
           "zaxis": {
            "backgroundcolor": "#E5ECF6",
            "gridcolor": "white",
            "linecolor": "white",
            "showbackground": true,
            "ticks": "",
            "zerolinecolor": "white",
            "gridwidth": 2
           }
          },
          "shapedefaults": {
           "line": {
            "color": "#2a3f5f"
           }
          },
          "annotationdefaults": {
           "arrowcolor": "#2a3f5f",
           "arrowhead": 0,
           "arrowwidth": 1
          },
          "geo": {
           "bgcolor": "white",
           "landcolor": "#E5ECF6",
           "subunitcolor": "white",
           "showland": true,
           "showlakes": true,
           "lakecolor": "white"
          },
          "title": {
           "x": 0.05
          },
          "mapbox": {
           "style": "light"
          }
         }
        },
        "title": {
         "text": "$M_{opt}\\text{ for every 250 games for different values of }\\epsilon_{opt}$"
        },
        "xaxis": {
         "title": {
          "text": "$game$"
         }
        },
        "yaxis": {
         "title": {
          "text": "$M_{opt}$"
         }
        },
        "width": 1200,
        "height": 400
       },
       "config": {
        "plotlyServerURL": "https://plot.ly"
       }
      },
      "text/html": "<div>                            <div id=\"f0804e4d-bd2c-4102-9a1f-e185964e3a8a\" class=\"plotly-graph-div\" style=\"height:400px; width:1200px;\"></div>            <script type=\"text/javascript\">                require([\"plotly\"], function(Plotly) {                    window.PLOTLYENV=window.PLOTLYENV || {};                                    if (document.getElementById(\"f0804e4d-bd2c-4102-9a1f-e185964e3a8a\")) {                    Plotly.newPlot(                        \"f0804e4d-bd2c-4102-9a1f-e185964e3a8a\",                        [{\"mode\":\"lines\",\"name\":\"$\\\\epsilon_{opt} = 0.00$\",\"x\":[249,499,749,999,1249,1499,1749,1999,2249,2499,2749,2999,3249,3499,3749,3999,4249,4499,4749,4999,5249,5499,5749,5999,6249,6499,6749,6999,7249,7499,7749,7999,8249,8499,8749,8999,9249,9499,9749,9999,10249,10499,10749,10999,11249,11499,11749,11999,12249,12499,12749,12999,13249,13499,13749,13999,14249,14499,14749,14999,15249,15499,15749,15999,16249,16499,16749,16999,17249,17499,17749,17999,18249,18499,18749,18999,19249,19499,19749,19999],\"y\":[-1.0,-1.0,-1.0,-1.0,-1.0,-1.0,-1.0,-1.0,-1.0,-1.0,-1.0,-1.0,-1.0,-1.0,-1.0,-1.0,-1.0,-1.0,-1.0,-1.0,-1.0,-1.0,-1.0,-1.0,-1.0,-1.0,-1.0,-1.0,-1.0,-1.0,-1.0,-1.0,-1.0,-1.0,-1.0,-1.0,-1.0,-1.0,-1.0,-1.0,-1.0,-1.0,-1.0,-1.0,-1.0,-1.0,-1.0,-1.0,-1.0,-1.0,-1.0,-1.0,-1.0,-1.0,-1.0,-1.0,-1.0,-1.0,-1.0,-1.0,-1.0,-1.0,-1.0,-1.0,-1.0,-1.0,-1.0,-1.0,-1.0,-1.0,-1.0,-1.0,-1.0,-1.0,-1.0,-1.0,-1.0,-1.0,-1.0,-1.0],\"type\":\"scatter\"},{\"mode\":\"lines\",\"name\":\"$\\\\epsilon_{opt} = 0.10$\",\"x\":[249,499,749,999,1249,1499,1749,1999,2249,2499,2749,2999,3249,3499,3749,3999,4249,4499,4749,4999,5249,5499,5749,5999,6249,6499,6749,6999,7249,7499,7749,7999,8249,8499,8749,8999,9249,9499,9749,9999,10249,10499,10749,10999,11249,11499,11749,11999,12249,12499,12749,12999,13249,13499,13749,13999,14249,14499,14749,14999,15249,15499,15749,15999,16249,16499,16749,16999,17249,17499,17749,17999,18249,18499,18749,18999,19249,19499,19749,19999],\"y\":[-1.0,-1.0,-0.394,-1.0,-1.0,-0.778,-1.0,-1.0,-1.0,-1.0,-1.0,-1.0,-1.0,-1.0,-0.81,-0.704,-0.454,-0.218,-0.386,-0.418,-0.886,-0.606,0.0,-0.356,-0.612,-0.118,-0.536,-0.586,-0.084,-0.172,-0.384,-0.498,-0.498,-0.498,-0.498,-0.498,-0.614,-0.418,-0.628,-0.272,-0.422,-0.414,-0.226,-0.308,-0.094,-0.112,-0.498,-0.498,-0.3,-0.568,-0.18,-0.226,-0.092,-0.192,-0.406,-0.498,-0.286,-0.116,-0.094,-0.308,-0.09,-0.28,-0.394,-0.38,-0.42,-0.19,0.0,0.0,0.0,0.0,-0.128,0.0,-0.208,0.0,0.0,0.0,0.0,0.0,0.0,0.0],\"type\":\"scatter\"},{\"mode\":\"lines\",\"name\":\"$\\\\epsilon_{opt} = 0.20$\",\"x\":[249,499,749,999,1249,1499,1749,1999,2249,2499,2749,2999,3249,3499,3749,3999,4249,4499,4749,4999,5249,5499,5749,5999,6249,6499,6749,6999,7249,7499,7749,7999,8249,8499,8749,8999,9249,9499,9749,9999,10249,10499,10749,10999,11249,11499,11749,11999,12249,12499,12749,12999,13249,13499,13749,13999,14249,14499,14749,14999,15249,15499,15749,15999,16249,16499,16749,16999,17249,17499,17749,17999,18249,18499,18749,18999,19249,19499,19749,19999],\"y\":[-1.0,-1.0,-0.788,-1.0,-1.0,-0.796,-0.872,-0.882,-0.87,-0.882,-0.682,-0.568,-0.284,-0.812,-0.774,-0.604,-0.748,-0.556,-0.534,-0.412,-0.224,-0.63,-0.408,-0.384,-0.308,-0.194,-0.498,-0.498,-0.4,-0.498,-0.416,-0.394,-0.894,-0.89,-0.11,-0.324,-0.192,-0.2,-0.588,-0.592,-0.516,-0.552,-0.374,0.0,-0.29,-0.08,-0.092,-0.106,-0.102,-0.2,-0.206,-0.39,-0.292,-0.274,-0.394,-0.204,-0.22,-0.418,-0.2,-0.206,-0.388,0.0,0.0,0.0,-0.208,-0.19,-0.222,-0.188,-0.174,-0.192,-0.228,0.0,0.0,-0.188,-0.194,-0.194,-0.318,-0.182,0.0,0.0],\"type\":\"scatter\"},{\"mode\":\"lines\",\"name\":\"$\\\\epsilon_{opt} = 0.30$\",\"x\":[249,499,749,999,1249,1499,1749,1999,2249,2499,2749,2999,3249,3499,3749,3999,4249,4499,4749,4999,5249,5499,5749,5999,6249,6499,6749,6999,7249,7499,7749,7999,8249,8499,8749,8999,9249,9499,9749,9999,10249,10499,10749,10999,11249,11499,11749,11999,12249,12499,12749,12999,13249,13499,13749,13999,14249,14499,14749,14999,15249,15499,15749,15999,16249,16499,16749,16999,17249,17499,17749,17999,18249,18499,18749,18999,19249,19499,19749,19999],\"y\":[-1.0,-1.0,-1.0,-1.0,-1.0,-0.81,-0.784,-0.258,-0.498,-1.0,-1.0,-1.0,-0.898,-0.402,-0.854,-0.876,-0.588,-0.756,-0.534,-0.622,-0.61,-0.498,-0.498,-0.554,-0.244,-0.274,-0.192,-0.214,-0.232,-0.4,-0.49,-0.264,-0.176,-0.168,-0.224,-0.214,-0.166,-0.198,-0.196,-0.286,-0.302,-0.174,-0.2,-0.204,-0.186,-0.19,-0.314,-0.114,0.0,-0.194,-0.378,-0.412,-0.214,-0.192,-0.188,-0.232,0.0,0.0,0.0,0.0,0.0,0.0,0.0,0.0,0.0,-0.226,0.0,-0.182,-0.184,-0.224,-0.096,-0.096,0.0,-0.186,0.0,0.0,0.0,0.0,-0.196,-0.188],\"type\":\"scatter\"},{\"mode\":\"lines\",\"name\":\"$\\\\epsilon_{opt} = 0.40$\",\"x\":[249,499,749,999,1249,1499,1749,1999,2249,2499,2749,2999,3249,3499,3749,3999,4249,4499,4749,4999,5249,5499,5749,5999,6249,6499,6749,6999,7249,7499,7749,7999,8249,8499,8749,8999,9249,9499,9749,9999,10249,10499,10749,10999,11249,11499,11749,11999,12249,12499,12749,12999,13249,13499,13749,13999,14249,14499,14749,14999,15249,15499,15749,15999,16249,16499,16749,16999,17249,17499,17749,17999,18249,18499,18749,18999,19249,19499,19749,19999],\"y\":[-1.0,-1.0,-1.0,-1.0,-1.0,-0.776,-1.0,-1.0,-0.698,-0.616,-0.684,-0.304,-0.28,-0.384,-0.32,-0.404,-0.656,-0.416,-0.294,-0.306,-0.632,-0.458,-0.268,-0.202,-0.294,-0.19,-0.18,-0.194,-0.4,-0.212,-0.31,-0.404,-0.386,-0.19,0.0,0.0,0.0,0.0,0.0,0.0,0.0,0.0,0.0,-0.214,-0.204,-0.194,-0.31,-0.31,0.0,-0.188,0.0,0.0,0.0,0.0,0.0,0.0,0.0,0.0,0.0,0.0,0.0,-0.188,0.0,0.0,0.0,0.0,0.0,0.0,0.0,0.0,0.0,0.0,0.0,0.0,-0.224,-0.194,-0.192,-0.162,-0.19,-0.196],\"type\":\"scatter\"},{\"mode\":\"lines\",\"name\":\"$\\\\epsilon_{opt} = 0.50$\",\"x\":[249,499,749,999,1249,1499,1749,1999,2249,2499,2749,2999,3249,3499,3749,3999,4249,4499,4749,4999,5249,5499,5749,5999,6249,6499,6749,6999,7249,7499,7749,7999,8249,8499,8749,8999,9249,9499,9749,9999,10249,10499,10749,10999,11249,11499,11749,11999,12249,12499,12749,12999,13249,13499,13749,13999,14249,14499,14749,14999,15249,15499,15749,15999,16249,16499,16749,16999,17249,17499,17749,17999,18249,18499,18749,18999,19249,19499,19749,19999],\"y\":[-1.0,-1.0,-1.0,-1.0,-0.6,-0.59,-0.588,-0.652,-0.706,-0.564,-0.538,-0.62,-0.524,-0.662,-0.55,-0.242,-0.542,-0.498,-0.1,-0.248,-0.326,-0.122,-0.104,-0.08,-0.118,-0.308,-0.106,-0.086,-0.216,-0.104,-0.212,-0.114,-0.312,-0.296,-0.096,0.0,-0.198,0.0,-0.216,-0.196,-0.186,-0.102,0.0,-0.206,0.0,0.0,0.0,0.0,0.0,0.0,-0.114,-0.088,0.0,0.0,0.0,0.0,0.0,0.0,0.0,0.0,0.0,0.0,0.0,0.0,0.0,0.0,-0.094,0.0,0.0,0.0,-0.204,-0.21,0.0,0.0,0.0,0.0,0.0,0.0,0.0,0.0],\"type\":\"scatter\"},{\"mode\":\"lines\",\"name\":\"$\\\\epsilon_{opt} = 0.60$\",\"x\":[249,499,749,999,1249,1499,1749,1999,2249,2499,2749,2999,3249,3499,3749,3999,4249,4499,4749,4999,5249,5499,5749,5999,6249,6499,6749,6999,7249,7499,7749,7999,8249,8499,8749,8999,9249,9499,9749,9999,10249,10499,10749,10999,11249,11499,11749,11999,12249,12499,12749,12999,13249,13499,13749,13999,14249,14499,14749,14999,15249,15499,15749,15999,16249,16499,16749,16999,17249,17499,17749,17999,18249,18499,18749,18999,19249,19499,19749,19999],\"y\":[-1.0,-1.0,-1.0,-1.0,-1.0,-1.0,-1.0,-0.892,-0.916,-1.0,-1.0,-1.0,-0.738,-0.68,-0.746,-0.638,-0.556,-0.296,-0.442,-0.208,-0.304,-0.128,-0.392,-0.222,-0.21,-0.204,-0.21,-0.12,-0.1,-0.266,-0.246,-0.53,-0.12,0.0,-0.298,-0.098,0.0,-0.108,0.0,0.0,0.0,0.0,-0.106,-0.088,-0.094,0.0,0.0,0.0,0.0,0.0,0.0,0.0,0.0,0.0,0.0,-0.092,-0.108,0.0,-0.118,0.0,0.0,0.0,0.0,0.0,0.0,0.0,0.0,0.0,-0.094,-0.118,0.0,0.0,0.0,0.0,0.0,0.0,0.0,0.0,0.0,0.0],\"type\":\"scatter\"},{\"mode\":\"lines\",\"name\":\"$\\\\epsilon_{opt} = 0.70$\",\"x\":[249,499,749,999,1249,1499,1749,1999,2249,2499,2749,2999,3249,3499,3749,3999,4249,4499,4749,4999,5249,5499,5749,5999,6249,6499,6749,6999,7249,7499,7749,7999,8249,8499,8749,8999,9249,9499,9749,9999,10249,10499,10749,10999,11249,11499,11749,11999,12249,12499,12749,12999,13249,13499,13749,13999,14249,14499,14749,14999,15249,15499,15749,15999,16249,16499,16749,16999,17249,17499,17749,17999,18249,18499,18749,18999,19249,19499,19749,19999],\"y\":[-1.0,-1.0,-1.0,-1.0,-1.0,-1.0,-1.0,-1.0,-1.0,-1.0,-0.864,-0.732,-0.688,-0.668,-0.312,-0.432,-0.406,-0.552,-0.246,-0.296,-0.222,-0.16,-0.396,-0.296,-0.218,-0.286,-0.598,-0.326,-0.348,-0.422,-0.416,-0.218,-0.428,-0.214,-0.2,-0.498,-0.388,-0.498,-0.498,-0.498,-0.614,-0.55,-0.42,-0.16,-0.286,-0.302,-0.208,-0.428,-0.34,-0.216,-0.258,-0.21,-0.326,-0.216,-0.302,-0.296,-0.192,0.0,-0.194,-0.194,-0.084,-0.084,-0.1,-0.128,-0.112,-0.094,-0.108,-0.29,-0.284,-0.174,-0.31,-0.306,-0.262,0.0,0.0,0.0,-0.088,-0.094,-0.082,-0.086],\"type\":\"scatter\"},{\"mode\":\"lines\",\"name\":\"$\\\\epsilon_{opt} = 0.80$\",\"x\":[249,499,749,999,1249,1499,1749,1999,2249,2499,2749,2999,3249,3499,3749,3999,4249,4499,4749,4999,5249,5499,5749,5999,6249,6499,6749,6999,7249,7499,7749,7999,8249,8499,8749,8999,9249,9499,9749,9999,10249,10499,10749,10999,11249,11499,11749,11999,12249,12499,12749,12999,13249,13499,13749,13999,14249,14499,14749,14999,15249,15499,15749,15999,16249,16499,16749,16999,17249,17499,17749,17999,18249,18499,18749,18999,19249,19499,19749,19999],\"y\":[-1.0,-1.0,-1.0,-1.0,-0.88,-0.656,-0.726,-0.698,-0.79,-0.802,-0.804,-0.816,-0.77,-0.688,-0.678,-0.534,-0.7,-0.566,-0.594,-0.678,-0.814,-0.912,-0.582,-0.31,-0.358,-0.194,-0.258,-0.224,-0.242,-0.238,-0.258,-0.31,-0.104,-0.206,-0.09,-0.1,-0.088,0.0,-0.094,-0.18,-0.196,-0.194,-0.094,-0.07,-0.092,-0.196,-0.21,-0.094,-0.094,-0.192,-0.092,-0.096,-0.29,-0.418,-0.334,-0.098,0.0,0.0,-0.066,-0.502,-0.21,-0.286,-0.57,-0.436,-0.112,-0.096,0.0,-0.206,-0.232,-0.206,-0.09,-0.704,-0.092,0.0,-0.09,-0.098,-0.09,-0.098,-0.108,-0.248],\"type\":\"scatter\"},{\"mode\":\"lines\",\"name\":\"$\\\\epsilon_{opt} = 0.90$\",\"x\":[249,499,749,999,1249,1499,1749,1999,2249,2499,2749,2999,3249,3499,3749,3999,4249,4499,4749,4999,5249,5499,5749,5999,6249,6499,6749,6999,7249,7499,7749,7999,8249,8499,8749,8999,9249,9499,9749,9999,10249,10499,10749,10999,11249,11499,11749,11999,12249,12499,12749,12999,13249,13499,13749,13999,14249,14499,14749,14999,15249,15499,15749,15999,16249,16499,16749,16999,17249,17499,17749,17999,18249,18499,18749,18999,19249,19499,19749,19999],\"y\":[-1.0,-1.0,-1.0,-1.0,-1.0,-1.0,-1.0,-1.0,-1.0,-1.0,-1.0,-1.0,-1.0,-1.0,-1.0,-0.83,-1.0,-0.92,-0.894,-0.792,-0.904,-0.886,-0.91,-0.912,-0.884,-0.778,-0.89,-0.762,-0.882,-0.884,-0.9,-0.908,-0.82,-0.696,-0.796,-0.792,-0.754,-0.868,-0.904,-0.708,-0.726,-0.812,-0.802,-0.708,-0.692,-0.712,-0.422,-0.552,-0.576,-0.58,-0.588,-0.716,-0.636,-0.288,-0.312,-0.302,-0.6,-0.64,-0.556,-0.794,-0.778,-0.78,-0.664,-0.644,-0.638,-0.196,-0.464,-0.234,-0.568,-0.47,-0.314,-0.46,-0.474,-0.372,-0.336,-0.226,-0.592,-0.618,-0.59,-0.602],\"type\":\"scatter\"},{\"mode\":\"lines\",\"name\":\"$\\\\epsilon_{opt} = 1.00$\",\"x\":[249,499,749,999,1249,1499,1749,1999,2249,2499,2749,2999,3249,3499,3749,3999,4249,4499,4749,4999,5249,5499,5749,5999,6249,6499,6749,6999,7249,7499,7749,7999,8249,8499,8749,8999,9249,9499,9749,9999,10249,10499,10749,10999,11249,11499,11749,11999,12249,12499,12749,12999,13249,13499,13749,13999,14249,14499,14749,14999,15249,15499,15749,15999,16249,16499,16749,16999,17249,17499,17749,17999,18249,18499,18749,18999,19249,19499,19749,19999],\"y\":[-1.0,-1.0,-1.0,-1.0,-1.0,-1.0,-1.0,-1.0,-1.0,-1.0,-1.0,-1.0,-1.0,-1.0,-1.0,-1.0,-1.0,-1.0,-1.0,-1.0,-1.0,-1.0,-1.0,-1.0,-1.0,-1.0,-1.0,-1.0,-1.0,-1.0,-1.0,-1.0,-1.0,-1.0,-1.0,-1.0,-1.0,-1.0,-1.0,-1.0,-1.0,-1.0,-1.0,-1.0,-1.0,-1.0,-1.0,-1.0,-1.0,-1.0,-1.0,-1.0,-1.0,-1.0,-1.0,-1.0,-1.0,-1.0,-1.0,-1.0,-1.0,-1.0,-1.0,-1.0,-1.0,-1.0,-1.0,-1.0,-1.0,-1.0,-1.0,-1.0,-1.0,-1.0,-1.0,-1.0,-1.0,-1.0,-1.0,-1.0],\"type\":\"scatter\"}],                        {\"template\":{\"data\":{\"histogram2dcontour\":[{\"type\":\"histogram2dcontour\",\"colorbar\":{\"outlinewidth\":0,\"ticks\":\"\"},\"colorscale\":[[0.0,\"#0d0887\"],[0.1111111111111111,\"#46039f\"],[0.2222222222222222,\"#7201a8\"],[0.3333333333333333,\"#9c179e\"],[0.4444444444444444,\"#bd3786\"],[0.5555555555555556,\"#d8576b\"],[0.6666666666666666,\"#ed7953\"],[0.7777777777777778,\"#fb9f3a\"],[0.8888888888888888,\"#fdca26\"],[1.0,\"#f0f921\"]]}],\"choropleth\":[{\"type\":\"choropleth\",\"colorbar\":{\"outlinewidth\":0,\"ticks\":\"\"}}],\"histogram2d\":[{\"type\":\"histogram2d\",\"colorbar\":{\"outlinewidth\":0,\"ticks\":\"\"},\"colorscale\":[[0.0,\"#0d0887\"],[0.1111111111111111,\"#46039f\"],[0.2222222222222222,\"#7201a8\"],[0.3333333333333333,\"#9c179e\"],[0.4444444444444444,\"#bd3786\"],[0.5555555555555556,\"#d8576b\"],[0.6666666666666666,\"#ed7953\"],[0.7777777777777778,\"#fb9f3a\"],[0.8888888888888888,\"#fdca26\"],[1.0,\"#f0f921\"]]}],\"heatmap\":[{\"type\":\"heatmap\",\"colorbar\":{\"outlinewidth\":0,\"ticks\":\"\"},\"colorscale\":[[0.0,\"#0d0887\"],[0.1111111111111111,\"#46039f\"],[0.2222222222222222,\"#7201a8\"],[0.3333333333333333,\"#9c179e\"],[0.4444444444444444,\"#bd3786\"],[0.5555555555555556,\"#d8576b\"],[0.6666666666666666,\"#ed7953\"],[0.7777777777777778,\"#fb9f3a\"],[0.8888888888888888,\"#fdca26\"],[1.0,\"#f0f921\"]]}],\"heatmapgl\":[{\"type\":\"heatmapgl\",\"colorbar\":{\"outlinewidth\":0,\"ticks\":\"\"},\"colorscale\":[[0.0,\"#0d0887\"],[0.1111111111111111,\"#46039f\"],[0.2222222222222222,\"#7201a8\"],[0.3333333333333333,\"#9c179e\"],[0.4444444444444444,\"#bd3786\"],[0.5555555555555556,\"#d8576b\"],[0.6666666666666666,\"#ed7953\"],[0.7777777777777778,\"#fb9f3a\"],[0.8888888888888888,\"#fdca26\"],[1.0,\"#f0f921\"]]}],\"contourcarpet\":[{\"type\":\"contourcarpet\",\"colorbar\":{\"outlinewidth\":0,\"ticks\":\"\"}}],\"contour\":[{\"type\":\"contour\",\"colorbar\":{\"outlinewidth\":0,\"ticks\":\"\"},\"colorscale\":[[0.0,\"#0d0887\"],[0.1111111111111111,\"#46039f\"],[0.2222222222222222,\"#7201a8\"],[0.3333333333333333,\"#9c179e\"],[0.4444444444444444,\"#bd3786\"],[0.5555555555555556,\"#d8576b\"],[0.6666666666666666,\"#ed7953\"],[0.7777777777777778,\"#fb9f3a\"],[0.8888888888888888,\"#fdca26\"],[1.0,\"#f0f921\"]]}],\"surface\":[{\"type\":\"surface\",\"colorbar\":{\"outlinewidth\":0,\"ticks\":\"\"},\"colorscale\":[[0.0,\"#0d0887\"],[0.1111111111111111,\"#46039f\"],[0.2222222222222222,\"#7201a8\"],[0.3333333333333333,\"#9c179e\"],[0.4444444444444444,\"#bd3786\"],[0.5555555555555556,\"#d8576b\"],[0.6666666666666666,\"#ed7953\"],[0.7777777777777778,\"#fb9f3a\"],[0.8888888888888888,\"#fdca26\"],[1.0,\"#f0f921\"]]}],\"mesh3d\":[{\"type\":\"mesh3d\",\"colorbar\":{\"outlinewidth\":0,\"ticks\":\"\"}}],\"scatter\":[{\"fillpattern\":{\"fillmode\":\"overlay\",\"size\":10,\"solidity\":0.2},\"type\":\"scatter\"}],\"parcoords\":[{\"type\":\"parcoords\",\"line\":{\"colorbar\":{\"outlinewidth\":0,\"ticks\":\"\"}}}],\"scatterpolargl\":[{\"type\":\"scatterpolargl\",\"marker\":{\"colorbar\":{\"outlinewidth\":0,\"ticks\":\"\"}}}],\"bar\":[{\"error_x\":{\"color\":\"#2a3f5f\"},\"error_y\":{\"color\":\"#2a3f5f\"},\"marker\":{\"line\":{\"color\":\"#E5ECF6\",\"width\":0.5},\"pattern\":{\"fillmode\":\"overlay\",\"size\":10,\"solidity\":0.2}},\"type\":\"bar\"}],\"scattergeo\":[{\"type\":\"scattergeo\",\"marker\":{\"colorbar\":{\"outlinewidth\":0,\"ticks\":\"\"}}}],\"scatterpolar\":[{\"type\":\"scatterpolar\",\"marker\":{\"colorbar\":{\"outlinewidth\":0,\"ticks\":\"\"}}}],\"histogram\":[{\"marker\":{\"pattern\":{\"fillmode\":\"overlay\",\"size\":10,\"solidity\":0.2}},\"type\":\"histogram\"}],\"scattergl\":[{\"type\":\"scattergl\",\"marker\":{\"colorbar\":{\"outlinewidth\":0,\"ticks\":\"\"}}}],\"scatter3d\":[{\"type\":\"scatter3d\",\"line\":{\"colorbar\":{\"outlinewidth\":0,\"ticks\":\"\"}},\"marker\":{\"colorbar\":{\"outlinewidth\":0,\"ticks\":\"\"}}}],\"scattermapbox\":[{\"type\":\"scattermapbox\",\"marker\":{\"colorbar\":{\"outlinewidth\":0,\"ticks\":\"\"}}}],\"scatterternary\":[{\"type\":\"scatterternary\",\"marker\":{\"colorbar\":{\"outlinewidth\":0,\"ticks\":\"\"}}}],\"scattercarpet\":[{\"type\":\"scattercarpet\",\"marker\":{\"colorbar\":{\"outlinewidth\":0,\"ticks\":\"\"}}}],\"carpet\":[{\"aaxis\":{\"endlinecolor\":\"#2a3f5f\",\"gridcolor\":\"white\",\"linecolor\":\"white\",\"minorgridcolor\":\"white\",\"startlinecolor\":\"#2a3f5f\"},\"baxis\":{\"endlinecolor\":\"#2a3f5f\",\"gridcolor\":\"white\",\"linecolor\":\"white\",\"minorgridcolor\":\"white\",\"startlinecolor\":\"#2a3f5f\"},\"type\":\"carpet\"}],\"table\":[{\"cells\":{\"fill\":{\"color\":\"#EBF0F8\"},\"line\":{\"color\":\"white\"}},\"header\":{\"fill\":{\"color\":\"#C8D4E3\"},\"line\":{\"color\":\"white\"}},\"type\":\"table\"}],\"barpolar\":[{\"marker\":{\"line\":{\"color\":\"#E5ECF6\",\"width\":0.5},\"pattern\":{\"fillmode\":\"overlay\",\"size\":10,\"solidity\":0.2}},\"type\":\"barpolar\"}],\"pie\":[{\"automargin\":true,\"type\":\"pie\"}]},\"layout\":{\"autotypenumbers\":\"strict\",\"colorway\":[\"#636efa\",\"#EF553B\",\"#00cc96\",\"#ab63fa\",\"#FFA15A\",\"#19d3f3\",\"#FF6692\",\"#B6E880\",\"#FF97FF\",\"#FECB52\"],\"font\":{\"color\":\"#2a3f5f\"},\"hovermode\":\"closest\",\"hoverlabel\":{\"align\":\"left\"},\"paper_bgcolor\":\"white\",\"plot_bgcolor\":\"#E5ECF6\",\"polar\":{\"bgcolor\":\"#E5ECF6\",\"angularaxis\":{\"gridcolor\":\"white\",\"linecolor\":\"white\",\"ticks\":\"\"},\"radialaxis\":{\"gridcolor\":\"white\",\"linecolor\":\"white\",\"ticks\":\"\"}},\"ternary\":{\"bgcolor\":\"#E5ECF6\",\"aaxis\":{\"gridcolor\":\"white\",\"linecolor\":\"white\",\"ticks\":\"\"},\"baxis\":{\"gridcolor\":\"white\",\"linecolor\":\"white\",\"ticks\":\"\"},\"caxis\":{\"gridcolor\":\"white\",\"linecolor\":\"white\",\"ticks\":\"\"}},\"coloraxis\":{\"colorbar\":{\"outlinewidth\":0,\"ticks\":\"\"}},\"colorscale\":{\"sequential\":[[0.0,\"#0d0887\"],[0.1111111111111111,\"#46039f\"],[0.2222222222222222,\"#7201a8\"],[0.3333333333333333,\"#9c179e\"],[0.4444444444444444,\"#bd3786\"],[0.5555555555555556,\"#d8576b\"],[0.6666666666666666,\"#ed7953\"],[0.7777777777777778,\"#fb9f3a\"],[0.8888888888888888,\"#fdca26\"],[1.0,\"#f0f921\"]],\"sequentialminus\":[[0.0,\"#0d0887\"],[0.1111111111111111,\"#46039f\"],[0.2222222222222222,\"#7201a8\"],[0.3333333333333333,\"#9c179e\"],[0.4444444444444444,\"#bd3786\"],[0.5555555555555556,\"#d8576b\"],[0.6666666666666666,\"#ed7953\"],[0.7777777777777778,\"#fb9f3a\"],[0.8888888888888888,\"#fdca26\"],[1.0,\"#f0f921\"]],\"diverging\":[[0,\"#8e0152\"],[0.1,\"#c51b7d\"],[0.2,\"#de77ae\"],[0.3,\"#f1b6da\"],[0.4,\"#fde0ef\"],[0.5,\"#f7f7f7\"],[0.6,\"#e6f5d0\"],[0.7,\"#b8e186\"],[0.8,\"#7fbc41\"],[0.9,\"#4d9221\"],[1,\"#276419\"]]},\"xaxis\":{\"gridcolor\":\"white\",\"linecolor\":\"white\",\"ticks\":\"\",\"title\":{\"standoff\":15},\"zerolinecolor\":\"white\",\"automargin\":true,\"zerolinewidth\":2},\"yaxis\":{\"gridcolor\":\"white\",\"linecolor\":\"white\",\"ticks\":\"\",\"title\":{\"standoff\":15},\"zerolinecolor\":\"white\",\"automargin\":true,\"zerolinewidth\":2},\"scene\":{\"xaxis\":{\"backgroundcolor\":\"#E5ECF6\",\"gridcolor\":\"white\",\"linecolor\":\"white\",\"showbackground\":true,\"ticks\":\"\",\"zerolinecolor\":\"white\",\"gridwidth\":2},\"yaxis\":{\"backgroundcolor\":\"#E5ECF6\",\"gridcolor\":\"white\",\"linecolor\":\"white\",\"showbackground\":true,\"ticks\":\"\",\"zerolinecolor\":\"white\",\"gridwidth\":2},\"zaxis\":{\"backgroundcolor\":\"#E5ECF6\",\"gridcolor\":\"white\",\"linecolor\":\"white\",\"showbackground\":true,\"ticks\":\"\",\"zerolinecolor\":\"white\",\"gridwidth\":2}},\"shapedefaults\":{\"line\":{\"color\":\"#2a3f5f\"}},\"annotationdefaults\":{\"arrowcolor\":\"#2a3f5f\",\"arrowhead\":0,\"arrowwidth\":1},\"geo\":{\"bgcolor\":\"white\",\"landcolor\":\"#E5ECF6\",\"subunitcolor\":\"white\",\"showland\":true,\"showlakes\":true,\"lakecolor\":\"white\"},\"title\":{\"x\":0.05},\"mapbox\":{\"style\":\"light\"}}},\"title\":{\"text\":\"$M_{opt}\\\\text{ for every 250 games for different values of }\\\\epsilon_{opt}$\"},\"xaxis\":{\"title\":{\"text\":\"$game$\"}},\"yaxis\":{\"title\":{\"text\":\"$M_{opt}$\"}},\"width\":1200,\"height\":400},                        {\"responsive\": true}                    ).then(function(){\n                            \nvar gd = document.getElementById('f0804e4d-bd2c-4102-9a1f-e185964e3a8a');\nvar x = new MutationObserver(function (mutations, observer) {{\n        var display = window.getComputedStyle(gd).display;\n        if (!display || display === 'none') {{\n            console.log([gd, 'removed!']);\n            Plotly.purge(gd);\n            observer.disconnect();\n        }}\n}});\n\n// Listen for the removal of the full notebook cells\nvar notebookContainer = gd.closest('#notebook-container');\nif (notebookContainer) {{\n    x.observe(notebookContainer, {childList: true});\n}}\n\n// Listen for the clearing of the current output cell\nvar outputEl = gd.closest('.output');\nif (outputEl) {{\n    x.observe(outputEl, {childList: true});\n}}\n\n                        })                };                });            </script>        </div>"
     },
     "metadata": {},
     "output_type": "display_data"
    }
   ],
   "source": [
    "fig = go.Figure()\n",
    "\n",
    "for i, y_i in enumerate(eps_M_opts):\n",
    "    fig.add_trace(go.Scatter(x=x, y=y_i, mode='lines',name=r'$\\epsilon_{opt} = %.2f$' % eps_list[i]))\n",
    "\n",
    "fig.update_layout(\n",
    "    title=r'$M_{opt}\\text{ for every %d games for different values of }\\epsilon_{opt}$' % averaging_steps,\n",
    "    xaxis_title=r'$game$',\n",
    "    yaxis_title=r'$M_{opt}$',\n",
    "    width=1200, height=400\n",
    ")\n",
    "\n",
    "fig.show()"
   ]
  },
  {
   "cell_type": "code",
   "execution_count": 64,
   "metadata": {
    "collapsed": false,
    "pycharm": {
     "name": "#%%\n"
    }
   },
   "outputs": [
    {
     "data": {
      "application/vnd.plotly.v1+json": {
       "data": [
        {
         "mode": "lines",
         "name": "$\\epsilon_{opt} = 0.00$",
         "x": [
          249,
          499,
          749,
          999,
          1249,
          1499,
          1749,
          1999,
          2249,
          2499,
          2749,
          2999,
          3249,
          3499,
          3749,
          3999,
          4249,
          4499,
          4749,
          4999,
          5249,
          5499,
          5749,
          5999,
          6249,
          6499,
          6749,
          6999,
          7249,
          7499,
          7749,
          7999,
          8249,
          8499,
          8749,
          8999,
          9249,
          9499,
          9749,
          9999,
          10249,
          10499,
          10749,
          10999,
          11249,
          11499,
          11749,
          11999,
          12249,
          12499,
          12749,
          12999,
          13249,
          13499,
          13749,
          13999,
          14249,
          14499,
          14749,
          14999,
          15249,
          15499,
          15749,
          15999,
          16249,
          16499,
          16749,
          16999,
          17249,
          17499,
          17749,
          17999,
          18249,
          18499,
          18749,
          18999,
          19249,
          19499,
          19749,
          19999
         ],
         "y": [
          -0.864,
          -0.364,
          -0.384,
          -0.614,
          -0.152,
          -0.044,
          -0.288,
          -0.108,
          -0.076,
          -0.196,
          -0.072,
          -0.08,
          -0.632,
          -0.676,
          -0.616,
          -0.606,
          -0.996,
          -1.0,
          -0.28,
          -0.1,
          -0.052,
          0.028,
          0.24,
          0.188,
          -0.044,
          -0.192,
          0.036,
          0.116,
          -0.028,
          0.06,
          0.06,
          0.128,
          -0.024,
          -0.004,
          0.388,
          0.412,
          0.356,
          0.308,
          0.436,
          0.372,
          0.452,
          0.38,
          0.424,
          0.356,
          0.332,
          0.364,
          0.332,
          0.408,
          0.376,
          0.38,
          0.352,
          0.356,
          0.388,
          0.412,
          0.34,
          0.356,
          0.336,
          0.364,
          0.368,
          0.348,
          0.384,
          0.404,
          0.344,
          0.368,
          0.36,
          0.38,
          0.368,
          0.332,
          0.392,
          0.4,
          0.408,
          0.424,
          0.44,
          0.36,
          0.424,
          0.484,
          0.348,
          0.384,
          0.32,
          0.412
         ],
         "type": "scatter"
        },
        {
         "mode": "lines",
         "name": "$\\epsilon_{opt} = 0.10$",
         "x": [
          249,
          499,
          749,
          999,
          1249,
          1499,
          1749,
          1999,
          2249,
          2499,
          2749,
          2999,
          3249,
          3499,
          3749,
          3999,
          4249,
          4499,
          4749,
          4999,
          5249,
          5499,
          5749,
          5999,
          6249,
          6499,
          6749,
          6999,
          7249,
          7499,
          7749,
          7999,
          8249,
          8499,
          8749,
          8999,
          9249,
          9499,
          9749,
          9999,
          10249,
          10499,
          10749,
          10999,
          11249,
          11499,
          11749,
          11999,
          12249,
          12499,
          12749,
          12999,
          13249,
          13499,
          13749,
          13999,
          14249,
          14499,
          14749,
          14999,
          15249,
          15499,
          15749,
          15999,
          16249,
          16499,
          16749,
          16999,
          17249,
          17499,
          17749,
          17999,
          18249,
          18499,
          18749,
          18999,
          19249,
          19499,
          19749,
          19999
         ],
         "y": [
          -0.76,
          -0.322,
          0.0,
          0.078,
          0.366,
          0.414,
          0.442,
          0.528,
          0.444,
          0.538,
          0.634,
          0.742,
          0.68,
          0.734,
          0.76,
          0.702,
          0.756,
          0.802,
          0.79,
          0.786,
          0.826,
          0.812,
          0.774,
          0.816,
          0.844,
          0.866,
          0.842,
          0.854,
          0.8,
          0.84,
          0.794,
          0.836,
          0.788,
          0.81,
          0.866,
          0.842,
          0.852,
          0.84,
          0.842,
          0.854,
          0.88,
          0.834,
          0.864,
          0.838,
          0.932,
          0.894,
          0.882,
          0.906,
          0.844,
          0.834,
          0.876,
          0.854,
          0.906,
          0.888,
          0.866,
          0.872,
          0.884,
          0.904,
          0.842,
          0.904,
          0.892,
          0.892,
          0.894,
          0.894,
          0.886,
          0.906,
          0.936,
          0.888,
          0.926,
          0.888,
          0.922,
          0.926,
          0.914,
          0.886,
          0.9,
          0.92,
          0.902,
          0.918,
          0.912,
          0.914
         ],
         "type": "scatter"
        },
        {
         "mode": "lines",
         "name": "$\\epsilon_{opt} = 0.20$",
         "x": [
          249,
          499,
          749,
          999,
          1249,
          1499,
          1749,
          1999,
          2249,
          2499,
          2749,
          2999,
          3249,
          3499,
          3749,
          3999,
          4249,
          4499,
          4749,
          4999,
          5249,
          5499,
          5749,
          5999,
          6249,
          6499,
          6749,
          6999,
          7249,
          7499,
          7749,
          7999,
          8249,
          8499,
          8749,
          8999,
          9249,
          9499,
          9749,
          9999,
          10249,
          10499,
          10749,
          10999,
          11249,
          11499,
          11749,
          11999,
          12249,
          12499,
          12749,
          12999,
          13249,
          13499,
          13749,
          13999,
          14249,
          14499,
          14749,
          14999,
          15249,
          15499,
          15749,
          15999,
          16249,
          16499,
          16749,
          16999,
          17249,
          17499,
          17749,
          17999,
          18249,
          18499,
          18749,
          18999,
          19249,
          19499,
          19749,
          19999
         ],
         "y": [
          -0.66,
          0.078,
          0.468,
          0.272,
          0.696,
          0.67,
          0.804,
          0.776,
          0.7,
          0.73,
          0.82,
          0.798,
          0.824,
          0.852,
          0.812,
          0.822,
          0.834,
          0.876,
          0.832,
          0.882,
          0.828,
          0.86,
          0.882,
          0.922,
          0.826,
          0.836,
          0.822,
          0.836,
          0.882,
          0.862,
          0.834,
          0.89,
          0.804,
          0.808,
          0.842,
          0.844,
          0.854,
          0.856,
          0.828,
          0.86,
          0.878,
          0.896,
          0.858,
          0.9,
          0.918,
          0.928,
          0.894,
          0.886,
          0.9,
          0.95,
          0.902,
          0.928,
          0.932,
          0.948,
          0.91,
          0.912,
          0.92,
          0.922,
          0.922,
          0.938,
          0.916,
          0.908,
          0.92,
          0.932,
          0.938,
          0.924,
          0.92,
          0.926,
          0.91,
          0.922,
          0.942,
          0.95,
          0.926,
          0.934,
          0.926,
          0.924,
          0.918,
          0.924,
          0.854,
          0.936
         ],
         "type": "scatter"
        },
        {
         "mode": "lines",
         "name": "$\\epsilon_{opt} = 0.30$",
         "x": [
          249,
          499,
          749,
          999,
          1249,
          1499,
          1749,
          1999,
          2249,
          2499,
          2749,
          2999,
          3249,
          3499,
          3749,
          3999,
          4249,
          4499,
          4749,
          4999,
          5249,
          5499,
          5749,
          5999,
          6249,
          6499,
          6749,
          6999,
          7249,
          7499,
          7749,
          7999,
          8249,
          8499,
          8749,
          8999,
          9249,
          9499,
          9749,
          9999,
          10249,
          10499,
          10749,
          10999,
          11249,
          11499,
          11749,
          11999,
          12249,
          12499,
          12749,
          12999,
          13249,
          13499,
          13749,
          13999,
          14249,
          14499,
          14749,
          14999,
          15249,
          15499,
          15749,
          15999,
          16249,
          16499,
          16749,
          16999,
          17249,
          17499,
          17749,
          17999,
          18249,
          18499,
          18749,
          18999,
          19249,
          19499,
          19749,
          19999
         ],
         "y": [
          0.09,
          0.234,
          0.574,
          0.73,
          0.746,
          0.77,
          0.81,
          0.778,
          0.82,
          0.822,
          0.846,
          0.79,
          0.838,
          0.832,
          0.786,
          0.812,
          0.86,
          0.85,
          0.858,
          0.852,
          0.862,
          0.86,
          0.892,
          0.908,
          0.934,
          0.908,
          0.92,
          0.9,
          0.886,
          0.914,
          0.944,
          0.926,
          0.942,
          0.93,
          0.948,
          0.944,
          0.908,
          0.91,
          0.928,
          0.95,
          0.936,
          0.934,
          0.914,
          0.914,
          0.924,
          0.946,
          0.948,
          0.926,
          0.936,
          0.918,
          0.926,
          0.926,
          0.942,
          0.942,
          0.946,
          0.94,
          0.958,
          0.964,
          0.952,
          0.932,
          0.942,
          0.944,
          0.942,
          0.944,
          0.94,
          0.946,
          0.94,
          0.94,
          0.95,
          0.928,
          0.948,
          0.948,
          0.948,
          0.948,
          0.932,
          0.954,
          0.962,
          0.938,
          0.958,
          0.938
         ],
         "type": "scatter"
        },
        {
         "mode": "lines",
         "name": "$\\epsilon_{opt} = 0.40$",
         "x": [
          249,
          499,
          749,
          999,
          1249,
          1499,
          1749,
          1999,
          2249,
          2499,
          2749,
          2999,
          3249,
          3499,
          3749,
          3999,
          4249,
          4499,
          4749,
          4999,
          5249,
          5499,
          5749,
          5999,
          6249,
          6499,
          6749,
          6999,
          7249,
          7499,
          7749,
          7999,
          8249,
          8499,
          8749,
          8999,
          9249,
          9499,
          9749,
          9999,
          10249,
          10499,
          10749,
          10999,
          11249,
          11499,
          11749,
          11999,
          12249,
          12499,
          12749,
          12999,
          13249,
          13499,
          13749,
          13999,
          14249,
          14499,
          14749,
          14999,
          15249,
          15499,
          15749,
          15999,
          16249,
          16499,
          16749,
          16999,
          17249,
          17499,
          17749,
          17999,
          18249,
          18499,
          18749,
          18999,
          19249,
          19499,
          19749,
          19999
         ],
         "y": [
          -0.814,
          0.17,
          0.406,
          0.588,
          0.7,
          0.594,
          0.684,
          0.786,
          0.814,
          0.844,
          0.814,
          0.858,
          0.888,
          0.84,
          0.93,
          0.836,
          0.896,
          0.882,
          0.91,
          0.884,
          0.898,
          0.874,
          0.908,
          0.914,
          0.914,
          0.902,
          0.934,
          0.926,
          0.88,
          0.862,
          0.9,
          0.898,
          0.896,
          0.94,
          0.94,
          0.93,
          0.914,
          0.888,
          0.932,
          0.94,
          0.942,
          0.922,
          0.934,
          0.942,
          0.914,
          0.934,
          0.944,
          0.906,
          0.942,
          0.934,
          0.94,
          0.938,
          0.918,
          0.948,
          0.952,
          0.924,
          0.956,
          0.942,
          0.948,
          0.946,
          0.932,
          0.95,
          0.932,
          0.966,
          0.956,
          0.926,
          0.94,
          0.95,
          0.9,
          0.936,
          0.922,
          0.922,
          0.926,
          0.928,
          0.942,
          0.928,
          0.96,
          0.924,
          0.954,
          0.952
         ],
         "type": "scatter"
        },
        {
         "mode": "lines",
         "name": "$\\epsilon_{opt} = 0.50$",
         "x": [
          249,
          499,
          749,
          999,
          1249,
          1499,
          1749,
          1999,
          2249,
          2499,
          2749,
          2999,
          3249,
          3499,
          3749,
          3999,
          4249,
          4499,
          4749,
          4999,
          5249,
          5499,
          5749,
          5999,
          6249,
          6499,
          6749,
          6999,
          7249,
          7499,
          7749,
          7999,
          8249,
          8499,
          8749,
          8999,
          9249,
          9499,
          9749,
          9999,
          10249,
          10499,
          10749,
          10999,
          11249,
          11499,
          11749,
          11999,
          12249,
          12499,
          12749,
          12999,
          13249,
          13499,
          13749,
          13999,
          14249,
          14499,
          14749,
          14999,
          15249,
          15499,
          15749,
          15999,
          16249,
          16499,
          16749,
          16999,
          17249,
          17499,
          17749,
          17999,
          18249,
          18499,
          18749,
          18999,
          19249,
          19499,
          19749,
          19999
         ],
         "y": [
          -0.126,
          0.422,
          0.536,
          0.552,
          0.708,
          0.794,
          0.816,
          0.834,
          0.884,
          0.832,
          0.888,
          0.926,
          0.89,
          0.916,
          0.928,
          0.888,
          0.922,
          0.926,
          0.912,
          0.928,
          0.94,
          0.948,
          0.904,
          0.93,
          0.928,
          0.946,
          0.934,
          0.942,
          0.934,
          0.954,
          0.932,
          0.954,
          0.93,
          0.95,
          0.95,
          0.938,
          0.974,
          0.928,
          0.948,
          0.942,
          0.93,
          0.936,
          0.91,
          0.93,
          0.916,
          0.922,
          0.916,
          0.93,
          0.948,
          0.946,
          0.962,
          0.932,
          0.96,
          0.952,
          0.944,
          0.942,
          0.958,
          0.94,
          0.934,
          0.93,
          0.952,
          0.946,
          0.946,
          0.92,
          0.952,
          0.962,
          0.938,
          0.932,
          0.938,
          0.934,
          0.934,
          0.944,
          0.934,
          0.95,
          0.944,
          0.926,
          0.95,
          0.94,
          0.932,
          0.952
         ],
         "type": "scatter"
        },
        {
         "mode": "lines",
         "name": "$\\epsilon_{opt} = 0.60$",
         "x": [
          249,
          499,
          749,
          999,
          1249,
          1499,
          1749,
          1999,
          2249,
          2499,
          2749,
          2999,
          3249,
          3499,
          3749,
          3999,
          4249,
          4499,
          4749,
          4999,
          5249,
          5499,
          5749,
          5999,
          6249,
          6499,
          6749,
          6999,
          7249,
          7499,
          7749,
          7999,
          8249,
          8499,
          8749,
          8999,
          9249,
          9499,
          9749,
          9999,
          10249,
          10499,
          10749,
          10999,
          11249,
          11499,
          11749,
          11999,
          12249,
          12499,
          12749,
          12999,
          13249,
          13499,
          13749,
          13999,
          14249,
          14499,
          14749,
          14999,
          15249,
          15499,
          15749,
          15999,
          16249,
          16499,
          16749,
          16999,
          17249,
          17499,
          17749,
          17999,
          18249,
          18499,
          18749,
          18999,
          19249,
          19499,
          19749,
          19999
         ],
         "y": [
          0.042,
          0.222,
          0.688,
          0.688,
          0.762,
          0.716,
          0.77,
          0.802,
          0.8,
          0.874,
          0.838,
          0.856,
          0.84,
          0.916,
          0.85,
          0.874,
          0.884,
          0.87,
          0.894,
          0.94,
          0.9,
          0.91,
          0.91,
          0.914,
          0.902,
          0.904,
          0.894,
          0.914,
          0.948,
          0.926,
          0.934,
          0.896,
          0.942,
          0.926,
          0.936,
          0.962,
          0.914,
          0.926,
          0.95,
          0.936,
          0.94,
          0.926,
          0.958,
          0.96,
          0.946,
          0.964,
          0.952,
          0.948,
          0.932,
          0.936,
          0.936,
          0.934,
          0.956,
          0.938,
          0.944,
          0.944,
          0.928,
          0.932,
          0.952,
          0.954,
          0.932,
          0.974,
          0.958,
          0.944,
          0.948,
          0.94,
          0.946,
          0.966,
          0.96,
          0.908,
          0.952,
          0.922,
          0.92,
          0.944,
          0.956,
          0.946,
          0.948,
          0.94,
          0.942,
          0.932
         ],
         "type": "scatter"
        },
        {
         "mode": "lines",
         "name": "$\\epsilon_{opt} = 0.70$",
         "x": [
          249,
          499,
          749,
          999,
          1249,
          1499,
          1749,
          1999,
          2249,
          2499,
          2749,
          2999,
          3249,
          3499,
          3749,
          3999,
          4249,
          4499,
          4749,
          4999,
          5249,
          5499,
          5749,
          5999,
          6249,
          6499,
          6749,
          6999,
          7249,
          7499,
          7749,
          7999,
          8249,
          8499,
          8749,
          8999,
          9249,
          9499,
          9749,
          9999,
          10249,
          10499,
          10749,
          10999,
          11249,
          11499,
          11749,
          11999,
          12249,
          12499,
          12749,
          12999,
          13249,
          13499,
          13749,
          13999,
          14249,
          14499,
          14749,
          14999,
          15249,
          15499,
          15749,
          15999,
          16249,
          16499,
          16749,
          16999,
          17249,
          17499,
          17749,
          17999,
          18249,
          18499,
          18749,
          18999,
          19249,
          19499,
          19749,
          19999
         ],
         "y": [
          -0.04,
          0.316,
          0.35,
          0.732,
          0.718,
          0.732,
          0.774,
          0.754,
          0.814,
          0.83,
          0.9,
          0.926,
          0.932,
          0.878,
          0.924,
          0.926,
          0.926,
          0.886,
          0.902,
          0.928,
          0.928,
          0.938,
          0.93,
          0.92,
          0.904,
          0.944,
          0.89,
          0.918,
          0.936,
          0.94,
          0.938,
          0.902,
          0.918,
          0.874,
          0.918,
          0.944,
          0.932,
          0.94,
          0.928,
          0.906,
          0.902,
          0.89,
          0.942,
          0.932,
          0.92,
          0.94,
          0.944,
          0.944,
          0.936,
          0.91,
          0.926,
          0.92,
          0.932,
          0.95,
          0.952,
          0.934,
          0.956,
          0.934,
          0.938,
          0.93,
          0.934,
          0.924,
          0.936,
          0.924,
          0.93,
          0.944,
          0.932,
          0.954,
          0.94,
          0.936,
          0.926,
          0.932,
          0.93,
          0.914,
          0.916,
          0.954,
          0.944,
          0.948,
          0.936,
          0.926
         ],
         "type": "scatter"
        },
        {
         "mode": "lines",
         "name": "$\\epsilon_{opt} = 0.80$",
         "x": [
          249,
          499,
          749,
          999,
          1249,
          1499,
          1749,
          1999,
          2249,
          2499,
          2749,
          2999,
          3249,
          3499,
          3749,
          3999,
          4249,
          4499,
          4749,
          4999,
          5249,
          5499,
          5749,
          5999,
          6249,
          6499,
          6749,
          6999,
          7249,
          7499,
          7749,
          7999,
          8249,
          8499,
          8749,
          8999,
          9249,
          9499,
          9749,
          9999,
          10249,
          10499,
          10749,
          10999,
          11249,
          11499,
          11749,
          11999,
          12249,
          12499,
          12749,
          12999,
          13249,
          13499,
          13749,
          13999,
          14249,
          14499,
          14749,
          14999,
          15249,
          15499,
          15749,
          15999,
          16249,
          16499,
          16749,
          16999,
          17249,
          17499,
          17749,
          17999,
          18249,
          18499,
          18749,
          18999,
          19249,
          19499,
          19749,
          19999
         ],
         "y": [
          0.22,
          0.256,
          0.572,
          0.612,
          0.788,
          0.722,
          0.77,
          0.734,
          0.78,
          0.846,
          0.836,
          0.868,
          0.858,
          0.878,
          0.88,
          0.864,
          0.864,
          0.916,
          0.898,
          0.868,
          0.858,
          0.87,
          0.912,
          0.856,
          0.878,
          0.942,
          0.914,
          0.898,
          0.908,
          0.916,
          0.938,
          0.908,
          0.956,
          0.948,
          0.894,
          0.914,
          0.936,
          0.94,
          0.89,
          0.902,
          0.91,
          0.944,
          0.942,
          0.962,
          0.924,
          0.942,
          0.95,
          0.96,
          0.94,
          0.94,
          0.928,
          0.958,
          0.938,
          0.942,
          0.946,
          0.942,
          0.948,
          0.968,
          0.92,
          0.904,
          0.944,
          0.928,
          0.944,
          0.944,
          0.93,
          0.952,
          0.94,
          0.928,
          0.92,
          0.91,
          0.932,
          0.932,
          0.92,
          0.942,
          0.936,
          0.94,
          0.93,
          0.934,
          0.946,
          0.936
         ],
         "type": "scatter"
        },
        {
         "mode": "lines",
         "name": "$\\epsilon_{opt} = 0.90$",
         "x": [
          249,
          499,
          749,
          999,
          1249,
          1499,
          1749,
          1999,
          2249,
          2499,
          2749,
          2999,
          3249,
          3499,
          3749,
          3999,
          4249,
          4499,
          4749,
          4999,
          5249,
          5499,
          5749,
          5999,
          6249,
          6499,
          6749,
          6999,
          7249,
          7499,
          7749,
          7999,
          8249,
          8499,
          8749,
          8999,
          9249,
          9499,
          9749,
          9999,
          10249,
          10499,
          10749,
          10999,
          11249,
          11499,
          11749,
          11999,
          12249,
          12499,
          12749,
          12999,
          13249,
          13499,
          13749,
          13999,
          14249,
          14499,
          14749,
          14999,
          15249,
          15499,
          15749,
          15999,
          16249,
          16499,
          16749,
          16999,
          17249,
          17499,
          17749,
          17999,
          18249,
          18499,
          18749,
          18999,
          19249,
          19499,
          19749,
          19999
         ],
         "y": [
          -0.688,
          0.118,
          0.344,
          0.692,
          0.716,
          0.768,
          0.756,
          0.784,
          0.796,
          0.732,
          0.816,
          0.802,
          0.778,
          0.792,
          0.852,
          0.844,
          0.858,
          0.814,
          0.804,
          0.884,
          0.816,
          0.854,
          0.87,
          0.884,
          0.87,
          0.902,
          0.884,
          0.894,
          0.86,
          0.886,
          0.936,
          0.91,
          0.89,
          0.892,
          0.906,
          0.886,
          0.904,
          0.88,
          0.896,
          0.918,
          0.914,
          0.902,
          0.902,
          0.924,
          0.908,
          0.896,
          0.894,
          0.914,
          0.886,
          0.916,
          0.904,
          0.892,
          0.88,
          0.882,
          0.904,
          0.882,
          0.922,
          0.914,
          0.918,
          0.91,
          0.89,
          0.884,
          0.906,
          0.92,
          0.922,
          0.932,
          0.932,
          0.926,
          0.906,
          0.93,
          0.936,
          0.91,
          0.888,
          0.93,
          0.906,
          0.916,
          0.902,
          0.916,
          0.926,
          0.902
         ],
         "type": "scatter"
        },
        {
         "mode": "lines",
         "name": "$\\epsilon_{opt} = 1.00$",
         "x": [
          249,
          499,
          749,
          999,
          1249,
          1499,
          1749,
          1999,
          2249,
          2499,
          2749,
          2999,
          3249,
          3499,
          3749,
          3999,
          4249,
          4499,
          4749,
          4999,
          5249,
          5499,
          5749,
          5999,
          6249,
          6499,
          6749,
          6999,
          7249,
          7499,
          7749,
          7999,
          8249,
          8499,
          8749,
          8999,
          9249,
          9499,
          9749,
          9999,
          10249,
          10499,
          10749,
          10999,
          11249,
          11499,
          11749,
          11999,
          12249,
          12499,
          12749,
          12999,
          13249,
          13499,
          13749,
          13999,
          14249,
          14499,
          14749,
          14999,
          15249,
          15499,
          15749,
          15999,
          16249,
          16499,
          16749,
          16999,
          17249,
          17499,
          17749,
          17999,
          18249,
          18499,
          18749,
          18999,
          19249,
          19499,
          19749,
          19999
         ],
         "y": [
          -0.588,
          -0.46,
          -0.22,
          -0.092,
          -0.256,
          -0.34,
          -0.456,
          -0.484,
          -0.676,
          -0.808,
          -0.636,
          -0.604,
          -0.692,
          -0.764,
          -0.656,
          -0.688,
          -0.88,
          -0.896,
          -0.996,
          -0.964,
          -0.976,
          -0.972,
          -0.944,
          -0.936,
          -0.984,
          -0.972,
          -0.964,
          -0.98,
          -0.96,
          -0.96,
          -1.0,
          -1.0,
          -1.0,
          -1.0,
          -1.0,
          -1.0,
          -1.0,
          -0.992,
          -1.0,
          -1.0,
          -1.0,
          -0.992,
          -0.968,
          -0.968,
          -1.0,
          -1.0,
          -1.0,
          -1.0,
          -1.0,
          -1.0,
          -1.0,
          -1.0,
          -0.996,
          -0.984,
          -1.0,
          -0.996,
          -0.988,
          -0.972,
          -0.972,
          -0.992,
          -0.98,
          -0.992,
          -0.976,
          -0.96,
          -0.972,
          -0.964,
          -1.0,
          -0.996,
          -0.996,
          -1.0,
          -0.988,
          -0.988,
          -0.944,
          -0.988,
          -1.0,
          -0.984,
          -0.972,
          -0.98,
          -0.984,
          -0.996
         ],
         "type": "scatter"
        }
       ],
       "layout": {
        "template": {
         "data": {
          "histogram2dcontour": [
           {
            "type": "histogram2dcontour",
            "colorbar": {
             "outlinewidth": 0,
             "ticks": ""
            },
            "colorscale": [
             [
              0.0,
              "#0d0887"
             ],
             [
              0.1111111111111111,
              "#46039f"
             ],
             [
              0.2222222222222222,
              "#7201a8"
             ],
             [
              0.3333333333333333,
              "#9c179e"
             ],
             [
              0.4444444444444444,
              "#bd3786"
             ],
             [
              0.5555555555555556,
              "#d8576b"
             ],
             [
              0.6666666666666666,
              "#ed7953"
             ],
             [
              0.7777777777777778,
              "#fb9f3a"
             ],
             [
              0.8888888888888888,
              "#fdca26"
             ],
             [
              1.0,
              "#f0f921"
             ]
            ]
           }
          ],
          "choropleth": [
           {
            "type": "choropleth",
            "colorbar": {
             "outlinewidth": 0,
             "ticks": ""
            }
           }
          ],
          "histogram2d": [
           {
            "type": "histogram2d",
            "colorbar": {
             "outlinewidth": 0,
             "ticks": ""
            },
            "colorscale": [
             [
              0.0,
              "#0d0887"
             ],
             [
              0.1111111111111111,
              "#46039f"
             ],
             [
              0.2222222222222222,
              "#7201a8"
             ],
             [
              0.3333333333333333,
              "#9c179e"
             ],
             [
              0.4444444444444444,
              "#bd3786"
             ],
             [
              0.5555555555555556,
              "#d8576b"
             ],
             [
              0.6666666666666666,
              "#ed7953"
             ],
             [
              0.7777777777777778,
              "#fb9f3a"
             ],
             [
              0.8888888888888888,
              "#fdca26"
             ],
             [
              1.0,
              "#f0f921"
             ]
            ]
           }
          ],
          "heatmap": [
           {
            "type": "heatmap",
            "colorbar": {
             "outlinewidth": 0,
             "ticks": ""
            },
            "colorscale": [
             [
              0.0,
              "#0d0887"
             ],
             [
              0.1111111111111111,
              "#46039f"
             ],
             [
              0.2222222222222222,
              "#7201a8"
             ],
             [
              0.3333333333333333,
              "#9c179e"
             ],
             [
              0.4444444444444444,
              "#bd3786"
             ],
             [
              0.5555555555555556,
              "#d8576b"
             ],
             [
              0.6666666666666666,
              "#ed7953"
             ],
             [
              0.7777777777777778,
              "#fb9f3a"
             ],
             [
              0.8888888888888888,
              "#fdca26"
             ],
             [
              1.0,
              "#f0f921"
             ]
            ]
           }
          ],
          "heatmapgl": [
           {
            "type": "heatmapgl",
            "colorbar": {
             "outlinewidth": 0,
             "ticks": ""
            },
            "colorscale": [
             [
              0.0,
              "#0d0887"
             ],
             [
              0.1111111111111111,
              "#46039f"
             ],
             [
              0.2222222222222222,
              "#7201a8"
             ],
             [
              0.3333333333333333,
              "#9c179e"
             ],
             [
              0.4444444444444444,
              "#bd3786"
             ],
             [
              0.5555555555555556,
              "#d8576b"
             ],
             [
              0.6666666666666666,
              "#ed7953"
             ],
             [
              0.7777777777777778,
              "#fb9f3a"
             ],
             [
              0.8888888888888888,
              "#fdca26"
             ],
             [
              1.0,
              "#f0f921"
             ]
            ]
           }
          ],
          "contourcarpet": [
           {
            "type": "contourcarpet",
            "colorbar": {
             "outlinewidth": 0,
             "ticks": ""
            }
           }
          ],
          "contour": [
           {
            "type": "contour",
            "colorbar": {
             "outlinewidth": 0,
             "ticks": ""
            },
            "colorscale": [
             [
              0.0,
              "#0d0887"
             ],
             [
              0.1111111111111111,
              "#46039f"
             ],
             [
              0.2222222222222222,
              "#7201a8"
             ],
             [
              0.3333333333333333,
              "#9c179e"
             ],
             [
              0.4444444444444444,
              "#bd3786"
             ],
             [
              0.5555555555555556,
              "#d8576b"
             ],
             [
              0.6666666666666666,
              "#ed7953"
             ],
             [
              0.7777777777777778,
              "#fb9f3a"
             ],
             [
              0.8888888888888888,
              "#fdca26"
             ],
             [
              1.0,
              "#f0f921"
             ]
            ]
           }
          ],
          "surface": [
           {
            "type": "surface",
            "colorbar": {
             "outlinewidth": 0,
             "ticks": ""
            },
            "colorscale": [
             [
              0.0,
              "#0d0887"
             ],
             [
              0.1111111111111111,
              "#46039f"
             ],
             [
              0.2222222222222222,
              "#7201a8"
             ],
             [
              0.3333333333333333,
              "#9c179e"
             ],
             [
              0.4444444444444444,
              "#bd3786"
             ],
             [
              0.5555555555555556,
              "#d8576b"
             ],
             [
              0.6666666666666666,
              "#ed7953"
             ],
             [
              0.7777777777777778,
              "#fb9f3a"
             ],
             [
              0.8888888888888888,
              "#fdca26"
             ],
             [
              1.0,
              "#f0f921"
             ]
            ]
           }
          ],
          "mesh3d": [
           {
            "type": "mesh3d",
            "colorbar": {
             "outlinewidth": 0,
             "ticks": ""
            }
           }
          ],
          "scatter": [
           {
            "fillpattern": {
             "fillmode": "overlay",
             "size": 10,
             "solidity": 0.2
            },
            "type": "scatter"
           }
          ],
          "parcoords": [
           {
            "type": "parcoords",
            "line": {
             "colorbar": {
              "outlinewidth": 0,
              "ticks": ""
             }
            }
           }
          ],
          "scatterpolargl": [
           {
            "type": "scatterpolargl",
            "marker": {
             "colorbar": {
              "outlinewidth": 0,
              "ticks": ""
             }
            }
           }
          ],
          "bar": [
           {
            "error_x": {
             "color": "#2a3f5f"
            },
            "error_y": {
             "color": "#2a3f5f"
            },
            "marker": {
             "line": {
              "color": "#E5ECF6",
              "width": 0.5
             },
             "pattern": {
              "fillmode": "overlay",
              "size": 10,
              "solidity": 0.2
             }
            },
            "type": "bar"
           }
          ],
          "scattergeo": [
           {
            "type": "scattergeo",
            "marker": {
             "colorbar": {
              "outlinewidth": 0,
              "ticks": ""
             }
            }
           }
          ],
          "scatterpolar": [
           {
            "type": "scatterpolar",
            "marker": {
             "colorbar": {
              "outlinewidth": 0,
              "ticks": ""
             }
            }
           }
          ],
          "histogram": [
           {
            "marker": {
             "pattern": {
              "fillmode": "overlay",
              "size": 10,
              "solidity": 0.2
             }
            },
            "type": "histogram"
           }
          ],
          "scattergl": [
           {
            "type": "scattergl",
            "marker": {
             "colorbar": {
              "outlinewidth": 0,
              "ticks": ""
             }
            }
           }
          ],
          "scatter3d": [
           {
            "type": "scatter3d",
            "line": {
             "colorbar": {
              "outlinewidth": 0,
              "ticks": ""
             }
            },
            "marker": {
             "colorbar": {
              "outlinewidth": 0,
              "ticks": ""
             }
            }
           }
          ],
          "scattermapbox": [
           {
            "type": "scattermapbox",
            "marker": {
             "colorbar": {
              "outlinewidth": 0,
              "ticks": ""
             }
            }
           }
          ],
          "scatterternary": [
           {
            "type": "scatterternary",
            "marker": {
             "colorbar": {
              "outlinewidth": 0,
              "ticks": ""
             }
            }
           }
          ],
          "scattercarpet": [
           {
            "type": "scattercarpet",
            "marker": {
             "colorbar": {
              "outlinewidth": 0,
              "ticks": ""
             }
            }
           }
          ],
          "carpet": [
           {
            "aaxis": {
             "endlinecolor": "#2a3f5f",
             "gridcolor": "white",
             "linecolor": "white",
             "minorgridcolor": "white",
             "startlinecolor": "#2a3f5f"
            },
            "baxis": {
             "endlinecolor": "#2a3f5f",
             "gridcolor": "white",
             "linecolor": "white",
             "minorgridcolor": "white",
             "startlinecolor": "#2a3f5f"
            },
            "type": "carpet"
           }
          ],
          "table": [
           {
            "cells": {
             "fill": {
              "color": "#EBF0F8"
             },
             "line": {
              "color": "white"
             }
            },
            "header": {
             "fill": {
              "color": "#C8D4E3"
             },
             "line": {
              "color": "white"
             }
            },
            "type": "table"
           }
          ],
          "barpolar": [
           {
            "marker": {
             "line": {
              "color": "#E5ECF6",
              "width": 0.5
             },
             "pattern": {
              "fillmode": "overlay",
              "size": 10,
              "solidity": 0.2
             }
            },
            "type": "barpolar"
           }
          ],
          "pie": [
           {
            "automargin": true,
            "type": "pie"
           }
          ]
         },
         "layout": {
          "autotypenumbers": "strict",
          "colorway": [
           "#636efa",
           "#EF553B",
           "#00cc96",
           "#ab63fa",
           "#FFA15A",
           "#19d3f3",
           "#FF6692",
           "#B6E880",
           "#FF97FF",
           "#FECB52"
          ],
          "font": {
           "color": "#2a3f5f"
          },
          "hovermode": "closest",
          "hoverlabel": {
           "align": "left"
          },
          "paper_bgcolor": "white",
          "plot_bgcolor": "#E5ECF6",
          "polar": {
           "bgcolor": "#E5ECF6",
           "angularaxis": {
            "gridcolor": "white",
            "linecolor": "white",
            "ticks": ""
           },
           "radialaxis": {
            "gridcolor": "white",
            "linecolor": "white",
            "ticks": ""
           }
          },
          "ternary": {
           "bgcolor": "#E5ECF6",
           "aaxis": {
            "gridcolor": "white",
            "linecolor": "white",
            "ticks": ""
           },
           "baxis": {
            "gridcolor": "white",
            "linecolor": "white",
            "ticks": ""
           },
           "caxis": {
            "gridcolor": "white",
            "linecolor": "white",
            "ticks": ""
           }
          },
          "coloraxis": {
           "colorbar": {
            "outlinewidth": 0,
            "ticks": ""
           }
          },
          "colorscale": {
           "sequential": [
            [
             0.0,
             "#0d0887"
            ],
            [
             0.1111111111111111,
             "#46039f"
            ],
            [
             0.2222222222222222,
             "#7201a8"
            ],
            [
             0.3333333333333333,
             "#9c179e"
            ],
            [
             0.4444444444444444,
             "#bd3786"
            ],
            [
             0.5555555555555556,
             "#d8576b"
            ],
            [
             0.6666666666666666,
             "#ed7953"
            ],
            [
             0.7777777777777778,
             "#fb9f3a"
            ],
            [
             0.8888888888888888,
             "#fdca26"
            ],
            [
             1.0,
             "#f0f921"
            ]
           ],
           "sequentialminus": [
            [
             0.0,
             "#0d0887"
            ],
            [
             0.1111111111111111,
             "#46039f"
            ],
            [
             0.2222222222222222,
             "#7201a8"
            ],
            [
             0.3333333333333333,
             "#9c179e"
            ],
            [
             0.4444444444444444,
             "#bd3786"
            ],
            [
             0.5555555555555556,
             "#d8576b"
            ],
            [
             0.6666666666666666,
             "#ed7953"
            ],
            [
             0.7777777777777778,
             "#fb9f3a"
            ],
            [
             0.8888888888888888,
             "#fdca26"
            ],
            [
             1.0,
             "#f0f921"
            ]
           ],
           "diverging": [
            [
             0,
             "#8e0152"
            ],
            [
             0.1,
             "#c51b7d"
            ],
            [
             0.2,
             "#de77ae"
            ],
            [
             0.3,
             "#f1b6da"
            ],
            [
             0.4,
             "#fde0ef"
            ],
            [
             0.5,
             "#f7f7f7"
            ],
            [
             0.6,
             "#e6f5d0"
            ],
            [
             0.7,
             "#b8e186"
            ],
            [
             0.8,
             "#7fbc41"
            ],
            [
             0.9,
             "#4d9221"
            ],
            [
             1,
             "#276419"
            ]
           ]
          },
          "xaxis": {
           "gridcolor": "white",
           "linecolor": "white",
           "ticks": "",
           "title": {
            "standoff": 15
           },
           "zerolinecolor": "white",
           "automargin": true,
           "zerolinewidth": 2
          },
          "yaxis": {
           "gridcolor": "white",
           "linecolor": "white",
           "ticks": "",
           "title": {
            "standoff": 15
           },
           "zerolinecolor": "white",
           "automargin": true,
           "zerolinewidth": 2
          },
          "scene": {
           "xaxis": {
            "backgroundcolor": "#E5ECF6",
            "gridcolor": "white",
            "linecolor": "white",
            "showbackground": true,
            "ticks": "",
            "zerolinecolor": "white",
            "gridwidth": 2
           },
           "yaxis": {
            "backgroundcolor": "#E5ECF6",
            "gridcolor": "white",
            "linecolor": "white",
            "showbackground": true,
            "ticks": "",
            "zerolinecolor": "white",
            "gridwidth": 2
           },
           "zaxis": {
            "backgroundcolor": "#E5ECF6",
            "gridcolor": "white",
            "linecolor": "white",
            "showbackground": true,
            "ticks": "",
            "zerolinecolor": "white",
            "gridwidth": 2
           }
          },
          "shapedefaults": {
           "line": {
            "color": "#2a3f5f"
           }
          },
          "annotationdefaults": {
           "arrowcolor": "#2a3f5f",
           "arrowhead": 0,
           "arrowwidth": 1
          },
          "geo": {
           "bgcolor": "white",
           "landcolor": "#E5ECF6",
           "subunitcolor": "white",
           "showland": true,
           "showlakes": true,
           "lakecolor": "white"
          },
          "title": {
           "x": 0.05
          },
          "mapbox": {
           "style": "light"
          }
         }
        },
        "title": {
         "text": "$M_{rand}\\text{ for every 250 games for different values of }\\epsilon_{opt}$"
        },
        "xaxis": {
         "title": {
          "text": "$game$"
         }
        },
        "yaxis": {
         "title": {
          "text": "$M_{rand}$"
         }
        },
        "width": 1200,
        "height": 400
       },
       "config": {
        "plotlyServerURL": "https://plot.ly"
       }
      },
      "text/html": "<div>                            <div id=\"bda0f2ce-7621-4d58-916c-9f847158be23\" class=\"plotly-graph-div\" style=\"height:400px; width:1200px;\"></div>            <script type=\"text/javascript\">                require([\"plotly\"], function(Plotly) {                    window.PLOTLYENV=window.PLOTLYENV || {};                                    if (document.getElementById(\"bda0f2ce-7621-4d58-916c-9f847158be23\")) {                    Plotly.newPlot(                        \"bda0f2ce-7621-4d58-916c-9f847158be23\",                        [{\"mode\":\"lines\",\"name\":\"$\\\\epsilon_{opt} = 0.00$\",\"x\":[249,499,749,999,1249,1499,1749,1999,2249,2499,2749,2999,3249,3499,3749,3999,4249,4499,4749,4999,5249,5499,5749,5999,6249,6499,6749,6999,7249,7499,7749,7999,8249,8499,8749,8999,9249,9499,9749,9999,10249,10499,10749,10999,11249,11499,11749,11999,12249,12499,12749,12999,13249,13499,13749,13999,14249,14499,14749,14999,15249,15499,15749,15999,16249,16499,16749,16999,17249,17499,17749,17999,18249,18499,18749,18999,19249,19499,19749,19999],\"y\":[-0.864,-0.364,-0.384,-0.614,-0.152,-0.044,-0.288,-0.108,-0.076,-0.196,-0.072,-0.08,-0.632,-0.676,-0.616,-0.606,-0.996,-1.0,-0.28,-0.1,-0.052,0.028,0.24,0.188,-0.044,-0.192,0.036,0.116,-0.028,0.06,0.06,0.128,-0.024,-0.004,0.388,0.412,0.356,0.308,0.436,0.372,0.452,0.38,0.424,0.356,0.332,0.364,0.332,0.408,0.376,0.38,0.352,0.356,0.388,0.412,0.34,0.356,0.336,0.364,0.368,0.348,0.384,0.404,0.344,0.368,0.36,0.38,0.368,0.332,0.392,0.4,0.408,0.424,0.44,0.36,0.424,0.484,0.348,0.384,0.32,0.412],\"type\":\"scatter\"},{\"mode\":\"lines\",\"name\":\"$\\\\epsilon_{opt} = 0.10$\",\"x\":[249,499,749,999,1249,1499,1749,1999,2249,2499,2749,2999,3249,3499,3749,3999,4249,4499,4749,4999,5249,5499,5749,5999,6249,6499,6749,6999,7249,7499,7749,7999,8249,8499,8749,8999,9249,9499,9749,9999,10249,10499,10749,10999,11249,11499,11749,11999,12249,12499,12749,12999,13249,13499,13749,13999,14249,14499,14749,14999,15249,15499,15749,15999,16249,16499,16749,16999,17249,17499,17749,17999,18249,18499,18749,18999,19249,19499,19749,19999],\"y\":[-0.76,-0.322,0.0,0.078,0.366,0.414,0.442,0.528,0.444,0.538,0.634,0.742,0.68,0.734,0.76,0.702,0.756,0.802,0.79,0.786,0.826,0.812,0.774,0.816,0.844,0.866,0.842,0.854,0.8,0.84,0.794,0.836,0.788,0.81,0.866,0.842,0.852,0.84,0.842,0.854,0.88,0.834,0.864,0.838,0.932,0.894,0.882,0.906,0.844,0.834,0.876,0.854,0.906,0.888,0.866,0.872,0.884,0.904,0.842,0.904,0.892,0.892,0.894,0.894,0.886,0.906,0.936,0.888,0.926,0.888,0.922,0.926,0.914,0.886,0.9,0.92,0.902,0.918,0.912,0.914],\"type\":\"scatter\"},{\"mode\":\"lines\",\"name\":\"$\\\\epsilon_{opt} = 0.20$\",\"x\":[249,499,749,999,1249,1499,1749,1999,2249,2499,2749,2999,3249,3499,3749,3999,4249,4499,4749,4999,5249,5499,5749,5999,6249,6499,6749,6999,7249,7499,7749,7999,8249,8499,8749,8999,9249,9499,9749,9999,10249,10499,10749,10999,11249,11499,11749,11999,12249,12499,12749,12999,13249,13499,13749,13999,14249,14499,14749,14999,15249,15499,15749,15999,16249,16499,16749,16999,17249,17499,17749,17999,18249,18499,18749,18999,19249,19499,19749,19999],\"y\":[-0.66,0.078,0.468,0.272,0.696,0.67,0.804,0.776,0.7,0.73,0.82,0.798,0.824,0.852,0.812,0.822,0.834,0.876,0.832,0.882,0.828,0.86,0.882,0.922,0.826,0.836,0.822,0.836,0.882,0.862,0.834,0.89,0.804,0.808,0.842,0.844,0.854,0.856,0.828,0.86,0.878,0.896,0.858,0.9,0.918,0.928,0.894,0.886,0.9,0.95,0.902,0.928,0.932,0.948,0.91,0.912,0.92,0.922,0.922,0.938,0.916,0.908,0.92,0.932,0.938,0.924,0.92,0.926,0.91,0.922,0.942,0.95,0.926,0.934,0.926,0.924,0.918,0.924,0.854,0.936],\"type\":\"scatter\"},{\"mode\":\"lines\",\"name\":\"$\\\\epsilon_{opt} = 0.30$\",\"x\":[249,499,749,999,1249,1499,1749,1999,2249,2499,2749,2999,3249,3499,3749,3999,4249,4499,4749,4999,5249,5499,5749,5999,6249,6499,6749,6999,7249,7499,7749,7999,8249,8499,8749,8999,9249,9499,9749,9999,10249,10499,10749,10999,11249,11499,11749,11999,12249,12499,12749,12999,13249,13499,13749,13999,14249,14499,14749,14999,15249,15499,15749,15999,16249,16499,16749,16999,17249,17499,17749,17999,18249,18499,18749,18999,19249,19499,19749,19999],\"y\":[0.09,0.234,0.574,0.73,0.746,0.77,0.81,0.778,0.82,0.822,0.846,0.79,0.838,0.832,0.786,0.812,0.86,0.85,0.858,0.852,0.862,0.86,0.892,0.908,0.934,0.908,0.92,0.9,0.886,0.914,0.944,0.926,0.942,0.93,0.948,0.944,0.908,0.91,0.928,0.95,0.936,0.934,0.914,0.914,0.924,0.946,0.948,0.926,0.936,0.918,0.926,0.926,0.942,0.942,0.946,0.94,0.958,0.964,0.952,0.932,0.942,0.944,0.942,0.944,0.94,0.946,0.94,0.94,0.95,0.928,0.948,0.948,0.948,0.948,0.932,0.954,0.962,0.938,0.958,0.938],\"type\":\"scatter\"},{\"mode\":\"lines\",\"name\":\"$\\\\epsilon_{opt} = 0.40$\",\"x\":[249,499,749,999,1249,1499,1749,1999,2249,2499,2749,2999,3249,3499,3749,3999,4249,4499,4749,4999,5249,5499,5749,5999,6249,6499,6749,6999,7249,7499,7749,7999,8249,8499,8749,8999,9249,9499,9749,9999,10249,10499,10749,10999,11249,11499,11749,11999,12249,12499,12749,12999,13249,13499,13749,13999,14249,14499,14749,14999,15249,15499,15749,15999,16249,16499,16749,16999,17249,17499,17749,17999,18249,18499,18749,18999,19249,19499,19749,19999],\"y\":[-0.814,0.17,0.406,0.588,0.7,0.594,0.684,0.786,0.814,0.844,0.814,0.858,0.888,0.84,0.93,0.836,0.896,0.882,0.91,0.884,0.898,0.874,0.908,0.914,0.914,0.902,0.934,0.926,0.88,0.862,0.9,0.898,0.896,0.94,0.94,0.93,0.914,0.888,0.932,0.94,0.942,0.922,0.934,0.942,0.914,0.934,0.944,0.906,0.942,0.934,0.94,0.938,0.918,0.948,0.952,0.924,0.956,0.942,0.948,0.946,0.932,0.95,0.932,0.966,0.956,0.926,0.94,0.95,0.9,0.936,0.922,0.922,0.926,0.928,0.942,0.928,0.96,0.924,0.954,0.952],\"type\":\"scatter\"},{\"mode\":\"lines\",\"name\":\"$\\\\epsilon_{opt} = 0.50$\",\"x\":[249,499,749,999,1249,1499,1749,1999,2249,2499,2749,2999,3249,3499,3749,3999,4249,4499,4749,4999,5249,5499,5749,5999,6249,6499,6749,6999,7249,7499,7749,7999,8249,8499,8749,8999,9249,9499,9749,9999,10249,10499,10749,10999,11249,11499,11749,11999,12249,12499,12749,12999,13249,13499,13749,13999,14249,14499,14749,14999,15249,15499,15749,15999,16249,16499,16749,16999,17249,17499,17749,17999,18249,18499,18749,18999,19249,19499,19749,19999],\"y\":[-0.126,0.422,0.536,0.552,0.708,0.794,0.816,0.834,0.884,0.832,0.888,0.926,0.89,0.916,0.928,0.888,0.922,0.926,0.912,0.928,0.94,0.948,0.904,0.93,0.928,0.946,0.934,0.942,0.934,0.954,0.932,0.954,0.93,0.95,0.95,0.938,0.974,0.928,0.948,0.942,0.93,0.936,0.91,0.93,0.916,0.922,0.916,0.93,0.948,0.946,0.962,0.932,0.96,0.952,0.944,0.942,0.958,0.94,0.934,0.93,0.952,0.946,0.946,0.92,0.952,0.962,0.938,0.932,0.938,0.934,0.934,0.944,0.934,0.95,0.944,0.926,0.95,0.94,0.932,0.952],\"type\":\"scatter\"},{\"mode\":\"lines\",\"name\":\"$\\\\epsilon_{opt} = 0.60$\",\"x\":[249,499,749,999,1249,1499,1749,1999,2249,2499,2749,2999,3249,3499,3749,3999,4249,4499,4749,4999,5249,5499,5749,5999,6249,6499,6749,6999,7249,7499,7749,7999,8249,8499,8749,8999,9249,9499,9749,9999,10249,10499,10749,10999,11249,11499,11749,11999,12249,12499,12749,12999,13249,13499,13749,13999,14249,14499,14749,14999,15249,15499,15749,15999,16249,16499,16749,16999,17249,17499,17749,17999,18249,18499,18749,18999,19249,19499,19749,19999],\"y\":[0.042,0.222,0.688,0.688,0.762,0.716,0.77,0.802,0.8,0.874,0.838,0.856,0.84,0.916,0.85,0.874,0.884,0.87,0.894,0.94,0.9,0.91,0.91,0.914,0.902,0.904,0.894,0.914,0.948,0.926,0.934,0.896,0.942,0.926,0.936,0.962,0.914,0.926,0.95,0.936,0.94,0.926,0.958,0.96,0.946,0.964,0.952,0.948,0.932,0.936,0.936,0.934,0.956,0.938,0.944,0.944,0.928,0.932,0.952,0.954,0.932,0.974,0.958,0.944,0.948,0.94,0.946,0.966,0.96,0.908,0.952,0.922,0.92,0.944,0.956,0.946,0.948,0.94,0.942,0.932],\"type\":\"scatter\"},{\"mode\":\"lines\",\"name\":\"$\\\\epsilon_{opt} = 0.70$\",\"x\":[249,499,749,999,1249,1499,1749,1999,2249,2499,2749,2999,3249,3499,3749,3999,4249,4499,4749,4999,5249,5499,5749,5999,6249,6499,6749,6999,7249,7499,7749,7999,8249,8499,8749,8999,9249,9499,9749,9999,10249,10499,10749,10999,11249,11499,11749,11999,12249,12499,12749,12999,13249,13499,13749,13999,14249,14499,14749,14999,15249,15499,15749,15999,16249,16499,16749,16999,17249,17499,17749,17999,18249,18499,18749,18999,19249,19499,19749,19999],\"y\":[-0.04,0.316,0.35,0.732,0.718,0.732,0.774,0.754,0.814,0.83,0.9,0.926,0.932,0.878,0.924,0.926,0.926,0.886,0.902,0.928,0.928,0.938,0.93,0.92,0.904,0.944,0.89,0.918,0.936,0.94,0.938,0.902,0.918,0.874,0.918,0.944,0.932,0.94,0.928,0.906,0.902,0.89,0.942,0.932,0.92,0.94,0.944,0.944,0.936,0.91,0.926,0.92,0.932,0.95,0.952,0.934,0.956,0.934,0.938,0.93,0.934,0.924,0.936,0.924,0.93,0.944,0.932,0.954,0.94,0.936,0.926,0.932,0.93,0.914,0.916,0.954,0.944,0.948,0.936,0.926],\"type\":\"scatter\"},{\"mode\":\"lines\",\"name\":\"$\\\\epsilon_{opt} = 0.80$\",\"x\":[249,499,749,999,1249,1499,1749,1999,2249,2499,2749,2999,3249,3499,3749,3999,4249,4499,4749,4999,5249,5499,5749,5999,6249,6499,6749,6999,7249,7499,7749,7999,8249,8499,8749,8999,9249,9499,9749,9999,10249,10499,10749,10999,11249,11499,11749,11999,12249,12499,12749,12999,13249,13499,13749,13999,14249,14499,14749,14999,15249,15499,15749,15999,16249,16499,16749,16999,17249,17499,17749,17999,18249,18499,18749,18999,19249,19499,19749,19999],\"y\":[0.22,0.256,0.572,0.612,0.788,0.722,0.77,0.734,0.78,0.846,0.836,0.868,0.858,0.878,0.88,0.864,0.864,0.916,0.898,0.868,0.858,0.87,0.912,0.856,0.878,0.942,0.914,0.898,0.908,0.916,0.938,0.908,0.956,0.948,0.894,0.914,0.936,0.94,0.89,0.902,0.91,0.944,0.942,0.962,0.924,0.942,0.95,0.96,0.94,0.94,0.928,0.958,0.938,0.942,0.946,0.942,0.948,0.968,0.92,0.904,0.944,0.928,0.944,0.944,0.93,0.952,0.94,0.928,0.92,0.91,0.932,0.932,0.92,0.942,0.936,0.94,0.93,0.934,0.946,0.936],\"type\":\"scatter\"},{\"mode\":\"lines\",\"name\":\"$\\\\epsilon_{opt} = 0.90$\",\"x\":[249,499,749,999,1249,1499,1749,1999,2249,2499,2749,2999,3249,3499,3749,3999,4249,4499,4749,4999,5249,5499,5749,5999,6249,6499,6749,6999,7249,7499,7749,7999,8249,8499,8749,8999,9249,9499,9749,9999,10249,10499,10749,10999,11249,11499,11749,11999,12249,12499,12749,12999,13249,13499,13749,13999,14249,14499,14749,14999,15249,15499,15749,15999,16249,16499,16749,16999,17249,17499,17749,17999,18249,18499,18749,18999,19249,19499,19749,19999],\"y\":[-0.688,0.118,0.344,0.692,0.716,0.768,0.756,0.784,0.796,0.732,0.816,0.802,0.778,0.792,0.852,0.844,0.858,0.814,0.804,0.884,0.816,0.854,0.87,0.884,0.87,0.902,0.884,0.894,0.86,0.886,0.936,0.91,0.89,0.892,0.906,0.886,0.904,0.88,0.896,0.918,0.914,0.902,0.902,0.924,0.908,0.896,0.894,0.914,0.886,0.916,0.904,0.892,0.88,0.882,0.904,0.882,0.922,0.914,0.918,0.91,0.89,0.884,0.906,0.92,0.922,0.932,0.932,0.926,0.906,0.93,0.936,0.91,0.888,0.93,0.906,0.916,0.902,0.916,0.926,0.902],\"type\":\"scatter\"},{\"mode\":\"lines\",\"name\":\"$\\\\epsilon_{opt} = 1.00$\",\"x\":[249,499,749,999,1249,1499,1749,1999,2249,2499,2749,2999,3249,3499,3749,3999,4249,4499,4749,4999,5249,5499,5749,5999,6249,6499,6749,6999,7249,7499,7749,7999,8249,8499,8749,8999,9249,9499,9749,9999,10249,10499,10749,10999,11249,11499,11749,11999,12249,12499,12749,12999,13249,13499,13749,13999,14249,14499,14749,14999,15249,15499,15749,15999,16249,16499,16749,16999,17249,17499,17749,17999,18249,18499,18749,18999,19249,19499,19749,19999],\"y\":[-0.588,-0.46,-0.22,-0.092,-0.256,-0.34,-0.456,-0.484,-0.676,-0.808,-0.636,-0.604,-0.692,-0.764,-0.656,-0.688,-0.88,-0.896,-0.996,-0.964,-0.976,-0.972,-0.944,-0.936,-0.984,-0.972,-0.964,-0.98,-0.96,-0.96,-1.0,-1.0,-1.0,-1.0,-1.0,-1.0,-1.0,-0.992,-1.0,-1.0,-1.0,-0.992,-0.968,-0.968,-1.0,-1.0,-1.0,-1.0,-1.0,-1.0,-1.0,-1.0,-0.996,-0.984,-1.0,-0.996,-0.988,-0.972,-0.972,-0.992,-0.98,-0.992,-0.976,-0.96,-0.972,-0.964,-1.0,-0.996,-0.996,-1.0,-0.988,-0.988,-0.944,-0.988,-1.0,-0.984,-0.972,-0.98,-0.984,-0.996],\"type\":\"scatter\"}],                        {\"template\":{\"data\":{\"histogram2dcontour\":[{\"type\":\"histogram2dcontour\",\"colorbar\":{\"outlinewidth\":0,\"ticks\":\"\"},\"colorscale\":[[0.0,\"#0d0887\"],[0.1111111111111111,\"#46039f\"],[0.2222222222222222,\"#7201a8\"],[0.3333333333333333,\"#9c179e\"],[0.4444444444444444,\"#bd3786\"],[0.5555555555555556,\"#d8576b\"],[0.6666666666666666,\"#ed7953\"],[0.7777777777777778,\"#fb9f3a\"],[0.8888888888888888,\"#fdca26\"],[1.0,\"#f0f921\"]]}],\"choropleth\":[{\"type\":\"choropleth\",\"colorbar\":{\"outlinewidth\":0,\"ticks\":\"\"}}],\"histogram2d\":[{\"type\":\"histogram2d\",\"colorbar\":{\"outlinewidth\":0,\"ticks\":\"\"},\"colorscale\":[[0.0,\"#0d0887\"],[0.1111111111111111,\"#46039f\"],[0.2222222222222222,\"#7201a8\"],[0.3333333333333333,\"#9c179e\"],[0.4444444444444444,\"#bd3786\"],[0.5555555555555556,\"#d8576b\"],[0.6666666666666666,\"#ed7953\"],[0.7777777777777778,\"#fb9f3a\"],[0.8888888888888888,\"#fdca26\"],[1.0,\"#f0f921\"]]}],\"heatmap\":[{\"type\":\"heatmap\",\"colorbar\":{\"outlinewidth\":0,\"ticks\":\"\"},\"colorscale\":[[0.0,\"#0d0887\"],[0.1111111111111111,\"#46039f\"],[0.2222222222222222,\"#7201a8\"],[0.3333333333333333,\"#9c179e\"],[0.4444444444444444,\"#bd3786\"],[0.5555555555555556,\"#d8576b\"],[0.6666666666666666,\"#ed7953\"],[0.7777777777777778,\"#fb9f3a\"],[0.8888888888888888,\"#fdca26\"],[1.0,\"#f0f921\"]]}],\"heatmapgl\":[{\"type\":\"heatmapgl\",\"colorbar\":{\"outlinewidth\":0,\"ticks\":\"\"},\"colorscale\":[[0.0,\"#0d0887\"],[0.1111111111111111,\"#46039f\"],[0.2222222222222222,\"#7201a8\"],[0.3333333333333333,\"#9c179e\"],[0.4444444444444444,\"#bd3786\"],[0.5555555555555556,\"#d8576b\"],[0.6666666666666666,\"#ed7953\"],[0.7777777777777778,\"#fb9f3a\"],[0.8888888888888888,\"#fdca26\"],[1.0,\"#f0f921\"]]}],\"contourcarpet\":[{\"type\":\"contourcarpet\",\"colorbar\":{\"outlinewidth\":0,\"ticks\":\"\"}}],\"contour\":[{\"type\":\"contour\",\"colorbar\":{\"outlinewidth\":0,\"ticks\":\"\"},\"colorscale\":[[0.0,\"#0d0887\"],[0.1111111111111111,\"#46039f\"],[0.2222222222222222,\"#7201a8\"],[0.3333333333333333,\"#9c179e\"],[0.4444444444444444,\"#bd3786\"],[0.5555555555555556,\"#d8576b\"],[0.6666666666666666,\"#ed7953\"],[0.7777777777777778,\"#fb9f3a\"],[0.8888888888888888,\"#fdca26\"],[1.0,\"#f0f921\"]]}],\"surface\":[{\"type\":\"surface\",\"colorbar\":{\"outlinewidth\":0,\"ticks\":\"\"},\"colorscale\":[[0.0,\"#0d0887\"],[0.1111111111111111,\"#46039f\"],[0.2222222222222222,\"#7201a8\"],[0.3333333333333333,\"#9c179e\"],[0.4444444444444444,\"#bd3786\"],[0.5555555555555556,\"#d8576b\"],[0.6666666666666666,\"#ed7953\"],[0.7777777777777778,\"#fb9f3a\"],[0.8888888888888888,\"#fdca26\"],[1.0,\"#f0f921\"]]}],\"mesh3d\":[{\"type\":\"mesh3d\",\"colorbar\":{\"outlinewidth\":0,\"ticks\":\"\"}}],\"scatter\":[{\"fillpattern\":{\"fillmode\":\"overlay\",\"size\":10,\"solidity\":0.2},\"type\":\"scatter\"}],\"parcoords\":[{\"type\":\"parcoords\",\"line\":{\"colorbar\":{\"outlinewidth\":0,\"ticks\":\"\"}}}],\"scatterpolargl\":[{\"type\":\"scatterpolargl\",\"marker\":{\"colorbar\":{\"outlinewidth\":0,\"ticks\":\"\"}}}],\"bar\":[{\"error_x\":{\"color\":\"#2a3f5f\"},\"error_y\":{\"color\":\"#2a3f5f\"},\"marker\":{\"line\":{\"color\":\"#E5ECF6\",\"width\":0.5},\"pattern\":{\"fillmode\":\"overlay\",\"size\":10,\"solidity\":0.2}},\"type\":\"bar\"}],\"scattergeo\":[{\"type\":\"scattergeo\",\"marker\":{\"colorbar\":{\"outlinewidth\":0,\"ticks\":\"\"}}}],\"scatterpolar\":[{\"type\":\"scatterpolar\",\"marker\":{\"colorbar\":{\"outlinewidth\":0,\"ticks\":\"\"}}}],\"histogram\":[{\"marker\":{\"pattern\":{\"fillmode\":\"overlay\",\"size\":10,\"solidity\":0.2}},\"type\":\"histogram\"}],\"scattergl\":[{\"type\":\"scattergl\",\"marker\":{\"colorbar\":{\"outlinewidth\":0,\"ticks\":\"\"}}}],\"scatter3d\":[{\"type\":\"scatter3d\",\"line\":{\"colorbar\":{\"outlinewidth\":0,\"ticks\":\"\"}},\"marker\":{\"colorbar\":{\"outlinewidth\":0,\"ticks\":\"\"}}}],\"scattermapbox\":[{\"type\":\"scattermapbox\",\"marker\":{\"colorbar\":{\"outlinewidth\":0,\"ticks\":\"\"}}}],\"scatterternary\":[{\"type\":\"scatterternary\",\"marker\":{\"colorbar\":{\"outlinewidth\":0,\"ticks\":\"\"}}}],\"scattercarpet\":[{\"type\":\"scattercarpet\",\"marker\":{\"colorbar\":{\"outlinewidth\":0,\"ticks\":\"\"}}}],\"carpet\":[{\"aaxis\":{\"endlinecolor\":\"#2a3f5f\",\"gridcolor\":\"white\",\"linecolor\":\"white\",\"minorgridcolor\":\"white\",\"startlinecolor\":\"#2a3f5f\"},\"baxis\":{\"endlinecolor\":\"#2a3f5f\",\"gridcolor\":\"white\",\"linecolor\":\"white\",\"minorgridcolor\":\"white\",\"startlinecolor\":\"#2a3f5f\"},\"type\":\"carpet\"}],\"table\":[{\"cells\":{\"fill\":{\"color\":\"#EBF0F8\"},\"line\":{\"color\":\"white\"}},\"header\":{\"fill\":{\"color\":\"#C8D4E3\"},\"line\":{\"color\":\"white\"}},\"type\":\"table\"}],\"barpolar\":[{\"marker\":{\"line\":{\"color\":\"#E5ECF6\",\"width\":0.5},\"pattern\":{\"fillmode\":\"overlay\",\"size\":10,\"solidity\":0.2}},\"type\":\"barpolar\"}],\"pie\":[{\"automargin\":true,\"type\":\"pie\"}]},\"layout\":{\"autotypenumbers\":\"strict\",\"colorway\":[\"#636efa\",\"#EF553B\",\"#00cc96\",\"#ab63fa\",\"#FFA15A\",\"#19d3f3\",\"#FF6692\",\"#B6E880\",\"#FF97FF\",\"#FECB52\"],\"font\":{\"color\":\"#2a3f5f\"},\"hovermode\":\"closest\",\"hoverlabel\":{\"align\":\"left\"},\"paper_bgcolor\":\"white\",\"plot_bgcolor\":\"#E5ECF6\",\"polar\":{\"bgcolor\":\"#E5ECF6\",\"angularaxis\":{\"gridcolor\":\"white\",\"linecolor\":\"white\",\"ticks\":\"\"},\"radialaxis\":{\"gridcolor\":\"white\",\"linecolor\":\"white\",\"ticks\":\"\"}},\"ternary\":{\"bgcolor\":\"#E5ECF6\",\"aaxis\":{\"gridcolor\":\"white\",\"linecolor\":\"white\",\"ticks\":\"\"},\"baxis\":{\"gridcolor\":\"white\",\"linecolor\":\"white\",\"ticks\":\"\"},\"caxis\":{\"gridcolor\":\"white\",\"linecolor\":\"white\",\"ticks\":\"\"}},\"coloraxis\":{\"colorbar\":{\"outlinewidth\":0,\"ticks\":\"\"}},\"colorscale\":{\"sequential\":[[0.0,\"#0d0887\"],[0.1111111111111111,\"#46039f\"],[0.2222222222222222,\"#7201a8\"],[0.3333333333333333,\"#9c179e\"],[0.4444444444444444,\"#bd3786\"],[0.5555555555555556,\"#d8576b\"],[0.6666666666666666,\"#ed7953\"],[0.7777777777777778,\"#fb9f3a\"],[0.8888888888888888,\"#fdca26\"],[1.0,\"#f0f921\"]],\"sequentialminus\":[[0.0,\"#0d0887\"],[0.1111111111111111,\"#46039f\"],[0.2222222222222222,\"#7201a8\"],[0.3333333333333333,\"#9c179e\"],[0.4444444444444444,\"#bd3786\"],[0.5555555555555556,\"#d8576b\"],[0.6666666666666666,\"#ed7953\"],[0.7777777777777778,\"#fb9f3a\"],[0.8888888888888888,\"#fdca26\"],[1.0,\"#f0f921\"]],\"diverging\":[[0,\"#8e0152\"],[0.1,\"#c51b7d\"],[0.2,\"#de77ae\"],[0.3,\"#f1b6da\"],[0.4,\"#fde0ef\"],[0.5,\"#f7f7f7\"],[0.6,\"#e6f5d0\"],[0.7,\"#b8e186\"],[0.8,\"#7fbc41\"],[0.9,\"#4d9221\"],[1,\"#276419\"]]},\"xaxis\":{\"gridcolor\":\"white\",\"linecolor\":\"white\",\"ticks\":\"\",\"title\":{\"standoff\":15},\"zerolinecolor\":\"white\",\"automargin\":true,\"zerolinewidth\":2},\"yaxis\":{\"gridcolor\":\"white\",\"linecolor\":\"white\",\"ticks\":\"\",\"title\":{\"standoff\":15},\"zerolinecolor\":\"white\",\"automargin\":true,\"zerolinewidth\":2},\"scene\":{\"xaxis\":{\"backgroundcolor\":\"#E5ECF6\",\"gridcolor\":\"white\",\"linecolor\":\"white\",\"showbackground\":true,\"ticks\":\"\",\"zerolinecolor\":\"white\",\"gridwidth\":2},\"yaxis\":{\"backgroundcolor\":\"#E5ECF6\",\"gridcolor\":\"white\",\"linecolor\":\"white\",\"showbackground\":true,\"ticks\":\"\",\"zerolinecolor\":\"white\",\"gridwidth\":2},\"zaxis\":{\"backgroundcolor\":\"#E5ECF6\",\"gridcolor\":\"white\",\"linecolor\":\"white\",\"showbackground\":true,\"ticks\":\"\",\"zerolinecolor\":\"white\",\"gridwidth\":2}},\"shapedefaults\":{\"line\":{\"color\":\"#2a3f5f\"}},\"annotationdefaults\":{\"arrowcolor\":\"#2a3f5f\",\"arrowhead\":0,\"arrowwidth\":1},\"geo\":{\"bgcolor\":\"white\",\"landcolor\":\"#E5ECF6\",\"subunitcolor\":\"white\",\"showland\":true,\"showlakes\":true,\"lakecolor\":\"white\"},\"title\":{\"x\":0.05},\"mapbox\":{\"style\":\"light\"}}},\"title\":{\"text\":\"$M_{rand}\\\\text{ for every 250 games for different values of }\\\\epsilon_{opt}$\"},\"xaxis\":{\"title\":{\"text\":\"$game$\"}},\"yaxis\":{\"title\":{\"text\":\"$M_{rand}$\"}},\"width\":1200,\"height\":400},                        {\"responsive\": true}                    ).then(function(){\n                            \nvar gd = document.getElementById('bda0f2ce-7621-4d58-916c-9f847158be23');\nvar x = new MutationObserver(function (mutations, observer) {{\n        var display = window.getComputedStyle(gd).display;\n        if (!display || display === 'none') {{\n            console.log([gd, 'removed!']);\n            Plotly.purge(gd);\n            observer.disconnect();\n        }}\n}});\n\n// Listen for the removal of the full notebook cells\nvar notebookContainer = gd.closest('#notebook-container');\nif (notebookContainer) {{\n    x.observe(notebookContainer, {childList: true});\n}}\n\n// Listen for the clearing of the current output cell\nvar outputEl = gd.closest('.output');\nif (outputEl) {{\n    x.observe(outputEl, {childList: true});\n}}\n\n                        })                };                });            </script>        </div>"
     },
     "metadata": {},
     "output_type": "display_data"
    }
   ],
   "source": [
    "fig = go.Figure()\n",
    "\n",
    "for i, y_i in enumerate(eps_M_rands):\n",
    "    fig.add_trace(go.Scatter(x=x, y=y_i, mode='lines',name=r'$\\epsilon_{opt} = %.2f$' % eps_list[i]))\n",
    "\n",
    "fig.update_layout(\n",
    "    title=r'$M_{rand}\\text{ for every %d games for different values of }\\epsilon_{opt}$' % averaging_steps,\n",
    "    xaxis_title=r'$game$',\n",
    "    yaxis_title=r'$M_{rand}$',\n",
    "    width=1200, height=400\n",
    ")\n",
    "\n",
    "fig.show()"
   ]
  },
  {
   "cell_type": "markdown",
   "metadata": {
    "collapsed": false
   },
   "source": [
    "### Question 17-18"
   ]
  },
  {
   "cell_type": "code",
   "execution_count": 65,
   "metadata": {
    "collapsed": false,
    "pycharm": {
     "name": "#%%\n"
    }
   },
   "outputs": [
    {
     "name": "stdout",
     "output_type": "stream",
     "text": [
      "[1, 4000, 8000, 12000, 16000, 20000, 24000, 28000, 32000, 36000, 40000]\n",
      "Current n_star: 1\n"
     ]
    },
    {
     "name": "stderr",
     "output_type": "stream",
     "text": [
      "100%|██████████| 20000/20000 [10:30<00:00, 31.73it/s] \n"
     ]
    },
    {
     "name": "stdout",
     "output_type": "stream",
     "text": [
      "Current n_star: 4000\n"
     ]
    },
    {
     "name": "stderr",
     "output_type": "stream",
     "text": [
      "100%|██████████| 20000/20000 [11:06<00:00, 30.00it/s] \n"
     ]
    },
    {
     "name": "stdout",
     "output_type": "stream",
     "text": [
      "Current n_star: 8000\n"
     ]
    },
    {
     "name": "stderr",
     "output_type": "stream",
     "text": [
      "100%|██████████| 20000/20000 [10:43<00:00, 31.08it/s]\n"
     ]
    },
    {
     "name": "stdout",
     "output_type": "stream",
     "text": [
      "Current n_star: 12000\n"
     ]
    },
    {
     "name": "stderr",
     "output_type": "stream",
     "text": [
      "100%|██████████| 20000/20000 [10:16<00:00, 32.42it/s]\n"
     ]
    },
    {
     "name": "stdout",
     "output_type": "stream",
     "text": [
      "Current n_star: 16000\n"
     ]
    },
    {
     "name": "stderr",
     "output_type": "stream",
     "text": [
      "100%|██████████| 20000/20000 [10:21<00:00, 32.19it/s]\n"
     ]
    },
    {
     "name": "stdout",
     "output_type": "stream",
     "text": [
      "Current n_star: 20000\n"
     ]
    },
    {
     "name": "stderr",
     "output_type": "stream",
     "text": [
      "100%|██████████| 20000/20000 [10:33<00:00, 31.55it/s] \n"
     ]
    },
    {
     "name": "stdout",
     "output_type": "stream",
     "text": [
      "Current n_star: 24000\n"
     ]
    },
    {
     "name": "stderr",
     "output_type": "stream",
     "text": [
      "100%|██████████| 20000/20000 [10:52<00:00, 30.63it/s]\n"
     ]
    },
    {
     "name": "stdout",
     "output_type": "stream",
     "text": [
      "Current n_star: 28000\n"
     ]
    },
    {
     "name": "stderr",
     "output_type": "stream",
     "text": [
      "100%|██████████| 20000/20000 [10:48<00:00, 30.85it/s] \n"
     ]
    },
    {
     "name": "stdout",
     "output_type": "stream",
     "text": [
      "Current n_star: 32000\n"
     ]
    },
    {
     "name": "stderr",
     "output_type": "stream",
     "text": [
      "100%|██████████| 20000/20000 [11:12<00:00, 29.73it/s] \n"
     ]
    },
    {
     "name": "stdout",
     "output_type": "stream",
     "text": [
      "Current n_star: 36000\n"
     ]
    },
    {
     "name": "stderr",
     "output_type": "stream",
     "text": [
      "100%|██████████| 20000/20000 [10:48<00:00, 30.86it/s] \n"
     ]
    },
    {
     "name": "stdout",
     "output_type": "stream",
     "text": [
      "Current n_star: 40000\n"
     ]
    },
    {
     "name": "stderr",
     "output_type": "stream",
     "text": [
      "100%|██████████| 20000/20000 [10:07<00:00, 32.95it/s]\n"
     ]
    }
   ],
   "source": [
    "n_episodes = 20000\n",
    "averaging_steps = 250\n",
    "\n",
    "env = TictactoeEnv()\n",
    "\n",
    "\n",
    "n_star_rewards = []\n",
    "n_star_list = [int(x) for x in np.linspace(1, 40000, 11)]\n",
    "print(n_star_list)\n",
    "n_star_M_opts = []\n",
    "n_star_M_rands = []\n",
    "n_star_losses = []\n",
    "q_players = []\n",
    "\n",
    "for n_star in n_star_list:\n",
    "    print('Current n_star: %d' % n_star)\n",
    "    q_player = DeepVariableEpsilonQPlayer(0.8, 0.1, n_star, None, capacity=10000, batch_size=64, lr=5e-5)\n",
    "    other_player = DeepVariableEpsilonQPlayer(0.8, 0.1, n_star, None, capacity=10000, batch_size=64, shared_networks=q_player.get_networks(), lr=5e-5)\n",
    "\n",
    "    rewards, M_opts, M_rands, x, losses = deep_run_episodes(n_episodes, q_player, other_player, update_epsilon=True, other_learning=True)\n",
    "\n",
    "    n_star_rewards.append(rewards)\n",
    "    n_star_M_opts.append(M_opts)\n",
    "    n_star_M_rands.append(M_rands)\n",
    "    n_star_losses.append(losses)\n",
    "    q_players.append(q_player.get_networks())\n",
    "\n",
    "# Save data\n",
    "with open('question_17_18.pickle', 'wb') as f:\n",
    "    pickle.dump((n_star_list, n_star_rewards, n_star_M_opts, n_star_M_rands, n_star_losses, q_players), f)"
   ]
  },
  {
   "cell_type": "code",
   "execution_count": 66,
   "metadata": {
    "collapsed": false,
    "pycharm": {
     "name": "#%%\n"
    }
   },
   "outputs": [],
   "source": [
    "# Load data\n",
    "\n",
    "with open('question_17_18.pickle', 'rb') as f:\n",
    "    n_star_list, n_star_rewards, n_star_M_opts, n_star_M_rands, n_star_losses, q_players =  pickle.load(f)"
   ]
  },
  {
   "cell_type": "code",
   "execution_count": 67,
   "metadata": {
    "collapsed": false,
    "pycharm": {
     "name": "#%%\n"
    }
   },
   "outputs": [
    {
     "data": {
      "application/vnd.plotly.v1+json": {
       "data": [
        {
         "mode": "lines",
         "name": "$n^* = 1$",
         "x": [
          249,
          499,
          749,
          999,
          1249,
          1499,
          1749,
          1999,
          2249,
          2499,
          2749,
          2999,
          3249,
          3499,
          3749,
          3999,
          4249,
          4499,
          4749,
          4999,
          5249,
          5499,
          5749,
          5999,
          6249,
          6499,
          6749,
          6999,
          7249,
          7499,
          7749,
          7999,
          8249,
          8499,
          8749,
          8999,
          9249,
          9499,
          9749,
          9999,
          10249,
          10499,
          10749,
          10999,
          11249,
          11499,
          11749,
          11999,
          12249,
          12499,
          12749,
          12999,
          13249,
          13499,
          13749,
          13999,
          14249,
          14499,
          14749,
          14999,
          15249,
          15499,
          15749,
          15999,
          16249,
          16499,
          16749,
          16999,
          17249,
          17499,
          17749,
          17999,
          18249,
          18499,
          18749,
          18999,
          19249,
          19499,
          19749,
          19999
         ],
         "y": [
          -1.0,
          -0.742,
          -1.0,
          -1.0,
          -1.0,
          -1.0,
          -1.0,
          -1.0,
          -1.0,
          -0.904,
          -1.0,
          -1.0,
          -1.0,
          -0.878,
          -0.904,
          -1.0,
          -0.804,
          -0.802,
          -0.812,
          -0.474,
          -0.894,
          -1.0,
          -0.498,
          -1.0,
          -0.772,
          -0.414,
          -0.314,
          -0.442,
          -0.624,
          -0.402,
          -0.498,
          -0.406,
          -0.198,
          -0.53,
          -0.104,
          -0.116,
          -0.344,
          -0.188,
          0.0,
          0.0,
          -0.11,
          -0.11,
          -0.074,
          -0.078,
          -0.276,
          -0.302,
          -0.274,
          0.0,
          0.0,
          0.0,
          -0.122,
          0.0,
          -0.122,
          -0.178,
          0.0,
          -0.08,
          -0.114,
          -0.08,
          -0.212,
          -0.204,
          0.0,
          -0.102,
          -0.084,
          0.0,
          0.0,
          0.0,
          0.0,
          0.0,
          0.0,
          0.0,
          0.0,
          0.0,
          0.0,
          0.0,
          0.0,
          0.0,
          -0.202,
          -0.196,
          0.0,
          0.0
         ],
         "type": "scatter"
        },
        {
         "mode": "lines",
         "name": "$n^* = 4000$",
         "x": [
          249,
          499,
          749,
          999,
          1249,
          1499,
          1749,
          1999,
          2249,
          2499,
          2749,
          2999,
          3249,
          3499,
          3749,
          3999,
          4249,
          4499,
          4749,
          4999,
          5249,
          5499,
          5749,
          5999,
          6249,
          6499,
          6749,
          6999,
          7249,
          7499,
          7749,
          7999,
          8249,
          8499,
          8749,
          8999,
          9249,
          9499,
          9749,
          9999,
          10249,
          10499,
          10749,
          10999,
          11249,
          11499,
          11749,
          11999,
          12249,
          12499,
          12749,
          12999,
          13249,
          13499,
          13749,
          13999,
          14249,
          14499,
          14749,
          14999,
          15249,
          15499,
          15749,
          15999,
          16249,
          16499,
          16749,
          16999,
          17249,
          17499,
          17749,
          17999,
          18249,
          18499,
          18749,
          18999,
          19249,
          19499,
          19749,
          19999
         ],
         "y": [
          -1.0,
          -1.0,
          -1.0,
          -0.95,
          -1.0,
          -0.88,
          -1.0,
          -1.0,
          -0.684,
          -0.54,
          -1.0,
          -0.618,
          -0.362,
          -0.43,
          -0.396,
          -0.368,
          -0.278,
          -0.306,
          -0.224,
          -0.544,
          -0.538,
          -0.394,
          -0.392,
          -0.388,
          -0.072,
          0.0,
          -0.194,
          -0.198,
          -0.808,
          -0.892,
          -0.498,
          -0.408,
          -0.418,
          -0.498,
          -0.498,
          -0.498,
          -0.174,
          -0.168,
          -0.168,
          -0.198,
          -0.196,
          -0.218,
          -0.202,
          -0.188,
          -0.194,
          -0.188,
          -0.378,
          -0.41,
          -0.204,
          -0.184,
          -0.198,
          0.0,
          0.0,
          0.0,
          -0.09,
          0.0,
          0.0,
          0.0,
          0.0,
          0.0,
          0.0,
          0.0,
          0.0,
          0.0,
          0.0,
          0.0,
          0.0,
          0.0,
          0.0,
          0.0,
          0.0,
          0.0,
          0.0,
          0.0,
          0.0,
          0.0,
          0.0,
          0.0,
          0.0,
          0.0
         ],
         "type": "scatter"
        },
        {
         "mode": "lines",
         "name": "$n^* = 8000$",
         "x": [
          249,
          499,
          749,
          999,
          1249,
          1499,
          1749,
          1999,
          2249,
          2499,
          2749,
          2999,
          3249,
          3499,
          3749,
          3999,
          4249,
          4499,
          4749,
          4999,
          5249,
          5499,
          5749,
          5999,
          6249,
          6499,
          6749,
          6999,
          7249,
          7499,
          7749,
          7999,
          8249,
          8499,
          8749,
          8999,
          9249,
          9499,
          9749,
          9999,
          10249,
          10499,
          10749,
          10999,
          11249,
          11499,
          11749,
          11999,
          12249,
          12499,
          12749,
          12999,
          13249,
          13499,
          13749,
          13999,
          14249,
          14499,
          14749,
          14999,
          15249,
          15499,
          15749,
          15999,
          16249,
          16499,
          16749,
          16999,
          17249,
          17499,
          17749,
          17999,
          18249,
          18499,
          18749,
          18999,
          19249,
          19499,
          19749,
          19999
         ],
         "y": [
          -1.0,
          -1.0,
          -1.0,
          -1.0,
          -1.0,
          -1.0,
          -0.872,
          -1.0,
          -0.916,
          -0.816,
          -0.542,
          -0.658,
          -0.714,
          -0.606,
          -0.53,
          -0.272,
          -0.298,
          -0.292,
          -0.1,
          -0.234,
          -0.18,
          -0.108,
          -0.2,
          -0.21,
          -0.498,
          -0.398,
          -0.314,
          -0.498,
          -0.188,
          -0.106,
          -0.19,
          -0.118,
          -0.104,
          -0.286,
          -0.108,
          0.0,
          0.0,
          0.0,
          0.0,
          0.0,
          0.0,
          0.0,
          0.0,
          0.0,
          0.0,
          0.0,
          -0.076,
          -0.096,
          0.0,
          0.0,
          0.0,
          -0.228,
          -0.168,
          -0.184,
          -0.4,
          -0.41,
          -0.402,
          -0.194,
          -0.206,
          -0.202,
          -0.168,
          -0.208,
          -0.198,
          -0.19,
          -0.212,
          -0.178,
          -0.208,
          -0.194,
          -0.196,
          -0.214,
          -0.206,
          -0.18,
          -0.2,
          -0.212,
          -0.216,
          -0.188,
          -0.17,
          -0.182,
          -0.218,
          -0.21
         ],
         "type": "scatter"
        },
        {
         "mode": "lines",
         "name": "$n^* = 12000$",
         "x": [
          249,
          499,
          749,
          999,
          1249,
          1499,
          1749,
          1999,
          2249,
          2499,
          2749,
          2999,
          3249,
          3499,
          3749,
          3999,
          4249,
          4499,
          4749,
          4999,
          5249,
          5499,
          5749,
          5999,
          6249,
          6499,
          6749,
          6999,
          7249,
          7499,
          7749,
          7999,
          8249,
          8499,
          8749,
          8999,
          9249,
          9499,
          9749,
          9999,
          10249,
          10499,
          10749,
          10999,
          11249,
          11499,
          11749,
          11999,
          12249,
          12499,
          12749,
          12999,
          13249,
          13499,
          13749,
          13999,
          14249,
          14499,
          14749,
          14999,
          15249,
          15499,
          15749,
          15999,
          16249,
          16499,
          16749,
          16999,
          17249,
          17499,
          17749,
          17999,
          18249,
          18499,
          18749,
          18999,
          19249,
          19499,
          19749,
          19999
         ],
         "y": [
          -1.0,
          -1.0,
          -1.0,
          -1.0,
          -1.0,
          -1.0,
          -1.0,
          -0.852,
          -1.0,
          -0.876,
          -0.22,
          -0.514,
          -0.302,
          -0.096,
          -0.088,
          -0.106,
          -0.098,
          -0.274,
          -0.08,
          -0.106,
          -0.112,
          -0.098,
          0.0,
          -0.184,
          0.0,
          0.0,
          0.0,
          0.0,
          0.0,
          -0.212,
          -0.172,
          0.0,
          0.0,
          0.0,
          -0.32,
          -0.294,
          -0.308,
          -0.086,
          0.0,
          -0.162,
          -0.218,
          -0.19,
          -0.078,
          -0.088,
          0.0,
          0.0,
          0.0,
          0.0,
          -0.182,
          0.0,
          0.0,
          0.0,
          -0.202,
          -0.174,
          0.0,
          0.0,
          0.0,
          -0.19,
          -0.172,
          0.0,
          0.0,
          0.0,
          0.0,
          0.0,
          0.0,
          0.0,
          0.0,
          0.0,
          0.0,
          0.0,
          0.0,
          0.0,
          0.0,
          0.0,
          0.0,
          0.0,
          0.0,
          0.0,
          0.0,
          -0.208
         ],
         "type": "scatter"
        },
        {
         "mode": "lines",
         "name": "$n^* = 16000$",
         "x": [
          249,
          499,
          749,
          999,
          1249,
          1499,
          1749,
          1999,
          2249,
          2499,
          2749,
          2999,
          3249,
          3499,
          3749,
          3999,
          4249,
          4499,
          4749,
          4999,
          5249,
          5499,
          5749,
          5999,
          6249,
          6499,
          6749,
          6999,
          7249,
          7499,
          7749,
          7999,
          8249,
          8499,
          8749,
          8999,
          9249,
          9499,
          9749,
          9999,
          10249,
          10499,
          10749,
          10999,
          11249,
          11499,
          11749,
          11999,
          12249,
          12499,
          12749,
          12999,
          13249,
          13499,
          13749,
          13999,
          14249,
          14499,
          14749,
          14999,
          15249,
          15499,
          15749,
          15999,
          16249,
          16499,
          16749,
          16999,
          17249,
          17499,
          17749,
          17999,
          18249,
          18499,
          18749,
          18999,
          19249,
          19499,
          19749,
          19999
         ],
         "y": [
          -1.0,
          -1.0,
          -1.0,
          -1.0,
          -1.0,
          -1.0,
          -0.89,
          -0.878,
          -0.538,
          -0.644,
          -0.696,
          -0.42,
          -0.506,
          -0.562,
          -0.466,
          -0.494,
          -0.246,
          -0.464,
          -0.434,
          -0.348,
          -0.096,
          -0.302,
          -0.414,
          -0.41,
          -0.498,
          -0.28,
          -0.104,
          -0.292,
          -0.392,
          -0.498,
          -0.318,
          -0.326,
          -0.208,
          -0.094,
          0.0,
          0.0,
          0.0,
          0.0,
          0.0,
          -0.088,
          0.0,
          -0.094,
          -0.112,
          -0.1,
          -0.104,
          -0.094,
          -0.23,
          -0.202,
          -0.404,
          0.0,
          0.0,
          0.0,
          0.0,
          0.0,
          0.0,
          0.0,
          -0.062,
          -0.174,
          0.0,
          0.0,
          0.0,
          0.0,
          0.0,
          0.0,
          0.0,
          0.0,
          0.0,
          0.0,
          0.0,
          0.0,
          0.0,
          0.0,
          0.0,
          0.0,
          0.0,
          -0.074,
          -0.08,
          0.0,
          -0.198,
          0.0
         ],
         "type": "scatter"
        },
        {
         "mode": "lines",
         "name": "$n^* = 20000$",
         "x": [
          249,
          499,
          749,
          999,
          1249,
          1499,
          1749,
          1999,
          2249,
          2499,
          2749,
          2999,
          3249,
          3499,
          3749,
          3999,
          4249,
          4499,
          4749,
          4999,
          5249,
          5499,
          5749,
          5999,
          6249,
          6499,
          6749,
          6999,
          7249,
          7499,
          7749,
          7999,
          8249,
          8499,
          8749,
          8999,
          9249,
          9499,
          9749,
          9999,
          10249,
          10499,
          10749,
          10999,
          11249,
          11499,
          11749,
          11999,
          12249,
          12499,
          12749,
          12999,
          13249,
          13499,
          13749,
          13999,
          14249,
          14499,
          14749,
          14999,
          15249,
          15499,
          15749,
          15999,
          16249,
          16499,
          16749,
          16999,
          17249,
          17499,
          17749,
          17999,
          18249,
          18499,
          18749,
          18999,
          19249,
          19499,
          19749,
          19999
         ],
         "y": [
          -1.0,
          -1.0,
          -0.916,
          -1.0,
          -0.88,
          -0.852,
          -0.878,
          -0.7,
          -0.664,
          -0.808,
          -0.682,
          -0.716,
          -0.65,
          -0.698,
          -0.548,
          -0.46,
          -0.528,
          -0.194,
          -0.584,
          -0.388,
          -0.28,
          -0.102,
          -0.104,
          -0.11,
          -0.158,
          -0.438,
          -0.388,
          -0.37,
          -0.464,
          -0.388,
          -0.266,
          -0.398,
          -0.31,
          -0.31,
          -0.192,
          -0.308,
          -0.206,
          -0.378,
          -0.202,
          -0.182,
          -0.394,
          -0.396,
          -0.42,
          -0.318,
          -0.208,
          -0.4,
          -0.096,
          -0.294,
          -0.21,
          -0.1,
          -0.086,
          -0.104,
          -0.092,
          -0.102,
          -0.088,
          -0.322,
          -0.096,
          -0.11,
          0.0,
          0.0,
          0.0,
          0.0,
          0.0,
          0.0,
          -0.412,
          -0.212,
          -0.406,
          -0.22,
          -0.202,
          -0.26,
          -0.206,
          -0.2,
          -0.206,
          -0.22,
          0.0,
          -0.196,
          0.0,
          -0.216,
          0.0,
          -0.552
         ],
         "type": "scatter"
        },
        {
         "mode": "lines",
         "name": "$n^* = 24000$",
         "x": [
          249,
          499,
          749,
          999,
          1249,
          1499,
          1749,
          1999,
          2249,
          2499,
          2749,
          2999,
          3249,
          3499,
          3749,
          3999,
          4249,
          4499,
          4749,
          4999,
          5249,
          5499,
          5749,
          5999,
          6249,
          6499,
          6749,
          6999,
          7249,
          7499,
          7749,
          7999,
          8249,
          8499,
          8749,
          8999,
          9249,
          9499,
          9749,
          9999,
          10249,
          10499,
          10749,
          10999,
          11249,
          11499,
          11749,
          11999,
          12249,
          12499,
          12749,
          12999,
          13249,
          13499,
          13749,
          13999,
          14249,
          14499,
          14749,
          14999,
          15249,
          15499,
          15749,
          15999,
          16249,
          16499,
          16749,
          16999,
          17249,
          17499,
          17749,
          17999,
          18249,
          18499,
          18749,
          18999,
          19249,
          19499,
          19749,
          19999
         ],
         "y": [
          -1.0,
          -1.0,
          -1.0,
          -1.0,
          -1.0,
          -1.0,
          -1.0,
          -1.0,
          -0.874,
          -0.752,
          -0.56,
          -0.454,
          -0.75,
          -0.418,
          -0.456,
          -0.294,
          -0.3,
          -0.276,
          -0.392,
          -0.766,
          -0.408,
          -0.176,
          -0.29,
          -0.304,
          -0.308,
          -0.3,
          -0.42,
          -0.212,
          -0.43,
          -0.27,
          -0.278,
          -0.29,
          -0.208,
          -0.092,
          -0.22,
          -0.204,
          -0.236,
          -0.2,
          -0.094,
          -0.218,
          -0.114,
          -0.094,
          -0.088,
          -0.094,
          -0.084,
          -0.11,
          -0.224,
          -0.204,
          -0.078,
          -0.244,
          0.0,
          0.0,
          -0.096,
          -0.088,
          -0.09,
          -0.208,
          0.0,
          0.0,
          0.0,
          -0.07,
          0.0,
          0.0,
          0.0,
          0.0,
          0.0,
          0.0,
          0.0,
          0.0,
          0.0,
          0.0,
          0.0,
          0.0,
          0.0,
          0.0,
          0.0,
          0.0,
          0.0,
          0.0,
          -0.036,
          0.0
         ],
         "type": "scatter"
        },
        {
         "mode": "lines",
         "name": "$n^* = 28000$",
         "x": [
          249,
          499,
          749,
          999,
          1249,
          1499,
          1749,
          1999,
          2249,
          2499,
          2749,
          2999,
          3249,
          3499,
          3749,
          3999,
          4249,
          4499,
          4749,
          4999,
          5249,
          5499,
          5749,
          5999,
          6249,
          6499,
          6749,
          6999,
          7249,
          7499,
          7749,
          7999,
          8249,
          8499,
          8749,
          8999,
          9249,
          9499,
          9749,
          9999,
          10249,
          10499,
          10749,
          10999,
          11249,
          11499,
          11749,
          11999,
          12249,
          12499,
          12749,
          12999,
          13249,
          13499,
          13749,
          13999,
          14249,
          14499,
          14749,
          14999,
          15249,
          15499,
          15749,
          15999,
          16249,
          16499,
          16749,
          16999,
          17249,
          17499,
          17749,
          17999,
          18249,
          18499,
          18749,
          18999,
          19249,
          19499,
          19749,
          19999
         ],
         "y": [
          -1.0,
          -1.0,
          -1.0,
          -1.0,
          -1.0,
          -1.0,
          -0.802,
          -0.802,
          -0.856,
          -0.854,
          -0.868,
          -0.78,
          -0.678,
          -0.432,
          -0.674,
          -0.468,
          -0.636,
          -0.368,
          -0.66,
          -0.434,
          -0.418,
          -0.214,
          -0.626,
          -0.402,
          -0.628,
          -0.128,
          -0.166,
          0.0,
          -0.088,
          -0.31,
          -0.14,
          -0.112,
          -0.382,
          -0.112,
          -0.214,
          -0.328,
          -0.32,
          -0.454,
          -0.312,
          -0.3,
          -0.32,
          -0.294,
          -0.11,
          -0.086,
          -0.186,
          -0.23,
          -0.168,
          -0.23,
          -0.238,
          -0.194,
          -0.334,
          -0.312,
          -0.368,
          -0.188,
          -0.192,
          -0.178,
          -0.408,
          -0.174,
          -0.186,
          0.0,
          -0.204,
          -0.176,
          -0.202,
          -0.22,
          -0.188,
          -0.178,
          -0.222,
          -0.214,
          0.0,
          0.0,
          0.0,
          0.0,
          -0.216,
          0.0,
          0.0,
          0.0,
          0.0,
          0.0,
          0.0,
          0.0
         ],
         "type": "scatter"
        },
        {
         "mode": "lines",
         "name": "$n^* = 32000$",
         "x": [
          249,
          499,
          749,
          999,
          1249,
          1499,
          1749,
          1999,
          2249,
          2499,
          2749,
          2999,
          3249,
          3499,
          3749,
          3999,
          4249,
          4499,
          4749,
          4999,
          5249,
          5499,
          5749,
          5999,
          6249,
          6499,
          6749,
          6999,
          7249,
          7499,
          7749,
          7999,
          8249,
          8499,
          8749,
          8999,
          9249,
          9499,
          9749,
          9999,
          10249,
          10499,
          10749,
          10999,
          11249,
          11499,
          11749,
          11999,
          12249,
          12499,
          12749,
          12999,
          13249,
          13499,
          13749,
          13999,
          14249,
          14499,
          14749,
          14999,
          15249,
          15499,
          15749,
          15999,
          16249,
          16499,
          16749,
          16999,
          17249,
          17499,
          17749,
          17999,
          18249,
          18499,
          18749,
          18999,
          19249,
          19499,
          19749,
          19999
         ],
         "y": [
          -1.0,
          -1.0,
          -1.0,
          -1.0,
          -1.0,
          -0.886,
          -0.798,
          -0.816,
          -0.782,
          -0.774,
          -0.71,
          -0.898,
          -0.442,
          -0.412,
          -0.436,
          -0.498,
          -0.412,
          -0.656,
          -0.532,
          -0.56,
          -0.5,
          -0.788,
          -0.45,
          -0.488,
          -0.57,
          -0.5,
          -0.366,
          -0.272,
          -0.336,
          -0.416,
          -0.064,
          -0.158,
          -0.362,
          -0.434,
          -0.308,
          -0.366,
          -0.192,
          -0.28,
          -0.334,
          -0.338,
          -0.23,
          0.0,
          -0.144,
          -0.13,
          0.0,
          -0.058,
          -0.068,
          0.0,
          -0.18,
          -0.232,
          -0.2,
          0.0,
          0.0,
          0.0,
          -0.356,
          -0.244,
          0.0,
          0.0,
          0.0,
          -0.094,
          0.0,
          0.0,
          -0.194,
          0.0,
          0.0,
          0.0,
          -0.168,
          -0.194,
          -0.166,
          0.0,
          0.0,
          0.0,
          0.0,
          0.0,
          -0.182,
          0.0,
          -0.212,
          0.0,
          0.0,
          0.0
         ],
         "type": "scatter"
        },
        {
         "mode": "lines",
         "name": "$n^* = 36000$",
         "x": [
          249,
          499,
          749,
          999,
          1249,
          1499,
          1749,
          1999,
          2249,
          2499,
          2749,
          2999,
          3249,
          3499,
          3749,
          3999,
          4249,
          4499,
          4749,
          4999,
          5249,
          5499,
          5749,
          5999,
          6249,
          6499,
          6749,
          6999,
          7249,
          7499,
          7749,
          7999,
          8249,
          8499,
          8749,
          8999,
          9249,
          9499,
          9749,
          9999,
          10249,
          10499,
          10749,
          10999,
          11249,
          11499,
          11749,
          11999,
          12249,
          12499,
          12749,
          12999,
          13249,
          13499,
          13749,
          13999,
          14249,
          14499,
          14749,
          14999,
          15249,
          15499,
          15749,
          15999,
          16249,
          16499,
          16749,
          16999,
          17249,
          17499,
          17749,
          17999,
          18249,
          18499,
          18749,
          18999,
          19249,
          19499,
          19749,
          19999
         ],
         "y": [
          -1.0,
          -1.0,
          -1.0,
          -1.0,
          -1.0,
          -0.888,
          -0.692,
          -1.0,
          -1.0,
          -1.0,
          -0.88,
          -0.638,
          -0.632,
          -0.498,
          -0.546,
          -0.594,
          -0.18,
          -0.44,
          -0.444,
          -0.38,
          -0.436,
          -0.288,
          -0.216,
          -0.298,
          -0.322,
          -0.332,
          -0.306,
          -0.338,
          -0.194,
          -0.294,
          -0.402,
          -0.388,
          -0.4,
          -0.236,
          -0.488,
          -0.448,
          -0.322,
          -0.096,
          -0.096,
          -0.116,
          -0.134,
          -0.224,
          -0.232,
          -0.104,
          0.0,
          0.0,
          0.0,
          0.0,
          0.0,
          0.0,
          0.0,
          0.0,
          -0.074,
          -0.102,
          0.0,
          0.0,
          -0.104,
          -0.08,
          0.0,
          0.0,
          0.0,
          0.0,
          0.0,
          0.0,
          0.0,
          0.0,
          -0.112,
          -0.116,
          0.0,
          0.0,
          0.0,
          0.0,
          0.0,
          0.0,
          0.0,
          0.0,
          0.0,
          -0.318,
          -0.088,
          -0.124
         ],
         "type": "scatter"
        },
        {
         "mode": "lines",
         "name": "$n^* = 40000$",
         "x": [
          249,
          499,
          749,
          999,
          1249,
          1499,
          1749,
          1999,
          2249,
          2499,
          2749,
          2999,
          3249,
          3499,
          3749,
          3999,
          4249,
          4499,
          4749,
          4999,
          5249,
          5499,
          5749,
          5999,
          6249,
          6499,
          6749,
          6999,
          7249,
          7499,
          7749,
          7999,
          8249,
          8499,
          8749,
          8999,
          9249,
          9499,
          9749,
          9999,
          10249,
          10499,
          10749,
          10999,
          11249,
          11499,
          11749,
          11999,
          12249,
          12499,
          12749,
          12999,
          13249,
          13499,
          13749,
          13999,
          14249,
          14499,
          14749,
          14999,
          15249,
          15499,
          15749,
          15999,
          16249,
          16499,
          16749,
          16999,
          17249,
          17499,
          17749,
          17999,
          18249,
          18499,
          18749,
          18999,
          19249,
          19499,
          19749,
          19999
         ],
         "y": [
          -1.0,
          -1.0,
          -1.0,
          -1.0,
          -1.0,
          -1.0,
          -0.794,
          -1.0,
          -0.868,
          -0.858,
          -0.868,
          -0.876,
          -0.768,
          -0.45,
          -0.462,
          -0.088,
          -0.104,
          0.0,
          0.0,
          -0.122,
          -0.116,
          -0.088,
          0.0,
          -0.098,
          -0.594,
          -0.588,
          -0.11,
          -0.108,
          -0.076,
          -0.118,
          -0.18,
          -0.304,
          -0.258,
          -0.33,
          -0.518,
          -0.3,
          -0.468,
          -0.154,
          -0.112,
          -0.152,
          -0.11,
          -0.108,
          -0.282,
          -0.25,
          -0.392,
          -0.294,
          -0.498,
          -0.23,
          -0.11,
          -0.056,
          -0.222,
          -0.178,
          0.0,
          0.0,
          0.0,
          -0.216,
          -0.1,
          -0.09,
          -0.226,
          -0.114,
          -0.116,
          -0.116,
          -0.08,
          -0.094,
          -0.082,
          0.0,
          -0.114,
          -0.11,
          -0.094,
          -0.116,
          0.0,
          -0.188,
          -0.292,
          -0.114,
          -0.09,
          -0.082,
          -0.182,
          0.0,
          -0.142,
          -0.108
         ],
         "type": "scatter"
        }
       ],
       "layout": {
        "template": {
         "data": {
          "histogram2dcontour": [
           {
            "type": "histogram2dcontour",
            "colorbar": {
             "outlinewidth": 0,
             "ticks": ""
            },
            "colorscale": [
             [
              0.0,
              "#0d0887"
             ],
             [
              0.1111111111111111,
              "#46039f"
             ],
             [
              0.2222222222222222,
              "#7201a8"
             ],
             [
              0.3333333333333333,
              "#9c179e"
             ],
             [
              0.4444444444444444,
              "#bd3786"
             ],
             [
              0.5555555555555556,
              "#d8576b"
             ],
             [
              0.6666666666666666,
              "#ed7953"
             ],
             [
              0.7777777777777778,
              "#fb9f3a"
             ],
             [
              0.8888888888888888,
              "#fdca26"
             ],
             [
              1.0,
              "#f0f921"
             ]
            ]
           }
          ],
          "choropleth": [
           {
            "type": "choropleth",
            "colorbar": {
             "outlinewidth": 0,
             "ticks": ""
            }
           }
          ],
          "histogram2d": [
           {
            "type": "histogram2d",
            "colorbar": {
             "outlinewidth": 0,
             "ticks": ""
            },
            "colorscale": [
             [
              0.0,
              "#0d0887"
             ],
             [
              0.1111111111111111,
              "#46039f"
             ],
             [
              0.2222222222222222,
              "#7201a8"
             ],
             [
              0.3333333333333333,
              "#9c179e"
             ],
             [
              0.4444444444444444,
              "#bd3786"
             ],
             [
              0.5555555555555556,
              "#d8576b"
             ],
             [
              0.6666666666666666,
              "#ed7953"
             ],
             [
              0.7777777777777778,
              "#fb9f3a"
             ],
             [
              0.8888888888888888,
              "#fdca26"
             ],
             [
              1.0,
              "#f0f921"
             ]
            ]
           }
          ],
          "heatmap": [
           {
            "type": "heatmap",
            "colorbar": {
             "outlinewidth": 0,
             "ticks": ""
            },
            "colorscale": [
             [
              0.0,
              "#0d0887"
             ],
             [
              0.1111111111111111,
              "#46039f"
             ],
             [
              0.2222222222222222,
              "#7201a8"
             ],
             [
              0.3333333333333333,
              "#9c179e"
             ],
             [
              0.4444444444444444,
              "#bd3786"
             ],
             [
              0.5555555555555556,
              "#d8576b"
             ],
             [
              0.6666666666666666,
              "#ed7953"
             ],
             [
              0.7777777777777778,
              "#fb9f3a"
             ],
             [
              0.8888888888888888,
              "#fdca26"
             ],
             [
              1.0,
              "#f0f921"
             ]
            ]
           }
          ],
          "heatmapgl": [
           {
            "type": "heatmapgl",
            "colorbar": {
             "outlinewidth": 0,
             "ticks": ""
            },
            "colorscale": [
             [
              0.0,
              "#0d0887"
             ],
             [
              0.1111111111111111,
              "#46039f"
             ],
             [
              0.2222222222222222,
              "#7201a8"
             ],
             [
              0.3333333333333333,
              "#9c179e"
             ],
             [
              0.4444444444444444,
              "#bd3786"
             ],
             [
              0.5555555555555556,
              "#d8576b"
             ],
             [
              0.6666666666666666,
              "#ed7953"
             ],
             [
              0.7777777777777778,
              "#fb9f3a"
             ],
             [
              0.8888888888888888,
              "#fdca26"
             ],
             [
              1.0,
              "#f0f921"
             ]
            ]
           }
          ],
          "contourcarpet": [
           {
            "type": "contourcarpet",
            "colorbar": {
             "outlinewidth": 0,
             "ticks": ""
            }
           }
          ],
          "contour": [
           {
            "type": "contour",
            "colorbar": {
             "outlinewidth": 0,
             "ticks": ""
            },
            "colorscale": [
             [
              0.0,
              "#0d0887"
             ],
             [
              0.1111111111111111,
              "#46039f"
             ],
             [
              0.2222222222222222,
              "#7201a8"
             ],
             [
              0.3333333333333333,
              "#9c179e"
             ],
             [
              0.4444444444444444,
              "#bd3786"
             ],
             [
              0.5555555555555556,
              "#d8576b"
             ],
             [
              0.6666666666666666,
              "#ed7953"
             ],
             [
              0.7777777777777778,
              "#fb9f3a"
             ],
             [
              0.8888888888888888,
              "#fdca26"
             ],
             [
              1.0,
              "#f0f921"
             ]
            ]
           }
          ],
          "surface": [
           {
            "type": "surface",
            "colorbar": {
             "outlinewidth": 0,
             "ticks": ""
            },
            "colorscale": [
             [
              0.0,
              "#0d0887"
             ],
             [
              0.1111111111111111,
              "#46039f"
             ],
             [
              0.2222222222222222,
              "#7201a8"
             ],
             [
              0.3333333333333333,
              "#9c179e"
             ],
             [
              0.4444444444444444,
              "#bd3786"
             ],
             [
              0.5555555555555556,
              "#d8576b"
             ],
             [
              0.6666666666666666,
              "#ed7953"
             ],
             [
              0.7777777777777778,
              "#fb9f3a"
             ],
             [
              0.8888888888888888,
              "#fdca26"
             ],
             [
              1.0,
              "#f0f921"
             ]
            ]
           }
          ],
          "mesh3d": [
           {
            "type": "mesh3d",
            "colorbar": {
             "outlinewidth": 0,
             "ticks": ""
            }
           }
          ],
          "scatter": [
           {
            "fillpattern": {
             "fillmode": "overlay",
             "size": 10,
             "solidity": 0.2
            },
            "type": "scatter"
           }
          ],
          "parcoords": [
           {
            "type": "parcoords",
            "line": {
             "colorbar": {
              "outlinewidth": 0,
              "ticks": ""
             }
            }
           }
          ],
          "scatterpolargl": [
           {
            "type": "scatterpolargl",
            "marker": {
             "colorbar": {
              "outlinewidth": 0,
              "ticks": ""
             }
            }
           }
          ],
          "bar": [
           {
            "error_x": {
             "color": "#2a3f5f"
            },
            "error_y": {
             "color": "#2a3f5f"
            },
            "marker": {
             "line": {
              "color": "#E5ECF6",
              "width": 0.5
             },
             "pattern": {
              "fillmode": "overlay",
              "size": 10,
              "solidity": 0.2
             }
            },
            "type": "bar"
           }
          ],
          "scattergeo": [
           {
            "type": "scattergeo",
            "marker": {
             "colorbar": {
              "outlinewidth": 0,
              "ticks": ""
             }
            }
           }
          ],
          "scatterpolar": [
           {
            "type": "scatterpolar",
            "marker": {
             "colorbar": {
              "outlinewidth": 0,
              "ticks": ""
             }
            }
           }
          ],
          "histogram": [
           {
            "marker": {
             "pattern": {
              "fillmode": "overlay",
              "size": 10,
              "solidity": 0.2
             }
            },
            "type": "histogram"
           }
          ],
          "scattergl": [
           {
            "type": "scattergl",
            "marker": {
             "colorbar": {
              "outlinewidth": 0,
              "ticks": ""
             }
            }
           }
          ],
          "scatter3d": [
           {
            "type": "scatter3d",
            "line": {
             "colorbar": {
              "outlinewidth": 0,
              "ticks": ""
             }
            },
            "marker": {
             "colorbar": {
              "outlinewidth": 0,
              "ticks": ""
             }
            }
           }
          ],
          "scattermapbox": [
           {
            "type": "scattermapbox",
            "marker": {
             "colorbar": {
              "outlinewidth": 0,
              "ticks": ""
             }
            }
           }
          ],
          "scatterternary": [
           {
            "type": "scatterternary",
            "marker": {
             "colorbar": {
              "outlinewidth": 0,
              "ticks": ""
             }
            }
           }
          ],
          "scattercarpet": [
           {
            "type": "scattercarpet",
            "marker": {
             "colorbar": {
              "outlinewidth": 0,
              "ticks": ""
             }
            }
           }
          ],
          "carpet": [
           {
            "aaxis": {
             "endlinecolor": "#2a3f5f",
             "gridcolor": "white",
             "linecolor": "white",
             "minorgridcolor": "white",
             "startlinecolor": "#2a3f5f"
            },
            "baxis": {
             "endlinecolor": "#2a3f5f",
             "gridcolor": "white",
             "linecolor": "white",
             "minorgridcolor": "white",
             "startlinecolor": "#2a3f5f"
            },
            "type": "carpet"
           }
          ],
          "table": [
           {
            "cells": {
             "fill": {
              "color": "#EBF0F8"
             },
             "line": {
              "color": "white"
             }
            },
            "header": {
             "fill": {
              "color": "#C8D4E3"
             },
             "line": {
              "color": "white"
             }
            },
            "type": "table"
           }
          ],
          "barpolar": [
           {
            "marker": {
             "line": {
              "color": "#E5ECF6",
              "width": 0.5
             },
             "pattern": {
              "fillmode": "overlay",
              "size": 10,
              "solidity": 0.2
             }
            },
            "type": "barpolar"
           }
          ],
          "pie": [
           {
            "automargin": true,
            "type": "pie"
           }
          ]
         },
         "layout": {
          "autotypenumbers": "strict",
          "colorway": [
           "#636efa",
           "#EF553B",
           "#00cc96",
           "#ab63fa",
           "#FFA15A",
           "#19d3f3",
           "#FF6692",
           "#B6E880",
           "#FF97FF",
           "#FECB52"
          ],
          "font": {
           "color": "#2a3f5f"
          },
          "hovermode": "closest",
          "hoverlabel": {
           "align": "left"
          },
          "paper_bgcolor": "white",
          "plot_bgcolor": "#E5ECF6",
          "polar": {
           "bgcolor": "#E5ECF6",
           "angularaxis": {
            "gridcolor": "white",
            "linecolor": "white",
            "ticks": ""
           },
           "radialaxis": {
            "gridcolor": "white",
            "linecolor": "white",
            "ticks": ""
           }
          },
          "ternary": {
           "bgcolor": "#E5ECF6",
           "aaxis": {
            "gridcolor": "white",
            "linecolor": "white",
            "ticks": ""
           },
           "baxis": {
            "gridcolor": "white",
            "linecolor": "white",
            "ticks": ""
           },
           "caxis": {
            "gridcolor": "white",
            "linecolor": "white",
            "ticks": ""
           }
          },
          "coloraxis": {
           "colorbar": {
            "outlinewidth": 0,
            "ticks": ""
           }
          },
          "colorscale": {
           "sequential": [
            [
             0.0,
             "#0d0887"
            ],
            [
             0.1111111111111111,
             "#46039f"
            ],
            [
             0.2222222222222222,
             "#7201a8"
            ],
            [
             0.3333333333333333,
             "#9c179e"
            ],
            [
             0.4444444444444444,
             "#bd3786"
            ],
            [
             0.5555555555555556,
             "#d8576b"
            ],
            [
             0.6666666666666666,
             "#ed7953"
            ],
            [
             0.7777777777777778,
             "#fb9f3a"
            ],
            [
             0.8888888888888888,
             "#fdca26"
            ],
            [
             1.0,
             "#f0f921"
            ]
           ],
           "sequentialminus": [
            [
             0.0,
             "#0d0887"
            ],
            [
             0.1111111111111111,
             "#46039f"
            ],
            [
             0.2222222222222222,
             "#7201a8"
            ],
            [
             0.3333333333333333,
             "#9c179e"
            ],
            [
             0.4444444444444444,
             "#bd3786"
            ],
            [
             0.5555555555555556,
             "#d8576b"
            ],
            [
             0.6666666666666666,
             "#ed7953"
            ],
            [
             0.7777777777777778,
             "#fb9f3a"
            ],
            [
             0.8888888888888888,
             "#fdca26"
            ],
            [
             1.0,
             "#f0f921"
            ]
           ],
           "diverging": [
            [
             0,
             "#8e0152"
            ],
            [
             0.1,
             "#c51b7d"
            ],
            [
             0.2,
             "#de77ae"
            ],
            [
             0.3,
             "#f1b6da"
            ],
            [
             0.4,
             "#fde0ef"
            ],
            [
             0.5,
             "#f7f7f7"
            ],
            [
             0.6,
             "#e6f5d0"
            ],
            [
             0.7,
             "#b8e186"
            ],
            [
             0.8,
             "#7fbc41"
            ],
            [
             0.9,
             "#4d9221"
            ],
            [
             1,
             "#276419"
            ]
           ]
          },
          "xaxis": {
           "gridcolor": "white",
           "linecolor": "white",
           "ticks": "",
           "title": {
            "standoff": 15
           },
           "zerolinecolor": "white",
           "automargin": true,
           "zerolinewidth": 2
          },
          "yaxis": {
           "gridcolor": "white",
           "linecolor": "white",
           "ticks": "",
           "title": {
            "standoff": 15
           },
           "zerolinecolor": "white",
           "automargin": true,
           "zerolinewidth": 2
          },
          "scene": {
           "xaxis": {
            "backgroundcolor": "#E5ECF6",
            "gridcolor": "white",
            "linecolor": "white",
            "showbackground": true,
            "ticks": "",
            "zerolinecolor": "white",
            "gridwidth": 2
           },
           "yaxis": {
            "backgroundcolor": "#E5ECF6",
            "gridcolor": "white",
            "linecolor": "white",
            "showbackground": true,
            "ticks": "",
            "zerolinecolor": "white",
            "gridwidth": 2
           },
           "zaxis": {
            "backgroundcolor": "#E5ECF6",
            "gridcolor": "white",
            "linecolor": "white",
            "showbackground": true,
            "ticks": "",
            "zerolinecolor": "white",
            "gridwidth": 2
           }
          },
          "shapedefaults": {
           "line": {
            "color": "#2a3f5f"
           }
          },
          "annotationdefaults": {
           "arrowcolor": "#2a3f5f",
           "arrowhead": 0,
           "arrowwidth": 1
          },
          "geo": {
           "bgcolor": "white",
           "landcolor": "#E5ECF6",
           "subunitcolor": "white",
           "showland": true,
           "showlakes": true,
           "lakecolor": "white"
          },
          "title": {
           "x": 0.05
          },
          "mapbox": {
           "style": "light"
          }
         }
        },
        "title": {
         "text": "$M_{opt}\\text{ for every 250 games for different values of }n^{∗}$"
        },
        "xaxis": {
         "title": {
          "text": "$game$"
         }
        },
        "yaxis": {
         "title": {
          "text": "$M_{opt}$"
         }
        },
        "width": 1200,
        "height": 400
       },
       "config": {
        "plotlyServerURL": "https://plot.ly"
       }
      },
      "text/html": "<div>                            <div id=\"2cb88c76-54c4-4beb-9d6a-76d12bb2a7e6\" class=\"plotly-graph-div\" style=\"height:400px; width:1200px;\"></div>            <script type=\"text/javascript\">                require([\"plotly\"], function(Plotly) {                    window.PLOTLYENV=window.PLOTLYENV || {};                                    if (document.getElementById(\"2cb88c76-54c4-4beb-9d6a-76d12bb2a7e6\")) {                    Plotly.newPlot(                        \"2cb88c76-54c4-4beb-9d6a-76d12bb2a7e6\",                        [{\"mode\":\"lines\",\"name\":\"$n^* = 1$\",\"x\":[249,499,749,999,1249,1499,1749,1999,2249,2499,2749,2999,3249,3499,3749,3999,4249,4499,4749,4999,5249,5499,5749,5999,6249,6499,6749,6999,7249,7499,7749,7999,8249,8499,8749,8999,9249,9499,9749,9999,10249,10499,10749,10999,11249,11499,11749,11999,12249,12499,12749,12999,13249,13499,13749,13999,14249,14499,14749,14999,15249,15499,15749,15999,16249,16499,16749,16999,17249,17499,17749,17999,18249,18499,18749,18999,19249,19499,19749,19999],\"y\":[-1.0,-0.742,-1.0,-1.0,-1.0,-1.0,-1.0,-1.0,-1.0,-0.904,-1.0,-1.0,-1.0,-0.878,-0.904,-1.0,-0.804,-0.802,-0.812,-0.474,-0.894,-1.0,-0.498,-1.0,-0.772,-0.414,-0.314,-0.442,-0.624,-0.402,-0.498,-0.406,-0.198,-0.53,-0.104,-0.116,-0.344,-0.188,0.0,0.0,-0.11,-0.11,-0.074,-0.078,-0.276,-0.302,-0.274,0.0,0.0,0.0,-0.122,0.0,-0.122,-0.178,0.0,-0.08,-0.114,-0.08,-0.212,-0.204,0.0,-0.102,-0.084,0.0,0.0,0.0,0.0,0.0,0.0,0.0,0.0,0.0,0.0,0.0,0.0,0.0,-0.202,-0.196,0.0,0.0],\"type\":\"scatter\"},{\"mode\":\"lines\",\"name\":\"$n^* = 4000$\",\"x\":[249,499,749,999,1249,1499,1749,1999,2249,2499,2749,2999,3249,3499,3749,3999,4249,4499,4749,4999,5249,5499,5749,5999,6249,6499,6749,6999,7249,7499,7749,7999,8249,8499,8749,8999,9249,9499,9749,9999,10249,10499,10749,10999,11249,11499,11749,11999,12249,12499,12749,12999,13249,13499,13749,13999,14249,14499,14749,14999,15249,15499,15749,15999,16249,16499,16749,16999,17249,17499,17749,17999,18249,18499,18749,18999,19249,19499,19749,19999],\"y\":[-1.0,-1.0,-1.0,-0.95,-1.0,-0.88,-1.0,-1.0,-0.684,-0.54,-1.0,-0.618,-0.362,-0.43,-0.396,-0.368,-0.278,-0.306,-0.224,-0.544,-0.538,-0.394,-0.392,-0.388,-0.072,0.0,-0.194,-0.198,-0.808,-0.892,-0.498,-0.408,-0.418,-0.498,-0.498,-0.498,-0.174,-0.168,-0.168,-0.198,-0.196,-0.218,-0.202,-0.188,-0.194,-0.188,-0.378,-0.41,-0.204,-0.184,-0.198,0.0,0.0,0.0,-0.09,0.0,0.0,0.0,0.0,0.0,0.0,0.0,0.0,0.0,0.0,0.0,0.0,0.0,0.0,0.0,0.0,0.0,0.0,0.0,0.0,0.0,0.0,0.0,0.0,0.0],\"type\":\"scatter\"},{\"mode\":\"lines\",\"name\":\"$n^* = 8000$\",\"x\":[249,499,749,999,1249,1499,1749,1999,2249,2499,2749,2999,3249,3499,3749,3999,4249,4499,4749,4999,5249,5499,5749,5999,6249,6499,6749,6999,7249,7499,7749,7999,8249,8499,8749,8999,9249,9499,9749,9999,10249,10499,10749,10999,11249,11499,11749,11999,12249,12499,12749,12999,13249,13499,13749,13999,14249,14499,14749,14999,15249,15499,15749,15999,16249,16499,16749,16999,17249,17499,17749,17999,18249,18499,18749,18999,19249,19499,19749,19999],\"y\":[-1.0,-1.0,-1.0,-1.0,-1.0,-1.0,-0.872,-1.0,-0.916,-0.816,-0.542,-0.658,-0.714,-0.606,-0.53,-0.272,-0.298,-0.292,-0.1,-0.234,-0.18,-0.108,-0.2,-0.21,-0.498,-0.398,-0.314,-0.498,-0.188,-0.106,-0.19,-0.118,-0.104,-0.286,-0.108,0.0,0.0,0.0,0.0,0.0,0.0,0.0,0.0,0.0,0.0,0.0,-0.076,-0.096,0.0,0.0,0.0,-0.228,-0.168,-0.184,-0.4,-0.41,-0.402,-0.194,-0.206,-0.202,-0.168,-0.208,-0.198,-0.19,-0.212,-0.178,-0.208,-0.194,-0.196,-0.214,-0.206,-0.18,-0.2,-0.212,-0.216,-0.188,-0.17,-0.182,-0.218,-0.21],\"type\":\"scatter\"},{\"mode\":\"lines\",\"name\":\"$n^* = 12000$\",\"x\":[249,499,749,999,1249,1499,1749,1999,2249,2499,2749,2999,3249,3499,3749,3999,4249,4499,4749,4999,5249,5499,5749,5999,6249,6499,6749,6999,7249,7499,7749,7999,8249,8499,8749,8999,9249,9499,9749,9999,10249,10499,10749,10999,11249,11499,11749,11999,12249,12499,12749,12999,13249,13499,13749,13999,14249,14499,14749,14999,15249,15499,15749,15999,16249,16499,16749,16999,17249,17499,17749,17999,18249,18499,18749,18999,19249,19499,19749,19999],\"y\":[-1.0,-1.0,-1.0,-1.0,-1.0,-1.0,-1.0,-0.852,-1.0,-0.876,-0.22,-0.514,-0.302,-0.096,-0.088,-0.106,-0.098,-0.274,-0.08,-0.106,-0.112,-0.098,0.0,-0.184,0.0,0.0,0.0,0.0,0.0,-0.212,-0.172,0.0,0.0,0.0,-0.32,-0.294,-0.308,-0.086,0.0,-0.162,-0.218,-0.19,-0.078,-0.088,0.0,0.0,0.0,0.0,-0.182,0.0,0.0,0.0,-0.202,-0.174,0.0,0.0,0.0,-0.19,-0.172,0.0,0.0,0.0,0.0,0.0,0.0,0.0,0.0,0.0,0.0,0.0,0.0,0.0,0.0,0.0,0.0,0.0,0.0,0.0,0.0,-0.208],\"type\":\"scatter\"},{\"mode\":\"lines\",\"name\":\"$n^* = 16000$\",\"x\":[249,499,749,999,1249,1499,1749,1999,2249,2499,2749,2999,3249,3499,3749,3999,4249,4499,4749,4999,5249,5499,5749,5999,6249,6499,6749,6999,7249,7499,7749,7999,8249,8499,8749,8999,9249,9499,9749,9999,10249,10499,10749,10999,11249,11499,11749,11999,12249,12499,12749,12999,13249,13499,13749,13999,14249,14499,14749,14999,15249,15499,15749,15999,16249,16499,16749,16999,17249,17499,17749,17999,18249,18499,18749,18999,19249,19499,19749,19999],\"y\":[-1.0,-1.0,-1.0,-1.0,-1.0,-1.0,-0.89,-0.878,-0.538,-0.644,-0.696,-0.42,-0.506,-0.562,-0.466,-0.494,-0.246,-0.464,-0.434,-0.348,-0.096,-0.302,-0.414,-0.41,-0.498,-0.28,-0.104,-0.292,-0.392,-0.498,-0.318,-0.326,-0.208,-0.094,0.0,0.0,0.0,0.0,0.0,-0.088,0.0,-0.094,-0.112,-0.1,-0.104,-0.094,-0.23,-0.202,-0.404,0.0,0.0,0.0,0.0,0.0,0.0,0.0,-0.062,-0.174,0.0,0.0,0.0,0.0,0.0,0.0,0.0,0.0,0.0,0.0,0.0,0.0,0.0,0.0,0.0,0.0,0.0,-0.074,-0.08,0.0,-0.198,0.0],\"type\":\"scatter\"},{\"mode\":\"lines\",\"name\":\"$n^* = 20000$\",\"x\":[249,499,749,999,1249,1499,1749,1999,2249,2499,2749,2999,3249,3499,3749,3999,4249,4499,4749,4999,5249,5499,5749,5999,6249,6499,6749,6999,7249,7499,7749,7999,8249,8499,8749,8999,9249,9499,9749,9999,10249,10499,10749,10999,11249,11499,11749,11999,12249,12499,12749,12999,13249,13499,13749,13999,14249,14499,14749,14999,15249,15499,15749,15999,16249,16499,16749,16999,17249,17499,17749,17999,18249,18499,18749,18999,19249,19499,19749,19999],\"y\":[-1.0,-1.0,-0.916,-1.0,-0.88,-0.852,-0.878,-0.7,-0.664,-0.808,-0.682,-0.716,-0.65,-0.698,-0.548,-0.46,-0.528,-0.194,-0.584,-0.388,-0.28,-0.102,-0.104,-0.11,-0.158,-0.438,-0.388,-0.37,-0.464,-0.388,-0.266,-0.398,-0.31,-0.31,-0.192,-0.308,-0.206,-0.378,-0.202,-0.182,-0.394,-0.396,-0.42,-0.318,-0.208,-0.4,-0.096,-0.294,-0.21,-0.1,-0.086,-0.104,-0.092,-0.102,-0.088,-0.322,-0.096,-0.11,0.0,0.0,0.0,0.0,0.0,0.0,-0.412,-0.212,-0.406,-0.22,-0.202,-0.26,-0.206,-0.2,-0.206,-0.22,0.0,-0.196,0.0,-0.216,0.0,-0.552],\"type\":\"scatter\"},{\"mode\":\"lines\",\"name\":\"$n^* = 24000$\",\"x\":[249,499,749,999,1249,1499,1749,1999,2249,2499,2749,2999,3249,3499,3749,3999,4249,4499,4749,4999,5249,5499,5749,5999,6249,6499,6749,6999,7249,7499,7749,7999,8249,8499,8749,8999,9249,9499,9749,9999,10249,10499,10749,10999,11249,11499,11749,11999,12249,12499,12749,12999,13249,13499,13749,13999,14249,14499,14749,14999,15249,15499,15749,15999,16249,16499,16749,16999,17249,17499,17749,17999,18249,18499,18749,18999,19249,19499,19749,19999],\"y\":[-1.0,-1.0,-1.0,-1.0,-1.0,-1.0,-1.0,-1.0,-0.874,-0.752,-0.56,-0.454,-0.75,-0.418,-0.456,-0.294,-0.3,-0.276,-0.392,-0.766,-0.408,-0.176,-0.29,-0.304,-0.308,-0.3,-0.42,-0.212,-0.43,-0.27,-0.278,-0.29,-0.208,-0.092,-0.22,-0.204,-0.236,-0.2,-0.094,-0.218,-0.114,-0.094,-0.088,-0.094,-0.084,-0.11,-0.224,-0.204,-0.078,-0.244,0.0,0.0,-0.096,-0.088,-0.09,-0.208,0.0,0.0,0.0,-0.07,0.0,0.0,0.0,0.0,0.0,0.0,0.0,0.0,0.0,0.0,0.0,0.0,0.0,0.0,0.0,0.0,0.0,0.0,-0.036,0.0],\"type\":\"scatter\"},{\"mode\":\"lines\",\"name\":\"$n^* = 28000$\",\"x\":[249,499,749,999,1249,1499,1749,1999,2249,2499,2749,2999,3249,3499,3749,3999,4249,4499,4749,4999,5249,5499,5749,5999,6249,6499,6749,6999,7249,7499,7749,7999,8249,8499,8749,8999,9249,9499,9749,9999,10249,10499,10749,10999,11249,11499,11749,11999,12249,12499,12749,12999,13249,13499,13749,13999,14249,14499,14749,14999,15249,15499,15749,15999,16249,16499,16749,16999,17249,17499,17749,17999,18249,18499,18749,18999,19249,19499,19749,19999],\"y\":[-1.0,-1.0,-1.0,-1.0,-1.0,-1.0,-0.802,-0.802,-0.856,-0.854,-0.868,-0.78,-0.678,-0.432,-0.674,-0.468,-0.636,-0.368,-0.66,-0.434,-0.418,-0.214,-0.626,-0.402,-0.628,-0.128,-0.166,0.0,-0.088,-0.31,-0.14,-0.112,-0.382,-0.112,-0.214,-0.328,-0.32,-0.454,-0.312,-0.3,-0.32,-0.294,-0.11,-0.086,-0.186,-0.23,-0.168,-0.23,-0.238,-0.194,-0.334,-0.312,-0.368,-0.188,-0.192,-0.178,-0.408,-0.174,-0.186,0.0,-0.204,-0.176,-0.202,-0.22,-0.188,-0.178,-0.222,-0.214,0.0,0.0,0.0,0.0,-0.216,0.0,0.0,0.0,0.0,0.0,0.0,0.0],\"type\":\"scatter\"},{\"mode\":\"lines\",\"name\":\"$n^* = 32000$\",\"x\":[249,499,749,999,1249,1499,1749,1999,2249,2499,2749,2999,3249,3499,3749,3999,4249,4499,4749,4999,5249,5499,5749,5999,6249,6499,6749,6999,7249,7499,7749,7999,8249,8499,8749,8999,9249,9499,9749,9999,10249,10499,10749,10999,11249,11499,11749,11999,12249,12499,12749,12999,13249,13499,13749,13999,14249,14499,14749,14999,15249,15499,15749,15999,16249,16499,16749,16999,17249,17499,17749,17999,18249,18499,18749,18999,19249,19499,19749,19999],\"y\":[-1.0,-1.0,-1.0,-1.0,-1.0,-0.886,-0.798,-0.816,-0.782,-0.774,-0.71,-0.898,-0.442,-0.412,-0.436,-0.498,-0.412,-0.656,-0.532,-0.56,-0.5,-0.788,-0.45,-0.488,-0.57,-0.5,-0.366,-0.272,-0.336,-0.416,-0.064,-0.158,-0.362,-0.434,-0.308,-0.366,-0.192,-0.28,-0.334,-0.338,-0.23,0.0,-0.144,-0.13,0.0,-0.058,-0.068,0.0,-0.18,-0.232,-0.2,0.0,0.0,0.0,-0.356,-0.244,0.0,0.0,0.0,-0.094,0.0,0.0,-0.194,0.0,0.0,0.0,-0.168,-0.194,-0.166,0.0,0.0,0.0,0.0,0.0,-0.182,0.0,-0.212,0.0,0.0,0.0],\"type\":\"scatter\"},{\"mode\":\"lines\",\"name\":\"$n^* = 36000$\",\"x\":[249,499,749,999,1249,1499,1749,1999,2249,2499,2749,2999,3249,3499,3749,3999,4249,4499,4749,4999,5249,5499,5749,5999,6249,6499,6749,6999,7249,7499,7749,7999,8249,8499,8749,8999,9249,9499,9749,9999,10249,10499,10749,10999,11249,11499,11749,11999,12249,12499,12749,12999,13249,13499,13749,13999,14249,14499,14749,14999,15249,15499,15749,15999,16249,16499,16749,16999,17249,17499,17749,17999,18249,18499,18749,18999,19249,19499,19749,19999],\"y\":[-1.0,-1.0,-1.0,-1.0,-1.0,-0.888,-0.692,-1.0,-1.0,-1.0,-0.88,-0.638,-0.632,-0.498,-0.546,-0.594,-0.18,-0.44,-0.444,-0.38,-0.436,-0.288,-0.216,-0.298,-0.322,-0.332,-0.306,-0.338,-0.194,-0.294,-0.402,-0.388,-0.4,-0.236,-0.488,-0.448,-0.322,-0.096,-0.096,-0.116,-0.134,-0.224,-0.232,-0.104,0.0,0.0,0.0,0.0,0.0,0.0,0.0,0.0,-0.074,-0.102,0.0,0.0,-0.104,-0.08,0.0,0.0,0.0,0.0,0.0,0.0,0.0,0.0,-0.112,-0.116,0.0,0.0,0.0,0.0,0.0,0.0,0.0,0.0,0.0,-0.318,-0.088,-0.124],\"type\":\"scatter\"},{\"mode\":\"lines\",\"name\":\"$n^* = 40000$\",\"x\":[249,499,749,999,1249,1499,1749,1999,2249,2499,2749,2999,3249,3499,3749,3999,4249,4499,4749,4999,5249,5499,5749,5999,6249,6499,6749,6999,7249,7499,7749,7999,8249,8499,8749,8999,9249,9499,9749,9999,10249,10499,10749,10999,11249,11499,11749,11999,12249,12499,12749,12999,13249,13499,13749,13999,14249,14499,14749,14999,15249,15499,15749,15999,16249,16499,16749,16999,17249,17499,17749,17999,18249,18499,18749,18999,19249,19499,19749,19999],\"y\":[-1.0,-1.0,-1.0,-1.0,-1.0,-1.0,-0.794,-1.0,-0.868,-0.858,-0.868,-0.876,-0.768,-0.45,-0.462,-0.088,-0.104,0.0,0.0,-0.122,-0.116,-0.088,0.0,-0.098,-0.594,-0.588,-0.11,-0.108,-0.076,-0.118,-0.18,-0.304,-0.258,-0.33,-0.518,-0.3,-0.468,-0.154,-0.112,-0.152,-0.11,-0.108,-0.282,-0.25,-0.392,-0.294,-0.498,-0.23,-0.11,-0.056,-0.222,-0.178,0.0,0.0,0.0,-0.216,-0.1,-0.09,-0.226,-0.114,-0.116,-0.116,-0.08,-0.094,-0.082,0.0,-0.114,-0.11,-0.094,-0.116,0.0,-0.188,-0.292,-0.114,-0.09,-0.082,-0.182,0.0,-0.142,-0.108],\"type\":\"scatter\"}],                        {\"template\":{\"data\":{\"histogram2dcontour\":[{\"type\":\"histogram2dcontour\",\"colorbar\":{\"outlinewidth\":0,\"ticks\":\"\"},\"colorscale\":[[0.0,\"#0d0887\"],[0.1111111111111111,\"#46039f\"],[0.2222222222222222,\"#7201a8\"],[0.3333333333333333,\"#9c179e\"],[0.4444444444444444,\"#bd3786\"],[0.5555555555555556,\"#d8576b\"],[0.6666666666666666,\"#ed7953\"],[0.7777777777777778,\"#fb9f3a\"],[0.8888888888888888,\"#fdca26\"],[1.0,\"#f0f921\"]]}],\"choropleth\":[{\"type\":\"choropleth\",\"colorbar\":{\"outlinewidth\":0,\"ticks\":\"\"}}],\"histogram2d\":[{\"type\":\"histogram2d\",\"colorbar\":{\"outlinewidth\":0,\"ticks\":\"\"},\"colorscale\":[[0.0,\"#0d0887\"],[0.1111111111111111,\"#46039f\"],[0.2222222222222222,\"#7201a8\"],[0.3333333333333333,\"#9c179e\"],[0.4444444444444444,\"#bd3786\"],[0.5555555555555556,\"#d8576b\"],[0.6666666666666666,\"#ed7953\"],[0.7777777777777778,\"#fb9f3a\"],[0.8888888888888888,\"#fdca26\"],[1.0,\"#f0f921\"]]}],\"heatmap\":[{\"type\":\"heatmap\",\"colorbar\":{\"outlinewidth\":0,\"ticks\":\"\"},\"colorscale\":[[0.0,\"#0d0887\"],[0.1111111111111111,\"#46039f\"],[0.2222222222222222,\"#7201a8\"],[0.3333333333333333,\"#9c179e\"],[0.4444444444444444,\"#bd3786\"],[0.5555555555555556,\"#d8576b\"],[0.6666666666666666,\"#ed7953\"],[0.7777777777777778,\"#fb9f3a\"],[0.8888888888888888,\"#fdca26\"],[1.0,\"#f0f921\"]]}],\"heatmapgl\":[{\"type\":\"heatmapgl\",\"colorbar\":{\"outlinewidth\":0,\"ticks\":\"\"},\"colorscale\":[[0.0,\"#0d0887\"],[0.1111111111111111,\"#46039f\"],[0.2222222222222222,\"#7201a8\"],[0.3333333333333333,\"#9c179e\"],[0.4444444444444444,\"#bd3786\"],[0.5555555555555556,\"#d8576b\"],[0.6666666666666666,\"#ed7953\"],[0.7777777777777778,\"#fb9f3a\"],[0.8888888888888888,\"#fdca26\"],[1.0,\"#f0f921\"]]}],\"contourcarpet\":[{\"type\":\"contourcarpet\",\"colorbar\":{\"outlinewidth\":0,\"ticks\":\"\"}}],\"contour\":[{\"type\":\"contour\",\"colorbar\":{\"outlinewidth\":0,\"ticks\":\"\"},\"colorscale\":[[0.0,\"#0d0887\"],[0.1111111111111111,\"#46039f\"],[0.2222222222222222,\"#7201a8\"],[0.3333333333333333,\"#9c179e\"],[0.4444444444444444,\"#bd3786\"],[0.5555555555555556,\"#d8576b\"],[0.6666666666666666,\"#ed7953\"],[0.7777777777777778,\"#fb9f3a\"],[0.8888888888888888,\"#fdca26\"],[1.0,\"#f0f921\"]]}],\"surface\":[{\"type\":\"surface\",\"colorbar\":{\"outlinewidth\":0,\"ticks\":\"\"},\"colorscale\":[[0.0,\"#0d0887\"],[0.1111111111111111,\"#46039f\"],[0.2222222222222222,\"#7201a8\"],[0.3333333333333333,\"#9c179e\"],[0.4444444444444444,\"#bd3786\"],[0.5555555555555556,\"#d8576b\"],[0.6666666666666666,\"#ed7953\"],[0.7777777777777778,\"#fb9f3a\"],[0.8888888888888888,\"#fdca26\"],[1.0,\"#f0f921\"]]}],\"mesh3d\":[{\"type\":\"mesh3d\",\"colorbar\":{\"outlinewidth\":0,\"ticks\":\"\"}}],\"scatter\":[{\"fillpattern\":{\"fillmode\":\"overlay\",\"size\":10,\"solidity\":0.2},\"type\":\"scatter\"}],\"parcoords\":[{\"type\":\"parcoords\",\"line\":{\"colorbar\":{\"outlinewidth\":0,\"ticks\":\"\"}}}],\"scatterpolargl\":[{\"type\":\"scatterpolargl\",\"marker\":{\"colorbar\":{\"outlinewidth\":0,\"ticks\":\"\"}}}],\"bar\":[{\"error_x\":{\"color\":\"#2a3f5f\"},\"error_y\":{\"color\":\"#2a3f5f\"},\"marker\":{\"line\":{\"color\":\"#E5ECF6\",\"width\":0.5},\"pattern\":{\"fillmode\":\"overlay\",\"size\":10,\"solidity\":0.2}},\"type\":\"bar\"}],\"scattergeo\":[{\"type\":\"scattergeo\",\"marker\":{\"colorbar\":{\"outlinewidth\":0,\"ticks\":\"\"}}}],\"scatterpolar\":[{\"type\":\"scatterpolar\",\"marker\":{\"colorbar\":{\"outlinewidth\":0,\"ticks\":\"\"}}}],\"histogram\":[{\"marker\":{\"pattern\":{\"fillmode\":\"overlay\",\"size\":10,\"solidity\":0.2}},\"type\":\"histogram\"}],\"scattergl\":[{\"type\":\"scattergl\",\"marker\":{\"colorbar\":{\"outlinewidth\":0,\"ticks\":\"\"}}}],\"scatter3d\":[{\"type\":\"scatter3d\",\"line\":{\"colorbar\":{\"outlinewidth\":0,\"ticks\":\"\"}},\"marker\":{\"colorbar\":{\"outlinewidth\":0,\"ticks\":\"\"}}}],\"scattermapbox\":[{\"type\":\"scattermapbox\",\"marker\":{\"colorbar\":{\"outlinewidth\":0,\"ticks\":\"\"}}}],\"scatterternary\":[{\"type\":\"scatterternary\",\"marker\":{\"colorbar\":{\"outlinewidth\":0,\"ticks\":\"\"}}}],\"scattercarpet\":[{\"type\":\"scattercarpet\",\"marker\":{\"colorbar\":{\"outlinewidth\":0,\"ticks\":\"\"}}}],\"carpet\":[{\"aaxis\":{\"endlinecolor\":\"#2a3f5f\",\"gridcolor\":\"white\",\"linecolor\":\"white\",\"minorgridcolor\":\"white\",\"startlinecolor\":\"#2a3f5f\"},\"baxis\":{\"endlinecolor\":\"#2a3f5f\",\"gridcolor\":\"white\",\"linecolor\":\"white\",\"minorgridcolor\":\"white\",\"startlinecolor\":\"#2a3f5f\"},\"type\":\"carpet\"}],\"table\":[{\"cells\":{\"fill\":{\"color\":\"#EBF0F8\"},\"line\":{\"color\":\"white\"}},\"header\":{\"fill\":{\"color\":\"#C8D4E3\"},\"line\":{\"color\":\"white\"}},\"type\":\"table\"}],\"barpolar\":[{\"marker\":{\"line\":{\"color\":\"#E5ECF6\",\"width\":0.5},\"pattern\":{\"fillmode\":\"overlay\",\"size\":10,\"solidity\":0.2}},\"type\":\"barpolar\"}],\"pie\":[{\"automargin\":true,\"type\":\"pie\"}]},\"layout\":{\"autotypenumbers\":\"strict\",\"colorway\":[\"#636efa\",\"#EF553B\",\"#00cc96\",\"#ab63fa\",\"#FFA15A\",\"#19d3f3\",\"#FF6692\",\"#B6E880\",\"#FF97FF\",\"#FECB52\"],\"font\":{\"color\":\"#2a3f5f\"},\"hovermode\":\"closest\",\"hoverlabel\":{\"align\":\"left\"},\"paper_bgcolor\":\"white\",\"plot_bgcolor\":\"#E5ECF6\",\"polar\":{\"bgcolor\":\"#E5ECF6\",\"angularaxis\":{\"gridcolor\":\"white\",\"linecolor\":\"white\",\"ticks\":\"\"},\"radialaxis\":{\"gridcolor\":\"white\",\"linecolor\":\"white\",\"ticks\":\"\"}},\"ternary\":{\"bgcolor\":\"#E5ECF6\",\"aaxis\":{\"gridcolor\":\"white\",\"linecolor\":\"white\",\"ticks\":\"\"},\"baxis\":{\"gridcolor\":\"white\",\"linecolor\":\"white\",\"ticks\":\"\"},\"caxis\":{\"gridcolor\":\"white\",\"linecolor\":\"white\",\"ticks\":\"\"}},\"coloraxis\":{\"colorbar\":{\"outlinewidth\":0,\"ticks\":\"\"}},\"colorscale\":{\"sequential\":[[0.0,\"#0d0887\"],[0.1111111111111111,\"#46039f\"],[0.2222222222222222,\"#7201a8\"],[0.3333333333333333,\"#9c179e\"],[0.4444444444444444,\"#bd3786\"],[0.5555555555555556,\"#d8576b\"],[0.6666666666666666,\"#ed7953\"],[0.7777777777777778,\"#fb9f3a\"],[0.8888888888888888,\"#fdca26\"],[1.0,\"#f0f921\"]],\"sequentialminus\":[[0.0,\"#0d0887\"],[0.1111111111111111,\"#46039f\"],[0.2222222222222222,\"#7201a8\"],[0.3333333333333333,\"#9c179e\"],[0.4444444444444444,\"#bd3786\"],[0.5555555555555556,\"#d8576b\"],[0.6666666666666666,\"#ed7953\"],[0.7777777777777778,\"#fb9f3a\"],[0.8888888888888888,\"#fdca26\"],[1.0,\"#f0f921\"]],\"diverging\":[[0,\"#8e0152\"],[0.1,\"#c51b7d\"],[0.2,\"#de77ae\"],[0.3,\"#f1b6da\"],[0.4,\"#fde0ef\"],[0.5,\"#f7f7f7\"],[0.6,\"#e6f5d0\"],[0.7,\"#b8e186\"],[0.8,\"#7fbc41\"],[0.9,\"#4d9221\"],[1,\"#276419\"]]},\"xaxis\":{\"gridcolor\":\"white\",\"linecolor\":\"white\",\"ticks\":\"\",\"title\":{\"standoff\":15},\"zerolinecolor\":\"white\",\"automargin\":true,\"zerolinewidth\":2},\"yaxis\":{\"gridcolor\":\"white\",\"linecolor\":\"white\",\"ticks\":\"\",\"title\":{\"standoff\":15},\"zerolinecolor\":\"white\",\"automargin\":true,\"zerolinewidth\":2},\"scene\":{\"xaxis\":{\"backgroundcolor\":\"#E5ECF6\",\"gridcolor\":\"white\",\"linecolor\":\"white\",\"showbackground\":true,\"ticks\":\"\",\"zerolinecolor\":\"white\",\"gridwidth\":2},\"yaxis\":{\"backgroundcolor\":\"#E5ECF6\",\"gridcolor\":\"white\",\"linecolor\":\"white\",\"showbackground\":true,\"ticks\":\"\",\"zerolinecolor\":\"white\",\"gridwidth\":2},\"zaxis\":{\"backgroundcolor\":\"#E5ECF6\",\"gridcolor\":\"white\",\"linecolor\":\"white\",\"showbackground\":true,\"ticks\":\"\",\"zerolinecolor\":\"white\",\"gridwidth\":2}},\"shapedefaults\":{\"line\":{\"color\":\"#2a3f5f\"}},\"annotationdefaults\":{\"arrowcolor\":\"#2a3f5f\",\"arrowhead\":0,\"arrowwidth\":1},\"geo\":{\"bgcolor\":\"white\",\"landcolor\":\"#E5ECF6\",\"subunitcolor\":\"white\",\"showland\":true,\"showlakes\":true,\"lakecolor\":\"white\"},\"title\":{\"x\":0.05},\"mapbox\":{\"style\":\"light\"}}},\"title\":{\"text\":\"$M_{opt}\\\\text{ for every 250 games for different values of }n^{\\u2217}$\"},\"xaxis\":{\"title\":{\"text\":\"$game$\"}},\"yaxis\":{\"title\":{\"text\":\"$M_{opt}$\"}},\"width\":1200,\"height\":400},                        {\"responsive\": true}                    ).then(function(){\n                            \nvar gd = document.getElementById('2cb88c76-54c4-4beb-9d6a-76d12bb2a7e6');\nvar x = new MutationObserver(function (mutations, observer) {{\n        var display = window.getComputedStyle(gd).display;\n        if (!display || display === 'none') {{\n            console.log([gd, 'removed!']);\n            Plotly.purge(gd);\n            observer.disconnect();\n        }}\n}});\n\n// Listen for the removal of the full notebook cells\nvar notebookContainer = gd.closest('#notebook-container');\nif (notebookContainer) {{\n    x.observe(notebookContainer, {childList: true});\n}}\n\n// Listen for the clearing of the current output cell\nvar outputEl = gd.closest('.output');\nif (outputEl) {{\n    x.observe(outputEl, {childList: true});\n}}\n\n                        })                };                });            </script>        </div>"
     },
     "metadata": {},
     "output_type": "display_data"
    }
   ],
   "source": [
    "fig = go.Figure()\n",
    "\n",
    "for i, y_i in enumerate(n_star_M_opts):\n",
    "    fig.add_trace(go.Scatter(x=x, y=y_i, mode='lines',name=r'$n^* = %d$' % n_star_list[i]))\n",
    "\n",
    "fig.update_layout(\n",
    "    title=r'$M_{opt}\\text{ for every %d games for different values of }n^{∗}$' % averaging_steps,\n",
    "    xaxis_title=r'$game$',\n",
    "    yaxis_title=r'$M_{opt}$',\n",
    "    width=1200, height=400\n",
    ")\n",
    "\n",
    "fig.show()"
   ]
  },
  {
   "cell_type": "code",
   "execution_count": 68,
   "metadata": {
    "collapsed": false,
    "pycharm": {
     "name": "#%%\n"
    }
   },
   "outputs": [
    {
     "data": {
      "application/vnd.plotly.v1+json": {
       "data": [
        {
         "mode": "lines",
         "name": "$n^* = 1$",
         "x": [
          249,
          499,
          749,
          999,
          1249,
          1499,
          1749,
          1999,
          2249,
          2499,
          2749,
          2999,
          3249,
          3499,
          3749,
          3999,
          4249,
          4499,
          4749,
          4999,
          5249,
          5499,
          5749,
          5999,
          6249,
          6499,
          6749,
          6999,
          7249,
          7499,
          7749,
          7999,
          8249,
          8499,
          8749,
          8999,
          9249,
          9499,
          9749,
          9999,
          10249,
          10499,
          10749,
          10999,
          11249,
          11499,
          11749,
          11999,
          12249,
          12499,
          12749,
          12999,
          13249,
          13499,
          13749,
          13999,
          14249,
          14499,
          14749,
          14999,
          15249,
          15499,
          15749,
          15999,
          16249,
          16499,
          16749,
          16999,
          17249,
          17499,
          17749,
          17999,
          18249,
          18499,
          18749,
          18999,
          19249,
          19499,
          19749,
          19999
         ],
         "y": [
          -0.942,
          -0.056,
          0.106,
          0.256,
          0.352,
          0.392,
          0.446,
          0.458,
          0.59,
          0.59,
          0.6,
          0.586,
          0.646,
          0.82,
          0.702,
          0.668,
          0.782,
          0.802,
          0.82,
          0.782,
          0.706,
          0.78,
          0.778,
          0.794,
          0.85,
          0.826,
          0.812,
          0.782,
          0.752,
          0.794,
          0.886,
          0.852,
          0.878,
          0.888,
          0.858,
          0.84,
          0.866,
          0.896,
          0.872,
          0.884,
          0.9,
          0.9,
          0.912,
          0.906,
          0.9,
          0.908,
          0.898,
          0.908,
          0.906,
          0.91,
          0.91,
          0.946,
          0.94,
          0.926,
          0.91,
          0.92,
          0.9,
          0.898,
          0.9,
          0.924,
          0.934,
          0.94,
          0.938,
          0.932,
          0.952,
          0.91,
          0.936,
          0.94,
          0.942,
          0.918,
          0.932,
          0.948,
          0.916,
          0.932,
          0.94,
          0.93,
          0.932,
          0.95,
          0.916,
          0.938
         ],
         "type": "scatter"
        },
        {
         "mode": "lines",
         "name": "$n^* = 4000$",
         "x": [
          249,
          499,
          749,
          999,
          1249,
          1499,
          1749,
          1999,
          2249,
          2499,
          2749,
          2999,
          3249,
          3499,
          3749,
          3999,
          4249,
          4499,
          4749,
          4999,
          5249,
          5499,
          5749,
          5999,
          6249,
          6499,
          6749,
          6999,
          7249,
          7499,
          7749,
          7999,
          8249,
          8499,
          8749,
          8999,
          9249,
          9499,
          9749,
          9999,
          10249,
          10499,
          10749,
          10999,
          11249,
          11499,
          11749,
          11999,
          12249,
          12499,
          12749,
          12999,
          13249,
          13499,
          13749,
          13999,
          14249,
          14499,
          14749,
          14999,
          15249,
          15499,
          15749,
          15999,
          16249,
          16499,
          16749,
          16999,
          17249,
          17499,
          17749,
          17999,
          18249,
          18499,
          18749,
          18999,
          19249,
          19499,
          19749,
          19999
         ],
         "y": [
          -0.328,
          0.23,
          0.748,
          0.68,
          0.744,
          0.742,
          0.794,
          0.848,
          0.864,
          0.894,
          0.874,
          0.89,
          0.892,
          0.908,
          0.92,
          0.884,
          0.868,
          0.862,
          0.894,
          0.86,
          0.894,
          0.908,
          0.886,
          0.882,
          0.826,
          0.882,
          0.834,
          0.838,
          0.846,
          0.87,
          0.884,
          0.886,
          0.872,
          0.922,
          0.92,
          0.92,
          0.9,
          0.94,
          0.928,
          0.928,
          0.946,
          0.93,
          0.922,
          0.948,
          0.908,
          0.942,
          0.896,
          0.896,
          0.914,
          0.92,
          0.916,
          0.902,
          0.918,
          0.92,
          0.926,
          0.914,
          0.954,
          0.93,
          0.918,
          0.93,
          0.934,
          0.95,
          0.942,
          0.928,
          0.9,
          0.914,
          0.928,
          0.924,
          0.884,
          0.906,
          0.954,
          0.904,
          0.896,
          0.878,
          0.91,
          0.928,
          0.934,
          0.932,
          0.916,
          0.93
         ],
         "type": "scatter"
        },
        {
         "mode": "lines",
         "name": "$n^* = 8000$",
         "x": [
          249,
          499,
          749,
          999,
          1249,
          1499,
          1749,
          1999,
          2249,
          2499,
          2749,
          2999,
          3249,
          3499,
          3749,
          3999,
          4249,
          4499,
          4749,
          4999,
          5249,
          5499,
          5749,
          5999,
          6249,
          6499,
          6749,
          6999,
          7249,
          7499,
          7749,
          7999,
          8249,
          8499,
          8749,
          8999,
          9249,
          9499,
          9749,
          9999,
          10249,
          10499,
          10749,
          10999,
          11249,
          11499,
          11749,
          11999,
          12249,
          12499,
          12749,
          12999,
          13249,
          13499,
          13749,
          13999,
          14249,
          14499,
          14749,
          14999,
          15249,
          15499,
          15749,
          15999,
          16249,
          16499,
          16749,
          16999,
          17249,
          17499,
          17749,
          17999,
          18249,
          18499,
          18749,
          18999,
          19249,
          19499,
          19749,
          19999
         ],
         "y": [
          -0.402,
          0.364,
          0.6,
          0.716,
          0.756,
          0.832,
          0.858,
          0.85,
          0.872,
          0.89,
          0.9,
          0.914,
          0.876,
          0.908,
          0.932,
          0.91,
          0.936,
          0.956,
          0.95,
          0.964,
          0.942,
          0.898,
          0.938,
          0.926,
          0.896,
          0.91,
          0.928,
          0.88,
          0.898,
          0.876,
          0.91,
          0.914,
          0.896,
          0.92,
          0.9,
          0.928,
          0.938,
          0.882,
          0.9,
          0.91,
          0.898,
          0.892,
          0.904,
          0.88,
          0.932,
          0.936,
          0.928,
          0.932,
          0.924,
          0.93,
          0.91,
          0.928,
          0.962,
          0.902,
          0.928,
          0.93,
          0.916,
          0.94,
          0.894,
          0.932,
          0.928,
          0.928,
          0.92,
          0.93,
          0.912,
          0.898,
          0.918,
          0.952,
          0.906,
          0.92,
          0.926,
          0.92,
          0.904,
          0.914,
          0.936,
          0.926,
          0.906,
          0.93,
          0.946,
          0.922
         ],
         "type": "scatter"
        },
        {
         "mode": "lines",
         "name": "$n^* = 12000$",
         "x": [
          249,
          499,
          749,
          999,
          1249,
          1499,
          1749,
          1999,
          2249,
          2499,
          2749,
          2999,
          3249,
          3499,
          3749,
          3999,
          4249,
          4499,
          4749,
          4999,
          5249,
          5499,
          5749,
          5999,
          6249,
          6499,
          6749,
          6999,
          7249,
          7499,
          7749,
          7999,
          8249,
          8499,
          8749,
          8999,
          9249,
          9499,
          9749,
          9999,
          10249,
          10499,
          10749,
          10999,
          11249,
          11499,
          11749,
          11999,
          12249,
          12499,
          12749,
          12999,
          13249,
          13499,
          13749,
          13999,
          14249,
          14499,
          14749,
          14999,
          15249,
          15499,
          15749,
          15999,
          16249,
          16499,
          16749,
          16999,
          17249,
          17499,
          17749,
          17999,
          18249,
          18499,
          18749,
          18999,
          19249,
          19499,
          19749,
          19999
         ],
         "y": [
          -0.398,
          0.062,
          0.672,
          0.694,
          0.816,
          0.804,
          0.826,
          0.846,
          0.856,
          0.876,
          0.898,
          0.864,
          0.88,
          0.924,
          0.912,
          0.89,
          0.902,
          0.91,
          0.93,
          0.88,
          0.944,
          0.93,
          0.912,
          0.926,
          0.932,
          0.926,
          0.902,
          0.906,
          0.932,
          0.936,
          0.898,
          0.932,
          0.932,
          0.94,
          0.91,
          0.938,
          0.94,
          0.928,
          0.936,
          0.932,
          0.944,
          0.922,
          0.936,
          0.938,
          0.948,
          0.938,
          0.914,
          0.924,
          0.93,
          0.902,
          0.91,
          0.926,
          0.934,
          0.932,
          0.93,
          0.934,
          0.926,
          0.94,
          0.926,
          0.96,
          0.934,
          0.91,
          0.936,
          0.928,
          0.922,
          0.904,
          0.956,
          0.91,
          0.894,
          0.904,
          0.914,
          0.918,
          0.938,
          0.924,
          0.954,
          0.93,
          0.934,
          0.938,
          0.93,
          0.904
         ],
         "type": "scatter"
        },
        {
         "mode": "lines",
         "name": "$n^* = 16000$",
         "x": [
          249,
          499,
          749,
          999,
          1249,
          1499,
          1749,
          1999,
          2249,
          2499,
          2749,
          2999,
          3249,
          3499,
          3749,
          3999,
          4249,
          4499,
          4749,
          4999,
          5249,
          5499,
          5749,
          5999,
          6249,
          6499,
          6749,
          6999,
          7249,
          7499,
          7749,
          7999,
          8249,
          8499,
          8749,
          8999,
          9249,
          9499,
          9749,
          9999,
          10249,
          10499,
          10749,
          10999,
          11249,
          11499,
          11749,
          11999,
          12249,
          12499,
          12749,
          12999,
          13249,
          13499,
          13749,
          13999,
          14249,
          14499,
          14749,
          14999,
          15249,
          15499,
          15749,
          15999,
          16249,
          16499,
          16749,
          16999,
          17249,
          17499,
          17749,
          17999,
          18249,
          18499,
          18749,
          18999,
          19249,
          19499,
          19749,
          19999
         ],
         "y": [
          -0.024,
          -0.144,
          0.516,
          0.684,
          0.758,
          0.756,
          0.896,
          0.864,
          0.864,
          0.87,
          0.902,
          0.888,
          0.862,
          0.92,
          0.906,
          0.916,
          0.936,
          0.916,
          0.928,
          0.91,
          0.908,
          0.904,
          0.918,
          0.932,
          0.894,
          0.924,
          0.88,
          0.938,
          0.914,
          0.912,
          0.942,
          0.916,
          0.932,
          0.89,
          0.936,
          0.944,
          0.942,
          0.936,
          0.938,
          0.912,
          0.93,
          0.928,
          0.948,
          0.934,
          0.96,
          0.94,
          0.95,
          0.932,
          0.952,
          0.932,
          0.944,
          0.936,
          0.936,
          0.928,
          0.922,
          0.942,
          0.938,
          0.932,
          0.902,
          0.908,
          0.94,
          0.956,
          0.922,
          0.936,
          0.942,
          0.926,
          0.932,
          0.946,
          0.9,
          0.944,
          0.92,
          0.91,
          0.944,
          0.958,
          0.936,
          0.936,
          0.962,
          0.924,
          0.928,
          0.908
         ],
         "type": "scatter"
        },
        {
         "mode": "lines",
         "name": "$n^* = 20000$",
         "x": [
          249,
          499,
          749,
          999,
          1249,
          1499,
          1749,
          1999,
          2249,
          2499,
          2749,
          2999,
          3249,
          3499,
          3749,
          3999,
          4249,
          4499,
          4749,
          4999,
          5249,
          5499,
          5749,
          5999,
          6249,
          6499,
          6749,
          6999,
          7249,
          7499,
          7749,
          7999,
          8249,
          8499,
          8749,
          8999,
          9249,
          9499,
          9749,
          9999,
          10249,
          10499,
          10749,
          10999,
          11249,
          11499,
          11749,
          11999,
          12249,
          12499,
          12749,
          12999,
          13249,
          13499,
          13749,
          13999,
          14249,
          14499,
          14749,
          14999,
          15249,
          15499,
          15749,
          15999,
          16249,
          16499,
          16749,
          16999,
          17249,
          17499,
          17749,
          17999,
          18249,
          18499,
          18749,
          18999,
          19249,
          19499,
          19749,
          19999
         ],
         "y": [
          0.1,
          0.484,
          0.584,
          0.708,
          0.722,
          0.79,
          0.8,
          0.858,
          0.874,
          0.828,
          0.876,
          0.88,
          0.874,
          0.92,
          0.886,
          0.892,
          0.894,
          0.91,
          0.89,
          0.934,
          0.92,
          0.918,
          0.92,
          0.93,
          0.948,
          0.898,
          0.922,
          0.922,
          0.916,
          0.92,
          0.872,
          0.9,
          0.938,
          0.93,
          0.926,
          0.902,
          0.92,
          0.922,
          0.924,
          0.922,
          0.922,
          0.936,
          0.924,
          0.932,
          0.946,
          0.928,
          0.924,
          0.926,
          0.924,
          0.954,
          0.926,
          0.934,
          0.94,
          0.916,
          0.94,
          0.954,
          0.938,
          0.944,
          0.944,
          0.956,
          0.932,
          0.94,
          0.94,
          0.948,
          0.93,
          0.96,
          0.942,
          0.932,
          0.936,
          0.93,
          0.954,
          0.94,
          0.94,
          0.94,
          0.94,
          0.934,
          0.926,
          0.952,
          0.924,
          0.926
         ],
         "type": "scatter"
        },
        {
         "mode": "lines",
         "name": "$n^* = 24000$",
         "x": [
          249,
          499,
          749,
          999,
          1249,
          1499,
          1749,
          1999,
          2249,
          2499,
          2749,
          2999,
          3249,
          3499,
          3749,
          3999,
          4249,
          4499,
          4749,
          4999,
          5249,
          5499,
          5749,
          5999,
          6249,
          6499,
          6749,
          6999,
          7249,
          7499,
          7749,
          7999,
          8249,
          8499,
          8749,
          8999,
          9249,
          9499,
          9749,
          9999,
          10249,
          10499,
          10749,
          10999,
          11249,
          11499,
          11749,
          11999,
          12249,
          12499,
          12749,
          12999,
          13249,
          13499,
          13749,
          13999,
          14249,
          14499,
          14749,
          14999,
          15249,
          15499,
          15749,
          15999,
          16249,
          16499,
          16749,
          16999,
          17249,
          17499,
          17749,
          17999,
          18249,
          18499,
          18749,
          18999,
          19249,
          19499,
          19749,
          19999
         ],
         "y": [
          -0.31,
          0.278,
          0.696,
          0.736,
          0.86,
          0.758,
          0.808,
          0.814,
          0.884,
          0.842,
          0.876,
          0.868,
          0.876,
          0.86,
          0.872,
          0.902,
          0.886,
          0.888,
          0.888,
          0.872,
          0.884,
          0.88,
          0.9,
          0.89,
          0.904,
          0.922,
          0.906,
          0.918,
          0.91,
          0.89,
          0.9,
          0.904,
          0.868,
          0.906,
          0.956,
          0.926,
          0.924,
          0.912,
          0.922,
          0.938,
          0.904,
          0.924,
          0.938,
          0.934,
          0.924,
          0.936,
          0.934,
          0.928,
          0.946,
          0.918,
          0.93,
          0.95,
          0.93,
          0.916,
          0.934,
          0.942,
          0.95,
          0.93,
          0.946,
          0.934,
          0.942,
          0.938,
          0.946,
          0.942,
          0.962,
          0.954,
          0.954,
          0.956,
          0.948,
          0.93,
          0.944,
          0.936,
          0.948,
          0.936,
          0.938,
          0.91,
          0.924,
          0.946,
          0.94,
          0.946
         ],
         "type": "scatter"
        },
        {
         "mode": "lines",
         "name": "$n^* = 28000$",
         "x": [
          249,
          499,
          749,
          999,
          1249,
          1499,
          1749,
          1999,
          2249,
          2499,
          2749,
          2999,
          3249,
          3499,
          3749,
          3999,
          4249,
          4499,
          4749,
          4999,
          5249,
          5499,
          5749,
          5999,
          6249,
          6499,
          6749,
          6999,
          7249,
          7499,
          7749,
          7999,
          8249,
          8499,
          8749,
          8999,
          9249,
          9499,
          9749,
          9999,
          10249,
          10499,
          10749,
          10999,
          11249,
          11499,
          11749,
          11999,
          12249,
          12499,
          12749,
          12999,
          13249,
          13499,
          13749,
          13999,
          14249,
          14499,
          14749,
          14999,
          15249,
          15499,
          15749,
          15999,
          16249,
          16499,
          16749,
          16999,
          17249,
          17499,
          17749,
          17999,
          18249,
          18499,
          18749,
          18999,
          19249,
          19499,
          19749,
          19999
         ],
         "y": [
          -0.108,
          0.384,
          0.476,
          0.404,
          0.762,
          0.842,
          0.812,
          0.832,
          0.818,
          0.836,
          0.834,
          0.882,
          0.928,
          0.89,
          0.884,
          0.896,
          0.904,
          0.856,
          0.884,
          0.894,
          0.906,
          0.922,
          0.884,
          0.928,
          0.926,
          0.918,
          0.904,
          0.9,
          0.912,
          0.92,
          0.948,
          0.926,
          0.944,
          0.896,
          0.944,
          0.922,
          0.944,
          0.93,
          0.92,
          0.944,
          0.93,
          0.936,
          0.944,
          0.93,
          0.932,
          0.936,
          0.942,
          0.946,
          0.948,
          0.946,
          0.944,
          0.932,
          0.936,
          0.93,
          0.944,
          0.928,
          0.932,
          0.946,
          0.924,
          0.944,
          0.936,
          0.93,
          0.948,
          0.948,
          0.94,
          0.966,
          0.966,
          0.922,
          0.95,
          0.97,
          0.95,
          0.94,
          0.934,
          0.942,
          0.966,
          0.964,
          0.938,
          0.956,
          0.946,
          0.95
         ],
         "type": "scatter"
        },
        {
         "mode": "lines",
         "name": "$n^* = 32000$",
         "x": [
          249,
          499,
          749,
          999,
          1249,
          1499,
          1749,
          1999,
          2249,
          2499,
          2749,
          2999,
          3249,
          3499,
          3749,
          3999,
          4249,
          4499,
          4749,
          4999,
          5249,
          5499,
          5749,
          5999,
          6249,
          6499,
          6749,
          6999,
          7249,
          7499,
          7749,
          7999,
          8249,
          8499,
          8749,
          8999,
          9249,
          9499,
          9749,
          9999,
          10249,
          10499,
          10749,
          10999,
          11249,
          11499,
          11749,
          11999,
          12249,
          12499,
          12749,
          12999,
          13249,
          13499,
          13749,
          13999,
          14249,
          14499,
          14749,
          14999,
          15249,
          15499,
          15749,
          15999,
          16249,
          16499,
          16749,
          16999,
          17249,
          17499,
          17749,
          17999,
          18249,
          18499,
          18749,
          18999,
          19249,
          19499,
          19749,
          19999
         ],
         "y": [
          -0.482,
          0.026,
          0.598,
          0.712,
          0.774,
          0.84,
          0.87,
          0.894,
          0.868,
          0.906,
          0.872,
          0.924,
          0.886,
          0.928,
          0.926,
          0.93,
          0.93,
          0.91,
          0.922,
          0.918,
          0.914,
          0.892,
          0.896,
          0.902,
          0.934,
          0.902,
          0.916,
          0.912,
          0.906,
          0.918,
          0.91,
          0.88,
          0.906,
          0.926,
          0.92,
          0.95,
          0.934,
          0.936,
          0.956,
          0.926,
          0.928,
          0.93,
          0.93,
          0.942,
          0.938,
          0.944,
          0.948,
          0.944,
          0.924,
          0.934,
          0.932,
          0.938,
          0.892,
          0.932,
          0.91,
          0.932,
          0.934,
          0.946,
          0.94,
          0.95,
          0.928,
          0.934,
          0.95,
          0.95,
          0.932,
          0.962,
          0.972,
          0.954,
          0.922,
          0.95,
          0.962,
          0.926,
          0.944,
          0.924,
          0.946,
          0.934,
          0.94,
          0.944,
          0.908,
          0.96
         ],
         "type": "scatter"
        },
        {
         "mode": "lines",
         "name": "$n^* = 36000$",
         "x": [
          249,
          499,
          749,
          999,
          1249,
          1499,
          1749,
          1999,
          2249,
          2499,
          2749,
          2999,
          3249,
          3499,
          3749,
          3999,
          4249,
          4499,
          4749,
          4999,
          5249,
          5499,
          5749,
          5999,
          6249,
          6499,
          6749,
          6999,
          7249,
          7499,
          7749,
          7999,
          8249,
          8499,
          8749,
          8999,
          9249,
          9499,
          9749,
          9999,
          10249,
          10499,
          10749,
          10999,
          11249,
          11499,
          11749,
          11999,
          12249,
          12499,
          12749,
          12999,
          13249,
          13499,
          13749,
          13999,
          14249,
          14499,
          14749,
          14999,
          15249,
          15499,
          15749,
          15999,
          16249,
          16499,
          16749,
          16999,
          17249,
          17499,
          17749,
          17999,
          18249,
          18499,
          18749,
          18999,
          19249,
          19499,
          19749,
          19999
         ],
         "y": [
          -0.25,
          0.306,
          0.558,
          0.674,
          0.752,
          0.744,
          0.79,
          0.85,
          0.892,
          0.832,
          0.882,
          0.898,
          0.884,
          0.874,
          0.954,
          0.93,
          0.896,
          0.936,
          0.928,
          0.926,
          0.96,
          0.93,
          0.882,
          0.942,
          0.884,
          0.926,
          0.894,
          0.948,
          0.904,
          0.924,
          0.92,
          0.91,
          0.938,
          0.932,
          0.918,
          0.916,
          0.934,
          0.94,
          0.924,
          0.938,
          0.914,
          0.93,
          0.97,
          0.962,
          0.932,
          0.946,
          0.944,
          0.95,
          0.928,
          0.942,
          0.952,
          0.944,
          0.944,
          0.94,
          0.946,
          0.958,
          0.95,
          0.962,
          0.968,
          0.966,
          0.944,
          0.946,
          0.95,
          0.944,
          0.94,
          0.952,
          0.944,
          0.936,
          0.94,
          0.958,
          0.95,
          0.95,
          0.948,
          0.948,
          0.938,
          0.96,
          0.954,
          0.948,
          0.948,
          0.946
         ],
         "type": "scatter"
        },
        {
         "mode": "lines",
         "name": "$n^* = 40000$",
         "x": [
          249,
          499,
          749,
          999,
          1249,
          1499,
          1749,
          1999,
          2249,
          2499,
          2749,
          2999,
          3249,
          3499,
          3749,
          3999,
          4249,
          4499,
          4749,
          4999,
          5249,
          5499,
          5749,
          5999,
          6249,
          6499,
          6749,
          6999,
          7249,
          7499,
          7749,
          7999,
          8249,
          8499,
          8749,
          8999,
          9249,
          9499,
          9749,
          9999,
          10249,
          10499,
          10749,
          10999,
          11249,
          11499,
          11749,
          11999,
          12249,
          12499,
          12749,
          12999,
          13249,
          13499,
          13749,
          13999,
          14249,
          14499,
          14749,
          14999,
          15249,
          15499,
          15749,
          15999,
          16249,
          16499,
          16749,
          16999,
          17249,
          17499,
          17749,
          17999,
          18249,
          18499,
          18749,
          18999,
          19249,
          19499,
          19749,
          19999
         ],
         "y": [
          -0.612,
          -0.096,
          0.538,
          0.744,
          0.828,
          0.842,
          0.784,
          0.904,
          0.866,
          0.878,
          0.892,
          0.896,
          0.914,
          0.91,
          0.886,
          0.894,
          0.918,
          0.906,
          0.912,
          0.942,
          0.878,
          0.858,
          0.894,
          0.864,
          0.878,
          0.902,
          0.91,
          0.928,
          0.924,
          0.93,
          0.902,
          0.846,
          0.934,
          0.954,
          0.924,
          0.91,
          0.908,
          0.95,
          0.966,
          0.958,
          0.942,
          0.94,
          0.964,
          0.892,
          0.91,
          0.954,
          0.956,
          0.968,
          0.924,
          0.94,
          0.932,
          0.956,
          0.924,
          0.938,
          0.912,
          0.934,
          0.948,
          0.942,
          0.896,
          0.932,
          0.936,
          0.942,
          0.932,
          0.944,
          0.962,
          0.936,
          0.956,
          0.932,
          0.96,
          0.956,
          0.928,
          0.95,
          0.922,
          0.932,
          0.928,
          0.928,
          0.94,
          0.946,
          0.944,
          0.954
         ],
         "type": "scatter"
        }
       ],
       "layout": {
        "template": {
         "data": {
          "histogram2dcontour": [
           {
            "type": "histogram2dcontour",
            "colorbar": {
             "outlinewidth": 0,
             "ticks": ""
            },
            "colorscale": [
             [
              0.0,
              "#0d0887"
             ],
             [
              0.1111111111111111,
              "#46039f"
             ],
             [
              0.2222222222222222,
              "#7201a8"
             ],
             [
              0.3333333333333333,
              "#9c179e"
             ],
             [
              0.4444444444444444,
              "#bd3786"
             ],
             [
              0.5555555555555556,
              "#d8576b"
             ],
             [
              0.6666666666666666,
              "#ed7953"
             ],
             [
              0.7777777777777778,
              "#fb9f3a"
             ],
             [
              0.8888888888888888,
              "#fdca26"
             ],
             [
              1.0,
              "#f0f921"
             ]
            ]
           }
          ],
          "choropleth": [
           {
            "type": "choropleth",
            "colorbar": {
             "outlinewidth": 0,
             "ticks": ""
            }
           }
          ],
          "histogram2d": [
           {
            "type": "histogram2d",
            "colorbar": {
             "outlinewidth": 0,
             "ticks": ""
            },
            "colorscale": [
             [
              0.0,
              "#0d0887"
             ],
             [
              0.1111111111111111,
              "#46039f"
             ],
             [
              0.2222222222222222,
              "#7201a8"
             ],
             [
              0.3333333333333333,
              "#9c179e"
             ],
             [
              0.4444444444444444,
              "#bd3786"
             ],
             [
              0.5555555555555556,
              "#d8576b"
             ],
             [
              0.6666666666666666,
              "#ed7953"
             ],
             [
              0.7777777777777778,
              "#fb9f3a"
             ],
             [
              0.8888888888888888,
              "#fdca26"
             ],
             [
              1.0,
              "#f0f921"
             ]
            ]
           }
          ],
          "heatmap": [
           {
            "type": "heatmap",
            "colorbar": {
             "outlinewidth": 0,
             "ticks": ""
            },
            "colorscale": [
             [
              0.0,
              "#0d0887"
             ],
             [
              0.1111111111111111,
              "#46039f"
             ],
             [
              0.2222222222222222,
              "#7201a8"
             ],
             [
              0.3333333333333333,
              "#9c179e"
             ],
             [
              0.4444444444444444,
              "#bd3786"
             ],
             [
              0.5555555555555556,
              "#d8576b"
             ],
             [
              0.6666666666666666,
              "#ed7953"
             ],
             [
              0.7777777777777778,
              "#fb9f3a"
             ],
             [
              0.8888888888888888,
              "#fdca26"
             ],
             [
              1.0,
              "#f0f921"
             ]
            ]
           }
          ],
          "heatmapgl": [
           {
            "type": "heatmapgl",
            "colorbar": {
             "outlinewidth": 0,
             "ticks": ""
            },
            "colorscale": [
             [
              0.0,
              "#0d0887"
             ],
             [
              0.1111111111111111,
              "#46039f"
             ],
             [
              0.2222222222222222,
              "#7201a8"
             ],
             [
              0.3333333333333333,
              "#9c179e"
             ],
             [
              0.4444444444444444,
              "#bd3786"
             ],
             [
              0.5555555555555556,
              "#d8576b"
             ],
             [
              0.6666666666666666,
              "#ed7953"
             ],
             [
              0.7777777777777778,
              "#fb9f3a"
             ],
             [
              0.8888888888888888,
              "#fdca26"
             ],
             [
              1.0,
              "#f0f921"
             ]
            ]
           }
          ],
          "contourcarpet": [
           {
            "type": "contourcarpet",
            "colorbar": {
             "outlinewidth": 0,
             "ticks": ""
            }
           }
          ],
          "contour": [
           {
            "type": "contour",
            "colorbar": {
             "outlinewidth": 0,
             "ticks": ""
            },
            "colorscale": [
             [
              0.0,
              "#0d0887"
             ],
             [
              0.1111111111111111,
              "#46039f"
             ],
             [
              0.2222222222222222,
              "#7201a8"
             ],
             [
              0.3333333333333333,
              "#9c179e"
             ],
             [
              0.4444444444444444,
              "#bd3786"
             ],
             [
              0.5555555555555556,
              "#d8576b"
             ],
             [
              0.6666666666666666,
              "#ed7953"
             ],
             [
              0.7777777777777778,
              "#fb9f3a"
             ],
             [
              0.8888888888888888,
              "#fdca26"
             ],
             [
              1.0,
              "#f0f921"
             ]
            ]
           }
          ],
          "surface": [
           {
            "type": "surface",
            "colorbar": {
             "outlinewidth": 0,
             "ticks": ""
            },
            "colorscale": [
             [
              0.0,
              "#0d0887"
             ],
             [
              0.1111111111111111,
              "#46039f"
             ],
             [
              0.2222222222222222,
              "#7201a8"
             ],
             [
              0.3333333333333333,
              "#9c179e"
             ],
             [
              0.4444444444444444,
              "#bd3786"
             ],
             [
              0.5555555555555556,
              "#d8576b"
             ],
             [
              0.6666666666666666,
              "#ed7953"
             ],
             [
              0.7777777777777778,
              "#fb9f3a"
             ],
             [
              0.8888888888888888,
              "#fdca26"
             ],
             [
              1.0,
              "#f0f921"
             ]
            ]
           }
          ],
          "mesh3d": [
           {
            "type": "mesh3d",
            "colorbar": {
             "outlinewidth": 0,
             "ticks": ""
            }
           }
          ],
          "scatter": [
           {
            "fillpattern": {
             "fillmode": "overlay",
             "size": 10,
             "solidity": 0.2
            },
            "type": "scatter"
           }
          ],
          "parcoords": [
           {
            "type": "parcoords",
            "line": {
             "colorbar": {
              "outlinewidth": 0,
              "ticks": ""
             }
            }
           }
          ],
          "scatterpolargl": [
           {
            "type": "scatterpolargl",
            "marker": {
             "colorbar": {
              "outlinewidth": 0,
              "ticks": ""
             }
            }
           }
          ],
          "bar": [
           {
            "error_x": {
             "color": "#2a3f5f"
            },
            "error_y": {
             "color": "#2a3f5f"
            },
            "marker": {
             "line": {
              "color": "#E5ECF6",
              "width": 0.5
             },
             "pattern": {
              "fillmode": "overlay",
              "size": 10,
              "solidity": 0.2
             }
            },
            "type": "bar"
           }
          ],
          "scattergeo": [
           {
            "type": "scattergeo",
            "marker": {
             "colorbar": {
              "outlinewidth": 0,
              "ticks": ""
             }
            }
           }
          ],
          "scatterpolar": [
           {
            "type": "scatterpolar",
            "marker": {
             "colorbar": {
              "outlinewidth": 0,
              "ticks": ""
             }
            }
           }
          ],
          "histogram": [
           {
            "marker": {
             "pattern": {
              "fillmode": "overlay",
              "size": 10,
              "solidity": 0.2
             }
            },
            "type": "histogram"
           }
          ],
          "scattergl": [
           {
            "type": "scattergl",
            "marker": {
             "colorbar": {
              "outlinewidth": 0,
              "ticks": ""
             }
            }
           }
          ],
          "scatter3d": [
           {
            "type": "scatter3d",
            "line": {
             "colorbar": {
              "outlinewidth": 0,
              "ticks": ""
             }
            },
            "marker": {
             "colorbar": {
              "outlinewidth": 0,
              "ticks": ""
             }
            }
           }
          ],
          "scattermapbox": [
           {
            "type": "scattermapbox",
            "marker": {
             "colorbar": {
              "outlinewidth": 0,
              "ticks": ""
             }
            }
           }
          ],
          "scatterternary": [
           {
            "type": "scatterternary",
            "marker": {
             "colorbar": {
              "outlinewidth": 0,
              "ticks": ""
             }
            }
           }
          ],
          "scattercarpet": [
           {
            "type": "scattercarpet",
            "marker": {
             "colorbar": {
              "outlinewidth": 0,
              "ticks": ""
             }
            }
           }
          ],
          "carpet": [
           {
            "aaxis": {
             "endlinecolor": "#2a3f5f",
             "gridcolor": "white",
             "linecolor": "white",
             "minorgridcolor": "white",
             "startlinecolor": "#2a3f5f"
            },
            "baxis": {
             "endlinecolor": "#2a3f5f",
             "gridcolor": "white",
             "linecolor": "white",
             "minorgridcolor": "white",
             "startlinecolor": "#2a3f5f"
            },
            "type": "carpet"
           }
          ],
          "table": [
           {
            "cells": {
             "fill": {
              "color": "#EBF0F8"
             },
             "line": {
              "color": "white"
             }
            },
            "header": {
             "fill": {
              "color": "#C8D4E3"
             },
             "line": {
              "color": "white"
             }
            },
            "type": "table"
           }
          ],
          "barpolar": [
           {
            "marker": {
             "line": {
              "color": "#E5ECF6",
              "width": 0.5
             },
             "pattern": {
              "fillmode": "overlay",
              "size": 10,
              "solidity": 0.2
             }
            },
            "type": "barpolar"
           }
          ],
          "pie": [
           {
            "automargin": true,
            "type": "pie"
           }
          ]
         },
         "layout": {
          "autotypenumbers": "strict",
          "colorway": [
           "#636efa",
           "#EF553B",
           "#00cc96",
           "#ab63fa",
           "#FFA15A",
           "#19d3f3",
           "#FF6692",
           "#B6E880",
           "#FF97FF",
           "#FECB52"
          ],
          "font": {
           "color": "#2a3f5f"
          },
          "hovermode": "closest",
          "hoverlabel": {
           "align": "left"
          },
          "paper_bgcolor": "white",
          "plot_bgcolor": "#E5ECF6",
          "polar": {
           "bgcolor": "#E5ECF6",
           "angularaxis": {
            "gridcolor": "white",
            "linecolor": "white",
            "ticks": ""
           },
           "radialaxis": {
            "gridcolor": "white",
            "linecolor": "white",
            "ticks": ""
           }
          },
          "ternary": {
           "bgcolor": "#E5ECF6",
           "aaxis": {
            "gridcolor": "white",
            "linecolor": "white",
            "ticks": ""
           },
           "baxis": {
            "gridcolor": "white",
            "linecolor": "white",
            "ticks": ""
           },
           "caxis": {
            "gridcolor": "white",
            "linecolor": "white",
            "ticks": ""
           }
          },
          "coloraxis": {
           "colorbar": {
            "outlinewidth": 0,
            "ticks": ""
           }
          },
          "colorscale": {
           "sequential": [
            [
             0.0,
             "#0d0887"
            ],
            [
             0.1111111111111111,
             "#46039f"
            ],
            [
             0.2222222222222222,
             "#7201a8"
            ],
            [
             0.3333333333333333,
             "#9c179e"
            ],
            [
             0.4444444444444444,
             "#bd3786"
            ],
            [
             0.5555555555555556,
             "#d8576b"
            ],
            [
             0.6666666666666666,
             "#ed7953"
            ],
            [
             0.7777777777777778,
             "#fb9f3a"
            ],
            [
             0.8888888888888888,
             "#fdca26"
            ],
            [
             1.0,
             "#f0f921"
            ]
           ],
           "sequentialminus": [
            [
             0.0,
             "#0d0887"
            ],
            [
             0.1111111111111111,
             "#46039f"
            ],
            [
             0.2222222222222222,
             "#7201a8"
            ],
            [
             0.3333333333333333,
             "#9c179e"
            ],
            [
             0.4444444444444444,
             "#bd3786"
            ],
            [
             0.5555555555555556,
             "#d8576b"
            ],
            [
             0.6666666666666666,
             "#ed7953"
            ],
            [
             0.7777777777777778,
             "#fb9f3a"
            ],
            [
             0.8888888888888888,
             "#fdca26"
            ],
            [
             1.0,
             "#f0f921"
            ]
           ],
           "diverging": [
            [
             0,
             "#8e0152"
            ],
            [
             0.1,
             "#c51b7d"
            ],
            [
             0.2,
             "#de77ae"
            ],
            [
             0.3,
             "#f1b6da"
            ],
            [
             0.4,
             "#fde0ef"
            ],
            [
             0.5,
             "#f7f7f7"
            ],
            [
             0.6,
             "#e6f5d0"
            ],
            [
             0.7,
             "#b8e186"
            ],
            [
             0.8,
             "#7fbc41"
            ],
            [
             0.9,
             "#4d9221"
            ],
            [
             1,
             "#276419"
            ]
           ]
          },
          "xaxis": {
           "gridcolor": "white",
           "linecolor": "white",
           "ticks": "",
           "title": {
            "standoff": 15
           },
           "zerolinecolor": "white",
           "automargin": true,
           "zerolinewidth": 2
          },
          "yaxis": {
           "gridcolor": "white",
           "linecolor": "white",
           "ticks": "",
           "title": {
            "standoff": 15
           },
           "zerolinecolor": "white",
           "automargin": true,
           "zerolinewidth": 2
          },
          "scene": {
           "xaxis": {
            "backgroundcolor": "#E5ECF6",
            "gridcolor": "white",
            "linecolor": "white",
            "showbackground": true,
            "ticks": "",
            "zerolinecolor": "white",
            "gridwidth": 2
           },
           "yaxis": {
            "backgroundcolor": "#E5ECF6",
            "gridcolor": "white",
            "linecolor": "white",
            "showbackground": true,
            "ticks": "",
            "zerolinecolor": "white",
            "gridwidth": 2
           },
           "zaxis": {
            "backgroundcolor": "#E5ECF6",
            "gridcolor": "white",
            "linecolor": "white",
            "showbackground": true,
            "ticks": "",
            "zerolinecolor": "white",
            "gridwidth": 2
           }
          },
          "shapedefaults": {
           "line": {
            "color": "#2a3f5f"
           }
          },
          "annotationdefaults": {
           "arrowcolor": "#2a3f5f",
           "arrowhead": 0,
           "arrowwidth": 1
          },
          "geo": {
           "bgcolor": "white",
           "landcolor": "#E5ECF6",
           "subunitcolor": "white",
           "showland": true,
           "showlakes": true,
           "lakecolor": "white"
          },
          "title": {
           "x": 0.05
          },
          "mapbox": {
           "style": "light"
          }
         }
        },
        "title": {
         "text": "$M_{rand}\\text{ for every 250 games for different values of }n^{∗}$"
        },
        "xaxis": {
         "title": {
          "text": "$game$"
         }
        },
        "yaxis": {
         "title": {
          "text": "$M_{rand}$"
         }
        },
        "width": 1200,
        "height": 400
       },
       "config": {
        "plotlyServerURL": "https://plot.ly"
       }
      },
      "text/html": "<div>                            <div id=\"c1f61621-11b8-4b69-9f94-2ae8ce49ad40\" class=\"plotly-graph-div\" style=\"height:400px; width:1200px;\"></div>            <script type=\"text/javascript\">                require([\"plotly\"], function(Plotly) {                    window.PLOTLYENV=window.PLOTLYENV || {};                                    if (document.getElementById(\"c1f61621-11b8-4b69-9f94-2ae8ce49ad40\")) {                    Plotly.newPlot(                        \"c1f61621-11b8-4b69-9f94-2ae8ce49ad40\",                        [{\"mode\":\"lines\",\"name\":\"$n^* = 1$\",\"x\":[249,499,749,999,1249,1499,1749,1999,2249,2499,2749,2999,3249,3499,3749,3999,4249,4499,4749,4999,5249,5499,5749,5999,6249,6499,6749,6999,7249,7499,7749,7999,8249,8499,8749,8999,9249,9499,9749,9999,10249,10499,10749,10999,11249,11499,11749,11999,12249,12499,12749,12999,13249,13499,13749,13999,14249,14499,14749,14999,15249,15499,15749,15999,16249,16499,16749,16999,17249,17499,17749,17999,18249,18499,18749,18999,19249,19499,19749,19999],\"y\":[-0.942,-0.056,0.106,0.256,0.352,0.392,0.446,0.458,0.59,0.59,0.6,0.586,0.646,0.82,0.702,0.668,0.782,0.802,0.82,0.782,0.706,0.78,0.778,0.794,0.85,0.826,0.812,0.782,0.752,0.794,0.886,0.852,0.878,0.888,0.858,0.84,0.866,0.896,0.872,0.884,0.9,0.9,0.912,0.906,0.9,0.908,0.898,0.908,0.906,0.91,0.91,0.946,0.94,0.926,0.91,0.92,0.9,0.898,0.9,0.924,0.934,0.94,0.938,0.932,0.952,0.91,0.936,0.94,0.942,0.918,0.932,0.948,0.916,0.932,0.94,0.93,0.932,0.95,0.916,0.938],\"type\":\"scatter\"},{\"mode\":\"lines\",\"name\":\"$n^* = 4000$\",\"x\":[249,499,749,999,1249,1499,1749,1999,2249,2499,2749,2999,3249,3499,3749,3999,4249,4499,4749,4999,5249,5499,5749,5999,6249,6499,6749,6999,7249,7499,7749,7999,8249,8499,8749,8999,9249,9499,9749,9999,10249,10499,10749,10999,11249,11499,11749,11999,12249,12499,12749,12999,13249,13499,13749,13999,14249,14499,14749,14999,15249,15499,15749,15999,16249,16499,16749,16999,17249,17499,17749,17999,18249,18499,18749,18999,19249,19499,19749,19999],\"y\":[-0.328,0.23,0.748,0.68,0.744,0.742,0.794,0.848,0.864,0.894,0.874,0.89,0.892,0.908,0.92,0.884,0.868,0.862,0.894,0.86,0.894,0.908,0.886,0.882,0.826,0.882,0.834,0.838,0.846,0.87,0.884,0.886,0.872,0.922,0.92,0.92,0.9,0.94,0.928,0.928,0.946,0.93,0.922,0.948,0.908,0.942,0.896,0.896,0.914,0.92,0.916,0.902,0.918,0.92,0.926,0.914,0.954,0.93,0.918,0.93,0.934,0.95,0.942,0.928,0.9,0.914,0.928,0.924,0.884,0.906,0.954,0.904,0.896,0.878,0.91,0.928,0.934,0.932,0.916,0.93],\"type\":\"scatter\"},{\"mode\":\"lines\",\"name\":\"$n^* = 8000$\",\"x\":[249,499,749,999,1249,1499,1749,1999,2249,2499,2749,2999,3249,3499,3749,3999,4249,4499,4749,4999,5249,5499,5749,5999,6249,6499,6749,6999,7249,7499,7749,7999,8249,8499,8749,8999,9249,9499,9749,9999,10249,10499,10749,10999,11249,11499,11749,11999,12249,12499,12749,12999,13249,13499,13749,13999,14249,14499,14749,14999,15249,15499,15749,15999,16249,16499,16749,16999,17249,17499,17749,17999,18249,18499,18749,18999,19249,19499,19749,19999],\"y\":[-0.402,0.364,0.6,0.716,0.756,0.832,0.858,0.85,0.872,0.89,0.9,0.914,0.876,0.908,0.932,0.91,0.936,0.956,0.95,0.964,0.942,0.898,0.938,0.926,0.896,0.91,0.928,0.88,0.898,0.876,0.91,0.914,0.896,0.92,0.9,0.928,0.938,0.882,0.9,0.91,0.898,0.892,0.904,0.88,0.932,0.936,0.928,0.932,0.924,0.93,0.91,0.928,0.962,0.902,0.928,0.93,0.916,0.94,0.894,0.932,0.928,0.928,0.92,0.93,0.912,0.898,0.918,0.952,0.906,0.92,0.926,0.92,0.904,0.914,0.936,0.926,0.906,0.93,0.946,0.922],\"type\":\"scatter\"},{\"mode\":\"lines\",\"name\":\"$n^* = 12000$\",\"x\":[249,499,749,999,1249,1499,1749,1999,2249,2499,2749,2999,3249,3499,3749,3999,4249,4499,4749,4999,5249,5499,5749,5999,6249,6499,6749,6999,7249,7499,7749,7999,8249,8499,8749,8999,9249,9499,9749,9999,10249,10499,10749,10999,11249,11499,11749,11999,12249,12499,12749,12999,13249,13499,13749,13999,14249,14499,14749,14999,15249,15499,15749,15999,16249,16499,16749,16999,17249,17499,17749,17999,18249,18499,18749,18999,19249,19499,19749,19999],\"y\":[-0.398,0.062,0.672,0.694,0.816,0.804,0.826,0.846,0.856,0.876,0.898,0.864,0.88,0.924,0.912,0.89,0.902,0.91,0.93,0.88,0.944,0.93,0.912,0.926,0.932,0.926,0.902,0.906,0.932,0.936,0.898,0.932,0.932,0.94,0.91,0.938,0.94,0.928,0.936,0.932,0.944,0.922,0.936,0.938,0.948,0.938,0.914,0.924,0.93,0.902,0.91,0.926,0.934,0.932,0.93,0.934,0.926,0.94,0.926,0.96,0.934,0.91,0.936,0.928,0.922,0.904,0.956,0.91,0.894,0.904,0.914,0.918,0.938,0.924,0.954,0.93,0.934,0.938,0.93,0.904],\"type\":\"scatter\"},{\"mode\":\"lines\",\"name\":\"$n^* = 16000$\",\"x\":[249,499,749,999,1249,1499,1749,1999,2249,2499,2749,2999,3249,3499,3749,3999,4249,4499,4749,4999,5249,5499,5749,5999,6249,6499,6749,6999,7249,7499,7749,7999,8249,8499,8749,8999,9249,9499,9749,9999,10249,10499,10749,10999,11249,11499,11749,11999,12249,12499,12749,12999,13249,13499,13749,13999,14249,14499,14749,14999,15249,15499,15749,15999,16249,16499,16749,16999,17249,17499,17749,17999,18249,18499,18749,18999,19249,19499,19749,19999],\"y\":[-0.024,-0.144,0.516,0.684,0.758,0.756,0.896,0.864,0.864,0.87,0.902,0.888,0.862,0.92,0.906,0.916,0.936,0.916,0.928,0.91,0.908,0.904,0.918,0.932,0.894,0.924,0.88,0.938,0.914,0.912,0.942,0.916,0.932,0.89,0.936,0.944,0.942,0.936,0.938,0.912,0.93,0.928,0.948,0.934,0.96,0.94,0.95,0.932,0.952,0.932,0.944,0.936,0.936,0.928,0.922,0.942,0.938,0.932,0.902,0.908,0.94,0.956,0.922,0.936,0.942,0.926,0.932,0.946,0.9,0.944,0.92,0.91,0.944,0.958,0.936,0.936,0.962,0.924,0.928,0.908],\"type\":\"scatter\"},{\"mode\":\"lines\",\"name\":\"$n^* = 20000$\",\"x\":[249,499,749,999,1249,1499,1749,1999,2249,2499,2749,2999,3249,3499,3749,3999,4249,4499,4749,4999,5249,5499,5749,5999,6249,6499,6749,6999,7249,7499,7749,7999,8249,8499,8749,8999,9249,9499,9749,9999,10249,10499,10749,10999,11249,11499,11749,11999,12249,12499,12749,12999,13249,13499,13749,13999,14249,14499,14749,14999,15249,15499,15749,15999,16249,16499,16749,16999,17249,17499,17749,17999,18249,18499,18749,18999,19249,19499,19749,19999],\"y\":[0.1,0.484,0.584,0.708,0.722,0.79,0.8,0.858,0.874,0.828,0.876,0.88,0.874,0.92,0.886,0.892,0.894,0.91,0.89,0.934,0.92,0.918,0.92,0.93,0.948,0.898,0.922,0.922,0.916,0.92,0.872,0.9,0.938,0.93,0.926,0.902,0.92,0.922,0.924,0.922,0.922,0.936,0.924,0.932,0.946,0.928,0.924,0.926,0.924,0.954,0.926,0.934,0.94,0.916,0.94,0.954,0.938,0.944,0.944,0.956,0.932,0.94,0.94,0.948,0.93,0.96,0.942,0.932,0.936,0.93,0.954,0.94,0.94,0.94,0.94,0.934,0.926,0.952,0.924,0.926],\"type\":\"scatter\"},{\"mode\":\"lines\",\"name\":\"$n^* = 24000$\",\"x\":[249,499,749,999,1249,1499,1749,1999,2249,2499,2749,2999,3249,3499,3749,3999,4249,4499,4749,4999,5249,5499,5749,5999,6249,6499,6749,6999,7249,7499,7749,7999,8249,8499,8749,8999,9249,9499,9749,9999,10249,10499,10749,10999,11249,11499,11749,11999,12249,12499,12749,12999,13249,13499,13749,13999,14249,14499,14749,14999,15249,15499,15749,15999,16249,16499,16749,16999,17249,17499,17749,17999,18249,18499,18749,18999,19249,19499,19749,19999],\"y\":[-0.31,0.278,0.696,0.736,0.86,0.758,0.808,0.814,0.884,0.842,0.876,0.868,0.876,0.86,0.872,0.902,0.886,0.888,0.888,0.872,0.884,0.88,0.9,0.89,0.904,0.922,0.906,0.918,0.91,0.89,0.9,0.904,0.868,0.906,0.956,0.926,0.924,0.912,0.922,0.938,0.904,0.924,0.938,0.934,0.924,0.936,0.934,0.928,0.946,0.918,0.93,0.95,0.93,0.916,0.934,0.942,0.95,0.93,0.946,0.934,0.942,0.938,0.946,0.942,0.962,0.954,0.954,0.956,0.948,0.93,0.944,0.936,0.948,0.936,0.938,0.91,0.924,0.946,0.94,0.946],\"type\":\"scatter\"},{\"mode\":\"lines\",\"name\":\"$n^* = 28000$\",\"x\":[249,499,749,999,1249,1499,1749,1999,2249,2499,2749,2999,3249,3499,3749,3999,4249,4499,4749,4999,5249,5499,5749,5999,6249,6499,6749,6999,7249,7499,7749,7999,8249,8499,8749,8999,9249,9499,9749,9999,10249,10499,10749,10999,11249,11499,11749,11999,12249,12499,12749,12999,13249,13499,13749,13999,14249,14499,14749,14999,15249,15499,15749,15999,16249,16499,16749,16999,17249,17499,17749,17999,18249,18499,18749,18999,19249,19499,19749,19999],\"y\":[-0.108,0.384,0.476,0.404,0.762,0.842,0.812,0.832,0.818,0.836,0.834,0.882,0.928,0.89,0.884,0.896,0.904,0.856,0.884,0.894,0.906,0.922,0.884,0.928,0.926,0.918,0.904,0.9,0.912,0.92,0.948,0.926,0.944,0.896,0.944,0.922,0.944,0.93,0.92,0.944,0.93,0.936,0.944,0.93,0.932,0.936,0.942,0.946,0.948,0.946,0.944,0.932,0.936,0.93,0.944,0.928,0.932,0.946,0.924,0.944,0.936,0.93,0.948,0.948,0.94,0.966,0.966,0.922,0.95,0.97,0.95,0.94,0.934,0.942,0.966,0.964,0.938,0.956,0.946,0.95],\"type\":\"scatter\"},{\"mode\":\"lines\",\"name\":\"$n^* = 32000$\",\"x\":[249,499,749,999,1249,1499,1749,1999,2249,2499,2749,2999,3249,3499,3749,3999,4249,4499,4749,4999,5249,5499,5749,5999,6249,6499,6749,6999,7249,7499,7749,7999,8249,8499,8749,8999,9249,9499,9749,9999,10249,10499,10749,10999,11249,11499,11749,11999,12249,12499,12749,12999,13249,13499,13749,13999,14249,14499,14749,14999,15249,15499,15749,15999,16249,16499,16749,16999,17249,17499,17749,17999,18249,18499,18749,18999,19249,19499,19749,19999],\"y\":[-0.482,0.026,0.598,0.712,0.774,0.84,0.87,0.894,0.868,0.906,0.872,0.924,0.886,0.928,0.926,0.93,0.93,0.91,0.922,0.918,0.914,0.892,0.896,0.902,0.934,0.902,0.916,0.912,0.906,0.918,0.91,0.88,0.906,0.926,0.92,0.95,0.934,0.936,0.956,0.926,0.928,0.93,0.93,0.942,0.938,0.944,0.948,0.944,0.924,0.934,0.932,0.938,0.892,0.932,0.91,0.932,0.934,0.946,0.94,0.95,0.928,0.934,0.95,0.95,0.932,0.962,0.972,0.954,0.922,0.95,0.962,0.926,0.944,0.924,0.946,0.934,0.94,0.944,0.908,0.96],\"type\":\"scatter\"},{\"mode\":\"lines\",\"name\":\"$n^* = 36000$\",\"x\":[249,499,749,999,1249,1499,1749,1999,2249,2499,2749,2999,3249,3499,3749,3999,4249,4499,4749,4999,5249,5499,5749,5999,6249,6499,6749,6999,7249,7499,7749,7999,8249,8499,8749,8999,9249,9499,9749,9999,10249,10499,10749,10999,11249,11499,11749,11999,12249,12499,12749,12999,13249,13499,13749,13999,14249,14499,14749,14999,15249,15499,15749,15999,16249,16499,16749,16999,17249,17499,17749,17999,18249,18499,18749,18999,19249,19499,19749,19999],\"y\":[-0.25,0.306,0.558,0.674,0.752,0.744,0.79,0.85,0.892,0.832,0.882,0.898,0.884,0.874,0.954,0.93,0.896,0.936,0.928,0.926,0.96,0.93,0.882,0.942,0.884,0.926,0.894,0.948,0.904,0.924,0.92,0.91,0.938,0.932,0.918,0.916,0.934,0.94,0.924,0.938,0.914,0.93,0.97,0.962,0.932,0.946,0.944,0.95,0.928,0.942,0.952,0.944,0.944,0.94,0.946,0.958,0.95,0.962,0.968,0.966,0.944,0.946,0.95,0.944,0.94,0.952,0.944,0.936,0.94,0.958,0.95,0.95,0.948,0.948,0.938,0.96,0.954,0.948,0.948,0.946],\"type\":\"scatter\"},{\"mode\":\"lines\",\"name\":\"$n^* = 40000$\",\"x\":[249,499,749,999,1249,1499,1749,1999,2249,2499,2749,2999,3249,3499,3749,3999,4249,4499,4749,4999,5249,5499,5749,5999,6249,6499,6749,6999,7249,7499,7749,7999,8249,8499,8749,8999,9249,9499,9749,9999,10249,10499,10749,10999,11249,11499,11749,11999,12249,12499,12749,12999,13249,13499,13749,13999,14249,14499,14749,14999,15249,15499,15749,15999,16249,16499,16749,16999,17249,17499,17749,17999,18249,18499,18749,18999,19249,19499,19749,19999],\"y\":[-0.612,-0.096,0.538,0.744,0.828,0.842,0.784,0.904,0.866,0.878,0.892,0.896,0.914,0.91,0.886,0.894,0.918,0.906,0.912,0.942,0.878,0.858,0.894,0.864,0.878,0.902,0.91,0.928,0.924,0.93,0.902,0.846,0.934,0.954,0.924,0.91,0.908,0.95,0.966,0.958,0.942,0.94,0.964,0.892,0.91,0.954,0.956,0.968,0.924,0.94,0.932,0.956,0.924,0.938,0.912,0.934,0.948,0.942,0.896,0.932,0.936,0.942,0.932,0.944,0.962,0.936,0.956,0.932,0.96,0.956,0.928,0.95,0.922,0.932,0.928,0.928,0.94,0.946,0.944,0.954],\"type\":\"scatter\"}],                        {\"template\":{\"data\":{\"histogram2dcontour\":[{\"type\":\"histogram2dcontour\",\"colorbar\":{\"outlinewidth\":0,\"ticks\":\"\"},\"colorscale\":[[0.0,\"#0d0887\"],[0.1111111111111111,\"#46039f\"],[0.2222222222222222,\"#7201a8\"],[0.3333333333333333,\"#9c179e\"],[0.4444444444444444,\"#bd3786\"],[0.5555555555555556,\"#d8576b\"],[0.6666666666666666,\"#ed7953\"],[0.7777777777777778,\"#fb9f3a\"],[0.8888888888888888,\"#fdca26\"],[1.0,\"#f0f921\"]]}],\"choropleth\":[{\"type\":\"choropleth\",\"colorbar\":{\"outlinewidth\":0,\"ticks\":\"\"}}],\"histogram2d\":[{\"type\":\"histogram2d\",\"colorbar\":{\"outlinewidth\":0,\"ticks\":\"\"},\"colorscale\":[[0.0,\"#0d0887\"],[0.1111111111111111,\"#46039f\"],[0.2222222222222222,\"#7201a8\"],[0.3333333333333333,\"#9c179e\"],[0.4444444444444444,\"#bd3786\"],[0.5555555555555556,\"#d8576b\"],[0.6666666666666666,\"#ed7953\"],[0.7777777777777778,\"#fb9f3a\"],[0.8888888888888888,\"#fdca26\"],[1.0,\"#f0f921\"]]}],\"heatmap\":[{\"type\":\"heatmap\",\"colorbar\":{\"outlinewidth\":0,\"ticks\":\"\"},\"colorscale\":[[0.0,\"#0d0887\"],[0.1111111111111111,\"#46039f\"],[0.2222222222222222,\"#7201a8\"],[0.3333333333333333,\"#9c179e\"],[0.4444444444444444,\"#bd3786\"],[0.5555555555555556,\"#d8576b\"],[0.6666666666666666,\"#ed7953\"],[0.7777777777777778,\"#fb9f3a\"],[0.8888888888888888,\"#fdca26\"],[1.0,\"#f0f921\"]]}],\"heatmapgl\":[{\"type\":\"heatmapgl\",\"colorbar\":{\"outlinewidth\":0,\"ticks\":\"\"},\"colorscale\":[[0.0,\"#0d0887\"],[0.1111111111111111,\"#46039f\"],[0.2222222222222222,\"#7201a8\"],[0.3333333333333333,\"#9c179e\"],[0.4444444444444444,\"#bd3786\"],[0.5555555555555556,\"#d8576b\"],[0.6666666666666666,\"#ed7953\"],[0.7777777777777778,\"#fb9f3a\"],[0.8888888888888888,\"#fdca26\"],[1.0,\"#f0f921\"]]}],\"contourcarpet\":[{\"type\":\"contourcarpet\",\"colorbar\":{\"outlinewidth\":0,\"ticks\":\"\"}}],\"contour\":[{\"type\":\"contour\",\"colorbar\":{\"outlinewidth\":0,\"ticks\":\"\"},\"colorscale\":[[0.0,\"#0d0887\"],[0.1111111111111111,\"#46039f\"],[0.2222222222222222,\"#7201a8\"],[0.3333333333333333,\"#9c179e\"],[0.4444444444444444,\"#bd3786\"],[0.5555555555555556,\"#d8576b\"],[0.6666666666666666,\"#ed7953\"],[0.7777777777777778,\"#fb9f3a\"],[0.8888888888888888,\"#fdca26\"],[1.0,\"#f0f921\"]]}],\"surface\":[{\"type\":\"surface\",\"colorbar\":{\"outlinewidth\":0,\"ticks\":\"\"},\"colorscale\":[[0.0,\"#0d0887\"],[0.1111111111111111,\"#46039f\"],[0.2222222222222222,\"#7201a8\"],[0.3333333333333333,\"#9c179e\"],[0.4444444444444444,\"#bd3786\"],[0.5555555555555556,\"#d8576b\"],[0.6666666666666666,\"#ed7953\"],[0.7777777777777778,\"#fb9f3a\"],[0.8888888888888888,\"#fdca26\"],[1.0,\"#f0f921\"]]}],\"mesh3d\":[{\"type\":\"mesh3d\",\"colorbar\":{\"outlinewidth\":0,\"ticks\":\"\"}}],\"scatter\":[{\"fillpattern\":{\"fillmode\":\"overlay\",\"size\":10,\"solidity\":0.2},\"type\":\"scatter\"}],\"parcoords\":[{\"type\":\"parcoords\",\"line\":{\"colorbar\":{\"outlinewidth\":0,\"ticks\":\"\"}}}],\"scatterpolargl\":[{\"type\":\"scatterpolargl\",\"marker\":{\"colorbar\":{\"outlinewidth\":0,\"ticks\":\"\"}}}],\"bar\":[{\"error_x\":{\"color\":\"#2a3f5f\"},\"error_y\":{\"color\":\"#2a3f5f\"},\"marker\":{\"line\":{\"color\":\"#E5ECF6\",\"width\":0.5},\"pattern\":{\"fillmode\":\"overlay\",\"size\":10,\"solidity\":0.2}},\"type\":\"bar\"}],\"scattergeo\":[{\"type\":\"scattergeo\",\"marker\":{\"colorbar\":{\"outlinewidth\":0,\"ticks\":\"\"}}}],\"scatterpolar\":[{\"type\":\"scatterpolar\",\"marker\":{\"colorbar\":{\"outlinewidth\":0,\"ticks\":\"\"}}}],\"histogram\":[{\"marker\":{\"pattern\":{\"fillmode\":\"overlay\",\"size\":10,\"solidity\":0.2}},\"type\":\"histogram\"}],\"scattergl\":[{\"type\":\"scattergl\",\"marker\":{\"colorbar\":{\"outlinewidth\":0,\"ticks\":\"\"}}}],\"scatter3d\":[{\"type\":\"scatter3d\",\"line\":{\"colorbar\":{\"outlinewidth\":0,\"ticks\":\"\"}},\"marker\":{\"colorbar\":{\"outlinewidth\":0,\"ticks\":\"\"}}}],\"scattermapbox\":[{\"type\":\"scattermapbox\",\"marker\":{\"colorbar\":{\"outlinewidth\":0,\"ticks\":\"\"}}}],\"scatterternary\":[{\"type\":\"scatterternary\",\"marker\":{\"colorbar\":{\"outlinewidth\":0,\"ticks\":\"\"}}}],\"scattercarpet\":[{\"type\":\"scattercarpet\",\"marker\":{\"colorbar\":{\"outlinewidth\":0,\"ticks\":\"\"}}}],\"carpet\":[{\"aaxis\":{\"endlinecolor\":\"#2a3f5f\",\"gridcolor\":\"white\",\"linecolor\":\"white\",\"minorgridcolor\":\"white\",\"startlinecolor\":\"#2a3f5f\"},\"baxis\":{\"endlinecolor\":\"#2a3f5f\",\"gridcolor\":\"white\",\"linecolor\":\"white\",\"minorgridcolor\":\"white\",\"startlinecolor\":\"#2a3f5f\"},\"type\":\"carpet\"}],\"table\":[{\"cells\":{\"fill\":{\"color\":\"#EBF0F8\"},\"line\":{\"color\":\"white\"}},\"header\":{\"fill\":{\"color\":\"#C8D4E3\"},\"line\":{\"color\":\"white\"}},\"type\":\"table\"}],\"barpolar\":[{\"marker\":{\"line\":{\"color\":\"#E5ECF6\",\"width\":0.5},\"pattern\":{\"fillmode\":\"overlay\",\"size\":10,\"solidity\":0.2}},\"type\":\"barpolar\"}],\"pie\":[{\"automargin\":true,\"type\":\"pie\"}]},\"layout\":{\"autotypenumbers\":\"strict\",\"colorway\":[\"#636efa\",\"#EF553B\",\"#00cc96\",\"#ab63fa\",\"#FFA15A\",\"#19d3f3\",\"#FF6692\",\"#B6E880\",\"#FF97FF\",\"#FECB52\"],\"font\":{\"color\":\"#2a3f5f\"},\"hovermode\":\"closest\",\"hoverlabel\":{\"align\":\"left\"},\"paper_bgcolor\":\"white\",\"plot_bgcolor\":\"#E5ECF6\",\"polar\":{\"bgcolor\":\"#E5ECF6\",\"angularaxis\":{\"gridcolor\":\"white\",\"linecolor\":\"white\",\"ticks\":\"\"},\"radialaxis\":{\"gridcolor\":\"white\",\"linecolor\":\"white\",\"ticks\":\"\"}},\"ternary\":{\"bgcolor\":\"#E5ECF6\",\"aaxis\":{\"gridcolor\":\"white\",\"linecolor\":\"white\",\"ticks\":\"\"},\"baxis\":{\"gridcolor\":\"white\",\"linecolor\":\"white\",\"ticks\":\"\"},\"caxis\":{\"gridcolor\":\"white\",\"linecolor\":\"white\",\"ticks\":\"\"}},\"coloraxis\":{\"colorbar\":{\"outlinewidth\":0,\"ticks\":\"\"}},\"colorscale\":{\"sequential\":[[0.0,\"#0d0887\"],[0.1111111111111111,\"#46039f\"],[0.2222222222222222,\"#7201a8\"],[0.3333333333333333,\"#9c179e\"],[0.4444444444444444,\"#bd3786\"],[0.5555555555555556,\"#d8576b\"],[0.6666666666666666,\"#ed7953\"],[0.7777777777777778,\"#fb9f3a\"],[0.8888888888888888,\"#fdca26\"],[1.0,\"#f0f921\"]],\"sequentialminus\":[[0.0,\"#0d0887\"],[0.1111111111111111,\"#46039f\"],[0.2222222222222222,\"#7201a8\"],[0.3333333333333333,\"#9c179e\"],[0.4444444444444444,\"#bd3786\"],[0.5555555555555556,\"#d8576b\"],[0.6666666666666666,\"#ed7953\"],[0.7777777777777778,\"#fb9f3a\"],[0.8888888888888888,\"#fdca26\"],[1.0,\"#f0f921\"]],\"diverging\":[[0,\"#8e0152\"],[0.1,\"#c51b7d\"],[0.2,\"#de77ae\"],[0.3,\"#f1b6da\"],[0.4,\"#fde0ef\"],[0.5,\"#f7f7f7\"],[0.6,\"#e6f5d0\"],[0.7,\"#b8e186\"],[0.8,\"#7fbc41\"],[0.9,\"#4d9221\"],[1,\"#276419\"]]},\"xaxis\":{\"gridcolor\":\"white\",\"linecolor\":\"white\",\"ticks\":\"\",\"title\":{\"standoff\":15},\"zerolinecolor\":\"white\",\"automargin\":true,\"zerolinewidth\":2},\"yaxis\":{\"gridcolor\":\"white\",\"linecolor\":\"white\",\"ticks\":\"\",\"title\":{\"standoff\":15},\"zerolinecolor\":\"white\",\"automargin\":true,\"zerolinewidth\":2},\"scene\":{\"xaxis\":{\"backgroundcolor\":\"#E5ECF6\",\"gridcolor\":\"white\",\"linecolor\":\"white\",\"showbackground\":true,\"ticks\":\"\",\"zerolinecolor\":\"white\",\"gridwidth\":2},\"yaxis\":{\"backgroundcolor\":\"#E5ECF6\",\"gridcolor\":\"white\",\"linecolor\":\"white\",\"showbackground\":true,\"ticks\":\"\",\"zerolinecolor\":\"white\",\"gridwidth\":2},\"zaxis\":{\"backgroundcolor\":\"#E5ECF6\",\"gridcolor\":\"white\",\"linecolor\":\"white\",\"showbackground\":true,\"ticks\":\"\",\"zerolinecolor\":\"white\",\"gridwidth\":2}},\"shapedefaults\":{\"line\":{\"color\":\"#2a3f5f\"}},\"annotationdefaults\":{\"arrowcolor\":\"#2a3f5f\",\"arrowhead\":0,\"arrowwidth\":1},\"geo\":{\"bgcolor\":\"white\",\"landcolor\":\"#E5ECF6\",\"subunitcolor\":\"white\",\"showland\":true,\"showlakes\":true,\"lakecolor\":\"white\"},\"title\":{\"x\":0.05},\"mapbox\":{\"style\":\"light\"}}},\"title\":{\"text\":\"$M_{rand}\\\\text{ for every 250 games for different values of }n^{\\u2217}$\"},\"xaxis\":{\"title\":{\"text\":\"$game$\"}},\"yaxis\":{\"title\":{\"text\":\"$M_{rand}$\"}},\"width\":1200,\"height\":400},                        {\"responsive\": true}                    ).then(function(){\n                            \nvar gd = document.getElementById('c1f61621-11b8-4b69-9f94-2ae8ce49ad40');\nvar x = new MutationObserver(function (mutations, observer) {{\n        var display = window.getComputedStyle(gd).display;\n        if (!display || display === 'none') {{\n            console.log([gd, 'removed!']);\n            Plotly.purge(gd);\n            observer.disconnect();\n        }}\n}});\n\n// Listen for the removal of the full notebook cells\nvar notebookContainer = gd.closest('#notebook-container');\nif (notebookContainer) {{\n    x.observe(notebookContainer, {childList: true});\n}}\n\n// Listen for the clearing of the current output cell\nvar outputEl = gd.closest('.output');\nif (outputEl) {{\n    x.observe(outputEl, {childList: true});\n}}\n\n                        })                };                });            </script>        </div>"
     },
     "metadata": {},
     "output_type": "display_data"
    }
   ],
   "source": [
    "fig = go.Figure()\n",
    "\n",
    "for i, y_i in enumerate(n_star_M_rands):\n",
    "    fig.add_trace(go.Scatter(x=x, y=y_i, mode='lines',name=r'$n^* = %d$' % n_star_list[i]))\n",
    "\n",
    "fig.update_layout(\n",
    "    title=r'$M_{rand}\\text{ for every %d games for different values of }n^{∗}$' % averaging_steps,\n",
    "    xaxis_title=r'$game$',\n",
    "    yaxis_title=r'$M_{rand}$',\n",
    "    width=1200, height=400\n",
    ")\n",
    "\n",
    "fig.show()"
   ]
  },
  {
   "cell_type": "markdown",
   "metadata": {
    "collapsed": false,
    "pycharm": {
     "name": "#%% md\n"
    }
   },
   "source": [
    "### Question 19"
   ]
  },
  {
   "cell_type": "code",
   "execution_count": null,
   "metadata": {
    "collapsed": false,
    "pycharm": {
     "name": "#%%\n"
    }
   },
   "outputs": [],
   "source": [
    "import torch\n",
    "boh1, boh2 = torch.max(torch.ones(10))\n",
    "print(boh1, boh2)"
   ]
  },
  {
   "cell_type": "code",
   "execution_count": null,
   "metadata": {
    "collapsed": false,
    "pycharm": {
     "name": "#%%\n"
    }
   },
   "outputs": [],
   "source": []
  },
  {
   "cell_type": "code",
   "execution_count": null,
   "metadata": {
    "collapsed": false,
    "pycharm": {
     "name": "#%%\n"
    }
   },
   "outputs": [],
   "source": []
  }
 ],
 "metadata": {
  "interpreter": {
   "hash": "4f523f7c76dd18e7ed336217f32f6f704c23c323644912475b9d3570cf04b060"
  },
  "kernelspec": {
   "name": "conda-env-ada-py",
   "language": "python",
   "display_name": "Python [conda env:ada] *"
  },
  "language_info": {
   "codemirror_mode": {
    "name": "ipython",
    "version": 3
   },
   "file_extension": ".py",
   "mimetype": "text/x-python",
   "name": "python",
   "nbconvert_exporter": "python",
   "pygments_lexer": "ipython3",
   "version": "3.8.12"
  }
 },
 "nbformat": 4,
 "nbformat_minor": 0
}