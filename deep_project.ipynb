{
 "cells": [
  {
   "cell_type": "code",
   "execution_count": 1,
   "metadata": {
    "collapsed": true
   },
   "outputs": [],
   "source": [
    "%load_ext autoreload\n",
    "%autoreload 2"
   ]
  },
  {
   "cell_type": "code",
   "execution_count": 32,
   "outputs": [],
   "source": [
    "import numpy as np\n",
    "from tic_env import TictactoeEnv, OptimalPlayer\n",
    "from rl_algorithms import *\n",
    "from plots import *\n",
    "import matplotlib.pyplot as plt\n",
    "import plotly.express as px\n",
    "import plotly.graph_objects as go\n",
    "from tqdm import tqdm\n",
    "import pickle\n",
    "import seaborn as sns"
   ],
   "metadata": {
    "collapsed": false,
    "pycharm": {
     "name": "#%%\n"
    }
   }
  },
  {
   "cell_type": "markdown",
   "source": [
    "# 3.2 Learning from experts"
   ],
   "metadata": {
    "collapsed": false,
    "pycharm": {
     "name": "#%% md\n"
    }
   }
  },
  {
   "cell_type": "markdown",
   "source": [
    "### Question 11"
   ],
   "metadata": {
    "collapsed": false,
    "pycharm": {
     "name": "#%% md\n"
    }
   }
  },
  {
   "cell_type": "code",
   "execution_count": 34,
   "outputs": [
    {
     "name": "stderr",
     "output_type": "stream",
     "text": [
      "100%|██████████| 20000/20000 [03:39<00:00, 90.95it/s] \n"
     ]
    }
   ],
   "source": [
    "n_episodes = 20000\n",
    "averaging_steps = 250\n",
    "update_steps = 500\n",
    "turns = np.array(['X','O'])\n",
    "\n",
    "q_player = DeepQPlayer(0.15)\n",
    "env = TictactoeEnv()\n",
    "\n",
    "rewards = []\n",
    "losses = []\n",
    "average_reward = 0.\n",
    "average_loss = []\n",
    "\n",
    "other_player = OptimalPlayer(epsilon=0.5, player=turns[1])\n",
    "x = []\n",
    "\n",
    "for episode in tqdm(range(n_episodes)):\n",
    "        # Update players\n",
    "        other_player.set_player(turns[1])\n",
    "        q_player.set_player(turns[0])\n",
    "\n",
    "        # Play game\n",
    "        loss, reward = play_deep_game(env, q_player, other_player, turns, testing=False)\n",
    "        average_reward += reward\n",
    "        average_loss.extend(loss)\n",
    "\n",
    "        if episode % (update_steps-1) == 0:\n",
    "            q_player.update_target()\n",
    "\n",
    "        if episode % averaging_steps == averaging_steps - 1:\n",
    "            average_reward /= averaging_steps\n",
    "            rewards.append(average_reward)\n",
    "            losses.append(np.array(average_loss).mean())\n",
    "            average_reward = 0.\n",
    "            average_loss = []\n",
    "            x.append(episode)\n",
    "\n",
    "        # Change first player\n",
    "        turns = turns[::-1]"
   ],
   "metadata": {
    "collapsed": false,
    "pycharm": {
     "name": "#%%\n"
    }
   }
  },
  {
   "cell_type": "code",
   "execution_count": 35,
   "outputs": [
    {
     "data": {
      "application/vnd.plotly.v1+json": {
       "data": [
        {
         "mode": "lines",
         "x": [
          249,
          499,
          749,
          999,
          1249,
          1499,
          1749,
          1999,
          2249,
          2499,
          2749,
          2999,
          3249,
          3499,
          3749,
          3999,
          4249,
          4499,
          4749,
          4999,
          5249,
          5499,
          5749,
          5999,
          6249,
          6499,
          6749,
          6999,
          7249,
          7499,
          7749,
          7999,
          8249,
          8499,
          8749,
          8999,
          9249,
          9499,
          9749,
          9999,
          10249,
          10499,
          10749,
          10999,
          11249,
          11499,
          11749,
          11999,
          12249,
          12499,
          12749,
          12999,
          13249,
          13499,
          13749,
          13999,
          14249,
          14499,
          14749,
          14999,
          15249,
          15499,
          15749,
          15999,
          16249,
          16499,
          16749,
          16999,
          17249,
          17499,
          17749,
          17999,
          18249,
          18499,
          18749,
          18999,
          19249,
          19499,
          19749,
          19999
         ],
         "y": [
          -0.872,
          -0.584,
          -0.308,
          -0.116,
          -0.132,
          -0.18,
          -0.112,
          -0.04,
          -0.048,
          -0.004,
          0.164,
          0.044,
          0.156,
          0.124,
          0.036,
          0.1,
          0.232,
          0.2,
          0.124,
          0.188,
          0.208,
          0.104,
          0.2,
          0.288,
          0.176,
          0.204,
          0.196,
          0.26,
          0.128,
          0.072,
          0.308,
          0.144,
          0.14,
          0.14,
          0.296,
          0.128,
          0.2,
          0.236,
          0.252,
          0.156,
          0.28,
          0.208,
          0.32,
          0.256,
          0.272,
          0.248,
          0.24,
          0.2,
          0.156,
          0.216,
          0.228,
          0.212,
          0.18,
          0.248,
          0.228,
          0.304,
          0.248,
          0.068,
          0.188,
          0.208,
          0.22,
          0.216,
          0.208,
          0.168,
          0.236,
          0.204,
          0.28,
          0.228,
          0.212,
          0.172,
          0.184,
          0.228,
          0.204,
          0.208,
          0.168,
          0.232,
          0.236,
          0.264,
          0.212,
          0.248
         ],
         "type": "scatter"
        }
       ],
       "layout": {
        "template": {
         "data": {
          "histogram2dcontour": [
           {
            "type": "histogram2dcontour",
            "colorbar": {
             "outlinewidth": 0,
             "ticks": ""
            },
            "colorscale": [
             [
              0.0,
              "#0d0887"
             ],
             [
              0.1111111111111111,
              "#46039f"
             ],
             [
              0.2222222222222222,
              "#7201a8"
             ],
             [
              0.3333333333333333,
              "#9c179e"
             ],
             [
              0.4444444444444444,
              "#bd3786"
             ],
             [
              0.5555555555555556,
              "#d8576b"
             ],
             [
              0.6666666666666666,
              "#ed7953"
             ],
             [
              0.7777777777777778,
              "#fb9f3a"
             ],
             [
              0.8888888888888888,
              "#fdca26"
             ],
             [
              1.0,
              "#f0f921"
             ]
            ]
           }
          ],
          "choropleth": [
           {
            "type": "choropleth",
            "colorbar": {
             "outlinewidth": 0,
             "ticks": ""
            }
           }
          ],
          "histogram2d": [
           {
            "type": "histogram2d",
            "colorbar": {
             "outlinewidth": 0,
             "ticks": ""
            },
            "colorscale": [
             [
              0.0,
              "#0d0887"
             ],
             [
              0.1111111111111111,
              "#46039f"
             ],
             [
              0.2222222222222222,
              "#7201a8"
             ],
             [
              0.3333333333333333,
              "#9c179e"
             ],
             [
              0.4444444444444444,
              "#bd3786"
             ],
             [
              0.5555555555555556,
              "#d8576b"
             ],
             [
              0.6666666666666666,
              "#ed7953"
             ],
             [
              0.7777777777777778,
              "#fb9f3a"
             ],
             [
              0.8888888888888888,
              "#fdca26"
             ],
             [
              1.0,
              "#f0f921"
             ]
            ]
           }
          ],
          "heatmap": [
           {
            "type": "heatmap",
            "colorbar": {
             "outlinewidth": 0,
             "ticks": ""
            },
            "colorscale": [
             [
              0.0,
              "#0d0887"
             ],
             [
              0.1111111111111111,
              "#46039f"
             ],
             [
              0.2222222222222222,
              "#7201a8"
             ],
             [
              0.3333333333333333,
              "#9c179e"
             ],
             [
              0.4444444444444444,
              "#bd3786"
             ],
             [
              0.5555555555555556,
              "#d8576b"
             ],
             [
              0.6666666666666666,
              "#ed7953"
             ],
             [
              0.7777777777777778,
              "#fb9f3a"
             ],
             [
              0.8888888888888888,
              "#fdca26"
             ],
             [
              1.0,
              "#f0f921"
             ]
            ]
           }
          ],
          "heatmapgl": [
           {
            "type": "heatmapgl",
            "colorbar": {
             "outlinewidth": 0,
             "ticks": ""
            },
            "colorscale": [
             [
              0.0,
              "#0d0887"
             ],
             [
              0.1111111111111111,
              "#46039f"
             ],
             [
              0.2222222222222222,
              "#7201a8"
             ],
             [
              0.3333333333333333,
              "#9c179e"
             ],
             [
              0.4444444444444444,
              "#bd3786"
             ],
             [
              0.5555555555555556,
              "#d8576b"
             ],
             [
              0.6666666666666666,
              "#ed7953"
             ],
             [
              0.7777777777777778,
              "#fb9f3a"
             ],
             [
              0.8888888888888888,
              "#fdca26"
             ],
             [
              1.0,
              "#f0f921"
             ]
            ]
           }
          ],
          "contourcarpet": [
           {
            "type": "contourcarpet",
            "colorbar": {
             "outlinewidth": 0,
             "ticks": ""
            }
           }
          ],
          "contour": [
           {
            "type": "contour",
            "colorbar": {
             "outlinewidth": 0,
             "ticks": ""
            },
            "colorscale": [
             [
              0.0,
              "#0d0887"
             ],
             [
              0.1111111111111111,
              "#46039f"
             ],
             [
              0.2222222222222222,
              "#7201a8"
             ],
             [
              0.3333333333333333,
              "#9c179e"
             ],
             [
              0.4444444444444444,
              "#bd3786"
             ],
             [
              0.5555555555555556,
              "#d8576b"
             ],
             [
              0.6666666666666666,
              "#ed7953"
             ],
             [
              0.7777777777777778,
              "#fb9f3a"
             ],
             [
              0.8888888888888888,
              "#fdca26"
             ],
             [
              1.0,
              "#f0f921"
             ]
            ]
           }
          ],
          "surface": [
           {
            "type": "surface",
            "colorbar": {
             "outlinewidth": 0,
             "ticks": ""
            },
            "colorscale": [
             [
              0.0,
              "#0d0887"
             ],
             [
              0.1111111111111111,
              "#46039f"
             ],
             [
              0.2222222222222222,
              "#7201a8"
             ],
             [
              0.3333333333333333,
              "#9c179e"
             ],
             [
              0.4444444444444444,
              "#bd3786"
             ],
             [
              0.5555555555555556,
              "#d8576b"
             ],
             [
              0.6666666666666666,
              "#ed7953"
             ],
             [
              0.7777777777777778,
              "#fb9f3a"
             ],
             [
              0.8888888888888888,
              "#fdca26"
             ],
             [
              1.0,
              "#f0f921"
             ]
            ]
           }
          ],
          "mesh3d": [
           {
            "type": "mesh3d",
            "colorbar": {
             "outlinewidth": 0,
             "ticks": ""
            }
           }
          ],
          "scatter": [
           {
            "fillpattern": {
             "fillmode": "overlay",
             "size": 10,
             "solidity": 0.2
            },
            "type": "scatter"
           }
          ],
          "parcoords": [
           {
            "type": "parcoords",
            "line": {
             "colorbar": {
              "outlinewidth": 0,
              "ticks": ""
             }
            }
           }
          ],
          "scatterpolargl": [
           {
            "type": "scatterpolargl",
            "marker": {
             "colorbar": {
              "outlinewidth": 0,
              "ticks": ""
             }
            }
           }
          ],
          "bar": [
           {
            "error_x": {
             "color": "#2a3f5f"
            },
            "error_y": {
             "color": "#2a3f5f"
            },
            "marker": {
             "line": {
              "color": "#E5ECF6",
              "width": 0.5
             },
             "pattern": {
              "fillmode": "overlay",
              "size": 10,
              "solidity": 0.2
             }
            },
            "type": "bar"
           }
          ],
          "scattergeo": [
           {
            "type": "scattergeo",
            "marker": {
             "colorbar": {
              "outlinewidth": 0,
              "ticks": ""
             }
            }
           }
          ],
          "scatterpolar": [
           {
            "type": "scatterpolar",
            "marker": {
             "colorbar": {
              "outlinewidth": 0,
              "ticks": ""
             }
            }
           }
          ],
          "histogram": [
           {
            "marker": {
             "pattern": {
              "fillmode": "overlay",
              "size": 10,
              "solidity": 0.2
             }
            },
            "type": "histogram"
           }
          ],
          "scattergl": [
           {
            "type": "scattergl",
            "marker": {
             "colorbar": {
              "outlinewidth": 0,
              "ticks": ""
             }
            }
           }
          ],
          "scatter3d": [
           {
            "type": "scatter3d",
            "line": {
             "colorbar": {
              "outlinewidth": 0,
              "ticks": ""
             }
            },
            "marker": {
             "colorbar": {
              "outlinewidth": 0,
              "ticks": ""
             }
            }
           }
          ],
          "scattermapbox": [
           {
            "type": "scattermapbox",
            "marker": {
             "colorbar": {
              "outlinewidth": 0,
              "ticks": ""
             }
            }
           }
          ],
          "scatterternary": [
           {
            "type": "scatterternary",
            "marker": {
             "colorbar": {
              "outlinewidth": 0,
              "ticks": ""
             }
            }
           }
          ],
          "scattercarpet": [
           {
            "type": "scattercarpet",
            "marker": {
             "colorbar": {
              "outlinewidth": 0,
              "ticks": ""
             }
            }
           }
          ],
          "carpet": [
           {
            "aaxis": {
             "endlinecolor": "#2a3f5f",
             "gridcolor": "white",
             "linecolor": "white",
             "minorgridcolor": "white",
             "startlinecolor": "#2a3f5f"
            },
            "baxis": {
             "endlinecolor": "#2a3f5f",
             "gridcolor": "white",
             "linecolor": "white",
             "minorgridcolor": "white",
             "startlinecolor": "#2a3f5f"
            },
            "type": "carpet"
           }
          ],
          "table": [
           {
            "cells": {
             "fill": {
              "color": "#EBF0F8"
             },
             "line": {
              "color": "white"
             }
            },
            "header": {
             "fill": {
              "color": "#C8D4E3"
             },
             "line": {
              "color": "white"
             }
            },
            "type": "table"
           }
          ],
          "barpolar": [
           {
            "marker": {
             "line": {
              "color": "#E5ECF6",
              "width": 0.5
             },
             "pattern": {
              "fillmode": "overlay",
              "size": 10,
              "solidity": 0.2
             }
            },
            "type": "barpolar"
           }
          ],
          "pie": [
           {
            "automargin": true,
            "type": "pie"
           }
          ]
         },
         "layout": {
          "autotypenumbers": "strict",
          "colorway": [
           "#636efa",
           "#EF553B",
           "#00cc96",
           "#ab63fa",
           "#FFA15A",
           "#19d3f3",
           "#FF6692",
           "#B6E880",
           "#FF97FF",
           "#FECB52"
          ],
          "font": {
           "color": "#2a3f5f"
          },
          "hovermode": "closest",
          "hoverlabel": {
           "align": "left"
          },
          "paper_bgcolor": "white",
          "plot_bgcolor": "#E5ECF6",
          "polar": {
           "bgcolor": "#E5ECF6",
           "angularaxis": {
            "gridcolor": "white",
            "linecolor": "white",
            "ticks": ""
           },
           "radialaxis": {
            "gridcolor": "white",
            "linecolor": "white",
            "ticks": ""
           }
          },
          "ternary": {
           "bgcolor": "#E5ECF6",
           "aaxis": {
            "gridcolor": "white",
            "linecolor": "white",
            "ticks": ""
           },
           "baxis": {
            "gridcolor": "white",
            "linecolor": "white",
            "ticks": ""
           },
           "caxis": {
            "gridcolor": "white",
            "linecolor": "white",
            "ticks": ""
           }
          },
          "coloraxis": {
           "colorbar": {
            "outlinewidth": 0,
            "ticks": ""
           }
          },
          "colorscale": {
           "sequential": [
            [
             0.0,
             "#0d0887"
            ],
            [
             0.1111111111111111,
             "#46039f"
            ],
            [
             0.2222222222222222,
             "#7201a8"
            ],
            [
             0.3333333333333333,
             "#9c179e"
            ],
            [
             0.4444444444444444,
             "#bd3786"
            ],
            [
             0.5555555555555556,
             "#d8576b"
            ],
            [
             0.6666666666666666,
             "#ed7953"
            ],
            [
             0.7777777777777778,
             "#fb9f3a"
            ],
            [
             0.8888888888888888,
             "#fdca26"
            ],
            [
             1.0,
             "#f0f921"
            ]
           ],
           "sequentialminus": [
            [
             0.0,
             "#0d0887"
            ],
            [
             0.1111111111111111,
             "#46039f"
            ],
            [
             0.2222222222222222,
             "#7201a8"
            ],
            [
             0.3333333333333333,
             "#9c179e"
            ],
            [
             0.4444444444444444,
             "#bd3786"
            ],
            [
             0.5555555555555556,
             "#d8576b"
            ],
            [
             0.6666666666666666,
             "#ed7953"
            ],
            [
             0.7777777777777778,
             "#fb9f3a"
            ],
            [
             0.8888888888888888,
             "#fdca26"
            ],
            [
             1.0,
             "#f0f921"
            ]
           ],
           "diverging": [
            [
             0,
             "#8e0152"
            ],
            [
             0.1,
             "#c51b7d"
            ],
            [
             0.2,
             "#de77ae"
            ],
            [
             0.3,
             "#f1b6da"
            ],
            [
             0.4,
             "#fde0ef"
            ],
            [
             0.5,
             "#f7f7f7"
            ],
            [
             0.6,
             "#e6f5d0"
            ],
            [
             0.7,
             "#b8e186"
            ],
            [
             0.8,
             "#7fbc41"
            ],
            [
             0.9,
             "#4d9221"
            ],
            [
             1,
             "#276419"
            ]
           ]
          },
          "xaxis": {
           "gridcolor": "white",
           "linecolor": "white",
           "ticks": "",
           "title": {
            "standoff": 15
           },
           "zerolinecolor": "white",
           "automargin": true,
           "zerolinewidth": 2
          },
          "yaxis": {
           "gridcolor": "white",
           "linecolor": "white",
           "ticks": "",
           "title": {
            "standoff": 15
           },
           "zerolinecolor": "white",
           "automargin": true,
           "zerolinewidth": 2
          },
          "scene": {
           "xaxis": {
            "backgroundcolor": "#E5ECF6",
            "gridcolor": "white",
            "linecolor": "white",
            "showbackground": true,
            "ticks": "",
            "zerolinecolor": "white",
            "gridwidth": 2
           },
           "yaxis": {
            "backgroundcolor": "#E5ECF6",
            "gridcolor": "white",
            "linecolor": "white",
            "showbackground": true,
            "ticks": "",
            "zerolinecolor": "white",
            "gridwidth": 2
           },
           "zaxis": {
            "backgroundcolor": "#E5ECF6",
            "gridcolor": "white",
            "linecolor": "white",
            "showbackground": true,
            "ticks": "",
            "zerolinecolor": "white",
            "gridwidth": 2
           }
          },
          "shapedefaults": {
           "line": {
            "color": "#2a3f5f"
           }
          },
          "annotationdefaults": {
           "arrowcolor": "#2a3f5f",
           "arrowhead": 0,
           "arrowwidth": 1
          },
          "geo": {
           "bgcolor": "white",
           "landcolor": "#E5ECF6",
           "subunitcolor": "white",
           "showland": true,
           "showlakes": true,
           "lakecolor": "white"
          },
          "title": {
           "x": 0.05
          },
          "mapbox": {
           "style": "light"
          }
         }
        },
        "title": {
         "text": "$\\text{Average reward for every 250 games - }\\epsilon_{opt}=0.5$"
        },
        "xaxis": {
         "title": {
          "text": "$game$"
         }
        },
        "yaxis": {
         "title": {
          "text": "$average(reward)\\text{- 250 games}$"
         }
        }
       },
       "config": {
        "plotlyServerURL": "https://plot.ly"
       }
      },
      "text/html": "<div>                            <div id=\"7245155b-11c6-4d9b-9277-8dfe30bc1d7e\" class=\"plotly-graph-div\" style=\"height:525px; width:100%;\"></div>            <script type=\"text/javascript\">                require([\"plotly\"], function(Plotly) {                    window.PLOTLYENV=window.PLOTLYENV || {};                                    if (document.getElementById(\"7245155b-11c6-4d9b-9277-8dfe30bc1d7e\")) {                    Plotly.newPlot(                        \"7245155b-11c6-4d9b-9277-8dfe30bc1d7e\",                        [{\"mode\":\"lines\",\"x\":[249,499,749,999,1249,1499,1749,1999,2249,2499,2749,2999,3249,3499,3749,3999,4249,4499,4749,4999,5249,5499,5749,5999,6249,6499,6749,6999,7249,7499,7749,7999,8249,8499,8749,8999,9249,9499,9749,9999,10249,10499,10749,10999,11249,11499,11749,11999,12249,12499,12749,12999,13249,13499,13749,13999,14249,14499,14749,14999,15249,15499,15749,15999,16249,16499,16749,16999,17249,17499,17749,17999,18249,18499,18749,18999,19249,19499,19749,19999],\"y\":[-0.872,-0.584,-0.308,-0.116,-0.132,-0.18,-0.112,-0.04,-0.048,-0.004,0.164,0.044,0.156,0.124,0.036,0.1,0.232,0.2,0.124,0.188,0.208,0.104,0.2,0.288,0.176,0.204,0.196,0.26,0.128,0.072,0.308,0.144,0.14,0.14,0.296,0.128,0.2,0.236,0.252,0.156,0.28,0.208,0.32,0.256,0.272,0.248,0.24,0.2,0.156,0.216,0.228,0.212,0.18,0.248,0.228,0.304,0.248,0.068,0.188,0.208,0.22,0.216,0.208,0.168,0.236,0.204,0.28,0.228,0.212,0.172,0.184,0.228,0.204,0.208,0.168,0.232,0.236,0.264,0.212,0.248],\"type\":\"scatter\"}],                        {\"template\":{\"data\":{\"histogram2dcontour\":[{\"type\":\"histogram2dcontour\",\"colorbar\":{\"outlinewidth\":0,\"ticks\":\"\"},\"colorscale\":[[0.0,\"#0d0887\"],[0.1111111111111111,\"#46039f\"],[0.2222222222222222,\"#7201a8\"],[0.3333333333333333,\"#9c179e\"],[0.4444444444444444,\"#bd3786\"],[0.5555555555555556,\"#d8576b\"],[0.6666666666666666,\"#ed7953\"],[0.7777777777777778,\"#fb9f3a\"],[0.8888888888888888,\"#fdca26\"],[1.0,\"#f0f921\"]]}],\"choropleth\":[{\"type\":\"choropleth\",\"colorbar\":{\"outlinewidth\":0,\"ticks\":\"\"}}],\"histogram2d\":[{\"type\":\"histogram2d\",\"colorbar\":{\"outlinewidth\":0,\"ticks\":\"\"},\"colorscale\":[[0.0,\"#0d0887\"],[0.1111111111111111,\"#46039f\"],[0.2222222222222222,\"#7201a8\"],[0.3333333333333333,\"#9c179e\"],[0.4444444444444444,\"#bd3786\"],[0.5555555555555556,\"#d8576b\"],[0.6666666666666666,\"#ed7953\"],[0.7777777777777778,\"#fb9f3a\"],[0.8888888888888888,\"#fdca26\"],[1.0,\"#f0f921\"]]}],\"heatmap\":[{\"type\":\"heatmap\",\"colorbar\":{\"outlinewidth\":0,\"ticks\":\"\"},\"colorscale\":[[0.0,\"#0d0887\"],[0.1111111111111111,\"#46039f\"],[0.2222222222222222,\"#7201a8\"],[0.3333333333333333,\"#9c179e\"],[0.4444444444444444,\"#bd3786\"],[0.5555555555555556,\"#d8576b\"],[0.6666666666666666,\"#ed7953\"],[0.7777777777777778,\"#fb9f3a\"],[0.8888888888888888,\"#fdca26\"],[1.0,\"#f0f921\"]]}],\"heatmapgl\":[{\"type\":\"heatmapgl\",\"colorbar\":{\"outlinewidth\":0,\"ticks\":\"\"},\"colorscale\":[[0.0,\"#0d0887\"],[0.1111111111111111,\"#46039f\"],[0.2222222222222222,\"#7201a8\"],[0.3333333333333333,\"#9c179e\"],[0.4444444444444444,\"#bd3786\"],[0.5555555555555556,\"#d8576b\"],[0.6666666666666666,\"#ed7953\"],[0.7777777777777778,\"#fb9f3a\"],[0.8888888888888888,\"#fdca26\"],[1.0,\"#f0f921\"]]}],\"contourcarpet\":[{\"type\":\"contourcarpet\",\"colorbar\":{\"outlinewidth\":0,\"ticks\":\"\"}}],\"contour\":[{\"type\":\"contour\",\"colorbar\":{\"outlinewidth\":0,\"ticks\":\"\"},\"colorscale\":[[0.0,\"#0d0887\"],[0.1111111111111111,\"#46039f\"],[0.2222222222222222,\"#7201a8\"],[0.3333333333333333,\"#9c179e\"],[0.4444444444444444,\"#bd3786\"],[0.5555555555555556,\"#d8576b\"],[0.6666666666666666,\"#ed7953\"],[0.7777777777777778,\"#fb9f3a\"],[0.8888888888888888,\"#fdca26\"],[1.0,\"#f0f921\"]]}],\"surface\":[{\"type\":\"surface\",\"colorbar\":{\"outlinewidth\":0,\"ticks\":\"\"},\"colorscale\":[[0.0,\"#0d0887\"],[0.1111111111111111,\"#46039f\"],[0.2222222222222222,\"#7201a8\"],[0.3333333333333333,\"#9c179e\"],[0.4444444444444444,\"#bd3786\"],[0.5555555555555556,\"#d8576b\"],[0.6666666666666666,\"#ed7953\"],[0.7777777777777778,\"#fb9f3a\"],[0.8888888888888888,\"#fdca26\"],[1.0,\"#f0f921\"]]}],\"mesh3d\":[{\"type\":\"mesh3d\",\"colorbar\":{\"outlinewidth\":0,\"ticks\":\"\"}}],\"scatter\":[{\"fillpattern\":{\"fillmode\":\"overlay\",\"size\":10,\"solidity\":0.2},\"type\":\"scatter\"}],\"parcoords\":[{\"type\":\"parcoords\",\"line\":{\"colorbar\":{\"outlinewidth\":0,\"ticks\":\"\"}}}],\"scatterpolargl\":[{\"type\":\"scatterpolargl\",\"marker\":{\"colorbar\":{\"outlinewidth\":0,\"ticks\":\"\"}}}],\"bar\":[{\"error_x\":{\"color\":\"#2a3f5f\"},\"error_y\":{\"color\":\"#2a3f5f\"},\"marker\":{\"line\":{\"color\":\"#E5ECF6\",\"width\":0.5},\"pattern\":{\"fillmode\":\"overlay\",\"size\":10,\"solidity\":0.2}},\"type\":\"bar\"}],\"scattergeo\":[{\"type\":\"scattergeo\",\"marker\":{\"colorbar\":{\"outlinewidth\":0,\"ticks\":\"\"}}}],\"scatterpolar\":[{\"type\":\"scatterpolar\",\"marker\":{\"colorbar\":{\"outlinewidth\":0,\"ticks\":\"\"}}}],\"histogram\":[{\"marker\":{\"pattern\":{\"fillmode\":\"overlay\",\"size\":10,\"solidity\":0.2}},\"type\":\"histogram\"}],\"scattergl\":[{\"type\":\"scattergl\",\"marker\":{\"colorbar\":{\"outlinewidth\":0,\"ticks\":\"\"}}}],\"scatter3d\":[{\"type\":\"scatter3d\",\"line\":{\"colorbar\":{\"outlinewidth\":0,\"ticks\":\"\"}},\"marker\":{\"colorbar\":{\"outlinewidth\":0,\"ticks\":\"\"}}}],\"scattermapbox\":[{\"type\":\"scattermapbox\",\"marker\":{\"colorbar\":{\"outlinewidth\":0,\"ticks\":\"\"}}}],\"scatterternary\":[{\"type\":\"scatterternary\",\"marker\":{\"colorbar\":{\"outlinewidth\":0,\"ticks\":\"\"}}}],\"scattercarpet\":[{\"type\":\"scattercarpet\",\"marker\":{\"colorbar\":{\"outlinewidth\":0,\"ticks\":\"\"}}}],\"carpet\":[{\"aaxis\":{\"endlinecolor\":\"#2a3f5f\",\"gridcolor\":\"white\",\"linecolor\":\"white\",\"minorgridcolor\":\"white\",\"startlinecolor\":\"#2a3f5f\"},\"baxis\":{\"endlinecolor\":\"#2a3f5f\",\"gridcolor\":\"white\",\"linecolor\":\"white\",\"minorgridcolor\":\"white\",\"startlinecolor\":\"#2a3f5f\"},\"type\":\"carpet\"}],\"table\":[{\"cells\":{\"fill\":{\"color\":\"#EBF0F8\"},\"line\":{\"color\":\"white\"}},\"header\":{\"fill\":{\"color\":\"#C8D4E3\"},\"line\":{\"color\":\"white\"}},\"type\":\"table\"}],\"barpolar\":[{\"marker\":{\"line\":{\"color\":\"#E5ECF6\",\"width\":0.5},\"pattern\":{\"fillmode\":\"overlay\",\"size\":10,\"solidity\":0.2}},\"type\":\"barpolar\"}],\"pie\":[{\"automargin\":true,\"type\":\"pie\"}]},\"layout\":{\"autotypenumbers\":\"strict\",\"colorway\":[\"#636efa\",\"#EF553B\",\"#00cc96\",\"#ab63fa\",\"#FFA15A\",\"#19d3f3\",\"#FF6692\",\"#B6E880\",\"#FF97FF\",\"#FECB52\"],\"font\":{\"color\":\"#2a3f5f\"},\"hovermode\":\"closest\",\"hoverlabel\":{\"align\":\"left\"},\"paper_bgcolor\":\"white\",\"plot_bgcolor\":\"#E5ECF6\",\"polar\":{\"bgcolor\":\"#E5ECF6\",\"angularaxis\":{\"gridcolor\":\"white\",\"linecolor\":\"white\",\"ticks\":\"\"},\"radialaxis\":{\"gridcolor\":\"white\",\"linecolor\":\"white\",\"ticks\":\"\"}},\"ternary\":{\"bgcolor\":\"#E5ECF6\",\"aaxis\":{\"gridcolor\":\"white\",\"linecolor\":\"white\",\"ticks\":\"\"},\"baxis\":{\"gridcolor\":\"white\",\"linecolor\":\"white\",\"ticks\":\"\"},\"caxis\":{\"gridcolor\":\"white\",\"linecolor\":\"white\",\"ticks\":\"\"}},\"coloraxis\":{\"colorbar\":{\"outlinewidth\":0,\"ticks\":\"\"}},\"colorscale\":{\"sequential\":[[0.0,\"#0d0887\"],[0.1111111111111111,\"#46039f\"],[0.2222222222222222,\"#7201a8\"],[0.3333333333333333,\"#9c179e\"],[0.4444444444444444,\"#bd3786\"],[0.5555555555555556,\"#d8576b\"],[0.6666666666666666,\"#ed7953\"],[0.7777777777777778,\"#fb9f3a\"],[0.8888888888888888,\"#fdca26\"],[1.0,\"#f0f921\"]],\"sequentialminus\":[[0.0,\"#0d0887\"],[0.1111111111111111,\"#46039f\"],[0.2222222222222222,\"#7201a8\"],[0.3333333333333333,\"#9c179e\"],[0.4444444444444444,\"#bd3786\"],[0.5555555555555556,\"#d8576b\"],[0.6666666666666666,\"#ed7953\"],[0.7777777777777778,\"#fb9f3a\"],[0.8888888888888888,\"#fdca26\"],[1.0,\"#f0f921\"]],\"diverging\":[[0,\"#8e0152\"],[0.1,\"#c51b7d\"],[0.2,\"#de77ae\"],[0.3,\"#f1b6da\"],[0.4,\"#fde0ef\"],[0.5,\"#f7f7f7\"],[0.6,\"#e6f5d0\"],[0.7,\"#b8e186\"],[0.8,\"#7fbc41\"],[0.9,\"#4d9221\"],[1,\"#276419\"]]},\"xaxis\":{\"gridcolor\":\"white\",\"linecolor\":\"white\",\"ticks\":\"\",\"title\":{\"standoff\":15},\"zerolinecolor\":\"white\",\"automargin\":true,\"zerolinewidth\":2},\"yaxis\":{\"gridcolor\":\"white\",\"linecolor\":\"white\",\"ticks\":\"\",\"title\":{\"standoff\":15},\"zerolinecolor\":\"white\",\"automargin\":true,\"zerolinewidth\":2},\"scene\":{\"xaxis\":{\"backgroundcolor\":\"#E5ECF6\",\"gridcolor\":\"white\",\"linecolor\":\"white\",\"showbackground\":true,\"ticks\":\"\",\"zerolinecolor\":\"white\",\"gridwidth\":2},\"yaxis\":{\"backgroundcolor\":\"#E5ECF6\",\"gridcolor\":\"white\",\"linecolor\":\"white\",\"showbackground\":true,\"ticks\":\"\",\"zerolinecolor\":\"white\",\"gridwidth\":2},\"zaxis\":{\"backgroundcolor\":\"#E5ECF6\",\"gridcolor\":\"white\",\"linecolor\":\"white\",\"showbackground\":true,\"ticks\":\"\",\"zerolinecolor\":\"white\",\"gridwidth\":2}},\"shapedefaults\":{\"line\":{\"color\":\"#2a3f5f\"}},\"annotationdefaults\":{\"arrowcolor\":\"#2a3f5f\",\"arrowhead\":0,\"arrowwidth\":1},\"geo\":{\"bgcolor\":\"white\",\"landcolor\":\"#E5ECF6\",\"subunitcolor\":\"white\",\"showland\":true,\"showlakes\":true,\"lakecolor\":\"white\"},\"title\":{\"x\":0.05},\"mapbox\":{\"style\":\"light\"}}},\"title\":{\"text\":\"$\\\\text{Average reward for every 250 games - }\\\\epsilon_{opt}=0.5$\"},\"xaxis\":{\"title\":{\"text\":\"$game$\"}},\"yaxis\":{\"title\":{\"text\":\"$average(reward)\\\\text{- 250 games}$\"}}},                        {\"responsive\": true}                    ).then(function(){\n                            \nvar gd = document.getElementById('7245155b-11c6-4d9b-9277-8dfe30bc1d7e');\nvar x = new MutationObserver(function (mutations, observer) {{\n        var display = window.getComputedStyle(gd).display;\n        if (!display || display === 'none') {{\n            console.log([gd, 'removed!']);\n            Plotly.purge(gd);\n            observer.disconnect();\n        }}\n}});\n\n// Listen for the removal of the full notebook cells\nvar notebookContainer = gd.closest('#notebook-container');\nif (notebookContainer) {{\n    x.observe(notebookContainer, {childList: true});\n}}\n\n// Listen for the clearing of the current output cell\nvar outputEl = gd.closest('.output');\nif (outputEl) {{\n    x.observe(outputEl, {childList: true});\n}}\n\n                        })                };                });            </script>        </div>"
     },
     "metadata": {},
     "output_type": "display_data"
    }
   ],
   "source": [
    "fig = go.Figure()\n",
    "\n",
    "fig.add_trace(go.Scatter(x=x, y=rewards, mode='lines'))\n",
    "\n",
    "fig.update_layout(\n",
    "    title=r'$\\text{Average reward for every %d games - }\\epsilon_{opt}=0.5$' % averaging_steps,\n",
    "    xaxis_title=r'$game$',\n",
    "    yaxis_title=r'$average(reward)\\text{- %d games}$' % (averaging_steps),\n",
    ")\n",
    "\n",
    "fig.show()"
   ],
   "metadata": {
    "collapsed": false,
    "pycharm": {
     "name": "#%%\n"
    }
   }
  },
  {
   "cell_type": "code",
   "execution_count": 36,
   "outputs": [
    {
     "data": {
      "application/vnd.plotly.v1+json": {
       "data": [
        {
         "mode": "lines",
         "x": [
          249,
          499,
          749,
          999,
          1249,
          1499,
          1749,
          1999,
          2249,
          2499,
          2749,
          2999,
          3249,
          3499,
          3749,
          3999,
          4249,
          4499,
          4749,
          4999,
          5249,
          5499,
          5749,
          5999,
          6249,
          6499,
          6749,
          6999,
          7249,
          7499,
          7749,
          7999,
          8249,
          8499,
          8749,
          8999,
          9249,
          9499,
          9749,
          9999,
          10249,
          10499,
          10749,
          10999,
          11249,
          11499,
          11749,
          11999,
          12249,
          12499,
          12749,
          12999,
          13249,
          13499,
          13749,
          13999,
          14249,
          14499,
          14749,
          14999,
          15249,
          15499,
          15749,
          15999,
          16249,
          16499,
          16749,
          16999,
          17249,
          17499,
          17749,
          17999,
          18249,
          18499,
          18749,
          18999,
          19249,
          19499,
          19749,
          19999
         ],
         "y": [
          0.09901772705869302,
          0.08768088468849589,
          0.08683151338816135,
          0.08150814767311218,
          0.08866159153130779,
          0.08503530416052195,
          0.08575153858378601,
          0.08433368758712131,
          0.08275425595120858,
          0.080450866018703,
          0.07997356859125095,
          0.07500083155971665,
          0.07516671404723198,
          0.07139795004280299,
          0.07109972642177337,
          0.06845958138631511,
          0.06354282453842039,
          0.06053123262389905,
          0.061459140705477505,
          0.06001434424288081,
          0.060989060718146665,
          0.06129178860529462,
          0.06463972987407704,
          0.06325514071467349,
          0.06229756523045504,
          0.061166107688553656,
          0.06314435876309527,
          0.06351475659021213,
          0.062253693203639666,
          0.06119890846561508,
          0.06322074615297751,
          0.06237936321539538,
          0.0647604340327565,
          0.06597532687080992,
          0.062486764335507324,
          0.06108721777534877,
          0.06199317685407556,
          0.0630266994860915,
          0.061315744899561785,
          0.06162569422168391,
          0.06064141050677751,
          0.060079764924273735,
          0.060367800594139015,
          0.059941884142881874,
          0.06224871146162598,
          0.060455712908721426,
          0.062262913006865844,
          0.06231988867492418,
          0.06102452807753506,
          0.0633021502400061,
          0.062074774475148725,
          0.06033263340006861,
          0.06306559625650106,
          0.06372387935031329,
          0.06453302424465646,
          0.06520446961756143,
          0.06344668792636551,
          0.06377291603914884,
          0.06239502822776159,
          0.06391901432857724,
          0.06348777195213905,
          0.06270574963737224,
          0.06423880330491769,
          0.0646103287090351,
          0.06634275349799122,
          0.0674952544597,
          0.06721675291230983,
          0.06607602358227617,
          0.06357711532854297,
          0.0628931634593755,
          0.06433966439153901,
          0.06415078846669388,
          0.06566041859748241,
          0.06540141379121071,
          0.063261183371552,
          0.06419047997798248,
          0.06412662507357739,
          0.0640921530344239,
          0.06472052830293423,
          0.06623945433144154
         ],
         "type": "scatter"
        }
       ],
       "layout": {
        "template": {
         "data": {
          "histogram2dcontour": [
           {
            "type": "histogram2dcontour",
            "colorbar": {
             "outlinewidth": 0,
             "ticks": ""
            },
            "colorscale": [
             [
              0.0,
              "#0d0887"
             ],
             [
              0.1111111111111111,
              "#46039f"
             ],
             [
              0.2222222222222222,
              "#7201a8"
             ],
             [
              0.3333333333333333,
              "#9c179e"
             ],
             [
              0.4444444444444444,
              "#bd3786"
             ],
             [
              0.5555555555555556,
              "#d8576b"
             ],
             [
              0.6666666666666666,
              "#ed7953"
             ],
             [
              0.7777777777777778,
              "#fb9f3a"
             ],
             [
              0.8888888888888888,
              "#fdca26"
             ],
             [
              1.0,
              "#f0f921"
             ]
            ]
           }
          ],
          "choropleth": [
           {
            "type": "choropleth",
            "colorbar": {
             "outlinewidth": 0,
             "ticks": ""
            }
           }
          ],
          "histogram2d": [
           {
            "type": "histogram2d",
            "colorbar": {
             "outlinewidth": 0,
             "ticks": ""
            },
            "colorscale": [
             [
              0.0,
              "#0d0887"
             ],
             [
              0.1111111111111111,
              "#46039f"
             ],
             [
              0.2222222222222222,
              "#7201a8"
             ],
             [
              0.3333333333333333,
              "#9c179e"
             ],
             [
              0.4444444444444444,
              "#bd3786"
             ],
             [
              0.5555555555555556,
              "#d8576b"
             ],
             [
              0.6666666666666666,
              "#ed7953"
             ],
             [
              0.7777777777777778,
              "#fb9f3a"
             ],
             [
              0.8888888888888888,
              "#fdca26"
             ],
             [
              1.0,
              "#f0f921"
             ]
            ]
           }
          ],
          "heatmap": [
           {
            "type": "heatmap",
            "colorbar": {
             "outlinewidth": 0,
             "ticks": ""
            },
            "colorscale": [
             [
              0.0,
              "#0d0887"
             ],
             [
              0.1111111111111111,
              "#46039f"
             ],
             [
              0.2222222222222222,
              "#7201a8"
             ],
             [
              0.3333333333333333,
              "#9c179e"
             ],
             [
              0.4444444444444444,
              "#bd3786"
             ],
             [
              0.5555555555555556,
              "#d8576b"
             ],
             [
              0.6666666666666666,
              "#ed7953"
             ],
             [
              0.7777777777777778,
              "#fb9f3a"
             ],
             [
              0.8888888888888888,
              "#fdca26"
             ],
             [
              1.0,
              "#f0f921"
             ]
            ]
           }
          ],
          "heatmapgl": [
           {
            "type": "heatmapgl",
            "colorbar": {
             "outlinewidth": 0,
             "ticks": ""
            },
            "colorscale": [
             [
              0.0,
              "#0d0887"
             ],
             [
              0.1111111111111111,
              "#46039f"
             ],
             [
              0.2222222222222222,
              "#7201a8"
             ],
             [
              0.3333333333333333,
              "#9c179e"
             ],
             [
              0.4444444444444444,
              "#bd3786"
             ],
             [
              0.5555555555555556,
              "#d8576b"
             ],
             [
              0.6666666666666666,
              "#ed7953"
             ],
             [
              0.7777777777777778,
              "#fb9f3a"
             ],
             [
              0.8888888888888888,
              "#fdca26"
             ],
             [
              1.0,
              "#f0f921"
             ]
            ]
           }
          ],
          "contourcarpet": [
           {
            "type": "contourcarpet",
            "colorbar": {
             "outlinewidth": 0,
             "ticks": ""
            }
           }
          ],
          "contour": [
           {
            "type": "contour",
            "colorbar": {
             "outlinewidth": 0,
             "ticks": ""
            },
            "colorscale": [
             [
              0.0,
              "#0d0887"
             ],
             [
              0.1111111111111111,
              "#46039f"
             ],
             [
              0.2222222222222222,
              "#7201a8"
             ],
             [
              0.3333333333333333,
              "#9c179e"
             ],
             [
              0.4444444444444444,
              "#bd3786"
             ],
             [
              0.5555555555555556,
              "#d8576b"
             ],
             [
              0.6666666666666666,
              "#ed7953"
             ],
             [
              0.7777777777777778,
              "#fb9f3a"
             ],
             [
              0.8888888888888888,
              "#fdca26"
             ],
             [
              1.0,
              "#f0f921"
             ]
            ]
           }
          ],
          "surface": [
           {
            "type": "surface",
            "colorbar": {
             "outlinewidth": 0,
             "ticks": ""
            },
            "colorscale": [
             [
              0.0,
              "#0d0887"
             ],
             [
              0.1111111111111111,
              "#46039f"
             ],
             [
              0.2222222222222222,
              "#7201a8"
             ],
             [
              0.3333333333333333,
              "#9c179e"
             ],
             [
              0.4444444444444444,
              "#bd3786"
             ],
             [
              0.5555555555555556,
              "#d8576b"
             ],
             [
              0.6666666666666666,
              "#ed7953"
             ],
             [
              0.7777777777777778,
              "#fb9f3a"
             ],
             [
              0.8888888888888888,
              "#fdca26"
             ],
             [
              1.0,
              "#f0f921"
             ]
            ]
           }
          ],
          "mesh3d": [
           {
            "type": "mesh3d",
            "colorbar": {
             "outlinewidth": 0,
             "ticks": ""
            }
           }
          ],
          "scatter": [
           {
            "fillpattern": {
             "fillmode": "overlay",
             "size": 10,
             "solidity": 0.2
            },
            "type": "scatter"
           }
          ],
          "parcoords": [
           {
            "type": "parcoords",
            "line": {
             "colorbar": {
              "outlinewidth": 0,
              "ticks": ""
             }
            }
           }
          ],
          "scatterpolargl": [
           {
            "type": "scatterpolargl",
            "marker": {
             "colorbar": {
              "outlinewidth": 0,
              "ticks": ""
             }
            }
           }
          ],
          "bar": [
           {
            "error_x": {
             "color": "#2a3f5f"
            },
            "error_y": {
             "color": "#2a3f5f"
            },
            "marker": {
             "line": {
              "color": "#E5ECF6",
              "width": 0.5
             },
             "pattern": {
              "fillmode": "overlay",
              "size": 10,
              "solidity": 0.2
             }
            },
            "type": "bar"
           }
          ],
          "scattergeo": [
           {
            "type": "scattergeo",
            "marker": {
             "colorbar": {
              "outlinewidth": 0,
              "ticks": ""
             }
            }
           }
          ],
          "scatterpolar": [
           {
            "type": "scatterpolar",
            "marker": {
             "colorbar": {
              "outlinewidth": 0,
              "ticks": ""
             }
            }
           }
          ],
          "histogram": [
           {
            "marker": {
             "pattern": {
              "fillmode": "overlay",
              "size": 10,
              "solidity": 0.2
             }
            },
            "type": "histogram"
           }
          ],
          "scattergl": [
           {
            "type": "scattergl",
            "marker": {
             "colorbar": {
              "outlinewidth": 0,
              "ticks": ""
             }
            }
           }
          ],
          "scatter3d": [
           {
            "type": "scatter3d",
            "line": {
             "colorbar": {
              "outlinewidth": 0,
              "ticks": ""
             }
            },
            "marker": {
             "colorbar": {
              "outlinewidth": 0,
              "ticks": ""
             }
            }
           }
          ],
          "scattermapbox": [
           {
            "type": "scattermapbox",
            "marker": {
             "colorbar": {
              "outlinewidth": 0,
              "ticks": ""
             }
            }
           }
          ],
          "scatterternary": [
           {
            "type": "scatterternary",
            "marker": {
             "colorbar": {
              "outlinewidth": 0,
              "ticks": ""
             }
            }
           }
          ],
          "scattercarpet": [
           {
            "type": "scattercarpet",
            "marker": {
             "colorbar": {
              "outlinewidth": 0,
              "ticks": ""
             }
            }
           }
          ],
          "carpet": [
           {
            "aaxis": {
             "endlinecolor": "#2a3f5f",
             "gridcolor": "white",
             "linecolor": "white",
             "minorgridcolor": "white",
             "startlinecolor": "#2a3f5f"
            },
            "baxis": {
             "endlinecolor": "#2a3f5f",
             "gridcolor": "white",
             "linecolor": "white",
             "minorgridcolor": "white",
             "startlinecolor": "#2a3f5f"
            },
            "type": "carpet"
           }
          ],
          "table": [
           {
            "cells": {
             "fill": {
              "color": "#EBF0F8"
             },
             "line": {
              "color": "white"
             }
            },
            "header": {
             "fill": {
              "color": "#C8D4E3"
             },
             "line": {
              "color": "white"
             }
            },
            "type": "table"
           }
          ],
          "barpolar": [
           {
            "marker": {
             "line": {
              "color": "#E5ECF6",
              "width": 0.5
             },
             "pattern": {
              "fillmode": "overlay",
              "size": 10,
              "solidity": 0.2
             }
            },
            "type": "barpolar"
           }
          ],
          "pie": [
           {
            "automargin": true,
            "type": "pie"
           }
          ]
         },
         "layout": {
          "autotypenumbers": "strict",
          "colorway": [
           "#636efa",
           "#EF553B",
           "#00cc96",
           "#ab63fa",
           "#FFA15A",
           "#19d3f3",
           "#FF6692",
           "#B6E880",
           "#FF97FF",
           "#FECB52"
          ],
          "font": {
           "color": "#2a3f5f"
          },
          "hovermode": "closest",
          "hoverlabel": {
           "align": "left"
          },
          "paper_bgcolor": "white",
          "plot_bgcolor": "#E5ECF6",
          "polar": {
           "bgcolor": "#E5ECF6",
           "angularaxis": {
            "gridcolor": "white",
            "linecolor": "white",
            "ticks": ""
           },
           "radialaxis": {
            "gridcolor": "white",
            "linecolor": "white",
            "ticks": ""
           }
          },
          "ternary": {
           "bgcolor": "#E5ECF6",
           "aaxis": {
            "gridcolor": "white",
            "linecolor": "white",
            "ticks": ""
           },
           "baxis": {
            "gridcolor": "white",
            "linecolor": "white",
            "ticks": ""
           },
           "caxis": {
            "gridcolor": "white",
            "linecolor": "white",
            "ticks": ""
           }
          },
          "coloraxis": {
           "colorbar": {
            "outlinewidth": 0,
            "ticks": ""
           }
          },
          "colorscale": {
           "sequential": [
            [
             0.0,
             "#0d0887"
            ],
            [
             0.1111111111111111,
             "#46039f"
            ],
            [
             0.2222222222222222,
             "#7201a8"
            ],
            [
             0.3333333333333333,
             "#9c179e"
            ],
            [
             0.4444444444444444,
             "#bd3786"
            ],
            [
             0.5555555555555556,
             "#d8576b"
            ],
            [
             0.6666666666666666,
             "#ed7953"
            ],
            [
             0.7777777777777778,
             "#fb9f3a"
            ],
            [
             0.8888888888888888,
             "#fdca26"
            ],
            [
             1.0,
             "#f0f921"
            ]
           ],
           "sequentialminus": [
            [
             0.0,
             "#0d0887"
            ],
            [
             0.1111111111111111,
             "#46039f"
            ],
            [
             0.2222222222222222,
             "#7201a8"
            ],
            [
             0.3333333333333333,
             "#9c179e"
            ],
            [
             0.4444444444444444,
             "#bd3786"
            ],
            [
             0.5555555555555556,
             "#d8576b"
            ],
            [
             0.6666666666666666,
             "#ed7953"
            ],
            [
             0.7777777777777778,
             "#fb9f3a"
            ],
            [
             0.8888888888888888,
             "#fdca26"
            ],
            [
             1.0,
             "#f0f921"
            ]
           ],
           "diverging": [
            [
             0,
             "#8e0152"
            ],
            [
             0.1,
             "#c51b7d"
            ],
            [
             0.2,
             "#de77ae"
            ],
            [
             0.3,
             "#f1b6da"
            ],
            [
             0.4,
             "#fde0ef"
            ],
            [
             0.5,
             "#f7f7f7"
            ],
            [
             0.6,
             "#e6f5d0"
            ],
            [
             0.7,
             "#b8e186"
            ],
            [
             0.8,
             "#7fbc41"
            ],
            [
             0.9,
             "#4d9221"
            ],
            [
             1,
             "#276419"
            ]
           ]
          },
          "xaxis": {
           "gridcolor": "white",
           "linecolor": "white",
           "ticks": "",
           "title": {
            "standoff": 15
           },
           "zerolinecolor": "white",
           "automargin": true,
           "zerolinewidth": 2
          },
          "yaxis": {
           "gridcolor": "white",
           "linecolor": "white",
           "ticks": "",
           "title": {
            "standoff": 15
           },
           "zerolinecolor": "white",
           "automargin": true,
           "zerolinewidth": 2
          },
          "scene": {
           "xaxis": {
            "backgroundcolor": "#E5ECF6",
            "gridcolor": "white",
            "linecolor": "white",
            "showbackground": true,
            "ticks": "",
            "zerolinecolor": "white",
            "gridwidth": 2
           },
           "yaxis": {
            "backgroundcolor": "#E5ECF6",
            "gridcolor": "white",
            "linecolor": "white",
            "showbackground": true,
            "ticks": "",
            "zerolinecolor": "white",
            "gridwidth": 2
           },
           "zaxis": {
            "backgroundcolor": "#E5ECF6",
            "gridcolor": "white",
            "linecolor": "white",
            "showbackground": true,
            "ticks": "",
            "zerolinecolor": "white",
            "gridwidth": 2
           }
          },
          "shapedefaults": {
           "line": {
            "color": "#2a3f5f"
           }
          },
          "annotationdefaults": {
           "arrowcolor": "#2a3f5f",
           "arrowhead": 0,
           "arrowwidth": 1
          },
          "geo": {
           "bgcolor": "white",
           "landcolor": "#E5ECF6",
           "subunitcolor": "white",
           "showland": true,
           "showlakes": true,
           "lakecolor": "white"
          },
          "title": {
           "x": 0.05
          },
          "mapbox": {
           "style": "light"
          }
         }
        },
        "title": {
         "text": "$\\text{Average loss for every 250 games - }\\epsilon_{opt}=0.5$"
        },
        "xaxis": {
         "title": {
          "text": "$game$"
         }
        },
        "yaxis": {
         "title": {
          "text": "$average(loss)\\text{- 250 games}$"
         }
        }
       },
       "config": {
        "plotlyServerURL": "https://plot.ly"
       }
      },
      "text/html": "<div>                            <div id=\"5c4c2aab-775b-4c99-bf67-7d3632a83eae\" class=\"plotly-graph-div\" style=\"height:525px; width:100%;\"></div>            <script type=\"text/javascript\">                require([\"plotly\"], function(Plotly) {                    window.PLOTLYENV=window.PLOTLYENV || {};                                    if (document.getElementById(\"5c4c2aab-775b-4c99-bf67-7d3632a83eae\")) {                    Plotly.newPlot(                        \"5c4c2aab-775b-4c99-bf67-7d3632a83eae\",                        [{\"mode\":\"lines\",\"x\":[249,499,749,999,1249,1499,1749,1999,2249,2499,2749,2999,3249,3499,3749,3999,4249,4499,4749,4999,5249,5499,5749,5999,6249,6499,6749,6999,7249,7499,7749,7999,8249,8499,8749,8999,9249,9499,9749,9999,10249,10499,10749,10999,11249,11499,11749,11999,12249,12499,12749,12999,13249,13499,13749,13999,14249,14499,14749,14999,15249,15499,15749,15999,16249,16499,16749,16999,17249,17499,17749,17999,18249,18499,18749,18999,19249,19499,19749,19999],\"y\":[0.09901772705869302,0.08768088468849589,0.08683151338816135,0.08150814767311218,0.08866159153130779,0.08503530416052195,0.08575153858378601,0.08433368758712131,0.08275425595120858,0.080450866018703,0.07997356859125095,0.07500083155971665,0.07516671404723198,0.07139795004280299,0.07109972642177337,0.06845958138631511,0.06354282453842039,0.06053123262389905,0.061459140705477505,0.06001434424288081,0.060989060718146665,0.06129178860529462,0.06463972987407704,0.06325514071467349,0.06229756523045504,0.061166107688553656,0.06314435876309527,0.06351475659021213,0.062253693203639666,0.06119890846561508,0.06322074615297751,0.06237936321539538,0.0647604340327565,0.06597532687080992,0.062486764335507324,0.06108721777534877,0.06199317685407556,0.0630266994860915,0.061315744899561785,0.06162569422168391,0.06064141050677751,0.060079764924273735,0.060367800594139015,0.059941884142881874,0.06224871146162598,0.060455712908721426,0.062262913006865844,0.06231988867492418,0.06102452807753506,0.0633021502400061,0.062074774475148725,0.06033263340006861,0.06306559625650106,0.06372387935031329,0.06453302424465646,0.06520446961756143,0.06344668792636551,0.06377291603914884,0.06239502822776159,0.06391901432857724,0.06348777195213905,0.06270574963737224,0.06423880330491769,0.0646103287090351,0.06634275349799122,0.0674952544597,0.06721675291230983,0.06607602358227617,0.06357711532854297,0.0628931634593755,0.06433966439153901,0.06415078846669388,0.06566041859748241,0.06540141379121071,0.063261183371552,0.06419047997798248,0.06412662507357739,0.0640921530344239,0.06472052830293423,0.06623945433144154],\"type\":\"scatter\"}],                        {\"template\":{\"data\":{\"histogram2dcontour\":[{\"type\":\"histogram2dcontour\",\"colorbar\":{\"outlinewidth\":0,\"ticks\":\"\"},\"colorscale\":[[0.0,\"#0d0887\"],[0.1111111111111111,\"#46039f\"],[0.2222222222222222,\"#7201a8\"],[0.3333333333333333,\"#9c179e\"],[0.4444444444444444,\"#bd3786\"],[0.5555555555555556,\"#d8576b\"],[0.6666666666666666,\"#ed7953\"],[0.7777777777777778,\"#fb9f3a\"],[0.8888888888888888,\"#fdca26\"],[1.0,\"#f0f921\"]]}],\"choropleth\":[{\"type\":\"choropleth\",\"colorbar\":{\"outlinewidth\":0,\"ticks\":\"\"}}],\"histogram2d\":[{\"type\":\"histogram2d\",\"colorbar\":{\"outlinewidth\":0,\"ticks\":\"\"},\"colorscale\":[[0.0,\"#0d0887\"],[0.1111111111111111,\"#46039f\"],[0.2222222222222222,\"#7201a8\"],[0.3333333333333333,\"#9c179e\"],[0.4444444444444444,\"#bd3786\"],[0.5555555555555556,\"#d8576b\"],[0.6666666666666666,\"#ed7953\"],[0.7777777777777778,\"#fb9f3a\"],[0.8888888888888888,\"#fdca26\"],[1.0,\"#f0f921\"]]}],\"heatmap\":[{\"type\":\"heatmap\",\"colorbar\":{\"outlinewidth\":0,\"ticks\":\"\"},\"colorscale\":[[0.0,\"#0d0887\"],[0.1111111111111111,\"#46039f\"],[0.2222222222222222,\"#7201a8\"],[0.3333333333333333,\"#9c179e\"],[0.4444444444444444,\"#bd3786\"],[0.5555555555555556,\"#d8576b\"],[0.6666666666666666,\"#ed7953\"],[0.7777777777777778,\"#fb9f3a\"],[0.8888888888888888,\"#fdca26\"],[1.0,\"#f0f921\"]]}],\"heatmapgl\":[{\"type\":\"heatmapgl\",\"colorbar\":{\"outlinewidth\":0,\"ticks\":\"\"},\"colorscale\":[[0.0,\"#0d0887\"],[0.1111111111111111,\"#46039f\"],[0.2222222222222222,\"#7201a8\"],[0.3333333333333333,\"#9c179e\"],[0.4444444444444444,\"#bd3786\"],[0.5555555555555556,\"#d8576b\"],[0.6666666666666666,\"#ed7953\"],[0.7777777777777778,\"#fb9f3a\"],[0.8888888888888888,\"#fdca26\"],[1.0,\"#f0f921\"]]}],\"contourcarpet\":[{\"type\":\"contourcarpet\",\"colorbar\":{\"outlinewidth\":0,\"ticks\":\"\"}}],\"contour\":[{\"type\":\"contour\",\"colorbar\":{\"outlinewidth\":0,\"ticks\":\"\"},\"colorscale\":[[0.0,\"#0d0887\"],[0.1111111111111111,\"#46039f\"],[0.2222222222222222,\"#7201a8\"],[0.3333333333333333,\"#9c179e\"],[0.4444444444444444,\"#bd3786\"],[0.5555555555555556,\"#d8576b\"],[0.6666666666666666,\"#ed7953\"],[0.7777777777777778,\"#fb9f3a\"],[0.8888888888888888,\"#fdca26\"],[1.0,\"#f0f921\"]]}],\"surface\":[{\"type\":\"surface\",\"colorbar\":{\"outlinewidth\":0,\"ticks\":\"\"},\"colorscale\":[[0.0,\"#0d0887\"],[0.1111111111111111,\"#46039f\"],[0.2222222222222222,\"#7201a8\"],[0.3333333333333333,\"#9c179e\"],[0.4444444444444444,\"#bd3786\"],[0.5555555555555556,\"#d8576b\"],[0.6666666666666666,\"#ed7953\"],[0.7777777777777778,\"#fb9f3a\"],[0.8888888888888888,\"#fdca26\"],[1.0,\"#f0f921\"]]}],\"mesh3d\":[{\"type\":\"mesh3d\",\"colorbar\":{\"outlinewidth\":0,\"ticks\":\"\"}}],\"scatter\":[{\"fillpattern\":{\"fillmode\":\"overlay\",\"size\":10,\"solidity\":0.2},\"type\":\"scatter\"}],\"parcoords\":[{\"type\":\"parcoords\",\"line\":{\"colorbar\":{\"outlinewidth\":0,\"ticks\":\"\"}}}],\"scatterpolargl\":[{\"type\":\"scatterpolargl\",\"marker\":{\"colorbar\":{\"outlinewidth\":0,\"ticks\":\"\"}}}],\"bar\":[{\"error_x\":{\"color\":\"#2a3f5f\"},\"error_y\":{\"color\":\"#2a3f5f\"},\"marker\":{\"line\":{\"color\":\"#E5ECF6\",\"width\":0.5},\"pattern\":{\"fillmode\":\"overlay\",\"size\":10,\"solidity\":0.2}},\"type\":\"bar\"}],\"scattergeo\":[{\"type\":\"scattergeo\",\"marker\":{\"colorbar\":{\"outlinewidth\":0,\"ticks\":\"\"}}}],\"scatterpolar\":[{\"type\":\"scatterpolar\",\"marker\":{\"colorbar\":{\"outlinewidth\":0,\"ticks\":\"\"}}}],\"histogram\":[{\"marker\":{\"pattern\":{\"fillmode\":\"overlay\",\"size\":10,\"solidity\":0.2}},\"type\":\"histogram\"}],\"scattergl\":[{\"type\":\"scattergl\",\"marker\":{\"colorbar\":{\"outlinewidth\":0,\"ticks\":\"\"}}}],\"scatter3d\":[{\"type\":\"scatter3d\",\"line\":{\"colorbar\":{\"outlinewidth\":0,\"ticks\":\"\"}},\"marker\":{\"colorbar\":{\"outlinewidth\":0,\"ticks\":\"\"}}}],\"scattermapbox\":[{\"type\":\"scattermapbox\",\"marker\":{\"colorbar\":{\"outlinewidth\":0,\"ticks\":\"\"}}}],\"scatterternary\":[{\"type\":\"scatterternary\",\"marker\":{\"colorbar\":{\"outlinewidth\":0,\"ticks\":\"\"}}}],\"scattercarpet\":[{\"type\":\"scattercarpet\",\"marker\":{\"colorbar\":{\"outlinewidth\":0,\"ticks\":\"\"}}}],\"carpet\":[{\"aaxis\":{\"endlinecolor\":\"#2a3f5f\",\"gridcolor\":\"white\",\"linecolor\":\"white\",\"minorgridcolor\":\"white\",\"startlinecolor\":\"#2a3f5f\"},\"baxis\":{\"endlinecolor\":\"#2a3f5f\",\"gridcolor\":\"white\",\"linecolor\":\"white\",\"minorgridcolor\":\"white\",\"startlinecolor\":\"#2a3f5f\"},\"type\":\"carpet\"}],\"table\":[{\"cells\":{\"fill\":{\"color\":\"#EBF0F8\"},\"line\":{\"color\":\"white\"}},\"header\":{\"fill\":{\"color\":\"#C8D4E3\"},\"line\":{\"color\":\"white\"}},\"type\":\"table\"}],\"barpolar\":[{\"marker\":{\"line\":{\"color\":\"#E5ECF6\",\"width\":0.5},\"pattern\":{\"fillmode\":\"overlay\",\"size\":10,\"solidity\":0.2}},\"type\":\"barpolar\"}],\"pie\":[{\"automargin\":true,\"type\":\"pie\"}]},\"layout\":{\"autotypenumbers\":\"strict\",\"colorway\":[\"#636efa\",\"#EF553B\",\"#00cc96\",\"#ab63fa\",\"#FFA15A\",\"#19d3f3\",\"#FF6692\",\"#B6E880\",\"#FF97FF\",\"#FECB52\"],\"font\":{\"color\":\"#2a3f5f\"},\"hovermode\":\"closest\",\"hoverlabel\":{\"align\":\"left\"},\"paper_bgcolor\":\"white\",\"plot_bgcolor\":\"#E5ECF6\",\"polar\":{\"bgcolor\":\"#E5ECF6\",\"angularaxis\":{\"gridcolor\":\"white\",\"linecolor\":\"white\",\"ticks\":\"\"},\"radialaxis\":{\"gridcolor\":\"white\",\"linecolor\":\"white\",\"ticks\":\"\"}},\"ternary\":{\"bgcolor\":\"#E5ECF6\",\"aaxis\":{\"gridcolor\":\"white\",\"linecolor\":\"white\",\"ticks\":\"\"},\"baxis\":{\"gridcolor\":\"white\",\"linecolor\":\"white\",\"ticks\":\"\"},\"caxis\":{\"gridcolor\":\"white\",\"linecolor\":\"white\",\"ticks\":\"\"}},\"coloraxis\":{\"colorbar\":{\"outlinewidth\":0,\"ticks\":\"\"}},\"colorscale\":{\"sequential\":[[0.0,\"#0d0887\"],[0.1111111111111111,\"#46039f\"],[0.2222222222222222,\"#7201a8\"],[0.3333333333333333,\"#9c179e\"],[0.4444444444444444,\"#bd3786\"],[0.5555555555555556,\"#d8576b\"],[0.6666666666666666,\"#ed7953\"],[0.7777777777777778,\"#fb9f3a\"],[0.8888888888888888,\"#fdca26\"],[1.0,\"#f0f921\"]],\"sequentialminus\":[[0.0,\"#0d0887\"],[0.1111111111111111,\"#46039f\"],[0.2222222222222222,\"#7201a8\"],[0.3333333333333333,\"#9c179e\"],[0.4444444444444444,\"#bd3786\"],[0.5555555555555556,\"#d8576b\"],[0.6666666666666666,\"#ed7953\"],[0.7777777777777778,\"#fb9f3a\"],[0.8888888888888888,\"#fdca26\"],[1.0,\"#f0f921\"]],\"diverging\":[[0,\"#8e0152\"],[0.1,\"#c51b7d\"],[0.2,\"#de77ae\"],[0.3,\"#f1b6da\"],[0.4,\"#fde0ef\"],[0.5,\"#f7f7f7\"],[0.6,\"#e6f5d0\"],[0.7,\"#b8e186\"],[0.8,\"#7fbc41\"],[0.9,\"#4d9221\"],[1,\"#276419\"]]},\"xaxis\":{\"gridcolor\":\"white\",\"linecolor\":\"white\",\"ticks\":\"\",\"title\":{\"standoff\":15},\"zerolinecolor\":\"white\",\"automargin\":true,\"zerolinewidth\":2},\"yaxis\":{\"gridcolor\":\"white\",\"linecolor\":\"white\",\"ticks\":\"\",\"title\":{\"standoff\":15},\"zerolinecolor\":\"white\",\"automargin\":true,\"zerolinewidth\":2},\"scene\":{\"xaxis\":{\"backgroundcolor\":\"#E5ECF6\",\"gridcolor\":\"white\",\"linecolor\":\"white\",\"showbackground\":true,\"ticks\":\"\",\"zerolinecolor\":\"white\",\"gridwidth\":2},\"yaxis\":{\"backgroundcolor\":\"#E5ECF6\",\"gridcolor\":\"white\",\"linecolor\":\"white\",\"showbackground\":true,\"ticks\":\"\",\"zerolinecolor\":\"white\",\"gridwidth\":2},\"zaxis\":{\"backgroundcolor\":\"#E5ECF6\",\"gridcolor\":\"white\",\"linecolor\":\"white\",\"showbackground\":true,\"ticks\":\"\",\"zerolinecolor\":\"white\",\"gridwidth\":2}},\"shapedefaults\":{\"line\":{\"color\":\"#2a3f5f\"}},\"annotationdefaults\":{\"arrowcolor\":\"#2a3f5f\",\"arrowhead\":0,\"arrowwidth\":1},\"geo\":{\"bgcolor\":\"white\",\"landcolor\":\"#E5ECF6\",\"subunitcolor\":\"white\",\"showland\":true,\"showlakes\":true,\"lakecolor\":\"white\"},\"title\":{\"x\":0.05},\"mapbox\":{\"style\":\"light\"}}},\"title\":{\"text\":\"$\\\\text{Average loss for every 250 games - }\\\\epsilon_{opt}=0.5$\"},\"xaxis\":{\"title\":{\"text\":\"$game$\"}},\"yaxis\":{\"title\":{\"text\":\"$average(loss)\\\\text{- 250 games}$\"}}},                        {\"responsive\": true}                    ).then(function(){\n                            \nvar gd = document.getElementById('5c4c2aab-775b-4c99-bf67-7d3632a83eae');\nvar x = new MutationObserver(function (mutations, observer) {{\n        var display = window.getComputedStyle(gd).display;\n        if (!display || display === 'none') {{\n            console.log([gd, 'removed!']);\n            Plotly.purge(gd);\n            observer.disconnect();\n        }}\n}});\n\n// Listen for the removal of the full notebook cells\nvar notebookContainer = gd.closest('#notebook-container');\nif (notebookContainer) {{\n    x.observe(notebookContainer, {childList: true});\n}}\n\n// Listen for the clearing of the current output cell\nvar outputEl = gd.closest('.output');\nif (outputEl) {{\n    x.observe(outputEl, {childList: true});\n}}\n\n                        })                };                });            </script>        </div>"
     },
     "metadata": {},
     "output_type": "display_data"
    }
   ],
   "source": [
    "fig = go.Figure()\n",
    "\n",
    "fig.add_trace(go.Scatter(x=x, y=losses, mode='lines'))\n",
    "\n",
    "fig.update_layout(\n",
    "    title=r'$\\text{Average loss for every %d games - }\\epsilon_{opt}=0.5$' % averaging_steps,\n",
    "    xaxis_title=r'$game$',\n",
    "    yaxis_title=r'$average(loss)\\text{- %d games}$' % (averaging_steps),\n",
    ")\n",
    "\n",
    "fig.show()"
   ],
   "metadata": {
    "collapsed": false,
    "pycharm": {
     "name": "#%%\n"
    }
   }
  },
  {
   "cell_type": "markdown",
   "source": [
    "From the two plots, we can see that the Q-player learns how to play tic tac toe: the average rewards reaches a plateau around 0.2. The training loss has, of course, an opposite trend: as the average rewards get higher, the loss gets lower, as the network is learning. Finally, the final plateau is an indication that the network learned how to play the game. Our choice of $\\epsilon$ depends on the fact that we want to explore new states and, at the same time, play reasonably well."
   ],
   "metadata": {
    "collapsed": false,
    "pycharm": {
     "name": "#%% md\n"
    }
   }
  },
  {
   "cell_type": "markdown",
   "source": [
    "### Question 12"
   ],
   "metadata": {
    "collapsed": false,
    "pycharm": {
     "name": "#%% md\n"
    }
   }
  },
  {
   "cell_type": "code",
   "execution_count": 37,
   "outputs": [
    {
     "name": "stderr",
     "output_type": "stream",
     "text": [
      "100%|██████████| 20000/20000 [02:24<00:00, 138.49it/s]\n"
     ]
    }
   ],
   "source": [
    "n_episodes = 20000\n",
    "averaging_steps = 250\n",
    "update_steps = 500\n",
    "turns = np.array(['X','O'])\n",
    "\n",
    "q_player = DeepQPlayer(0.2, capacity=1, batch_size=1) # Capacity = 1 and batch size = 1 => no memory, use only last action\n",
    "env = TictactoeEnv()\n",
    "\n",
    "rewards = []\n",
    "losses = []\n",
    "average_reward = 0.\n",
    "average_loss = []\n",
    "\n",
    "other_player = OptimalPlayer(epsilon=0.5, player=turns[1])\n",
    "x = []\n",
    "\n",
    "for episode in tqdm(range(n_episodes)):\n",
    "        # Update players\n",
    "        other_player.set_player(turns[1])\n",
    "        q_player.set_player(turns[0])\n",
    "\n",
    "        # Play game\n",
    "        loss, reward = play_deep_game(env, q_player, other_player, turns, testing=False)\n",
    "        average_reward += reward\n",
    "        average_loss.extend(loss)\n",
    "\n",
    "        if episode % (update_steps-1) == 0:\n",
    "            q_player.update_target()\n",
    "\n",
    "        if episode % averaging_steps == averaging_steps - 1:\n",
    "            average_reward /= averaging_steps\n",
    "            rewards.append(average_reward)\n",
    "            losses.append(np.array(average_loss).mean())\n",
    "            average_reward = 0.\n",
    "            average_loss = []\n",
    "            x.append(episode)\n",
    "\n",
    "        # Change first player\n",
    "        turns = turns[::-1]"
   ],
   "metadata": {
    "collapsed": false,
    "pycharm": {
     "name": "#%%\n"
    }
   }
  },
  {
   "cell_type": "code",
   "execution_count": 38,
   "outputs": [
    {
     "data": {
      "application/vnd.plotly.v1+json": {
       "data": [
        {
         "mode": "lines",
         "x": [
          249,
          499,
          749,
          999,
          1249,
          1499,
          1749,
          1999,
          2249,
          2499,
          2749,
          2999,
          3249,
          3499,
          3749,
          3999,
          4249,
          4499,
          4749,
          4999,
          5249,
          5499,
          5749,
          5999,
          6249,
          6499,
          6749,
          6999,
          7249,
          7499,
          7749,
          7999,
          8249,
          8499,
          8749,
          8999,
          9249,
          9499,
          9749,
          9999,
          10249,
          10499,
          10749,
          10999,
          11249,
          11499,
          11749,
          11999,
          12249,
          12499,
          12749,
          12999,
          13249,
          13499,
          13749,
          13999,
          14249,
          14499,
          14749,
          14999,
          15249,
          15499,
          15749,
          15999,
          16249,
          16499,
          16749,
          16999,
          17249,
          17499,
          17749,
          17999,
          18249,
          18499,
          18749,
          18999,
          19249,
          19499,
          19749,
          19999
         ],
         "y": [
          -0.964,
          -0.908,
          -0.864,
          -0.94,
          -0.976,
          -0.992,
          -0.992,
          -0.952,
          -0.948,
          -0.952,
          -0.94,
          -0.948,
          -0.94,
          -0.968,
          -0.928,
          -0.972,
          -0.952,
          -0.964,
          -0.976,
          -0.924,
          -0.944,
          -0.984,
          -0.98,
          -0.936,
          -0.944,
          -0.96,
          -0.968,
          -1.0,
          -0.948,
          -0.952,
          -0.976,
          -0.968,
          -0.992,
          -0.952,
          -0.968,
          -0.976,
          -0.988,
          -0.976,
          -0.968,
          -0.968,
          -0.968,
          -0.992,
          -0.956,
          -0.968,
          -1.0,
          -0.976,
          -0.976,
          -0.984,
          -0.944,
          -0.992,
          -0.98,
          -0.984,
          -0.984,
          -0.976,
          -0.976,
          -0.964,
          -0.984,
          -0.984,
          -0.992,
          -0.992,
          -1.0,
          -0.992,
          -0.952,
          -1.0,
          -0.984,
          -1.0,
          -0.984,
          -0.976,
          -0.956,
          -0.992,
          -0.968,
          -0.976,
          -0.964,
          -0.992,
          -0.992,
          -1.0,
          -0.976,
          -0.98,
          -0.992,
          -1.0
         ],
         "type": "scatter"
        }
       ],
       "layout": {
        "template": {
         "data": {
          "histogram2dcontour": [
           {
            "type": "histogram2dcontour",
            "colorbar": {
             "outlinewidth": 0,
             "ticks": ""
            },
            "colorscale": [
             [
              0.0,
              "#0d0887"
             ],
             [
              0.1111111111111111,
              "#46039f"
             ],
             [
              0.2222222222222222,
              "#7201a8"
             ],
             [
              0.3333333333333333,
              "#9c179e"
             ],
             [
              0.4444444444444444,
              "#bd3786"
             ],
             [
              0.5555555555555556,
              "#d8576b"
             ],
             [
              0.6666666666666666,
              "#ed7953"
             ],
             [
              0.7777777777777778,
              "#fb9f3a"
             ],
             [
              0.8888888888888888,
              "#fdca26"
             ],
             [
              1.0,
              "#f0f921"
             ]
            ]
           }
          ],
          "choropleth": [
           {
            "type": "choropleth",
            "colorbar": {
             "outlinewidth": 0,
             "ticks": ""
            }
           }
          ],
          "histogram2d": [
           {
            "type": "histogram2d",
            "colorbar": {
             "outlinewidth": 0,
             "ticks": ""
            },
            "colorscale": [
             [
              0.0,
              "#0d0887"
             ],
             [
              0.1111111111111111,
              "#46039f"
             ],
             [
              0.2222222222222222,
              "#7201a8"
             ],
             [
              0.3333333333333333,
              "#9c179e"
             ],
             [
              0.4444444444444444,
              "#bd3786"
             ],
             [
              0.5555555555555556,
              "#d8576b"
             ],
             [
              0.6666666666666666,
              "#ed7953"
             ],
             [
              0.7777777777777778,
              "#fb9f3a"
             ],
             [
              0.8888888888888888,
              "#fdca26"
             ],
             [
              1.0,
              "#f0f921"
             ]
            ]
           }
          ],
          "heatmap": [
           {
            "type": "heatmap",
            "colorbar": {
             "outlinewidth": 0,
             "ticks": ""
            },
            "colorscale": [
             [
              0.0,
              "#0d0887"
             ],
             [
              0.1111111111111111,
              "#46039f"
             ],
             [
              0.2222222222222222,
              "#7201a8"
             ],
             [
              0.3333333333333333,
              "#9c179e"
             ],
             [
              0.4444444444444444,
              "#bd3786"
             ],
             [
              0.5555555555555556,
              "#d8576b"
             ],
             [
              0.6666666666666666,
              "#ed7953"
             ],
             [
              0.7777777777777778,
              "#fb9f3a"
             ],
             [
              0.8888888888888888,
              "#fdca26"
             ],
             [
              1.0,
              "#f0f921"
             ]
            ]
           }
          ],
          "heatmapgl": [
           {
            "type": "heatmapgl",
            "colorbar": {
             "outlinewidth": 0,
             "ticks": ""
            },
            "colorscale": [
             [
              0.0,
              "#0d0887"
             ],
             [
              0.1111111111111111,
              "#46039f"
             ],
             [
              0.2222222222222222,
              "#7201a8"
             ],
             [
              0.3333333333333333,
              "#9c179e"
             ],
             [
              0.4444444444444444,
              "#bd3786"
             ],
             [
              0.5555555555555556,
              "#d8576b"
             ],
             [
              0.6666666666666666,
              "#ed7953"
             ],
             [
              0.7777777777777778,
              "#fb9f3a"
             ],
             [
              0.8888888888888888,
              "#fdca26"
             ],
             [
              1.0,
              "#f0f921"
             ]
            ]
           }
          ],
          "contourcarpet": [
           {
            "type": "contourcarpet",
            "colorbar": {
             "outlinewidth": 0,
             "ticks": ""
            }
           }
          ],
          "contour": [
           {
            "type": "contour",
            "colorbar": {
             "outlinewidth": 0,
             "ticks": ""
            },
            "colorscale": [
             [
              0.0,
              "#0d0887"
             ],
             [
              0.1111111111111111,
              "#46039f"
             ],
             [
              0.2222222222222222,
              "#7201a8"
             ],
             [
              0.3333333333333333,
              "#9c179e"
             ],
             [
              0.4444444444444444,
              "#bd3786"
             ],
             [
              0.5555555555555556,
              "#d8576b"
             ],
             [
              0.6666666666666666,
              "#ed7953"
             ],
             [
              0.7777777777777778,
              "#fb9f3a"
             ],
             [
              0.8888888888888888,
              "#fdca26"
             ],
             [
              1.0,
              "#f0f921"
             ]
            ]
           }
          ],
          "surface": [
           {
            "type": "surface",
            "colorbar": {
             "outlinewidth": 0,
             "ticks": ""
            },
            "colorscale": [
             [
              0.0,
              "#0d0887"
             ],
             [
              0.1111111111111111,
              "#46039f"
             ],
             [
              0.2222222222222222,
              "#7201a8"
             ],
             [
              0.3333333333333333,
              "#9c179e"
             ],
             [
              0.4444444444444444,
              "#bd3786"
             ],
             [
              0.5555555555555556,
              "#d8576b"
             ],
             [
              0.6666666666666666,
              "#ed7953"
             ],
             [
              0.7777777777777778,
              "#fb9f3a"
             ],
             [
              0.8888888888888888,
              "#fdca26"
             ],
             [
              1.0,
              "#f0f921"
             ]
            ]
           }
          ],
          "mesh3d": [
           {
            "type": "mesh3d",
            "colorbar": {
             "outlinewidth": 0,
             "ticks": ""
            }
           }
          ],
          "scatter": [
           {
            "fillpattern": {
             "fillmode": "overlay",
             "size": 10,
             "solidity": 0.2
            },
            "type": "scatter"
           }
          ],
          "parcoords": [
           {
            "type": "parcoords",
            "line": {
             "colorbar": {
              "outlinewidth": 0,
              "ticks": ""
             }
            }
           }
          ],
          "scatterpolargl": [
           {
            "type": "scatterpolargl",
            "marker": {
             "colorbar": {
              "outlinewidth": 0,
              "ticks": ""
             }
            }
           }
          ],
          "bar": [
           {
            "error_x": {
             "color": "#2a3f5f"
            },
            "error_y": {
             "color": "#2a3f5f"
            },
            "marker": {
             "line": {
              "color": "#E5ECF6",
              "width": 0.5
             },
             "pattern": {
              "fillmode": "overlay",
              "size": 10,
              "solidity": 0.2
             }
            },
            "type": "bar"
           }
          ],
          "scattergeo": [
           {
            "type": "scattergeo",
            "marker": {
             "colorbar": {
              "outlinewidth": 0,
              "ticks": ""
             }
            }
           }
          ],
          "scatterpolar": [
           {
            "type": "scatterpolar",
            "marker": {
             "colorbar": {
              "outlinewidth": 0,
              "ticks": ""
             }
            }
           }
          ],
          "histogram": [
           {
            "marker": {
             "pattern": {
              "fillmode": "overlay",
              "size": 10,
              "solidity": 0.2
             }
            },
            "type": "histogram"
           }
          ],
          "scattergl": [
           {
            "type": "scattergl",
            "marker": {
             "colorbar": {
              "outlinewidth": 0,
              "ticks": ""
             }
            }
           }
          ],
          "scatter3d": [
           {
            "type": "scatter3d",
            "line": {
             "colorbar": {
              "outlinewidth": 0,
              "ticks": ""
             }
            },
            "marker": {
             "colorbar": {
              "outlinewidth": 0,
              "ticks": ""
             }
            }
           }
          ],
          "scattermapbox": [
           {
            "type": "scattermapbox",
            "marker": {
             "colorbar": {
              "outlinewidth": 0,
              "ticks": ""
             }
            }
           }
          ],
          "scatterternary": [
           {
            "type": "scatterternary",
            "marker": {
             "colorbar": {
              "outlinewidth": 0,
              "ticks": ""
             }
            }
           }
          ],
          "scattercarpet": [
           {
            "type": "scattercarpet",
            "marker": {
             "colorbar": {
              "outlinewidth": 0,
              "ticks": ""
             }
            }
           }
          ],
          "carpet": [
           {
            "aaxis": {
             "endlinecolor": "#2a3f5f",
             "gridcolor": "white",
             "linecolor": "white",
             "minorgridcolor": "white",
             "startlinecolor": "#2a3f5f"
            },
            "baxis": {
             "endlinecolor": "#2a3f5f",
             "gridcolor": "white",
             "linecolor": "white",
             "minorgridcolor": "white",
             "startlinecolor": "#2a3f5f"
            },
            "type": "carpet"
           }
          ],
          "table": [
           {
            "cells": {
             "fill": {
              "color": "#EBF0F8"
             },
             "line": {
              "color": "white"
             }
            },
            "header": {
             "fill": {
              "color": "#C8D4E3"
             },
             "line": {
              "color": "white"
             }
            },
            "type": "table"
           }
          ],
          "barpolar": [
           {
            "marker": {
             "line": {
              "color": "#E5ECF6",
              "width": 0.5
             },
             "pattern": {
              "fillmode": "overlay",
              "size": 10,
              "solidity": 0.2
             }
            },
            "type": "barpolar"
           }
          ],
          "pie": [
           {
            "automargin": true,
            "type": "pie"
           }
          ]
         },
         "layout": {
          "autotypenumbers": "strict",
          "colorway": [
           "#636efa",
           "#EF553B",
           "#00cc96",
           "#ab63fa",
           "#FFA15A",
           "#19d3f3",
           "#FF6692",
           "#B6E880",
           "#FF97FF",
           "#FECB52"
          ],
          "font": {
           "color": "#2a3f5f"
          },
          "hovermode": "closest",
          "hoverlabel": {
           "align": "left"
          },
          "paper_bgcolor": "white",
          "plot_bgcolor": "#E5ECF6",
          "polar": {
           "bgcolor": "#E5ECF6",
           "angularaxis": {
            "gridcolor": "white",
            "linecolor": "white",
            "ticks": ""
           },
           "radialaxis": {
            "gridcolor": "white",
            "linecolor": "white",
            "ticks": ""
           }
          },
          "ternary": {
           "bgcolor": "#E5ECF6",
           "aaxis": {
            "gridcolor": "white",
            "linecolor": "white",
            "ticks": ""
           },
           "baxis": {
            "gridcolor": "white",
            "linecolor": "white",
            "ticks": ""
           },
           "caxis": {
            "gridcolor": "white",
            "linecolor": "white",
            "ticks": ""
           }
          },
          "coloraxis": {
           "colorbar": {
            "outlinewidth": 0,
            "ticks": ""
           }
          },
          "colorscale": {
           "sequential": [
            [
             0.0,
             "#0d0887"
            ],
            [
             0.1111111111111111,
             "#46039f"
            ],
            [
             0.2222222222222222,
             "#7201a8"
            ],
            [
             0.3333333333333333,
             "#9c179e"
            ],
            [
             0.4444444444444444,
             "#bd3786"
            ],
            [
             0.5555555555555556,
             "#d8576b"
            ],
            [
             0.6666666666666666,
             "#ed7953"
            ],
            [
             0.7777777777777778,
             "#fb9f3a"
            ],
            [
             0.8888888888888888,
             "#fdca26"
            ],
            [
             1.0,
             "#f0f921"
            ]
           ],
           "sequentialminus": [
            [
             0.0,
             "#0d0887"
            ],
            [
             0.1111111111111111,
             "#46039f"
            ],
            [
             0.2222222222222222,
             "#7201a8"
            ],
            [
             0.3333333333333333,
             "#9c179e"
            ],
            [
             0.4444444444444444,
             "#bd3786"
            ],
            [
             0.5555555555555556,
             "#d8576b"
            ],
            [
             0.6666666666666666,
             "#ed7953"
            ],
            [
             0.7777777777777778,
             "#fb9f3a"
            ],
            [
             0.8888888888888888,
             "#fdca26"
            ],
            [
             1.0,
             "#f0f921"
            ]
           ],
           "diverging": [
            [
             0,
             "#8e0152"
            ],
            [
             0.1,
             "#c51b7d"
            ],
            [
             0.2,
             "#de77ae"
            ],
            [
             0.3,
             "#f1b6da"
            ],
            [
             0.4,
             "#fde0ef"
            ],
            [
             0.5,
             "#f7f7f7"
            ],
            [
             0.6,
             "#e6f5d0"
            ],
            [
             0.7,
             "#b8e186"
            ],
            [
             0.8,
             "#7fbc41"
            ],
            [
             0.9,
             "#4d9221"
            ],
            [
             1,
             "#276419"
            ]
           ]
          },
          "xaxis": {
           "gridcolor": "white",
           "linecolor": "white",
           "ticks": "",
           "title": {
            "standoff": 15
           },
           "zerolinecolor": "white",
           "automargin": true,
           "zerolinewidth": 2
          },
          "yaxis": {
           "gridcolor": "white",
           "linecolor": "white",
           "ticks": "",
           "title": {
            "standoff": 15
           },
           "zerolinecolor": "white",
           "automargin": true,
           "zerolinewidth": 2
          },
          "scene": {
           "xaxis": {
            "backgroundcolor": "#E5ECF6",
            "gridcolor": "white",
            "linecolor": "white",
            "showbackground": true,
            "ticks": "",
            "zerolinecolor": "white",
            "gridwidth": 2
           },
           "yaxis": {
            "backgroundcolor": "#E5ECF6",
            "gridcolor": "white",
            "linecolor": "white",
            "showbackground": true,
            "ticks": "",
            "zerolinecolor": "white",
            "gridwidth": 2
           },
           "zaxis": {
            "backgroundcolor": "#E5ECF6",
            "gridcolor": "white",
            "linecolor": "white",
            "showbackground": true,
            "ticks": "",
            "zerolinecolor": "white",
            "gridwidth": 2
           }
          },
          "shapedefaults": {
           "line": {
            "color": "#2a3f5f"
           }
          },
          "annotationdefaults": {
           "arrowcolor": "#2a3f5f",
           "arrowhead": 0,
           "arrowwidth": 1
          },
          "geo": {
           "bgcolor": "white",
           "landcolor": "#E5ECF6",
           "subunitcolor": "white",
           "showland": true,
           "showlakes": true,
           "lakecolor": "white"
          },
          "title": {
           "x": 0.05
          },
          "mapbox": {
           "style": "light"
          }
         }
        },
        "title": {
         "text": "$\\text{Average reward for every 250 games - }\\epsilon_{opt}=0.5, without replay buffer$"
        },
        "xaxis": {
         "title": {
          "text": "$game$"
         }
        },
        "yaxis": {
         "title": {
          "text": "$average(reward)\\text{- 250 games}$"
         }
        }
       },
       "config": {
        "plotlyServerURL": "https://plot.ly"
       }
      },
      "text/html": "<div>                            <div id=\"e0d3ead1-0042-4375-88b2-2cedf6bef1a2\" class=\"plotly-graph-div\" style=\"height:525px; width:100%;\"></div>            <script type=\"text/javascript\">                require([\"plotly\"], function(Plotly) {                    window.PLOTLYENV=window.PLOTLYENV || {};                                    if (document.getElementById(\"e0d3ead1-0042-4375-88b2-2cedf6bef1a2\")) {                    Plotly.newPlot(                        \"e0d3ead1-0042-4375-88b2-2cedf6bef1a2\",                        [{\"mode\":\"lines\",\"x\":[249,499,749,999,1249,1499,1749,1999,2249,2499,2749,2999,3249,3499,3749,3999,4249,4499,4749,4999,5249,5499,5749,5999,6249,6499,6749,6999,7249,7499,7749,7999,8249,8499,8749,8999,9249,9499,9749,9999,10249,10499,10749,10999,11249,11499,11749,11999,12249,12499,12749,12999,13249,13499,13749,13999,14249,14499,14749,14999,15249,15499,15749,15999,16249,16499,16749,16999,17249,17499,17749,17999,18249,18499,18749,18999,19249,19499,19749,19999],\"y\":[-0.964,-0.908,-0.864,-0.94,-0.976,-0.992,-0.992,-0.952,-0.948,-0.952,-0.94,-0.948,-0.94,-0.968,-0.928,-0.972,-0.952,-0.964,-0.976,-0.924,-0.944,-0.984,-0.98,-0.936,-0.944,-0.96,-0.968,-1.0,-0.948,-0.952,-0.976,-0.968,-0.992,-0.952,-0.968,-0.976,-0.988,-0.976,-0.968,-0.968,-0.968,-0.992,-0.956,-0.968,-1.0,-0.976,-0.976,-0.984,-0.944,-0.992,-0.98,-0.984,-0.984,-0.976,-0.976,-0.964,-0.984,-0.984,-0.992,-0.992,-1.0,-0.992,-0.952,-1.0,-0.984,-1.0,-0.984,-0.976,-0.956,-0.992,-0.968,-0.976,-0.964,-0.992,-0.992,-1.0,-0.976,-0.98,-0.992,-1.0],\"type\":\"scatter\"}],                        {\"template\":{\"data\":{\"histogram2dcontour\":[{\"type\":\"histogram2dcontour\",\"colorbar\":{\"outlinewidth\":0,\"ticks\":\"\"},\"colorscale\":[[0.0,\"#0d0887\"],[0.1111111111111111,\"#46039f\"],[0.2222222222222222,\"#7201a8\"],[0.3333333333333333,\"#9c179e\"],[0.4444444444444444,\"#bd3786\"],[0.5555555555555556,\"#d8576b\"],[0.6666666666666666,\"#ed7953\"],[0.7777777777777778,\"#fb9f3a\"],[0.8888888888888888,\"#fdca26\"],[1.0,\"#f0f921\"]]}],\"choropleth\":[{\"type\":\"choropleth\",\"colorbar\":{\"outlinewidth\":0,\"ticks\":\"\"}}],\"histogram2d\":[{\"type\":\"histogram2d\",\"colorbar\":{\"outlinewidth\":0,\"ticks\":\"\"},\"colorscale\":[[0.0,\"#0d0887\"],[0.1111111111111111,\"#46039f\"],[0.2222222222222222,\"#7201a8\"],[0.3333333333333333,\"#9c179e\"],[0.4444444444444444,\"#bd3786\"],[0.5555555555555556,\"#d8576b\"],[0.6666666666666666,\"#ed7953\"],[0.7777777777777778,\"#fb9f3a\"],[0.8888888888888888,\"#fdca26\"],[1.0,\"#f0f921\"]]}],\"heatmap\":[{\"type\":\"heatmap\",\"colorbar\":{\"outlinewidth\":0,\"ticks\":\"\"},\"colorscale\":[[0.0,\"#0d0887\"],[0.1111111111111111,\"#46039f\"],[0.2222222222222222,\"#7201a8\"],[0.3333333333333333,\"#9c179e\"],[0.4444444444444444,\"#bd3786\"],[0.5555555555555556,\"#d8576b\"],[0.6666666666666666,\"#ed7953\"],[0.7777777777777778,\"#fb9f3a\"],[0.8888888888888888,\"#fdca26\"],[1.0,\"#f0f921\"]]}],\"heatmapgl\":[{\"type\":\"heatmapgl\",\"colorbar\":{\"outlinewidth\":0,\"ticks\":\"\"},\"colorscale\":[[0.0,\"#0d0887\"],[0.1111111111111111,\"#46039f\"],[0.2222222222222222,\"#7201a8\"],[0.3333333333333333,\"#9c179e\"],[0.4444444444444444,\"#bd3786\"],[0.5555555555555556,\"#d8576b\"],[0.6666666666666666,\"#ed7953\"],[0.7777777777777778,\"#fb9f3a\"],[0.8888888888888888,\"#fdca26\"],[1.0,\"#f0f921\"]]}],\"contourcarpet\":[{\"type\":\"contourcarpet\",\"colorbar\":{\"outlinewidth\":0,\"ticks\":\"\"}}],\"contour\":[{\"type\":\"contour\",\"colorbar\":{\"outlinewidth\":0,\"ticks\":\"\"},\"colorscale\":[[0.0,\"#0d0887\"],[0.1111111111111111,\"#46039f\"],[0.2222222222222222,\"#7201a8\"],[0.3333333333333333,\"#9c179e\"],[0.4444444444444444,\"#bd3786\"],[0.5555555555555556,\"#d8576b\"],[0.6666666666666666,\"#ed7953\"],[0.7777777777777778,\"#fb9f3a\"],[0.8888888888888888,\"#fdca26\"],[1.0,\"#f0f921\"]]}],\"surface\":[{\"type\":\"surface\",\"colorbar\":{\"outlinewidth\":0,\"ticks\":\"\"},\"colorscale\":[[0.0,\"#0d0887\"],[0.1111111111111111,\"#46039f\"],[0.2222222222222222,\"#7201a8\"],[0.3333333333333333,\"#9c179e\"],[0.4444444444444444,\"#bd3786\"],[0.5555555555555556,\"#d8576b\"],[0.6666666666666666,\"#ed7953\"],[0.7777777777777778,\"#fb9f3a\"],[0.8888888888888888,\"#fdca26\"],[1.0,\"#f0f921\"]]}],\"mesh3d\":[{\"type\":\"mesh3d\",\"colorbar\":{\"outlinewidth\":0,\"ticks\":\"\"}}],\"scatter\":[{\"fillpattern\":{\"fillmode\":\"overlay\",\"size\":10,\"solidity\":0.2},\"type\":\"scatter\"}],\"parcoords\":[{\"type\":\"parcoords\",\"line\":{\"colorbar\":{\"outlinewidth\":0,\"ticks\":\"\"}}}],\"scatterpolargl\":[{\"type\":\"scatterpolargl\",\"marker\":{\"colorbar\":{\"outlinewidth\":0,\"ticks\":\"\"}}}],\"bar\":[{\"error_x\":{\"color\":\"#2a3f5f\"},\"error_y\":{\"color\":\"#2a3f5f\"},\"marker\":{\"line\":{\"color\":\"#E5ECF6\",\"width\":0.5},\"pattern\":{\"fillmode\":\"overlay\",\"size\":10,\"solidity\":0.2}},\"type\":\"bar\"}],\"scattergeo\":[{\"type\":\"scattergeo\",\"marker\":{\"colorbar\":{\"outlinewidth\":0,\"ticks\":\"\"}}}],\"scatterpolar\":[{\"type\":\"scatterpolar\",\"marker\":{\"colorbar\":{\"outlinewidth\":0,\"ticks\":\"\"}}}],\"histogram\":[{\"marker\":{\"pattern\":{\"fillmode\":\"overlay\",\"size\":10,\"solidity\":0.2}},\"type\":\"histogram\"}],\"scattergl\":[{\"type\":\"scattergl\",\"marker\":{\"colorbar\":{\"outlinewidth\":0,\"ticks\":\"\"}}}],\"scatter3d\":[{\"type\":\"scatter3d\",\"line\":{\"colorbar\":{\"outlinewidth\":0,\"ticks\":\"\"}},\"marker\":{\"colorbar\":{\"outlinewidth\":0,\"ticks\":\"\"}}}],\"scattermapbox\":[{\"type\":\"scattermapbox\",\"marker\":{\"colorbar\":{\"outlinewidth\":0,\"ticks\":\"\"}}}],\"scatterternary\":[{\"type\":\"scatterternary\",\"marker\":{\"colorbar\":{\"outlinewidth\":0,\"ticks\":\"\"}}}],\"scattercarpet\":[{\"type\":\"scattercarpet\",\"marker\":{\"colorbar\":{\"outlinewidth\":0,\"ticks\":\"\"}}}],\"carpet\":[{\"aaxis\":{\"endlinecolor\":\"#2a3f5f\",\"gridcolor\":\"white\",\"linecolor\":\"white\",\"minorgridcolor\":\"white\",\"startlinecolor\":\"#2a3f5f\"},\"baxis\":{\"endlinecolor\":\"#2a3f5f\",\"gridcolor\":\"white\",\"linecolor\":\"white\",\"minorgridcolor\":\"white\",\"startlinecolor\":\"#2a3f5f\"},\"type\":\"carpet\"}],\"table\":[{\"cells\":{\"fill\":{\"color\":\"#EBF0F8\"},\"line\":{\"color\":\"white\"}},\"header\":{\"fill\":{\"color\":\"#C8D4E3\"},\"line\":{\"color\":\"white\"}},\"type\":\"table\"}],\"barpolar\":[{\"marker\":{\"line\":{\"color\":\"#E5ECF6\",\"width\":0.5},\"pattern\":{\"fillmode\":\"overlay\",\"size\":10,\"solidity\":0.2}},\"type\":\"barpolar\"}],\"pie\":[{\"automargin\":true,\"type\":\"pie\"}]},\"layout\":{\"autotypenumbers\":\"strict\",\"colorway\":[\"#636efa\",\"#EF553B\",\"#00cc96\",\"#ab63fa\",\"#FFA15A\",\"#19d3f3\",\"#FF6692\",\"#B6E880\",\"#FF97FF\",\"#FECB52\"],\"font\":{\"color\":\"#2a3f5f\"},\"hovermode\":\"closest\",\"hoverlabel\":{\"align\":\"left\"},\"paper_bgcolor\":\"white\",\"plot_bgcolor\":\"#E5ECF6\",\"polar\":{\"bgcolor\":\"#E5ECF6\",\"angularaxis\":{\"gridcolor\":\"white\",\"linecolor\":\"white\",\"ticks\":\"\"},\"radialaxis\":{\"gridcolor\":\"white\",\"linecolor\":\"white\",\"ticks\":\"\"}},\"ternary\":{\"bgcolor\":\"#E5ECF6\",\"aaxis\":{\"gridcolor\":\"white\",\"linecolor\":\"white\",\"ticks\":\"\"},\"baxis\":{\"gridcolor\":\"white\",\"linecolor\":\"white\",\"ticks\":\"\"},\"caxis\":{\"gridcolor\":\"white\",\"linecolor\":\"white\",\"ticks\":\"\"}},\"coloraxis\":{\"colorbar\":{\"outlinewidth\":0,\"ticks\":\"\"}},\"colorscale\":{\"sequential\":[[0.0,\"#0d0887\"],[0.1111111111111111,\"#46039f\"],[0.2222222222222222,\"#7201a8\"],[0.3333333333333333,\"#9c179e\"],[0.4444444444444444,\"#bd3786\"],[0.5555555555555556,\"#d8576b\"],[0.6666666666666666,\"#ed7953\"],[0.7777777777777778,\"#fb9f3a\"],[0.8888888888888888,\"#fdca26\"],[1.0,\"#f0f921\"]],\"sequentialminus\":[[0.0,\"#0d0887\"],[0.1111111111111111,\"#46039f\"],[0.2222222222222222,\"#7201a8\"],[0.3333333333333333,\"#9c179e\"],[0.4444444444444444,\"#bd3786\"],[0.5555555555555556,\"#d8576b\"],[0.6666666666666666,\"#ed7953\"],[0.7777777777777778,\"#fb9f3a\"],[0.8888888888888888,\"#fdca26\"],[1.0,\"#f0f921\"]],\"diverging\":[[0,\"#8e0152\"],[0.1,\"#c51b7d\"],[0.2,\"#de77ae\"],[0.3,\"#f1b6da\"],[0.4,\"#fde0ef\"],[0.5,\"#f7f7f7\"],[0.6,\"#e6f5d0\"],[0.7,\"#b8e186\"],[0.8,\"#7fbc41\"],[0.9,\"#4d9221\"],[1,\"#276419\"]]},\"xaxis\":{\"gridcolor\":\"white\",\"linecolor\":\"white\",\"ticks\":\"\",\"title\":{\"standoff\":15},\"zerolinecolor\":\"white\",\"automargin\":true,\"zerolinewidth\":2},\"yaxis\":{\"gridcolor\":\"white\",\"linecolor\":\"white\",\"ticks\":\"\",\"title\":{\"standoff\":15},\"zerolinecolor\":\"white\",\"automargin\":true,\"zerolinewidth\":2},\"scene\":{\"xaxis\":{\"backgroundcolor\":\"#E5ECF6\",\"gridcolor\":\"white\",\"linecolor\":\"white\",\"showbackground\":true,\"ticks\":\"\",\"zerolinecolor\":\"white\",\"gridwidth\":2},\"yaxis\":{\"backgroundcolor\":\"#E5ECF6\",\"gridcolor\":\"white\",\"linecolor\":\"white\",\"showbackground\":true,\"ticks\":\"\",\"zerolinecolor\":\"white\",\"gridwidth\":2},\"zaxis\":{\"backgroundcolor\":\"#E5ECF6\",\"gridcolor\":\"white\",\"linecolor\":\"white\",\"showbackground\":true,\"ticks\":\"\",\"zerolinecolor\":\"white\",\"gridwidth\":2}},\"shapedefaults\":{\"line\":{\"color\":\"#2a3f5f\"}},\"annotationdefaults\":{\"arrowcolor\":\"#2a3f5f\",\"arrowhead\":0,\"arrowwidth\":1},\"geo\":{\"bgcolor\":\"white\",\"landcolor\":\"#E5ECF6\",\"subunitcolor\":\"white\",\"showland\":true,\"showlakes\":true,\"lakecolor\":\"white\"},\"title\":{\"x\":0.05},\"mapbox\":{\"style\":\"light\"}}},\"title\":{\"text\":\"$\\\\text{Average reward for every 250 games - }\\\\epsilon_{opt}=0.5, without replay buffer$\"},\"xaxis\":{\"title\":{\"text\":\"$game$\"}},\"yaxis\":{\"title\":{\"text\":\"$average(reward)\\\\text{- 250 games}$\"}}},                        {\"responsive\": true}                    ).then(function(){\n                            \nvar gd = document.getElementById('e0d3ead1-0042-4375-88b2-2cedf6bef1a2');\nvar x = new MutationObserver(function (mutations, observer) {{\n        var display = window.getComputedStyle(gd).display;\n        if (!display || display === 'none') {{\n            console.log([gd, 'removed!']);\n            Plotly.purge(gd);\n            observer.disconnect();\n        }}\n}});\n\n// Listen for the removal of the full notebook cells\nvar notebookContainer = gd.closest('#notebook-container');\nif (notebookContainer) {{\n    x.observe(notebookContainer, {childList: true});\n}}\n\n// Listen for the clearing of the current output cell\nvar outputEl = gd.closest('.output');\nif (outputEl) {{\n    x.observe(outputEl, {childList: true});\n}}\n\n                        })                };                });            </script>        </div>"
     },
     "metadata": {},
     "output_type": "display_data"
    }
   ],
   "source": [
    "fig = go.Figure()\n",
    "\n",
    "fig.add_trace(go.Scatter(x=x, y=rewards, mode='lines'))\n",
    "\n",
    "fig.update_layout(\n",
    "    title=r'$\\text{Average reward for every %d games - }\\epsilon_{opt}=0.5, without replay buffer$' % averaging_steps,\n",
    "    xaxis_title=r'$game$',\n",
    "    yaxis_title=r'$average(reward)\\text{- %d games}$' % (averaging_steps),\n",
    ")\n",
    "\n",
    "fig.show()"
   ],
   "metadata": {
    "collapsed": false,
    "pycharm": {
     "name": "#%%\n"
    }
   }
  },
  {
   "cell_type": "code",
   "execution_count": 39,
   "outputs": [
    {
     "data": {
      "application/vnd.plotly.v1+json": {
       "data": [
        {
         "mode": "lines",
         "x": [
          249,
          499,
          749,
          999,
          1249,
          1499,
          1749,
          1999,
          2249,
          2499,
          2749,
          2999,
          3249,
          3499,
          3749,
          3999,
          4249,
          4499,
          4749,
          4999,
          5249,
          5499,
          5749,
          5999,
          6249,
          6499,
          6749,
          6999,
          7249,
          7499,
          7749,
          7999,
          8249,
          8499,
          8749,
          8999,
          9249,
          9499,
          9749,
          9999,
          10249,
          10499,
          10749,
          10999,
          11249,
          11499,
          11749,
          11999,
          12249,
          12499,
          12749,
          12999,
          13249,
          13499,
          13749,
          13999,
          14249,
          14499,
          14749,
          14999,
          15249,
          15499,
          15749,
          15999,
          16249,
          16499,
          16749,
          16999,
          17249,
          17499,
          17749,
          17999,
          18249,
          18499,
          18749,
          18999,
          19249,
          19499,
          19749,
          19999
         ],
         "y": [
          4.472063245143502E-4,
          2.5363101386844506E-4,
          1.5313067650125388E-4,
          1.0509725173841124E-4,
          6.623154609472838E-5,
          5.324038064391048E-5,
          3.0303607933904363E-5,
          2.9313942874175734E-5,
          1.9833701720313446E-5,
          1.4047247093785633E-5,
          1.1665904426311444E-5,
          1.3974026913771422E-5,
          1.380232536165074E-5,
          9.561206286579927E-6,
          1.156672643224588E-5,
          9.333138450591566E-6,
          1.3031990709738248E-5,
          1.058269776569834E-5,
          7.534827299314222E-6,
          5.813824059631769E-6,
          4.50467475215029E-6,
          4.660559617440062E-6,
          5.7000848630187394E-6,
          5.558910814249377E-6,
          3.5214751536857033E-6,
          4.115528312061329E-6,
          2.5186504617019585E-6,
          2.345006591171991E-6,
          3.4709621651716277E-6,
          2.2858967237974757E-6,
          2.2308715663252506E-6,
          2.377539332093974E-6,
          1.0402180874227646E-6,
          1.679839550128999E-6,
          1.4038606760246113E-6,
          1.2481341567312264E-6,
          1.7129256053311615E-6,
          1.4330810603260035E-6,
          9.877622785651197E-7,
          1.6754893224373023E-6,
          1.4305294085790333E-6,
          1.1142517862748608E-6,
          8.16539909281021E-7,
          1.4665774283978236E-6,
          1.0716482153021963E-6,
          1.0436533090395831E-6,
          9.492957223818094E-7,
          6.870023528325214E-7,
          9.948854874782841E-7,
          1.05697096058206E-6,
          6.458714424732037E-7,
          9.258292494488251E-7,
          1.0126012204458475E-6,
          6.805903044413772E-7,
          9.552183845871547E-7,
          8.648184478495921E-7,
          6.998348933532285E-7,
          4.4260844001140373E-7,
          4.7470952798346055E-7,
          7.483038669745326E-7,
          5.104170680414995E-7,
          1.3049140224351234E-6,
          2.297497825322235E-7,
          7.502246001038211E-7,
          3.129925449075322E-7,
          9.633615738865223E-7,
          6.051961707946547E-7,
          4.548108017537401E-7,
          4.903070628032264E-7,
          3.1435479074013047E-7,
          4.7246050436930484E-7,
          6.271281576355738E-7,
          4.2831788822061807E-7,
          5.029649545196994E-7,
          5.398376901343515E-7,
          5.144540360621408E-7,
          3.4042262632061555E-7,
          7.118675030415486E-7,
          5.272575557476059E-7,
          4.521029188585583E-7
         ],
         "type": "scatter"
        }
       ],
       "layout": {
        "template": {
         "data": {
          "histogram2dcontour": [
           {
            "type": "histogram2dcontour",
            "colorbar": {
             "outlinewidth": 0,
             "ticks": ""
            },
            "colorscale": [
             [
              0.0,
              "#0d0887"
             ],
             [
              0.1111111111111111,
              "#46039f"
             ],
             [
              0.2222222222222222,
              "#7201a8"
             ],
             [
              0.3333333333333333,
              "#9c179e"
             ],
             [
              0.4444444444444444,
              "#bd3786"
             ],
             [
              0.5555555555555556,
              "#d8576b"
             ],
             [
              0.6666666666666666,
              "#ed7953"
             ],
             [
              0.7777777777777778,
              "#fb9f3a"
             ],
             [
              0.8888888888888888,
              "#fdca26"
             ],
             [
              1.0,
              "#f0f921"
             ]
            ]
           }
          ],
          "choropleth": [
           {
            "type": "choropleth",
            "colorbar": {
             "outlinewidth": 0,
             "ticks": ""
            }
           }
          ],
          "histogram2d": [
           {
            "type": "histogram2d",
            "colorbar": {
             "outlinewidth": 0,
             "ticks": ""
            },
            "colorscale": [
             [
              0.0,
              "#0d0887"
             ],
             [
              0.1111111111111111,
              "#46039f"
             ],
             [
              0.2222222222222222,
              "#7201a8"
             ],
             [
              0.3333333333333333,
              "#9c179e"
             ],
             [
              0.4444444444444444,
              "#bd3786"
             ],
             [
              0.5555555555555556,
              "#d8576b"
             ],
             [
              0.6666666666666666,
              "#ed7953"
             ],
             [
              0.7777777777777778,
              "#fb9f3a"
             ],
             [
              0.8888888888888888,
              "#fdca26"
             ],
             [
              1.0,
              "#f0f921"
             ]
            ]
           }
          ],
          "heatmap": [
           {
            "type": "heatmap",
            "colorbar": {
             "outlinewidth": 0,
             "ticks": ""
            },
            "colorscale": [
             [
              0.0,
              "#0d0887"
             ],
             [
              0.1111111111111111,
              "#46039f"
             ],
             [
              0.2222222222222222,
              "#7201a8"
             ],
             [
              0.3333333333333333,
              "#9c179e"
             ],
             [
              0.4444444444444444,
              "#bd3786"
             ],
             [
              0.5555555555555556,
              "#d8576b"
             ],
             [
              0.6666666666666666,
              "#ed7953"
             ],
             [
              0.7777777777777778,
              "#fb9f3a"
             ],
             [
              0.8888888888888888,
              "#fdca26"
             ],
             [
              1.0,
              "#f0f921"
             ]
            ]
           }
          ],
          "heatmapgl": [
           {
            "type": "heatmapgl",
            "colorbar": {
             "outlinewidth": 0,
             "ticks": ""
            },
            "colorscale": [
             [
              0.0,
              "#0d0887"
             ],
             [
              0.1111111111111111,
              "#46039f"
             ],
             [
              0.2222222222222222,
              "#7201a8"
             ],
             [
              0.3333333333333333,
              "#9c179e"
             ],
             [
              0.4444444444444444,
              "#bd3786"
             ],
             [
              0.5555555555555556,
              "#d8576b"
             ],
             [
              0.6666666666666666,
              "#ed7953"
             ],
             [
              0.7777777777777778,
              "#fb9f3a"
             ],
             [
              0.8888888888888888,
              "#fdca26"
             ],
             [
              1.0,
              "#f0f921"
             ]
            ]
           }
          ],
          "contourcarpet": [
           {
            "type": "contourcarpet",
            "colorbar": {
             "outlinewidth": 0,
             "ticks": ""
            }
           }
          ],
          "contour": [
           {
            "type": "contour",
            "colorbar": {
             "outlinewidth": 0,
             "ticks": ""
            },
            "colorscale": [
             [
              0.0,
              "#0d0887"
             ],
             [
              0.1111111111111111,
              "#46039f"
             ],
             [
              0.2222222222222222,
              "#7201a8"
             ],
             [
              0.3333333333333333,
              "#9c179e"
             ],
             [
              0.4444444444444444,
              "#bd3786"
             ],
             [
              0.5555555555555556,
              "#d8576b"
             ],
             [
              0.6666666666666666,
              "#ed7953"
             ],
             [
              0.7777777777777778,
              "#fb9f3a"
             ],
             [
              0.8888888888888888,
              "#fdca26"
             ],
             [
              1.0,
              "#f0f921"
             ]
            ]
           }
          ],
          "surface": [
           {
            "type": "surface",
            "colorbar": {
             "outlinewidth": 0,
             "ticks": ""
            },
            "colorscale": [
             [
              0.0,
              "#0d0887"
             ],
             [
              0.1111111111111111,
              "#46039f"
             ],
             [
              0.2222222222222222,
              "#7201a8"
             ],
             [
              0.3333333333333333,
              "#9c179e"
             ],
             [
              0.4444444444444444,
              "#bd3786"
             ],
             [
              0.5555555555555556,
              "#d8576b"
             ],
             [
              0.6666666666666666,
              "#ed7953"
             ],
             [
              0.7777777777777778,
              "#fb9f3a"
             ],
             [
              0.8888888888888888,
              "#fdca26"
             ],
             [
              1.0,
              "#f0f921"
             ]
            ]
           }
          ],
          "mesh3d": [
           {
            "type": "mesh3d",
            "colorbar": {
             "outlinewidth": 0,
             "ticks": ""
            }
           }
          ],
          "scatter": [
           {
            "fillpattern": {
             "fillmode": "overlay",
             "size": 10,
             "solidity": 0.2
            },
            "type": "scatter"
           }
          ],
          "parcoords": [
           {
            "type": "parcoords",
            "line": {
             "colorbar": {
              "outlinewidth": 0,
              "ticks": ""
             }
            }
           }
          ],
          "scatterpolargl": [
           {
            "type": "scatterpolargl",
            "marker": {
             "colorbar": {
              "outlinewidth": 0,
              "ticks": ""
             }
            }
           }
          ],
          "bar": [
           {
            "error_x": {
             "color": "#2a3f5f"
            },
            "error_y": {
             "color": "#2a3f5f"
            },
            "marker": {
             "line": {
              "color": "#E5ECF6",
              "width": 0.5
             },
             "pattern": {
              "fillmode": "overlay",
              "size": 10,
              "solidity": 0.2
             }
            },
            "type": "bar"
           }
          ],
          "scattergeo": [
           {
            "type": "scattergeo",
            "marker": {
             "colorbar": {
              "outlinewidth": 0,
              "ticks": ""
             }
            }
           }
          ],
          "scatterpolar": [
           {
            "type": "scatterpolar",
            "marker": {
             "colorbar": {
              "outlinewidth": 0,
              "ticks": ""
             }
            }
           }
          ],
          "histogram": [
           {
            "marker": {
             "pattern": {
              "fillmode": "overlay",
              "size": 10,
              "solidity": 0.2
             }
            },
            "type": "histogram"
           }
          ],
          "scattergl": [
           {
            "type": "scattergl",
            "marker": {
             "colorbar": {
              "outlinewidth": 0,
              "ticks": ""
             }
            }
           }
          ],
          "scatter3d": [
           {
            "type": "scatter3d",
            "line": {
             "colorbar": {
              "outlinewidth": 0,
              "ticks": ""
             }
            },
            "marker": {
             "colorbar": {
              "outlinewidth": 0,
              "ticks": ""
             }
            }
           }
          ],
          "scattermapbox": [
           {
            "type": "scattermapbox",
            "marker": {
             "colorbar": {
              "outlinewidth": 0,
              "ticks": ""
             }
            }
           }
          ],
          "scatterternary": [
           {
            "type": "scatterternary",
            "marker": {
             "colorbar": {
              "outlinewidth": 0,
              "ticks": ""
             }
            }
           }
          ],
          "scattercarpet": [
           {
            "type": "scattercarpet",
            "marker": {
             "colorbar": {
              "outlinewidth": 0,
              "ticks": ""
             }
            }
           }
          ],
          "carpet": [
           {
            "aaxis": {
             "endlinecolor": "#2a3f5f",
             "gridcolor": "white",
             "linecolor": "white",
             "minorgridcolor": "white",
             "startlinecolor": "#2a3f5f"
            },
            "baxis": {
             "endlinecolor": "#2a3f5f",
             "gridcolor": "white",
             "linecolor": "white",
             "minorgridcolor": "white",
             "startlinecolor": "#2a3f5f"
            },
            "type": "carpet"
           }
          ],
          "table": [
           {
            "cells": {
             "fill": {
              "color": "#EBF0F8"
             },
             "line": {
              "color": "white"
             }
            },
            "header": {
             "fill": {
              "color": "#C8D4E3"
             },
             "line": {
              "color": "white"
             }
            },
            "type": "table"
           }
          ],
          "barpolar": [
           {
            "marker": {
             "line": {
              "color": "#E5ECF6",
              "width": 0.5
             },
             "pattern": {
              "fillmode": "overlay",
              "size": 10,
              "solidity": 0.2
             }
            },
            "type": "barpolar"
           }
          ],
          "pie": [
           {
            "automargin": true,
            "type": "pie"
           }
          ]
         },
         "layout": {
          "autotypenumbers": "strict",
          "colorway": [
           "#636efa",
           "#EF553B",
           "#00cc96",
           "#ab63fa",
           "#FFA15A",
           "#19d3f3",
           "#FF6692",
           "#B6E880",
           "#FF97FF",
           "#FECB52"
          ],
          "font": {
           "color": "#2a3f5f"
          },
          "hovermode": "closest",
          "hoverlabel": {
           "align": "left"
          },
          "paper_bgcolor": "white",
          "plot_bgcolor": "#E5ECF6",
          "polar": {
           "bgcolor": "#E5ECF6",
           "angularaxis": {
            "gridcolor": "white",
            "linecolor": "white",
            "ticks": ""
           },
           "radialaxis": {
            "gridcolor": "white",
            "linecolor": "white",
            "ticks": ""
           }
          },
          "ternary": {
           "bgcolor": "#E5ECF6",
           "aaxis": {
            "gridcolor": "white",
            "linecolor": "white",
            "ticks": ""
           },
           "baxis": {
            "gridcolor": "white",
            "linecolor": "white",
            "ticks": ""
           },
           "caxis": {
            "gridcolor": "white",
            "linecolor": "white",
            "ticks": ""
           }
          },
          "coloraxis": {
           "colorbar": {
            "outlinewidth": 0,
            "ticks": ""
           }
          },
          "colorscale": {
           "sequential": [
            [
             0.0,
             "#0d0887"
            ],
            [
             0.1111111111111111,
             "#46039f"
            ],
            [
             0.2222222222222222,
             "#7201a8"
            ],
            [
             0.3333333333333333,
             "#9c179e"
            ],
            [
             0.4444444444444444,
             "#bd3786"
            ],
            [
             0.5555555555555556,
             "#d8576b"
            ],
            [
             0.6666666666666666,
             "#ed7953"
            ],
            [
             0.7777777777777778,
             "#fb9f3a"
            ],
            [
             0.8888888888888888,
             "#fdca26"
            ],
            [
             1.0,
             "#f0f921"
            ]
           ],
           "sequentialminus": [
            [
             0.0,
             "#0d0887"
            ],
            [
             0.1111111111111111,
             "#46039f"
            ],
            [
             0.2222222222222222,
             "#7201a8"
            ],
            [
             0.3333333333333333,
             "#9c179e"
            ],
            [
             0.4444444444444444,
             "#bd3786"
            ],
            [
             0.5555555555555556,
             "#d8576b"
            ],
            [
             0.6666666666666666,
             "#ed7953"
            ],
            [
             0.7777777777777778,
             "#fb9f3a"
            ],
            [
             0.8888888888888888,
             "#fdca26"
            ],
            [
             1.0,
             "#f0f921"
            ]
           ],
           "diverging": [
            [
             0,
             "#8e0152"
            ],
            [
             0.1,
             "#c51b7d"
            ],
            [
             0.2,
             "#de77ae"
            ],
            [
             0.3,
             "#f1b6da"
            ],
            [
             0.4,
             "#fde0ef"
            ],
            [
             0.5,
             "#f7f7f7"
            ],
            [
             0.6,
             "#e6f5d0"
            ],
            [
             0.7,
             "#b8e186"
            ],
            [
             0.8,
             "#7fbc41"
            ],
            [
             0.9,
             "#4d9221"
            ],
            [
             1,
             "#276419"
            ]
           ]
          },
          "xaxis": {
           "gridcolor": "white",
           "linecolor": "white",
           "ticks": "",
           "title": {
            "standoff": 15
           },
           "zerolinecolor": "white",
           "automargin": true,
           "zerolinewidth": 2
          },
          "yaxis": {
           "gridcolor": "white",
           "linecolor": "white",
           "ticks": "",
           "title": {
            "standoff": 15
           },
           "zerolinecolor": "white",
           "automargin": true,
           "zerolinewidth": 2
          },
          "scene": {
           "xaxis": {
            "backgroundcolor": "#E5ECF6",
            "gridcolor": "white",
            "linecolor": "white",
            "showbackground": true,
            "ticks": "",
            "zerolinecolor": "white",
            "gridwidth": 2
           },
           "yaxis": {
            "backgroundcolor": "#E5ECF6",
            "gridcolor": "white",
            "linecolor": "white",
            "showbackground": true,
            "ticks": "",
            "zerolinecolor": "white",
            "gridwidth": 2
           },
           "zaxis": {
            "backgroundcolor": "#E5ECF6",
            "gridcolor": "white",
            "linecolor": "white",
            "showbackground": true,
            "ticks": "",
            "zerolinecolor": "white",
            "gridwidth": 2
           }
          },
          "shapedefaults": {
           "line": {
            "color": "#2a3f5f"
           }
          },
          "annotationdefaults": {
           "arrowcolor": "#2a3f5f",
           "arrowhead": 0,
           "arrowwidth": 1
          },
          "geo": {
           "bgcolor": "white",
           "landcolor": "#E5ECF6",
           "subunitcolor": "white",
           "showland": true,
           "showlakes": true,
           "lakecolor": "white"
          },
          "title": {
           "x": 0.05
          },
          "mapbox": {
           "style": "light"
          }
         }
        },
        "title": {
         "text": "$\\text{Average loss for every 250 games - }\\epsilon_{opt}=0.5, without replay buffer$"
        },
        "xaxis": {
         "title": {
          "text": "$game$"
         }
        },
        "yaxis": {
         "title": {
          "text": "$average(loss)\\text{- 250 games}$"
         }
        }
       },
       "config": {
        "plotlyServerURL": "https://plot.ly"
       }
      },
      "text/html": "<div>                            <div id=\"34b36093-d0f9-4aee-ad77-331efc206046\" class=\"plotly-graph-div\" style=\"height:525px; width:100%;\"></div>            <script type=\"text/javascript\">                require([\"plotly\"], function(Plotly) {                    window.PLOTLYENV=window.PLOTLYENV || {};                                    if (document.getElementById(\"34b36093-d0f9-4aee-ad77-331efc206046\")) {                    Plotly.newPlot(                        \"34b36093-d0f9-4aee-ad77-331efc206046\",                        [{\"mode\":\"lines\",\"x\":[249,499,749,999,1249,1499,1749,1999,2249,2499,2749,2999,3249,3499,3749,3999,4249,4499,4749,4999,5249,5499,5749,5999,6249,6499,6749,6999,7249,7499,7749,7999,8249,8499,8749,8999,9249,9499,9749,9999,10249,10499,10749,10999,11249,11499,11749,11999,12249,12499,12749,12999,13249,13499,13749,13999,14249,14499,14749,14999,15249,15499,15749,15999,16249,16499,16749,16999,17249,17499,17749,17999,18249,18499,18749,18999,19249,19499,19749,19999],\"y\":[0.0004472063245143502,0.00025363101386844506,0.00015313067650125388,0.00010509725173841124,6.623154609472838e-05,5.324038064391048e-05,3.0303607933904363e-05,2.9313942874175734e-05,1.9833701720313446e-05,1.4047247093785633e-05,1.1665904426311444e-05,1.3974026913771422e-05,1.380232536165074e-05,9.561206286579927e-06,1.156672643224588e-05,9.333138450591566e-06,1.3031990709738248e-05,1.058269776569834e-05,7.534827299314222e-06,5.813824059631769e-06,4.50467475215029e-06,4.660559617440062e-06,5.7000848630187394e-06,5.558910814249377e-06,3.5214751536857033e-06,4.115528312061329e-06,2.5186504617019585e-06,2.345006591171991e-06,3.4709621651716277e-06,2.2858967237974757e-06,2.2308715663252506e-06,2.377539332093974e-06,1.0402180874227646e-06,1.679839550128999e-06,1.4038606760246113e-06,1.2481341567312264e-06,1.7129256053311615e-06,1.4330810603260035e-06,9.877622785651197e-07,1.6754893224373023e-06,1.4305294085790333e-06,1.1142517862748608e-06,8.16539909281021e-07,1.4665774283978236e-06,1.0716482153021963e-06,1.0436533090395831e-06,9.492957223818094e-07,6.870023528325214e-07,9.948854874782841e-07,1.05697096058206e-06,6.458714424732037e-07,9.258292494488251e-07,1.0126012204458475e-06,6.805903044413772e-07,9.552183845871547e-07,8.648184478495921e-07,6.998348933532285e-07,4.4260844001140373e-07,4.7470952798346055e-07,7.483038669745326e-07,5.104170680414995e-07,1.3049140224351234e-06,2.297497825322235e-07,7.502246001038211e-07,3.129925449075322e-07,9.633615738865223e-07,6.051961707946547e-07,4.548108017537401e-07,4.903070628032264e-07,3.1435479074013047e-07,4.7246050436930484e-07,6.271281576355738e-07,4.2831788822061807e-07,5.029649545196994e-07,5.398376901343515e-07,5.144540360621408e-07,3.4042262632061555e-07,7.118675030415486e-07,5.272575557476059e-07,4.521029188585583e-07],\"type\":\"scatter\"}],                        {\"template\":{\"data\":{\"histogram2dcontour\":[{\"type\":\"histogram2dcontour\",\"colorbar\":{\"outlinewidth\":0,\"ticks\":\"\"},\"colorscale\":[[0.0,\"#0d0887\"],[0.1111111111111111,\"#46039f\"],[0.2222222222222222,\"#7201a8\"],[0.3333333333333333,\"#9c179e\"],[0.4444444444444444,\"#bd3786\"],[0.5555555555555556,\"#d8576b\"],[0.6666666666666666,\"#ed7953\"],[0.7777777777777778,\"#fb9f3a\"],[0.8888888888888888,\"#fdca26\"],[1.0,\"#f0f921\"]]}],\"choropleth\":[{\"type\":\"choropleth\",\"colorbar\":{\"outlinewidth\":0,\"ticks\":\"\"}}],\"histogram2d\":[{\"type\":\"histogram2d\",\"colorbar\":{\"outlinewidth\":0,\"ticks\":\"\"},\"colorscale\":[[0.0,\"#0d0887\"],[0.1111111111111111,\"#46039f\"],[0.2222222222222222,\"#7201a8\"],[0.3333333333333333,\"#9c179e\"],[0.4444444444444444,\"#bd3786\"],[0.5555555555555556,\"#d8576b\"],[0.6666666666666666,\"#ed7953\"],[0.7777777777777778,\"#fb9f3a\"],[0.8888888888888888,\"#fdca26\"],[1.0,\"#f0f921\"]]}],\"heatmap\":[{\"type\":\"heatmap\",\"colorbar\":{\"outlinewidth\":0,\"ticks\":\"\"},\"colorscale\":[[0.0,\"#0d0887\"],[0.1111111111111111,\"#46039f\"],[0.2222222222222222,\"#7201a8\"],[0.3333333333333333,\"#9c179e\"],[0.4444444444444444,\"#bd3786\"],[0.5555555555555556,\"#d8576b\"],[0.6666666666666666,\"#ed7953\"],[0.7777777777777778,\"#fb9f3a\"],[0.8888888888888888,\"#fdca26\"],[1.0,\"#f0f921\"]]}],\"heatmapgl\":[{\"type\":\"heatmapgl\",\"colorbar\":{\"outlinewidth\":0,\"ticks\":\"\"},\"colorscale\":[[0.0,\"#0d0887\"],[0.1111111111111111,\"#46039f\"],[0.2222222222222222,\"#7201a8\"],[0.3333333333333333,\"#9c179e\"],[0.4444444444444444,\"#bd3786\"],[0.5555555555555556,\"#d8576b\"],[0.6666666666666666,\"#ed7953\"],[0.7777777777777778,\"#fb9f3a\"],[0.8888888888888888,\"#fdca26\"],[1.0,\"#f0f921\"]]}],\"contourcarpet\":[{\"type\":\"contourcarpet\",\"colorbar\":{\"outlinewidth\":0,\"ticks\":\"\"}}],\"contour\":[{\"type\":\"contour\",\"colorbar\":{\"outlinewidth\":0,\"ticks\":\"\"},\"colorscale\":[[0.0,\"#0d0887\"],[0.1111111111111111,\"#46039f\"],[0.2222222222222222,\"#7201a8\"],[0.3333333333333333,\"#9c179e\"],[0.4444444444444444,\"#bd3786\"],[0.5555555555555556,\"#d8576b\"],[0.6666666666666666,\"#ed7953\"],[0.7777777777777778,\"#fb9f3a\"],[0.8888888888888888,\"#fdca26\"],[1.0,\"#f0f921\"]]}],\"surface\":[{\"type\":\"surface\",\"colorbar\":{\"outlinewidth\":0,\"ticks\":\"\"},\"colorscale\":[[0.0,\"#0d0887\"],[0.1111111111111111,\"#46039f\"],[0.2222222222222222,\"#7201a8\"],[0.3333333333333333,\"#9c179e\"],[0.4444444444444444,\"#bd3786\"],[0.5555555555555556,\"#d8576b\"],[0.6666666666666666,\"#ed7953\"],[0.7777777777777778,\"#fb9f3a\"],[0.8888888888888888,\"#fdca26\"],[1.0,\"#f0f921\"]]}],\"mesh3d\":[{\"type\":\"mesh3d\",\"colorbar\":{\"outlinewidth\":0,\"ticks\":\"\"}}],\"scatter\":[{\"fillpattern\":{\"fillmode\":\"overlay\",\"size\":10,\"solidity\":0.2},\"type\":\"scatter\"}],\"parcoords\":[{\"type\":\"parcoords\",\"line\":{\"colorbar\":{\"outlinewidth\":0,\"ticks\":\"\"}}}],\"scatterpolargl\":[{\"type\":\"scatterpolargl\",\"marker\":{\"colorbar\":{\"outlinewidth\":0,\"ticks\":\"\"}}}],\"bar\":[{\"error_x\":{\"color\":\"#2a3f5f\"},\"error_y\":{\"color\":\"#2a3f5f\"},\"marker\":{\"line\":{\"color\":\"#E5ECF6\",\"width\":0.5},\"pattern\":{\"fillmode\":\"overlay\",\"size\":10,\"solidity\":0.2}},\"type\":\"bar\"}],\"scattergeo\":[{\"type\":\"scattergeo\",\"marker\":{\"colorbar\":{\"outlinewidth\":0,\"ticks\":\"\"}}}],\"scatterpolar\":[{\"type\":\"scatterpolar\",\"marker\":{\"colorbar\":{\"outlinewidth\":0,\"ticks\":\"\"}}}],\"histogram\":[{\"marker\":{\"pattern\":{\"fillmode\":\"overlay\",\"size\":10,\"solidity\":0.2}},\"type\":\"histogram\"}],\"scattergl\":[{\"type\":\"scattergl\",\"marker\":{\"colorbar\":{\"outlinewidth\":0,\"ticks\":\"\"}}}],\"scatter3d\":[{\"type\":\"scatter3d\",\"line\":{\"colorbar\":{\"outlinewidth\":0,\"ticks\":\"\"}},\"marker\":{\"colorbar\":{\"outlinewidth\":0,\"ticks\":\"\"}}}],\"scattermapbox\":[{\"type\":\"scattermapbox\",\"marker\":{\"colorbar\":{\"outlinewidth\":0,\"ticks\":\"\"}}}],\"scatterternary\":[{\"type\":\"scatterternary\",\"marker\":{\"colorbar\":{\"outlinewidth\":0,\"ticks\":\"\"}}}],\"scattercarpet\":[{\"type\":\"scattercarpet\",\"marker\":{\"colorbar\":{\"outlinewidth\":0,\"ticks\":\"\"}}}],\"carpet\":[{\"aaxis\":{\"endlinecolor\":\"#2a3f5f\",\"gridcolor\":\"white\",\"linecolor\":\"white\",\"minorgridcolor\":\"white\",\"startlinecolor\":\"#2a3f5f\"},\"baxis\":{\"endlinecolor\":\"#2a3f5f\",\"gridcolor\":\"white\",\"linecolor\":\"white\",\"minorgridcolor\":\"white\",\"startlinecolor\":\"#2a3f5f\"},\"type\":\"carpet\"}],\"table\":[{\"cells\":{\"fill\":{\"color\":\"#EBF0F8\"},\"line\":{\"color\":\"white\"}},\"header\":{\"fill\":{\"color\":\"#C8D4E3\"},\"line\":{\"color\":\"white\"}},\"type\":\"table\"}],\"barpolar\":[{\"marker\":{\"line\":{\"color\":\"#E5ECF6\",\"width\":0.5},\"pattern\":{\"fillmode\":\"overlay\",\"size\":10,\"solidity\":0.2}},\"type\":\"barpolar\"}],\"pie\":[{\"automargin\":true,\"type\":\"pie\"}]},\"layout\":{\"autotypenumbers\":\"strict\",\"colorway\":[\"#636efa\",\"#EF553B\",\"#00cc96\",\"#ab63fa\",\"#FFA15A\",\"#19d3f3\",\"#FF6692\",\"#B6E880\",\"#FF97FF\",\"#FECB52\"],\"font\":{\"color\":\"#2a3f5f\"},\"hovermode\":\"closest\",\"hoverlabel\":{\"align\":\"left\"},\"paper_bgcolor\":\"white\",\"plot_bgcolor\":\"#E5ECF6\",\"polar\":{\"bgcolor\":\"#E5ECF6\",\"angularaxis\":{\"gridcolor\":\"white\",\"linecolor\":\"white\",\"ticks\":\"\"},\"radialaxis\":{\"gridcolor\":\"white\",\"linecolor\":\"white\",\"ticks\":\"\"}},\"ternary\":{\"bgcolor\":\"#E5ECF6\",\"aaxis\":{\"gridcolor\":\"white\",\"linecolor\":\"white\",\"ticks\":\"\"},\"baxis\":{\"gridcolor\":\"white\",\"linecolor\":\"white\",\"ticks\":\"\"},\"caxis\":{\"gridcolor\":\"white\",\"linecolor\":\"white\",\"ticks\":\"\"}},\"coloraxis\":{\"colorbar\":{\"outlinewidth\":0,\"ticks\":\"\"}},\"colorscale\":{\"sequential\":[[0.0,\"#0d0887\"],[0.1111111111111111,\"#46039f\"],[0.2222222222222222,\"#7201a8\"],[0.3333333333333333,\"#9c179e\"],[0.4444444444444444,\"#bd3786\"],[0.5555555555555556,\"#d8576b\"],[0.6666666666666666,\"#ed7953\"],[0.7777777777777778,\"#fb9f3a\"],[0.8888888888888888,\"#fdca26\"],[1.0,\"#f0f921\"]],\"sequentialminus\":[[0.0,\"#0d0887\"],[0.1111111111111111,\"#46039f\"],[0.2222222222222222,\"#7201a8\"],[0.3333333333333333,\"#9c179e\"],[0.4444444444444444,\"#bd3786\"],[0.5555555555555556,\"#d8576b\"],[0.6666666666666666,\"#ed7953\"],[0.7777777777777778,\"#fb9f3a\"],[0.8888888888888888,\"#fdca26\"],[1.0,\"#f0f921\"]],\"diverging\":[[0,\"#8e0152\"],[0.1,\"#c51b7d\"],[0.2,\"#de77ae\"],[0.3,\"#f1b6da\"],[0.4,\"#fde0ef\"],[0.5,\"#f7f7f7\"],[0.6,\"#e6f5d0\"],[0.7,\"#b8e186\"],[0.8,\"#7fbc41\"],[0.9,\"#4d9221\"],[1,\"#276419\"]]},\"xaxis\":{\"gridcolor\":\"white\",\"linecolor\":\"white\",\"ticks\":\"\",\"title\":{\"standoff\":15},\"zerolinecolor\":\"white\",\"automargin\":true,\"zerolinewidth\":2},\"yaxis\":{\"gridcolor\":\"white\",\"linecolor\":\"white\",\"ticks\":\"\",\"title\":{\"standoff\":15},\"zerolinecolor\":\"white\",\"automargin\":true,\"zerolinewidth\":2},\"scene\":{\"xaxis\":{\"backgroundcolor\":\"#E5ECF6\",\"gridcolor\":\"white\",\"linecolor\":\"white\",\"showbackground\":true,\"ticks\":\"\",\"zerolinecolor\":\"white\",\"gridwidth\":2},\"yaxis\":{\"backgroundcolor\":\"#E5ECF6\",\"gridcolor\":\"white\",\"linecolor\":\"white\",\"showbackground\":true,\"ticks\":\"\",\"zerolinecolor\":\"white\",\"gridwidth\":2},\"zaxis\":{\"backgroundcolor\":\"#E5ECF6\",\"gridcolor\":\"white\",\"linecolor\":\"white\",\"showbackground\":true,\"ticks\":\"\",\"zerolinecolor\":\"white\",\"gridwidth\":2}},\"shapedefaults\":{\"line\":{\"color\":\"#2a3f5f\"}},\"annotationdefaults\":{\"arrowcolor\":\"#2a3f5f\",\"arrowhead\":0,\"arrowwidth\":1},\"geo\":{\"bgcolor\":\"white\",\"landcolor\":\"#E5ECF6\",\"subunitcolor\":\"white\",\"showland\":true,\"showlakes\":true,\"lakecolor\":\"white\"},\"title\":{\"x\":0.05},\"mapbox\":{\"style\":\"light\"}}},\"title\":{\"text\":\"$\\\\text{Average loss for every 250 games - }\\\\epsilon_{opt}=0.5, without replay buffer$\"},\"xaxis\":{\"title\":{\"text\":\"$game$\"}},\"yaxis\":{\"title\":{\"text\":\"$average(loss)\\\\text{- 250 games}$\"}}},                        {\"responsive\": true}                    ).then(function(){\n                            \nvar gd = document.getElementById('34b36093-d0f9-4aee-ad77-331efc206046');\nvar x = new MutationObserver(function (mutations, observer) {{\n        var display = window.getComputedStyle(gd).display;\n        if (!display || display === 'none') {{\n            console.log([gd, 'removed!']);\n            Plotly.purge(gd);\n            observer.disconnect();\n        }}\n}});\n\n// Listen for the removal of the full notebook cells\nvar notebookContainer = gd.closest('#notebook-container');\nif (notebookContainer) {{\n    x.observe(notebookContainer, {childList: true});\n}}\n\n// Listen for the clearing of the current output cell\nvar outputEl = gd.closest('.output');\nif (outputEl) {{\n    x.observe(outputEl, {childList: true});\n}}\n\n                        })                };                });            </script>        </div>"
     },
     "metadata": {},
     "output_type": "display_data"
    }
   ],
   "source": [
    "fig = go.Figure()\n",
    "\n",
    "fig.add_trace(go.Scatter(x=x, y=losses, mode='lines'))\n",
    "\n",
    "fig.update_layout(\n",
    "    title=r'$\\text{Average loss for every %d games - }\\epsilon_{opt}=0.5, without replay buffer$' % averaging_steps,\n",
    "    xaxis_title=r'$game$',\n",
    "    yaxis_title=r'$average(loss)\\text{- %d games}$' % (averaging_steps),\n",
    ")\n",
    "\n",
    "fig.show()"
   ],
   "metadata": {
    "collapsed": false,
    "pycharm": {
     "name": "#%%\n"
    }
   }
  },
  {
   "cell_type": "markdown",
   "source": [
    "In this case, the average reward is almost always close to the minimum: the networks loses all the time. In addition, after an initial"
   ],
   "metadata": {
    "collapsed": false,
    "pycharm": {
     "name": "#%% md\n"
    }
   }
  },
  {
   "cell_type": "markdown",
   "source": [
    "### Question 13"
   ],
   "metadata": {
    "collapsed": false,
    "pycharm": {
     "name": "#%% md\n"
    }
   }
  },
  {
   "cell_type": "code",
   "execution_count": 40,
   "outputs": [],
   "source": [
    "def deep_run_episodes(n_episodes, q_player, other_player, update_epsilon=False, update_other_epsilon=False):\n",
    "    M_opts = []\n",
    "    M_rands = []\n",
    "    x = []\n",
    "    turns = np.array(['X','O'])\n",
    "\n",
    "    rewards = []\n",
    "    losses = []\n",
    "    average_reward = 0.\n",
    "    average_loss = []\n",
    "    update_steps = 500\n",
    "\n",
    "    for episode in tqdm(range(n_episodes)):\n",
    "        # Update players\n",
    "        q_player.set_player(turns[0])\n",
    "        other_player.set_player(turns[1])\n",
    "\n",
    "        if update_epsilon:\n",
    "            q_player.update_epsilon(episode)\n",
    "        if update_other_epsilon:\n",
    "            other_player.update_epsilon(episode)\n",
    "\n",
    "\n",
    "        # Play game\n",
    "        loss, reward = play_deep_game(env, q_player, other_player, turns, testing=False)\n",
    "        average_reward += reward\n",
    "        average_loss.extend(loss)\n",
    "\n",
    "        if episode % (update_steps-1) == 0:\n",
    "            q_player.update_target()\n",
    "\n",
    "        if episode % averaging_steps == averaging_steps - 1:\n",
    "            average_reward /= averaging_steps\n",
    "            rewards.append(average_reward)\n",
    "            losses.append(np.array(average_loss).mean())\n",
    "            average_reward = 0.\n",
    "            average_loss = []\n",
    "\n",
    "            # Compute M_opt and M_rand\n",
    "            M_opt, M_rand = compute_measures(env, q_player, deep=True)\n",
    "            M_opts.append(M_opt)\n",
    "            M_rands.append(M_rand)\n",
    "            x.append(episode)\n",
    "\n",
    "        # Change first player\n",
    "        turns = turns[::-1]\n",
    "\n",
    "    return rewards, M_opts, M_rands, x"
   ],
   "metadata": {
    "collapsed": false,
    "pycharm": {
     "name": "#%%\n"
    }
   }
  },
  {
   "cell_type": "code",
   "execution_count": null,
   "outputs": [
    {
     "name": "stdout",
     "output_type": "stream",
     "text": [
      "[1, 4000, 8000, 12000, 16000, 20000, 24000, 28000, 32000, 36000, 40000]\n",
      "Current n_star: 1\n"
     ]
    },
    {
     "name": "stderr",
     "output_type": "stream",
     "text": [
      " 70%|██████▉   | 13948/20000 [05:15<01:00, 100.48it/s]"
     ]
    }
   ],
   "source": [
    "n_episodes = 20000\n",
    "averaging_steps = 250\n",
    "\n",
    "turns = np.array(['X','O'])\n",
    "\n",
    "\n",
    "env = TictactoeEnv()\n",
    "\n",
    "n_star_rewards = []\n",
    "n_star_list = [int(x) for x in np.linspace(1, 40000, 11)]\n",
    "print(n_star_list)\n",
    "n_star_M_opts = []\n",
    "n_star_M_rands = []\n",
    "other_player = OptimalPlayer(epsilon=0.5, player=turns[1])\n",
    "\n",
    "for n_star in n_star_list:\n",
    "    print('Current n_star: %d' % n_star)\n",
    "    q_player = DeepVariableEpsilonQPlayer(0.8, 0.1, n_star, None)\n",
    "\n",
    "    rewards, M_opts, M_rands, x = deep_run_episodes(n_episodes, q_player, other_player, update_epsilon=True)\n",
    "\n",
    "    n_star_rewards.append(rewards)\n",
    "    n_star_M_opts.append(M_opts)\n",
    "    n_star_M_rands.append(M_rands)\n",
    "\n",
    "# Save data\n",
    "with open('deep_n_stars.pickle', 'wb') as f:\n",
    "    pickle.dump((n_star_list, n_star_rewards, n_star_M_opts, n_star_M_rands), f)"
   ],
   "metadata": {
    "collapsed": false,
    "pycharm": {
     "name": "#%%\n",
     "is_executing": true
    }
   }
  },
  {
   "cell_type": "code",
   "execution_count": 25,
   "outputs": [],
   "source": [
    "# Load data\n",
    "\n",
    "with open('deep_n_stars.pickle', 'rb') as f:\n",
    "     n_star_list, n_star_rewards, n_star_M_opts, n_star_M_rands =  pickle.load(f)"
   ],
   "metadata": {
    "collapsed": false,
    "pycharm": {
     "name": "#%%\n"
    }
   }
  },
  {
   "cell_type": "code",
   "execution_count": 28,
   "outputs": [
    {
     "data": {
      "application/vnd.plotly.v1+json": {
       "data": [
        {
         "mode": "lines",
         "name": "$n^* = 1$",
         "x": [
          249,
          499,
          749,
          999,
          1249,
          1499,
          1749,
          1999,
          2249,
          2499,
          2749,
          2999,
          3249,
          3499,
          3749,
          3999,
          4249,
          4499,
          4749,
          4999,
          5249,
          5499,
          5749,
          5999,
          6249,
          6499,
          6749,
          6999,
          7249,
          7499,
          7749,
          7999,
          8249,
          8499,
          8749,
          8999,
          9249,
          9499,
          9749,
          9999,
          10249,
          10499,
          10749,
          10999,
          11249,
          11499,
          11749,
          11999,
          12249,
          12499,
          12749,
          12999,
          13249,
          13499,
          13749,
          13999,
          14249,
          14499,
          14749,
          14999,
          15249,
          15499,
          15749,
          15999,
          16249,
          16499,
          16749,
          16999,
          17249,
          17499,
          17749,
          17999,
          18249,
          18499,
          18749,
          18999,
          19249,
          19499,
          19749,
          19999
         ],
         "y": [
          -1.0,
          -1.0,
          -0.498,
          -0.9,
          -0.498,
          -0.384,
          -0.498,
          -0.388,
          -0.316,
          -0.39,
          -0.384,
          -0.308,
          -0.392,
          -0.372,
          -0.284,
          -0.304,
          -0.2,
          -0.112,
          -0.084,
          0.0,
          -0.09,
          0.0,
          0.0,
          -0.098,
          -0.104,
          0.0,
          -0.086,
          0.0,
          -0.106,
          -0.096,
          -0.132,
          -0.614,
          -0.114,
          -0.214,
          -0.592,
          -0.186,
          -0.114,
          -0.284,
          0.0,
          -0.602,
          -0.262,
          -0.412,
          -0.806,
          -0.102,
          -0.198,
          -0.222,
          -0.288,
          -0.286,
          -0.198,
          -0.802,
          -0.296,
          -0.356,
          -0.478,
          -0.11,
          -0.1,
          -0.83,
          -0.106,
          -0.61,
          0.0,
          -0.214,
          -0.098,
          0.0,
          0.0,
          -0.2,
          -0.226,
          -0.502,
          -0.456,
          -0.49,
          -0.208,
          0.0,
          0.0,
          -0.1,
          0.0,
          -0.108,
          -0.192,
          -0.502,
          -0.09,
          -0.144,
          0.0,
          -0.088
         ],
         "type": "scatter"
        },
        {
         "mode": "lines",
         "name": "$n^* = 4000$",
         "x": [
          249,
          499,
          749,
          999,
          1249,
          1499,
          1749,
          1999,
          2249,
          2499,
          2749,
          2999,
          3249,
          3499,
          3749,
          3999,
          4249,
          4499,
          4749,
          4999,
          5249,
          5499,
          5749,
          5999,
          6249,
          6499,
          6749,
          6999,
          7249,
          7499,
          7749,
          7999,
          8249,
          8499,
          8749,
          8999,
          9249,
          9499,
          9749,
          9999,
          10249,
          10499,
          10749,
          10999,
          11249,
          11499,
          11749,
          11999,
          12249,
          12499,
          12749,
          12999,
          13249,
          13499,
          13749,
          13999,
          14249,
          14499,
          14749,
          14999,
          15249,
          15499,
          15749,
          15999,
          16249,
          16499,
          16749,
          16999,
          17249,
          17499,
          17749,
          17999,
          18249,
          18499,
          18749,
          18999,
          19249,
          19499,
          19749,
          19999
         ],
         "y": [
          -1.0,
          -0.796,
          -1.0,
          -0.904,
          -1.0,
          -0.808,
          -1.0,
          -1.0,
          -0.894,
          -0.344,
          -0.188,
          -0.396,
          -0.418,
          -0.078,
          0.0,
          -0.1,
          -0.084,
          -0.246,
          -0.346,
          0.0,
          -0.172,
          -0.18,
          -0.21,
          -0.32,
          -0.114,
          -0.246,
          -0.206,
          -0.236,
          -0.688,
          -0.32,
          -0.502,
          0.0,
          0.0,
          0.0,
          0.0,
          0.0,
          -0.224,
          -0.784,
          -0.206,
          -0.134,
          -0.304,
          -0.1,
          -0.086,
          -0.104,
          -0.096,
          -0.336,
          0.0,
          -0.502,
          -0.106,
          0.0,
          0.0,
          0.0,
          0.0,
          0.0,
          -0.096,
          0.0,
          0.0,
          0.0,
          -0.232,
          0.0,
          0.0,
          -0.276,
          -0.08,
          -0.116,
          0.0,
          0.0,
          0.0,
          -0.222,
          0.0,
          -0.068,
          -0.584,
          -0.096,
          -0.272,
          -0.476,
          -0.302,
          0.0,
          0.0,
          -0.588,
          0.0,
          -0.334
         ],
         "type": "scatter"
        },
        {
         "mode": "lines",
         "name": "$n^* = 8000$",
         "x": [
          249,
          499,
          749,
          999,
          1249,
          1499,
          1749,
          1999,
          2249,
          2499,
          2749,
          2999,
          3249,
          3499,
          3749,
          3999,
          4249,
          4499,
          4749,
          4999,
          5249,
          5499,
          5749,
          5999,
          6249,
          6499,
          6749,
          6999,
          7249,
          7499,
          7749,
          7999,
          8249,
          8499,
          8749,
          8999,
          9249,
          9499,
          9749,
          9999,
          10249,
          10499,
          10749,
          10999,
          11249,
          11499,
          11749,
          11999,
          12249,
          12499,
          12749,
          12999,
          13249,
          13499,
          13749,
          13999,
          14249,
          14499,
          14749,
          14999,
          15249,
          15499,
          15749,
          15999,
          16249,
          16499,
          16749,
          16999,
          17249,
          17499,
          17749,
          17999,
          18249,
          18499,
          18749,
          18999,
          19249,
          19499,
          19749,
          19999
         ],
         "y": [
          -1.0,
          -1.0,
          -1.0,
          -1.0,
          -1.0,
          -0.894,
          -0.9,
          -1.0,
          -1.0,
          -0.882,
          -0.498,
          -0.498,
          -0.3,
          -0.412,
          -0.31,
          -0.398,
          -0.498,
          -0.402,
          -0.498,
          -0.316,
          -0.398,
          -0.194,
          -0.408,
          -0.294,
          -0.09,
          -0.092,
          -0.078,
          -0.126,
          0.0,
          0.0,
          0.0,
          0.0,
          0.0,
          0.0,
          0.0,
          0.0,
          0.0,
          -0.122,
          0.0,
          0.0,
          0.0,
          0.0,
          -0.242,
          -0.214,
          -0.3,
          -0.106,
          0.0,
          -0.252,
          0.0,
          0.0,
          0.0,
          -0.226,
          0.0,
          0.0,
          -0.096,
          0.0,
          -0.194,
          0.0,
          0.0,
          0.0,
          0.0,
          0.0,
          -0.118,
          -0.208,
          0.0,
          -0.27,
          0.0,
          -0.182,
          0.0,
          0.0,
          0.0,
          0.0,
          -0.71,
          -0.334,
          0.0,
          -0.118,
          0.0,
          -0.17,
          0.0,
          0.0
         ],
         "type": "scatter"
        },
        {
         "mode": "lines",
         "name": "$n^* = 12000$",
         "x": [
          249,
          499,
          749,
          999,
          1249,
          1499,
          1749,
          1999,
          2249,
          2499,
          2749,
          2999,
          3249,
          3499,
          3749,
          3999,
          4249,
          4499,
          4749,
          4999,
          5249,
          5499,
          5749,
          5999,
          6249,
          6499,
          6749,
          6999,
          7249,
          7499,
          7749,
          7999,
          8249,
          8499,
          8749,
          8999,
          9249,
          9499,
          9749,
          9999,
          10249,
          10499,
          10749,
          10999,
          11249,
          11499,
          11749,
          11999,
          12249,
          12499,
          12749,
          12999,
          13249,
          13499,
          13749,
          13999,
          14249,
          14499,
          14749,
          14999,
          15249,
          15499,
          15749,
          15999,
          16249,
          16499,
          16749,
          16999,
          17249,
          17499,
          17749,
          17999,
          18249,
          18499,
          18749,
          18999,
          19249,
          19499,
          19749,
          19999
         ],
         "y": [
          -1.0,
          -1.0,
          -1.0,
          -1.0,
          -1.0,
          -1.0,
          -0.908,
          -0.898,
          -0.284,
          -0.818,
          -0.194,
          -0.478,
          -0.792,
          -0.278,
          -0.442,
          -0.778,
          -0.546,
          -0.524,
          -0.194,
          -0.38,
          -0.89,
          -0.22,
          0.0,
          -0.11,
          -0.208,
          -0.502,
          -0.756,
          0.0,
          -0.1,
          0.0,
          -0.714,
          -0.114,
          0.0,
          -0.328,
          0.0,
          0.0,
          0.0,
          -0.14,
          -0.698,
          -0.108,
          0.0,
          -0.106,
          0.0,
          0.0,
          0.0,
          -0.186,
          -0.246,
          0.0,
          0.0,
          -0.144,
          0.0,
          0.0,
          -0.502,
          0.0,
          -0.07,
          -0.096,
          0.0,
          -0.19,
          -0.13,
          -0.502,
          0.0,
          -0.106,
          0.0,
          0.0,
          -0.084,
          0.0,
          -0.102,
          0.0,
          0.0,
          -0.236,
          0.0,
          -0.138,
          -0.456,
          -0.088,
          -0.2,
          0.0,
          0.0,
          -0.502,
          0.0,
          -0.312
         ],
         "type": "scatter"
        },
        {
         "mode": "lines",
         "name": "$n^* = 16000$",
         "x": [
          249,
          499,
          749,
          999,
          1249,
          1499,
          1749,
          1999,
          2249,
          2499,
          2749,
          2999,
          3249,
          3499,
          3749,
          3999,
          4249,
          4499,
          4749,
          4999,
          5249,
          5499,
          5749,
          5999,
          6249,
          6499,
          6749,
          6999,
          7249,
          7499,
          7749,
          7999,
          8249,
          8499,
          8749,
          8999,
          9249,
          9499,
          9749,
          9999,
          10249,
          10499,
          10749,
          10999,
          11249,
          11499,
          11749,
          11999,
          12249,
          12499,
          12749,
          12999,
          13249,
          13499,
          13749,
          13999,
          14249,
          14499,
          14749,
          14999,
          15249,
          15499,
          15749,
          15999,
          16249,
          16499,
          16749,
          16999,
          17249,
          17499,
          17749,
          17999,
          18249,
          18499,
          18749,
          18999,
          19249,
          19499,
          19749,
          19999
         ],
         "y": [
          -1.0,
          -1.0,
          -1.0,
          -1.0,
          -0.9,
          -1.0,
          -1.0,
          -0.914,
          -0.42,
          -0.096,
          -0.274,
          -0.202,
          -0.286,
          -0.498,
          -0.902,
          -0.898,
          -0.832,
          -0.4,
          -0.276,
          -0.196,
          -0.878,
          -0.28,
          -0.498,
          -0.396,
          -0.396,
          -0.232,
          -0.498,
          -0.194,
          -0.328,
          -0.09,
          -0.192,
          -0.326,
          -0.27,
          0.0,
          -0.082,
          -0.466,
          -0.084,
          -0.126,
          -0.41,
          -0.518,
          -0.378,
          -0.142,
          -0.272,
          -0.118,
          -0.418,
          -0.192,
          -0.19,
          -0.198,
          -0.358,
          -0.2,
          -0.118,
          0.0,
          -0.116,
          -0.208,
          0.0,
          -0.234,
          -0.188,
          0.0,
          -0.116,
          0.0,
          0.0,
          0.0,
          0.0,
          0.0,
          -0.124,
          -0.502,
          -0.134,
          0.0,
          -0.224,
          -0.786,
          0.0,
          -0.192,
          -0.092,
          -0.118,
          -0.086,
          0.0,
          -0.236,
          -0.426,
          -0.102,
          -0.1
         ],
         "type": "scatter"
        },
        {
         "mode": "lines",
         "name": "$n^* = 20000$",
         "x": [
          249,
          499,
          749,
          999,
          1249,
          1499,
          1749,
          1999,
          2249,
          2499,
          2749,
          2999,
          3249,
          3499,
          3749,
          3999,
          4249,
          4499,
          4749,
          4999,
          5249,
          5499,
          5749,
          5999,
          6249,
          6499,
          6749,
          6999,
          7249,
          7499,
          7749,
          7999,
          8249,
          8499,
          8749,
          8999,
          9249,
          9499,
          9749,
          9999,
          10249,
          10499,
          10749,
          10999,
          11249,
          11499,
          11749,
          11999,
          12249,
          12499,
          12749,
          12999,
          13249,
          13499,
          13749,
          13999,
          14249,
          14499,
          14749,
          14999,
          15249,
          15499,
          15749,
          15999,
          16249,
          16499,
          16749,
          16999,
          17249,
          17499,
          17749,
          17999,
          18249,
          18499,
          18749,
          18999,
          19249,
          19499,
          19749,
          19999
         ],
         "y": [
          -1.0,
          -1.0,
          -0.896,
          -1.0,
          -0.904,
          -1.0,
          -0.498,
          -1.0,
          -1.0,
          -0.802,
          -1.0,
          -0.498,
          -1.0,
          -1.0,
          0.0,
          -0.888,
          -1.0,
          -0.19,
          -0.502,
          -0.502,
          -0.498,
          0.0,
          -0.498,
          -0.328,
          -0.096,
          -0.498,
          -0.084,
          -0.498,
          -0.814,
          -0.222,
          -0.182,
          -0.09,
          -0.26,
          -0.108,
          -0.094,
          -0.106,
          -0.114,
          -0.23,
          -0.132,
          0.0,
          -0.12,
          -0.094,
          -0.562,
          -0.08,
          -0.482,
          -0.338,
          -0.618,
          -0.376,
          0.0,
          0.0,
          -0.354,
          -0.124,
          -0.188,
          -0.536,
          -0.094,
          0.0,
          -0.41,
          -0.502,
          -0.114,
          -0.108,
          0.0,
          0.0,
          0.0,
          0.0,
          0.0,
          -0.192,
          -0.1,
          -0.118,
          -0.266,
          -0.148,
          -0.102,
          -0.21,
          0.0,
          -0.176,
          -0.122,
          -0.21,
          0.0,
          -0.152,
          -0.1,
          0.0
         ],
         "type": "scatter"
        },
        {
         "mode": "lines",
         "name": "$n^* = 24000$",
         "x": [
          249,
          499,
          749,
          999,
          1249,
          1499,
          1749,
          1999,
          2249,
          2499,
          2749,
          2999,
          3249,
          3499,
          3749,
          3999,
          4249,
          4499,
          4749,
          4999,
          5249,
          5499,
          5749,
          5999,
          6249,
          6499,
          6749,
          6999,
          7249,
          7499,
          7749,
          7999,
          8249,
          8499,
          8749,
          8999,
          9249,
          9499,
          9749,
          9999,
          10249,
          10499,
          10749,
          10999,
          11249,
          11499,
          11749,
          11999,
          12249,
          12499,
          12749,
          12999,
          13249,
          13499,
          13749,
          13999,
          14249,
          14499,
          14749,
          14999,
          15249,
          15499,
          15749,
          15999,
          16249,
          16499,
          16749,
          16999,
          17249,
          17499,
          17749,
          17999,
          18249,
          18499,
          18749,
          18999,
          19249,
          19499,
          19749,
          19999
         ],
         "y": [
          -0.498,
          -0.894,
          -0.498,
          -1.0,
          -1.0,
          -0.784,
          -0.282,
          -1.0,
          -0.498,
          -0.916,
          -0.498,
          -0.314,
          -0.498,
          -0.912,
          -0.698,
          -0.794,
          -1.0,
          -1.0,
          -0.8,
          -0.31,
          -0.796,
          -0.806,
          -0.39,
          -0.914,
          -0.896,
          -0.31,
          -0.53,
          -0.554,
          -0.192,
          -0.314,
          -0.102,
          -0.436,
          -0.098,
          -0.198,
          -0.314,
          -0.092,
          0.0,
          -0.236,
          -0.236,
          -0.106,
          0.0,
          0.0,
          -0.616,
          0.0,
          0.0,
          0.0,
          0.0,
          -0.238,
          0.0,
          -0.092,
          -0.23,
          0.0,
          0.0,
          -0.252,
          -0.11,
          -0.35,
          -0.502,
          -0.374,
          -0.28,
          0.0,
          -0.248,
          0.0,
          0.0,
          -0.266,
          -0.334,
          0.0,
          -0.278,
          -0.244,
          -0.1,
          -0.102,
          -0.376,
          -0.502,
          -0.08,
          -0.198,
          0.0,
          0.0,
          0.0,
          0.0,
          -0.112,
          0.0
         ],
         "type": "scatter"
        },
        {
         "mode": "lines",
         "name": "$n^* = 28000$",
         "x": [
          249,
          499,
          749,
          999,
          1249,
          1499,
          1749,
          1999,
          2249,
          2499,
          2749,
          2999,
          3249,
          3499,
          3749,
          3999,
          4249,
          4499,
          4749,
          4999,
          5249,
          5499,
          5749,
          5999,
          6249,
          6499,
          6749,
          6999,
          7249,
          7499,
          7749,
          7999,
          8249,
          8499,
          8749,
          8999,
          9249,
          9499,
          9749,
          9999,
          10249,
          10499,
          10749,
          10999,
          11249,
          11499,
          11749,
          11999,
          12249,
          12499,
          12749,
          12999,
          13249,
          13499,
          13749,
          13999,
          14249,
          14499,
          14749,
          14999,
          15249,
          15499,
          15749,
          15999,
          16249,
          16499,
          16749,
          16999,
          17249,
          17499,
          17749,
          17999,
          18249,
          18499,
          18749,
          18999,
          19249,
          19499,
          19749,
          19999
         ],
         "y": [
          -1.0,
          -1.0,
          -1.0,
          -1.0,
          -0.398,
          -0.388,
          -1.0,
          -0.204,
          -0.906,
          -0.898,
          -0.886,
          -0.726,
          -0.396,
          -0.802,
          -0.782,
          -0.556,
          -0.202,
          -0.112,
          -0.218,
          -0.22,
          -0.898,
          -0.302,
          -1.0,
          -0.402,
          -1.0,
          -0.618,
          -0.562,
          -0.396,
          -0.232,
          -0.194,
          -0.404,
          -0.088,
          -0.2,
          -0.25,
          -0.41,
          -0.116,
          -0.2,
          -0.092,
          0.0,
          -0.086,
          -0.31,
          -0.206,
          -0.124,
          -0.324,
          -0.226,
          -0.192,
          -0.294,
          -0.298,
          -0.6,
          -0.266,
          -0.2,
          -0.218,
          -0.378,
          -0.18,
          0.0,
          -0.696,
          -0.088,
          -0.332,
          -0.108,
          -0.098,
          0.0,
          -0.898,
          -0.206,
          -0.314,
          -0.336,
          -0.23,
          0.0,
          -0.214,
          -0.152,
          -0.502,
          -0.194,
          0.0,
          0.0,
          -0.106,
          -0.226,
          -0.252,
          -0.12,
          -0.124,
          -0.454,
          -0.21
         ],
         "type": "scatter"
        },
        {
         "mode": "lines",
         "name": "$n^* = 32000$",
         "x": [
          249,
          499,
          749,
          999,
          1249,
          1499,
          1749,
          1999,
          2249,
          2499,
          2749,
          2999,
          3249,
          3499,
          3749,
          3999,
          4249,
          4499,
          4749,
          4999,
          5249,
          5499,
          5749,
          5999,
          6249,
          6499,
          6749,
          6999,
          7249,
          7499,
          7749,
          7999,
          8249,
          8499,
          8749,
          8999,
          9249,
          9499,
          9749,
          9999,
          10249,
          10499,
          10749,
          10999,
          11249,
          11499,
          11749,
          11999,
          12249,
          12499,
          12749,
          12999,
          13249,
          13499,
          13749,
          13999,
          14249,
          14499,
          14749,
          14999,
          15249,
          15499,
          15749,
          15999,
          16249,
          16499,
          16749,
          16999,
          17249,
          17499,
          17749,
          17999,
          18249,
          18499,
          18749,
          18999,
          19249,
          19499,
          19749,
          19999
         ],
         "y": [
          -1.0,
          -0.908,
          -0.878,
          -1.0,
          -0.906,
          -1.0,
          -0.914,
          -0.896,
          -1.0,
          -1.0,
          -0.788,
          -0.208,
          -0.296,
          -0.2,
          -0.498,
          -0.386,
          -0.498,
          -0.498,
          -0.396,
          -0.534,
          -0.808,
          -0.538,
          -0.274,
          -0.19,
          -0.316,
          -0.45,
          -0.08,
          -0.69,
          -0.56,
          -0.196,
          -0.274,
          -0.186,
          -0.212,
          -0.09,
          -0.306,
          -0.09,
          -0.422,
          -0.184,
          -0.182,
          -0.34,
          -0.294,
          -0.092,
          -0.196,
          -0.506,
          0.0,
          -0.502,
          -0.204,
          -0.502,
          -0.502,
          -0.208,
          0.0,
          -0.09,
          0.0,
          0.0,
          -0.088,
          -0.234,
          -0.246,
          -0.212,
          -0.468,
          -0.312,
          -0.292,
          -0.394,
          -0.284,
          -0.158,
          -0.26,
          -0.502,
          -0.61,
          -0.552,
          -0.594,
          0.0,
          -0.298,
          -0.302,
          -0.306,
          -0.232,
          -0.422,
          -0.356,
          0.0,
          -0.192,
          0.0,
          0.0
         ],
         "type": "scatter"
        },
        {
         "mode": "lines",
         "name": "$n^* = 36000$",
         "x": [
          249,
          499,
          749,
          999,
          1249,
          1499,
          1749,
          1999,
          2249,
          2499,
          2749,
          2999,
          3249,
          3499,
          3749,
          3999,
          4249,
          4499,
          4749,
          4999,
          5249,
          5499,
          5749,
          5999,
          6249,
          6499,
          6749,
          6999,
          7249,
          7499,
          7749,
          7999,
          8249,
          8499,
          8749,
          8999,
          9249,
          9499,
          9749,
          9999,
          10249,
          10499,
          10749,
          10999,
          11249,
          11499,
          11749,
          11999,
          12249,
          12499,
          12749,
          12999,
          13249,
          13499,
          13749,
          13999,
          14249,
          14499,
          14749,
          14999,
          15249,
          15499,
          15749,
          15999,
          16249,
          16499,
          16749,
          16999,
          17249,
          17499,
          17749,
          17999,
          18249,
          18499,
          18749,
          18999,
          19249,
          19499,
          19749,
          19999
         ],
         "y": [
          -1.0,
          -1.0,
          -0.388,
          -1.0,
          -1.0,
          -0.7,
          -1.0,
          -0.902,
          -0.826,
          -0.892,
          -0.906,
          -1.0,
          -0.914,
          -1.0,
          -0.9,
          -0.72,
          -0.904,
          -0.884,
          -0.804,
          -0.8,
          -0.686,
          -0.286,
          -0.512,
          -0.498,
          -0.544,
          -0.578,
          -1.0,
          -0.802,
          -0.498,
          -0.308,
          -0.296,
          -0.288,
          -0.338,
          -0.436,
          -0.668,
          -0.588,
          -0.778,
          -0.462,
          -0.192,
          -0.18,
          -0.392,
          -0.346,
          -0.09,
          0.0,
          -0.338,
          -0.156,
          -0.092,
          -0.178,
          -0.204,
          -0.228,
          -0.424,
          0.0,
          -0.196,
          -0.598,
          0.0,
          -0.45,
          -0.534,
          -0.222,
          -0.188,
          -0.262,
          -0.134,
          -0.106,
          -0.086,
          -0.242,
          -0.2,
          -0.078,
          -0.05,
          -0.118,
          -0.244,
          -0.118,
          -0.328,
          -0.08,
          0.0,
          -0.204,
          -0.09,
          -0.09,
          -0.178,
          -0.14,
          -0.502,
          0.0
         ],
         "type": "scatter"
        },
        {
         "mode": "lines",
         "name": "$n^* = 40000$",
         "x": [
          249,
          499,
          749,
          999,
          1249,
          1499,
          1749,
          1999,
          2249,
          2499,
          2749,
          2999,
          3249,
          3499,
          3749,
          3999,
          4249,
          4499,
          4749,
          4999,
          5249,
          5499,
          5749,
          5999,
          6249,
          6499,
          6749,
          6999,
          7249,
          7499,
          7749,
          7999,
          8249,
          8499,
          8749,
          8999,
          9249,
          9499,
          9749,
          9999,
          10249,
          10499,
          10749,
          10999,
          11249,
          11499,
          11749,
          11999,
          12249,
          12499,
          12749,
          12999,
          13249,
          13499,
          13749,
          13999,
          14249,
          14499,
          14749,
          14999,
          15249,
          15499,
          15749,
          15999,
          16249,
          16499,
          16749,
          16999,
          17249,
          17499,
          17749,
          17999,
          18249,
          18499,
          18749,
          18999,
          19249,
          19499,
          19749,
          19999
         ],
         "y": [
          -1.0,
          -1.0,
          -1.0,
          -1.0,
          -0.748,
          -0.642,
          -0.498,
          -0.498,
          -0.298,
          -0.292,
          -0.31,
          -0.312,
          -0.498,
          -0.38,
          -0.25,
          -0.214,
          -1.0,
          -0.306,
          -0.498,
          -0.79,
          -0.166,
          -0.118,
          -0.498,
          -0.794,
          -0.808,
          -0.708,
          -0.232,
          -0.264,
          -0.148,
          -0.34,
          -0.424,
          0.0,
          -0.292,
          0.0,
          -0.34,
          -0.628,
          -0.306,
          -0.332,
          -0.22,
          -0.624,
          -0.502,
          -0.338,
          -0.536,
          -0.302,
          -0.566,
          -0.438,
          -0.348,
          -0.226,
          -0.102,
          -0.308,
          -0.578,
          -0.242,
          -0.388,
          -0.452,
          -0.502,
          0.0,
          -0.498,
          0.0,
          -0.098,
          -0.11,
          -0.214,
          -0.4,
          -0.392,
          -0.362,
          -0.1,
          -0.23,
          0.0,
          -0.372,
          -0.334,
          -0.22,
          -0.236,
          0.0,
          0.0,
          -0.14,
          -0.096,
          0.0,
          0.0,
          0.0,
          0.0,
          -0.102
         ],
         "type": "scatter"
        }
       ],
       "layout": {
        "template": {
         "data": {
          "histogram2dcontour": [
           {
            "type": "histogram2dcontour",
            "colorbar": {
             "outlinewidth": 0,
             "ticks": ""
            },
            "colorscale": [
             [
              0.0,
              "#0d0887"
             ],
             [
              0.1111111111111111,
              "#46039f"
             ],
             [
              0.2222222222222222,
              "#7201a8"
             ],
             [
              0.3333333333333333,
              "#9c179e"
             ],
             [
              0.4444444444444444,
              "#bd3786"
             ],
             [
              0.5555555555555556,
              "#d8576b"
             ],
             [
              0.6666666666666666,
              "#ed7953"
             ],
             [
              0.7777777777777778,
              "#fb9f3a"
             ],
             [
              0.8888888888888888,
              "#fdca26"
             ],
             [
              1.0,
              "#f0f921"
             ]
            ]
           }
          ],
          "choropleth": [
           {
            "type": "choropleth",
            "colorbar": {
             "outlinewidth": 0,
             "ticks": ""
            }
           }
          ],
          "histogram2d": [
           {
            "type": "histogram2d",
            "colorbar": {
             "outlinewidth": 0,
             "ticks": ""
            },
            "colorscale": [
             [
              0.0,
              "#0d0887"
             ],
             [
              0.1111111111111111,
              "#46039f"
             ],
             [
              0.2222222222222222,
              "#7201a8"
             ],
             [
              0.3333333333333333,
              "#9c179e"
             ],
             [
              0.4444444444444444,
              "#bd3786"
             ],
             [
              0.5555555555555556,
              "#d8576b"
             ],
             [
              0.6666666666666666,
              "#ed7953"
             ],
             [
              0.7777777777777778,
              "#fb9f3a"
             ],
             [
              0.8888888888888888,
              "#fdca26"
             ],
             [
              1.0,
              "#f0f921"
             ]
            ]
           }
          ],
          "heatmap": [
           {
            "type": "heatmap",
            "colorbar": {
             "outlinewidth": 0,
             "ticks": ""
            },
            "colorscale": [
             [
              0.0,
              "#0d0887"
             ],
             [
              0.1111111111111111,
              "#46039f"
             ],
             [
              0.2222222222222222,
              "#7201a8"
             ],
             [
              0.3333333333333333,
              "#9c179e"
             ],
             [
              0.4444444444444444,
              "#bd3786"
             ],
             [
              0.5555555555555556,
              "#d8576b"
             ],
             [
              0.6666666666666666,
              "#ed7953"
             ],
             [
              0.7777777777777778,
              "#fb9f3a"
             ],
             [
              0.8888888888888888,
              "#fdca26"
             ],
             [
              1.0,
              "#f0f921"
             ]
            ]
           }
          ],
          "heatmapgl": [
           {
            "type": "heatmapgl",
            "colorbar": {
             "outlinewidth": 0,
             "ticks": ""
            },
            "colorscale": [
             [
              0.0,
              "#0d0887"
             ],
             [
              0.1111111111111111,
              "#46039f"
             ],
             [
              0.2222222222222222,
              "#7201a8"
             ],
             [
              0.3333333333333333,
              "#9c179e"
             ],
             [
              0.4444444444444444,
              "#bd3786"
             ],
             [
              0.5555555555555556,
              "#d8576b"
             ],
             [
              0.6666666666666666,
              "#ed7953"
             ],
             [
              0.7777777777777778,
              "#fb9f3a"
             ],
             [
              0.8888888888888888,
              "#fdca26"
             ],
             [
              1.0,
              "#f0f921"
             ]
            ]
           }
          ],
          "contourcarpet": [
           {
            "type": "contourcarpet",
            "colorbar": {
             "outlinewidth": 0,
             "ticks": ""
            }
           }
          ],
          "contour": [
           {
            "type": "contour",
            "colorbar": {
             "outlinewidth": 0,
             "ticks": ""
            },
            "colorscale": [
             [
              0.0,
              "#0d0887"
             ],
             [
              0.1111111111111111,
              "#46039f"
             ],
             [
              0.2222222222222222,
              "#7201a8"
             ],
             [
              0.3333333333333333,
              "#9c179e"
             ],
             [
              0.4444444444444444,
              "#bd3786"
             ],
             [
              0.5555555555555556,
              "#d8576b"
             ],
             [
              0.6666666666666666,
              "#ed7953"
             ],
             [
              0.7777777777777778,
              "#fb9f3a"
             ],
             [
              0.8888888888888888,
              "#fdca26"
             ],
             [
              1.0,
              "#f0f921"
             ]
            ]
           }
          ],
          "surface": [
           {
            "type": "surface",
            "colorbar": {
             "outlinewidth": 0,
             "ticks": ""
            },
            "colorscale": [
             [
              0.0,
              "#0d0887"
             ],
             [
              0.1111111111111111,
              "#46039f"
             ],
             [
              0.2222222222222222,
              "#7201a8"
             ],
             [
              0.3333333333333333,
              "#9c179e"
             ],
             [
              0.4444444444444444,
              "#bd3786"
             ],
             [
              0.5555555555555556,
              "#d8576b"
             ],
             [
              0.6666666666666666,
              "#ed7953"
             ],
             [
              0.7777777777777778,
              "#fb9f3a"
             ],
             [
              0.8888888888888888,
              "#fdca26"
             ],
             [
              1.0,
              "#f0f921"
             ]
            ]
           }
          ],
          "mesh3d": [
           {
            "type": "mesh3d",
            "colorbar": {
             "outlinewidth": 0,
             "ticks": ""
            }
           }
          ],
          "scatter": [
           {
            "fillpattern": {
             "fillmode": "overlay",
             "size": 10,
             "solidity": 0.2
            },
            "type": "scatter"
           }
          ],
          "parcoords": [
           {
            "type": "parcoords",
            "line": {
             "colorbar": {
              "outlinewidth": 0,
              "ticks": ""
             }
            }
           }
          ],
          "scatterpolargl": [
           {
            "type": "scatterpolargl",
            "marker": {
             "colorbar": {
              "outlinewidth": 0,
              "ticks": ""
             }
            }
           }
          ],
          "bar": [
           {
            "error_x": {
             "color": "#2a3f5f"
            },
            "error_y": {
             "color": "#2a3f5f"
            },
            "marker": {
             "line": {
              "color": "#E5ECF6",
              "width": 0.5
             },
             "pattern": {
              "fillmode": "overlay",
              "size": 10,
              "solidity": 0.2
             }
            },
            "type": "bar"
           }
          ],
          "scattergeo": [
           {
            "type": "scattergeo",
            "marker": {
             "colorbar": {
              "outlinewidth": 0,
              "ticks": ""
             }
            }
           }
          ],
          "scatterpolar": [
           {
            "type": "scatterpolar",
            "marker": {
             "colorbar": {
              "outlinewidth": 0,
              "ticks": ""
             }
            }
           }
          ],
          "histogram": [
           {
            "marker": {
             "pattern": {
              "fillmode": "overlay",
              "size": 10,
              "solidity": 0.2
             }
            },
            "type": "histogram"
           }
          ],
          "scattergl": [
           {
            "type": "scattergl",
            "marker": {
             "colorbar": {
              "outlinewidth": 0,
              "ticks": ""
             }
            }
           }
          ],
          "scatter3d": [
           {
            "type": "scatter3d",
            "line": {
             "colorbar": {
              "outlinewidth": 0,
              "ticks": ""
             }
            },
            "marker": {
             "colorbar": {
              "outlinewidth": 0,
              "ticks": ""
             }
            }
           }
          ],
          "scattermapbox": [
           {
            "type": "scattermapbox",
            "marker": {
             "colorbar": {
              "outlinewidth": 0,
              "ticks": ""
             }
            }
           }
          ],
          "scatterternary": [
           {
            "type": "scatterternary",
            "marker": {
             "colorbar": {
              "outlinewidth": 0,
              "ticks": ""
             }
            }
           }
          ],
          "scattercarpet": [
           {
            "type": "scattercarpet",
            "marker": {
             "colorbar": {
              "outlinewidth": 0,
              "ticks": ""
             }
            }
           }
          ],
          "carpet": [
           {
            "aaxis": {
             "endlinecolor": "#2a3f5f",
             "gridcolor": "white",
             "linecolor": "white",
             "minorgridcolor": "white",
             "startlinecolor": "#2a3f5f"
            },
            "baxis": {
             "endlinecolor": "#2a3f5f",
             "gridcolor": "white",
             "linecolor": "white",
             "minorgridcolor": "white",
             "startlinecolor": "#2a3f5f"
            },
            "type": "carpet"
           }
          ],
          "table": [
           {
            "cells": {
             "fill": {
              "color": "#EBF0F8"
             },
             "line": {
              "color": "white"
             }
            },
            "header": {
             "fill": {
              "color": "#C8D4E3"
             },
             "line": {
              "color": "white"
             }
            },
            "type": "table"
           }
          ],
          "barpolar": [
           {
            "marker": {
             "line": {
              "color": "#E5ECF6",
              "width": 0.5
             },
             "pattern": {
              "fillmode": "overlay",
              "size": 10,
              "solidity": 0.2
             }
            },
            "type": "barpolar"
           }
          ],
          "pie": [
           {
            "automargin": true,
            "type": "pie"
           }
          ]
         },
         "layout": {
          "autotypenumbers": "strict",
          "colorway": [
           "#636efa",
           "#EF553B",
           "#00cc96",
           "#ab63fa",
           "#FFA15A",
           "#19d3f3",
           "#FF6692",
           "#B6E880",
           "#FF97FF",
           "#FECB52"
          ],
          "font": {
           "color": "#2a3f5f"
          },
          "hovermode": "closest",
          "hoverlabel": {
           "align": "left"
          },
          "paper_bgcolor": "white",
          "plot_bgcolor": "#E5ECF6",
          "polar": {
           "bgcolor": "#E5ECF6",
           "angularaxis": {
            "gridcolor": "white",
            "linecolor": "white",
            "ticks": ""
           },
           "radialaxis": {
            "gridcolor": "white",
            "linecolor": "white",
            "ticks": ""
           }
          },
          "ternary": {
           "bgcolor": "#E5ECF6",
           "aaxis": {
            "gridcolor": "white",
            "linecolor": "white",
            "ticks": ""
           },
           "baxis": {
            "gridcolor": "white",
            "linecolor": "white",
            "ticks": ""
           },
           "caxis": {
            "gridcolor": "white",
            "linecolor": "white",
            "ticks": ""
           }
          },
          "coloraxis": {
           "colorbar": {
            "outlinewidth": 0,
            "ticks": ""
           }
          },
          "colorscale": {
           "sequential": [
            [
             0.0,
             "#0d0887"
            ],
            [
             0.1111111111111111,
             "#46039f"
            ],
            [
             0.2222222222222222,
             "#7201a8"
            ],
            [
             0.3333333333333333,
             "#9c179e"
            ],
            [
             0.4444444444444444,
             "#bd3786"
            ],
            [
             0.5555555555555556,
             "#d8576b"
            ],
            [
             0.6666666666666666,
             "#ed7953"
            ],
            [
             0.7777777777777778,
             "#fb9f3a"
            ],
            [
             0.8888888888888888,
             "#fdca26"
            ],
            [
             1.0,
             "#f0f921"
            ]
           ],
           "sequentialminus": [
            [
             0.0,
             "#0d0887"
            ],
            [
             0.1111111111111111,
             "#46039f"
            ],
            [
             0.2222222222222222,
             "#7201a8"
            ],
            [
             0.3333333333333333,
             "#9c179e"
            ],
            [
             0.4444444444444444,
             "#bd3786"
            ],
            [
             0.5555555555555556,
             "#d8576b"
            ],
            [
             0.6666666666666666,
             "#ed7953"
            ],
            [
             0.7777777777777778,
             "#fb9f3a"
            ],
            [
             0.8888888888888888,
             "#fdca26"
            ],
            [
             1.0,
             "#f0f921"
            ]
           ],
           "diverging": [
            [
             0,
             "#8e0152"
            ],
            [
             0.1,
             "#c51b7d"
            ],
            [
             0.2,
             "#de77ae"
            ],
            [
             0.3,
             "#f1b6da"
            ],
            [
             0.4,
             "#fde0ef"
            ],
            [
             0.5,
             "#f7f7f7"
            ],
            [
             0.6,
             "#e6f5d0"
            ],
            [
             0.7,
             "#b8e186"
            ],
            [
             0.8,
             "#7fbc41"
            ],
            [
             0.9,
             "#4d9221"
            ],
            [
             1,
             "#276419"
            ]
           ]
          },
          "xaxis": {
           "gridcolor": "white",
           "linecolor": "white",
           "ticks": "",
           "title": {
            "standoff": 15
           },
           "zerolinecolor": "white",
           "automargin": true,
           "zerolinewidth": 2
          },
          "yaxis": {
           "gridcolor": "white",
           "linecolor": "white",
           "ticks": "",
           "title": {
            "standoff": 15
           },
           "zerolinecolor": "white",
           "automargin": true,
           "zerolinewidth": 2
          },
          "scene": {
           "xaxis": {
            "backgroundcolor": "#E5ECF6",
            "gridcolor": "white",
            "linecolor": "white",
            "showbackground": true,
            "ticks": "",
            "zerolinecolor": "white",
            "gridwidth": 2
           },
           "yaxis": {
            "backgroundcolor": "#E5ECF6",
            "gridcolor": "white",
            "linecolor": "white",
            "showbackground": true,
            "ticks": "",
            "zerolinecolor": "white",
            "gridwidth": 2
           },
           "zaxis": {
            "backgroundcolor": "#E5ECF6",
            "gridcolor": "white",
            "linecolor": "white",
            "showbackground": true,
            "ticks": "",
            "zerolinecolor": "white",
            "gridwidth": 2
           }
          },
          "shapedefaults": {
           "line": {
            "color": "#2a3f5f"
           }
          },
          "annotationdefaults": {
           "arrowcolor": "#2a3f5f",
           "arrowhead": 0,
           "arrowwidth": 1
          },
          "geo": {
           "bgcolor": "white",
           "landcolor": "#E5ECF6",
           "subunitcolor": "white",
           "showland": true,
           "showlakes": true,
           "lakecolor": "white"
          },
          "title": {
           "x": 0.05
          },
          "mapbox": {
           "style": "light"
          }
         }
        },
        "title": {
         "text": "$M_{opt}\\text{ for every 250 games for different values of }n^{∗}$"
        },
        "xaxis": {
         "title": {
          "text": "$game$"
         }
        },
        "yaxis": {
         "title": {
          "text": "$M_{opt}$"
         }
        },
        "width": 1200,
        "height": 400
       },
       "config": {
        "plotlyServerURL": "https://plot.ly"
       }
      },
      "text/html": "<div>                            <div id=\"eccba3a9-9afc-482a-8129-24dde382bad4\" class=\"plotly-graph-div\" style=\"height:400px; width:1200px;\"></div>            <script type=\"text/javascript\">                require([\"plotly\"], function(Plotly) {                    window.PLOTLYENV=window.PLOTLYENV || {};                                    if (document.getElementById(\"eccba3a9-9afc-482a-8129-24dde382bad4\")) {                    Plotly.newPlot(                        \"eccba3a9-9afc-482a-8129-24dde382bad4\",                        [{\"mode\":\"lines\",\"name\":\"$n^* = 1$\",\"x\":[249,499,749,999,1249,1499,1749,1999,2249,2499,2749,2999,3249,3499,3749,3999,4249,4499,4749,4999,5249,5499,5749,5999,6249,6499,6749,6999,7249,7499,7749,7999,8249,8499,8749,8999,9249,9499,9749,9999,10249,10499,10749,10999,11249,11499,11749,11999,12249,12499,12749,12999,13249,13499,13749,13999,14249,14499,14749,14999,15249,15499,15749,15999,16249,16499,16749,16999,17249,17499,17749,17999,18249,18499,18749,18999,19249,19499,19749,19999],\"y\":[-1.0,-1.0,-0.498,-0.9,-0.498,-0.384,-0.498,-0.388,-0.316,-0.39,-0.384,-0.308,-0.392,-0.372,-0.284,-0.304,-0.2,-0.112,-0.084,0.0,-0.09,0.0,0.0,-0.098,-0.104,0.0,-0.086,0.0,-0.106,-0.096,-0.132,-0.614,-0.114,-0.214,-0.592,-0.186,-0.114,-0.284,0.0,-0.602,-0.262,-0.412,-0.806,-0.102,-0.198,-0.222,-0.288,-0.286,-0.198,-0.802,-0.296,-0.356,-0.478,-0.11,-0.1,-0.83,-0.106,-0.61,0.0,-0.214,-0.098,0.0,0.0,-0.2,-0.226,-0.502,-0.456,-0.49,-0.208,0.0,0.0,-0.1,0.0,-0.108,-0.192,-0.502,-0.09,-0.144,0.0,-0.088],\"type\":\"scatter\"},{\"mode\":\"lines\",\"name\":\"$n^* = 4000$\",\"x\":[249,499,749,999,1249,1499,1749,1999,2249,2499,2749,2999,3249,3499,3749,3999,4249,4499,4749,4999,5249,5499,5749,5999,6249,6499,6749,6999,7249,7499,7749,7999,8249,8499,8749,8999,9249,9499,9749,9999,10249,10499,10749,10999,11249,11499,11749,11999,12249,12499,12749,12999,13249,13499,13749,13999,14249,14499,14749,14999,15249,15499,15749,15999,16249,16499,16749,16999,17249,17499,17749,17999,18249,18499,18749,18999,19249,19499,19749,19999],\"y\":[-1.0,-0.796,-1.0,-0.904,-1.0,-0.808,-1.0,-1.0,-0.894,-0.344,-0.188,-0.396,-0.418,-0.078,0.0,-0.1,-0.084,-0.246,-0.346,0.0,-0.172,-0.18,-0.21,-0.32,-0.114,-0.246,-0.206,-0.236,-0.688,-0.32,-0.502,0.0,0.0,0.0,0.0,0.0,-0.224,-0.784,-0.206,-0.134,-0.304,-0.1,-0.086,-0.104,-0.096,-0.336,0.0,-0.502,-0.106,0.0,0.0,0.0,0.0,0.0,-0.096,0.0,0.0,0.0,-0.232,0.0,0.0,-0.276,-0.08,-0.116,0.0,0.0,0.0,-0.222,0.0,-0.068,-0.584,-0.096,-0.272,-0.476,-0.302,0.0,0.0,-0.588,0.0,-0.334],\"type\":\"scatter\"},{\"mode\":\"lines\",\"name\":\"$n^* = 8000$\",\"x\":[249,499,749,999,1249,1499,1749,1999,2249,2499,2749,2999,3249,3499,3749,3999,4249,4499,4749,4999,5249,5499,5749,5999,6249,6499,6749,6999,7249,7499,7749,7999,8249,8499,8749,8999,9249,9499,9749,9999,10249,10499,10749,10999,11249,11499,11749,11999,12249,12499,12749,12999,13249,13499,13749,13999,14249,14499,14749,14999,15249,15499,15749,15999,16249,16499,16749,16999,17249,17499,17749,17999,18249,18499,18749,18999,19249,19499,19749,19999],\"y\":[-1.0,-1.0,-1.0,-1.0,-1.0,-0.894,-0.9,-1.0,-1.0,-0.882,-0.498,-0.498,-0.3,-0.412,-0.31,-0.398,-0.498,-0.402,-0.498,-0.316,-0.398,-0.194,-0.408,-0.294,-0.09,-0.092,-0.078,-0.126,0.0,0.0,0.0,0.0,0.0,0.0,0.0,0.0,0.0,-0.122,0.0,0.0,0.0,0.0,-0.242,-0.214,-0.3,-0.106,0.0,-0.252,0.0,0.0,0.0,-0.226,0.0,0.0,-0.096,0.0,-0.194,0.0,0.0,0.0,0.0,0.0,-0.118,-0.208,0.0,-0.27,0.0,-0.182,0.0,0.0,0.0,0.0,-0.71,-0.334,0.0,-0.118,0.0,-0.17,0.0,0.0],\"type\":\"scatter\"},{\"mode\":\"lines\",\"name\":\"$n^* = 12000$\",\"x\":[249,499,749,999,1249,1499,1749,1999,2249,2499,2749,2999,3249,3499,3749,3999,4249,4499,4749,4999,5249,5499,5749,5999,6249,6499,6749,6999,7249,7499,7749,7999,8249,8499,8749,8999,9249,9499,9749,9999,10249,10499,10749,10999,11249,11499,11749,11999,12249,12499,12749,12999,13249,13499,13749,13999,14249,14499,14749,14999,15249,15499,15749,15999,16249,16499,16749,16999,17249,17499,17749,17999,18249,18499,18749,18999,19249,19499,19749,19999],\"y\":[-1.0,-1.0,-1.0,-1.0,-1.0,-1.0,-0.908,-0.898,-0.284,-0.818,-0.194,-0.478,-0.792,-0.278,-0.442,-0.778,-0.546,-0.524,-0.194,-0.38,-0.89,-0.22,0.0,-0.11,-0.208,-0.502,-0.756,0.0,-0.1,0.0,-0.714,-0.114,0.0,-0.328,0.0,0.0,0.0,-0.14,-0.698,-0.108,0.0,-0.106,0.0,0.0,0.0,-0.186,-0.246,0.0,0.0,-0.144,0.0,0.0,-0.502,0.0,-0.07,-0.096,0.0,-0.19,-0.13,-0.502,0.0,-0.106,0.0,0.0,-0.084,0.0,-0.102,0.0,0.0,-0.236,0.0,-0.138,-0.456,-0.088,-0.2,0.0,0.0,-0.502,0.0,-0.312],\"type\":\"scatter\"},{\"mode\":\"lines\",\"name\":\"$n^* = 16000$\",\"x\":[249,499,749,999,1249,1499,1749,1999,2249,2499,2749,2999,3249,3499,3749,3999,4249,4499,4749,4999,5249,5499,5749,5999,6249,6499,6749,6999,7249,7499,7749,7999,8249,8499,8749,8999,9249,9499,9749,9999,10249,10499,10749,10999,11249,11499,11749,11999,12249,12499,12749,12999,13249,13499,13749,13999,14249,14499,14749,14999,15249,15499,15749,15999,16249,16499,16749,16999,17249,17499,17749,17999,18249,18499,18749,18999,19249,19499,19749,19999],\"y\":[-1.0,-1.0,-1.0,-1.0,-0.9,-1.0,-1.0,-0.914,-0.42,-0.096,-0.274,-0.202,-0.286,-0.498,-0.902,-0.898,-0.832,-0.4,-0.276,-0.196,-0.878,-0.28,-0.498,-0.396,-0.396,-0.232,-0.498,-0.194,-0.328,-0.09,-0.192,-0.326,-0.27,0.0,-0.082,-0.466,-0.084,-0.126,-0.41,-0.518,-0.378,-0.142,-0.272,-0.118,-0.418,-0.192,-0.19,-0.198,-0.358,-0.2,-0.118,0.0,-0.116,-0.208,0.0,-0.234,-0.188,0.0,-0.116,0.0,0.0,0.0,0.0,0.0,-0.124,-0.502,-0.134,0.0,-0.224,-0.786,0.0,-0.192,-0.092,-0.118,-0.086,0.0,-0.236,-0.426,-0.102,-0.1],\"type\":\"scatter\"},{\"mode\":\"lines\",\"name\":\"$n^* = 20000$\",\"x\":[249,499,749,999,1249,1499,1749,1999,2249,2499,2749,2999,3249,3499,3749,3999,4249,4499,4749,4999,5249,5499,5749,5999,6249,6499,6749,6999,7249,7499,7749,7999,8249,8499,8749,8999,9249,9499,9749,9999,10249,10499,10749,10999,11249,11499,11749,11999,12249,12499,12749,12999,13249,13499,13749,13999,14249,14499,14749,14999,15249,15499,15749,15999,16249,16499,16749,16999,17249,17499,17749,17999,18249,18499,18749,18999,19249,19499,19749,19999],\"y\":[-1.0,-1.0,-0.896,-1.0,-0.904,-1.0,-0.498,-1.0,-1.0,-0.802,-1.0,-0.498,-1.0,-1.0,0.0,-0.888,-1.0,-0.19,-0.502,-0.502,-0.498,0.0,-0.498,-0.328,-0.096,-0.498,-0.084,-0.498,-0.814,-0.222,-0.182,-0.09,-0.26,-0.108,-0.094,-0.106,-0.114,-0.23,-0.132,0.0,-0.12,-0.094,-0.562,-0.08,-0.482,-0.338,-0.618,-0.376,0.0,0.0,-0.354,-0.124,-0.188,-0.536,-0.094,0.0,-0.41,-0.502,-0.114,-0.108,0.0,0.0,0.0,0.0,0.0,-0.192,-0.1,-0.118,-0.266,-0.148,-0.102,-0.21,0.0,-0.176,-0.122,-0.21,0.0,-0.152,-0.1,0.0],\"type\":\"scatter\"},{\"mode\":\"lines\",\"name\":\"$n^* = 24000$\",\"x\":[249,499,749,999,1249,1499,1749,1999,2249,2499,2749,2999,3249,3499,3749,3999,4249,4499,4749,4999,5249,5499,5749,5999,6249,6499,6749,6999,7249,7499,7749,7999,8249,8499,8749,8999,9249,9499,9749,9999,10249,10499,10749,10999,11249,11499,11749,11999,12249,12499,12749,12999,13249,13499,13749,13999,14249,14499,14749,14999,15249,15499,15749,15999,16249,16499,16749,16999,17249,17499,17749,17999,18249,18499,18749,18999,19249,19499,19749,19999],\"y\":[-0.498,-0.894,-0.498,-1.0,-1.0,-0.784,-0.282,-1.0,-0.498,-0.916,-0.498,-0.314,-0.498,-0.912,-0.698,-0.794,-1.0,-1.0,-0.8,-0.31,-0.796,-0.806,-0.39,-0.914,-0.896,-0.31,-0.53,-0.554,-0.192,-0.314,-0.102,-0.436,-0.098,-0.198,-0.314,-0.092,0.0,-0.236,-0.236,-0.106,0.0,0.0,-0.616,0.0,0.0,0.0,0.0,-0.238,0.0,-0.092,-0.23,0.0,0.0,-0.252,-0.11,-0.35,-0.502,-0.374,-0.28,0.0,-0.248,0.0,0.0,-0.266,-0.334,0.0,-0.278,-0.244,-0.1,-0.102,-0.376,-0.502,-0.08,-0.198,0.0,0.0,0.0,0.0,-0.112,0.0],\"type\":\"scatter\"},{\"mode\":\"lines\",\"name\":\"$n^* = 28000$\",\"x\":[249,499,749,999,1249,1499,1749,1999,2249,2499,2749,2999,3249,3499,3749,3999,4249,4499,4749,4999,5249,5499,5749,5999,6249,6499,6749,6999,7249,7499,7749,7999,8249,8499,8749,8999,9249,9499,9749,9999,10249,10499,10749,10999,11249,11499,11749,11999,12249,12499,12749,12999,13249,13499,13749,13999,14249,14499,14749,14999,15249,15499,15749,15999,16249,16499,16749,16999,17249,17499,17749,17999,18249,18499,18749,18999,19249,19499,19749,19999],\"y\":[-1.0,-1.0,-1.0,-1.0,-0.398,-0.388,-1.0,-0.204,-0.906,-0.898,-0.886,-0.726,-0.396,-0.802,-0.782,-0.556,-0.202,-0.112,-0.218,-0.22,-0.898,-0.302,-1.0,-0.402,-1.0,-0.618,-0.562,-0.396,-0.232,-0.194,-0.404,-0.088,-0.2,-0.25,-0.41,-0.116,-0.2,-0.092,0.0,-0.086,-0.31,-0.206,-0.124,-0.324,-0.226,-0.192,-0.294,-0.298,-0.6,-0.266,-0.2,-0.218,-0.378,-0.18,0.0,-0.696,-0.088,-0.332,-0.108,-0.098,0.0,-0.898,-0.206,-0.314,-0.336,-0.23,0.0,-0.214,-0.152,-0.502,-0.194,0.0,0.0,-0.106,-0.226,-0.252,-0.12,-0.124,-0.454,-0.21],\"type\":\"scatter\"},{\"mode\":\"lines\",\"name\":\"$n^* = 32000$\",\"x\":[249,499,749,999,1249,1499,1749,1999,2249,2499,2749,2999,3249,3499,3749,3999,4249,4499,4749,4999,5249,5499,5749,5999,6249,6499,6749,6999,7249,7499,7749,7999,8249,8499,8749,8999,9249,9499,9749,9999,10249,10499,10749,10999,11249,11499,11749,11999,12249,12499,12749,12999,13249,13499,13749,13999,14249,14499,14749,14999,15249,15499,15749,15999,16249,16499,16749,16999,17249,17499,17749,17999,18249,18499,18749,18999,19249,19499,19749,19999],\"y\":[-1.0,-0.908,-0.878,-1.0,-0.906,-1.0,-0.914,-0.896,-1.0,-1.0,-0.788,-0.208,-0.296,-0.2,-0.498,-0.386,-0.498,-0.498,-0.396,-0.534,-0.808,-0.538,-0.274,-0.19,-0.316,-0.45,-0.08,-0.69,-0.56,-0.196,-0.274,-0.186,-0.212,-0.09,-0.306,-0.09,-0.422,-0.184,-0.182,-0.34,-0.294,-0.092,-0.196,-0.506,0.0,-0.502,-0.204,-0.502,-0.502,-0.208,0.0,-0.09,0.0,0.0,-0.088,-0.234,-0.246,-0.212,-0.468,-0.312,-0.292,-0.394,-0.284,-0.158,-0.26,-0.502,-0.61,-0.552,-0.594,0.0,-0.298,-0.302,-0.306,-0.232,-0.422,-0.356,0.0,-0.192,0.0,0.0],\"type\":\"scatter\"},{\"mode\":\"lines\",\"name\":\"$n^* = 36000$\",\"x\":[249,499,749,999,1249,1499,1749,1999,2249,2499,2749,2999,3249,3499,3749,3999,4249,4499,4749,4999,5249,5499,5749,5999,6249,6499,6749,6999,7249,7499,7749,7999,8249,8499,8749,8999,9249,9499,9749,9999,10249,10499,10749,10999,11249,11499,11749,11999,12249,12499,12749,12999,13249,13499,13749,13999,14249,14499,14749,14999,15249,15499,15749,15999,16249,16499,16749,16999,17249,17499,17749,17999,18249,18499,18749,18999,19249,19499,19749,19999],\"y\":[-1.0,-1.0,-0.388,-1.0,-1.0,-0.7,-1.0,-0.902,-0.826,-0.892,-0.906,-1.0,-0.914,-1.0,-0.9,-0.72,-0.904,-0.884,-0.804,-0.8,-0.686,-0.286,-0.512,-0.498,-0.544,-0.578,-1.0,-0.802,-0.498,-0.308,-0.296,-0.288,-0.338,-0.436,-0.668,-0.588,-0.778,-0.462,-0.192,-0.18,-0.392,-0.346,-0.09,0.0,-0.338,-0.156,-0.092,-0.178,-0.204,-0.228,-0.424,0.0,-0.196,-0.598,0.0,-0.45,-0.534,-0.222,-0.188,-0.262,-0.134,-0.106,-0.086,-0.242,-0.2,-0.078,-0.05,-0.118,-0.244,-0.118,-0.328,-0.08,0.0,-0.204,-0.09,-0.09,-0.178,-0.14,-0.502,0.0],\"type\":\"scatter\"},{\"mode\":\"lines\",\"name\":\"$n^* = 40000$\",\"x\":[249,499,749,999,1249,1499,1749,1999,2249,2499,2749,2999,3249,3499,3749,3999,4249,4499,4749,4999,5249,5499,5749,5999,6249,6499,6749,6999,7249,7499,7749,7999,8249,8499,8749,8999,9249,9499,9749,9999,10249,10499,10749,10999,11249,11499,11749,11999,12249,12499,12749,12999,13249,13499,13749,13999,14249,14499,14749,14999,15249,15499,15749,15999,16249,16499,16749,16999,17249,17499,17749,17999,18249,18499,18749,18999,19249,19499,19749,19999],\"y\":[-1.0,-1.0,-1.0,-1.0,-0.748,-0.642,-0.498,-0.498,-0.298,-0.292,-0.31,-0.312,-0.498,-0.38,-0.25,-0.214,-1.0,-0.306,-0.498,-0.79,-0.166,-0.118,-0.498,-0.794,-0.808,-0.708,-0.232,-0.264,-0.148,-0.34,-0.424,0.0,-0.292,0.0,-0.34,-0.628,-0.306,-0.332,-0.22,-0.624,-0.502,-0.338,-0.536,-0.302,-0.566,-0.438,-0.348,-0.226,-0.102,-0.308,-0.578,-0.242,-0.388,-0.452,-0.502,0.0,-0.498,0.0,-0.098,-0.11,-0.214,-0.4,-0.392,-0.362,-0.1,-0.23,0.0,-0.372,-0.334,-0.22,-0.236,0.0,0.0,-0.14,-0.096,0.0,0.0,0.0,0.0,-0.102],\"type\":\"scatter\"}],                        {\"template\":{\"data\":{\"histogram2dcontour\":[{\"type\":\"histogram2dcontour\",\"colorbar\":{\"outlinewidth\":0,\"ticks\":\"\"},\"colorscale\":[[0.0,\"#0d0887\"],[0.1111111111111111,\"#46039f\"],[0.2222222222222222,\"#7201a8\"],[0.3333333333333333,\"#9c179e\"],[0.4444444444444444,\"#bd3786\"],[0.5555555555555556,\"#d8576b\"],[0.6666666666666666,\"#ed7953\"],[0.7777777777777778,\"#fb9f3a\"],[0.8888888888888888,\"#fdca26\"],[1.0,\"#f0f921\"]]}],\"choropleth\":[{\"type\":\"choropleth\",\"colorbar\":{\"outlinewidth\":0,\"ticks\":\"\"}}],\"histogram2d\":[{\"type\":\"histogram2d\",\"colorbar\":{\"outlinewidth\":0,\"ticks\":\"\"},\"colorscale\":[[0.0,\"#0d0887\"],[0.1111111111111111,\"#46039f\"],[0.2222222222222222,\"#7201a8\"],[0.3333333333333333,\"#9c179e\"],[0.4444444444444444,\"#bd3786\"],[0.5555555555555556,\"#d8576b\"],[0.6666666666666666,\"#ed7953\"],[0.7777777777777778,\"#fb9f3a\"],[0.8888888888888888,\"#fdca26\"],[1.0,\"#f0f921\"]]}],\"heatmap\":[{\"type\":\"heatmap\",\"colorbar\":{\"outlinewidth\":0,\"ticks\":\"\"},\"colorscale\":[[0.0,\"#0d0887\"],[0.1111111111111111,\"#46039f\"],[0.2222222222222222,\"#7201a8\"],[0.3333333333333333,\"#9c179e\"],[0.4444444444444444,\"#bd3786\"],[0.5555555555555556,\"#d8576b\"],[0.6666666666666666,\"#ed7953\"],[0.7777777777777778,\"#fb9f3a\"],[0.8888888888888888,\"#fdca26\"],[1.0,\"#f0f921\"]]}],\"heatmapgl\":[{\"type\":\"heatmapgl\",\"colorbar\":{\"outlinewidth\":0,\"ticks\":\"\"},\"colorscale\":[[0.0,\"#0d0887\"],[0.1111111111111111,\"#46039f\"],[0.2222222222222222,\"#7201a8\"],[0.3333333333333333,\"#9c179e\"],[0.4444444444444444,\"#bd3786\"],[0.5555555555555556,\"#d8576b\"],[0.6666666666666666,\"#ed7953\"],[0.7777777777777778,\"#fb9f3a\"],[0.8888888888888888,\"#fdca26\"],[1.0,\"#f0f921\"]]}],\"contourcarpet\":[{\"type\":\"contourcarpet\",\"colorbar\":{\"outlinewidth\":0,\"ticks\":\"\"}}],\"contour\":[{\"type\":\"contour\",\"colorbar\":{\"outlinewidth\":0,\"ticks\":\"\"},\"colorscale\":[[0.0,\"#0d0887\"],[0.1111111111111111,\"#46039f\"],[0.2222222222222222,\"#7201a8\"],[0.3333333333333333,\"#9c179e\"],[0.4444444444444444,\"#bd3786\"],[0.5555555555555556,\"#d8576b\"],[0.6666666666666666,\"#ed7953\"],[0.7777777777777778,\"#fb9f3a\"],[0.8888888888888888,\"#fdca26\"],[1.0,\"#f0f921\"]]}],\"surface\":[{\"type\":\"surface\",\"colorbar\":{\"outlinewidth\":0,\"ticks\":\"\"},\"colorscale\":[[0.0,\"#0d0887\"],[0.1111111111111111,\"#46039f\"],[0.2222222222222222,\"#7201a8\"],[0.3333333333333333,\"#9c179e\"],[0.4444444444444444,\"#bd3786\"],[0.5555555555555556,\"#d8576b\"],[0.6666666666666666,\"#ed7953\"],[0.7777777777777778,\"#fb9f3a\"],[0.8888888888888888,\"#fdca26\"],[1.0,\"#f0f921\"]]}],\"mesh3d\":[{\"type\":\"mesh3d\",\"colorbar\":{\"outlinewidth\":0,\"ticks\":\"\"}}],\"scatter\":[{\"fillpattern\":{\"fillmode\":\"overlay\",\"size\":10,\"solidity\":0.2},\"type\":\"scatter\"}],\"parcoords\":[{\"type\":\"parcoords\",\"line\":{\"colorbar\":{\"outlinewidth\":0,\"ticks\":\"\"}}}],\"scatterpolargl\":[{\"type\":\"scatterpolargl\",\"marker\":{\"colorbar\":{\"outlinewidth\":0,\"ticks\":\"\"}}}],\"bar\":[{\"error_x\":{\"color\":\"#2a3f5f\"},\"error_y\":{\"color\":\"#2a3f5f\"},\"marker\":{\"line\":{\"color\":\"#E5ECF6\",\"width\":0.5},\"pattern\":{\"fillmode\":\"overlay\",\"size\":10,\"solidity\":0.2}},\"type\":\"bar\"}],\"scattergeo\":[{\"type\":\"scattergeo\",\"marker\":{\"colorbar\":{\"outlinewidth\":0,\"ticks\":\"\"}}}],\"scatterpolar\":[{\"type\":\"scatterpolar\",\"marker\":{\"colorbar\":{\"outlinewidth\":0,\"ticks\":\"\"}}}],\"histogram\":[{\"marker\":{\"pattern\":{\"fillmode\":\"overlay\",\"size\":10,\"solidity\":0.2}},\"type\":\"histogram\"}],\"scattergl\":[{\"type\":\"scattergl\",\"marker\":{\"colorbar\":{\"outlinewidth\":0,\"ticks\":\"\"}}}],\"scatter3d\":[{\"type\":\"scatter3d\",\"line\":{\"colorbar\":{\"outlinewidth\":0,\"ticks\":\"\"}},\"marker\":{\"colorbar\":{\"outlinewidth\":0,\"ticks\":\"\"}}}],\"scattermapbox\":[{\"type\":\"scattermapbox\",\"marker\":{\"colorbar\":{\"outlinewidth\":0,\"ticks\":\"\"}}}],\"scatterternary\":[{\"type\":\"scatterternary\",\"marker\":{\"colorbar\":{\"outlinewidth\":0,\"ticks\":\"\"}}}],\"scattercarpet\":[{\"type\":\"scattercarpet\",\"marker\":{\"colorbar\":{\"outlinewidth\":0,\"ticks\":\"\"}}}],\"carpet\":[{\"aaxis\":{\"endlinecolor\":\"#2a3f5f\",\"gridcolor\":\"white\",\"linecolor\":\"white\",\"minorgridcolor\":\"white\",\"startlinecolor\":\"#2a3f5f\"},\"baxis\":{\"endlinecolor\":\"#2a3f5f\",\"gridcolor\":\"white\",\"linecolor\":\"white\",\"minorgridcolor\":\"white\",\"startlinecolor\":\"#2a3f5f\"},\"type\":\"carpet\"}],\"table\":[{\"cells\":{\"fill\":{\"color\":\"#EBF0F8\"},\"line\":{\"color\":\"white\"}},\"header\":{\"fill\":{\"color\":\"#C8D4E3\"},\"line\":{\"color\":\"white\"}},\"type\":\"table\"}],\"barpolar\":[{\"marker\":{\"line\":{\"color\":\"#E5ECF6\",\"width\":0.5},\"pattern\":{\"fillmode\":\"overlay\",\"size\":10,\"solidity\":0.2}},\"type\":\"barpolar\"}],\"pie\":[{\"automargin\":true,\"type\":\"pie\"}]},\"layout\":{\"autotypenumbers\":\"strict\",\"colorway\":[\"#636efa\",\"#EF553B\",\"#00cc96\",\"#ab63fa\",\"#FFA15A\",\"#19d3f3\",\"#FF6692\",\"#B6E880\",\"#FF97FF\",\"#FECB52\"],\"font\":{\"color\":\"#2a3f5f\"},\"hovermode\":\"closest\",\"hoverlabel\":{\"align\":\"left\"},\"paper_bgcolor\":\"white\",\"plot_bgcolor\":\"#E5ECF6\",\"polar\":{\"bgcolor\":\"#E5ECF6\",\"angularaxis\":{\"gridcolor\":\"white\",\"linecolor\":\"white\",\"ticks\":\"\"},\"radialaxis\":{\"gridcolor\":\"white\",\"linecolor\":\"white\",\"ticks\":\"\"}},\"ternary\":{\"bgcolor\":\"#E5ECF6\",\"aaxis\":{\"gridcolor\":\"white\",\"linecolor\":\"white\",\"ticks\":\"\"},\"baxis\":{\"gridcolor\":\"white\",\"linecolor\":\"white\",\"ticks\":\"\"},\"caxis\":{\"gridcolor\":\"white\",\"linecolor\":\"white\",\"ticks\":\"\"}},\"coloraxis\":{\"colorbar\":{\"outlinewidth\":0,\"ticks\":\"\"}},\"colorscale\":{\"sequential\":[[0.0,\"#0d0887\"],[0.1111111111111111,\"#46039f\"],[0.2222222222222222,\"#7201a8\"],[0.3333333333333333,\"#9c179e\"],[0.4444444444444444,\"#bd3786\"],[0.5555555555555556,\"#d8576b\"],[0.6666666666666666,\"#ed7953\"],[0.7777777777777778,\"#fb9f3a\"],[0.8888888888888888,\"#fdca26\"],[1.0,\"#f0f921\"]],\"sequentialminus\":[[0.0,\"#0d0887\"],[0.1111111111111111,\"#46039f\"],[0.2222222222222222,\"#7201a8\"],[0.3333333333333333,\"#9c179e\"],[0.4444444444444444,\"#bd3786\"],[0.5555555555555556,\"#d8576b\"],[0.6666666666666666,\"#ed7953\"],[0.7777777777777778,\"#fb9f3a\"],[0.8888888888888888,\"#fdca26\"],[1.0,\"#f0f921\"]],\"diverging\":[[0,\"#8e0152\"],[0.1,\"#c51b7d\"],[0.2,\"#de77ae\"],[0.3,\"#f1b6da\"],[0.4,\"#fde0ef\"],[0.5,\"#f7f7f7\"],[0.6,\"#e6f5d0\"],[0.7,\"#b8e186\"],[0.8,\"#7fbc41\"],[0.9,\"#4d9221\"],[1,\"#276419\"]]},\"xaxis\":{\"gridcolor\":\"white\",\"linecolor\":\"white\",\"ticks\":\"\",\"title\":{\"standoff\":15},\"zerolinecolor\":\"white\",\"automargin\":true,\"zerolinewidth\":2},\"yaxis\":{\"gridcolor\":\"white\",\"linecolor\":\"white\",\"ticks\":\"\",\"title\":{\"standoff\":15},\"zerolinecolor\":\"white\",\"automargin\":true,\"zerolinewidth\":2},\"scene\":{\"xaxis\":{\"backgroundcolor\":\"#E5ECF6\",\"gridcolor\":\"white\",\"linecolor\":\"white\",\"showbackground\":true,\"ticks\":\"\",\"zerolinecolor\":\"white\",\"gridwidth\":2},\"yaxis\":{\"backgroundcolor\":\"#E5ECF6\",\"gridcolor\":\"white\",\"linecolor\":\"white\",\"showbackground\":true,\"ticks\":\"\",\"zerolinecolor\":\"white\",\"gridwidth\":2},\"zaxis\":{\"backgroundcolor\":\"#E5ECF6\",\"gridcolor\":\"white\",\"linecolor\":\"white\",\"showbackground\":true,\"ticks\":\"\",\"zerolinecolor\":\"white\",\"gridwidth\":2}},\"shapedefaults\":{\"line\":{\"color\":\"#2a3f5f\"}},\"annotationdefaults\":{\"arrowcolor\":\"#2a3f5f\",\"arrowhead\":0,\"arrowwidth\":1},\"geo\":{\"bgcolor\":\"white\",\"landcolor\":\"#E5ECF6\",\"subunitcolor\":\"white\",\"showland\":true,\"showlakes\":true,\"lakecolor\":\"white\"},\"title\":{\"x\":0.05},\"mapbox\":{\"style\":\"light\"}}},\"title\":{\"text\":\"$M_{opt}\\\\text{ for every 250 games for different values of }n^{\\u2217}$\"},\"xaxis\":{\"title\":{\"text\":\"$game$\"}},\"yaxis\":{\"title\":{\"text\":\"$M_{opt}$\"}},\"width\":1200,\"height\":400},                        {\"responsive\": true}                    ).then(function(){\n                            \nvar gd = document.getElementById('eccba3a9-9afc-482a-8129-24dde382bad4');\nvar x = new MutationObserver(function (mutations, observer) {{\n        var display = window.getComputedStyle(gd).display;\n        if (!display || display === 'none') {{\n            console.log([gd, 'removed!']);\n            Plotly.purge(gd);\n            observer.disconnect();\n        }}\n}});\n\n// Listen for the removal of the full notebook cells\nvar notebookContainer = gd.closest('#notebook-container');\nif (notebookContainer) {{\n    x.observe(notebookContainer, {childList: true});\n}}\n\n// Listen for the clearing of the current output cell\nvar outputEl = gd.closest('.output');\nif (outputEl) {{\n    x.observe(outputEl, {childList: true});\n}}\n\n                        })                };                });            </script>        </div>"
     },
     "metadata": {},
     "output_type": "display_data"
    }
   ],
   "source": [
    "fig = go.Figure()\n",
    "\n",
    "for i, y_i in enumerate(n_star_M_opts):\n",
    "    fig.add_trace(go.Scatter(x=x, y=y_i, mode='lines',name=r'$n^* = %d$' % n_star_list[i]))\n",
    "\n",
    "fig.update_layout(\n",
    "    title=r'$M_{opt}\\text{ for every %d games for different values of }n^{∗}$' % averaging_steps,\n",
    "    xaxis_title=r'$game$',\n",
    "    yaxis_title=r'$M_{opt}$',\n",
    "    width=1200, height=400\n",
    ")\n",
    "\n",
    "fig.show()"
   ],
   "metadata": {
    "collapsed": false,
    "pycharm": {
     "name": "#%%\n"
    }
   }
  },
  {
   "cell_type": "code",
   "execution_count": 27,
   "outputs": [
    {
     "data": {
      "application/vnd.plotly.v1+json": {
       "data": [
        {
         "mode": "lines",
         "name": "$n^* = 1$",
         "x": [
          249,
          499,
          749,
          999,
          1249,
          1499,
          1749,
          1999,
          2249,
          2499,
          2749,
          2999,
          3249,
          3499,
          3749,
          3999,
          4249,
          4499,
          4749,
          4999,
          5249,
          5499,
          5749,
          5999,
          6249,
          6499,
          6749,
          6999,
          7249,
          7499,
          7749,
          7999,
          8249,
          8499,
          8749,
          8999,
          9249,
          9499,
          9749,
          9999,
          10249,
          10499,
          10749,
          10999,
          11249,
          11499,
          11749,
          11999,
          12249,
          12499,
          12749,
          12999,
          13249,
          13499,
          13749,
          13999,
          14249,
          14499,
          14749,
          14999,
          15249,
          15499,
          15749,
          15999,
          16249,
          16499,
          16749,
          16999,
          17249,
          17499,
          17749,
          17999,
          18249,
          18499,
          18749,
          18999,
          19249,
          19499,
          19749,
          19999
         ],
         "y": [
          -0.858,
          -0.196,
          -0.052,
          0.146,
          0.402,
          0.556,
          0.278,
          0.61,
          0.632,
          0.684,
          0.698,
          0.698,
          0.694,
          0.722,
          0.72,
          0.764,
          0.778,
          0.866,
          0.83,
          0.79,
          0.756,
          0.726,
          0.842,
          0.806,
          0.806,
          0.774,
          0.858,
          0.884,
          0.786,
          0.852,
          0.842,
          0.838,
          0.856,
          0.836,
          0.768,
          0.798,
          0.808,
          0.872,
          0.806,
          0.77,
          0.872,
          0.8,
          0.832,
          0.834,
          0.79,
          0.864,
          0.814,
          0.892,
          0.856,
          0.882,
          0.884,
          0.852,
          0.876,
          0.83,
          0.84,
          0.846,
          0.792,
          0.782,
          0.812,
          0.788,
          0.854,
          0.818,
          0.862,
          0.854,
          0.848,
          0.792,
          0.874,
          0.856,
          0.884,
          0.84,
          0.898,
          0.884,
          0.896,
          0.88,
          0.844,
          0.924,
          0.934,
          0.838,
          0.904,
          0.894
         ],
         "type": "scatter"
        },
        {
         "mode": "lines",
         "name": "$n^* = 4000$",
         "x": [
          249,
          499,
          749,
          999,
          1249,
          1499,
          1749,
          1999,
          2249,
          2499,
          2749,
          2999,
          3249,
          3499,
          3749,
          3999,
          4249,
          4499,
          4749,
          4999,
          5249,
          5499,
          5749,
          5999,
          6249,
          6499,
          6749,
          6999,
          7249,
          7499,
          7749,
          7999,
          8249,
          8499,
          8749,
          8999,
          9249,
          9499,
          9749,
          9999,
          10249,
          10499,
          10749,
          10999,
          11249,
          11499,
          11749,
          11999,
          12249,
          12499,
          12749,
          12999,
          13249,
          13499,
          13749,
          13999,
          14249,
          14499,
          14749,
          14999,
          15249,
          15499,
          15749,
          15999,
          16249,
          16499,
          16749,
          16999,
          17249,
          17499,
          17749,
          17999,
          18249,
          18499,
          18749,
          18999,
          19249,
          19499,
          19749,
          19999
         ],
         "y": [
          -0.402,
          -0.132,
          0.138,
          0.05,
          0.16,
          0.48,
          0.316,
          0.686,
          0.73,
          0.706,
          0.704,
          0.732,
          0.734,
          0.84,
          0.838,
          0.858,
          0.818,
          0.868,
          0.848,
          0.818,
          0.846,
          0.88,
          0.81,
          0.864,
          0.856,
          0.848,
          0.914,
          0.87,
          0.87,
          0.922,
          0.85,
          0.856,
          0.866,
          0.868,
          0.854,
          0.928,
          0.904,
          0.89,
          0.906,
          0.952,
          0.944,
          0.906,
          0.932,
          0.892,
          0.906,
          0.954,
          0.858,
          0.894,
          0.896,
          0.932,
          0.852,
          0.95,
          0.944,
          0.922,
          0.902,
          0.878,
          0.942,
          0.908,
          0.912,
          0.95,
          0.926,
          0.894,
          0.926,
          0.93,
          0.892,
          0.932,
          0.93,
          0.926,
          0.93,
          0.936,
          0.86,
          0.926,
          0.938,
          0.878,
          0.928,
          0.932,
          0.948,
          0.916,
          0.924,
          0.878
         ],
         "type": "scatter"
        },
        {
         "mode": "lines",
         "name": "$n^* = 8000$",
         "x": [
          249,
          499,
          749,
          999,
          1249,
          1499,
          1749,
          1999,
          2249,
          2499,
          2749,
          2999,
          3249,
          3499,
          3749,
          3999,
          4249,
          4499,
          4749,
          4999,
          5249,
          5499,
          5749,
          5999,
          6249,
          6499,
          6749,
          6999,
          7249,
          7499,
          7749,
          7999,
          8249,
          8499,
          8749,
          8999,
          9249,
          9499,
          9749,
          9999,
          10249,
          10499,
          10749,
          10999,
          11249,
          11499,
          11749,
          11999,
          12249,
          12499,
          12749,
          12999,
          13249,
          13499,
          13749,
          13999,
          14249,
          14499,
          14749,
          14999,
          15249,
          15499,
          15749,
          15999,
          16249,
          16499,
          16749,
          16999,
          17249,
          17499,
          17749,
          17999,
          18249,
          18499,
          18749,
          18999,
          19249,
          19499,
          19749,
          19999
         ],
         "y": [
          -0.122,
          -0.022,
          -0.062,
          0.266,
          0.244,
          0.212,
          0.558,
          0.678,
          0.57,
          0.588,
          0.6,
          0.662,
          0.702,
          0.676,
          0.706,
          0.714,
          0.666,
          0.722,
          0.706,
          0.716,
          0.718,
          0.716,
          0.788,
          0.84,
          0.872,
          0.824,
          0.834,
          0.878,
          0.868,
          0.864,
          0.912,
          0.854,
          0.888,
          0.888,
          0.872,
          0.84,
          0.9,
          0.856,
          0.848,
          0.92,
          0.9,
          0.848,
          0.872,
          0.902,
          0.868,
          0.886,
          0.88,
          0.892,
          0.884,
          0.914,
          0.9,
          0.898,
          0.898,
          0.904,
          0.826,
          0.91,
          0.874,
          0.936,
          0.91,
          0.864,
          0.91,
          0.868,
          0.876,
          0.928,
          0.922,
          0.896,
          0.918,
          0.868,
          0.948,
          0.904,
          0.884,
          0.902,
          0.932,
          0.916,
          0.928,
          0.938,
          0.878,
          0.912,
          0.928,
          0.908
         ],
         "type": "scatter"
        },
        {
         "mode": "lines",
         "name": "$n^* = 12000$",
         "x": [
          249,
          499,
          749,
          999,
          1249,
          1499,
          1749,
          1999,
          2249,
          2499,
          2749,
          2999,
          3249,
          3499,
          3749,
          3999,
          4249,
          4499,
          4749,
          4999,
          5249,
          5499,
          5749,
          5999,
          6249,
          6499,
          6749,
          6999,
          7249,
          7499,
          7749,
          7999,
          8249,
          8499,
          8749,
          8999,
          9249,
          9499,
          9749,
          9999,
          10249,
          10499,
          10749,
          10999,
          11249,
          11499,
          11749,
          11999,
          12249,
          12499,
          12749,
          12999,
          13249,
          13499,
          13749,
          13999,
          14249,
          14499,
          14749,
          14999,
          15249,
          15499,
          15749,
          15999,
          16249,
          16499,
          16749,
          16999,
          17249,
          17499,
          17749,
          17999,
          18249,
          18499,
          18749,
          18999,
          19249,
          19499,
          19749,
          19999
         ],
         "y": [
          -0.432,
          -0.244,
          0.006,
          -0.092,
          0.09,
          0.132,
          0.406,
          0.336,
          0.438,
          0.552,
          0.582,
          0.668,
          0.634,
          0.672,
          0.788,
          0.7,
          0.796,
          0.774,
          0.804,
          0.826,
          0.72,
          0.752,
          0.804,
          0.842,
          0.842,
          0.84,
          0.77,
          0.846,
          0.87,
          0.872,
          0.93,
          0.924,
          0.89,
          0.894,
          0.896,
          0.914,
          0.912,
          0.894,
          0.902,
          0.912,
          0.868,
          0.906,
          0.93,
          0.888,
          0.78,
          0.928,
          0.89,
          0.91,
          0.916,
          0.932,
          0.906,
          0.868,
          0.93,
          0.924,
          0.932,
          0.896,
          0.898,
          0.924,
          0.908,
          0.894,
          0.92,
          0.852,
          0.932,
          0.948,
          0.924,
          0.94,
          0.874,
          0.938,
          0.928,
          0.898,
          0.922,
          0.92,
          0.942,
          0.898,
          0.928,
          0.884,
          0.886,
          0.888,
          0.924,
          0.934
         ],
         "type": "scatter"
        },
        {
         "mode": "lines",
         "name": "$n^* = 16000$",
         "x": [
          249,
          499,
          749,
          999,
          1249,
          1499,
          1749,
          1999,
          2249,
          2499,
          2749,
          2999,
          3249,
          3499,
          3749,
          3999,
          4249,
          4499,
          4749,
          4999,
          5249,
          5499,
          5749,
          5999,
          6249,
          6499,
          6749,
          6999,
          7249,
          7499,
          7749,
          7999,
          8249,
          8499,
          8749,
          8999,
          9249,
          9499,
          9749,
          9999,
          10249,
          10499,
          10749,
          10999,
          11249,
          11499,
          11749,
          11999,
          12249,
          12499,
          12749,
          12999,
          13249,
          13499,
          13749,
          13999,
          14249,
          14499,
          14749,
          14999,
          15249,
          15499,
          15749,
          15999,
          16249,
          16499,
          16749,
          16999,
          17249,
          17499,
          17749,
          17999,
          18249,
          18499,
          18749,
          18999,
          19249,
          19499,
          19749,
          19999
         ],
         "y": [
          -0.354,
          -0.414,
          -0.138,
          -0.058,
          -0.166,
          0.302,
          0.308,
          0.398,
          0.4,
          0.47,
          0.548,
          0.534,
          0.636,
          0.718,
          0.686,
          0.618,
          0.768,
          0.724,
          0.7,
          0.752,
          0.756,
          0.822,
          0.776,
          0.76,
          0.766,
          0.844,
          0.792,
          0.858,
          0.828,
          0.8,
          0.714,
          0.864,
          0.824,
          0.862,
          0.696,
          0.88,
          0.872,
          0.856,
          0.882,
          0.846,
          0.88,
          0.894,
          0.874,
          0.898,
          0.872,
          0.948,
          0.83,
          0.868,
          0.874,
          0.866,
          0.842,
          0.892,
          0.888,
          0.91,
          0.862,
          0.89,
          0.856,
          0.922,
          0.916,
          0.924,
          0.846,
          0.908,
          0.886,
          0.876,
          0.922,
          0.898,
          0.938,
          0.904,
          0.922,
          0.876,
          0.948,
          0.902,
          0.918,
          0.89,
          0.914,
          0.926,
          0.922,
          0.904,
          0.914,
          0.918
         ],
         "type": "scatter"
        },
        {
         "mode": "lines",
         "name": "$n^* = 20000$",
         "x": [
          249,
          499,
          749,
          999,
          1249,
          1499,
          1749,
          1999,
          2249,
          2499,
          2749,
          2999,
          3249,
          3499,
          3749,
          3999,
          4249,
          4499,
          4749,
          4999,
          5249,
          5499,
          5749,
          5999,
          6249,
          6499,
          6749,
          6999,
          7249,
          7499,
          7749,
          7999,
          8249,
          8499,
          8749,
          8999,
          9249,
          9499,
          9749,
          9999,
          10249,
          10499,
          10749,
          10999,
          11249,
          11499,
          11749,
          11999,
          12249,
          12499,
          12749,
          12999,
          13249,
          13499,
          13749,
          13999,
          14249,
          14499,
          14749,
          14999,
          15249,
          15499,
          15749,
          15999,
          16249,
          16499,
          16749,
          16999,
          17249,
          17499,
          17749,
          17999,
          18249,
          18499,
          18749,
          18999,
          19249,
          19499,
          19749,
          19999
         ],
         "y": [
          -0.008,
          -0.002,
          0.104,
          -0.044,
          0.334,
          0.368,
          0.276,
          0.358,
          0.564,
          0.536,
          0.688,
          0.606,
          0.724,
          0.698,
          0.734,
          0.78,
          0.772,
          0.654,
          0.654,
          0.74,
          0.826,
          0.74,
          0.708,
          0.77,
          0.736,
          0.796,
          0.696,
          0.768,
          0.772,
          0.832,
          0.888,
          0.85,
          0.918,
          0.906,
          0.9,
          0.78,
          0.922,
          0.91,
          0.892,
          0.902,
          0.914,
          0.894,
          0.888,
          0.834,
          0.886,
          0.898,
          0.924,
          0.91,
          0.894,
          0.92,
          0.89,
          0.886,
          0.906,
          0.9,
          0.914,
          0.91,
          0.916,
          0.902,
          0.924,
          0.944,
          0.948,
          0.89,
          0.938,
          0.932,
          0.862,
          0.918,
          0.882,
          0.936,
          0.858,
          0.916,
          0.898,
          0.922,
          0.926,
          0.924,
          0.932,
          0.884,
          0.92,
          0.924,
          0.88,
          0.906
         ],
         "type": "scatter"
        },
        {
         "mode": "lines",
         "name": "$n^* = 24000$",
         "x": [
          249,
          499,
          749,
          999,
          1249,
          1499,
          1749,
          1999,
          2249,
          2499,
          2749,
          2999,
          3249,
          3499,
          3749,
          3999,
          4249,
          4499,
          4749,
          4999,
          5249,
          5499,
          5749,
          5999,
          6249,
          6499,
          6749,
          6999,
          7249,
          7499,
          7749,
          7999,
          8249,
          8499,
          8749,
          8999,
          9249,
          9499,
          9749,
          9999,
          10249,
          10499,
          10749,
          10999,
          11249,
          11499,
          11749,
          11999,
          12249,
          12499,
          12749,
          12999,
          13249,
          13499,
          13749,
          13999,
          14249,
          14499,
          14749,
          14999,
          15249,
          15499,
          15749,
          15999,
          16249,
          16499,
          16749,
          16999,
          17249,
          17499,
          17749,
          17999,
          18249,
          18499,
          18749,
          18999,
          19249,
          19499,
          19749,
          19999
         ],
         "y": [
          -0.468,
          -0.25,
          -0.052,
          0.0,
          0.118,
          0.246,
          0.276,
          0.364,
          0.476,
          0.412,
          0.33,
          0.436,
          0.576,
          0.504,
          0.682,
          0.656,
          0.668,
          0.686,
          0.7,
          0.646,
          0.544,
          0.726,
          0.604,
          0.742,
          0.79,
          0.732,
          0.658,
          0.81,
          0.814,
          0.854,
          0.814,
          0.878,
          0.874,
          0.864,
          0.906,
          0.814,
          0.854,
          0.916,
          0.878,
          0.86,
          0.912,
          0.858,
          0.852,
          0.822,
          0.852,
          0.898,
          0.872,
          0.894,
          0.878,
          0.938,
          0.89,
          0.838,
          0.886,
          0.862,
          0.878,
          0.884,
          0.852,
          0.904,
          0.84,
          0.938,
          0.944,
          0.936,
          0.932,
          0.918,
          0.886,
          0.936,
          0.912,
          0.87,
          0.91,
          0.9,
          0.862,
          0.894,
          0.906,
          0.956,
          0.928,
          0.95,
          0.884,
          0.924,
          0.932,
          0.928
         ],
         "type": "scatter"
        },
        {
         "mode": "lines",
         "name": "$n^* = 28000$",
         "x": [
          249,
          499,
          749,
          999,
          1249,
          1499,
          1749,
          1999,
          2249,
          2499,
          2749,
          2999,
          3249,
          3499,
          3749,
          3999,
          4249,
          4499,
          4749,
          4999,
          5249,
          5499,
          5749,
          5999,
          6249,
          6499,
          6749,
          6999,
          7249,
          7499,
          7749,
          7999,
          8249,
          8499,
          8749,
          8999,
          9249,
          9499,
          9749,
          9999,
          10249,
          10499,
          10749,
          10999,
          11249,
          11499,
          11749,
          11999,
          12249,
          12499,
          12749,
          12999,
          13249,
          13499,
          13749,
          13999,
          14249,
          14499,
          14749,
          14999,
          15249,
          15499,
          15749,
          15999,
          16249,
          16499,
          16749,
          16999,
          17249,
          17499,
          17749,
          17999,
          18249,
          18499,
          18749,
          18999,
          19249,
          19499,
          19749,
          19999
         ],
         "y": [
          -0.414,
          -0.022,
          -0.208,
          0.02,
          0.266,
          0.32,
          0.396,
          0.428,
          0.408,
          0.564,
          0.516,
          0.602,
          0.536,
          0.564,
          0.638,
          0.52,
          0.666,
          0.638,
          0.66,
          0.628,
          0.704,
          0.696,
          0.734,
          0.79,
          0.766,
          0.774,
          0.832,
          0.828,
          0.79,
          0.752,
          0.76,
          0.76,
          0.756,
          0.822,
          0.73,
          0.858,
          0.828,
          0.832,
          0.846,
          0.794,
          0.828,
          0.868,
          0.878,
          0.844,
          0.886,
          0.86,
          0.898,
          0.868,
          0.894,
          0.916,
          0.816,
          0.824,
          0.84,
          0.894,
          0.91,
          0.836,
          0.856,
          0.878,
          0.902,
          0.904,
          0.896,
          0.878,
          0.842,
          0.896,
          0.868,
          0.898,
          0.946,
          0.934,
          0.92,
          0.9,
          0.882,
          0.896,
          0.9,
          0.926,
          0.91,
          0.916,
          0.916,
          0.892,
          0.93,
          0.848
         ],
         "type": "scatter"
        },
        {
         "mode": "lines",
         "name": "$n^* = 32000$",
         "x": [
          249,
          499,
          749,
          999,
          1249,
          1499,
          1749,
          1999,
          2249,
          2499,
          2749,
          2999,
          3249,
          3499,
          3749,
          3999,
          4249,
          4499,
          4749,
          4999,
          5249,
          5499,
          5749,
          5999,
          6249,
          6499,
          6749,
          6999,
          7249,
          7499,
          7749,
          7999,
          8249,
          8499,
          8749,
          8999,
          9249,
          9499,
          9749,
          9999,
          10249,
          10499,
          10749,
          10999,
          11249,
          11499,
          11749,
          11999,
          12249,
          12499,
          12749,
          12999,
          13249,
          13499,
          13749,
          13999,
          14249,
          14499,
          14749,
          14999,
          15249,
          15499,
          15749,
          15999,
          16249,
          16499,
          16749,
          16999,
          17249,
          17499,
          17749,
          17999,
          18249,
          18499,
          18749,
          18999,
          19249,
          19499,
          19749,
          19999
         ],
         "y": [
          -0.368,
          -0.138,
          -0.228,
          0.08,
          0.092,
          0.036,
          0.358,
          0.302,
          0.42,
          0.554,
          0.582,
          0.592,
          0.64,
          0.594,
          0.56,
          0.632,
          0.56,
          0.688,
          0.658,
          0.706,
          0.798,
          0.76,
          0.704,
          0.638,
          0.802,
          0.814,
          0.742,
          0.774,
          0.74,
          0.682,
          0.742,
          0.712,
          0.736,
          0.706,
          0.682,
          0.718,
          0.804,
          0.872,
          0.792,
          0.83,
          0.834,
          0.822,
          0.848,
          0.832,
          0.874,
          0.832,
          0.854,
          0.782,
          0.858,
          0.842,
          0.734,
          0.81,
          0.812,
          0.876,
          0.88,
          0.898,
          0.89,
          0.906,
          0.918,
          0.82,
          0.874,
          0.864,
          0.908,
          0.862,
          0.884,
          0.824,
          0.88,
          0.85,
          0.844,
          0.89,
          0.844,
          0.898,
          0.884,
          0.91,
          0.902,
          0.906,
          0.912,
          0.9,
          0.89,
          0.92
         ],
         "type": "scatter"
        },
        {
         "mode": "lines",
         "name": "$n^* = 36000$",
         "x": [
          249,
          499,
          749,
          999,
          1249,
          1499,
          1749,
          1999,
          2249,
          2499,
          2749,
          2999,
          3249,
          3499,
          3749,
          3999,
          4249,
          4499,
          4749,
          4999,
          5249,
          5499,
          5749,
          5999,
          6249,
          6499,
          6749,
          6999,
          7249,
          7499,
          7749,
          7999,
          8249,
          8499,
          8749,
          8999,
          9249,
          9499,
          9749,
          9999,
          10249,
          10499,
          10749,
          10999,
          11249,
          11499,
          11749,
          11999,
          12249,
          12499,
          12749,
          12999,
          13249,
          13499,
          13749,
          13999,
          14249,
          14499,
          14749,
          14999,
          15249,
          15499,
          15749,
          15999,
          16249,
          16499,
          16749,
          16999,
          17249,
          17499,
          17749,
          17999,
          18249,
          18499,
          18749,
          18999,
          19249,
          19499,
          19749,
          19999
         ],
         "y": [
          -0.68,
          -0.164,
          0.212,
          0.106,
          -0.338,
          0.192,
          0.468,
          0.462,
          0.466,
          0.568,
          0.702,
          0.604,
          0.63,
          0.618,
          0.668,
          0.654,
          0.602,
          0.56,
          0.752,
          0.688,
          0.71,
          0.732,
          0.728,
          0.786,
          0.808,
          0.762,
          0.73,
          0.7,
          0.702,
          0.766,
          0.788,
          0.828,
          0.814,
          0.81,
          0.784,
          0.832,
          0.788,
          0.782,
          0.79,
          0.806,
          0.86,
          0.834,
          0.906,
          0.888,
          0.872,
          0.862,
          0.846,
          0.866,
          0.862,
          0.904,
          0.886,
          0.864,
          0.9,
          0.862,
          0.882,
          0.844,
          0.88,
          0.864,
          0.888,
          0.882,
          0.886,
          0.908,
          0.92,
          0.87,
          0.832,
          0.874,
          0.904,
          0.93,
          0.852,
          0.888,
          0.862,
          0.864,
          0.888,
          0.9,
          0.844,
          0.892,
          0.92,
          0.894,
          0.898,
          0.924
         ],
         "type": "scatter"
        },
        {
         "mode": "lines",
         "name": "$n^* = 40000$",
         "x": [
          249,
          499,
          749,
          999,
          1249,
          1499,
          1749,
          1999,
          2249,
          2499,
          2749,
          2999,
          3249,
          3499,
          3749,
          3999,
          4249,
          4499,
          4749,
          4999,
          5249,
          5499,
          5749,
          5999,
          6249,
          6499,
          6749,
          6999,
          7249,
          7499,
          7749,
          7999,
          8249,
          8499,
          8749,
          8999,
          9249,
          9499,
          9749,
          9999,
          10249,
          10499,
          10749,
          10999,
          11249,
          11499,
          11749,
          11999,
          12249,
          12499,
          12749,
          12999,
          13249,
          13499,
          13749,
          13999,
          14249,
          14499,
          14749,
          14999,
          15249,
          15499,
          15749,
          15999,
          16249,
          16499,
          16749,
          16999,
          17249,
          17499,
          17749,
          17999,
          18249,
          18499,
          18749,
          18999,
          19249,
          19499,
          19749,
          19999
         ],
         "y": [
          -0.468,
          0.098,
          0.0,
          0.064,
          -0.132,
          0.36,
          0.306,
          0.272,
          0.464,
          0.618,
          0.504,
          0.636,
          0.596,
          0.568,
          0.582,
          0.57,
          0.572,
          0.662,
          0.746,
          0.68,
          0.724,
          0.832,
          0.658,
          0.676,
          0.76,
          0.73,
          0.834,
          0.704,
          0.78,
          0.816,
          0.876,
          0.774,
          0.884,
          0.714,
          0.766,
          0.858,
          0.784,
          0.85,
          0.786,
          0.852,
          0.822,
          0.846,
          0.814,
          0.756,
          0.766,
          0.812,
          0.85,
          0.842,
          0.804,
          0.828,
          0.814,
          0.862,
          0.854,
          0.896,
          0.87,
          0.788,
          0.86,
          0.822,
          0.866,
          0.85,
          0.828,
          0.882,
          0.816,
          0.876,
          0.862,
          0.89,
          0.892,
          0.894,
          0.842,
          0.89,
          0.874,
          0.882,
          0.896,
          0.868,
          0.866,
          0.914,
          0.838,
          0.792,
          0.856,
          0.892
         ],
         "type": "scatter"
        }
       ],
       "layout": {
        "template": {
         "data": {
          "histogram2dcontour": [
           {
            "type": "histogram2dcontour",
            "colorbar": {
             "outlinewidth": 0,
             "ticks": ""
            },
            "colorscale": [
             [
              0.0,
              "#0d0887"
             ],
             [
              0.1111111111111111,
              "#46039f"
             ],
             [
              0.2222222222222222,
              "#7201a8"
             ],
             [
              0.3333333333333333,
              "#9c179e"
             ],
             [
              0.4444444444444444,
              "#bd3786"
             ],
             [
              0.5555555555555556,
              "#d8576b"
             ],
             [
              0.6666666666666666,
              "#ed7953"
             ],
             [
              0.7777777777777778,
              "#fb9f3a"
             ],
             [
              0.8888888888888888,
              "#fdca26"
             ],
             [
              1.0,
              "#f0f921"
             ]
            ]
           }
          ],
          "choropleth": [
           {
            "type": "choropleth",
            "colorbar": {
             "outlinewidth": 0,
             "ticks": ""
            }
           }
          ],
          "histogram2d": [
           {
            "type": "histogram2d",
            "colorbar": {
             "outlinewidth": 0,
             "ticks": ""
            },
            "colorscale": [
             [
              0.0,
              "#0d0887"
             ],
             [
              0.1111111111111111,
              "#46039f"
             ],
             [
              0.2222222222222222,
              "#7201a8"
             ],
             [
              0.3333333333333333,
              "#9c179e"
             ],
             [
              0.4444444444444444,
              "#bd3786"
             ],
             [
              0.5555555555555556,
              "#d8576b"
             ],
             [
              0.6666666666666666,
              "#ed7953"
             ],
             [
              0.7777777777777778,
              "#fb9f3a"
             ],
             [
              0.8888888888888888,
              "#fdca26"
             ],
             [
              1.0,
              "#f0f921"
             ]
            ]
           }
          ],
          "heatmap": [
           {
            "type": "heatmap",
            "colorbar": {
             "outlinewidth": 0,
             "ticks": ""
            },
            "colorscale": [
             [
              0.0,
              "#0d0887"
             ],
             [
              0.1111111111111111,
              "#46039f"
             ],
             [
              0.2222222222222222,
              "#7201a8"
             ],
             [
              0.3333333333333333,
              "#9c179e"
             ],
             [
              0.4444444444444444,
              "#bd3786"
             ],
             [
              0.5555555555555556,
              "#d8576b"
             ],
             [
              0.6666666666666666,
              "#ed7953"
             ],
             [
              0.7777777777777778,
              "#fb9f3a"
             ],
             [
              0.8888888888888888,
              "#fdca26"
             ],
             [
              1.0,
              "#f0f921"
             ]
            ]
           }
          ],
          "heatmapgl": [
           {
            "type": "heatmapgl",
            "colorbar": {
             "outlinewidth": 0,
             "ticks": ""
            },
            "colorscale": [
             [
              0.0,
              "#0d0887"
             ],
             [
              0.1111111111111111,
              "#46039f"
             ],
             [
              0.2222222222222222,
              "#7201a8"
             ],
             [
              0.3333333333333333,
              "#9c179e"
             ],
             [
              0.4444444444444444,
              "#bd3786"
             ],
             [
              0.5555555555555556,
              "#d8576b"
             ],
             [
              0.6666666666666666,
              "#ed7953"
             ],
             [
              0.7777777777777778,
              "#fb9f3a"
             ],
             [
              0.8888888888888888,
              "#fdca26"
             ],
             [
              1.0,
              "#f0f921"
             ]
            ]
           }
          ],
          "contourcarpet": [
           {
            "type": "contourcarpet",
            "colorbar": {
             "outlinewidth": 0,
             "ticks": ""
            }
           }
          ],
          "contour": [
           {
            "type": "contour",
            "colorbar": {
             "outlinewidth": 0,
             "ticks": ""
            },
            "colorscale": [
             [
              0.0,
              "#0d0887"
             ],
             [
              0.1111111111111111,
              "#46039f"
             ],
             [
              0.2222222222222222,
              "#7201a8"
             ],
             [
              0.3333333333333333,
              "#9c179e"
             ],
             [
              0.4444444444444444,
              "#bd3786"
             ],
             [
              0.5555555555555556,
              "#d8576b"
             ],
             [
              0.6666666666666666,
              "#ed7953"
             ],
             [
              0.7777777777777778,
              "#fb9f3a"
             ],
             [
              0.8888888888888888,
              "#fdca26"
             ],
             [
              1.0,
              "#f0f921"
             ]
            ]
           }
          ],
          "surface": [
           {
            "type": "surface",
            "colorbar": {
             "outlinewidth": 0,
             "ticks": ""
            },
            "colorscale": [
             [
              0.0,
              "#0d0887"
             ],
             [
              0.1111111111111111,
              "#46039f"
             ],
             [
              0.2222222222222222,
              "#7201a8"
             ],
             [
              0.3333333333333333,
              "#9c179e"
             ],
             [
              0.4444444444444444,
              "#bd3786"
             ],
             [
              0.5555555555555556,
              "#d8576b"
             ],
             [
              0.6666666666666666,
              "#ed7953"
             ],
             [
              0.7777777777777778,
              "#fb9f3a"
             ],
             [
              0.8888888888888888,
              "#fdca26"
             ],
             [
              1.0,
              "#f0f921"
             ]
            ]
           }
          ],
          "mesh3d": [
           {
            "type": "mesh3d",
            "colorbar": {
             "outlinewidth": 0,
             "ticks": ""
            }
           }
          ],
          "scatter": [
           {
            "fillpattern": {
             "fillmode": "overlay",
             "size": 10,
             "solidity": 0.2
            },
            "type": "scatter"
           }
          ],
          "parcoords": [
           {
            "type": "parcoords",
            "line": {
             "colorbar": {
              "outlinewidth": 0,
              "ticks": ""
             }
            }
           }
          ],
          "scatterpolargl": [
           {
            "type": "scatterpolargl",
            "marker": {
             "colorbar": {
              "outlinewidth": 0,
              "ticks": ""
             }
            }
           }
          ],
          "bar": [
           {
            "error_x": {
             "color": "#2a3f5f"
            },
            "error_y": {
             "color": "#2a3f5f"
            },
            "marker": {
             "line": {
              "color": "#E5ECF6",
              "width": 0.5
             },
             "pattern": {
              "fillmode": "overlay",
              "size": 10,
              "solidity": 0.2
             }
            },
            "type": "bar"
           }
          ],
          "scattergeo": [
           {
            "type": "scattergeo",
            "marker": {
             "colorbar": {
              "outlinewidth": 0,
              "ticks": ""
             }
            }
           }
          ],
          "scatterpolar": [
           {
            "type": "scatterpolar",
            "marker": {
             "colorbar": {
              "outlinewidth": 0,
              "ticks": ""
             }
            }
           }
          ],
          "histogram": [
           {
            "marker": {
             "pattern": {
              "fillmode": "overlay",
              "size": 10,
              "solidity": 0.2
             }
            },
            "type": "histogram"
           }
          ],
          "scattergl": [
           {
            "type": "scattergl",
            "marker": {
             "colorbar": {
              "outlinewidth": 0,
              "ticks": ""
             }
            }
           }
          ],
          "scatter3d": [
           {
            "type": "scatter3d",
            "line": {
             "colorbar": {
              "outlinewidth": 0,
              "ticks": ""
             }
            },
            "marker": {
             "colorbar": {
              "outlinewidth": 0,
              "ticks": ""
             }
            }
           }
          ],
          "scattermapbox": [
           {
            "type": "scattermapbox",
            "marker": {
             "colorbar": {
              "outlinewidth": 0,
              "ticks": ""
             }
            }
           }
          ],
          "scatterternary": [
           {
            "type": "scatterternary",
            "marker": {
             "colorbar": {
              "outlinewidth": 0,
              "ticks": ""
             }
            }
           }
          ],
          "scattercarpet": [
           {
            "type": "scattercarpet",
            "marker": {
             "colorbar": {
              "outlinewidth": 0,
              "ticks": ""
             }
            }
           }
          ],
          "carpet": [
           {
            "aaxis": {
             "endlinecolor": "#2a3f5f",
             "gridcolor": "white",
             "linecolor": "white",
             "minorgridcolor": "white",
             "startlinecolor": "#2a3f5f"
            },
            "baxis": {
             "endlinecolor": "#2a3f5f",
             "gridcolor": "white",
             "linecolor": "white",
             "minorgridcolor": "white",
             "startlinecolor": "#2a3f5f"
            },
            "type": "carpet"
           }
          ],
          "table": [
           {
            "cells": {
             "fill": {
              "color": "#EBF0F8"
             },
             "line": {
              "color": "white"
             }
            },
            "header": {
             "fill": {
              "color": "#C8D4E3"
             },
             "line": {
              "color": "white"
             }
            },
            "type": "table"
           }
          ],
          "barpolar": [
           {
            "marker": {
             "line": {
              "color": "#E5ECF6",
              "width": 0.5
             },
             "pattern": {
              "fillmode": "overlay",
              "size": 10,
              "solidity": 0.2
             }
            },
            "type": "barpolar"
           }
          ],
          "pie": [
           {
            "automargin": true,
            "type": "pie"
           }
          ]
         },
         "layout": {
          "autotypenumbers": "strict",
          "colorway": [
           "#636efa",
           "#EF553B",
           "#00cc96",
           "#ab63fa",
           "#FFA15A",
           "#19d3f3",
           "#FF6692",
           "#B6E880",
           "#FF97FF",
           "#FECB52"
          ],
          "font": {
           "color": "#2a3f5f"
          },
          "hovermode": "closest",
          "hoverlabel": {
           "align": "left"
          },
          "paper_bgcolor": "white",
          "plot_bgcolor": "#E5ECF6",
          "polar": {
           "bgcolor": "#E5ECF6",
           "angularaxis": {
            "gridcolor": "white",
            "linecolor": "white",
            "ticks": ""
           },
           "radialaxis": {
            "gridcolor": "white",
            "linecolor": "white",
            "ticks": ""
           }
          },
          "ternary": {
           "bgcolor": "#E5ECF6",
           "aaxis": {
            "gridcolor": "white",
            "linecolor": "white",
            "ticks": ""
           },
           "baxis": {
            "gridcolor": "white",
            "linecolor": "white",
            "ticks": ""
           },
           "caxis": {
            "gridcolor": "white",
            "linecolor": "white",
            "ticks": ""
           }
          },
          "coloraxis": {
           "colorbar": {
            "outlinewidth": 0,
            "ticks": ""
           }
          },
          "colorscale": {
           "sequential": [
            [
             0.0,
             "#0d0887"
            ],
            [
             0.1111111111111111,
             "#46039f"
            ],
            [
             0.2222222222222222,
             "#7201a8"
            ],
            [
             0.3333333333333333,
             "#9c179e"
            ],
            [
             0.4444444444444444,
             "#bd3786"
            ],
            [
             0.5555555555555556,
             "#d8576b"
            ],
            [
             0.6666666666666666,
             "#ed7953"
            ],
            [
             0.7777777777777778,
             "#fb9f3a"
            ],
            [
             0.8888888888888888,
             "#fdca26"
            ],
            [
             1.0,
             "#f0f921"
            ]
           ],
           "sequentialminus": [
            [
             0.0,
             "#0d0887"
            ],
            [
             0.1111111111111111,
             "#46039f"
            ],
            [
             0.2222222222222222,
             "#7201a8"
            ],
            [
             0.3333333333333333,
             "#9c179e"
            ],
            [
             0.4444444444444444,
             "#bd3786"
            ],
            [
             0.5555555555555556,
             "#d8576b"
            ],
            [
             0.6666666666666666,
             "#ed7953"
            ],
            [
             0.7777777777777778,
             "#fb9f3a"
            ],
            [
             0.8888888888888888,
             "#fdca26"
            ],
            [
             1.0,
             "#f0f921"
            ]
           ],
           "diverging": [
            [
             0,
             "#8e0152"
            ],
            [
             0.1,
             "#c51b7d"
            ],
            [
             0.2,
             "#de77ae"
            ],
            [
             0.3,
             "#f1b6da"
            ],
            [
             0.4,
             "#fde0ef"
            ],
            [
             0.5,
             "#f7f7f7"
            ],
            [
             0.6,
             "#e6f5d0"
            ],
            [
             0.7,
             "#b8e186"
            ],
            [
             0.8,
             "#7fbc41"
            ],
            [
             0.9,
             "#4d9221"
            ],
            [
             1,
             "#276419"
            ]
           ]
          },
          "xaxis": {
           "gridcolor": "white",
           "linecolor": "white",
           "ticks": "",
           "title": {
            "standoff": 15
           },
           "zerolinecolor": "white",
           "automargin": true,
           "zerolinewidth": 2
          },
          "yaxis": {
           "gridcolor": "white",
           "linecolor": "white",
           "ticks": "",
           "title": {
            "standoff": 15
           },
           "zerolinecolor": "white",
           "automargin": true,
           "zerolinewidth": 2
          },
          "scene": {
           "xaxis": {
            "backgroundcolor": "#E5ECF6",
            "gridcolor": "white",
            "linecolor": "white",
            "showbackground": true,
            "ticks": "",
            "zerolinecolor": "white",
            "gridwidth": 2
           },
           "yaxis": {
            "backgroundcolor": "#E5ECF6",
            "gridcolor": "white",
            "linecolor": "white",
            "showbackground": true,
            "ticks": "",
            "zerolinecolor": "white",
            "gridwidth": 2
           },
           "zaxis": {
            "backgroundcolor": "#E5ECF6",
            "gridcolor": "white",
            "linecolor": "white",
            "showbackground": true,
            "ticks": "",
            "zerolinecolor": "white",
            "gridwidth": 2
           }
          },
          "shapedefaults": {
           "line": {
            "color": "#2a3f5f"
           }
          },
          "annotationdefaults": {
           "arrowcolor": "#2a3f5f",
           "arrowhead": 0,
           "arrowwidth": 1
          },
          "geo": {
           "bgcolor": "white",
           "landcolor": "#E5ECF6",
           "subunitcolor": "white",
           "showland": true,
           "showlakes": true,
           "lakecolor": "white"
          },
          "title": {
           "x": 0.05
          },
          "mapbox": {
           "style": "light"
          }
         }
        },
        "title": {
         "text": "$M_{rand}\\text{ for every 250 games for different values of }n^{∗}$"
        },
        "xaxis": {
         "title": {
          "text": "$game$"
         }
        },
        "yaxis": {
         "title": {
          "text": "$M_{rand}$"
         }
        },
        "width": 1200,
        "height": 400
       },
       "config": {
        "plotlyServerURL": "https://plot.ly"
       }
      },
      "text/html": "<div>                            <div id=\"716652d6-598c-43ee-933c-1346269d66e8\" class=\"plotly-graph-div\" style=\"height:400px; width:1200px;\"></div>            <script type=\"text/javascript\">                require([\"plotly\"], function(Plotly) {                    window.PLOTLYENV=window.PLOTLYENV || {};                                    if (document.getElementById(\"716652d6-598c-43ee-933c-1346269d66e8\")) {                    Plotly.newPlot(                        \"716652d6-598c-43ee-933c-1346269d66e8\",                        [{\"mode\":\"lines\",\"name\":\"$n^* = 1$\",\"x\":[249,499,749,999,1249,1499,1749,1999,2249,2499,2749,2999,3249,3499,3749,3999,4249,4499,4749,4999,5249,5499,5749,5999,6249,6499,6749,6999,7249,7499,7749,7999,8249,8499,8749,8999,9249,9499,9749,9999,10249,10499,10749,10999,11249,11499,11749,11999,12249,12499,12749,12999,13249,13499,13749,13999,14249,14499,14749,14999,15249,15499,15749,15999,16249,16499,16749,16999,17249,17499,17749,17999,18249,18499,18749,18999,19249,19499,19749,19999],\"y\":[-0.858,-0.196,-0.052,0.146,0.402,0.556,0.278,0.61,0.632,0.684,0.698,0.698,0.694,0.722,0.72,0.764,0.778,0.866,0.83,0.79,0.756,0.726,0.842,0.806,0.806,0.774,0.858,0.884,0.786,0.852,0.842,0.838,0.856,0.836,0.768,0.798,0.808,0.872,0.806,0.77,0.872,0.8,0.832,0.834,0.79,0.864,0.814,0.892,0.856,0.882,0.884,0.852,0.876,0.83,0.84,0.846,0.792,0.782,0.812,0.788,0.854,0.818,0.862,0.854,0.848,0.792,0.874,0.856,0.884,0.84,0.898,0.884,0.896,0.88,0.844,0.924,0.934,0.838,0.904,0.894],\"type\":\"scatter\"},{\"mode\":\"lines\",\"name\":\"$n^* = 4000$\",\"x\":[249,499,749,999,1249,1499,1749,1999,2249,2499,2749,2999,3249,3499,3749,3999,4249,4499,4749,4999,5249,5499,5749,5999,6249,6499,6749,6999,7249,7499,7749,7999,8249,8499,8749,8999,9249,9499,9749,9999,10249,10499,10749,10999,11249,11499,11749,11999,12249,12499,12749,12999,13249,13499,13749,13999,14249,14499,14749,14999,15249,15499,15749,15999,16249,16499,16749,16999,17249,17499,17749,17999,18249,18499,18749,18999,19249,19499,19749,19999],\"y\":[-0.402,-0.132,0.138,0.05,0.16,0.48,0.316,0.686,0.73,0.706,0.704,0.732,0.734,0.84,0.838,0.858,0.818,0.868,0.848,0.818,0.846,0.88,0.81,0.864,0.856,0.848,0.914,0.87,0.87,0.922,0.85,0.856,0.866,0.868,0.854,0.928,0.904,0.89,0.906,0.952,0.944,0.906,0.932,0.892,0.906,0.954,0.858,0.894,0.896,0.932,0.852,0.95,0.944,0.922,0.902,0.878,0.942,0.908,0.912,0.95,0.926,0.894,0.926,0.93,0.892,0.932,0.93,0.926,0.93,0.936,0.86,0.926,0.938,0.878,0.928,0.932,0.948,0.916,0.924,0.878],\"type\":\"scatter\"},{\"mode\":\"lines\",\"name\":\"$n^* = 8000$\",\"x\":[249,499,749,999,1249,1499,1749,1999,2249,2499,2749,2999,3249,3499,3749,3999,4249,4499,4749,4999,5249,5499,5749,5999,6249,6499,6749,6999,7249,7499,7749,7999,8249,8499,8749,8999,9249,9499,9749,9999,10249,10499,10749,10999,11249,11499,11749,11999,12249,12499,12749,12999,13249,13499,13749,13999,14249,14499,14749,14999,15249,15499,15749,15999,16249,16499,16749,16999,17249,17499,17749,17999,18249,18499,18749,18999,19249,19499,19749,19999],\"y\":[-0.122,-0.022,-0.062,0.266,0.244,0.212,0.558,0.678,0.57,0.588,0.6,0.662,0.702,0.676,0.706,0.714,0.666,0.722,0.706,0.716,0.718,0.716,0.788,0.84,0.872,0.824,0.834,0.878,0.868,0.864,0.912,0.854,0.888,0.888,0.872,0.84,0.9,0.856,0.848,0.92,0.9,0.848,0.872,0.902,0.868,0.886,0.88,0.892,0.884,0.914,0.9,0.898,0.898,0.904,0.826,0.91,0.874,0.936,0.91,0.864,0.91,0.868,0.876,0.928,0.922,0.896,0.918,0.868,0.948,0.904,0.884,0.902,0.932,0.916,0.928,0.938,0.878,0.912,0.928,0.908],\"type\":\"scatter\"},{\"mode\":\"lines\",\"name\":\"$n^* = 12000$\",\"x\":[249,499,749,999,1249,1499,1749,1999,2249,2499,2749,2999,3249,3499,3749,3999,4249,4499,4749,4999,5249,5499,5749,5999,6249,6499,6749,6999,7249,7499,7749,7999,8249,8499,8749,8999,9249,9499,9749,9999,10249,10499,10749,10999,11249,11499,11749,11999,12249,12499,12749,12999,13249,13499,13749,13999,14249,14499,14749,14999,15249,15499,15749,15999,16249,16499,16749,16999,17249,17499,17749,17999,18249,18499,18749,18999,19249,19499,19749,19999],\"y\":[-0.432,-0.244,0.006,-0.092,0.09,0.132,0.406,0.336,0.438,0.552,0.582,0.668,0.634,0.672,0.788,0.7,0.796,0.774,0.804,0.826,0.72,0.752,0.804,0.842,0.842,0.84,0.77,0.846,0.87,0.872,0.93,0.924,0.89,0.894,0.896,0.914,0.912,0.894,0.902,0.912,0.868,0.906,0.93,0.888,0.78,0.928,0.89,0.91,0.916,0.932,0.906,0.868,0.93,0.924,0.932,0.896,0.898,0.924,0.908,0.894,0.92,0.852,0.932,0.948,0.924,0.94,0.874,0.938,0.928,0.898,0.922,0.92,0.942,0.898,0.928,0.884,0.886,0.888,0.924,0.934],\"type\":\"scatter\"},{\"mode\":\"lines\",\"name\":\"$n^* = 16000$\",\"x\":[249,499,749,999,1249,1499,1749,1999,2249,2499,2749,2999,3249,3499,3749,3999,4249,4499,4749,4999,5249,5499,5749,5999,6249,6499,6749,6999,7249,7499,7749,7999,8249,8499,8749,8999,9249,9499,9749,9999,10249,10499,10749,10999,11249,11499,11749,11999,12249,12499,12749,12999,13249,13499,13749,13999,14249,14499,14749,14999,15249,15499,15749,15999,16249,16499,16749,16999,17249,17499,17749,17999,18249,18499,18749,18999,19249,19499,19749,19999],\"y\":[-0.354,-0.414,-0.138,-0.058,-0.166,0.302,0.308,0.398,0.4,0.47,0.548,0.534,0.636,0.718,0.686,0.618,0.768,0.724,0.7,0.752,0.756,0.822,0.776,0.76,0.766,0.844,0.792,0.858,0.828,0.8,0.714,0.864,0.824,0.862,0.696,0.88,0.872,0.856,0.882,0.846,0.88,0.894,0.874,0.898,0.872,0.948,0.83,0.868,0.874,0.866,0.842,0.892,0.888,0.91,0.862,0.89,0.856,0.922,0.916,0.924,0.846,0.908,0.886,0.876,0.922,0.898,0.938,0.904,0.922,0.876,0.948,0.902,0.918,0.89,0.914,0.926,0.922,0.904,0.914,0.918],\"type\":\"scatter\"},{\"mode\":\"lines\",\"name\":\"$n^* = 20000$\",\"x\":[249,499,749,999,1249,1499,1749,1999,2249,2499,2749,2999,3249,3499,3749,3999,4249,4499,4749,4999,5249,5499,5749,5999,6249,6499,6749,6999,7249,7499,7749,7999,8249,8499,8749,8999,9249,9499,9749,9999,10249,10499,10749,10999,11249,11499,11749,11999,12249,12499,12749,12999,13249,13499,13749,13999,14249,14499,14749,14999,15249,15499,15749,15999,16249,16499,16749,16999,17249,17499,17749,17999,18249,18499,18749,18999,19249,19499,19749,19999],\"y\":[-0.008,-0.002,0.104,-0.044,0.334,0.368,0.276,0.358,0.564,0.536,0.688,0.606,0.724,0.698,0.734,0.78,0.772,0.654,0.654,0.74,0.826,0.74,0.708,0.77,0.736,0.796,0.696,0.768,0.772,0.832,0.888,0.85,0.918,0.906,0.9,0.78,0.922,0.91,0.892,0.902,0.914,0.894,0.888,0.834,0.886,0.898,0.924,0.91,0.894,0.92,0.89,0.886,0.906,0.9,0.914,0.91,0.916,0.902,0.924,0.944,0.948,0.89,0.938,0.932,0.862,0.918,0.882,0.936,0.858,0.916,0.898,0.922,0.926,0.924,0.932,0.884,0.92,0.924,0.88,0.906],\"type\":\"scatter\"},{\"mode\":\"lines\",\"name\":\"$n^* = 24000$\",\"x\":[249,499,749,999,1249,1499,1749,1999,2249,2499,2749,2999,3249,3499,3749,3999,4249,4499,4749,4999,5249,5499,5749,5999,6249,6499,6749,6999,7249,7499,7749,7999,8249,8499,8749,8999,9249,9499,9749,9999,10249,10499,10749,10999,11249,11499,11749,11999,12249,12499,12749,12999,13249,13499,13749,13999,14249,14499,14749,14999,15249,15499,15749,15999,16249,16499,16749,16999,17249,17499,17749,17999,18249,18499,18749,18999,19249,19499,19749,19999],\"y\":[-0.468,-0.25,-0.052,0.0,0.118,0.246,0.276,0.364,0.476,0.412,0.33,0.436,0.576,0.504,0.682,0.656,0.668,0.686,0.7,0.646,0.544,0.726,0.604,0.742,0.79,0.732,0.658,0.81,0.814,0.854,0.814,0.878,0.874,0.864,0.906,0.814,0.854,0.916,0.878,0.86,0.912,0.858,0.852,0.822,0.852,0.898,0.872,0.894,0.878,0.938,0.89,0.838,0.886,0.862,0.878,0.884,0.852,0.904,0.84,0.938,0.944,0.936,0.932,0.918,0.886,0.936,0.912,0.87,0.91,0.9,0.862,0.894,0.906,0.956,0.928,0.95,0.884,0.924,0.932,0.928],\"type\":\"scatter\"},{\"mode\":\"lines\",\"name\":\"$n^* = 28000$\",\"x\":[249,499,749,999,1249,1499,1749,1999,2249,2499,2749,2999,3249,3499,3749,3999,4249,4499,4749,4999,5249,5499,5749,5999,6249,6499,6749,6999,7249,7499,7749,7999,8249,8499,8749,8999,9249,9499,9749,9999,10249,10499,10749,10999,11249,11499,11749,11999,12249,12499,12749,12999,13249,13499,13749,13999,14249,14499,14749,14999,15249,15499,15749,15999,16249,16499,16749,16999,17249,17499,17749,17999,18249,18499,18749,18999,19249,19499,19749,19999],\"y\":[-0.414,-0.022,-0.208,0.02,0.266,0.32,0.396,0.428,0.408,0.564,0.516,0.602,0.536,0.564,0.638,0.52,0.666,0.638,0.66,0.628,0.704,0.696,0.734,0.79,0.766,0.774,0.832,0.828,0.79,0.752,0.76,0.76,0.756,0.822,0.73,0.858,0.828,0.832,0.846,0.794,0.828,0.868,0.878,0.844,0.886,0.86,0.898,0.868,0.894,0.916,0.816,0.824,0.84,0.894,0.91,0.836,0.856,0.878,0.902,0.904,0.896,0.878,0.842,0.896,0.868,0.898,0.946,0.934,0.92,0.9,0.882,0.896,0.9,0.926,0.91,0.916,0.916,0.892,0.93,0.848],\"type\":\"scatter\"},{\"mode\":\"lines\",\"name\":\"$n^* = 32000$\",\"x\":[249,499,749,999,1249,1499,1749,1999,2249,2499,2749,2999,3249,3499,3749,3999,4249,4499,4749,4999,5249,5499,5749,5999,6249,6499,6749,6999,7249,7499,7749,7999,8249,8499,8749,8999,9249,9499,9749,9999,10249,10499,10749,10999,11249,11499,11749,11999,12249,12499,12749,12999,13249,13499,13749,13999,14249,14499,14749,14999,15249,15499,15749,15999,16249,16499,16749,16999,17249,17499,17749,17999,18249,18499,18749,18999,19249,19499,19749,19999],\"y\":[-0.368,-0.138,-0.228,0.08,0.092,0.036,0.358,0.302,0.42,0.554,0.582,0.592,0.64,0.594,0.56,0.632,0.56,0.688,0.658,0.706,0.798,0.76,0.704,0.638,0.802,0.814,0.742,0.774,0.74,0.682,0.742,0.712,0.736,0.706,0.682,0.718,0.804,0.872,0.792,0.83,0.834,0.822,0.848,0.832,0.874,0.832,0.854,0.782,0.858,0.842,0.734,0.81,0.812,0.876,0.88,0.898,0.89,0.906,0.918,0.82,0.874,0.864,0.908,0.862,0.884,0.824,0.88,0.85,0.844,0.89,0.844,0.898,0.884,0.91,0.902,0.906,0.912,0.9,0.89,0.92],\"type\":\"scatter\"},{\"mode\":\"lines\",\"name\":\"$n^* = 36000$\",\"x\":[249,499,749,999,1249,1499,1749,1999,2249,2499,2749,2999,3249,3499,3749,3999,4249,4499,4749,4999,5249,5499,5749,5999,6249,6499,6749,6999,7249,7499,7749,7999,8249,8499,8749,8999,9249,9499,9749,9999,10249,10499,10749,10999,11249,11499,11749,11999,12249,12499,12749,12999,13249,13499,13749,13999,14249,14499,14749,14999,15249,15499,15749,15999,16249,16499,16749,16999,17249,17499,17749,17999,18249,18499,18749,18999,19249,19499,19749,19999],\"y\":[-0.68,-0.164,0.212,0.106,-0.338,0.192,0.468,0.462,0.466,0.568,0.702,0.604,0.63,0.618,0.668,0.654,0.602,0.56,0.752,0.688,0.71,0.732,0.728,0.786,0.808,0.762,0.73,0.7,0.702,0.766,0.788,0.828,0.814,0.81,0.784,0.832,0.788,0.782,0.79,0.806,0.86,0.834,0.906,0.888,0.872,0.862,0.846,0.866,0.862,0.904,0.886,0.864,0.9,0.862,0.882,0.844,0.88,0.864,0.888,0.882,0.886,0.908,0.92,0.87,0.832,0.874,0.904,0.93,0.852,0.888,0.862,0.864,0.888,0.9,0.844,0.892,0.92,0.894,0.898,0.924],\"type\":\"scatter\"},{\"mode\":\"lines\",\"name\":\"$n^* = 40000$\",\"x\":[249,499,749,999,1249,1499,1749,1999,2249,2499,2749,2999,3249,3499,3749,3999,4249,4499,4749,4999,5249,5499,5749,5999,6249,6499,6749,6999,7249,7499,7749,7999,8249,8499,8749,8999,9249,9499,9749,9999,10249,10499,10749,10999,11249,11499,11749,11999,12249,12499,12749,12999,13249,13499,13749,13999,14249,14499,14749,14999,15249,15499,15749,15999,16249,16499,16749,16999,17249,17499,17749,17999,18249,18499,18749,18999,19249,19499,19749,19999],\"y\":[-0.468,0.098,0.0,0.064,-0.132,0.36,0.306,0.272,0.464,0.618,0.504,0.636,0.596,0.568,0.582,0.57,0.572,0.662,0.746,0.68,0.724,0.832,0.658,0.676,0.76,0.73,0.834,0.704,0.78,0.816,0.876,0.774,0.884,0.714,0.766,0.858,0.784,0.85,0.786,0.852,0.822,0.846,0.814,0.756,0.766,0.812,0.85,0.842,0.804,0.828,0.814,0.862,0.854,0.896,0.87,0.788,0.86,0.822,0.866,0.85,0.828,0.882,0.816,0.876,0.862,0.89,0.892,0.894,0.842,0.89,0.874,0.882,0.896,0.868,0.866,0.914,0.838,0.792,0.856,0.892],\"type\":\"scatter\"}],                        {\"template\":{\"data\":{\"histogram2dcontour\":[{\"type\":\"histogram2dcontour\",\"colorbar\":{\"outlinewidth\":0,\"ticks\":\"\"},\"colorscale\":[[0.0,\"#0d0887\"],[0.1111111111111111,\"#46039f\"],[0.2222222222222222,\"#7201a8\"],[0.3333333333333333,\"#9c179e\"],[0.4444444444444444,\"#bd3786\"],[0.5555555555555556,\"#d8576b\"],[0.6666666666666666,\"#ed7953\"],[0.7777777777777778,\"#fb9f3a\"],[0.8888888888888888,\"#fdca26\"],[1.0,\"#f0f921\"]]}],\"choropleth\":[{\"type\":\"choropleth\",\"colorbar\":{\"outlinewidth\":0,\"ticks\":\"\"}}],\"histogram2d\":[{\"type\":\"histogram2d\",\"colorbar\":{\"outlinewidth\":0,\"ticks\":\"\"},\"colorscale\":[[0.0,\"#0d0887\"],[0.1111111111111111,\"#46039f\"],[0.2222222222222222,\"#7201a8\"],[0.3333333333333333,\"#9c179e\"],[0.4444444444444444,\"#bd3786\"],[0.5555555555555556,\"#d8576b\"],[0.6666666666666666,\"#ed7953\"],[0.7777777777777778,\"#fb9f3a\"],[0.8888888888888888,\"#fdca26\"],[1.0,\"#f0f921\"]]}],\"heatmap\":[{\"type\":\"heatmap\",\"colorbar\":{\"outlinewidth\":0,\"ticks\":\"\"},\"colorscale\":[[0.0,\"#0d0887\"],[0.1111111111111111,\"#46039f\"],[0.2222222222222222,\"#7201a8\"],[0.3333333333333333,\"#9c179e\"],[0.4444444444444444,\"#bd3786\"],[0.5555555555555556,\"#d8576b\"],[0.6666666666666666,\"#ed7953\"],[0.7777777777777778,\"#fb9f3a\"],[0.8888888888888888,\"#fdca26\"],[1.0,\"#f0f921\"]]}],\"heatmapgl\":[{\"type\":\"heatmapgl\",\"colorbar\":{\"outlinewidth\":0,\"ticks\":\"\"},\"colorscale\":[[0.0,\"#0d0887\"],[0.1111111111111111,\"#46039f\"],[0.2222222222222222,\"#7201a8\"],[0.3333333333333333,\"#9c179e\"],[0.4444444444444444,\"#bd3786\"],[0.5555555555555556,\"#d8576b\"],[0.6666666666666666,\"#ed7953\"],[0.7777777777777778,\"#fb9f3a\"],[0.8888888888888888,\"#fdca26\"],[1.0,\"#f0f921\"]]}],\"contourcarpet\":[{\"type\":\"contourcarpet\",\"colorbar\":{\"outlinewidth\":0,\"ticks\":\"\"}}],\"contour\":[{\"type\":\"contour\",\"colorbar\":{\"outlinewidth\":0,\"ticks\":\"\"},\"colorscale\":[[0.0,\"#0d0887\"],[0.1111111111111111,\"#46039f\"],[0.2222222222222222,\"#7201a8\"],[0.3333333333333333,\"#9c179e\"],[0.4444444444444444,\"#bd3786\"],[0.5555555555555556,\"#d8576b\"],[0.6666666666666666,\"#ed7953\"],[0.7777777777777778,\"#fb9f3a\"],[0.8888888888888888,\"#fdca26\"],[1.0,\"#f0f921\"]]}],\"surface\":[{\"type\":\"surface\",\"colorbar\":{\"outlinewidth\":0,\"ticks\":\"\"},\"colorscale\":[[0.0,\"#0d0887\"],[0.1111111111111111,\"#46039f\"],[0.2222222222222222,\"#7201a8\"],[0.3333333333333333,\"#9c179e\"],[0.4444444444444444,\"#bd3786\"],[0.5555555555555556,\"#d8576b\"],[0.6666666666666666,\"#ed7953\"],[0.7777777777777778,\"#fb9f3a\"],[0.8888888888888888,\"#fdca26\"],[1.0,\"#f0f921\"]]}],\"mesh3d\":[{\"type\":\"mesh3d\",\"colorbar\":{\"outlinewidth\":0,\"ticks\":\"\"}}],\"scatter\":[{\"fillpattern\":{\"fillmode\":\"overlay\",\"size\":10,\"solidity\":0.2},\"type\":\"scatter\"}],\"parcoords\":[{\"type\":\"parcoords\",\"line\":{\"colorbar\":{\"outlinewidth\":0,\"ticks\":\"\"}}}],\"scatterpolargl\":[{\"type\":\"scatterpolargl\",\"marker\":{\"colorbar\":{\"outlinewidth\":0,\"ticks\":\"\"}}}],\"bar\":[{\"error_x\":{\"color\":\"#2a3f5f\"},\"error_y\":{\"color\":\"#2a3f5f\"},\"marker\":{\"line\":{\"color\":\"#E5ECF6\",\"width\":0.5},\"pattern\":{\"fillmode\":\"overlay\",\"size\":10,\"solidity\":0.2}},\"type\":\"bar\"}],\"scattergeo\":[{\"type\":\"scattergeo\",\"marker\":{\"colorbar\":{\"outlinewidth\":0,\"ticks\":\"\"}}}],\"scatterpolar\":[{\"type\":\"scatterpolar\",\"marker\":{\"colorbar\":{\"outlinewidth\":0,\"ticks\":\"\"}}}],\"histogram\":[{\"marker\":{\"pattern\":{\"fillmode\":\"overlay\",\"size\":10,\"solidity\":0.2}},\"type\":\"histogram\"}],\"scattergl\":[{\"type\":\"scattergl\",\"marker\":{\"colorbar\":{\"outlinewidth\":0,\"ticks\":\"\"}}}],\"scatter3d\":[{\"type\":\"scatter3d\",\"line\":{\"colorbar\":{\"outlinewidth\":0,\"ticks\":\"\"}},\"marker\":{\"colorbar\":{\"outlinewidth\":0,\"ticks\":\"\"}}}],\"scattermapbox\":[{\"type\":\"scattermapbox\",\"marker\":{\"colorbar\":{\"outlinewidth\":0,\"ticks\":\"\"}}}],\"scatterternary\":[{\"type\":\"scatterternary\",\"marker\":{\"colorbar\":{\"outlinewidth\":0,\"ticks\":\"\"}}}],\"scattercarpet\":[{\"type\":\"scattercarpet\",\"marker\":{\"colorbar\":{\"outlinewidth\":0,\"ticks\":\"\"}}}],\"carpet\":[{\"aaxis\":{\"endlinecolor\":\"#2a3f5f\",\"gridcolor\":\"white\",\"linecolor\":\"white\",\"minorgridcolor\":\"white\",\"startlinecolor\":\"#2a3f5f\"},\"baxis\":{\"endlinecolor\":\"#2a3f5f\",\"gridcolor\":\"white\",\"linecolor\":\"white\",\"minorgridcolor\":\"white\",\"startlinecolor\":\"#2a3f5f\"},\"type\":\"carpet\"}],\"table\":[{\"cells\":{\"fill\":{\"color\":\"#EBF0F8\"},\"line\":{\"color\":\"white\"}},\"header\":{\"fill\":{\"color\":\"#C8D4E3\"},\"line\":{\"color\":\"white\"}},\"type\":\"table\"}],\"barpolar\":[{\"marker\":{\"line\":{\"color\":\"#E5ECF6\",\"width\":0.5},\"pattern\":{\"fillmode\":\"overlay\",\"size\":10,\"solidity\":0.2}},\"type\":\"barpolar\"}],\"pie\":[{\"automargin\":true,\"type\":\"pie\"}]},\"layout\":{\"autotypenumbers\":\"strict\",\"colorway\":[\"#636efa\",\"#EF553B\",\"#00cc96\",\"#ab63fa\",\"#FFA15A\",\"#19d3f3\",\"#FF6692\",\"#B6E880\",\"#FF97FF\",\"#FECB52\"],\"font\":{\"color\":\"#2a3f5f\"},\"hovermode\":\"closest\",\"hoverlabel\":{\"align\":\"left\"},\"paper_bgcolor\":\"white\",\"plot_bgcolor\":\"#E5ECF6\",\"polar\":{\"bgcolor\":\"#E5ECF6\",\"angularaxis\":{\"gridcolor\":\"white\",\"linecolor\":\"white\",\"ticks\":\"\"},\"radialaxis\":{\"gridcolor\":\"white\",\"linecolor\":\"white\",\"ticks\":\"\"}},\"ternary\":{\"bgcolor\":\"#E5ECF6\",\"aaxis\":{\"gridcolor\":\"white\",\"linecolor\":\"white\",\"ticks\":\"\"},\"baxis\":{\"gridcolor\":\"white\",\"linecolor\":\"white\",\"ticks\":\"\"},\"caxis\":{\"gridcolor\":\"white\",\"linecolor\":\"white\",\"ticks\":\"\"}},\"coloraxis\":{\"colorbar\":{\"outlinewidth\":0,\"ticks\":\"\"}},\"colorscale\":{\"sequential\":[[0.0,\"#0d0887\"],[0.1111111111111111,\"#46039f\"],[0.2222222222222222,\"#7201a8\"],[0.3333333333333333,\"#9c179e\"],[0.4444444444444444,\"#bd3786\"],[0.5555555555555556,\"#d8576b\"],[0.6666666666666666,\"#ed7953\"],[0.7777777777777778,\"#fb9f3a\"],[0.8888888888888888,\"#fdca26\"],[1.0,\"#f0f921\"]],\"sequentialminus\":[[0.0,\"#0d0887\"],[0.1111111111111111,\"#46039f\"],[0.2222222222222222,\"#7201a8\"],[0.3333333333333333,\"#9c179e\"],[0.4444444444444444,\"#bd3786\"],[0.5555555555555556,\"#d8576b\"],[0.6666666666666666,\"#ed7953\"],[0.7777777777777778,\"#fb9f3a\"],[0.8888888888888888,\"#fdca26\"],[1.0,\"#f0f921\"]],\"diverging\":[[0,\"#8e0152\"],[0.1,\"#c51b7d\"],[0.2,\"#de77ae\"],[0.3,\"#f1b6da\"],[0.4,\"#fde0ef\"],[0.5,\"#f7f7f7\"],[0.6,\"#e6f5d0\"],[0.7,\"#b8e186\"],[0.8,\"#7fbc41\"],[0.9,\"#4d9221\"],[1,\"#276419\"]]},\"xaxis\":{\"gridcolor\":\"white\",\"linecolor\":\"white\",\"ticks\":\"\",\"title\":{\"standoff\":15},\"zerolinecolor\":\"white\",\"automargin\":true,\"zerolinewidth\":2},\"yaxis\":{\"gridcolor\":\"white\",\"linecolor\":\"white\",\"ticks\":\"\",\"title\":{\"standoff\":15},\"zerolinecolor\":\"white\",\"automargin\":true,\"zerolinewidth\":2},\"scene\":{\"xaxis\":{\"backgroundcolor\":\"#E5ECF6\",\"gridcolor\":\"white\",\"linecolor\":\"white\",\"showbackground\":true,\"ticks\":\"\",\"zerolinecolor\":\"white\",\"gridwidth\":2},\"yaxis\":{\"backgroundcolor\":\"#E5ECF6\",\"gridcolor\":\"white\",\"linecolor\":\"white\",\"showbackground\":true,\"ticks\":\"\",\"zerolinecolor\":\"white\",\"gridwidth\":2},\"zaxis\":{\"backgroundcolor\":\"#E5ECF6\",\"gridcolor\":\"white\",\"linecolor\":\"white\",\"showbackground\":true,\"ticks\":\"\",\"zerolinecolor\":\"white\",\"gridwidth\":2}},\"shapedefaults\":{\"line\":{\"color\":\"#2a3f5f\"}},\"annotationdefaults\":{\"arrowcolor\":\"#2a3f5f\",\"arrowhead\":0,\"arrowwidth\":1},\"geo\":{\"bgcolor\":\"white\",\"landcolor\":\"#E5ECF6\",\"subunitcolor\":\"white\",\"showland\":true,\"showlakes\":true,\"lakecolor\":\"white\"},\"title\":{\"x\":0.05},\"mapbox\":{\"style\":\"light\"}}},\"title\":{\"text\":\"$M_{rand}\\\\text{ for every 250 games for different values of }n^{\\u2217}$\"},\"xaxis\":{\"title\":{\"text\":\"$game$\"}},\"yaxis\":{\"title\":{\"text\":\"$M_{rand}$\"}},\"width\":1200,\"height\":400},                        {\"responsive\": true}                    ).then(function(){\n                            \nvar gd = document.getElementById('716652d6-598c-43ee-933c-1346269d66e8');\nvar x = new MutationObserver(function (mutations, observer) {{\n        var display = window.getComputedStyle(gd).display;\n        if (!display || display === 'none') {{\n            console.log([gd, 'removed!']);\n            Plotly.purge(gd);\n            observer.disconnect();\n        }}\n}});\n\n// Listen for the removal of the full notebook cells\nvar notebookContainer = gd.closest('#notebook-container');\nif (notebookContainer) {{\n    x.observe(notebookContainer, {childList: true});\n}}\n\n// Listen for the clearing of the current output cell\nvar outputEl = gd.closest('.output');\nif (outputEl) {{\n    x.observe(outputEl, {childList: true});\n}}\n\n                        })                };                });            </script>        </div>"
     },
     "metadata": {},
     "output_type": "display_data"
    }
   ],
   "source": [
    "fig = go.Figure()\n",
    "\n",
    "for i, y_i in enumerate(n_star_M_rands):\n",
    "    fig.add_trace(go.Scatter(x=x, y=y_i, mode='lines',name=r'$n^* = %d$' % n_star_list[i]))\n",
    "\n",
    "fig.update_layout(\n",
    "    title=r'$M_{rand}\\text{ for every %d games for different values of }n^{∗}$' % averaging_steps,\n",
    "    xaxis_title=r'$game$',\n",
    "    yaxis_title=r'$M_{rand}$',\n",
    "    width=1200, height=400\n",
    ")\n",
    "\n",
    "fig.show()"
   ],
   "metadata": {
    "collapsed": false,
    "pycharm": {
     "name": "#%%\n"
    }
   }
  }
 ],
 "metadata": {
  "kernelspec": {
   "display_name": "Python 3",
   "language": "python",
   "name": "python3"
  },
  "language_info": {
   "codemirror_mode": {
    "name": "ipython",
    "version": 2
   },
   "file_extension": ".py",
   "mimetype": "text/x-python",
   "name": "python",
   "nbconvert_exporter": "python",
   "pygments_lexer": "ipython2",
   "version": "2.7.6"
  }
 },
 "nbformat": 4,
 "nbformat_minor": 0
}